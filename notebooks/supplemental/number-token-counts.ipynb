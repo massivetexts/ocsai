{
 "cells": [
  {
   "cell_type": "markdown",
   "metadata": {},
   "source": [
    "This document confirms that for for the GPT tokenizer, numbers of the same *real* digit count have the same token count. E.g. all 1, 2, 3-digit numbers have a single token, all 4,5,6-digit numbers are two token numbers, etc."
   ]
  },
  {
   "cell_type": "code",
   "execution_count": null,
   "metadata": {},
   "outputs": [],
   "source": [
    "!pip install tiktoken"
   ]
  },
  {
   "cell_type": "code",
   "execution_count": 9,
   "metadata": {},
   "outputs": [
    {
     "data": {
      "text/plain": [
       "[13225, 11, 2375, 0]"
      ]
     },
     "execution_count": 9,
     "metadata": {},
     "output_type": "execute_result"
    }
   ],
   "source": [
    "import tiktoken\n",
    "import pandas as pd\n",
    "enc = tiktoken.encoding_for_model(\"gpt-4o\")\n",
    "enc.encode(\"Hello, world!\")"
   ]
  },
  {
   "cell_type": "code",
   "execution_count": 8,
   "metadata": {},
   "outputs": [
    {
     "data": {
      "text/plain": [
       "(6, 2)    900000\n",
       "(5, 2)     90000\n",
       "(4, 2)      9000\n",
       "(3, 1)       900\n",
       "(2, 1)        90\n",
       "(1, 1)        10\n",
       "Name: count, dtype: int64"
      ]
     },
     "execution_count": 8,
     "metadata": {},
     "output_type": "execute_result"
    }
   ],
   "source": [
    "strlen_tokenlen_collector = []\n",
    "for i in range(1000000):\n",
    "    str_i = str(i)\n",
    "    tokens = enc.encode(str_i)\n",
    "    strlen_tokenlen_collector.append((len(str_i), len(tokens)))\n",
    "pd.Series(strlen_tokenlen_collector).value_counts()"
   ]
  }
 ],
 "metadata": {
  "kernelspec": {
   "display_name": "base",
   "language": "python",
   "name": "python3"
  },
  "language_info": {
   "codemirror_mode": {
    "name": "ipython",
    "version": 3
   },
   "file_extension": ".py",
   "mimetype": "text/x-python",
   "name": "python",
   "nbconvert_exporter": "python",
   "pygments_lexer": "ipython3",
   "version": "3.11.8"
  }
 },
 "nbformat": 4,
 "nbformat_minor": 2
}
