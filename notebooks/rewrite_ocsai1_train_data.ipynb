{
 "cells": [
  {
   "cell_type": "markdown",
   "metadata": {},
   "source": [
    "Rewrite training data from original LLM study (Organisciak et al. 2023) to OpenAI chat format, for an exact comparison."
   ]
  },
  {
   "cell_type": "code",
   "execution_count": 2,
   "metadata": {},
   "outputs": [],
   "source": [
    "from pathlib import Path\n",
    "import json"
   ]
  },
  {
   "cell_type": "code",
   "execution_count": 10,
   "metadata": {},
   "outputs": [
    {
     "name": "stdout",
     "output_type": "stream",
     "text": [
      "../data/ocsai1/finetune-gt_main2_prepared_train.jsonl ../data/ocsai1/finetune-gt_main2_prepared_val.jsonl\n"
     ]
    }
   ],
   "source": [
    "trainpath = Path('../data/ocsai1/finetune-gt_main2_prepared_train.jsonl')\n",
    "valpath = Path('../data/ocsai1/finetune-gt_main2_prepared_val.jsonl')\n",
    "print(trainpath, valpath)"
   ]
  },
  {
   "cell_type": "markdown",
   "metadata": {},
   "source": [
    "Convert format from \n",
    "\n",
    "`{'prompt': 'AUT Prompt:hat\\nResponse:Use it as a kite in the air\\nScore:\\n',\n",
    "  'completion': ' 39'}`\n",
    "\n",
    "to\n",
    "\n",
    "`{\"messages\": [{\"role\": \"system\", \"content\": \"You score originality in the alternate uses task.\"}, {\"role\": \"user\", \"content\": \"AUT Prompt:hat\\nResponse:Use it as a kite in the air\"}, {\"role\": \"assistant\", \"content\": \"39\"}]}`"
   ]
  },
  {
   "cell_type": "code",
   "execution_count": 6,
   "metadata": {},
   "outputs": [],
   "source": [
    "def rewrite_legacy_to_chat(path):\n",
    "    outpath = path.parent / (path.stem+'_chat.jsonl')\n",
    "    with open(path) as f:\n",
    "        train = [json.loads(line) for line in f]\n",
    "\n",
    "    with open(outpath, mode='w') as f:\n",
    "        for i, line in enumerate(train):\n",
    "            msgs = {\"messages\": [\n",
    "                    {\"role\": \"system\", \"content\": \"You score originality in the alternate uses task.\"},\n",
    "                    {\"role\": \"user\", \"content\": line['prompt'].split('\\nScore:')[0] },\n",
    "                    {\"role\": \"assistant\", \"content\": line['completion'].strip()}\n",
    "                    ]\n",
    "                }\n",
    "            f.write(json.dumps(msgs))\n",
    "            if i < len(train)-1:\n",
    "                f.write('\\n')\n",
    "rewrite_legacy_to_chat(trainpath)\n",
    "rewrite_legacy_to_chat(valpath)"
   ]
  },
  {
   "cell_type": "markdown",
   "metadata": {},
   "source": [
    "### Compare sizes\n",
    "\n",
    "To get a sense of cost for Replicate, compare the train size to the ABC Notation dataset. (https://replicate.com/docs/guides/fine-tune-a-language-model)"
   ]
  },
  {
   "cell_type": "code",
   "execution_count": 22,
   "metadata": {},
   "outputs": [
    {
     "name": "stdout",
     "output_type": "stream",
     "text": [
      "proportion of examples 0.080405\n",
      "proportion of chars 0.017347935290594346\n"
     ]
    }
   ],
   "source": [
    "with open(trainpath) as f:\n",
    "    train = [json.loads(line) for line in f]\n",
    "\n",
    "with open('/Users/peter.organisciak/Downloads/massive_abcnotation_dataset.jsonl') as f:\n",
    "    abc = [json.loads(line) for line in f]\n",
    "\n",
    "print(\"proportion of examples\", len(train)/len(abc))\n",
    "\n",
    "train_chars = sum([len(ex['prompt']+ex['completion']) for ex in train])\n",
    "abc_chars = sum([len(ex['prompt']+ex['completion']) for ex in abc])\n",
    "print(\"proportion of chars\", train_chars / abc_chars)"
   ]
  }
 ],
 "metadata": {
  "kernelspec": {
   "display_name": "base",
   "language": "python",
   "name": "python3"
  },
  "language_info": {
   "codemirror_mode": {
    "name": "ipython",
    "version": 3
   },
   "file_extension": ".py",
   "mimetype": "text/x-python",
   "name": "python",
   "nbconvert_exporter": "python",
   "pygments_lexer": "ipython3",
   "version": "3.9.18"
  }
 },
 "nbformat": 4,
 "nbformat_minor": 2
}
