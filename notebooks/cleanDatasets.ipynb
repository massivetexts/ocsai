{
  "cells": [
    {
      "cell_type": "markdown",
      "metadata": {
        "id": "eXqu-c24fsZs"
      },
      "source": [
        "This notebook normalizes human judged ground truth from various originality and creativity scoring studies.\n",
        "\n",
        "This is an assortment of studies, with different demographics, goals, and test setups. It is most appropriate for supervised learning of automated scoring, where we're not necessarily trying to learn about the participants but about the *human judges* - how they interpret the originality scoring task in general."
      ]
    },
    {
      "cell_type": "code",
      "execution_count": 217,
      "metadata": {},
      "outputs": [
        {
          "name": "stdout",
          "output_type": "stream",
          "text": [
            "The autoreload extension is already loaded. To reload it, use:\n",
            "  %reload_ext autoreload\n"
          ]
        }
      ],
      "source": [
        "%load_ext autoreload\n",
        "%autoreload 2"
      ]
    },
    {
      "cell_type": "code",
      "execution_count": 218,
      "metadata": {},
      "outputs": [],
      "source": [
        "from ocsai.data import download_from_description, prep_general\n",
        "import pandas as pd"
      ]
    },
    {
      "cell_type": "markdown",
      "metadata": {},
      "source": [
        "## Dumas et al 2020"
      ]
    },
    {
      "cell_type": "code",
      "execution_count": 186,
      "metadata": {},
      "outputs": [
        {
          "data": {
            "text/markdown": [
              "### Loading *Dumas et al 2020*"
            ],
            "text/plain": [
              "<IPython.core.display.Markdown object>"
            ]
          },
          "metadata": {},
          "output_type": "display_data"
        },
        {
          "name": "stdout",
          "output_type": "stream",
          "text": [
            "Replacing !!! with NaN in response column\n"
          ]
        },
        {
          "data": {
            "text/markdown": [
              "- name: dod20\n",
              "- no_of_prompts: 10\n",
              "- no_of_participants: 92\n",
              "- no_of_data_points: 5490\n",
              "- prompts: ['book', 'bottle', 'brick', 'fork', 'pants', 'rope', 'shoe', 'shovel', 'table', 'tire']\n",
              "- ICC2k: 0.85\n",
              "- ICC2k_CI: 0.79-0.88\n",
              "- ICC3k: 0.87\n",
              "- rater_cols: ['rater1', 'rater2', 'rater3', 'rater4']\n",
              "- no_of_raters: 4\n"
            ],
            "text/plain": [
              "<IPython.core.display.Markdown object>"
            ]
          },
          "metadata": {},
          "output_type": "display_data"
        },
        {
          "name": "stderr",
          "output_type": "stream",
          "text": [
            "/Users/peter.organisciak/anaconda3/lib/python3.9/site-packages/pandas/io/sql.py:761: UserWarning: pandas only support SQLAlchemy connectable(engine/connection) ordatabase string URI or sqlite3 DBAPI2 connectionother DBAPI2 objects are not tested, please consider using SQLAlchemy\n",
            "  warnings.warn(\n"
          ]
        },
        {
          "data": {
            "text/html": [
              "<div>\n",
              "<style scoped>\n",
              "    .dataframe tbody tr th:only-of-type {\n",
              "        vertical-align: middle;\n",
              "    }\n",
              "\n",
              "    .dataframe tbody tr th {\n",
              "        vertical-align: top;\n",
              "    }\n",
              "\n",
              "    .dataframe thead th {\n",
              "        text-align: right;\n",
              "    }\n",
              "</style>\n",
              "<table border=\"1\" class=\"dataframe\">\n",
              "  <thead>\n",
              "    <tr style=\"text-align: right;\">\n",
              "      <th></th>\n",
              "      <th>type</th>\n",
              "      <th>src</th>\n",
              "      <th>question</th>\n",
              "      <th>prompt</th>\n",
              "      <th>response</th>\n",
              "      <th>id</th>\n",
              "      <th>target</th>\n",
              "      <th>participant</th>\n",
              "      <th>response_num</th>\n",
              "      <th>language</th>\n",
              "      <th>rater_count</th>\n",
              "      <th>rating_std</th>\n",
              "    </tr>\n",
              "  </thead>\n",
              "  <tbody>\n",
              "    <tr>\n",
              "      <th>743</th>\n",
              "      <td>uses</td>\n",
              "      <td>dod20</td>\n",
              "      <td>What is a surprising use for BOTTLE?</td>\n",
              "      <td>bottle</td>\n",
              "      <td>vase</td>\n",
              "      <td>dod20_bottle-8db151</td>\n",
              "      <td>2.50000</td>\n",
              "      <td>dod2081</td>\n",
              "      <td>6</td>\n",
              "      <td>eng</td>\n",
              "      <td>4</td>\n",
              "      <td>0.577350</td>\n",
              "    </tr>\n",
              "    <tr>\n",
              "      <th>1133</th>\n",
              "      <td>uses</td>\n",
              "      <td>dod20</td>\n",
              "      <td>What is a surprising use for ROPE?</td>\n",
              "      <td>rope</td>\n",
              "      <td>hanging a swing. use old rope for hanging tree...</td>\n",
              "      <td>dod20_rope-bb9f17</td>\n",
              "      <td>2.75025</td>\n",
              "      <td>dod2010</td>\n",
              "      <td>0</td>\n",
              "      <td>eng</td>\n",
              "      <td>4</td>\n",
              "      <td>1.258306</td>\n",
              "    </tr>\n",
              "  </tbody>\n",
              "</table>\n",
              "</div>"
            ],
            "text/plain": [
              "      type    src                              question  prompt  \\\n",
              "743   uses  dod20  What is a surprising use for BOTTLE?  bottle   \n",
              "1133  uses  dod20    What is a surprising use for ROPE?    rope   \n",
              "\n",
              "                                               response                   id  \\\n",
              "743                                                vase  dod20_bottle-8db151   \n",
              "1133  hanging a swing. use old rope for hanging tree...    dod20_rope-bb9f17   \n",
              "\n",
              "       target participant  response_num language  rater_count  rating_std  \n",
              "743   2.50000     dod2081             6      eng            4    0.577350  \n",
              "1133  2.75025     dod2010             0      eng            4    1.258306  "
            ]
          },
          "execution_count": 186,
          "metadata": {},
          "output_type": "execute_result"
        }
      ],
      "source": [
        "desc = {\n",
        "    \"name\": \"dod20\",\n",
        "    \"test_type\": \"uses\",\n",
        "    \"meta\": {\n",
        "        \"inline\": \"Dumas et al 2020\",\n",
        "        \"download\": {\"url\": \"https://osf.io/download/u3yv4/\", \"extension\": \"csv\"}\n",
        "    },\n",
        "    \"null_marker\": \"!!!\",\n",
        "    \"column_mappings\": {},\n",
        "    \"range\": [1, 5],\n",
        "    \"language\": \"eng\",\n",
        "}\n",
        "\n",
        "fname = download_from_description(desc, '../data/raw')\n",
        "df = pd.read_csv(fname[0], index_col=0)\n",
        "cleaned = prep_general(df, **desc, save_dir='../data/datasets')\n",
        "cleaned.sample(2)"
      ]
    },
    {
      "cell_type": "markdown",
      "metadata": {},
      "source": [
        "## Silvia et al 2009"
      ]
    },
    {
      "cell_type": "code",
      "execution_count": 187,
      "metadata": {},
      "outputs": [
        {
          "data": {
            "text/markdown": [
              "### Loading *Silvia et al. 2009*"
            ],
            "text/plain": [
              "<IPython.core.display.Markdown object>"
            ]
          },
          "metadata": {},
          "output_type": "display_data"
        },
        {
          "data": {
            "text/markdown": [
              "Silvia, P. J., Nusbaum, E. C., Berg, C., Martin, C., & O'Connor, A. (2009). Openness to experience, plasticity, and creativity: Exploring lower-order, high-order, and interactive effects. Journal of Research in Personality, 43(6), 1087–1090. https://doi.org/10.1016/j.jrp.2009.04.015"
            ],
            "text/plain": [
              "<IPython.core.display.Markdown object>"
            ]
          },
          "metadata": {},
          "output_type": "display_data"
        },
        {
          "data": {
            "text/markdown": [
              "- Renaming columns {'subject': 'participant', 'response_order': 'response_num'}"
            ],
            "text/plain": [
              "<IPython.core.display.Markdown object>"
            ]
          },
          "metadata": {},
          "output_type": "display_data"
        },
        {
          "name": "stdout",
          "output_type": "stream",
          "text": [
            "Dropping 10 unrated items\n"
          ]
        },
        {
          "data": {
            "text/markdown": [
              "- name: snbmo09\n",
              "- no_of_prompts: 3\n",
              "- no_of_participants: 202\n",
              "- no_of_data_points: 4099\n",
              "- prompts: ['brick', 'knife', 'box']\n",
              "- ICC2k: 0.69\n",
              "- ICC2k_CI: 0.57-0.77\n",
              "- ICC3k: 0.76\n",
              "- rater_cols: ['rater_1', 'rater_2', 'rater_3', 'rater_4']\n",
              "- no_of_raters: 4\n"
            ],
            "text/plain": [
              "<IPython.core.display.Markdown object>"
            ]
          },
          "metadata": {},
          "output_type": "display_data"
        },
        {
          "name": "stderr",
          "output_type": "stream",
          "text": [
            "/Users/peter.organisciak/anaconda3/lib/python3.9/site-packages/pandas/io/sql.py:761: UserWarning: pandas only support SQLAlchemy connectable(engine/connection) ordatabase string URI or sqlite3 DBAPI2 connectionother DBAPI2 objects are not tested, please consider using SQLAlchemy\n",
            "  warnings.warn(\n"
          ]
        },
        {
          "data": {
            "text/html": [
              "<div>\n",
              "<style scoped>\n",
              "    .dataframe tbody tr th:only-of-type {\n",
              "        vertical-align: middle;\n",
              "    }\n",
              "\n",
              "    .dataframe tbody tr th {\n",
              "        vertical-align: top;\n",
              "    }\n",
              "\n",
              "    .dataframe thead th {\n",
              "        text-align: right;\n",
              "    }\n",
              "</style>\n",
              "<table border=\"1\" class=\"dataframe\">\n",
              "  <thead>\n",
              "    <tr style=\"text-align: right;\">\n",
              "      <th></th>\n",
              "      <th>type</th>\n",
              "      <th>src</th>\n",
              "      <th>question</th>\n",
              "      <th>prompt</th>\n",
              "      <th>response</th>\n",
              "      <th>id</th>\n",
              "      <th>target</th>\n",
              "      <th>participant</th>\n",
              "      <th>response_num</th>\n",
              "      <th>language</th>\n",
              "      <th>rater_count</th>\n",
              "      <th>rating_std</th>\n",
              "    </tr>\n",
              "  </thead>\n",
              "  <tbody>\n",
              "    <tr>\n",
              "      <th>1553</th>\n",
              "      <td>uses</td>\n",
              "      <td>snbmo09</td>\n",
              "      <td>What is a surprising use for BOX?</td>\n",
              "      <td>box</td>\n",
              "      <td>hold food</td>\n",
              "      <td>snbmo09_3_box-f37fae</td>\n",
              "      <td>1.0</td>\n",
              "      <td>snbmo0974</td>\n",
              "      <td>14</td>\n",
              "      <td>eng</td>\n",
              "      <td>4</td>\n",
              "      <td>0.00000</td>\n",
              "    </tr>\n",
              "    <tr>\n",
              "      <th>3599</th>\n",
              "      <td>uses</td>\n",
              "      <td>snbmo09</td>\n",
              "      <td>What is a surprising use for BOX?</td>\n",
              "      <td>box</td>\n",
              "      <td>for a person to live in</td>\n",
              "      <td>snbmo09_3_box-52ab3b</td>\n",
              "      <td>1.5</td>\n",
              "      <td>snbmo09175</td>\n",
              "      <td>2</td>\n",
              "      <td>eng</td>\n",
              "      <td>4</td>\n",
              "      <td>0.57735</td>\n",
              "    </tr>\n",
              "  </tbody>\n",
              "</table>\n",
              "</div>"
            ],
            "text/plain": [
              "      type      src                           question prompt  \\\n",
              "1553  uses  snbmo09  What is a surprising use for BOX?    box   \n",
              "3599  uses  snbmo09  What is a surprising use for BOX?    box   \n",
              "\n",
              "                     response                    id  target participant  \\\n",
              "1553                hold food  snbmo09_3_box-f37fae     1.0   snbmo0974   \n",
              "3599  for a person to live in  snbmo09_3_box-52ab3b     1.5  snbmo09175   \n",
              "\n",
              "      response_num language  rater_count  rating_std  \n",
              "1553            14      eng            4     0.00000  \n",
              "3599             2      eng            4     0.57735  "
            ]
          },
          "execution_count": 187,
          "metadata": {},
          "output_type": "execute_result"
        }
      ],
      "source": [
        "desc = {\n",
        "    \"name\": \"snbmo09\",\n",
        "    \"test_type\": \"uses\",\n",
        "    \"meta\": {\n",
        "        \"inline\": \"Silvia et al. 2009\",\n",
        "        \"citation\": \"Silvia, P. J., Nusbaum, E. C., Berg, C., Martin, C., & O'Connor, A. (2009). Openness to experience, plasticity, and creativity: Exploring lower-order, high-order, and interactive effects. Journal of Research in Personality, 43(6), 1087–1090. https://doi.org/10.1016/j.jrp.2009.04.015\",\n",
        "        \"download\": {\"url\": \"https://osf.io/download/qdrv8/\", \"ext\": \"csv\"}\n",
        "    },\n",
        "    \"column_mappings\": {\n",
        "        \"subject\":\"participant\",\n",
        "        \"response_order\":\"response_num\"\n",
        "        },\n",
        "    \"range\": [1, 5],\n",
        "    \"language\": \"eng\",\n",
        "}\n",
        "fname = download_from_description(desc, '../data/raw')\n",
        "df = pd.read_csv(fname[0])\n",
        "df['prompt'] = df.task.apply(lambda x: x.split('_')[-1])\n",
        "cleaned = prep_general(df, **desc, save_dir='../data/datasets')\n",
        "cleaned.sample(2)"
      ]
    },
    {
      "cell_type": "markdown",
      "metadata": {
        "id": "jn8ziOcamzaH"
      },
      "source": [
        "## Hass 2017\n",
        "\n",
        "This study looked at uses for *bottle* and *brick*. There were 54 participants after data cleaning.\n",
        "\n",
        "Rating was on a 5-point scale. For verification, their reported inter-rater reliability was ICC2k was 0.80 for brick and 0.78 for bottle, which is about what we see below.\n",
        "\n",
        "The rating data was stoplisted, so I need to reconstruct the original responses here."
      ]
    },
    {
      "cell_type": "code",
      "execution_count": 188,
      "metadata": {},
      "outputs": [
        {
          "name": "stderr",
          "output_type": "stream",
          "text": [
            "[nltk_data] Downloading package punkt to\n",
            "[nltk_data]     /Users/peter.organisciak/nltk_data...\n",
            "[nltk_data]   Package punkt is already up-to-date!\n",
            "[nltk_data] Downloading package stopwords to\n",
            "[nltk_data]     /Users/peter.organisciak/nltk_data...\n",
            "[nltk_data]   Package stopwords is already up-to-date!\n"
          ]
        },
        {
          "data": {
            "text/markdown": [
              "### Loading *Hass 2017*"
            ],
            "text/plain": [
              "<IPython.core.display.Markdown object>"
            ]
          },
          "metadata": {},
          "output_type": "display_data"
        },
        {
          "data": {
            "text/markdown": [
              "Hass, R. W. (2017). Semantic search during divergent thinking. Cognition, 166, 344–357. https://doi.org/10.1016/j.cognition.2017.05.039"
            ],
            "text/plain": [
              "<IPython.core.display.Markdown object>"
            ]
          },
          "metadata": {},
          "output_type": "display_data"
        },
        {
          "data": {
            "text/markdown": [
              "- Renaming columns {'subject': 'participant', 'response_order': 'response_num'}"
            ],
            "text/plain": [
              "<IPython.core.display.Markdown object>"
            ]
          },
          "metadata": {},
          "output_type": "display_data"
        },
        {
          "data": {
            "text/markdown": [
              "- name: hass17\n",
              "- no_of_prompts: 2\n",
              "- no_of_participants: 57\n",
              "- no_of_data_points: 1093\n",
              "- prompts: ['bottle', 'brick']\n",
              "- ICC2k: 0.79\n",
              "- ICC2k_CI: 0.75-0.82\n",
              "- ICC3k: 0.8\n",
              "- rater_cols: ['r1', 'r2', 'r3']\n",
              "- no_of_raters: 3\n"
            ],
            "text/plain": [
              "<IPython.core.display.Markdown object>"
            ]
          },
          "metadata": {},
          "output_type": "display_data"
        },
        {
          "name": "stderr",
          "output_type": "stream",
          "text": [
            "/Users/peter.organisciak/anaconda3/lib/python3.9/site-packages/pandas/io/sql.py:761: UserWarning: pandas only support SQLAlchemy connectable(engine/connection) ordatabase string URI or sqlite3 DBAPI2 connectionother DBAPI2 objects are not tested, please consider using SQLAlchemy\n",
            "  warnings.warn(\n"
          ]
        },
        {
          "data": {
            "text/html": [
              "<div>\n",
              "<style scoped>\n",
              "    .dataframe tbody tr th:only-of-type {\n",
              "        vertical-align: middle;\n",
              "    }\n",
              "\n",
              "    .dataframe tbody tr th {\n",
              "        vertical-align: top;\n",
              "    }\n",
              "\n",
              "    .dataframe thead th {\n",
              "        text-align: right;\n",
              "    }\n",
              "</style>\n",
              "<table border=\"1\" class=\"dataframe\">\n",
              "  <thead>\n",
              "    <tr style=\"text-align: right;\">\n",
              "      <th></th>\n",
              "      <th>type</th>\n",
              "      <th>src</th>\n",
              "      <th>question</th>\n",
              "      <th>prompt</th>\n",
              "      <th>response</th>\n",
              "      <th>id</th>\n",
              "      <th>target</th>\n",
              "      <th>participant</th>\n",
              "      <th>response_num</th>\n",
              "      <th>language</th>\n",
              "      <th>rater_count</th>\n",
              "      <th>rating_std</th>\n",
              "    </tr>\n",
              "  </thead>\n",
              "  <tbody>\n",
              "    <tr>\n",
              "      <th>798</th>\n",
              "      <td>uses</td>\n",
              "      <td>hass17</td>\n",
              "      <td>What is a surprising use for BRICK?</td>\n",
              "      <td>brick</td>\n",
              "      <td>build a house</td>\n",
              "      <td>hass17_brick-1ad7cb</td>\n",
              "      <td>1.0</td>\n",
              "      <td>hass1753</td>\n",
              "      <td>3</td>\n",
              "      <td>eng</td>\n",
              "      <td>3</td>\n",
              "      <td>0.0</td>\n",
              "    </tr>\n",
              "    <tr>\n",
              "      <th>505</th>\n",
              "      <td>uses</td>\n",
              "      <td>hass17</td>\n",
              "      <td>What is a surprising use for BOTTLE?</td>\n",
              "      <td>bottle</td>\n",
              "      <td>put coins in it</td>\n",
              "      <td>hass17_bottle-8680ec</td>\n",
              "      <td>2.0</td>\n",
              "      <td>hass1747</td>\n",
              "      <td>9</td>\n",
              "      <td>eng</td>\n",
              "      <td>3</td>\n",
              "      <td>0.0</td>\n",
              "    </tr>\n",
              "  </tbody>\n",
              "</table>\n",
              "</div>"
            ],
            "text/plain": [
              "     type     src                              question  prompt  \\\n",
              "798  uses  hass17   What is a surprising use for BRICK?   brick   \n",
              "505  uses  hass17  What is a surprising use for BOTTLE?  bottle   \n",
              "\n",
              "            response                    id  target participant response_num  \\\n",
              "798    build a house   hass17_brick-1ad7cb     1.0    hass1753            3   \n",
              "505  put coins in it  hass17_bottle-8680ec     2.0    hass1747            9   \n",
              "\n",
              "    language  rater_count  rating_std  \n",
              "798      eng            3         0.0  \n",
              "505      eng            3         0.0  "
            ]
          },
          "execution_count": 188,
          "metadata": {},
          "output_type": "execute_result"
        }
      ],
      "source": [
        "desc = {\n",
        "    \"name\": 'hass17',\n",
        "    \"test_type\": \"uses\",\n",
        "    \"meta\": {\n",
        "        \"inline\": \"Hass 2017\",\n",
        "        \"citation\": \"Hass, R. W. (2017). Semantic search during divergent thinking. Cognition, 166, 344–357. https://doi.org/10.1016/j.cognition.2017.05.039\",\n",
        "        \"url\": \"https://osf.io/ng598\",\n",
        "        \"download\": [\n",
        "            {\"url\": 'https://osf.io/download/mcykr/', \"ext\": \"xlsx\"}, # rater scores\n",
        "            {\"url\": 'https://osf.io/download/27bx8/', \"ext\": \"xlsx\"},  # responses 1\n",
        "            {\"url\": 'https://osf.io/download/rzvyd/', \"ext\": \"xlsx\"}  # responses 2\n",
        "        ],\n",
        "    },\n",
        "    \"column_mappings\": {\n",
        "        \"subject\":\"participant\",\n",
        "        \"response_order\":\"response_num\"\n",
        "        },\n",
        "    \"range\": [1, 5],\n",
        "    \"rater_cols\": ['r1','r2','r3'],\n",
        "    \"language\": \"eng\",\n",
        "}\n",
        "\n",
        "(ratings_fname, responses_fname, responses2_fname) = download_from_description(desc, '../data/raw')\n",
        "\n",
        "# custom parsing specific to this dataset\n",
        "all_ratings = []\n",
        "for sheet, prompt in [('br_exp1', 'brick'),('br_exp2', 'brick'),('bot_exp1', 'bottle'),('bot_exp2', 'bottle')]:\n",
        "    data = pd.read_excel(ratings_fname, sheet_name=sheet) #.rename(columns={'subject':'participant','response_order':'response_num'})\n",
        "    data['prompt'] = prompt\n",
        "    all_ratings.append(data)\n",
        "hassratings = pd.concat(all_ratings).rename(columns={'response':'cleaned'})\n",
        "participants = pd.concat([pd.read_excel(responses_fname), pd.read_excel(responses2_fname)])\n",
        "\n",
        "# melt original responses to long, reconstructe the cleaned columns, then join with ratings\n",
        "long_part = participants.melt(id_vars='ID', value_name='response').rename(columns={'ID':'participant'})\n",
        "long_part = long_part[long_part.variable.str.contains('resp') & ~long_part.variable.str.contains('time')].dropna()\n",
        "long_part[['prompt', 'response_num']] = long_part.variable.str.split('_', expand=True)\n",
        "\n",
        "long_part.loc[long_part.prompt.str.contains('resp1'), 'prompt'] = 'bottle'\n",
        "long_part.loc[long_part.prompt.str.contains('resp2'), 'prompt'] = 'brick'\n",
        "long_part.sample(10)\n",
        "\n",
        "import nltk\n",
        "nltk.download('punkt')\n",
        "nltk.download('stopwords')\n",
        "\n",
        "from nltk.corpus import stopwords\n",
        "from nltk.tokenize import word_tokenize\n",
        "stops = stopwords.words('english')\n",
        "# not sure which list the study used, so just adjust based on testing\n",
        "stops += ['could']\n",
        "stops = [w for w in stops if w not in ['can']]\n",
        "stops = set(stops)\n",
        "\n",
        "def stop_clean(x):\n",
        "    x = x.lower()\n",
        "    x = x.replace('i.e.', 'e') # quirk of the tokenization in original study\n",
        "    for c in list(\"/\\\\'-()\"):\n",
        "        x = x.replace(c, '')\n",
        "    words = [word for word in word_tokenize(x) if word not in stops]\n",
        "    return \" \".join(words)\n",
        "\n",
        "long_part['cleaned'] = long_part.response.apply(stop_clean)\n",
        "hass07 = long_part.merge(hassratings, how='left', on=['prompt', 'cleaned'])\n",
        "\n",
        "cleaned = prep_general(hass07, **desc, save_dir='../data/datasets')\n",
        "cleaned.sample(2)"
      ]
    },
    {
      "cell_type": "markdown",
      "metadata": {
        "id": "vJqyd2UHDCMZ"
      },
      "source": [
        "## Silvia et al 2008\n",
        "\n",
        "This was the order of creativity tasks:\n",
        "\n",
        "1. Please list all of the creative, unusual uses for a brick that you can think of.\n",
        "2. Please list all of the creative, unusual instances of things that are round that you can think of.\n",
        "3. Imagine that people no longer needed to sleep. Please list creative, unusual consequences that would follow.\n",
        "4. Please list all of the creative, unusual uses for a knife that you can think of.\n",
        "5. Please list all of the creative, unusual instances of things that will make a noise that you can think of.\n",
        "6. Imagine that everyone shrank to 12 inches tall. Please list creative, unusual consequences that would follow.\n",
        "\n",
        "Numbers 1 and 4 are AUT.\n",
        "\n"
      ]
    },
    {
      "cell_type": "code",
      "execution_count": 189,
      "metadata": {},
      "outputs": [
        {
          "data": {
            "text/markdown": [
              "### Loading *Silvia et al. 2008*"
            ],
            "text/plain": [
              "<IPython.core.display.Markdown object>"
            ]
          },
          "metadata": {},
          "output_type": "display_data"
        },
        {
          "data": {
            "text/markdown": [
              "Silvia, P. J., Winterstein, B. P., Willse, J. T., Barona, C. M., Cram, J. T., Hess, K. I., Martinez, J. L., & Richard, C. A. (2008). Assessing creativity with divergent thinking tasks: Exploring the reliability and validity of new subjective scoring methods. Psychology of Aesthetics, Creativity, and the Arts, 2(2), 68–85. https://doi.org/10.1037/1931-3896.2.2.68"
            ],
            "text/plain": [
              "<IPython.core.display.Markdown object>"
            ]
          },
          "metadata": {},
          "output_type": "display_data"
        },
        {
          "data": {
            "text/markdown": [
              "- Renaming columns {'subject': 'participant', 'order': 'response_num'}"
            ],
            "text/plain": [
              "<IPython.core.display.Markdown object>"
            ]
          },
          "metadata": {},
          "output_type": "display_data"
        },
        {
          "data": {
            "text/markdown": [
              "- Inferring questions {'brick': 'What is a surprising use for a BRICK?', 'round': 'What is a surprising thing that is ROUND?', 'no sleep': 'What would be a surprising consequence if PEOPLE NEEDED NO SLEEP?', 'knife': 'What is a surprising use for a KNIFE?', 'noise': 'What is a surprising thing that makes a NOISE?', 'shrank': 'What would be a surprising consequence if EVERYONE SHRANK TO 12 INCHES TALL?'}"
            ],
            "text/plain": [
              "<IPython.core.display.Markdown object>"
            ]
          },
          "metadata": {},
          "output_type": "display_data"
        },
        {
          "data": {
            "text/markdown": [
              "- Inferring types {'brick': 'uses', 'round': 'uses', 'no sleep': 'consequences', 'knife': 'uses', 'noise': 'instances', 'shrank': 'consequences'}"
            ],
            "text/plain": [
              "<IPython.core.display.Markdown object>"
            ]
          },
          "metadata": {},
          "output_type": "display_data"
        },
        {
          "name": "stdout",
          "output_type": "stream",
          "text": [
            "Dropping 37 unrated items\n"
          ]
        },
        {
          "data": {
            "text/markdown": [
              "- name: setal08\n",
              "- no_of_prompts: 6\n",
              "- no_of_participants: 242\n",
              "- no_of_data_points: 11490\n",
              "- prompts: ['brick', 'round', 'no sleep', 'knife', 'noise', 'shrank']\n",
              "- ICC2k: 0.43\n",
              "- ICC2k_CI: 0.22-0.57\n",
              "- ICC3k: 0.54\n",
              "- rater_cols: ['rater1', 'rater2', 'rater3']\n",
              "- no_of_raters: 3\n"
            ],
            "text/plain": [
              "<IPython.core.display.Markdown object>"
            ]
          },
          "metadata": {},
          "output_type": "display_data"
        },
        {
          "name": "stderr",
          "output_type": "stream",
          "text": [
            "/Users/peter.organisciak/anaconda3/lib/python3.9/site-packages/pandas/io/sql.py:761: UserWarning: pandas only support SQLAlchemy connectable(engine/connection) ordatabase string URI or sqlite3 DBAPI2 connectionother DBAPI2 objects are not tested, please consider using SQLAlchemy\n",
            "  warnings.warn(\n"
          ]
        },
        {
          "data": {
            "text/html": [
              "<div>\n",
              "<style scoped>\n",
              "    .dataframe tbody tr th:only-of-type {\n",
              "        vertical-align: middle;\n",
              "    }\n",
              "\n",
              "    .dataframe tbody tr th {\n",
              "        vertical-align: top;\n",
              "    }\n",
              "\n",
              "    .dataframe thead th {\n",
              "        text-align: right;\n",
              "    }\n",
              "</style>\n",
              "<table border=\"1\" class=\"dataframe\">\n",
              "  <thead>\n",
              "    <tr style=\"text-align: right;\">\n",
              "      <th></th>\n",
              "      <th>type</th>\n",
              "      <th>src</th>\n",
              "      <th>question</th>\n",
              "      <th>prompt</th>\n",
              "      <th>response</th>\n",
              "      <th>id</th>\n",
              "      <th>target</th>\n",
              "      <th>participant</th>\n",
              "      <th>response_num</th>\n",
              "      <th>language</th>\n",
              "      <th>rater_count</th>\n",
              "      <th>rating_std</th>\n",
              "    </tr>\n",
              "  </thead>\n",
              "  <tbody>\n",
              "    <tr>\n",
              "      <th>10764</th>\n",
              "      <td>instances</td>\n",
              "      <td>setal08</td>\n",
              "      <td>What is a surprising thing that makes a NOISE?</td>\n",
              "      <td>noise</td>\n",
              "      <td>laying on a tanning bed</td>\n",
              "      <td>setal08_5.0-2f2e7d</td>\n",
              "      <td>1.667</td>\n",
              "      <td>setal08225</td>\n",
              "      <td>12.0</td>\n",
              "      <td>eng</td>\n",
              "      <td>3</td>\n",
              "      <td>0.57735</td>\n",
              "    </tr>\n",
              "    <tr>\n",
              "      <th>9629</th>\n",
              "      <td>uses</td>\n",
              "      <td>setal08</td>\n",
              "      <td>What is a surprising thing that is ROUND?</td>\n",
              "      <td>round</td>\n",
              "      <td>heart valves</td>\n",
              "      <td>setal08_2.0-bc56af</td>\n",
              "      <td>2.000</td>\n",
              "      <td>setal08203</td>\n",
              "      <td>9.0</td>\n",
              "      <td>eng</td>\n",
              "      <td>3</td>\n",
              "      <td>1.00000</td>\n",
              "    </tr>\n",
              "  </tbody>\n",
              "</table>\n",
              "</div>"
            ],
            "text/plain": [
              "            type      src                                        question  \\\n",
              "10764  instances  setal08  What is a surprising thing that makes a NOISE?   \n",
              "9629        uses  setal08       What is a surprising thing that is ROUND?   \n",
              "\n",
              "      prompt                 response                  id  target participant  \\\n",
              "10764  noise  laying on a tanning bed  setal08_5.0-2f2e7d   1.667  setal08225   \n",
              "9629   round             heart valves  setal08_2.0-bc56af   2.000  setal08203   \n",
              "\n",
              "       response_num language  rater_count  rating_std  \n",
              "10764          12.0      eng            3     0.57735  \n",
              "9629            9.0      eng            3     1.00000  "
            ]
          },
          "execution_count": 189,
          "metadata": {},
          "output_type": "execute_result"
        }
      ],
      "source": [
        "# Support .sav files\n",
        "import pyreadstat\n",
        "desc = {\n",
        "    \"name\": \"setal08\",\n",
        "    \"meta\": {\n",
        "        \"inline\": \"Silvia et al. 2008\",\n",
        "        \"citation\": \"Silvia, P. J., Winterstein, B. P., Willse, J. T., Barona, C. M., Cram, J. T., Hess, K. I., Martinez, J. L., & Richard, C. A. (2008). Assessing creativity with divergent thinking tasks: Exploring the reliability and validity of new subjective scoring methods. Psychology of Aesthetics, Creativity, and the Arts, 2(2), 68–85. https://doi.org/10.1037/1931-3896.2.2.68\",\n",
        "        \"url\": \"https://osf.io/dh7ey/\",\n",
        "        \"download\": {\"url\": \"https://files.osf.io/v1/resources/4ketx/providers/osfstorage/5dd70d1f83135e000ec3c242/?zip=\",\n",
        "                    \"extension\": \"zip\",\n",
        "                    \"archive_files\": ['DT_Responses_PACA_2008_Study_2.sav']\n",
        "                    }\n",
        "    },\n",
        "    \"column_mappings\": {\n",
        "        \"subject\":\"participant\",\n",
        "        \"order\":\"response_num\"\n",
        "        },\n",
        "    \"replace_values\": {\n",
        "        \"prompt\": {\n",
        "            1: \"brick\",\n",
        "            2: \"round\",\n",
        "            3: \"no sleep\",\n",
        "            4: \"knife\",\n",
        "            5: \"noise\",\n",
        "            6: \"shrank\"\n",
        "        },\n",
        "    },\n",
        "    \"question_mappings\": {\n",
        "        \"brick\": \"What is a surprising use for a BRICK?\",\n",
        "        \"round\": \"What is a surprising thing that is ROUND?\", \n",
        "        \"no sleep\": \"What would be a surprising consequence if PEOPLE NEEDED NO SLEEP?\", \n",
        "        \"knife\": \"What is a surprising use for a KNIFE?\",\n",
        "        \"noise\": \"What is a surprising thing that makes a NOISE?\",\n",
        "        \"shrank\": \"What would be a surprising consequence if EVERYONE SHRANK TO 12 INCHES TALL?\"\n",
        "    },\n",
        "    \"type_mappings\": {\n",
        "        \"brick\": \"uses\",\n",
        "        \"round\": \"uses\",\n",
        "        \"no sleep\": \"consequences\",\n",
        "        \"knife\": \"uses\",\n",
        "        \"noise\": \"instances\",\n",
        "        \"shrank\": \"consequences\"\n",
        "    },\n",
        "    \"range\": [1, 5],\n",
        "    \"language\": \"eng\",\n",
        "}\n",
        "\n",
        "# Download data\n",
        "fnames = download_from_description(desc, '../data/raw', extension='zip')\n",
        "\n",
        "# Some manual cleanup\n",
        "df, meta = pyreadstat.read_sav(fnames[0])\n",
        "# all three are mapped from task\n",
        "for col in ['prompt', 'type', 'question']:\n",
        "    df[col] = df['task'].astype(int)\n",
        "df['subject'] = df['subject'].astype(int)\n",
        "# doublecheck - burczak reported ICC2k as 0.48 for uses\n",
        "cleaned = prep_general(df, **desc, save_dir='../data/datasets')\n",
        "cleaned.sample(2)"
      ]
    },
    {
      "cell_type": "markdown",
      "metadata": {
        "id": "UH3yOwIon4Ky"
      },
      "source": [
        "## Hofelich Mohr, Sell, and Lindsay 2016"
      ]
    },
    {
      "cell_type": "code",
      "execution_count": 190,
      "metadata": {},
      "outputs": [
        {
          "data": {
            "text/markdown": [
              "### Loading *Hofelich Mohr et al. 2016*"
            ],
            "text/plain": [
              "<IPython.core.display.Markdown object>"
            ]
          },
          "metadata": {},
          "output_type": "display_data"
        },
        {
          "data": {
            "text/markdown": [
              "Hofelich Mohr, A., Sell, A., & Lindsay, T. (2016). Thinking Inside the Box: Visual Design of the Response Box Affects Creative Divergent Thinking in an Online Survey. Social Science Computer Review, 34(3), 347–359. https://doi.org/10.1177/0894439315588736"
            ],
            "text/plain": [
              "<IPython.core.display.Markdown object>"
            ]
          },
          "metadata": {},
          "output_type": "display_data"
        },
        {
          "data": {
            "text/markdown": [
              "- Renaming columns {'Item': 'prompt', 'QLogin_1': 'participant'}"
            ],
            "text/plain": [
              "<IPython.core.display.Markdown object>"
            ]
          },
          "metadata": {},
          "output_type": "display_data"
        },
        {
          "name": "stdout",
          "output_type": "stream",
          "text": [
            "Replacing 11 with NaN in response column\n",
            "Dropping 23 unrated items\n"
          ]
        },
        {
          "data": {
            "text/markdown": [
              "- name: hmsl\n",
              "- no_of_prompts: 2\n",
              "- no_of_participants: 638\n",
              "- no_of_data_points: 3843\n",
              "- prompts: ['paperclip', 'brick']\n",
              "- ICC2k: 0.67\n",
              "- ICC2k_CI: 0.53-0.75\n",
              "- ICC3k: 0.74\n",
              "- rater_cols: ['J1_Rating', 'J2_Rating', 'J3_Rating', 'J4_Rating']\n",
              "- no_of_raters: 4\n"
            ],
            "text/plain": [
              "<IPython.core.display.Markdown object>"
            ]
          },
          "metadata": {},
          "output_type": "display_data"
        },
        {
          "name": "stderr",
          "output_type": "stream",
          "text": [
            "/Users/peter.organisciak/anaconda3/lib/python3.9/site-packages/pandas/io/sql.py:761: UserWarning: pandas only support SQLAlchemy connectable(engine/connection) ordatabase string URI or sqlite3 DBAPI2 connectionother DBAPI2 objects are not tested, please consider using SQLAlchemy\n",
            "  warnings.warn(\n"
          ]
        },
        {
          "data": {
            "text/html": [
              "<div>\n",
              "<style scoped>\n",
              "    .dataframe tbody tr th:only-of-type {\n",
              "        vertical-align: middle;\n",
              "    }\n",
              "\n",
              "    .dataframe tbody tr th {\n",
              "        vertical-align: top;\n",
              "    }\n",
              "\n",
              "    .dataframe thead th {\n",
              "        text-align: right;\n",
              "    }\n",
              "</style>\n",
              "<table border=\"1\" class=\"dataframe\">\n",
              "  <thead>\n",
              "    <tr style=\"text-align: right;\">\n",
              "      <th></th>\n",
              "      <th>type</th>\n",
              "      <th>src</th>\n",
              "      <th>question</th>\n",
              "      <th>prompt</th>\n",
              "      <th>response</th>\n",
              "      <th>id</th>\n",
              "      <th>target</th>\n",
              "      <th>participant</th>\n",
              "      <th>response_num</th>\n",
              "      <th>language</th>\n",
              "      <th>rater_count</th>\n",
              "      <th>rating_std</th>\n",
              "    </tr>\n",
              "  </thead>\n",
              "  <tbody>\n",
              "    <tr>\n",
              "      <th>3555</th>\n",
              "      <td>uses</td>\n",
              "      <td>hmsl</td>\n",
              "      <td>What is a surprising use for BRICK?</td>\n",
              "      <td>brick</td>\n",
              "      <td>supporting a shelf</td>\n",
              "      <td>hmsl_brick-99132d</td>\n",
              "      <td>2.24975</td>\n",
              "      <td>hmsly42hKMsQ</td>\n",
              "      <td>2.0</td>\n",
              "      <td>eng</td>\n",
              "      <td>4</td>\n",
              "      <td>0.5</td>\n",
              "    </tr>\n",
              "    <tr>\n",
              "      <th>848</th>\n",
              "      <td>uses</td>\n",
              "      <td>hmsl</td>\n",
              "      <td>What is a surprising use for BRICK?</td>\n",
              "      <td>brick</td>\n",
              "      <td>As a door stop</td>\n",
              "      <td>hmsl_brick-a7fca3</td>\n",
              "      <td>1.24975</td>\n",
              "      <td>hmslWMPE0i6n</td>\n",
              "      <td>2.0</td>\n",
              "      <td>eng</td>\n",
              "      <td>4</td>\n",
              "      <td>0.5</td>\n",
              "    </tr>\n",
              "  </tbody>\n",
              "</table>\n",
              "</div>"
            ],
            "text/plain": [
              "      type   src                             question prompt  \\\n",
              "3555  uses  hmsl  What is a surprising use for BRICK?  brick   \n",
              "848   uses  hmsl  What is a surprising use for BRICK?  brick   \n",
              "\n",
              "                response                 id   target   participant  \\\n",
              "3555  supporting a shelf  hmsl_brick-99132d  2.24975  hmsly42hKMsQ   \n",
              "848       As a door stop  hmsl_brick-a7fca3  1.24975  hmslWMPE0i6n   \n",
              "\n",
              "      response_num language  rater_count  rating_std  \n",
              "3555           2.0      eng            4         0.5  \n",
              "848            2.0      eng            4         0.5  "
            ]
          },
          "execution_count": 190,
          "metadata": {},
          "output_type": "execute_result"
        }
      ],
      "source": [
        "desc = {\n",
        "    \"name\": \"hmsl\",\n",
        "    \"meta\": {\n",
        "        \"inline\": \"Hofelich Mohr et al. 2016\",\n",
        "        \"citation\": \"Hofelich Mohr, A., Sell, A., & Lindsay, T. (2016). Thinking Inside the Box: Visual Design of the Response Box Affects Creative Divergent Thinking in an Online Survey. Social Science Computer Review, 34(3), 347–359. https://doi.org/10.1177/0894439315588736\",\n",
        "        \"url\": \"https://doi.org/10.1177/0894439315588736\",\n",
        "        \"download\": {\n",
        "            \"url\": \"https://conservancy.umn.edu/bitstream/handle/11299/172116/HMSL_CSV%20Data%20Files.zip?sequence=28&isAllowed=y\",\n",
        "            \"extension\": \"zip\",\n",
        "            \"archive_files\": ['HMSL_Originality_scores_all.csv']   \n",
        "        }\n",
        "    },\n",
        "    \"null_marker\": 11,\n",
        "    \"column_mappings\": {'Item': 'prompt', 'QLogin_1':'participant'},\n",
        "    \"rater_cols\": ['J1_Rating','J2_Rating','J3_Rating','J4_Rating'],\n",
        "    \"range\": [1, 5],\n",
        "    \"language\": \"eng\",\n",
        "}\n",
        "\n",
        "fname = download_from_description(desc, '../data/raw')[0]\n",
        "df = pd.read_csv(fname)\n",
        "# Doublecheck ICC2k - burczak paper had icc2k=0.67\n",
        "cleaned = prep_general(df, **desc, save_dir='../data/datasets')\n",
        "cleaned.sample(2)"
      ]
    },
    {
      "cell_type": "markdown",
      "metadata": {
        "id": "VgNoUTqg_dQb"
      },
      "source": [
        "## Datasets used by Beaty and Johnson 2021\n",
        "\n",
        "From SemDis paper:\n",
        "\n",
        "- Study 1 was re-analysis of AUT responses from Beaty et al., 2018 to see if ensemble approaches work better. Two tests: `box` and `rope`\n",
        "   - according to their paper, using additive composition was slightly negative correlation, while multiplicative 'results revealed a large correlation between latent semantic distance and human ratings:$r=.91$, p<.001'. This uses a model that weighs the factors, but is (I think) tailored to the dataset without held out data.\n",
        "\n",
        "- Study 2 was re-analysis of results from Silvia et al. 2017, also on box and rope \n",
        "- Study 3 was brick - yet again - via Beaty and Silvia 2012\n",
        "- Study 4 and 5- Heinen and Johnson (2018) - were noun matching, not relevant here"
      ]
    },
    {
      "cell_type": "code",
      "execution_count": 191,
      "metadata": {},
      "outputs": [
        {
          "data": {
            "text/markdown": [
              "### Loading *Beaty et al., 2018*"
            ],
            "text/plain": [
              "<IPython.core.display.Markdown object>"
            ]
          },
          "metadata": {},
          "output_type": "display_data"
        },
        {
          "data": {
            "text/markdown": [
              "Beaty, R. E., Kenett, Y. N., Christensen, A. P., Rosenberg, M. D., Benedek, M., Chen, Q., Fink, A., Qiu, J., Kwapil, T. R., Kane, M. J., & Silvia, P. J. (2018). Robust prediction of individual creative ability from brain functional connectivity. Proceedings of the National Academy of Sciences, 115(5), 1087–1092. https://doi.org/10.1073/pnas.1713532115"
            ],
            "text/plain": [
              "<IPython.core.display.Markdown object>"
            ]
          },
          "metadata": {},
          "output_type": "display_data"
        },
        {
          "data": {
            "text/markdown": [
              "- Renaming columns {'id': 'participant', 'item': 'prompt'}"
            ],
            "text/plain": [
              "<IPython.core.display.Markdown object>"
            ]
          },
          "metadata": {},
          "output_type": "display_data"
        },
        {
          "data": {
            "text/markdown": [
              "- name: betal18\n",
              "- no_of_prompts: 2\n",
              "- no_of_participants: 171\n",
              "- no_of_data_points: 2918\n",
              "- prompts: ['box', 'rope']\n",
              "- ICC2k: 0.82\n",
              "- ICC2k_CI: 0.77-0.85\n",
              "- ICC3k: 0.84\n",
              "- rater_cols: ['rater1', 'rater2', 'rater3', 'rater4']\n",
              "- no_of_raters: 4\n"
            ],
            "text/plain": [
              "<IPython.core.display.Markdown object>"
            ]
          },
          "metadata": {},
          "output_type": "display_data"
        },
        {
          "name": "stderr",
          "output_type": "stream",
          "text": [
            "/Users/peter.organisciak/anaconda3/lib/python3.9/site-packages/pandas/io/sql.py:761: UserWarning: pandas only support SQLAlchemy connectable(engine/connection) ordatabase string URI or sqlite3 DBAPI2 connectionother DBAPI2 objects are not tested, please consider using SQLAlchemy\n",
            "  warnings.warn(\n"
          ]
        },
        {
          "data": {
            "text/html": [
              "<div>\n",
              "<style scoped>\n",
              "    .dataframe tbody tr th:only-of-type {\n",
              "        vertical-align: middle;\n",
              "    }\n",
              "\n",
              "    .dataframe tbody tr th {\n",
              "        vertical-align: top;\n",
              "    }\n",
              "\n",
              "    .dataframe thead th {\n",
              "        text-align: right;\n",
              "    }\n",
              "</style>\n",
              "<table border=\"1\" class=\"dataframe\">\n",
              "  <thead>\n",
              "    <tr style=\"text-align: right;\">\n",
              "      <th></th>\n",
              "      <th>type</th>\n",
              "      <th>src</th>\n",
              "      <th>question</th>\n",
              "      <th>prompt</th>\n",
              "      <th>response</th>\n",
              "      <th>id</th>\n",
              "      <th>target</th>\n",
              "      <th>participant</th>\n",
              "      <th>response_num</th>\n",
              "      <th>language</th>\n",
              "      <th>rater_count</th>\n",
              "      <th>rating_std</th>\n",
              "    </tr>\n",
              "  </thead>\n",
              "  <tbody>\n",
              "    <tr>\n",
              "      <th>955</th>\n",
              "      <td>uses</td>\n",
              "      <td>betal18</td>\n",
              "      <td>What is a surprising use for BOX?</td>\n",
              "      <td>box</td>\n",
              "      <td>punching bag</td>\n",
              "      <td>betal18_box-6c9947</td>\n",
              "      <td>2.5</td>\n",
              "      <td>betal182102</td>\n",
              "      <td>None</td>\n",
              "      <td>eng</td>\n",
              "      <td>4</td>\n",
              "      <td>0.57735</td>\n",
              "    </tr>\n",
              "    <tr>\n",
              "      <th>957</th>\n",
              "      <td>uses</td>\n",
              "      <td>betal18</td>\n",
              "      <td>What is a surprising use for BOX?</td>\n",
              "      <td>box</td>\n",
              "      <td>Hat</td>\n",
              "      <td>betal18_box-624790</td>\n",
              "      <td>1.0</td>\n",
              "      <td>betal182104</td>\n",
              "      <td>None</td>\n",
              "      <td>eng</td>\n",
              "      <td>4</td>\n",
              "      <td>0.00000</td>\n",
              "    </tr>\n",
              "  </tbody>\n",
              "</table>\n",
              "</div>"
            ],
            "text/plain": [
              "     type      src                           question prompt      response  \\\n",
              "955  uses  betal18  What is a surprising use for BOX?    box  punching bag   \n",
              "957  uses  betal18  What is a surprising use for BOX?    box           Hat   \n",
              "\n",
              "                     id  target  participant response_num language  \\\n",
              "955  betal18_box-6c9947     2.5  betal182102         None      eng   \n",
              "957  betal18_box-624790     1.0  betal182104         None      eng   \n",
              "\n",
              "     rater_count  rating_std  \n",
              "955            4     0.57735  \n",
              "957            4     0.00000  "
            ]
          },
          "metadata": {},
          "output_type": "display_data"
        },
        {
          "data": {
            "text/markdown": [
              "### Loading *Silvia et al., 2017*"
            ],
            "text/plain": [
              "<IPython.core.display.Markdown object>"
            ]
          },
          "metadata": {},
          "output_type": "display_data"
        },
        {
          "data": {
            "text/markdown": [
              "Silvia, P. J., Nusbaum, E. C., & Beaty, R. E. (2017). Old or New? Evaluating the Old/New Scoring Method for Divergent Thinking Tasks. The Journal of Creative Behavior, 51(3), 216–224. https://doi.org/10.1002/jocb.101"
            ],
            "text/plain": [
              "<IPython.core.display.Markdown object>"
            ]
          },
          "metadata": {},
          "output_type": "display_data"
        },
        {
          "data": {
            "text/markdown": [
              "- Renaming columns {'id': 'participant', 'item': 'prompt'}"
            ],
            "text/plain": [
              "<IPython.core.display.Markdown object>"
            ]
          },
          "metadata": {},
          "output_type": "display_data"
        },
        {
          "data": {
            "text/markdown": [
              "- name: snb17\n",
              "- no_of_prompts: 2\n",
              "- no_of_participants: 142\n",
              "- no_of_data_points: 2372\n",
              "- prompts: ['box', 'rope']\n",
              "- ICC2k: 0.67\n",
              "- ICC2k_CI: 0.55-0.75\n",
              "- ICC3k: 0.72\n",
              "- rater_cols: ['rater1', 'rater2', 'rater3']\n",
              "- no_of_raters: 3\n"
            ],
            "text/plain": [
              "<IPython.core.display.Markdown object>"
            ]
          },
          "metadata": {},
          "output_type": "display_data"
        },
        {
          "name": "stderr",
          "output_type": "stream",
          "text": [
            "/Users/peter.organisciak/anaconda3/lib/python3.9/site-packages/pandas/io/sql.py:761: UserWarning: pandas only support SQLAlchemy connectable(engine/connection) ordatabase string URI or sqlite3 DBAPI2 connectionother DBAPI2 objects are not tested, please consider using SQLAlchemy\n",
            "  warnings.warn(\n"
          ]
        },
        {
          "data": {
            "text/html": [
              "<div>\n",
              "<style scoped>\n",
              "    .dataframe tbody tr th:only-of-type {\n",
              "        vertical-align: middle;\n",
              "    }\n",
              "\n",
              "    .dataframe tbody tr th {\n",
              "        vertical-align: top;\n",
              "    }\n",
              "\n",
              "    .dataframe thead th {\n",
              "        text-align: right;\n",
              "    }\n",
              "</style>\n",
              "<table border=\"1\" class=\"dataframe\">\n",
              "  <thead>\n",
              "    <tr style=\"text-align: right;\">\n",
              "      <th></th>\n",
              "      <th>type</th>\n",
              "      <th>src</th>\n",
              "      <th>question</th>\n",
              "      <th>prompt</th>\n",
              "      <th>response</th>\n",
              "      <th>id</th>\n",
              "      <th>target</th>\n",
              "      <th>participant</th>\n",
              "      <th>response_num</th>\n",
              "      <th>language</th>\n",
              "      <th>rater_count</th>\n",
              "      <th>rating_std</th>\n",
              "    </tr>\n",
              "  </thead>\n",
              "  <tbody>\n",
              "    <tr>\n",
              "      <th>622</th>\n",
              "      <td>uses</td>\n",
              "      <td>snb17</td>\n",
              "      <td>What is a surprising use for BOX?</td>\n",
              "      <td>box</td>\n",
              "      <td>Recreate a scene from your favorite movie or b...</td>\n",
              "      <td>snb17_box-48137f</td>\n",
              "      <td>2.333</td>\n",
              "      <td>snb1778</td>\n",
              "      <td>None</td>\n",
              "      <td>eng</td>\n",
              "      <td>3</td>\n",
              "      <td>0.57735</td>\n",
              "    </tr>\n",
              "    <tr>\n",
              "      <th>529</th>\n",
              "      <td>uses</td>\n",
              "      <td>snb17</td>\n",
              "      <td>What is a surprising use for BOX?</td>\n",
              "      <td>box</td>\n",
              "      <td>Trash Can</td>\n",
              "      <td>snb17_box-38f92a</td>\n",
              "      <td>1.333</td>\n",
              "      <td>snb1761</td>\n",
              "      <td>None</td>\n",
              "      <td>eng</td>\n",
              "      <td>3</td>\n",
              "      <td>0.57735</td>\n",
              "    </tr>\n",
              "  </tbody>\n",
              "</table>\n",
              "</div>"
            ],
            "text/plain": [
              "     type    src                           question prompt  \\\n",
              "622  uses  snb17  What is a surprising use for BOX?    box   \n",
              "529  uses  snb17  What is a surprising use for BOX?    box   \n",
              "\n",
              "                                              response                id  \\\n",
              "622  Recreate a scene from your favorite movie or b...  snb17_box-48137f   \n",
              "529                                          Trash Can  snb17_box-38f92a   \n",
              "\n",
              "     target participant response_num language  rater_count  rating_std  \n",
              "622   2.333     snb1778         None      eng            3     0.57735  \n",
              "529   1.333     snb1761         None      eng            3     0.57735  "
            ]
          },
          "metadata": {},
          "output_type": "display_data"
        },
        {
          "data": {
            "text/markdown": [
              "### Loading *Beaty & Silvia, 2012*"
            ],
            "text/plain": [
              "<IPython.core.display.Markdown object>"
            ]
          },
          "metadata": {},
          "output_type": "display_data"
        },
        {
          "data": {
            "text/markdown": [
              "Beaty, R. E., & Silvia, P. J. (2012). Why do ideas get more creative across time? An executive interpretation of the serial order effect in divergent thinking tasks. Psychology of Aesthetics, Creativity, and the Arts, 6(4), 309–319. https://doi.org/10.1037/a0029171"
            ],
            "text/plain": [
              "<IPython.core.display.Markdown object>"
            ]
          },
          "metadata": {},
          "output_type": "display_data"
        },
        {
          "data": {
            "text/markdown": [
              "- Renaming columns {'id': 'participant', 'item': 'prompt'}"
            ],
            "text/plain": [
              "<IPython.core.display.Markdown object>"
            ]
          },
          "metadata": {},
          "output_type": "display_data"
        },
        {
          "data": {
            "text/markdown": [
              "- name: bs12\n",
              "- no_of_prompts: 1\n",
              "- no_of_participants: 133\n",
              "- no_of_data_points: 1807\n",
              "- prompts: ['brick']\n",
              "- ICC2k: 0.72\n",
              "- ICC2k_CI: 0.56-0.8\n",
              "- ICC3k: 0.78\n",
              "- rater_cols: ['br_rater1', 'br_rater2', 'br_rater3']\n",
              "- no_of_raters: 3\n"
            ],
            "text/plain": [
              "<IPython.core.display.Markdown object>"
            ]
          },
          "metadata": {},
          "output_type": "display_data"
        },
        {
          "name": "stderr",
          "output_type": "stream",
          "text": [
            "/Users/peter.organisciak/anaconda3/lib/python3.9/site-packages/pandas/io/sql.py:761: UserWarning: pandas only support SQLAlchemy connectable(engine/connection) ordatabase string URI or sqlite3 DBAPI2 connectionother DBAPI2 objects are not tested, please consider using SQLAlchemy\n",
            "  warnings.warn(\n"
          ]
        },
        {
          "data": {
            "text/html": [
              "<div>\n",
              "<style scoped>\n",
              "    .dataframe tbody tr th:only-of-type {\n",
              "        vertical-align: middle;\n",
              "    }\n",
              "\n",
              "    .dataframe tbody tr th {\n",
              "        vertical-align: top;\n",
              "    }\n",
              "\n",
              "    .dataframe thead th {\n",
              "        text-align: right;\n",
              "    }\n",
              "</style>\n",
              "<table border=\"1\" class=\"dataframe\">\n",
              "  <thead>\n",
              "    <tr style=\"text-align: right;\">\n",
              "      <th></th>\n",
              "      <th>type</th>\n",
              "      <th>src</th>\n",
              "      <th>question</th>\n",
              "      <th>prompt</th>\n",
              "      <th>response</th>\n",
              "      <th>id</th>\n",
              "      <th>target</th>\n",
              "      <th>participant</th>\n",
              "      <th>response_num</th>\n",
              "      <th>language</th>\n",
              "      <th>rater_count</th>\n",
              "      <th>rating_std</th>\n",
              "    </tr>\n",
              "  </thead>\n",
              "  <tbody>\n",
              "    <tr>\n",
              "      <th>425</th>\n",
              "      <td>uses</td>\n",
              "      <td>bs12</td>\n",
              "      <td>What is a surprising use for BRICK?</td>\n",
              "      <td>brick</td>\n",
              "      <td>cruise control</td>\n",
              "      <td>bs12_brick-611408</td>\n",
              "      <td>2.333</td>\n",
              "      <td>bs1229</td>\n",
              "      <td>None</td>\n",
              "      <td>eng</td>\n",
              "      <td>3</td>\n",
              "      <td>0.57735</td>\n",
              "    </tr>\n",
              "    <tr>\n",
              "      <th>89</th>\n",
              "      <td>uses</td>\n",
              "      <td>bs12</td>\n",
              "      <td>What is a surprising use for BRICK?</td>\n",
              "      <td>brick</td>\n",
              "      <td>You can use to make door knobs but it will be ...</td>\n",
              "      <td>bs12_brick-17d8c2</td>\n",
              "      <td>3.333</td>\n",
              "      <td>bs129</td>\n",
              "      <td>None</td>\n",
              "      <td>eng</td>\n",
              "      <td>3</td>\n",
              "      <td>0.57735</td>\n",
              "    </tr>\n",
              "  </tbody>\n",
              "</table>\n",
              "</div>"
            ],
            "text/plain": [
              "     type   src                             question prompt  \\\n",
              "425  uses  bs12  What is a surprising use for BRICK?  brick   \n",
              "89   uses  bs12  What is a surprising use for BRICK?  brick   \n",
              "\n",
              "                                              response                 id  \\\n",
              "425                                     cruise control  bs12_brick-611408   \n",
              "89   You can use to make door knobs but it will be ...  bs12_brick-17d8c2   \n",
              "\n",
              "     target participant response_num language  rater_count  rating_std  \n",
              "425   2.333      bs1229         None      eng            3     0.57735  \n",
              "89    3.333       bs129         None      eng            3     0.57735  "
            ]
          },
          "metadata": {},
          "output_type": "display_data"
        }
      ],
      "source": [
        "desc = {\n",
        "    \"name\": \"bj21\",\n",
        "    \"meta\": {\n",
        "        \"inline\": \"Beaty and Johnson 2021\",\n",
        "        \"citation\": \"Beaty, R. E., & Johnson, D. R. (2021). Automating creativity assessment with SemDis: An open platform for computing semantic distance. Behavior Research Methods, 53(2), 757–780. https://doi.org/10.3758/s13428-020-01453-w\",\n",
        "        \"url\": \"https://doi.org/10.3758/s13428-020-01453-w\",\n",
        "        \"download\": {\n",
        "            \"url\": \"https://files.osf.io/v1/resources/gz4fc/providers/osfstorage/5e45b6c73e86a800be6e662e/?zip=\",\n",
        "            \"extension\": \"zip\",\n",
        "            \"archive_files\": ['Study 1/s1_data_long.xlsx',\n",
        "                              'Study 2/s2_data_long.xlsx',\n",
        "                              'Study 3/s3_data_long.xlsx']   \n",
        "        }\n",
        "    },\n",
        "    \"column_mappings\": {'id':'participant', 'item':'prompt'},\n",
        "    \"range\": [1, 5],\n",
        "    \"language\": \"eng\",\n",
        "}\n",
        "\n",
        "substudies = [\n",
        "    {\n",
        "        \"name\": \"betal18\",\n",
        "        \"meta\": {\n",
        "            \"inline\": \"Beaty et al., 2018\",\n",
        "            \"citation\": \"Beaty, R. E., Kenett, Y. N., Christensen, A. P., Rosenberg, M. D., Benedek, M., Chen, Q., Fink, A., Qiu, J., Kwapil, T. R., Kane, M. J., & Silvia, P. J. (2018). Robust prediction of individual creative ability from brain functional connectivity. Proceedings of the National Academy of Sciences, 115(5), 1087–1092. https://doi.org/10.1073/pnas.1713532115\"\n",
        "        }\n",
        "    },\n",
        "    {\n",
        "        \"name\": \"snb17\",\n",
        "        \"meta\": {\n",
        "            \"inline\": \"Silvia et al., 2017\",\n",
        "            \"citation\": \"Silvia, P. J., Nusbaum, E. C., & Beaty, R. E. (2017). Old or New? Evaluating the Old/New Scoring Method for Divergent Thinking Tasks. The Journal of Creative Behavior, 51(3), 216–224. https://doi.org/10.1002/jocb.101\"\n",
        "        }\n",
        "    },\n",
        "    {\n",
        "        \"name\": \"bs12\",\n",
        "        \"meta\": {\n",
        "            \"inline\": \"Beaty & Silvia, 2012\",\n",
        "            \"citation\": \"Beaty, R. E., & Silvia, P. J. (2012). Why do ideas get more creative across time? An executive interpretation of the serial order effect in divergent thinking tasks. Psychology of Aesthetics, Creativity, and the Arts, 6(4), 309–319. https://doi.org/10.1037/a0029171\"\n",
        "        }\n",
        "    },\n",
        "\n",
        "]\n",
        "\n",
        "fnames = download_from_description(desc, '../data/raw')\n",
        "# the data comes from past studies, so we'll rename the files\n",
        "# individually to their original studies\n",
        "for fname,substudy in zip(fnames, substudies):\n",
        "    new_desc = desc.copy()\n",
        "    new_desc.update(substudy)\n",
        "    df = pd.read_excel(fname)\n",
        "    cleaned = prep_general(df, **new_desc, save_dir='../data/datasets')\n",
        "    display(cleaned.sample(2))\n"
      ]
    },
    {
      "cell_type": "code",
      "execution_count": null,
      "metadata": {},
      "outputs": [],
      "source": []
    },
    {
      "cell_type": "markdown",
      "metadata": {
        "id": "8H-WPj9MeGrS"
      },
      "source": [
        "## MOTES Pilot\n",
        "\n",
        "MOTES is related to the \"Measuring Original Thinking in Elementary Students: A Text-Mining Approach\" (IES #R305A200519). This data is related to a high stakes test and is limited to research access. If you're a creativity research, please reach out to request it from <peter.organisciak@du.edu> and/or <selcuk.acar@unt.edu>."
      ]
    },
    {
      "cell_type": "code",
      "execution_count": 192,
      "metadata": {},
      "outputs": [
        {
          "data": {
            "text/markdown": [
              "### Loading *Acar et al., 2023*"
            ],
            "text/plain": [
              "<IPython.core.display.Markdown object>"
            ]
          },
          "metadata": {},
          "output_type": "display_data"
        },
        {
          "data": {
            "text/markdown": [
              "Acar, S., Dumas, D., Organisciak, P., Berthiaume, K. (2023). Measuring original thinking in elementary school: Development and validation of a computational psychometric approach. Journal of Educational Psychology. http://dx.doi.org/10.13140/RG.2.2.19804.56968"
            ],
            "text/plain": [
              "<IPython.core.display.Markdown object>"
            ]
          },
          "metadata": {},
          "output_type": "display_data"
        },
        {
          "data": {
            "text/markdown": [
              "- name: motesp\n",
              "- no_of_prompts: 29\n",
              "- no_of_participants: 35\n",
              "- no_of_data_points: 963\n",
              "- prompts: ['backpack', 'ball', 'bottle', 'hat', 'light bulb', 'pencil', 'shoe', 'sock', 'spoon', 'toothbrush', 'big', 'cold', 'fun', 'red', 'smelly', 'soft', 'tasty', 'wet', 'aliens landed', 'kid president', 'rain soda', 'teacher read minds', 'time travel', 'friend phone', 'library', 'playground', 'school bus', 'sleepover', 'teacher talking']\n",
              "- ICC2k: 0.73\n",
              "- ICC2k_CI: 0.66-0.78\n",
              "- ICC3k: 0.75\n",
              "- rater_cols: ['D', 'K', 'T']\n",
              "- no_of_raters: 3\n"
            ],
            "text/plain": [
              "<IPython.core.display.Markdown object>"
            ]
          },
          "metadata": {},
          "output_type": "display_data"
        },
        {
          "name": "stderr",
          "output_type": "stream",
          "text": [
            "/Users/peter.organisciak/anaconda3/lib/python3.9/site-packages/pandas/io/sql.py:761: UserWarning: pandas only support SQLAlchemy connectable(engine/connection) ordatabase string URI or sqlite3 DBAPI2 connectionother DBAPI2 objects are not tested, please consider using SQLAlchemy\n",
            "  warnings.warn(\n"
          ]
        },
        {
          "data": {
            "text/html": [
              "<div>\n",
              "<style scoped>\n",
              "    .dataframe tbody tr th:only-of-type {\n",
              "        vertical-align: middle;\n",
              "    }\n",
              "\n",
              "    .dataframe tbody tr th {\n",
              "        vertical-align: top;\n",
              "    }\n",
              "\n",
              "    .dataframe thead th {\n",
              "        text-align: right;\n",
              "    }\n",
              "</style>\n",
              "<table border=\"1\" class=\"dataframe\">\n",
              "  <thead>\n",
              "    <tr style=\"text-align: right;\">\n",
              "      <th></th>\n",
              "      <th>type</th>\n",
              "      <th>src</th>\n",
              "      <th>question</th>\n",
              "      <th>prompt</th>\n",
              "      <th>response</th>\n",
              "      <th>id</th>\n",
              "      <th>target</th>\n",
              "      <th>participant</th>\n",
              "      <th>response_num</th>\n",
              "      <th>language</th>\n",
              "      <th>rater_count</th>\n",
              "      <th>rating_std</th>\n",
              "    </tr>\n",
              "  </thead>\n",
              "  <tbody>\n",
              "    <tr>\n",
              "      <th>540</th>\n",
              "      <td>instances</td>\n",
              "      <td>motesp</td>\n",
              "      <td>What is a surprising example of something TASTY?</td>\n",
              "      <td>tasty</td>\n",
              "      <td>Ice cream with macaroons, lollipops, skittles,...</td>\n",
              "      <td>motesp_g2_tasty-b810e2</td>\n",
              "      <td>2.555333</td>\n",
              "      <td>motesp13OO</td>\n",
              "      <td>None</td>\n",
              "      <td>eng</td>\n",
              "      <td>3</td>\n",
              "      <td>0.577350</td>\n",
              "    </tr>\n",
              "    <tr>\n",
              "      <th>277</th>\n",
              "      <td>uses</td>\n",
              "      <td>motesp</td>\n",
              "      <td>What is a surprising use for a SPOON?</td>\n",
              "      <td>spoon</td>\n",
              "      <td>Use it as a small sword</td>\n",
              "      <td>motesp_g1_spoon-f6636d</td>\n",
              "      <td>3.222000</td>\n",
              "      <td>motesp17ZR</td>\n",
              "      <td>None</td>\n",
              "      <td>eng</td>\n",
              "      <td>3</td>\n",
              "      <td>1.527525</td>\n",
              "    </tr>\n",
              "  </tbody>\n",
              "</table>\n",
              "</div>"
            ],
            "text/plain": [
              "          type     src                                          question  \\\n",
              "540  instances  motesp  What is a surprising example of something TASTY?   \n",
              "277       uses  motesp             What is a surprising use for a SPOON?   \n",
              "\n",
              "    prompt                                           response  \\\n",
              "540  tasty  Ice cream with macaroons, lollipops, skittles,...   \n",
              "277  spoon                            Use it as a small sword   \n",
              "\n",
              "                         id    target participant response_num language  \\\n",
              "540  motesp_g2_tasty-b810e2  2.555333  motesp13OO         None      eng   \n",
              "277  motesp_g1_spoon-f6636d  3.222000  motesp17ZR         None      eng   \n",
              "\n",
              "     rater_count  rating_std  \n",
              "540            3    0.577350  \n",
              "277            3    1.527525  "
            ]
          },
          "execution_count": 192,
          "metadata": {},
          "output_type": "execute_result"
        }
      ],
      "source": [
        "desc = {\n",
        "    \"name\": \"motesp\",\n",
        "    \"meta\": {\n",
        "        \"inline\": \"Acar et al., 2023\",\n",
        "        \"citation\": \"Acar, S., Dumas, D., Organisciak, P., Berthiaume, K. (2023). Measuring original thinking in elementary school: Development and validation of a computational psychometric approach. Journal of Educational Psychology. http://dx.doi.org/10.13140/RG.2.2.19804.56968\",\n",
        "        \"url\": \"http://dx.doi.org/10.13140/RG.2.2.19804.56968\",\n",
        "        \"download\": {}\n",
        "    },\n",
        "    \"rater_cols\": ['D', 'K', 'T'],\n",
        "    \"range\": [1, 7],\n",
        "    \"replace_values\": {\n",
        "        \"prompt\": {\n",
        "            \"lightbulb\": \"light bulb\"\n",
        "        },\n",
        "        \"question\": {\n",
        "            \"What is a surprising use for a LIGHTBULB?\": \"What is a surprising use for a LIGHT BULB?\"\n",
        "        }\n",
        "    },\n",
        "    \"language\": \"eng\",\n",
        "}\n",
        "df = pd.read_csv('../data/raw/motesp_0.csv')\n",
        "cleaned = prep_general(df, **desc, save_dir='../data/datasets')\n",
        "cleaned.sample(2)"
      ]
    },
    {
      "cell_type": "markdown",
      "metadata": {
        "id": "tbICpoGS4nvR"
      },
      "source": [
        "## MOTES\n",
        "\n",
        "This is the post-pilot data. As with the pilot data, this dataset is available on request. Please reach out!"
      ]
    },
    {
      "cell_type": "code",
      "execution_count": 193,
      "metadata": {},
      "outputs": [
        {
          "data": {
            "text/markdown": [
              "### Loading *Acar et al., 2023*"
            ],
            "text/plain": [
              "<IPython.core.display.Markdown object>"
            ]
          },
          "metadata": {},
          "output_type": "display_data"
        },
        {
          "data": {
            "text/markdown": [
              "Acar, S., Dumas, D., Organisciak, P., Berthiaume, K. (2023). Measuring original thinking in elementary school: Development and validation of a computational psychometric approach. Journal of Educational Psychology. http://dx.doi.org/10.13140/RG.2.2.19804.56968"
            ],
            "text/plain": [
              "<IPython.core.display.Markdown object>"
            ]
          },
          "metadata": {},
          "output_type": "display_data"
        },
        {
          "data": {
            "text/markdown": [
              "- Renaming columns {'ID': 'participant'}"
            ],
            "text/plain": [
              "<IPython.core.display.Markdown object>"
            ]
          },
          "metadata": {},
          "output_type": "display_data"
        },
        {
          "name": "stdout",
          "output_type": "stream",
          "text": [
            "Replacing -999 with NaN in response column\n"
          ]
        },
        {
          "data": {
            "text/markdown": [
              "- name: motesf\n",
              "- no_of_prompts: 24\n",
              "- no_of_participants: 386\n",
              "- no_of_data_points: 8563\n",
              "- prompts: ['ball', 'sock', 'pencil', 'spoon', 'light bulb', 'hat', 'bottle', 'toothbrush', 'smelly', 'soft', 'red', 'frozen', 'wet', 'huge', 'fun', 'tasty', 'school bus', 'games', 'library', 'lecture', 'phone', 'rain', 'closet', 'lunchroom']\n",
              "- ICC2k: 0.79\n",
              "- ICC2k_CI: 0.69-0.85\n",
              "- ICC3k: 0.84\n",
              "- rater_cols: ['Kscore', 'Hscore', 'Cscore', 'Tscore', 'Mscore']\n",
              "- no_of_raters: 5\n"
            ],
            "text/plain": [
              "<IPython.core.display.Markdown object>"
            ]
          },
          "metadata": {},
          "output_type": "display_data"
        },
        {
          "name": "stderr",
          "output_type": "stream",
          "text": [
            "/Users/peter.organisciak/anaconda3/lib/python3.9/site-packages/pandas/io/sql.py:761: UserWarning: pandas only support SQLAlchemy connectable(engine/connection) ordatabase string URI or sqlite3 DBAPI2 connectionother DBAPI2 objects are not tested, please consider using SQLAlchemy\n",
            "  warnings.warn(\n"
          ]
        },
        {
          "data": {
            "text/html": [
              "<div>\n",
              "<style scoped>\n",
              "    .dataframe tbody tr th:only-of-type {\n",
              "        vertical-align: middle;\n",
              "    }\n",
              "\n",
              "    .dataframe tbody tr th {\n",
              "        vertical-align: top;\n",
              "    }\n",
              "\n",
              "    .dataframe thead th {\n",
              "        text-align: right;\n",
              "    }\n",
              "</style>\n",
              "<table border=\"1\" class=\"dataframe\">\n",
              "  <thead>\n",
              "    <tr style=\"text-align: right;\">\n",
              "      <th></th>\n",
              "      <th>type</th>\n",
              "      <th>src</th>\n",
              "      <th>question</th>\n",
              "      <th>prompt</th>\n",
              "      <th>response</th>\n",
              "      <th>id</th>\n",
              "      <th>target</th>\n",
              "      <th>participant</th>\n",
              "      <th>response_num</th>\n",
              "      <th>language</th>\n",
              "      <th>rater_count</th>\n",
              "      <th>rating_std</th>\n",
              "    </tr>\n",
              "  </thead>\n",
              "  <tbody>\n",
              "    <tr>\n",
              "      <th>6803</th>\n",
              "      <td>completion</td>\n",
              "      <td>motesf</td>\n",
              "      <td>Complete this sentence in a surprising way: \"W...</td>\n",
              "      <td>library</td>\n",
              "      <td>they yelled banana</td>\n",
              "      <td>motesf_library-b37f15</td>\n",
              "      <td>2.3996</td>\n",
              "      <td>motesf63923f</td>\n",
              "      <td>1</td>\n",
              "      <td>eng</td>\n",
              "      <td>5</td>\n",
              "      <td>0.547723</td>\n",
              "    </tr>\n",
              "    <tr>\n",
              "      <th>7836</th>\n",
              "      <td>completion</td>\n",
              "      <td>motesf</td>\n",
              "      <td>Complete this sentence in a surprising way: \"I...</td>\n",
              "      <td>rain</td>\n",
              "      <td>my shoes got dirty from the mud</td>\n",
              "      <td>motesf_rain-50438f</td>\n",
              "      <td>2.1998</td>\n",
              "      <td>motesf621bf6</td>\n",
              "      <td>6</td>\n",
              "      <td>eng</td>\n",
              "      <td>5</td>\n",
              "      <td>0.447214</td>\n",
              "    </tr>\n",
              "  </tbody>\n",
              "</table>\n",
              "</div>"
            ],
            "text/plain": [
              "            type     src                                           question  \\\n",
              "6803  completion  motesf  Complete this sentence in a surprising way: \"W...   \n",
              "7836  completion  motesf  Complete this sentence in a surprising way: \"I...   \n",
              "\n",
              "       prompt                         response                     id  target  \\\n",
              "6803  library               they yelled banana  motesf_library-b37f15  2.3996   \n",
              "7836     rain  my shoes got dirty from the mud     motesf_rain-50438f  2.1998   \n",
              "\n",
              "       participant  response_num language  rater_count  rating_std  \n",
              "6803  motesf63923f             1      eng            5    0.547723  \n",
              "7836  motesf621bf6             6      eng            5    0.447214  "
            ]
          },
          "execution_count": 193,
          "metadata": {},
          "output_type": "execute_result"
        }
      ],
      "source": [
        "desc = {\n",
        "    \"name\": \"motesf\",\n",
        "    \"meta\": {\n",
        "        \"inline\": \"Acar et al., 2023\",\n",
        "        \"citation\": \"Acar, S., Dumas, D., Organisciak, P., Berthiaume, K. (2023). Measuring original thinking in elementary school: Development and validation of a computational psychometric approach. Journal of Educational Psychology. http://dx.doi.org/10.13140/RG.2.2.19804.56968\",\n",
        "        \"url\": \"http://dx.doi.org/10.13140/RG.2.2.19804.56968\",\n",
        "        \"download\": {}\n",
        "    },\n",
        "    \"column_mappings\": {'ID':'participant'},\n",
        "    \"null_marker\": -999,\n",
        "    \"rater_cols\": [\"Kscore\", \"Hscore\", \"Cscore\", \"Tscore\", \"Mscore\"],\n",
        "    \"replace_values\": {\n",
        "        \"prompt\": {\n",
        "            \"lightbulb\": \"light bulb\"\n",
        "        },\n",
        "        \"question\": {\n",
        "            \"What is a surprising use for a LIGHTBULB?\": \"What is a surprising use for a LIGHT BULB?\"\n",
        "        }\n",
        "    },\n",
        "    \"range\": [1, 5], # different scale than motesp pilot\n",
        "    \"language\": \"eng\"\n",
        "}\n",
        "# data was already reshaped to long format for previous study\n",
        "df = pd.read_csv('../data/raw/motesf_0.csv')\n",
        "cleaned = prep_general(df, **desc, save_dir='../data/datasets')\n",
        "cleaned.sample(2)"
      ]
    },
    {
      "cell_type": "markdown",
      "metadata": {},
      "source": [
        "## Multilingual semantic distance\n",
        "\n",
        "From: Patterson, J. D., Merseal, H. M., Johnson, D. R., Agnoli, S., Baas, M., Baker, B. S., ... & Beaty, R. E. (2023). Multilingual semantic distance: Automatic verbal creativity assessment in many languages. Psychology of Aesthetics, Creativity, and the Arts, 17(4), 495."
      ]
    },
    {
      "cell_type": "markdown",
      "metadata": {},
      "source": [
        "\n",
        "In the paper, the *exact* provenance of subdata isn't specified, so needs further investigation to determine why additional citations are needed:\n",
        "\n",
        "> We received 30 datasets, with a combined sample size of 6,522, reflecting data from 22 labs and 12 languages: Arabic, Chinese, Dutch, English, Farsi, French German, Hebrew, Italian, Polish, Russian, and Spanish (see Figure 1). Several datasets came from published studies, whereas others have not been used for publication.\n",
        "\n",
        "For verification, here are the published ICC values (which look to be the ICC3k values):\n",
        "\n",
        "| Dataset  | Raters | ICC  |\n",
        "|----------|--------|------|\n",
        "| Arabic1  | 1      | N/A  |\n",
        "| Chinese1 | 4      | 0.49 |\n",
        "| Chinese2 | 4      | 0.64 |\n",
        "| Dutch1   | 2      | 0.81 |\n",
        "| Dutch2   | 2      | 0.94 |\n",
        "| Dutch3   | 2      | 0.87 |\n",
        "| Dutch4   | 3      | 0.85 |\n",
        "| English1 | 4      | 0.84 |\n",
        "| English2 | 4      | 0.77 |\n",
        "| English3 | 3      | 0.56 |\n",
        "| English4 | 3      | 0.72 |\n",
        "| English5 | 3      | 0.78 |\n",
        "| English6 | 3      | 0.64 |\n",
        "| Farsi1   | 3      | 0.69 |\n",
        "| Farsi2   | 3      | 0.75 |\n",
        "| French1  | 4      | 0.8  |\n",
        "| French2  | 3      | 0.64 |\n",
        "| French3  | 3      | 0.75 |\n",
        "| French4  | 3      | 0.8  |\n",
        "| German1  | 4      | 0.71 |\n",
        "| German2  | 3      | 0.78 |\n",
        "| German3  | 3      | 0.86 |\n",
        "| Hebrew1  | 45     | 0.88 |\n",
        "| Italian1 | 2      | 0.89 |\n",
        "| Italian2 | 2      | 0.88 |\n",
        "| Polish1  | 3      | 0.82 |\n",
        "| Polish2  | 2      | 0.6  |\n",
        "| Russian1 | 3      | 0.72 |\n",
        "| Russian2 | 3      | 0.79 |\n",
        "| Spanish1 | 3      | 0.74 |"
      ]
    },
    {
      "cell_type": "code",
      "execution_count": 220,
      "metadata": {},
      "outputs": [],
      "source": [
        "desc = {\n",
        "    \"name\": \"multiaut\",\n",
        "    \"test_type\": \"uses\",\n",
        "    \"meta\": {\n",
        "        \"inline\": \"Patterson et al., 2023\",\n",
        "        \"citation\": \"Patterson, J. D., Merseal, H. M., Johnson, D. R., Agnoli, S., Baas, M., Baker, B. S., ... & Beaty, R. E. (2023). Multilingual semantic distance: Automatic verbal creativity assessment in many languages. Psychology of Aesthetics, Creativity, and the Arts, 17(4), 495.\",\n",
        "        \"url\": \"https://doi.org/10.1037/aca0000618\",\n",
        "        \"download\": {\n",
        "            \"url\": \"https://files.osf.io/v1/resources/5cy9n/providers/github/processed-data/?zip=\",\n",
        "            \"extension\": \"zip\",\n",
        "            # Excluded for redundancy\n",
        "            # english5 is the same as bs12\n",
        "            # english4 is the same as snb17\n",
        "            # english1 is the same as betal18\n",
        "            \"archive_files\": [\n",
        "                \"arabic1.csv\", \"dutch4.csv\", \"english6.csv\", \"german3.csv\", \"russian1.csv\",\n",
        "                \"chinese1.csv\", \"french2.csv\", \"hebrew1.csv\", \"russian2.csv\",\n",
        "                \"chinese2.csv\", \"english2.csv\", \"french3.csv\", \"italian1.csv\", \"spanish1.csv\",\n",
        "                \"dutch1.csv\", \"english3.csv\", \"french4.csv\", \"italian2.csv\",\n",
        "                \"dutch2.csv\", \"german1.csv\", \"polish1.csv\",\n",
        "                \"dutch3.csv\", \"german2.csv\", \"polish2.csv\"\n",
        "            ]\n",
        "        }\n",
        "    },\n",
        "    \"column_mappings\": {'ID': 'participant', 'order':'response_num'}\n",
        "}\n"
      ]
    },
    {
      "cell_type": "code",
      "execution_count": 216,
      "metadata": {},
      "outputs": [
        {
          "name": "stdout",
          "output_type": "stream",
          "text": [
            "arabic1\n"
          ]
        },
        {
          "data": {
            "text/markdown": [
              "### Loading *Patterson et al., 2023*"
            ],
            "text/plain": [
              "<IPython.core.display.Markdown object>"
            ]
          },
          "metadata": {},
          "output_type": "display_data"
        },
        {
          "data": {
            "text/markdown": [
              "Patterson, J. D., Merseal, H. M., Johnson, D. R., Agnoli, S., Baas, M., Baker, B. S., ... & Beaty, R. E. (2023). Multilingual semantic distance: Automatic verbal creativity assessment in many languages. Psychology of Aesthetics, Creativity, and the Arts, 17(4), 495."
            ],
            "text/plain": [
              "<IPython.core.display.Markdown object>"
            ]
          },
          "metadata": {},
          "output_type": "display_data"
        },
        {
          "data": {
            "text/markdown": [
              "- Renaming columns {'ID': 'participant', 'order': 'response_num'}"
            ],
            "text/plain": [
              "<IPython.core.display.Markdown object>"
            ]
          },
          "metadata": {},
          "output_type": "display_data"
        },
        {
          "data": {
            "text/markdown": [
              "- Inferred range of original data: (1, 5)"
            ],
            "text/plain": [
              "<IPython.core.display.Markdown object>"
            ]
          },
          "metadata": {},
          "output_type": "display_data"
        },
        {
          "data": {
            "text/markdown": [
              "- name: multiaut_arabic1\n",
              "- no_of_prompts: 1\n",
              "- no_of_participants: 160\n",
              "- no_of_data_points: 1524\n",
              "- prompts: ['Tin cans']\n",
              "- ICC2k: None\n",
              "- ICC2k_CI: None\n",
              "- ICC3k: None\n",
              "- rater_cols: ['rater1']\n",
              "- no_of_raters: 1\n"
            ],
            "text/plain": [
              "<IPython.core.display.Markdown object>"
            ]
          },
          "metadata": {},
          "output_type": "display_data"
        },
        {
          "name": "stderr",
          "output_type": "stream",
          "text": [
            "/Users/peter.organisciak/anaconda3/lib/python3.9/site-packages/pandas/io/sql.py:761: UserWarning: pandas only support SQLAlchemy connectable(engine/connection) ordatabase string URI or sqlite3 DBAPI2 connectionother DBAPI2 objects are not tested, please consider using SQLAlchemy\n",
            "  warnings.warn(\n"
          ]
        },
        {
          "data": {
            "text/html": [
              "<div>\n",
              "<style scoped>\n",
              "    .dataframe tbody tr th:only-of-type {\n",
              "        vertical-align: middle;\n",
              "    }\n",
              "\n",
              "    .dataframe tbody tr th {\n",
              "        vertical-align: top;\n",
              "    }\n",
              "\n",
              "    .dataframe thead th {\n",
              "        text-align: right;\n",
              "    }\n",
              "</style>\n",
              "<table border=\"1\" class=\"dataframe\">\n",
              "  <thead>\n",
              "    <tr style=\"text-align: right;\">\n",
              "      <th></th>\n",
              "      <th>type</th>\n",
              "      <th>src</th>\n",
              "      <th>question</th>\n",
              "      <th>prompt</th>\n",
              "      <th>response</th>\n",
              "      <th>id</th>\n",
              "      <th>target</th>\n",
              "      <th>participant</th>\n",
              "      <th>response_num</th>\n",
              "      <th>language</th>\n",
              "      <th>rater_count</th>\n",
              "      <th>rating_std</th>\n",
              "    </tr>\n",
              "  </thead>\n",
              "  <tbody>\n",
              "    <tr>\n",
              "      <th>1481</th>\n",
              "      <td>uses</td>\n",
              "      <td>multiaut_arabic1</td>\n",
              "      <td>ما هو الاستخدام المفاجئ لـ TIN CANS؟</td>\n",
              "      <td>Tin cans</td>\n",
              "      <td>وسيلة لتعليم الألوان</td>\n",
              "      <td>multiaut_arabic1_Tin cans-d9925e</td>\n",
              "      <td>3.0</td>\n",
              "      <td>multiaut_arabic1189</td>\n",
              "      <td>3</td>\n",
              "      <td>ara</td>\n",
              "      <td>1</td>\n",
              "      <td>NaN</td>\n",
              "    </tr>\n",
              "    <tr>\n",
              "      <th>642</th>\n",
              "      <td>uses</td>\n",
              "      <td>multiaut_arabic1</td>\n",
              "      <td>ما هو الاستخدام المفاجئ لـ TIN CANS؟</td>\n",
              "      <td>Tin cans</td>\n",
              "      <td>صناعة جاروف</td>\n",
              "      <td>multiaut_arabic1_Tin cans-105f96</td>\n",
              "      <td>4.0</td>\n",
              "      <td>multiaut_arabic184</td>\n",
              "      <td>11</td>\n",
              "      <td>ara</td>\n",
              "      <td>1</td>\n",
              "      <td>NaN</td>\n",
              "    </tr>\n",
              "  </tbody>\n",
              "</table>\n",
              "</div>"
            ],
            "text/plain": [
              "      type               src                              question    prompt  \\\n",
              "1481  uses  multiaut_arabic1  ما هو الاستخدام المفاجئ لـ TIN CANS؟  Tin cans   \n",
              "642   uses  multiaut_arabic1  ما هو الاستخدام المفاجئ لـ TIN CANS؟  Tin cans   \n",
              "\n",
              "                  response                                id  target  \\\n",
              "1481  وسيلة لتعليم الألوان  multiaut_arabic1_Tin cans-d9925e     3.0   \n",
              "642            صناعة جاروف  multiaut_arabic1_Tin cans-105f96     4.0   \n",
              "\n",
              "              participant  response_num language  rater_count  rating_std  \n",
              "1481  multiaut_arabic1189             3      ara            1         NaN  \n",
              "642    multiaut_arabic184            11      ara            1         NaN  "
            ]
          },
          "metadata": {},
          "output_type": "display_data"
        },
        {
          "name": "stdout",
          "output_type": "stream",
          "text": [
            "dutch4\n"
          ]
        },
        {
          "data": {
            "text/markdown": [
              "### Loading *Patterson et al., 2023*"
            ],
            "text/plain": [
              "<IPython.core.display.Markdown object>"
            ]
          },
          "metadata": {},
          "output_type": "display_data"
        },
        {
          "data": {
            "text/markdown": [
              "Patterson, J. D., Merseal, H. M., Johnson, D. R., Agnoli, S., Baas, M., Baker, B. S., ... & Beaty, R. E. (2023). Multilingual semantic distance: Automatic verbal creativity assessment in many languages. Psychology of Aesthetics, Creativity, and the Arts, 17(4), 495."
            ],
            "text/plain": [
              "<IPython.core.display.Markdown object>"
            ]
          },
          "metadata": {},
          "output_type": "display_data"
        },
        {
          "data": {
            "text/markdown": [
              "- Renaming columns {'ID': 'participant', 'order': 'response_num'}"
            ],
            "text/plain": [
              "<IPython.core.display.Markdown object>"
            ]
          },
          "metadata": {},
          "output_type": "display_data"
        },
        {
          "data": {
            "text/markdown": [
              "- Inferred range of original data: (0.0, 5.0)"
            ],
            "text/plain": [
              "<IPython.core.display.Markdown object>"
            ]
          },
          "metadata": {},
          "output_type": "display_data"
        },
        {
          "data": {
            "text/markdown": [
              "- name: multiaut_dutch4\n",
              "- no_of_prompts: 1\n",
              "- no_of_participants: 99\n",
              "- no_of_data_points: 2414\n",
              "- prompts: ['backstreen']\n",
              "- ICC2k: 0.84\n",
              "- ICC2k_CI: 0.82-0.86\n",
              "- ICC3k: 0.85\n",
              "- rater_cols: ['rater1', 'rater2', 'rater3']\n",
              "- no_of_raters: 3\n"
            ],
            "text/plain": [
              "<IPython.core.display.Markdown object>"
            ]
          },
          "metadata": {},
          "output_type": "display_data"
        },
        {
          "name": "stderr",
          "output_type": "stream",
          "text": [
            "/Users/peter.organisciak/anaconda3/lib/python3.9/site-packages/pandas/io/sql.py:761: UserWarning: pandas only support SQLAlchemy connectable(engine/connection) ordatabase string URI or sqlite3 DBAPI2 connectionother DBAPI2 objects are not tested, please consider using SQLAlchemy\n",
            "  warnings.warn(\n"
          ]
        },
        {
          "data": {
            "text/html": [
              "<div>\n",
              "<style scoped>\n",
              "    .dataframe tbody tr th:only-of-type {\n",
              "        vertical-align: middle;\n",
              "    }\n",
              "\n",
              "    .dataframe tbody tr th {\n",
              "        vertical-align: top;\n",
              "    }\n",
              "\n",
              "    .dataframe thead th {\n",
              "        text-align: right;\n",
              "    }\n",
              "</style>\n",
              "<table border=\"1\" class=\"dataframe\">\n",
              "  <thead>\n",
              "    <tr style=\"text-align: right;\">\n",
              "      <th></th>\n",
              "      <th>type</th>\n",
              "      <th>src</th>\n",
              "      <th>question</th>\n",
              "      <th>prompt</th>\n",
              "      <th>response</th>\n",
              "      <th>id</th>\n",
              "      <th>target</th>\n",
              "      <th>participant</th>\n",
              "      <th>response_num</th>\n",
              "      <th>language</th>\n",
              "      <th>rater_count</th>\n",
              "      <th>rating_std</th>\n",
              "    </tr>\n",
              "  </thead>\n",
              "  <tbody>\n",
              "    <tr>\n",
              "      <th>654</th>\n",
              "      <td>uses</td>\n",
              "      <td>multiaut_dutch4</td>\n",
              "      <td>Wat is een verrassend gebruik voor een BACKSTR...</td>\n",
              "      <td>backstreen</td>\n",
              "      <td>Muren</td>\n",
              "      <td>multiaut_dutch4_backstreen-9d94b6</td>\n",
              "      <td>1.8</td>\n",
              "      <td>multiaut_dutch444</td>\n",
              "      <td>None</td>\n",
              "      <td>dut</td>\n",
              "      <td>3</td>\n",
              "      <td>0.0</td>\n",
              "    </tr>\n",
              "    <tr>\n",
              "      <th>83</th>\n",
              "      <td>uses</td>\n",
              "      <td>multiaut_dutch4</td>\n",
              "      <td>Wat is een verrassend gebruik voor een BACKSTR...</td>\n",
              "      <td>backstreen</td>\n",
              "      <td>Boekenhouder</td>\n",
              "      <td>multiaut_dutch4_backstreen-b332e4</td>\n",
              "      <td>3.4</td>\n",
              "      <td>multiaut_dutch411</td>\n",
              "      <td>None</td>\n",
              "      <td>dut</td>\n",
              "      <td>3</td>\n",
              "      <td>1.0</td>\n",
              "    </tr>\n",
              "  </tbody>\n",
              "</table>\n",
              "</div>"
            ],
            "text/plain": [
              "     type              src                                           question  \\\n",
              "654  uses  multiaut_dutch4  Wat is een verrassend gebruik voor een BACKSTR...   \n",
              "83   uses  multiaut_dutch4  Wat is een verrassend gebruik voor een BACKSTR...   \n",
              "\n",
              "         prompt      response                                 id  target  \\\n",
              "654  backstreen         Muren  multiaut_dutch4_backstreen-9d94b6     1.8   \n",
              "83   backstreen  Boekenhouder  multiaut_dutch4_backstreen-b332e4     3.4   \n",
              "\n",
              "           participant response_num language  rater_count  rating_std  \n",
              "654  multiaut_dutch444         None      dut            3         0.0  \n",
              "83   multiaut_dutch411         None      dut            3         1.0  "
            ]
          },
          "metadata": {},
          "output_type": "display_data"
        },
        {
          "name": "stdout",
          "output_type": "stream",
          "text": [
            "english6\n"
          ]
        },
        {
          "data": {
            "text/markdown": [
              "### Loading *Patterson et al., 2023*"
            ],
            "text/plain": [
              "<IPython.core.display.Markdown object>"
            ]
          },
          "metadata": {},
          "output_type": "display_data"
        },
        {
          "data": {
            "text/markdown": [
              "Patterson, J. D., Merseal, H. M., Johnson, D. R., Agnoli, S., Baas, M., Baker, B. S., ... & Beaty, R. E. (2023). Multilingual semantic distance: Automatic verbal creativity assessment in many languages. Psychology of Aesthetics, Creativity, and the Arts, 17(4), 495."
            ],
            "text/plain": [
              "<IPython.core.display.Markdown object>"
            ]
          },
          "metadata": {},
          "output_type": "display_data"
        },
        {
          "data": {
            "text/markdown": [
              "- Renaming columns {'ID': 'participant', 'order': 'response_num'}"
            ],
            "text/plain": [
              "<IPython.core.display.Markdown object>"
            ]
          },
          "metadata": {},
          "output_type": "display_data"
        },
        {
          "data": {
            "text/markdown": [
              "- Inferred range of original data: (1.0, 5.0)"
            ],
            "text/plain": [
              "<IPython.core.display.Markdown object>"
            ]
          },
          "metadata": {},
          "output_type": "display_data"
        },
        {
          "name": "stdout",
          "output_type": "stream",
          "text": [
            "Dropping 7 unrated items\n"
          ]
        },
        {
          "data": {
            "text/markdown": [
              "- name: multiaut_english6\n",
              "- no_of_prompts: 2\n",
              "- no_of_participants: 241\n",
              "- no_of_data_points: 3425\n",
              "- prompts: ['brick', 'knife']\n",
              "- ICC2k: 0.48\n",
              "- ICC2k_CI: 0.15-0.65\n",
              "- ICC3k: 0.64\n",
              "- rater_cols: ['rater1', 'rater2', 'rater3']\n",
              "- no_of_raters: 3\n"
            ],
            "text/plain": [
              "<IPython.core.display.Markdown object>"
            ]
          },
          "metadata": {},
          "output_type": "display_data"
        },
        {
          "name": "stderr",
          "output_type": "stream",
          "text": [
            "/Users/peter.organisciak/anaconda3/lib/python3.9/site-packages/pandas/io/sql.py:761: UserWarning: pandas only support SQLAlchemy connectable(engine/connection) ordatabase string URI or sqlite3 DBAPI2 connectionother DBAPI2 objects are not tested, please consider using SQLAlchemy\n",
            "  warnings.warn(\n"
          ]
        },
        {
          "data": {
            "text/html": [
              "<div>\n",
              "<style scoped>\n",
              "    .dataframe tbody tr th:only-of-type {\n",
              "        vertical-align: middle;\n",
              "    }\n",
              "\n",
              "    .dataframe tbody tr th {\n",
              "        vertical-align: top;\n",
              "    }\n",
              "\n",
              "    .dataframe thead th {\n",
              "        text-align: right;\n",
              "    }\n",
              "</style>\n",
              "<table border=\"1\" class=\"dataframe\">\n",
              "  <thead>\n",
              "    <tr style=\"text-align: right;\">\n",
              "      <th></th>\n",
              "      <th>type</th>\n",
              "      <th>src</th>\n",
              "      <th>question</th>\n",
              "      <th>prompt</th>\n",
              "      <th>response</th>\n",
              "      <th>id</th>\n",
              "      <th>target</th>\n",
              "      <th>participant</th>\n",
              "      <th>response_num</th>\n",
              "      <th>language</th>\n",
              "      <th>rater_count</th>\n",
              "      <th>rating_std</th>\n",
              "    </tr>\n",
              "  </thead>\n",
              "  <tbody>\n",
              "    <tr>\n",
              "      <th>575</th>\n",
              "      <td>uses</td>\n",
              "      <td>multiaut_english6</td>\n",
              "      <td>What is a surprising use for a KNIFE?</td>\n",
              "      <td>knife</td>\n",
              "      <td>cut ropes</td>\n",
              "      <td>multiaut_english6_knife-69d7c0</td>\n",
              "      <td>1.000</td>\n",
              "      <td>multiaut_english644</td>\n",
              "      <td>None</td>\n",
              "      <td>eng</td>\n",
              "      <td>3</td>\n",
              "      <td>0.00000</td>\n",
              "    </tr>\n",
              "    <tr>\n",
              "      <th>3171</th>\n",
              "      <td>uses</td>\n",
              "      <td>multiaut_english6</td>\n",
              "      <td>What is a surprising use for a KNIFE?</td>\n",
              "      <td>knife</td>\n",
              "      <td>cut tress</td>\n",
              "      <td>multiaut_english6_knife-1613f0</td>\n",
              "      <td>1.333</td>\n",
              "      <td>multiaut_english6223</td>\n",
              "      <td>None</td>\n",
              "      <td>eng</td>\n",
              "      <td>3</td>\n",
              "      <td>0.57735</td>\n",
              "    </tr>\n",
              "  </tbody>\n",
              "</table>\n",
              "</div>"
            ],
            "text/plain": [
              "      type                src                               question prompt  \\\n",
              "575   uses  multiaut_english6  What is a surprising use for a KNIFE?  knife   \n",
              "3171  uses  multiaut_english6  What is a surprising use for a KNIFE?  knife   \n",
              "\n",
              "       response                              id  target           participant  \\\n",
              "575   cut ropes  multiaut_english6_knife-69d7c0   1.000   multiaut_english644   \n",
              "3171  cut tress  multiaut_english6_knife-1613f0   1.333  multiaut_english6223   \n",
              "\n",
              "     response_num language  rater_count  rating_std  \n",
              "575          None      eng            3     0.00000  \n",
              "3171         None      eng            3     0.57735  "
            ]
          },
          "metadata": {},
          "output_type": "display_data"
        },
        {
          "name": "stdout",
          "output_type": "stream",
          "text": [
            "german3\n"
          ]
        },
        {
          "data": {
            "text/markdown": [
              "### Loading *Patterson et al., 2023*"
            ],
            "text/plain": [
              "<IPython.core.display.Markdown object>"
            ]
          },
          "metadata": {},
          "output_type": "display_data"
        },
        {
          "data": {
            "text/markdown": [
              "Patterson, J. D., Merseal, H. M., Johnson, D. R., Agnoli, S., Baas, M., Baker, B. S., ... & Beaty, R. E. (2023). Multilingual semantic distance: Automatic verbal creativity assessment in many languages. Psychology of Aesthetics, Creativity, and the Arts, 17(4), 495."
            ],
            "text/plain": [
              "<IPython.core.display.Markdown object>"
            ]
          },
          "metadata": {},
          "output_type": "display_data"
        },
        {
          "data": {
            "text/markdown": [
              "- Renaming columns {'ID': 'participant', 'order': 'response_num'}"
            ],
            "text/plain": [
              "<IPython.core.display.Markdown object>"
            ]
          },
          "metadata": {},
          "output_type": "display_data"
        },
        {
          "data": {
            "text/markdown": [
              "- Inferred range of original data: (1, 5)"
            ],
            "text/plain": [
              "<IPython.core.display.Markdown object>"
            ]
          },
          "metadata": {},
          "output_type": "display_data"
        },
        {
          "data": {
            "text/markdown": [
              "- name: multiaut_german3\n",
              "- no_of_prompts: 16\n",
              "- no_of_participants: 51\n",
              "- no_of_data_points: 8065\n",
              "- prompts: ['Axt', 'Trompete', 'Erbse', 'Tisch', 'Flöte', 'Zange', 'Gurke', 'Bett', 'Tomate', 'Geige', 'Schaufel', 'Schrank', 'Paprika', 'Stuhl', 'Trommel', 'Säge']\n",
              "- ICC2k: 0.85\n",
              "- ICC2k_CI: 0.83-0.87\n",
              "- ICC3k: 0.86\n",
              "- rater_cols: ['rater1', 'rater2', 'rater3']\n",
              "- no_of_raters: 3\n"
            ],
            "text/plain": [
              "<IPython.core.display.Markdown object>"
            ]
          },
          "metadata": {},
          "output_type": "display_data"
        },
        {
          "name": "stderr",
          "output_type": "stream",
          "text": [
            "/Users/peter.organisciak/anaconda3/lib/python3.9/site-packages/pandas/io/sql.py:761: UserWarning: pandas only support SQLAlchemy connectable(engine/connection) ordatabase string URI or sqlite3 DBAPI2 connectionother DBAPI2 objects are not tested, please consider using SQLAlchemy\n",
            "  warnings.warn(\n"
          ]
        },
        {
          "data": {
            "text/html": [
              "<div>\n",
              "<style scoped>\n",
              "    .dataframe tbody tr th:only-of-type {\n",
              "        vertical-align: middle;\n",
              "    }\n",
              "\n",
              "    .dataframe tbody tr th {\n",
              "        vertical-align: top;\n",
              "    }\n",
              "\n",
              "    .dataframe thead th {\n",
              "        text-align: right;\n",
              "    }\n",
              "</style>\n",
              "<table border=\"1\" class=\"dataframe\">\n",
              "  <thead>\n",
              "    <tr style=\"text-align: right;\">\n",
              "      <th></th>\n",
              "      <th>type</th>\n",
              "      <th>src</th>\n",
              "      <th>question</th>\n",
              "      <th>prompt</th>\n",
              "      <th>response</th>\n",
              "      <th>id</th>\n",
              "      <th>target</th>\n",
              "      <th>participant</th>\n",
              "      <th>response_num</th>\n",
              "      <th>language</th>\n",
              "      <th>rater_count</th>\n",
              "      <th>rating_std</th>\n",
              "    </tr>\n",
              "  </thead>\n",
              "  <tbody>\n",
              "    <tr>\n",
              "      <th>3827</th>\n",
              "      <td>uses</td>\n",
              "      <td>multiaut_german3</td>\n",
              "      <td>Was ist eine überraschende Verwendung für eine...</td>\n",
              "      <td>Gurke</td>\n",
              "      <td>sexspielzeug</td>\n",
              "      <td>multiaut_german3_Gurke-b525bd</td>\n",
              "      <td>3.000</td>\n",
              "      <td>multiaut_german327</td>\n",
              "      <td>17</td>\n",
              "      <td>ger</td>\n",
              "      <td>3</td>\n",
              "      <td>0.00000</td>\n",
              "    </tr>\n",
              "    <tr>\n",
              "      <th>8058</th>\n",
              "      <td>uses</td>\n",
              "      <td>multiaut_german3</td>\n",
              "      <td>Was ist eine überraschende Verwendung für eine...</td>\n",
              "      <td>Säge</td>\n",
              "      <td>in den Boden stecken als Zaun für Meerschweinc...</td>\n",
              "      <td>multiaut_german3_Säge-3b70a2</td>\n",
              "      <td>4.333</td>\n",
              "      <td>multiaut_german355</td>\n",
              "      <td>33</td>\n",
              "      <td>ger</td>\n",
              "      <td>3</td>\n",
              "      <td>0.57735</td>\n",
              "    </tr>\n",
              "  </tbody>\n",
              "</table>\n",
              "</div>"
            ],
            "text/plain": [
              "      type               src  \\\n",
              "3827  uses  multiaut_german3   \n",
              "8058  uses  multiaut_german3   \n",
              "\n",
              "                                               question prompt  \\\n",
              "3827  Was ist eine überraschende Verwendung für eine...  Gurke   \n",
              "8058  Was ist eine überraschende Verwendung für eine...   Säge   \n",
              "\n",
              "                                               response  \\\n",
              "3827                                       sexspielzeug   \n",
              "8058  in den Boden stecken als Zaun für Meerschweinc...   \n",
              "\n",
              "                                 id  target         participant  response_num  \\\n",
              "3827  multiaut_german3_Gurke-b525bd   3.000  multiaut_german327            17   \n",
              "8058   multiaut_german3_Säge-3b70a2   4.333  multiaut_german355            33   \n",
              "\n",
              "     language  rater_count  rating_std  \n",
              "3827      ger            3     0.00000  \n",
              "8058      ger            3     0.57735  "
            ]
          },
          "metadata": {},
          "output_type": "display_data"
        },
        {
          "name": "stdout",
          "output_type": "stream",
          "text": [
            "russian1\n"
          ]
        },
        {
          "data": {
            "text/markdown": [
              "### Loading *Patterson et al., 2023*"
            ],
            "text/plain": [
              "<IPython.core.display.Markdown object>"
            ]
          },
          "metadata": {},
          "output_type": "display_data"
        },
        {
          "data": {
            "text/markdown": [
              "Patterson, J. D., Merseal, H. M., Johnson, D. R., Agnoli, S., Baas, M., Baker, B. S., ... & Beaty, R. E. (2023). Multilingual semantic distance: Automatic verbal creativity assessment in many languages. Psychology of Aesthetics, Creativity, and the Arts, 17(4), 495."
            ],
            "text/plain": [
              "<IPython.core.display.Markdown object>"
            ]
          },
          "metadata": {},
          "output_type": "display_data"
        },
        {
          "data": {
            "text/markdown": [
              "- Renaming columns {'ID': 'participant', 'order': 'response_num'}"
            ],
            "text/plain": [
              "<IPython.core.display.Markdown object>"
            ]
          },
          "metadata": {},
          "output_type": "display_data"
        },
        {
          "data": {
            "text/markdown": [
              "- Inferred range of original data: (1, 5)"
            ],
            "text/plain": [
              "<IPython.core.display.Markdown object>"
            ]
          },
          "metadata": {},
          "output_type": "display_data"
        },
        {
          "data": {
            "text/markdown": [
              "- name: multiaut_russian1\n",
              "- no_of_prompts: 2\n",
              "- no_of_participants: 111\n",
              "- no_of_data_points: 1728\n",
              "- prompts: ['газета', 'деревянная линейка']\n",
              "- ICC2k: 0.72\n",
              "- ICC2k_CI: 0.69-0.74\n",
              "- ICC3k: 0.72\n",
              "- rater_cols: ['rater1', 'rater2', 'rater3']\n",
              "- no_of_raters: 3\n"
            ],
            "text/plain": [
              "<IPython.core.display.Markdown object>"
            ]
          },
          "metadata": {},
          "output_type": "display_data"
        },
        {
          "name": "stderr",
          "output_type": "stream",
          "text": [
            "/Users/peter.organisciak/anaconda3/lib/python3.9/site-packages/pandas/io/sql.py:761: UserWarning: pandas only support SQLAlchemy connectable(engine/connection) ordatabase string URI or sqlite3 DBAPI2 connectionother DBAPI2 objects are not tested, please consider using SQLAlchemy\n",
            "  warnings.warn(\n"
          ]
        },
        {
          "data": {
            "text/html": [
              "<div>\n",
              "<style scoped>\n",
              "    .dataframe tbody tr th:only-of-type {\n",
              "        vertical-align: middle;\n",
              "    }\n",
              "\n",
              "    .dataframe tbody tr th {\n",
              "        vertical-align: top;\n",
              "    }\n",
              "\n",
              "    .dataframe thead th {\n",
              "        text-align: right;\n",
              "    }\n",
              "</style>\n",
              "<table border=\"1\" class=\"dataframe\">\n",
              "  <thead>\n",
              "    <tr style=\"text-align: right;\">\n",
              "      <th></th>\n",
              "      <th>type</th>\n",
              "      <th>src</th>\n",
              "      <th>question</th>\n",
              "      <th>prompt</th>\n",
              "      <th>response</th>\n",
              "      <th>id</th>\n",
              "      <th>target</th>\n",
              "      <th>participant</th>\n",
              "      <th>response_num</th>\n",
              "      <th>language</th>\n",
              "      <th>rater_count</th>\n",
              "      <th>rating_std</th>\n",
              "    </tr>\n",
              "  </thead>\n",
              "  <tbody>\n",
              "    <tr>\n",
              "      <th>376</th>\n",
              "      <td>uses</td>\n",
              "      <td>multiaut_russian1</td>\n",
              "      <td>Какое удивительное применение для ГАЗЕТЫ?</td>\n",
              "      <td>газета</td>\n",
              "      <td>Можно сделать одноразовую одежду</td>\n",
              "      <td>multiaut_russian1_газета-b666e0</td>\n",
              "      <td>2.333</td>\n",
              "      <td>multiaut_russian132</td>\n",
              "      <td>None</td>\n",
              "      <td>rus</td>\n",
              "      <td>3</td>\n",
              "      <td>0.57735</td>\n",
              "    </tr>\n",
              "    <tr>\n",
              "      <th>1410</th>\n",
              "      <td>uses</td>\n",
              "      <td>multiaut_russian1</td>\n",
              "      <td>Какое удивительное применение для ДЕРЕВЯННОЙ Л...</td>\n",
              "      <td>деревянная линейка</td>\n",
              "      <td>Плот для муравьёв</td>\n",
              "      <td>multiaut_russian1_деревянная линейка-64c54b</td>\n",
              "      <td>4.000</td>\n",
              "      <td>multiaut_russian133</td>\n",
              "      <td>None</td>\n",
              "      <td>rus</td>\n",
              "      <td>3</td>\n",
              "      <td>0.00000</td>\n",
              "    </tr>\n",
              "  </tbody>\n",
              "</table>\n",
              "</div>"
            ],
            "text/plain": [
              "      type                src  \\\n",
              "376   uses  multiaut_russian1   \n",
              "1410  uses  multiaut_russian1   \n",
              "\n",
              "                                               question              prompt  \\\n",
              "376           Какое удивительное применение для ГАЗЕТЫ?              газета   \n",
              "1410  Какое удивительное применение для ДЕРЕВЯННОЙ Л...  деревянная линейка   \n",
              "\n",
              "                              response  \\\n",
              "376   Можно сделать одноразовую одежду   \n",
              "1410                 Плот для муравьёв   \n",
              "\n",
              "                                               id  target  \\\n",
              "376               multiaut_russian1_газета-b666e0   2.333   \n",
              "1410  multiaut_russian1_деревянная линейка-64c54b   4.000   \n",
              "\n",
              "              participant response_num language  rater_count  rating_std  \n",
              "376   multiaut_russian132         None      rus            3     0.57735  \n",
              "1410  multiaut_russian133         None      rus            3     0.00000  "
            ]
          },
          "metadata": {},
          "output_type": "display_data"
        },
        {
          "name": "stdout",
          "output_type": "stream",
          "text": [
            "chinese1\n"
          ]
        },
        {
          "data": {
            "text/markdown": [
              "### Loading *Patterson et al., 2023*"
            ],
            "text/plain": [
              "<IPython.core.display.Markdown object>"
            ]
          },
          "metadata": {},
          "output_type": "display_data"
        },
        {
          "data": {
            "text/markdown": [
              "Patterson, J. D., Merseal, H. M., Johnson, D. R., Agnoli, S., Baas, M., Baker, B. S., ... & Beaty, R. E. (2023). Multilingual semantic distance: Automatic verbal creativity assessment in many languages. Psychology of Aesthetics, Creativity, and the Arts, 17(4), 495."
            ],
            "text/plain": [
              "<IPython.core.display.Markdown object>"
            ]
          },
          "metadata": {},
          "output_type": "display_data"
        },
        {
          "data": {
            "text/markdown": [
              "- Renaming columns {'ID': 'participant', 'order': 'response_num'}"
            ],
            "text/plain": [
              "<IPython.core.display.Markdown object>"
            ]
          },
          "metadata": {},
          "output_type": "display_data"
        },
        {
          "data": {
            "text/markdown": [
              "- Inferred range of original data: (0, 5)"
            ],
            "text/plain": [
              "<IPython.core.display.Markdown object>"
            ]
          },
          "metadata": {},
          "output_type": "display_data"
        },
        {
          "data": {
            "text/markdown": [
              "- name: multiaut_chinese1\n",
              "- no_of_prompts: 122\n",
              "- no_of_participants: 466\n",
              "- no_of_data_points: 14176\n",
              "- prompts: ['积木', '漏斗', '轮胎', '盘子', '皮带', '塑料袋', '西瓜', '牙签', '锅', '蚊帐', '头发', '纸盒', '铁链', '硬币', '字典', '报纸', '靴子', '易拉罐', '玉米', '南瓜', '耳机', '喇叭', '领带', '扑克', '手套', '银行卡', '袜子', '镊子', '卫生纸', '蛋清', '小米', '耳机线', '鞋带', '发簪', '柳树', '生姜', '红酒', '白酒', '木头', '火柴', '纽扣', '图钉', '吸管', '牙膏', '船桨', '面团', '西红柿', '荷叶', '磁铁', '弹弓', '钉子', '光盘', '毛巾', '橡皮擦', '球拍', '鹅卵石', '贝壳', '椰子', '花生', '核桃', '铃铛', '酒瓶', '西瓜皮', '冰块', '马来貘', '咖啡', '擀面杖', '戒指', '气球', '芦荟', '橄榄油', '花瓣', '土豆', '曲别针', '浴缸', '茶壶', '灌木', '无花果', '韭菜', '花椒', '纸巾', '皮筋', '黄金', '音响', '画像', '狐狸', '发带', '纸杯', '棉签', '柿子', '白纸', '杯子', '窗帘', '蛋糕', '地图', '风车', '夹子', '胶水', '蜡烛', '毛笔', '墨水', '铅笔', '钳子', '扇子', '勺子', '梳子', '柳条', '水壶', '算盘', '蛋壳', '台灯', '围巾', '温度计', '相机', '香蕉', '牙刷', '钥匙', '衣架', '砖头', '笛子', '酸奶', '吹风机']\n",
              "- ICC2k: 0.48\n",
              "- ICC2k_CI: 0.44-0.51\n",
              "- ICC3k: 0.49\n",
              "- rater_cols: ['rater1', 'rater2', 'rater3', 'rater4']\n",
              "- no_of_raters: 4\n"
            ],
            "text/plain": [
              "<IPython.core.display.Markdown object>"
            ]
          },
          "metadata": {},
          "output_type": "display_data"
        },
        {
          "name": "stderr",
          "output_type": "stream",
          "text": [
            "/Users/peter.organisciak/anaconda3/lib/python3.9/site-packages/pandas/io/sql.py:761: UserWarning: pandas only support SQLAlchemy connectable(engine/connection) ordatabase string URI or sqlite3 DBAPI2 connectionother DBAPI2 objects are not tested, please consider using SQLAlchemy\n",
            "  warnings.warn(\n"
          ]
        },
        {
          "data": {
            "text/html": [
              "<div>\n",
              "<style scoped>\n",
              "    .dataframe tbody tr th:only-of-type {\n",
              "        vertical-align: middle;\n",
              "    }\n",
              "\n",
              "    .dataframe tbody tr th {\n",
              "        vertical-align: top;\n",
              "    }\n",
              "\n",
              "    .dataframe thead th {\n",
              "        text-align: right;\n",
              "    }\n",
              "</style>\n",
              "<table border=\"1\" class=\"dataframe\">\n",
              "  <thead>\n",
              "    <tr style=\"text-align: right;\">\n",
              "      <th></th>\n",
              "      <th>type</th>\n",
              "      <th>src</th>\n",
              "      <th>question</th>\n",
              "      <th>prompt</th>\n",
              "      <th>response</th>\n",
              "      <th>id</th>\n",
              "      <th>target</th>\n",
              "      <th>participant</th>\n",
              "      <th>response_num</th>\n",
              "      <th>language</th>\n",
              "      <th>rater_count</th>\n",
              "      <th>rating_std</th>\n",
              "    </tr>\n",
              "  </thead>\n",
              "  <tbody>\n",
              "    <tr>\n",
              "      <th>8089</th>\n",
              "      <td>uses</td>\n",
              "      <td>multiaut_chinese1</td>\n",
              "      <td>芦荟的一个令人惊讶的用途是什么？</td>\n",
              "      <td>芦荟</td>\n",
              "      <td>做青团</td>\n",
              "      <td>multiaut_chinese1_芦荟-7d4aa6</td>\n",
              "      <td>2.6</td>\n",
              "      <td>multiaut_chinese11270</td>\n",
              "      <td>None</td>\n",
              "      <td>chi</td>\n",
              "      <td>4</td>\n",
              "      <td>1.154701</td>\n",
              "    </tr>\n",
              "    <tr>\n",
              "      <th>8180</th>\n",
              "      <td>uses</td>\n",
              "      <td>multiaut_chinese1</td>\n",
              "      <td>橄榄油的一个令人惊讶的用途是什么？</td>\n",
              "      <td>橄榄油</td>\n",
              "      <td>按摩</td>\n",
              "      <td>multiaut_chinese1_橄榄油-ac0593</td>\n",
              "      <td>2.6</td>\n",
              "      <td>multiaut_chinese11273</td>\n",
              "      <td>None</td>\n",
              "      <td>chi</td>\n",
              "      <td>4</td>\n",
              "      <td>0.816497</td>\n",
              "    </tr>\n",
              "  </tbody>\n",
              "</table>\n",
              "</div>"
            ],
            "text/plain": [
              "      type                src           question prompt response  \\\n",
              "8089  uses  multiaut_chinese1   芦荟的一个令人惊讶的用途是什么？     芦荟      做青团   \n",
              "8180  uses  multiaut_chinese1  橄榄油的一个令人惊讶的用途是什么？    橄榄油       按摩   \n",
              "\n",
              "                                id  target            participant  \\\n",
              "8089   multiaut_chinese1_芦荟-7d4aa6     2.6  multiaut_chinese11270   \n",
              "8180  multiaut_chinese1_橄榄油-ac0593     2.6  multiaut_chinese11273   \n",
              "\n",
              "     response_num language  rater_count  rating_std  \n",
              "8089         None      chi            4    1.154701  \n",
              "8180         None      chi            4    0.816497  "
            ]
          },
          "metadata": {},
          "output_type": "display_data"
        },
        {
          "name": "stdout",
          "output_type": "stream",
          "text": [
            "french2\n"
          ]
        },
        {
          "data": {
            "text/markdown": [
              "### Loading *Patterson et al., 2023*"
            ],
            "text/plain": [
              "<IPython.core.display.Markdown object>"
            ]
          },
          "metadata": {},
          "output_type": "display_data"
        },
        {
          "data": {
            "text/markdown": [
              "Patterson, J. D., Merseal, H. M., Johnson, D. R., Agnoli, S., Baas, M., Baker, B. S., ... & Beaty, R. E. (2023). Multilingual semantic distance: Automatic verbal creativity assessment in many languages. Psychology of Aesthetics, Creativity, and the Arts, 17(4), 495."
            ],
            "text/plain": [
              "<IPython.core.display.Markdown object>"
            ]
          },
          "metadata": {},
          "output_type": "display_data"
        },
        {
          "data": {
            "text/markdown": [
              "- Renaming columns {'ID': 'participant', 'order': 'response_num'}"
            ],
            "text/plain": [
              "<IPython.core.display.Markdown object>"
            ]
          },
          "metadata": {},
          "output_type": "display_data"
        },
        {
          "data": {
            "text/markdown": [
              "- Inferred range of original data: (1.0, 5.0)"
            ],
            "text/plain": [
              "<IPython.core.display.Markdown object>"
            ]
          },
          "metadata": {},
          "output_type": "display_data"
        },
        {
          "name": "stdout",
          "output_type": "stream",
          "text": [
            "Dropping 47 unrated items\n"
          ]
        },
        {
          "data": {
            "text/markdown": [
              "- name: multiaut_french2\n",
              "- no_of_prompts: 1\n",
              "- no_of_participants: 82\n",
              "- no_of_data_points: 449\n",
              "- prompts: ['chapeau']\n",
              "- ICC2k: 0.52\n",
              "- ICC2k_CI: 0.25-0.68\n",
              "- ICC3k: 0.64\n",
              "- rater_cols: ['rater1', 'rater2', 'rater3']\n",
              "- no_of_raters: 3\n"
            ],
            "text/plain": [
              "<IPython.core.display.Markdown object>"
            ]
          },
          "metadata": {},
          "output_type": "display_data"
        },
        {
          "name": "stderr",
          "output_type": "stream",
          "text": [
            "/Users/peter.organisciak/anaconda3/lib/python3.9/site-packages/pandas/io/sql.py:761: UserWarning: pandas only support SQLAlchemy connectable(engine/connection) ordatabase string URI or sqlite3 DBAPI2 connectionother DBAPI2 objects are not tested, please consider using SQLAlchemy\n",
            "  warnings.warn(\n"
          ]
        },
        {
          "data": {
            "text/html": [
              "<div>\n",
              "<style scoped>\n",
              "    .dataframe tbody tr th:only-of-type {\n",
              "        vertical-align: middle;\n",
              "    }\n",
              "\n",
              "    .dataframe tbody tr th {\n",
              "        vertical-align: top;\n",
              "    }\n",
              "\n",
              "    .dataframe thead th {\n",
              "        text-align: right;\n",
              "    }\n",
              "</style>\n",
              "<table border=\"1\" class=\"dataframe\">\n",
              "  <thead>\n",
              "    <tr style=\"text-align: right;\">\n",
              "      <th></th>\n",
              "      <th>type</th>\n",
              "      <th>src</th>\n",
              "      <th>question</th>\n",
              "      <th>prompt</th>\n",
              "      <th>response</th>\n",
              "      <th>id</th>\n",
              "      <th>target</th>\n",
              "      <th>participant</th>\n",
              "      <th>response_num</th>\n",
              "      <th>language</th>\n",
              "      <th>rater_count</th>\n",
              "      <th>rating_std</th>\n",
              "    </tr>\n",
              "  </thead>\n",
              "  <tbody>\n",
              "    <tr>\n",
              "      <th>482</th>\n",
              "      <td>uses</td>\n",
              "      <td>multiaut_french2</td>\n",
              "      <td>Quel est un usage surprenant pour un CHAPEAU?</td>\n",
              "      <td>chapeau</td>\n",
              "      <td>Pour tenir bonheur</td>\n",
              "      <td>multiaut_french2_chapeau-f73049</td>\n",
              "      <td>3.333</td>\n",
              "      <td>multiaut_french23061</td>\n",
              "      <td>None</td>\n",
              "      <td>fre</td>\n",
              "      <td>3</td>\n",
              "      <td>1.527525</td>\n",
              "    </tr>\n",
              "    <tr>\n",
              "      <th>284</th>\n",
              "      <td>uses</td>\n",
              "      <td>multiaut_french2</td>\n",
              "      <td>Quel est un usage surprenant pour un CHAPEAU?</td>\n",
              "      <td>chapeau</td>\n",
              "      <td>Decorer</td>\n",
              "      <td>multiaut_french2_chapeau-7f221f</td>\n",
              "      <td>2.666</td>\n",
              "      <td>multiaut_french22809</td>\n",
              "      <td>None</td>\n",
              "      <td>fre</td>\n",
              "      <td>3</td>\n",
              "      <td>2.081666</td>\n",
              "    </tr>\n",
              "  </tbody>\n",
              "</table>\n",
              "</div>"
            ],
            "text/plain": [
              "     type               src                                       question  \\\n",
              "482  uses  multiaut_french2  Quel est un usage surprenant pour un CHAPEAU?   \n",
              "284  uses  multiaut_french2  Quel est un usage surprenant pour un CHAPEAU?   \n",
              "\n",
              "      prompt            response                               id  target  \\\n",
              "482  chapeau  Pour tenir bonheur  multiaut_french2_chapeau-f73049   3.333   \n",
              "284  chapeau             Decorer  multiaut_french2_chapeau-7f221f   2.666   \n",
              "\n",
              "              participant response_num language  rater_count  rating_std  \n",
              "482  multiaut_french23061         None      fre            3    1.527525  \n",
              "284  multiaut_french22809         None      fre            3    2.081666  "
            ]
          },
          "metadata": {},
          "output_type": "display_data"
        },
        {
          "name": "stdout",
          "output_type": "stream",
          "text": [
            "hebrew1\n"
          ]
        },
        {
          "data": {
            "text/markdown": [
              "### Loading *Patterson et al., 2023*"
            ],
            "text/plain": [
              "<IPython.core.display.Markdown object>"
            ]
          },
          "metadata": {},
          "output_type": "display_data"
        },
        {
          "data": {
            "text/markdown": [
              "Patterson, J. D., Merseal, H. M., Johnson, D. R., Agnoli, S., Baas, M., Baker, B. S., ... & Beaty, R. E. (2023). Multilingual semantic distance: Automatic verbal creativity assessment in many languages. Psychology of Aesthetics, Creativity, and the Arts, 17(4), 495."
            ],
            "text/plain": [
              "<IPython.core.display.Markdown object>"
            ]
          },
          "metadata": {},
          "output_type": "display_data"
        },
        {
          "data": {
            "text/markdown": [
              "- Renaming columns {'ID': 'participant', 'order': 'response_num'}"
            ],
            "text/plain": [
              "<IPython.core.display.Markdown object>"
            ]
          },
          "metadata": {},
          "output_type": "display_data"
        },
        {
          "data": {
            "text/markdown": [
              "- Inferred range of original data: (1.0, 5.0)"
            ],
            "text/plain": [
              "<IPython.core.display.Markdown object>"
            ]
          },
          "metadata": {},
          "output_type": "display_data"
        },
        {
          "data": {
            "text/markdown": [
              "WARNING: ICC has an undefined error for this dataset"
            ],
            "text/plain": [
              "<IPython.core.display.Markdown object>"
            ]
          },
          "metadata": {},
          "output_type": "display_data"
        },
        {
          "data": {
            "text/markdown": [
              "- name: multiaut_hebrew1\n",
              "- no_of_prompts: 10\n",
              "- no_of_participants: 51\n",
              "- no_of_data_points: 2027\n",
              "- prompts: ['סכין', 'נעל', 'עיפרון', 'עיתון', 'מברג', 'קולב', 'צמיג', 'מטאטא', 'כיסא', 'כרית']\n",
              "- ICC2k: None\n",
              "- ICC2k_CI: None\n",
              "- ICC3k: None\n",
              "- rater_cols: ['rater1', 'rater2', 'rater3', 'rater4', 'rater5', 'rater6', 'rater7', 'rater8', 'rater9', 'rater10', 'rater11', 'rater12', 'rater13', 'rater14', 'rater15', 'rater16', 'rater17', 'rater18', 'rater19', 'rater20', 'rater21', 'rater22', 'rater23', 'rater24', 'rater25', 'rater26', 'rater27', 'rater28', 'rater29', 'rater30', 'rater31', 'rater32', 'rater33', 'rater34', 'rater35', 'rater36', 'rater37', 'rater38', 'rater39', 'rater40', 'rater41', 'rater42', 'rater43', 'rater44', 'rater45']\n",
              "- no_of_raters: 45\n"
            ],
            "text/plain": [
              "<IPython.core.display.Markdown object>"
            ]
          },
          "metadata": {},
          "output_type": "display_data"
        },
        {
          "name": "stderr",
          "output_type": "stream",
          "text": [
            "/Users/peter.organisciak/anaconda3/lib/python3.9/site-packages/pandas/io/sql.py:761: UserWarning: pandas only support SQLAlchemy connectable(engine/connection) ordatabase string URI or sqlite3 DBAPI2 connectionother DBAPI2 objects are not tested, please consider using SQLAlchemy\n",
            "  warnings.warn(\n"
          ]
        },
        {
          "data": {
            "text/html": [
              "<div>\n",
              "<style scoped>\n",
              "    .dataframe tbody tr th:only-of-type {\n",
              "        vertical-align: middle;\n",
              "    }\n",
              "\n",
              "    .dataframe tbody tr th {\n",
              "        vertical-align: top;\n",
              "    }\n",
              "\n",
              "    .dataframe thead th {\n",
              "        text-align: right;\n",
              "    }\n",
              "</style>\n",
              "<table border=\"1\" class=\"dataframe\">\n",
              "  <thead>\n",
              "    <tr style=\"text-align: right;\">\n",
              "      <th></th>\n",
              "      <th>type</th>\n",
              "      <th>src</th>\n",
              "      <th>question</th>\n",
              "      <th>prompt</th>\n",
              "      <th>response</th>\n",
              "      <th>id</th>\n",
              "      <th>target</th>\n",
              "      <th>participant</th>\n",
              "      <th>response_num</th>\n",
              "      <th>language</th>\n",
              "      <th>rater_count</th>\n",
              "      <th>rating_std</th>\n",
              "    </tr>\n",
              "  </thead>\n",
              "  <tbody>\n",
              "    <tr>\n",
              "      <th>1977</th>\n",
              "      <td>uses</td>\n",
              "      <td>multiaut_hebrew1</td>\n",
              "      <td>מהו שימוש מפתיע לכרית?</td>\n",
              "      <td>כרית</td>\n",
              "      <td>נפנף כדי לעשות רוח</td>\n",
              "      <td>multiaut_hebrew1_כרית-f4d62b</td>\n",
              "      <td>3.66700</td>\n",
              "      <td>multiaut_hebrew11596</td>\n",
              "      <td>4</td>\n",
              "      <td>heb</td>\n",
              "      <td>9</td>\n",
              "      <td>1.224745</td>\n",
              "    </tr>\n",
              "    <tr>\n",
              "      <th>1906</th>\n",
              "      <td>uses</td>\n",
              "      <td>multiaut_hebrew1</td>\n",
              "      <td>מהו שימוש מפתיע לכרית?</td>\n",
              "      <td>כרית</td>\n",
              "      <td>להוציא את המילוי שלה ולעשות ממנו צמות</td>\n",
              "      <td>multiaut_hebrew1_כרית-80ec92</td>\n",
              "      <td>4.75025</td>\n",
              "      <td>multiaut_hebrew11903</td>\n",
              "      <td>6</td>\n",
              "      <td>heb</td>\n",
              "      <td>8</td>\n",
              "      <td>0.707107</td>\n",
              "    </tr>\n",
              "  </tbody>\n",
              "</table>\n",
              "</div>"
            ],
            "text/plain": [
              "      type               src                question prompt  \\\n",
              "1977  uses  multiaut_hebrew1  מהו שימוש מפתיע לכרית?   כרית   \n",
              "1906  uses  multiaut_hebrew1  מהו שימוש מפתיע לכרית?   כרית   \n",
              "\n",
              "                                   response                            id  \\\n",
              "1977                     נפנף כדי לעשות רוח  multiaut_hebrew1_כרית-f4d62b   \n",
              "1906  להוציא את המילוי שלה ולעשות ממנו צמות  multiaut_hebrew1_כרית-80ec92   \n",
              "\n",
              "       target           participant  response_num language  rater_count  \\\n",
              "1977  3.66700  multiaut_hebrew11596             4      heb            9   \n",
              "1906  4.75025  multiaut_hebrew11903             6      heb            8   \n",
              "\n",
              "      rating_std  \n",
              "1977    1.224745  \n",
              "1906    0.707107  "
            ]
          },
          "metadata": {},
          "output_type": "display_data"
        },
        {
          "name": "stdout",
          "output_type": "stream",
          "text": [
            "russian2\n"
          ]
        },
        {
          "data": {
            "text/markdown": [
              "### Loading *Patterson et al., 2023*"
            ],
            "text/plain": [
              "<IPython.core.display.Markdown object>"
            ]
          },
          "metadata": {},
          "output_type": "display_data"
        },
        {
          "data": {
            "text/markdown": [
              "Patterson, J. D., Merseal, H. M., Johnson, D. R., Agnoli, S., Baas, M., Baker, B. S., ... & Beaty, R. E. (2023). Multilingual semantic distance: Automatic verbal creativity assessment in many languages. Psychology of Aesthetics, Creativity, and the Arts, 17(4), 495."
            ],
            "text/plain": [
              "<IPython.core.display.Markdown object>"
            ]
          },
          "metadata": {},
          "output_type": "display_data"
        },
        {
          "data": {
            "text/markdown": [
              "- Renaming columns {'ID': 'participant', 'order': 'response_num'}"
            ],
            "text/plain": [
              "<IPython.core.display.Markdown object>"
            ]
          },
          "metadata": {},
          "output_type": "display_data"
        },
        {
          "data": {
            "text/markdown": [
              "- Inferred range of original data: (1, 5)"
            ],
            "text/plain": [
              "<IPython.core.display.Markdown object>"
            ]
          },
          "metadata": {},
          "output_type": "display_data"
        },
        {
          "data": {
            "text/markdown": [
              "- name: multiaut_russian2\n",
              "- no_of_prompts: 1\n",
              "- no_of_participants: 45\n",
              "- no_of_data_points: 370\n",
              "- prompts: ['картонная коробка']\n",
              "- ICC2k: 0.78\n",
              "- ICC2k_CI: 0.74-0.82\n",
              "- ICC3k: 0.79\n",
              "- rater_cols: ['rater1', 'rater2', 'rater3']\n",
              "- no_of_raters: 3\n"
            ],
            "text/plain": [
              "<IPython.core.display.Markdown object>"
            ]
          },
          "metadata": {},
          "output_type": "display_data"
        },
        {
          "name": "stderr",
          "output_type": "stream",
          "text": [
            "/Users/peter.organisciak/anaconda3/lib/python3.9/site-packages/pandas/io/sql.py:761: UserWarning: pandas only support SQLAlchemy connectable(engine/connection) ordatabase string URI or sqlite3 DBAPI2 connectionother DBAPI2 objects are not tested, please consider using SQLAlchemy\n",
            "  warnings.warn(\n"
          ]
        },
        {
          "data": {
            "text/html": [
              "<div>\n",
              "<style scoped>\n",
              "    .dataframe tbody tr th:only-of-type {\n",
              "        vertical-align: middle;\n",
              "    }\n",
              "\n",
              "    .dataframe tbody tr th {\n",
              "        vertical-align: top;\n",
              "    }\n",
              "\n",
              "    .dataframe thead th {\n",
              "        text-align: right;\n",
              "    }\n",
              "</style>\n",
              "<table border=\"1\" class=\"dataframe\">\n",
              "  <thead>\n",
              "    <tr style=\"text-align: right;\">\n",
              "      <th></th>\n",
              "      <th>type</th>\n",
              "      <th>src</th>\n",
              "      <th>question</th>\n",
              "      <th>prompt</th>\n",
              "      <th>response</th>\n",
              "      <th>id</th>\n",
              "      <th>target</th>\n",
              "      <th>participant</th>\n",
              "      <th>response_num</th>\n",
              "      <th>language</th>\n",
              "      <th>rater_count</th>\n",
              "      <th>rating_std</th>\n",
              "    </tr>\n",
              "  </thead>\n",
              "  <tbody>\n",
              "    <tr>\n",
              "      <th>52</th>\n",
              "      <td>uses</td>\n",
              "      <td>multiaut_russian2</td>\n",
              "      <td>Какое удивительное применение для КАРТОННОЙ КО...</td>\n",
              "      <td>картонная коробка</td>\n",
              "      <td>Воздушный шар</td>\n",
              "      <td>multiaut_russian2_картонная коробка-06a8b8</td>\n",
              "      <td>2.000</td>\n",
              "      <td>multiaut_russian24</td>\n",
              "      <td>None</td>\n",
              "      <td>rus</td>\n",
              "      <td>3</td>\n",
              "      <td>1.000000</td>\n",
              "    </tr>\n",
              "    <tr>\n",
              "      <th>237</th>\n",
              "      <td>uses</td>\n",
              "      <td>multiaut_russian2</td>\n",
              "      <td>Какое удивительное применение для КАРТОННОЙ КО...</td>\n",
              "      <td>картонная коробка</td>\n",
              "      <td>Если делать коробки внутри мягкими, то и запак...</td>\n",
              "      <td>multiaut_russian2_картонная коробка-215bb5</td>\n",
              "      <td>1.666</td>\n",
              "      <td>multiaut_russian228</td>\n",
              "      <td>None</td>\n",
              "      <td>rus</td>\n",
              "      <td>3</td>\n",
              "      <td>1.154701</td>\n",
              "    </tr>\n",
              "  </tbody>\n",
              "</table>\n",
              "</div>"
            ],
            "text/plain": [
              "     type                src  \\\n",
              "52   uses  multiaut_russian2   \n",
              "237  uses  multiaut_russian2   \n",
              "\n",
              "                                              question             prompt  \\\n",
              "52   Какое удивительное применение для КАРТОННОЙ КО...  картонная коробка   \n",
              "237  Какое удивительное применение для КАРТОННОЙ КО...  картонная коробка   \n",
              "\n",
              "                                              response  \\\n",
              "52                                       Воздушный шар   \n",
              "237  Если делать коробки внутри мягкими, то и запак...   \n",
              "\n",
              "                                             id  target          participant  \\\n",
              "52   multiaut_russian2_картонная коробка-06a8b8   2.000   multiaut_russian24   \n",
              "237  multiaut_russian2_картонная коробка-215bb5   1.666  multiaut_russian228   \n",
              "\n",
              "    response_num language  rater_count  rating_std  \n",
              "52          None      rus            3    1.000000  \n",
              "237         None      rus            3    1.154701  "
            ]
          },
          "metadata": {},
          "output_type": "display_data"
        },
        {
          "name": "stdout",
          "output_type": "stream",
          "text": [
            "chinese2\n"
          ]
        },
        {
          "data": {
            "text/markdown": [
              "### Loading *Patterson et al., 2023*"
            ],
            "text/plain": [
              "<IPython.core.display.Markdown object>"
            ]
          },
          "metadata": {},
          "output_type": "display_data"
        },
        {
          "data": {
            "text/markdown": [
              "Patterson, J. D., Merseal, H. M., Johnson, D. R., Agnoli, S., Baas, M., Baker, B. S., ... & Beaty, R. E. (2023). Multilingual semantic distance: Automatic verbal creativity assessment in many languages. Psychology of Aesthetics, Creativity, and the Arts, 17(4), 495."
            ],
            "text/plain": [
              "<IPython.core.display.Markdown object>"
            ]
          },
          "metadata": {},
          "output_type": "display_data"
        },
        {
          "data": {
            "text/markdown": [
              "- Renaming columns {'ID': 'participant', 'order': 'response_num'}"
            ],
            "text/plain": [
              "<IPython.core.display.Markdown object>"
            ]
          },
          "metadata": {},
          "output_type": "display_data"
        },
        {
          "data": {
            "text/markdown": [
              "- Inferred range of original data: (1, 42)"
            ],
            "text/plain": [
              "<IPython.core.display.Markdown object>"
            ]
          },
          "metadata": {},
          "output_type": "display_data"
        },
        {
          "data": {
            "text/markdown": [
              "- name: multiaut_chinese2\n",
              "- no_of_prompts: 2\n",
              "- no_of_participants: 217\n",
              "- no_of_data_points: 1302\n",
              "- prompts: ['筷子', '易拉罐']\n",
              "- ICC2k: 0.6\n",
              "- ICC2k_CI: 0.54-0.66\n",
              "- ICC3k: 0.64\n",
              "- rater_cols: ['rater1', 'rater2', 'rater3', 'rater4']\n",
              "- no_of_raters: 4\n"
            ],
            "text/plain": [
              "<IPython.core.display.Markdown object>"
            ]
          },
          "metadata": {},
          "output_type": "display_data"
        },
        {
          "name": "stderr",
          "output_type": "stream",
          "text": [
            "/Users/peter.organisciak/anaconda3/lib/python3.9/site-packages/pandas/io/sql.py:761: UserWarning: pandas only support SQLAlchemy connectable(engine/connection) ordatabase string URI or sqlite3 DBAPI2 connectionother DBAPI2 objects are not tested, please consider using SQLAlchemy\n",
            "  warnings.warn(\n"
          ]
        },
        {
          "data": {
            "text/html": [
              "<div>\n",
              "<style scoped>\n",
              "    .dataframe tbody tr th:only-of-type {\n",
              "        vertical-align: middle;\n",
              "    }\n",
              "\n",
              "    .dataframe tbody tr th {\n",
              "        vertical-align: top;\n",
              "    }\n",
              "\n",
              "    .dataframe thead th {\n",
              "        text-align: right;\n",
              "    }\n",
              "</style>\n",
              "<table border=\"1\" class=\"dataframe\">\n",
              "  <thead>\n",
              "    <tr style=\"text-align: right;\">\n",
              "      <th></th>\n",
              "      <th>type</th>\n",
              "      <th>src</th>\n",
              "      <th>question</th>\n",
              "      <th>prompt</th>\n",
              "      <th>response</th>\n",
              "      <th>id</th>\n",
              "      <th>target</th>\n",
              "      <th>participant</th>\n",
              "      <th>response_num</th>\n",
              "      <th>language</th>\n",
              "      <th>rater_count</th>\n",
              "      <th>rating_std</th>\n",
              "    </tr>\n",
              "  </thead>\n",
              "  <tbody>\n",
              "    <tr>\n",
              "      <th>873</th>\n",
              "      <td>uses</td>\n",
              "      <td>multiaut_chinese2</td>\n",
              "      <td>易拉罐的一个令人惊讶的用途是什么？</td>\n",
              "      <td>易拉罐</td>\n",
              "      <td>制作模型</td>\n",
              "      <td>multiaut_chinese2_易拉罐-3419d4</td>\n",
              "      <td>1.146390</td>\n",
              "      <td>multiaut_chinese2342</td>\n",
              "      <td>None</td>\n",
              "      <td>chi</td>\n",
              "      <td>4</td>\n",
              "      <td>1.0</td>\n",
              "    </tr>\n",
              "    <tr>\n",
              "      <th>1</th>\n",
              "      <td>uses</td>\n",
              "      <td>multiaut_chinese2</td>\n",
              "      <td>筷子有什么令人惊讶的用途？</td>\n",
              "      <td>筷子</td>\n",
              "      <td>插在土里固定农作物</td>\n",
              "      <td>multiaut_chinese2_筷子-89a91e</td>\n",
              "      <td>1.146293</td>\n",
              "      <td>multiaut_chinese2101</td>\n",
              "      <td>None</td>\n",
              "      <td>chi</td>\n",
              "      <td>4</td>\n",
              "      <td>1.0</td>\n",
              "    </tr>\n",
              "  </tbody>\n",
              "</table>\n",
              "</div>"
            ],
            "text/plain": [
              "     type                src           question prompt   response  \\\n",
              "873  uses  multiaut_chinese2  易拉罐的一个令人惊讶的用途是什么？    易拉罐       制作模型   \n",
              "1    uses  multiaut_chinese2      筷子有什么令人惊讶的用途？     筷子  插在土里固定农作物   \n",
              "\n",
              "                               id    target           participant  \\\n",
              "873  multiaut_chinese2_易拉罐-3419d4  1.146390  multiaut_chinese2342   \n",
              "1     multiaut_chinese2_筷子-89a91e  1.146293  multiaut_chinese2101   \n",
              "\n",
              "    response_num language  rater_count  rating_std  \n",
              "873         None      chi            4         1.0  \n",
              "1           None      chi            4         1.0  "
            ]
          },
          "metadata": {},
          "output_type": "display_data"
        },
        {
          "name": "stdout",
          "output_type": "stream",
          "text": [
            "english2\n",
            "NOTE: english2 had an encoding error. Opening and re-saving it seems to fix it.\n"
          ]
        },
        {
          "data": {
            "text/markdown": [
              "### Loading *Patterson et al., 2023*"
            ],
            "text/plain": [
              "<IPython.core.display.Markdown object>"
            ]
          },
          "metadata": {},
          "output_type": "display_data"
        },
        {
          "data": {
            "text/markdown": [
              "Patterson, J. D., Merseal, H. M., Johnson, D. R., Agnoli, S., Baas, M., Baker, B. S., ... & Beaty, R. E. (2023). Multilingual semantic distance: Automatic verbal creativity assessment in many languages. Psychology of Aesthetics, Creativity, and the Arts, 17(4), 495."
            ],
            "text/plain": [
              "<IPython.core.display.Markdown object>"
            ]
          },
          "metadata": {},
          "output_type": "display_data"
        },
        {
          "data": {
            "text/markdown": [
              "- Renaming columns {'ID': 'participant', 'order': 'response_num'}"
            ],
            "text/plain": [
              "<IPython.core.display.Markdown object>"
            ]
          },
          "metadata": {},
          "output_type": "display_data"
        },
        {
          "data": {
            "text/markdown": [
              "- Inferred range of original data: (1.0, 5.0)"
            ],
            "text/plain": [
              "<IPython.core.display.Markdown object>"
            ]
          },
          "metadata": {},
          "output_type": "display_data"
        },
        {
          "data": {
            "text/markdown": [
              "- name: multiaut_english2\n",
              "- no_of_prompts: 2\n",
              "- no_of_participants: 182\n",
              "- no_of_data_points: 3723\n",
              "- prompts: ['rope', 'box']\n",
              "- ICC2k: 0.71\n",
              "- ICC2k_CI: 0.59-0.78\n",
              "- ICC3k: 0.77\n",
              "- rater_cols: ['rater1', 'rater2', 'rater3', 'rater4']\n",
              "- no_of_raters: 4\n"
            ],
            "text/plain": [
              "<IPython.core.display.Markdown object>"
            ]
          },
          "metadata": {},
          "output_type": "display_data"
        },
        {
          "name": "stderr",
          "output_type": "stream",
          "text": [
            "/Users/peter.organisciak/anaconda3/lib/python3.9/site-packages/pandas/io/sql.py:761: UserWarning: pandas only support SQLAlchemy connectable(engine/connection) ordatabase string URI or sqlite3 DBAPI2 connectionother DBAPI2 objects are not tested, please consider using SQLAlchemy\n",
            "  warnings.warn(\n"
          ]
        },
        {
          "data": {
            "text/html": [
              "<div>\n",
              "<style scoped>\n",
              "    .dataframe tbody tr th:only-of-type {\n",
              "        vertical-align: middle;\n",
              "    }\n",
              "\n",
              "    .dataframe tbody tr th {\n",
              "        vertical-align: top;\n",
              "    }\n",
              "\n",
              "    .dataframe thead th {\n",
              "        text-align: right;\n",
              "    }\n",
              "</style>\n",
              "<table border=\"1\" class=\"dataframe\">\n",
              "  <thead>\n",
              "    <tr style=\"text-align: right;\">\n",
              "      <th></th>\n",
              "      <th>type</th>\n",
              "      <th>src</th>\n",
              "      <th>question</th>\n",
              "      <th>prompt</th>\n",
              "      <th>response</th>\n",
              "      <th>id</th>\n",
              "      <th>target</th>\n",
              "      <th>participant</th>\n",
              "      <th>response_num</th>\n",
              "      <th>language</th>\n",
              "      <th>rater_count</th>\n",
              "      <th>rating_std</th>\n",
              "    </tr>\n",
              "  </thead>\n",
              "  <tbody>\n",
              "    <tr>\n",
              "      <th>3015</th>\n",
              "      <td>uses</td>\n",
              "      <td>multiaut_english2</td>\n",
              "      <td>What is a surprising use for a ROPE?</td>\n",
              "      <td>rope</td>\n",
              "      <td>leash</td>\n",
              "      <td>multiaut_english2_rope-e5c684</td>\n",
              "      <td>2.24975</td>\n",
              "      <td>multiaut_english2152</td>\n",
              "      <td>None</td>\n",
              "      <td>eng</td>\n",
              "      <td>4</td>\n",
              "      <td>1.258306</td>\n",
              "    </tr>\n",
              "    <tr>\n",
              "      <th>149</th>\n",
              "      <td>uses</td>\n",
              "      <td>multiaut_english2</td>\n",
              "      <td>What is a surprising use for a ROPE?</td>\n",
              "      <td>rope</td>\n",
              "      <td>mimic shapes</td>\n",
              "      <td>multiaut_english2_rope-1e54d2</td>\n",
              "      <td>2.74975</td>\n",
              "      <td>multiaut_english27</td>\n",
              "      <td>None</td>\n",
              "      <td>eng</td>\n",
              "      <td>4</td>\n",
              "      <td>0.957427</td>\n",
              "    </tr>\n",
              "  </tbody>\n",
              "</table>\n",
              "</div>"
            ],
            "text/plain": [
              "      type                src                              question prompt  \\\n",
              "3015  uses  multiaut_english2  What is a surprising use for a ROPE?   rope   \n",
              "149   uses  multiaut_english2  What is a surprising use for a ROPE?   rope   \n",
              "\n",
              "          response                             id   target  \\\n",
              "3015         leash  multiaut_english2_rope-e5c684  2.24975   \n",
              "149   mimic shapes  multiaut_english2_rope-1e54d2  2.74975   \n",
              "\n",
              "               participant response_num language  rater_count  rating_std  \n",
              "3015  multiaut_english2152         None      eng            4    1.258306  \n",
              "149     multiaut_english27         None      eng            4    0.957427  "
            ]
          },
          "metadata": {},
          "output_type": "display_data"
        },
        {
          "name": "stdout",
          "output_type": "stream",
          "text": [
            "french3\n"
          ]
        },
        {
          "data": {
            "text/markdown": [
              "### Loading *Patterson et al., 2023*"
            ],
            "text/plain": [
              "<IPython.core.display.Markdown object>"
            ]
          },
          "metadata": {},
          "output_type": "display_data"
        },
        {
          "data": {
            "text/markdown": [
              "Patterson, J. D., Merseal, H. M., Johnson, D. R., Agnoli, S., Baas, M., Baker, B. S., ... & Beaty, R. E. (2023). Multilingual semantic distance: Automatic verbal creativity assessment in many languages. Psychology of Aesthetics, Creativity, and the Arts, 17(4), 495."
            ],
            "text/plain": [
              "<IPython.core.display.Markdown object>"
            ]
          },
          "metadata": {},
          "output_type": "display_data"
        },
        {
          "data": {
            "text/markdown": [
              "- Renaming columns {'ID': 'participant', 'order': 'response_num'}"
            ],
            "text/plain": [
              "<IPython.core.display.Markdown object>"
            ]
          },
          "metadata": {},
          "output_type": "display_data"
        },
        {
          "data": {
            "text/markdown": [
              "- Inferred range of original data: (1.0, 11.0)"
            ],
            "text/plain": [
              "<IPython.core.display.Markdown object>"
            ]
          },
          "metadata": {},
          "output_type": "display_data"
        },
        {
          "name": "stdout",
          "output_type": "stream",
          "text": [
            "Dropping 10 unrated items\n"
          ]
        },
        {
          "data": {
            "text/markdown": [
              "- name: multiaut_french3\n",
              "- no_of_prompts: 2\n",
              "- no_of_participants: 277\n",
              "- no_of_data_points: 2181\n",
              "- prompts: ['ceinture', 'brouette']\n",
              "- ICC2k: 0.72\n",
              "- ICC2k_CI: 0.67-0.77\n",
              "- ICC3k: 0.75\n",
              "- rater_cols: ['rater1', 'rater2', 'rater3']\n",
              "- no_of_raters: 3\n"
            ],
            "text/plain": [
              "<IPython.core.display.Markdown object>"
            ]
          },
          "metadata": {},
          "output_type": "display_data"
        },
        {
          "name": "stderr",
          "output_type": "stream",
          "text": [
            "/Users/peter.organisciak/anaconda3/lib/python3.9/site-packages/pandas/io/sql.py:761: UserWarning: pandas only support SQLAlchemy connectable(engine/connection) ordatabase string URI or sqlite3 DBAPI2 connectionother DBAPI2 objects are not tested, please consider using SQLAlchemy\n",
            "  warnings.warn(\n"
          ]
        },
        {
          "data": {
            "text/html": [
              "<div>\n",
              "<style scoped>\n",
              "    .dataframe tbody tr th:only-of-type {\n",
              "        vertical-align: middle;\n",
              "    }\n",
              "\n",
              "    .dataframe tbody tr th {\n",
              "        vertical-align: top;\n",
              "    }\n",
              "\n",
              "    .dataframe thead th {\n",
              "        text-align: right;\n",
              "    }\n",
              "</style>\n",
              "<table border=\"1\" class=\"dataframe\">\n",
              "  <thead>\n",
              "    <tr style=\"text-align: right;\">\n",
              "      <th></th>\n",
              "      <th>type</th>\n",
              "      <th>src</th>\n",
              "      <th>question</th>\n",
              "      <th>prompt</th>\n",
              "      <th>response</th>\n",
              "      <th>id</th>\n",
              "      <th>target</th>\n",
              "      <th>participant</th>\n",
              "      <th>response_num</th>\n",
              "      <th>language</th>\n",
              "      <th>rater_count</th>\n",
              "      <th>rating_std</th>\n",
              "    </tr>\n",
              "  </thead>\n",
              "  <tbody>\n",
              "    <tr>\n",
              "      <th>1506</th>\n",
              "      <td>uses</td>\n",
              "      <td>multiaut_french3</td>\n",
              "      <td>Quel est un usage surprenant pour une BROUETTE?</td>\n",
              "      <td>brouette</td>\n",
              "      <td>Jeux pour enfant au sein d’une kermesse</td>\n",
              "      <td>multiaut_french3_brouette-4fcd98</td>\n",
              "      <td>1.2668</td>\n",
              "      <td>multiaut_french3192</td>\n",
              "      <td>None</td>\n",
              "      <td>fre</td>\n",
              "      <td>3</td>\n",
              "      <td>0.57735</td>\n",
              "    </tr>\n",
              "    <tr>\n",
              "      <th>771</th>\n",
              "      <td>uses</td>\n",
              "      <td>multiaut_french3</td>\n",
              "      <td>Quel est un usage surprenant pour une BROUETTE?</td>\n",
              "      <td>brouette</td>\n",
              "      <td>Mettre un enfant dedans pour jouer comme si c'...</td>\n",
              "      <td>multiaut_french3_brouette-5c51ff</td>\n",
              "      <td>1.1332</td>\n",
              "      <td>multiaut_french3106</td>\n",
              "      <td>None</td>\n",
              "      <td>fre</td>\n",
              "      <td>3</td>\n",
              "      <td>0.57735</td>\n",
              "    </tr>\n",
              "  </tbody>\n",
              "</table>\n",
              "</div>"
            ],
            "text/plain": [
              "      type               src                                         question  \\\n",
              "1506  uses  multiaut_french3  Quel est un usage surprenant pour une BROUETTE?   \n",
              "771   uses  multiaut_french3  Quel est un usage surprenant pour une BROUETTE?   \n",
              "\n",
              "        prompt                                           response  \\\n",
              "1506  brouette            Jeux pour enfant au sein d’une kermesse   \n",
              "771   brouette  Mettre un enfant dedans pour jouer comme si c'...   \n",
              "\n",
              "                                    id  target          participant  \\\n",
              "1506  multiaut_french3_brouette-4fcd98  1.2668  multiaut_french3192   \n",
              "771   multiaut_french3_brouette-5c51ff  1.1332  multiaut_french3106   \n",
              "\n",
              "     response_num language  rater_count  rating_std  \n",
              "1506         None      fre            3     0.57735  \n",
              "771          None      fre            3     0.57735  "
            ]
          },
          "metadata": {},
          "output_type": "display_data"
        },
        {
          "name": "stdout",
          "output_type": "stream",
          "text": [
            "italian1\n"
          ]
        },
        {
          "data": {
            "text/markdown": [
              "### Loading *Patterson et al., 2023*"
            ],
            "text/plain": [
              "<IPython.core.display.Markdown object>"
            ]
          },
          "metadata": {},
          "output_type": "display_data"
        },
        {
          "data": {
            "text/markdown": [
              "Patterson, J. D., Merseal, H. M., Johnson, D. R., Agnoli, S., Baas, M., Baker, B. S., ... & Beaty, R. E. (2023). Multilingual semantic distance: Automatic verbal creativity assessment in many languages. Psychology of Aesthetics, Creativity, and the Arts, 17(4), 495."
            ],
            "text/plain": [
              "<IPython.core.display.Markdown object>"
            ]
          },
          "metadata": {},
          "output_type": "display_data"
        },
        {
          "data": {
            "text/markdown": [
              "- Renaming columns {'ID': 'participant', 'order': 'response_num'}"
            ],
            "text/plain": [
              "<IPython.core.display.Markdown object>"
            ]
          },
          "metadata": {},
          "output_type": "display_data"
        },
        {
          "data": {
            "text/markdown": [
              "- Inferred range of original data: (1, 5)"
            ],
            "text/plain": [
              "<IPython.core.display.Markdown object>"
            ]
          },
          "metadata": {},
          "output_type": "display_data"
        },
        {
          "data": {
            "text/markdown": [
              "- name: multiaut_italian1\n",
              "- no_of_prompts: 6\n",
              "- no_of_participants: 151\n",
              "- no_of_data_points: 4269\n",
              "- prompts: ['Attaccapanni', 'Barile', 'Bottiglia di plastica', 'Lampadina', 'Libro', 'Sedia']\n",
              "- ICC2k: 0.89\n",
              "- ICC2k_CI: 0.89-0.9\n",
              "- ICC3k: 0.89\n",
              "- rater_cols: ['rater1', 'rater2']\n",
              "- no_of_raters: 2\n"
            ],
            "text/plain": [
              "<IPython.core.display.Markdown object>"
            ]
          },
          "metadata": {},
          "output_type": "display_data"
        },
        {
          "name": "stderr",
          "output_type": "stream",
          "text": [
            "/Users/peter.organisciak/anaconda3/lib/python3.9/site-packages/pandas/io/sql.py:761: UserWarning: pandas only support SQLAlchemy connectable(engine/connection) ordatabase string URI or sqlite3 DBAPI2 connectionother DBAPI2 objects are not tested, please consider using SQLAlchemy\n",
            "  warnings.warn(\n"
          ]
        },
        {
          "data": {
            "text/html": [
              "<div>\n",
              "<style scoped>\n",
              "    .dataframe tbody tr th:only-of-type {\n",
              "        vertical-align: middle;\n",
              "    }\n",
              "\n",
              "    .dataframe tbody tr th {\n",
              "        vertical-align: top;\n",
              "    }\n",
              "\n",
              "    .dataframe thead th {\n",
              "        text-align: right;\n",
              "    }\n",
              "</style>\n",
              "<table border=\"1\" class=\"dataframe\">\n",
              "  <thead>\n",
              "    <tr style=\"text-align: right;\">\n",
              "      <th></th>\n",
              "      <th>type</th>\n",
              "      <th>src</th>\n",
              "      <th>question</th>\n",
              "      <th>prompt</th>\n",
              "      <th>response</th>\n",
              "      <th>id</th>\n",
              "      <th>target</th>\n",
              "      <th>participant</th>\n",
              "      <th>response_num</th>\n",
              "      <th>language</th>\n",
              "      <th>rater_count</th>\n",
              "      <th>rating_std</th>\n",
              "    </tr>\n",
              "  </thead>\n",
              "  <tbody>\n",
              "    <tr>\n",
              "      <th>427</th>\n",
              "      <td>uses</td>\n",
              "      <td>multiaut_italian1</td>\n",
              "      <td>Qual è un uso sorprendente per una LAMPADINA?</td>\n",
              "      <td>Lampadina</td>\n",
              "      <td>strumento</td>\n",
              "      <td>multiaut_italian1_Lampadina-4524c4</td>\n",
              "      <td>2.0</td>\n",
              "      <td>multiaut_italian118</td>\n",
              "      <td>None</td>\n",
              "      <td>ita</td>\n",
              "      <td>2</td>\n",
              "      <td>0.0</td>\n",
              "    </tr>\n",
              "    <tr>\n",
              "      <th>3983</th>\n",
              "      <td>uses</td>\n",
              "      <td>multiaut_italian1</td>\n",
              "      <td>Qual è un uso sorprendente per una LAMPADINA?</td>\n",
              "      <td>Lampadina</td>\n",
              "      <td>base per cartapesta per fare forme tonde</td>\n",
              "      <td>multiaut_italian1_Lampadina-5c62b6</td>\n",
              "      <td>3.0</td>\n",
              "      <td>multiaut_italian11059</td>\n",
              "      <td>None</td>\n",
              "      <td>ita</td>\n",
              "      <td>2</td>\n",
              "      <td>0.0</td>\n",
              "    </tr>\n",
              "  </tbody>\n",
              "</table>\n",
              "</div>"
            ],
            "text/plain": [
              "      type                src                                       question  \\\n",
              "427   uses  multiaut_italian1  Qual è un uso sorprendente per una LAMPADINA?   \n",
              "3983  uses  multiaut_italian1  Qual è un uso sorprendente per una LAMPADINA?   \n",
              "\n",
              "         prompt                                  response  \\\n",
              "427   Lampadina                                 strumento   \n",
              "3983  Lampadina  base per cartapesta per fare forme tonde   \n",
              "\n",
              "                                      id  target            participant  \\\n",
              "427   multiaut_italian1_Lampadina-4524c4     2.0    multiaut_italian118   \n",
              "3983  multiaut_italian1_Lampadina-5c62b6     3.0  multiaut_italian11059   \n",
              "\n",
              "     response_num language  rater_count  rating_std  \n",
              "427          None      ita            2         0.0  \n",
              "3983         None      ita            2         0.0  "
            ]
          },
          "metadata": {},
          "output_type": "display_data"
        },
        {
          "name": "stdout",
          "output_type": "stream",
          "text": [
            "spanish1\n"
          ]
        },
        {
          "data": {
            "text/markdown": [
              "### Loading *Patterson et al., 2023*"
            ],
            "text/plain": [
              "<IPython.core.display.Markdown object>"
            ]
          },
          "metadata": {},
          "output_type": "display_data"
        },
        {
          "data": {
            "text/markdown": [
              "Patterson, J. D., Merseal, H. M., Johnson, D. R., Agnoli, S., Baas, M., Baker, B. S., ... & Beaty, R. E. (2023). Multilingual semantic distance: Automatic verbal creativity assessment in many languages. Psychology of Aesthetics, Creativity, and the Arts, 17(4), 495."
            ],
            "text/plain": [
              "<IPython.core.display.Markdown object>"
            ]
          },
          "metadata": {},
          "output_type": "display_data"
        },
        {
          "data": {
            "text/markdown": [
              "- Renaming columns {'ID': 'participant', 'order': 'response_num'}"
            ],
            "text/plain": [
              "<IPython.core.display.Markdown object>"
            ]
          },
          "metadata": {},
          "output_type": "display_data"
        },
        {
          "data": {
            "text/markdown": [
              "- Inferred range of original data: (1.0, 5.0)"
            ],
            "text/plain": [
              "<IPython.core.display.Markdown object>"
            ]
          },
          "metadata": {},
          "output_type": "display_data"
        },
        {
          "data": {
            "text/markdown": [
              "- name: multiaut_spanish1\n",
              "- no_of_prompts: 1\n",
              "- no_of_participants: 491\n",
              "- no_of_data_points: 2735\n",
              "- prompts: ['ladrillo']\n",
              "- ICC2k: 0.57\n",
              "- ICC2k_CI: 0.18-0.75\n",
              "- ICC3k: 0.75\n",
              "- rater_cols: ['rater1', 'rater2', 'rater3']\n",
              "- no_of_raters: 3\n"
            ],
            "text/plain": [
              "<IPython.core.display.Markdown object>"
            ]
          },
          "metadata": {},
          "output_type": "display_data"
        },
        {
          "name": "stderr",
          "output_type": "stream",
          "text": [
            "/Users/peter.organisciak/anaconda3/lib/python3.9/site-packages/pandas/io/sql.py:761: UserWarning: pandas only support SQLAlchemy connectable(engine/connection) ordatabase string URI or sqlite3 DBAPI2 connectionother DBAPI2 objects are not tested, please consider using SQLAlchemy\n",
            "  warnings.warn(\n"
          ]
        },
        {
          "data": {
            "text/html": [
              "<div>\n",
              "<style scoped>\n",
              "    .dataframe tbody tr th:only-of-type {\n",
              "        vertical-align: middle;\n",
              "    }\n",
              "\n",
              "    .dataframe tbody tr th {\n",
              "        vertical-align: top;\n",
              "    }\n",
              "\n",
              "    .dataframe thead th {\n",
              "        text-align: right;\n",
              "    }\n",
              "</style>\n",
              "<table border=\"1\" class=\"dataframe\">\n",
              "  <thead>\n",
              "    <tr style=\"text-align: right;\">\n",
              "      <th></th>\n",
              "      <th>type</th>\n",
              "      <th>src</th>\n",
              "      <th>question</th>\n",
              "      <th>prompt</th>\n",
              "      <th>response</th>\n",
              "      <th>id</th>\n",
              "      <th>target</th>\n",
              "      <th>participant</th>\n",
              "      <th>response_num</th>\n",
              "      <th>language</th>\n",
              "      <th>rater_count</th>\n",
              "      <th>rating_std</th>\n",
              "    </tr>\n",
              "  </thead>\n",
              "  <tbody>\n",
              "    <tr>\n",
              "      <th>748</th>\n",
              "      <td>uses</td>\n",
              "      <td>multiaut_spanish1</td>\n",
              "      <td>¿Cuál es un uso sorprendente para un LADRILLO?</td>\n",
              "      <td>ladrillo</td>\n",
              "      <td>fogatas</td>\n",
              "      <td>multiaut_spanish1_ladrillo-fe9d47</td>\n",
              "      <td>1.666</td>\n",
              "      <td>multiaut_spanish1109</td>\n",
              "      <td>7</td>\n",
              "      <td>spa</td>\n",
              "      <td>3</td>\n",
              "      <td>1.154701</td>\n",
              "    </tr>\n",
              "    <tr>\n",
              "      <th>826</th>\n",
              "      <td>uses</td>\n",
              "      <td>multiaut_spanish1</td>\n",
              "      <td>¿Cuál es un uso sorprendente para un LADRILLO?</td>\n",
              "      <td>ladrillo</td>\n",
              "      <td>muros o paredes</td>\n",
              "      <td>multiaut_spanish1_ladrillo-dd77ed</td>\n",
              "      <td>1.000</td>\n",
              "      <td>multiaut_spanish1120</td>\n",
              "      <td>4</td>\n",
              "      <td>spa</td>\n",
              "      <td>3</td>\n",
              "      <td>0.000000</td>\n",
              "    </tr>\n",
              "  </tbody>\n",
              "</table>\n",
              "</div>"
            ],
            "text/plain": [
              "     type                src                                        question  \\\n",
              "748  uses  multiaut_spanish1  ¿Cuál es un uso sorprendente para un LADRILLO?   \n",
              "826  uses  multiaut_spanish1  ¿Cuál es un uso sorprendente para un LADRILLO?   \n",
              "\n",
              "       prompt         response                                 id  target  \\\n",
              "748  ladrillo          fogatas  multiaut_spanish1_ladrillo-fe9d47   1.666   \n",
              "826  ladrillo  muros o paredes  multiaut_spanish1_ladrillo-dd77ed   1.000   \n",
              "\n",
              "              participant  response_num language  rater_count  rating_std  \n",
              "748  multiaut_spanish1109             7      spa            3    1.154701  \n",
              "826  multiaut_spanish1120             4      spa            3    0.000000  "
            ]
          },
          "metadata": {},
          "output_type": "display_data"
        },
        {
          "name": "stdout",
          "output_type": "stream",
          "text": [
            "dutch1\n"
          ]
        },
        {
          "data": {
            "text/markdown": [
              "### Loading *Patterson et al., 2023*"
            ],
            "text/plain": [
              "<IPython.core.display.Markdown object>"
            ]
          },
          "metadata": {},
          "output_type": "display_data"
        },
        {
          "data": {
            "text/markdown": [
              "Patterson, J. D., Merseal, H. M., Johnson, D. R., Agnoli, S., Baas, M., Baker, B. S., ... & Beaty, R. E. (2023). Multilingual semantic distance: Automatic verbal creativity assessment in many languages. Psychology of Aesthetics, Creativity, and the Arts, 17(4), 495."
            ],
            "text/plain": [
              "<IPython.core.display.Markdown object>"
            ]
          },
          "metadata": {},
          "output_type": "display_data"
        },
        {
          "data": {
            "text/markdown": [
              "- Renaming columns {'ID': 'participant', 'order': 'response_num'}"
            ],
            "text/plain": [
              "<IPython.core.display.Markdown object>"
            ]
          },
          "metadata": {},
          "output_type": "display_data"
        },
        {
          "data": {
            "text/markdown": [
              "- Inferred range of original data: (0.0, 5.0)"
            ],
            "text/plain": [
              "<IPython.core.display.Markdown object>"
            ]
          },
          "metadata": {},
          "output_type": "display_data"
        },
        {
          "data": {
            "text/markdown": [
              "- name: multiaut_dutch1\n",
              "- no_of_prompts: 4\n",
              "- no_of_participants: 633\n",
              "- no_of_data_points: 10549\n",
              "- prompts: ['backstreen', 'vork', 'paperclip', 'handoek']\n",
              "- ICC2k: 0.81\n",
              "- ICC2k_CI: 0.81-0.82\n",
              "- ICC3k: 0.81\n",
              "- rater_cols: ['rater1', 'rater2']\n",
              "- no_of_raters: 2\n"
            ],
            "text/plain": [
              "<IPython.core.display.Markdown object>"
            ]
          },
          "metadata": {},
          "output_type": "display_data"
        },
        {
          "name": "stderr",
          "output_type": "stream",
          "text": [
            "/Users/peter.organisciak/anaconda3/lib/python3.9/site-packages/pandas/io/sql.py:761: UserWarning: pandas only support SQLAlchemy connectable(engine/connection) ordatabase string URI or sqlite3 DBAPI2 connectionother DBAPI2 objects are not tested, please consider using SQLAlchemy\n",
            "  warnings.warn(\n"
          ]
        },
        {
          "data": {
            "text/html": [
              "<div>\n",
              "<style scoped>\n",
              "    .dataframe tbody tr th:only-of-type {\n",
              "        vertical-align: middle;\n",
              "    }\n",
              "\n",
              "    .dataframe tbody tr th {\n",
              "        vertical-align: top;\n",
              "    }\n",
              "\n",
              "    .dataframe thead th {\n",
              "        text-align: right;\n",
              "    }\n",
              "</style>\n",
              "<table border=\"1\" class=\"dataframe\">\n",
              "  <thead>\n",
              "    <tr style=\"text-align: right;\">\n",
              "      <th></th>\n",
              "      <th>type</th>\n",
              "      <th>src</th>\n",
              "      <th>question</th>\n",
              "      <th>prompt</th>\n",
              "      <th>response</th>\n",
              "      <th>id</th>\n",
              "      <th>target</th>\n",
              "      <th>participant</th>\n",
              "      <th>response_num</th>\n",
              "      <th>language</th>\n",
              "      <th>rater_count</th>\n",
              "      <th>rating_std</th>\n",
              "    </tr>\n",
              "  </thead>\n",
              "  <tbody>\n",
              "    <tr>\n",
              "      <th>6443</th>\n",
              "      <td>uses</td>\n",
              "      <td>multiaut_dutch1</td>\n",
              "      <td>Wat is een verrassend gebruik voor een VORK?</td>\n",
              "      <td>vork</td>\n",
              "      <td>prikken</td>\n",
              "      <td>multiaut_dutch1_vork-fc0e41</td>\n",
              "      <td>1.8</td>\n",
              "      <td>multiaut_dutch1166</td>\n",
              "      <td>None</td>\n",
              "      <td>dut</td>\n",
              "      <td>2</td>\n",
              "      <td>0.000000</td>\n",
              "    </tr>\n",
              "    <tr>\n",
              "      <th>5137</th>\n",
              "      <td>uses</td>\n",
              "      <td>multiaut_dutch1</td>\n",
              "      <td>Wat is een verrassend gebruik voor een VORK?</td>\n",
              "      <td>vork</td>\n",
              "      <td>hark</td>\n",
              "      <td>multiaut_dutch1_vork-d85aa1</td>\n",
              "      <td>3.8</td>\n",
              "      <td>multiaut_dutch1753</td>\n",
              "      <td>None</td>\n",
              "      <td>dut</td>\n",
              "      <td>2</td>\n",
              "      <td>0.707107</td>\n",
              "    </tr>\n",
              "  </tbody>\n",
              "</table>\n",
              "</div>"
            ],
            "text/plain": [
              "      type              src                                      question  \\\n",
              "6443  uses  multiaut_dutch1  Wat is een verrassend gebruik voor een VORK?   \n",
              "5137  uses  multiaut_dutch1  Wat is een verrassend gebruik voor een VORK?   \n",
              "\n",
              "     prompt response                           id  target         participant  \\\n",
              "6443   vork  prikken  multiaut_dutch1_vork-fc0e41     1.8  multiaut_dutch1166   \n",
              "5137   vork     hark  multiaut_dutch1_vork-d85aa1     3.8  multiaut_dutch1753   \n",
              "\n",
              "     response_num language  rater_count  rating_std  \n",
              "6443         None      dut            2    0.000000  \n",
              "5137         None      dut            2    0.707107  "
            ]
          },
          "metadata": {},
          "output_type": "display_data"
        },
        {
          "name": "stdout",
          "output_type": "stream",
          "text": [
            "english3\n"
          ]
        },
        {
          "data": {
            "text/markdown": [
              "### Loading *Patterson et al., 2023*"
            ],
            "text/plain": [
              "<IPython.core.display.Markdown object>"
            ]
          },
          "metadata": {},
          "output_type": "display_data"
        },
        {
          "data": {
            "text/markdown": [
              "Patterson, J. D., Merseal, H. M., Johnson, D. R., Agnoli, S., Baas, M., Baker, B. S., ... & Beaty, R. E. (2023). Multilingual semantic distance: Automatic verbal creativity assessment in many languages. Psychology of Aesthetics, Creativity, and the Arts, 17(4), 495."
            ],
            "text/plain": [
              "<IPython.core.display.Markdown object>"
            ]
          },
          "metadata": {},
          "output_type": "display_data"
        },
        {
          "data": {
            "text/markdown": [
              "- Renaming columns {'ID': 'participant', 'order': 'response_num'}"
            ],
            "text/plain": [
              "<IPython.core.display.Markdown object>"
            ]
          },
          "metadata": {},
          "output_type": "display_data"
        },
        {
          "data": {
            "text/markdown": [
              "- Inferred range of original data: (1.0, 33.0)"
            ],
            "text/plain": [
              "<IPython.core.display.Markdown object>"
            ]
          },
          "metadata": {},
          "output_type": "display_data"
        },
        {
          "name": "stdout",
          "output_type": "stream",
          "text": [
            "Dropping 11 unrated items\n"
          ]
        },
        {
          "data": {
            "text/markdown": [
              "- name: multiaut_english3\n",
              "- no_of_prompts: 2\n",
              "- no_of_participants: 209\n",
              "- no_of_data_points: 3225\n",
              "- prompts: ['box', 'rope']\n",
              "- ICC2k: 0.38\n",
              "- ICC2k_CI: 0.18-0.52\n",
              "- ICC3k: 0.49\n",
              "- rater_cols: ['rater1', 'rater2', 'rater3']\n",
              "- no_of_raters: 3\n"
            ],
            "text/plain": [
              "<IPython.core.display.Markdown object>"
            ]
          },
          "metadata": {},
          "output_type": "display_data"
        },
        {
          "name": "stderr",
          "output_type": "stream",
          "text": [
            "/Users/peter.organisciak/anaconda3/lib/python3.9/site-packages/pandas/io/sql.py:761: UserWarning: pandas only support SQLAlchemy connectable(engine/connection) ordatabase string URI or sqlite3 DBAPI2 connectionother DBAPI2 objects are not tested, please consider using SQLAlchemy\n",
            "  warnings.warn(\n"
          ]
        },
        {
          "data": {
            "text/html": [
              "<div>\n",
              "<style scoped>\n",
              "    .dataframe tbody tr th:only-of-type {\n",
              "        vertical-align: middle;\n",
              "    }\n",
              "\n",
              "    .dataframe tbody tr th {\n",
              "        vertical-align: top;\n",
              "    }\n",
              "\n",
              "    .dataframe thead th {\n",
              "        text-align: right;\n",
              "    }\n",
              "</style>\n",
              "<table border=\"1\" class=\"dataframe\">\n",
              "  <thead>\n",
              "    <tr style=\"text-align: right;\">\n",
              "      <th></th>\n",
              "      <th>type</th>\n",
              "      <th>src</th>\n",
              "      <th>question</th>\n",
              "      <th>prompt</th>\n",
              "      <th>response</th>\n",
              "      <th>id</th>\n",
              "      <th>target</th>\n",
              "      <th>participant</th>\n",
              "      <th>response_num</th>\n",
              "      <th>language</th>\n",
              "      <th>rater_count</th>\n",
              "      <th>rating_std</th>\n",
              "    </tr>\n",
              "  </thead>\n",
              "  <tbody>\n",
              "    <tr>\n",
              "      <th>2793</th>\n",
              "      <td>uses</td>\n",
              "      <td>multiaut_english3</td>\n",
              "      <td>What is a surprising use for a BOX?</td>\n",
              "      <td>box</td>\n",
              "      <td>spray paint booth</td>\n",
              "      <td>multiaut_english3_box-5a6001</td>\n",
              "      <td>1.166625</td>\n",
              "      <td>multiaut_english383898</td>\n",
              "      <td>None</td>\n",
              "      <td>eng</td>\n",
              "      <td>3</td>\n",
              "      <td>1.527525</td>\n",
              "    </tr>\n",
              "    <tr>\n",
              "      <th>1359</th>\n",
              "      <td>uses</td>\n",
              "      <td>multiaut_english3</td>\n",
              "      <td>What is a surprising use for a ROPE?</td>\n",
              "      <td>rope</td>\n",
              "      <td>belt</td>\n",
              "      <td>multiaut_english3_rope-c50a92</td>\n",
              "      <td>1.041625</td>\n",
              "      <td>multiaut_english382969</td>\n",
              "      <td>None</td>\n",
              "      <td>eng</td>\n",
              "      <td>3</td>\n",
              "      <td>0.577350</td>\n",
              "    </tr>\n",
              "  </tbody>\n",
              "</table>\n",
              "</div>"
            ],
            "text/plain": [
              "      type                src                              question prompt  \\\n",
              "2793  uses  multiaut_english3   What is a surprising use for a BOX?    box   \n",
              "1359  uses  multiaut_english3  What is a surprising use for a ROPE?   rope   \n",
              "\n",
              "               response                             id    target  \\\n",
              "2793  spray paint booth   multiaut_english3_box-5a6001  1.166625   \n",
              "1359               belt  multiaut_english3_rope-c50a92  1.041625   \n",
              "\n",
              "                 participant response_num language  rater_count  rating_std  \n",
              "2793  multiaut_english383898         None      eng            3    1.527525  \n",
              "1359  multiaut_english382969         None      eng            3    0.577350  "
            ]
          },
          "metadata": {},
          "output_type": "display_data"
        },
        {
          "name": "stdout",
          "output_type": "stream",
          "text": [
            "french4\n"
          ]
        },
        {
          "data": {
            "text/markdown": [
              "### Loading *Patterson et al., 2023*"
            ],
            "text/plain": [
              "<IPython.core.display.Markdown object>"
            ]
          },
          "metadata": {},
          "output_type": "display_data"
        },
        {
          "data": {
            "text/markdown": [
              "Patterson, J. D., Merseal, H. M., Johnson, D. R., Agnoli, S., Baas, M., Baker, B. S., ... & Beaty, R. E. (2023). Multilingual semantic distance: Automatic verbal creativity assessment in many languages. Psychology of Aesthetics, Creativity, and the Arts, 17(4), 495."
            ],
            "text/plain": [
              "<IPython.core.display.Markdown object>"
            ]
          },
          "metadata": {},
          "output_type": "display_data"
        },
        {
          "data": {
            "text/markdown": [
              "- Renaming columns {'ID': 'participant', 'order': 'response_num'}"
            ],
            "text/plain": [
              "<IPython.core.display.Markdown object>"
            ]
          },
          "metadata": {},
          "output_type": "display_data"
        },
        {
          "data": {
            "text/markdown": [
              "- Inferred range of original data: (1.0, 5.0)"
            ],
            "text/plain": [
              "<IPython.core.display.Markdown object>"
            ]
          },
          "metadata": {},
          "output_type": "display_data"
        },
        {
          "data": {
            "text/markdown": [
              "- name: multiaut_french4\n",
              "- no_of_prompts: 2\n",
              "- no_of_participants: 238\n",
              "- no_of_data_points: 2332\n",
              "- prompts: ['brouette', 'ceinture']\n",
              "- ICC2k: 0.79\n",
              "- ICC2k_CI: 0.78-0.81\n",
              "- ICC3k: 0.8\n",
              "- rater_cols: ['rater1', 'rater2', 'rater3']\n",
              "- no_of_raters: 3\n"
            ],
            "text/plain": [
              "<IPython.core.display.Markdown object>"
            ]
          },
          "metadata": {},
          "output_type": "display_data"
        },
        {
          "name": "stderr",
          "output_type": "stream",
          "text": [
            "/Users/peter.organisciak/anaconda3/lib/python3.9/site-packages/pandas/io/sql.py:761: UserWarning: pandas only support SQLAlchemy connectable(engine/connection) ordatabase string URI or sqlite3 DBAPI2 connectionother DBAPI2 objects are not tested, please consider using SQLAlchemy\n",
            "  warnings.warn(\n"
          ]
        },
        {
          "data": {
            "text/html": [
              "<div>\n",
              "<style scoped>\n",
              "    .dataframe tbody tr th:only-of-type {\n",
              "        vertical-align: middle;\n",
              "    }\n",
              "\n",
              "    .dataframe tbody tr th {\n",
              "        vertical-align: top;\n",
              "    }\n",
              "\n",
              "    .dataframe thead th {\n",
              "        text-align: right;\n",
              "    }\n",
              "</style>\n",
              "<table border=\"1\" class=\"dataframe\">\n",
              "  <thead>\n",
              "    <tr style=\"text-align: right;\">\n",
              "      <th></th>\n",
              "      <th>type</th>\n",
              "      <th>src</th>\n",
              "      <th>question</th>\n",
              "      <th>prompt</th>\n",
              "      <th>response</th>\n",
              "      <th>id</th>\n",
              "      <th>target</th>\n",
              "      <th>participant</th>\n",
              "      <th>response_num</th>\n",
              "      <th>language</th>\n",
              "      <th>rater_count</th>\n",
              "      <th>rating_std</th>\n",
              "    </tr>\n",
              "  </thead>\n",
              "  <tbody>\n",
              "    <tr>\n",
              "      <th>419</th>\n",
              "      <td>uses</td>\n",
              "      <td>multiaut_french4</td>\n",
              "      <td>Quel est un usage surprenant pour une CEINTURE?</td>\n",
              "      <td>ceinture</td>\n",
              "      <td>En tant que corde</td>\n",
              "      <td>multiaut_french4_ceinture-464447</td>\n",
              "      <td>1.000</td>\n",
              "      <td>multiaut_french448</td>\n",
              "      <td>None</td>\n",
              "      <td>fre</td>\n",
              "      <td>3</td>\n",
              "      <td>0.00000</td>\n",
              "    </tr>\n",
              "    <tr>\n",
              "      <th>794</th>\n",
              "      <td>uses</td>\n",
              "      <td>multiaut_french4</td>\n",
              "      <td>Quel est un usage surprenant pour une CEINTURE?</td>\n",
              "      <td>ceinture</td>\n",
              "      <td>Se pendre</td>\n",
              "      <td>multiaut_french4_ceinture-f2f33a</td>\n",
              "      <td>1.667</td>\n",
              "      <td>multiaut_french483</td>\n",
              "      <td>None</td>\n",
              "      <td>fre</td>\n",
              "      <td>3</td>\n",
              "      <td>0.57735</td>\n",
              "    </tr>\n",
              "  </tbody>\n",
              "</table>\n",
              "</div>"
            ],
            "text/plain": [
              "     type               src                                         question  \\\n",
              "419  uses  multiaut_french4  Quel est un usage surprenant pour une CEINTURE?   \n",
              "794  uses  multiaut_french4  Quel est un usage surprenant pour une CEINTURE?   \n",
              "\n",
              "       prompt           response                                id  target  \\\n",
              "419  ceinture  En tant que corde  multiaut_french4_ceinture-464447   1.000   \n",
              "794  ceinture          Se pendre  multiaut_french4_ceinture-f2f33a   1.667   \n",
              "\n",
              "            participant response_num language  rater_count  rating_std  \n",
              "419  multiaut_french448         None      fre            3     0.00000  \n",
              "794  multiaut_french483         None      fre            3     0.57735  "
            ]
          },
          "metadata": {},
          "output_type": "display_data"
        },
        {
          "name": "stdout",
          "output_type": "stream",
          "text": [
            "italian2\n"
          ]
        },
        {
          "data": {
            "text/markdown": [
              "### Loading *Patterson et al., 2023*"
            ],
            "text/plain": [
              "<IPython.core.display.Markdown object>"
            ]
          },
          "metadata": {},
          "output_type": "display_data"
        },
        {
          "data": {
            "text/markdown": [
              "Patterson, J. D., Merseal, H. M., Johnson, D. R., Agnoli, S., Baas, M., Baker, B. S., ... & Beaty, R. E. (2023). Multilingual semantic distance: Automatic verbal creativity assessment in many languages. Psychology of Aesthetics, Creativity, and the Arts, 17(4), 495."
            ],
            "text/plain": [
              "<IPython.core.display.Markdown object>"
            ]
          },
          "metadata": {},
          "output_type": "display_data"
        },
        {
          "data": {
            "text/markdown": [
              "- Renaming columns {'ID': 'participant', 'order': 'response_num'}"
            ],
            "text/plain": [
              "<IPython.core.display.Markdown object>"
            ]
          },
          "metadata": {},
          "output_type": "display_data"
        },
        {
          "data": {
            "text/markdown": [
              "- Inferred range of original data: (0.0, 5.0)"
            ],
            "text/plain": [
              "<IPython.core.display.Markdown object>"
            ]
          },
          "metadata": {},
          "output_type": "display_data"
        },
        {
          "name": "stdout",
          "output_type": "stream",
          "text": [
            "Dropping 3 unrated items\n"
          ]
        },
        {
          "data": {
            "text/markdown": [
              "- name: multiaut_italian2\n",
              "- no_of_prompts: 21\n",
              "- no_of_participants: 80\n",
              "- no_of_data_points: 6895\n",
              "- prompts: ['guanto', 'lampadina', 'libro', 'martello', 'mattone', 'cappello', 'cestino', 'coltello', 'cucchiaio', 'graffetta', 'accendino', 'accetta', 'appendino', 'aspirapolvere', 'banana', 'barattolo', 'bicicletta', 'borsa', 'botte', 'bottiglietta', 'capello']\n",
              "- ICC2k: 0.88\n",
              "- ICC2k_CI: 0.87-0.89\n",
              "- ICC3k: 0.88\n",
              "- rater_cols: ['rater1', 'rater2']\n",
              "- no_of_raters: 2\n"
            ],
            "text/plain": [
              "<IPython.core.display.Markdown object>"
            ]
          },
          "metadata": {},
          "output_type": "display_data"
        },
        {
          "name": "stderr",
          "output_type": "stream",
          "text": [
            "/Users/peter.organisciak/anaconda3/lib/python3.9/site-packages/pandas/io/sql.py:761: UserWarning: pandas only support SQLAlchemy connectable(engine/connection) ordatabase string URI or sqlite3 DBAPI2 connectionother DBAPI2 objects are not tested, please consider using SQLAlchemy\n",
            "  warnings.warn(\n"
          ]
        },
        {
          "data": {
            "text/html": [
              "<div>\n",
              "<style scoped>\n",
              "    .dataframe tbody tr th:only-of-type {\n",
              "        vertical-align: middle;\n",
              "    }\n",
              "\n",
              "    .dataframe tbody tr th {\n",
              "        vertical-align: top;\n",
              "    }\n",
              "\n",
              "    .dataframe thead th {\n",
              "        text-align: right;\n",
              "    }\n",
              "</style>\n",
              "<table border=\"1\" class=\"dataframe\">\n",
              "  <thead>\n",
              "    <tr style=\"text-align: right;\">\n",
              "      <th></th>\n",
              "      <th>type</th>\n",
              "      <th>src</th>\n",
              "      <th>question</th>\n",
              "      <th>prompt</th>\n",
              "      <th>response</th>\n",
              "      <th>id</th>\n",
              "      <th>target</th>\n",
              "      <th>participant</th>\n",
              "      <th>response_num</th>\n",
              "      <th>language</th>\n",
              "      <th>rater_count</th>\n",
              "      <th>rating_std</th>\n",
              "    </tr>\n",
              "  </thead>\n",
              "  <tbody>\n",
              "    <tr>\n",
              "      <th>3615</th>\n",
              "      <td>uses</td>\n",
              "      <td>multiaut_italian2</td>\n",
              "      <td>Qual è un uso sorprendente per una BOTTE?</td>\n",
              "      <td>botte</td>\n",
              "      <td>comodino</td>\n",
              "      <td>multiaut_italian2_botte-e2ef7f</td>\n",
              "      <td>2.6</td>\n",
              "      <td>multiaut_italian2103</td>\n",
              "      <td>None</td>\n",
              "      <td>ita</td>\n",
              "      <td>2</td>\n",
              "      <td>0.0</td>\n",
              "    </tr>\n",
              "    <tr>\n",
              "      <th>5496</th>\n",
              "      <td>uses</td>\n",
              "      <td>multiaut_italian2</td>\n",
              "      <td>Qual è un uso sorprendente per un LIBRO?</td>\n",
              "      <td>libro</td>\n",
              "      <td>ventaglio</td>\n",
              "      <td>multiaut_italian2_libro-8afa8b</td>\n",
              "      <td>2.6</td>\n",
              "      <td>multiaut_italian2123</td>\n",
              "      <td>None</td>\n",
              "      <td>ita</td>\n",
              "      <td>2</td>\n",
              "      <td>0.0</td>\n",
              "    </tr>\n",
              "  </tbody>\n",
              "</table>\n",
              "</div>"
            ],
            "text/plain": [
              "      type                src                                   question  \\\n",
              "3615  uses  multiaut_italian2  Qual è un uso sorprendente per una BOTTE?   \n",
              "5496  uses  multiaut_italian2   Qual è un uso sorprendente per un LIBRO?   \n",
              "\n",
              "     prompt   response                              id  target  \\\n",
              "3615  botte   comodino  multiaut_italian2_botte-e2ef7f     2.6   \n",
              "5496  libro  ventaglio  multiaut_italian2_libro-8afa8b     2.6   \n",
              "\n",
              "               participant response_num language  rater_count  rating_std  \n",
              "3615  multiaut_italian2103         None      ita            2         0.0  \n",
              "5496  multiaut_italian2123         None      ita            2         0.0  "
            ]
          },
          "metadata": {},
          "output_type": "display_data"
        },
        {
          "name": "stdout",
          "output_type": "stream",
          "text": [
            "dutch2\n"
          ]
        },
        {
          "data": {
            "text/markdown": [
              "### Loading *Patterson et al., 2023*"
            ],
            "text/plain": [
              "<IPython.core.display.Markdown object>"
            ]
          },
          "metadata": {},
          "output_type": "display_data"
        },
        {
          "data": {
            "text/markdown": [
              "Patterson, J. D., Merseal, H. M., Johnson, D. R., Agnoli, S., Baas, M., Baker, B. S., ... & Beaty, R. E. (2023). Multilingual semantic distance: Automatic verbal creativity assessment in many languages. Psychology of Aesthetics, Creativity, and the Arts, 17(4), 495."
            ],
            "text/plain": [
              "<IPython.core.display.Markdown object>"
            ]
          },
          "metadata": {},
          "output_type": "display_data"
        },
        {
          "data": {
            "text/markdown": [
              "- Renaming columns {'ID': 'participant', 'order': 'response_num'}"
            ],
            "text/plain": [
              "<IPython.core.display.Markdown object>"
            ]
          },
          "metadata": {},
          "output_type": "display_data"
        },
        {
          "data": {
            "text/markdown": [
              "- Inferred range of original data: (0.0, 5.0)"
            ],
            "text/plain": [
              "<IPython.core.display.Markdown object>"
            ]
          },
          "metadata": {},
          "output_type": "display_data"
        },
        {
          "data": {
            "text/markdown": [
              "- name: multiaut_dutch2\n",
              "- no_of_prompts: 2\n",
              "- no_of_participants: 111\n",
              "- no_of_data_points: 1640\n",
              "- prompts: ['backstreen', 'paperclip']\n",
              "- ICC2k: 0.94\n",
              "- ICC2k_CI: 0.93-0.95\n",
              "- ICC3k: 0.94\n",
              "- rater_cols: ['rater1', 'rater2']\n",
              "- no_of_raters: 2\n"
            ],
            "text/plain": [
              "<IPython.core.display.Markdown object>"
            ]
          },
          "metadata": {},
          "output_type": "display_data"
        },
        {
          "name": "stderr",
          "output_type": "stream",
          "text": [
            "/Users/peter.organisciak/anaconda3/lib/python3.9/site-packages/pandas/io/sql.py:761: UserWarning: pandas only support SQLAlchemy connectable(engine/connection) ordatabase string URI or sqlite3 DBAPI2 connectionother DBAPI2 objects are not tested, please consider using SQLAlchemy\n",
            "  warnings.warn(\n"
          ]
        },
        {
          "data": {
            "text/html": [
              "<div>\n",
              "<style scoped>\n",
              "    .dataframe tbody tr th:only-of-type {\n",
              "        vertical-align: middle;\n",
              "    }\n",
              "\n",
              "    .dataframe tbody tr th {\n",
              "        vertical-align: top;\n",
              "    }\n",
              "\n",
              "    .dataframe thead th {\n",
              "        text-align: right;\n",
              "    }\n",
              "</style>\n",
              "<table border=\"1\" class=\"dataframe\">\n",
              "  <thead>\n",
              "    <tr style=\"text-align: right;\">\n",
              "      <th></th>\n",
              "      <th>type</th>\n",
              "      <th>src</th>\n",
              "      <th>question</th>\n",
              "      <th>prompt</th>\n",
              "      <th>response</th>\n",
              "      <th>id</th>\n",
              "      <th>target</th>\n",
              "      <th>participant</th>\n",
              "      <th>response_num</th>\n",
              "      <th>language</th>\n",
              "      <th>rater_count</th>\n",
              "      <th>rating_std</th>\n",
              "    </tr>\n",
              "  </thead>\n",
              "  <tbody>\n",
              "    <tr>\n",
              "      <th>1406</th>\n",
              "      <td>uses</td>\n",
              "      <td>multiaut_dutch2</td>\n",
              "      <td>Wat is een verrassend gebruik voor een paperclip?</td>\n",
              "      <td>paperclip</td>\n",
              "      <td>ring van maken</td>\n",
              "      <td>multiaut_dutch2_paperclip-f854b7</td>\n",
              "      <td>2.6</td>\n",
              "      <td>multiaut_dutch21168</td>\n",
              "      <td>None</td>\n",
              "      <td>dut</td>\n",
              "      <td>2</td>\n",
              "      <td>0.0</td>\n",
              "    </tr>\n",
              "    <tr>\n",
              "      <th>371</th>\n",
              "      <td>uses</td>\n",
              "      <td>multiaut_dutch2</td>\n",
              "      <td>Wat is een verrassend gebruik voor een BACKSTR...</td>\n",
              "      <td>backstreen</td>\n",
              "      <td>kei</td>\n",
              "      <td>multiaut_dutch2_backstreen-6876c2</td>\n",
              "      <td>1.8</td>\n",
              "      <td>multiaut_dutch21225</td>\n",
              "      <td>None</td>\n",
              "      <td>dut</td>\n",
              "      <td>2</td>\n",
              "      <td>0.0</td>\n",
              "    </tr>\n",
              "  </tbody>\n",
              "</table>\n",
              "</div>"
            ],
            "text/plain": [
              "      type              src  \\\n",
              "1406  uses  multiaut_dutch2   \n",
              "371   uses  multiaut_dutch2   \n",
              "\n",
              "                                               question      prompt  \\\n",
              "1406  Wat is een verrassend gebruik voor een paperclip?   paperclip   \n",
              "371   Wat is een verrassend gebruik voor een BACKSTR...  backstreen   \n",
              "\n",
              "            response                                 id  target  \\\n",
              "1406  ring van maken   multiaut_dutch2_paperclip-f854b7     2.6   \n",
              "371              kei  multiaut_dutch2_backstreen-6876c2     1.8   \n",
              "\n",
              "              participant response_num language  rater_count  rating_std  \n",
              "1406  multiaut_dutch21168         None      dut            2         0.0  \n",
              "371   multiaut_dutch21225         None      dut            2         0.0  "
            ]
          },
          "metadata": {},
          "output_type": "display_data"
        },
        {
          "name": "stdout",
          "output_type": "stream",
          "text": [
            "german1\n"
          ]
        },
        {
          "data": {
            "text/markdown": [
              "### Loading *Patterson et al., 2023*"
            ],
            "text/plain": [
              "<IPython.core.display.Markdown object>"
            ]
          },
          "metadata": {},
          "output_type": "display_data"
        },
        {
          "data": {
            "text/markdown": [
              "Patterson, J. D., Merseal, H. M., Johnson, D. R., Agnoli, S., Baas, M., Baker, B. S., ... & Beaty, R. E. (2023). Multilingual semantic distance: Automatic verbal creativity assessment in many languages. Psychology of Aesthetics, Creativity, and the Arts, 17(4), 495."
            ],
            "text/plain": [
              "<IPython.core.display.Markdown object>"
            ]
          },
          "metadata": {},
          "output_type": "display_data"
        },
        {
          "data": {
            "text/markdown": [
              "- Renaming columns {'ID': 'participant', 'order': 'response_num'}"
            ],
            "text/plain": [
              "<IPython.core.display.Markdown object>"
            ]
          },
          "metadata": {},
          "output_type": "display_data"
        },
        {
          "data": {
            "text/markdown": [
              "- Inferred range of original data: (0.0, 3.0)"
            ],
            "text/plain": [
              "<IPython.core.display.Markdown object>"
            ]
          },
          "metadata": {},
          "output_type": "display_data"
        },
        {
          "data": {
            "text/markdown": [
              "- name: multiaut_german1\n",
              "- no_of_prompts: 3\n",
              "- no_of_participants: 298\n",
              "- no_of_data_points: 8116\n",
              "- prompts: ['konservendose', 'messer', 'haarfoehn']\n",
              "- ICC2k: 0.7\n",
              "- ICC2k_CI: 0.68-0.72\n",
              "- ICC3k: 0.71\n",
              "- rater_cols: ['rater1', 'rater2', 'rater3', 'rater4']\n",
              "- no_of_raters: 4\n"
            ],
            "text/plain": [
              "<IPython.core.display.Markdown object>"
            ]
          },
          "metadata": {},
          "output_type": "display_data"
        },
        {
          "name": "stderr",
          "output_type": "stream",
          "text": [
            "/Users/peter.organisciak/anaconda3/lib/python3.9/site-packages/pandas/io/sql.py:761: UserWarning: pandas only support SQLAlchemy connectable(engine/connection) ordatabase string URI or sqlite3 DBAPI2 connectionother DBAPI2 objects are not tested, please consider using SQLAlchemy\n",
            "  warnings.warn(\n"
          ]
        },
        {
          "data": {
            "text/html": [
              "<div>\n",
              "<style scoped>\n",
              "    .dataframe tbody tr th:only-of-type {\n",
              "        vertical-align: middle;\n",
              "    }\n",
              "\n",
              "    .dataframe tbody tr th {\n",
              "        vertical-align: top;\n",
              "    }\n",
              "\n",
              "    .dataframe thead th {\n",
              "        text-align: right;\n",
              "    }\n",
              "</style>\n",
              "<table border=\"1\" class=\"dataframe\">\n",
              "  <thead>\n",
              "    <tr style=\"text-align: right;\">\n",
              "      <th></th>\n",
              "      <th>type</th>\n",
              "      <th>src</th>\n",
              "      <th>question</th>\n",
              "      <th>prompt</th>\n",
              "      <th>response</th>\n",
              "      <th>id</th>\n",
              "      <th>target</th>\n",
              "      <th>participant</th>\n",
              "      <th>response_num</th>\n",
              "      <th>language</th>\n",
              "      <th>rater_count</th>\n",
              "      <th>rating_std</th>\n",
              "    </tr>\n",
              "  </thead>\n",
              "  <tbody>\n",
              "    <tr>\n",
              "      <th>1587</th>\n",
              "      <td>uses</td>\n",
              "      <td>multiaut_german1</td>\n",
              "      <td>Was ist eine überraschende Verwendung für eine...</td>\n",
              "      <td>haarfoehn</td>\n",
              "      <td>Federn im Raum verteilen</td>\n",
              "      <td>multiaut_german1_haarfoehn-fd8d73</td>\n",
              "      <td>2.666333</td>\n",
              "      <td>multiaut_german166</td>\n",
              "      <td>None</td>\n",
              "      <td>ger</td>\n",
              "      <td>4</td>\n",
              "      <td>0.50000</td>\n",
              "    </tr>\n",
              "    <tr>\n",
              "      <th>1708</th>\n",
              "      <td>uses</td>\n",
              "      <td>multiaut_german1</td>\n",
              "      <td>Was ist eine überraschende Verwendung für eine...</td>\n",
              "      <td>haarfoehn</td>\n",
              "      <td>um mit nem Tischtennisball zu spielen, ohne ih...</td>\n",
              "      <td>multiaut_german1_haarfoehn-6fc4e4</td>\n",
              "      <td>4.333333</td>\n",
              "      <td>multiaut_german171</td>\n",
              "      <td>None</td>\n",
              "      <td>ger</td>\n",
              "      <td>4</td>\n",
              "      <td>0.57735</td>\n",
              "    </tr>\n",
              "  </tbody>\n",
              "</table>\n",
              "</div>"
            ],
            "text/plain": [
              "      type               src  \\\n",
              "1587  uses  multiaut_german1   \n",
              "1708  uses  multiaut_german1   \n",
              "\n",
              "                                               question     prompt  \\\n",
              "1587  Was ist eine überraschende Verwendung für eine...  haarfoehn   \n",
              "1708  Was ist eine überraschende Verwendung für eine...  haarfoehn   \n",
              "\n",
              "                                               response  \\\n",
              "1587                           Federn im Raum verteilen   \n",
              "1708  um mit nem Tischtennisball zu spielen, ohne ih...   \n",
              "\n",
              "                                     id    target         participant  \\\n",
              "1587  multiaut_german1_haarfoehn-fd8d73  2.666333  multiaut_german166   \n",
              "1708  multiaut_german1_haarfoehn-6fc4e4  4.333333  multiaut_german171   \n",
              "\n",
              "     response_num language  rater_count  rating_std  \n",
              "1587         None      ger            4     0.50000  \n",
              "1708         None      ger            4     0.57735  "
            ]
          },
          "metadata": {},
          "output_type": "display_data"
        },
        {
          "name": "stdout",
          "output_type": "stream",
          "text": [
            "polish1\n"
          ]
        },
        {
          "data": {
            "text/markdown": [
              "### Loading *Patterson et al., 2023*"
            ],
            "text/plain": [
              "<IPython.core.display.Markdown object>"
            ]
          },
          "metadata": {},
          "output_type": "display_data"
        },
        {
          "data": {
            "text/markdown": [
              "Patterson, J. D., Merseal, H. M., Johnson, D. R., Agnoli, S., Baas, M., Baker, B. S., ... & Beaty, R. E. (2023). Multilingual semantic distance: Automatic verbal creativity assessment in many languages. Psychology of Aesthetics, Creativity, and the Arts, 17(4), 495."
            ],
            "text/plain": [
              "<IPython.core.display.Markdown object>"
            ]
          },
          "metadata": {},
          "output_type": "display_data"
        },
        {
          "data": {
            "text/markdown": [
              "- Renaming columns {'ID': 'participant', 'order': 'response_num'}"
            ],
            "text/plain": [
              "<IPython.core.display.Markdown object>"
            ]
          },
          "metadata": {},
          "output_type": "display_data"
        },
        {
          "data": {
            "text/markdown": [
              "- Inferred range of original data: (1, 7)"
            ],
            "text/plain": [
              "<IPython.core.display.Markdown object>"
            ]
          },
          "metadata": {},
          "output_type": "display_data"
        },
        {
          "data": {
            "text/markdown": [
              "- name: multiaut_polish1\n",
              "- no_of_prompts: 2\n",
              "- no_of_participants: 791\n",
              "- no_of_data_points: 7415\n",
              "- prompts: ['puszka', 'cegła']\n",
              "- ICC2k: 0.82\n",
              "- ICC2k_CI: 0.81-0.83\n",
              "- ICC3k: 0.82\n",
              "- rater_cols: ['rater1', 'rater2', 'rater3']\n",
              "- no_of_raters: 3\n"
            ],
            "text/plain": [
              "<IPython.core.display.Markdown object>"
            ]
          },
          "metadata": {},
          "output_type": "display_data"
        },
        {
          "name": "stderr",
          "output_type": "stream",
          "text": [
            "/Users/peter.organisciak/anaconda3/lib/python3.9/site-packages/pandas/io/sql.py:761: UserWarning: pandas only support SQLAlchemy connectable(engine/connection) ordatabase string URI or sqlite3 DBAPI2 connectionother DBAPI2 objects are not tested, please consider using SQLAlchemy\n",
            "  warnings.warn(\n"
          ]
        },
        {
          "data": {
            "text/html": [
              "<div>\n",
              "<style scoped>\n",
              "    .dataframe tbody tr th:only-of-type {\n",
              "        vertical-align: middle;\n",
              "    }\n",
              "\n",
              "    .dataframe tbody tr th {\n",
              "        vertical-align: top;\n",
              "    }\n",
              "\n",
              "    .dataframe thead th {\n",
              "        text-align: right;\n",
              "    }\n",
              "</style>\n",
              "<table border=\"1\" class=\"dataframe\">\n",
              "  <thead>\n",
              "    <tr style=\"text-align: right;\">\n",
              "      <th></th>\n",
              "      <th>type</th>\n",
              "      <th>src</th>\n",
              "      <th>question</th>\n",
              "      <th>prompt</th>\n",
              "      <th>response</th>\n",
              "      <th>id</th>\n",
              "      <th>target</th>\n",
              "      <th>participant</th>\n",
              "      <th>response_num</th>\n",
              "      <th>language</th>\n",
              "      <th>rater_count</th>\n",
              "      <th>rating_std</th>\n",
              "    </tr>\n",
              "  </thead>\n",
              "  <tbody>\n",
              "    <tr>\n",
              "      <th>2402</th>\n",
              "      <td>uses</td>\n",
              "      <td>multiaut_polish1</td>\n",
              "      <td>Jakie jest zaskakujące zastosowanie dla PUSZKI?</td>\n",
              "      <td>puszka</td>\n",
              "      <td>po zgnieceniu jako formę mozaiki na ścianę</td>\n",
              "      <td>multiaut_polish1_puszka-5dd583</td>\n",
              "      <td>2.333333</td>\n",
              "      <td>multiaut_polish1480110</td>\n",
              "      <td>p3</td>\n",
              "      <td>pol</td>\n",
              "      <td>3</td>\n",
              "      <td>0.00000</td>\n",
              "    </tr>\n",
              "    <tr>\n",
              "      <th>6386</th>\n",
              "      <td>uses</td>\n",
              "      <td>multiaut_polish1</td>\n",
              "      <td>Jakie jest zaskakujące zastosowanie dla CEGŁY?</td>\n",
              "      <td>cegła</td>\n",
              "      <td>obciążnik</td>\n",
              "      <td>multiaut_polish1_cegła-62dbf6</td>\n",
              "      <td>1.888667</td>\n",
              "      <td>multiaut_polish1515364</td>\n",
              "      <td>p2</td>\n",
              "      <td>pol</td>\n",
              "      <td>3</td>\n",
              "      <td>0.57735</td>\n",
              "    </tr>\n",
              "  </tbody>\n",
              "</table>\n",
              "</div>"
            ],
            "text/plain": [
              "      type               src                                         question  \\\n",
              "2402  uses  multiaut_polish1  Jakie jest zaskakujące zastosowanie dla PUSZKI?   \n",
              "6386  uses  multiaut_polish1   Jakie jest zaskakujące zastosowanie dla CEGŁY?   \n",
              "\n",
              "      prompt                                    response  \\\n",
              "2402  puszka  po zgnieceniu jako formę mozaiki na ścianę   \n",
              "6386   cegła                                   obciążnik   \n",
              "\n",
              "                                  id    target             participant  \\\n",
              "2402  multiaut_polish1_puszka-5dd583  2.333333  multiaut_polish1480110   \n",
              "6386   multiaut_polish1_cegła-62dbf6  1.888667  multiaut_polish1515364   \n",
              "\n",
              "     response_num language  rater_count  rating_std  \n",
              "2402           p3      pol            3     0.00000  \n",
              "6386           p2      pol            3     0.57735  "
            ]
          },
          "metadata": {},
          "output_type": "display_data"
        },
        {
          "name": "stdout",
          "output_type": "stream",
          "text": [
            "dutch3\n"
          ]
        },
        {
          "data": {
            "text/markdown": [
              "### Loading *Patterson et al., 2023*"
            ],
            "text/plain": [
              "<IPython.core.display.Markdown object>"
            ]
          },
          "metadata": {},
          "output_type": "display_data"
        },
        {
          "data": {
            "text/markdown": [
              "Patterson, J. D., Merseal, H. M., Johnson, D. R., Agnoli, S., Baas, M., Baker, B. S., ... & Beaty, R. E. (2023). Multilingual semantic distance: Automatic verbal creativity assessment in many languages. Psychology of Aesthetics, Creativity, and the Arts, 17(4), 495."
            ],
            "text/plain": [
              "<IPython.core.display.Markdown object>"
            ]
          },
          "metadata": {},
          "output_type": "display_data"
        },
        {
          "data": {
            "text/markdown": [
              "- Renaming columns {'ID': 'participant', 'order': 'response_num'}"
            ],
            "text/plain": [
              "<IPython.core.display.Markdown object>"
            ]
          },
          "metadata": {},
          "output_type": "display_data"
        },
        {
          "data": {
            "text/markdown": [
              "- Inferred range of original data: (0, 5)"
            ],
            "text/plain": [
              "<IPython.core.display.Markdown object>"
            ]
          },
          "metadata": {},
          "output_type": "display_data"
        },
        {
          "data": {
            "text/markdown": [
              "- name: multiaut_dutch3\n",
              "- no_of_prompts: 1\n",
              "- no_of_participants: 111\n",
              "- no_of_data_points: 1004\n",
              "- prompts: ['backstreen']\n",
              "- ICC2k: 0.86\n",
              "- ICC2k_CI: 0.79-0.89\n",
              "- ICC3k: 0.87\n",
              "- rater_cols: ['rater1', 'rater2']\n",
              "- no_of_raters: 2\n"
            ],
            "text/plain": [
              "<IPython.core.display.Markdown object>"
            ]
          },
          "metadata": {},
          "output_type": "display_data"
        },
        {
          "name": "stderr",
          "output_type": "stream",
          "text": [
            "/Users/peter.organisciak/anaconda3/lib/python3.9/site-packages/pandas/io/sql.py:761: UserWarning: pandas only support SQLAlchemy connectable(engine/connection) ordatabase string URI or sqlite3 DBAPI2 connectionother DBAPI2 objects are not tested, please consider using SQLAlchemy\n",
            "  warnings.warn(\n"
          ]
        },
        {
          "data": {
            "text/html": [
              "<div>\n",
              "<style scoped>\n",
              "    .dataframe tbody tr th:only-of-type {\n",
              "        vertical-align: middle;\n",
              "    }\n",
              "\n",
              "    .dataframe tbody tr th {\n",
              "        vertical-align: top;\n",
              "    }\n",
              "\n",
              "    .dataframe thead th {\n",
              "        text-align: right;\n",
              "    }\n",
              "</style>\n",
              "<table border=\"1\" class=\"dataframe\">\n",
              "  <thead>\n",
              "    <tr style=\"text-align: right;\">\n",
              "      <th></th>\n",
              "      <th>type</th>\n",
              "      <th>src</th>\n",
              "      <th>question</th>\n",
              "      <th>prompt</th>\n",
              "      <th>response</th>\n",
              "      <th>id</th>\n",
              "      <th>target</th>\n",
              "      <th>participant</th>\n",
              "      <th>response_num</th>\n",
              "      <th>language</th>\n",
              "      <th>rater_count</th>\n",
              "      <th>rating_std</th>\n",
              "    </tr>\n",
              "  </thead>\n",
              "  <tbody>\n",
              "    <tr>\n",
              "      <th>929</th>\n",
              "      <td>uses</td>\n",
              "      <td>multiaut_dutch3</td>\n",
              "      <td>Wat is een verrassend gebruik voor een BACKSTR...</td>\n",
              "      <td>backstreen</td>\n",
              "      <td>smelten</td>\n",
              "      <td>multiaut_dutch3_backstreen-c5d027</td>\n",
              "      <td>3.8</td>\n",
              "      <td>multiaut_dutch31530</td>\n",
              "      <td>None</td>\n",
              "      <td>dut</td>\n",
              "      <td>2</td>\n",
              "      <td>0.707107</td>\n",
              "    </tr>\n",
              "    <tr>\n",
              "      <th>165</th>\n",
              "      <td>uses</td>\n",
              "      <td>multiaut_dutch3</td>\n",
              "      <td>Wat is een verrassend gebruik voor een BACKSTR...</td>\n",
              "      <td>backstreen</td>\n",
              "      <td>bed</td>\n",
              "      <td>multiaut_dutch3_backstreen-2325a5</td>\n",
              "      <td>3.4</td>\n",
              "      <td>multiaut_dutch31316</td>\n",
              "      <td>None</td>\n",
              "      <td>dut</td>\n",
              "      <td>2</td>\n",
              "      <td>0.000000</td>\n",
              "    </tr>\n",
              "  </tbody>\n",
              "</table>\n",
              "</div>"
            ],
            "text/plain": [
              "     type              src                                           question  \\\n",
              "929  uses  multiaut_dutch3  Wat is een verrassend gebruik voor een BACKSTR...   \n",
              "165  uses  multiaut_dutch3  Wat is een verrassend gebruik voor een BACKSTR...   \n",
              "\n",
              "         prompt response                                 id  target  \\\n",
              "929  backstreen  smelten  multiaut_dutch3_backstreen-c5d027     3.8   \n",
              "165  backstreen      bed  multiaut_dutch3_backstreen-2325a5     3.4   \n",
              "\n",
              "             participant response_num language  rater_count  rating_std  \n",
              "929  multiaut_dutch31530         None      dut            2    0.707107  \n",
              "165  multiaut_dutch31316         None      dut            2    0.000000  "
            ]
          },
          "metadata": {},
          "output_type": "display_data"
        },
        {
          "name": "stdout",
          "output_type": "stream",
          "text": [
            "german2\n"
          ]
        },
        {
          "data": {
            "text/markdown": [
              "### Loading *Patterson et al., 2023*"
            ],
            "text/plain": [
              "<IPython.core.display.Markdown object>"
            ]
          },
          "metadata": {},
          "output_type": "display_data"
        },
        {
          "data": {
            "text/markdown": [
              "Patterson, J. D., Merseal, H. M., Johnson, D. R., Agnoli, S., Baas, M., Baker, B. S., ... & Beaty, R. E. (2023). Multilingual semantic distance: Automatic verbal creativity assessment in many languages. Psychology of Aesthetics, Creativity, and the Arts, 17(4), 495."
            ],
            "text/plain": [
              "<IPython.core.display.Markdown object>"
            ]
          },
          "metadata": {},
          "output_type": "display_data"
        },
        {
          "data": {
            "text/markdown": [
              "- Renaming columns {'ID': 'participant', 'order': 'response_num'}"
            ],
            "text/plain": [
              "<IPython.core.display.Markdown object>"
            ]
          },
          "metadata": {},
          "output_type": "display_data"
        },
        {
          "data": {
            "text/markdown": [
              "- Inferred range of original data: (1, 5)"
            ],
            "text/plain": [
              "<IPython.core.display.Markdown object>"
            ]
          },
          "metadata": {},
          "output_type": "display_data"
        },
        {
          "data": {
            "text/markdown": [
              "- name: multiaut_german2\n",
              "- no_of_prompts: 3\n",
              "- no_of_participants: 154\n",
              "- no_of_data_points: 3530\n",
              "- prompts: ['Büroklammer', 'Mülltüte', 'Seil']\n",
              "- ICC2k: 0.71\n",
              "- ICC2k_CI: 0.54-0.8\n",
              "- ICC3k: 0.77\n",
              "- rater_cols: ['rater1', 'rater2', 'rater3']\n",
              "- no_of_raters: 3\n"
            ],
            "text/plain": [
              "<IPython.core.display.Markdown object>"
            ]
          },
          "metadata": {},
          "output_type": "display_data"
        },
        {
          "name": "stderr",
          "output_type": "stream",
          "text": [
            "/Users/peter.organisciak/anaconda3/lib/python3.9/site-packages/pandas/io/sql.py:761: UserWarning: pandas only support SQLAlchemy connectable(engine/connection) ordatabase string URI or sqlite3 DBAPI2 connectionother DBAPI2 objects are not tested, please consider using SQLAlchemy\n",
            "  warnings.warn(\n"
          ]
        },
        {
          "data": {
            "text/html": [
              "<div>\n",
              "<style scoped>\n",
              "    .dataframe tbody tr th:only-of-type {\n",
              "        vertical-align: middle;\n",
              "    }\n",
              "\n",
              "    .dataframe tbody tr th {\n",
              "        vertical-align: top;\n",
              "    }\n",
              "\n",
              "    .dataframe thead th {\n",
              "        text-align: right;\n",
              "    }\n",
              "</style>\n",
              "<table border=\"1\" class=\"dataframe\">\n",
              "  <thead>\n",
              "    <tr style=\"text-align: right;\">\n",
              "      <th></th>\n",
              "      <th>type</th>\n",
              "      <th>src</th>\n",
              "      <th>question</th>\n",
              "      <th>prompt</th>\n",
              "      <th>response</th>\n",
              "      <th>id</th>\n",
              "      <th>target</th>\n",
              "      <th>participant</th>\n",
              "      <th>response_num</th>\n",
              "      <th>language</th>\n",
              "      <th>rater_count</th>\n",
              "      <th>rating_std</th>\n",
              "    </tr>\n",
              "  </thead>\n",
              "  <tbody>\n",
              "    <tr>\n",
              "      <th>3404</th>\n",
              "      <td>uses</td>\n",
              "      <td>multiaut_german2</td>\n",
              "      <td>Was ist eine überraschende Verwendung für eine...</td>\n",
              "      <td>Mülltüte</td>\n",
              "      <td>jemanden würgen :)</td>\n",
              "      <td>multiaut_german2_Mülltüte-90638d</td>\n",
              "      <td>2.667</td>\n",
              "      <td>multiaut_german22322RAJU190</td>\n",
              "      <td>None</td>\n",
              "      <td>ger</td>\n",
              "      <td>3</td>\n",
              "      <td>0.577350</td>\n",
              "    </tr>\n",
              "    <tr>\n",
              "      <th>1656</th>\n",
              "      <td>uses</td>\n",
              "      <td>multiaut_german2</td>\n",
              "      <td>Was ist eine überraschende Verwendung für eine...</td>\n",
              "      <td>Mülltüte</td>\n",
              "      <td>im Winter als Schlitten</td>\n",
              "      <td>multiaut_german2_Mülltüte-69ab1f</td>\n",
              "      <td>3.333</td>\n",
              "      <td>multiaut_german21733ANAU192</td>\n",
              "      <td>None</td>\n",
              "      <td>ger</td>\n",
              "      <td>3</td>\n",
              "      <td>1.527525</td>\n",
              "    </tr>\n",
              "  </tbody>\n",
              "</table>\n",
              "</div>"
            ],
            "text/plain": [
              "      type               src  \\\n",
              "3404  uses  multiaut_german2   \n",
              "1656  uses  multiaut_german2   \n",
              "\n",
              "                                               question    prompt  \\\n",
              "3404  Was ist eine überraschende Verwendung für eine...  Mülltüte   \n",
              "1656  Was ist eine überraschende Verwendung für eine...  Mülltüte   \n",
              "\n",
              "                     response                                id  target  \\\n",
              "3404       jemanden würgen :)  multiaut_german2_Mülltüte-90638d   2.667   \n",
              "1656  im Winter als Schlitten  multiaut_german2_Mülltüte-69ab1f   3.333   \n",
              "\n",
              "                      participant response_num language  rater_count  \\\n",
              "3404  multiaut_german22322RAJU190         None      ger            3   \n",
              "1656  multiaut_german21733ANAU192         None      ger            3   \n",
              "\n",
              "      rating_std  \n",
              "3404    0.577350  \n",
              "1656    1.527525  "
            ]
          },
          "metadata": {},
          "output_type": "display_data"
        },
        {
          "name": "stdout",
          "output_type": "stream",
          "text": [
            "polish2\n"
          ]
        },
        {
          "data": {
            "text/markdown": [
              "### Loading *Patterson et al., 2023*"
            ],
            "text/plain": [
              "<IPython.core.display.Markdown object>"
            ]
          },
          "metadata": {},
          "output_type": "display_data"
        },
        {
          "data": {
            "text/markdown": [
              "Patterson, J. D., Merseal, H. M., Johnson, D. R., Agnoli, S., Baas, M., Baker, B. S., ... & Beaty, R. E. (2023). Multilingual semantic distance: Automatic verbal creativity assessment in many languages. Psychology of Aesthetics, Creativity, and the Arts, 17(4), 495."
            ],
            "text/plain": [
              "<IPython.core.display.Markdown object>"
            ]
          },
          "metadata": {},
          "output_type": "display_data"
        },
        {
          "data": {
            "text/markdown": [
              "- Renaming columns {'ID': 'participant', 'order': 'response_num'}"
            ],
            "text/plain": [
              "<IPython.core.display.Markdown object>"
            ]
          },
          "metadata": {},
          "output_type": "display_data"
        },
        {
          "data": {
            "text/markdown": [
              "- Inferred range of original data: (1.0, 7.0)"
            ],
            "text/plain": [
              "<IPython.core.display.Markdown object>"
            ]
          },
          "metadata": {},
          "output_type": "display_data"
        },
        {
          "data": {
            "text/markdown": [
              "WARNING: ICC has an undefined error for this dataset"
            ],
            "text/plain": [
              "<IPython.core.display.Markdown object>"
            ]
          },
          "metadata": {},
          "output_type": "display_data"
        },
        {
          "data": {
            "text/markdown": [
              "- name: multiaut_polish2\n",
              "- no_of_prompts: 3\n",
              "- no_of_participants: 497\n",
              "- no_of_data_points: 3054\n",
              "- prompts: ['sznurek', 'puszka', 'cegła']\n",
              "- ICC2k: None\n",
              "- ICC2k_CI: None\n",
              "- ICC3k: None\n",
              "- rater_cols: ['rater1', 'rater2', 'rater3', 'rater4']\n",
              "- no_of_raters: 4\n"
            ],
            "text/plain": [
              "<IPython.core.display.Markdown object>"
            ]
          },
          "metadata": {},
          "output_type": "display_data"
        },
        {
          "name": "stderr",
          "output_type": "stream",
          "text": [
            "/Users/peter.organisciak/anaconda3/lib/python3.9/site-packages/pandas/io/sql.py:761: UserWarning: pandas only support SQLAlchemy connectable(engine/connection) ordatabase string URI or sqlite3 DBAPI2 connectionother DBAPI2 objects are not tested, please consider using SQLAlchemy\n",
            "  warnings.warn(\n"
          ]
        },
        {
          "data": {
            "text/html": [
              "<div>\n",
              "<style scoped>\n",
              "    .dataframe tbody tr th:only-of-type {\n",
              "        vertical-align: middle;\n",
              "    }\n",
              "\n",
              "    .dataframe tbody tr th {\n",
              "        vertical-align: top;\n",
              "    }\n",
              "\n",
              "    .dataframe thead th {\n",
              "        text-align: right;\n",
              "    }\n",
              "</style>\n",
              "<table border=\"1\" class=\"dataframe\">\n",
              "  <thead>\n",
              "    <tr style=\"text-align: right;\">\n",
              "      <th></th>\n",
              "      <th>type</th>\n",
              "      <th>src</th>\n",
              "      <th>question</th>\n",
              "      <th>prompt</th>\n",
              "      <th>response</th>\n",
              "      <th>id</th>\n",
              "      <th>target</th>\n",
              "      <th>participant</th>\n",
              "      <th>response_num</th>\n",
              "      <th>language</th>\n",
              "      <th>rater_count</th>\n",
              "      <th>rating_std</th>\n",
              "    </tr>\n",
              "  </thead>\n",
              "  <tbody>\n",
              "    <tr>\n",
              "      <th>302</th>\n",
              "      <td>uses</td>\n",
              "      <td>multiaut_polish2</td>\n",
              "      <td>Jakie jest zaskakujące zastosowanie dla SZNUREKA?</td>\n",
              "      <td>sznurek</td>\n",
              "      <td>robienie ozdób</td>\n",
              "      <td>multiaut_polish2_sznurek-fbf549</td>\n",
              "      <td>2.0</td>\n",
              "      <td>multiaut_polish2102016</td>\n",
              "      <td>p2</td>\n",
              "      <td>pol</td>\n",
              "      <td>2</td>\n",
              "      <td>0.707107</td>\n",
              "    </tr>\n",
              "    <tr>\n",
              "      <th>759</th>\n",
              "      <td>uses</td>\n",
              "      <td>multiaut_polish2</td>\n",
              "      <td>Jakie jest zaskakujące zastosowanie dla SZNUREKA?</td>\n",
              "      <td>sznurek</td>\n",
              "      <td>którym później owinie się pień rośliny doniczk...</td>\n",
              "      <td>multiaut_polish2_sznurek-19e14c</td>\n",
              "      <td>2.0</td>\n",
              "      <td>multiaut_polish2419895</td>\n",
              "      <td>p2</td>\n",
              "      <td>pol</td>\n",
              "      <td>2</td>\n",
              "      <td>0.707107</td>\n",
              "    </tr>\n",
              "  </tbody>\n",
              "</table>\n",
              "</div>"
            ],
            "text/plain": [
              "     type               src  \\\n",
              "302  uses  multiaut_polish2   \n",
              "759  uses  multiaut_polish2   \n",
              "\n",
              "                                              question   prompt  \\\n",
              "302  Jakie jest zaskakujące zastosowanie dla SZNUREKA?  sznurek   \n",
              "759  Jakie jest zaskakujące zastosowanie dla SZNUREKA?  sznurek   \n",
              "\n",
              "                                              response  \\\n",
              "302                                     robienie ozdób   \n",
              "759  którym później owinie się pień rośliny doniczk...   \n",
              "\n",
              "                                  id  target             participant  \\\n",
              "302  multiaut_polish2_sznurek-fbf549     2.0  multiaut_polish2102016   \n",
              "759  multiaut_polish2_sznurek-19e14c     2.0  multiaut_polish2419895   \n",
              "\n",
              "    response_num language  rater_count  rating_std  \n",
              "302           p2      pol            2    0.707107  \n",
              "759           p2      pol            2    0.707107  "
            ]
          },
          "metadata": {},
          "output_type": "display_data"
        }
      ],
      "source": [
        "fnames = download_from_description(desc, '../data/raw')\n",
        "\n",
        "# additional info specific to subset datasets\n",
        "dutch_replace_vals = {\n",
        "    \"prompt\": {\n",
        "        \"brick\": \"backstreen\",\n",
        "        \"fork\": \"vork\",\n",
        "            \"towel\": \"handoek\"\n",
        "    }\n",
        "}\n",
        "subsets = {\n",
        "    'arabic1': {\n",
        "        'replace_values': {\n",
        "            \"prompt\": {\n",
        "                'Tin cans': 'علب الصفيح'\n",
        "            }\n",
        "        }\n",
        "    },\n",
        "    \"dutch1\": {\n",
        "        \"replace_values\": dutch_replace_vals\n",
        "    },\n",
        "    \"dutch2\": {\n",
        "        \"replace_values\": dutch_replace_vals\n",
        "    },\n",
        "    \"dutch3\": {\n",
        "        \"replace_values\": dutch_replace_vals\n",
        "    },\n",
        "    \"dutch4\": {\n",
        "        \"replace_values\": dutch_replace_vals\n",
        "    },\n",
        "}\n",
        "\n",
        "language_to_iso = {\n",
        "    'arabic': 'ara', 'chinese': 'chi', 'dutch': 'dut', 'english': 'eng',\n",
        "    'farsi': 'per', 'french': 'fre', 'german': 'ger', 'hebrew': 'heb',\n",
        "    'italian': 'ita', 'polish': 'pol', 'russian': 'rus', 'spanish': 'spa'\n",
        "}\n",
        "for fname in fnames:\n",
        "    # language is automatically detected from filename\n",
        "    subset_desc = desc.copy()\n",
        "    print(fname.stem)\n",
        "    subset_desc['language'] = language_to_iso[fname.stem[:-1]]\n",
        "    subset_desc['name'] = desc['name'] + '_' + fname.stem\n",
        "    if subsets.get(fname.stem):\n",
        "        subset_desc.update(subsets[fname.stem])\n",
        "    if fname.stem == 'english2':\n",
        "        print(\"NOTE: english2 had an encoding error. Opening and re-saving it seems to fix it.\")\n",
        "    df = pd.read_csv(fname, encoding='utf-8')\n",
        "    cleaned = prep_general(df, **subset_desc, save_dir='../data/datasets')\n",
        "    display(cleaned.sample(2))"
      ]
    },
    {
      "cell_type": "markdown",
      "metadata": {},
      "source": [
        "## TransDis\n",
        "\n",
        "A Chinese-language AUT dataset."
      ]
    },
    {
      "cell_type": "code",
      "execution_count": 196,
      "metadata": {},
      "outputs": [
        {
          "data": {
            "text/markdown": [
              "### Loading *Yang et al., 2023*"
            ],
            "text/plain": [
              "<IPython.core.display.Markdown object>"
            ]
          },
          "metadata": {},
          "output_type": "display_data"
        },
        {
          "data": {
            "text/markdown": [
              "Yang, T., Zhang, Q., Sun, Z., & Hou, Y. (2023). Automatic Assessment of Divergent Thinking in Chinese Language with TransDis: A Transformer-Based Language Model Approach. arXiv preprint arXiv:2306.14790."
            ],
            "text/plain": [
              "<IPython.core.display.Markdown object>"
            ]
          },
          "metadata": {},
          "output_type": "display_data"
        },
        {
          "data": {
            "text/markdown": [
              "- Renaming columns {'Item': 'prompt', 'Response': 'response', 'ParticipantID': 'participant'}"
            ],
            "text/plain": [
              "<IPython.core.display.Markdown object>"
            ]
          },
          "metadata": {},
          "output_type": "display_data"
        },
        {
          "name": "stdout",
          "output_type": "stream",
          "text": [
            "Replacing NA with NaN in response column\n",
            "Dropping 4 unrated items\n"
          ]
        },
        {
          "data": {
            "text/markdown": [
              "- name: transdis\n",
              "- no_of_prompts: 4\n",
              "- no_of_participants: 350\n",
              "- no_of_data_points: 8007\n",
              "- prompts: ['床单', '筷子', '拖鞋', '牙刷']\n",
              "- ICC2k: 0.67\n",
              "- ICC2k_CI: 0.6-0.73\n",
              "- ICC3k: 0.7\n",
              "- rater_cols: ['Originality_Rater1', 'Originality_Rater2']\n",
              "- no_of_raters: 2\n"
            ],
            "text/plain": [
              "<IPython.core.display.Markdown object>"
            ]
          },
          "metadata": {},
          "output_type": "display_data"
        },
        {
          "name": "stderr",
          "output_type": "stream",
          "text": [
            "/Users/peter.organisciak/anaconda3/lib/python3.9/site-packages/pandas/io/sql.py:761: UserWarning: pandas only support SQLAlchemy connectable(engine/connection) ordatabase string URI or sqlite3 DBAPI2 connectionother DBAPI2 objects are not tested, please consider using SQLAlchemy\n",
            "  warnings.warn(\n"
          ]
        },
        {
          "data": {
            "text/html": [
              "<div>\n",
              "<style scoped>\n",
              "    .dataframe tbody tr th:only-of-type {\n",
              "        vertical-align: middle;\n",
              "    }\n",
              "\n",
              "    .dataframe tbody tr th {\n",
              "        vertical-align: top;\n",
              "    }\n",
              "\n",
              "    .dataframe thead th {\n",
              "        text-align: right;\n",
              "    }\n",
              "</style>\n",
              "<table border=\"1\" class=\"dataframe\">\n",
              "  <thead>\n",
              "    <tr style=\"text-align: right;\">\n",
              "      <th></th>\n",
              "      <th>type</th>\n",
              "      <th>src</th>\n",
              "      <th>question</th>\n",
              "      <th>prompt</th>\n",
              "      <th>response</th>\n",
              "      <th>id</th>\n",
              "      <th>target</th>\n",
              "      <th>participant</th>\n",
              "      <th>response_num</th>\n",
              "      <th>language</th>\n",
              "      <th>rater_count</th>\n",
              "      <th>rating_std</th>\n",
              "    </tr>\n",
              "  </thead>\n",
              "  <tbody>\n",
              "    <tr>\n",
              "      <th>4873</th>\n",
              "      <td>uses</td>\n",
              "      <td>transdis</td>\n",
              "      <td>什么是拖鞋的一个令人惊讶的用途？</td>\n",
              "      <td>拖鞋</td>\n",
              "      <td>变成飞船</td>\n",
              "      <td>transdis_拖鞋-84b552</td>\n",
              "      <td>3.5</td>\n",
              "      <td>transdis349</td>\n",
              "      <td>12</td>\n",
              "      <td>chi</td>\n",
              "      <td>2</td>\n",
              "      <td>0.707107</td>\n",
              "    </tr>\n",
              "    <tr>\n",
              "      <th>6043</th>\n",
              "      <td>uses</td>\n",
              "      <td>transdis</td>\n",
              "      <td>什么是牙刷的一个令人惊讶的用途？</td>\n",
              "      <td>牙刷</td>\n",
              "      <td>发圈</td>\n",
              "      <td>transdis_牙刷-0e3acd</td>\n",
              "      <td>3.0</td>\n",
              "      <td>transdis267</td>\n",
              "      <td>39</td>\n",
              "      <td>chi</td>\n",
              "      <td>2</td>\n",
              "      <td>0.000000</td>\n",
              "    </tr>\n",
              "  </tbody>\n",
              "</table>\n",
              "</div>"
            ],
            "text/plain": [
              "      type       src          question prompt response                  id  \\\n",
              "4873  uses  transdis  什么是拖鞋的一个令人惊讶的用途？     拖鞋     变成飞船  transdis_拖鞋-84b552   \n",
              "6043  uses  transdis  什么是牙刷的一个令人惊讶的用途？     牙刷       发圈  transdis_牙刷-0e3acd   \n",
              "\n",
              "      target  participant  response_num language  rater_count  rating_std  \n",
              "4873     3.5  transdis349            12      chi            2    0.707107  \n",
              "6043     3.0  transdis267            39      chi            2    0.000000  "
            ]
          },
          "execution_count": 196,
          "metadata": {},
          "output_type": "execute_result"
        }
      ],
      "source": [
        "desc = {\n",
        "    \"name\": \"transdis\",\n",
        "    \"test_type\": \"uses\",\n",
        "    \"meta\": {\n",
        "        \"inline\": \"Yang et al., 2023\",\n",
        "        \"citation\": \"Yang, T., Zhang, Q., Sun, Z., & Hou, Y. (2023). Automatic Assessment of Divergent Thinking in Chinese Language with TransDis: A Transformer-Based Language Model Approach. arXiv preprint arXiv:2306.14790.\",\n",
        "        \"url\": \"https://arxiv.org/abs/2306.14790\",\n",
        "        \"download\": [{\n",
        "            \"url\": \"https://osf.io/download/3fk8y\", \n",
        "            \"extension\": \"xlsx\"\n",
        "            }, {\n",
        "            \"url\": \"https://osf.io/download/mcwtu\", \n",
        "            \"extension\": \"xlsx\"\n",
        "            }],\n",
        "    },\n",
        "    \"null_marker\": \"NA\",\n",
        "    \"column_mappings\": {'Item': 'prompt', 'Response': 'response',\n",
        "                        'ParticipantID': 'participant'},\n",
        "    \"range\": [0, 4],\n",
        "    \"rater_cols\": ['Originality_Rater1', 'Originality_Rater2'],\n",
        "    \"language\":\"chi\"\n",
        "}\n",
        "\n",
        "fnames = download_from_description(desc, '../data/raw')\n",
        "df = pd.concat([pd.read_excel(fname) for fname in fnames])\n",
        "# number each participant's responses in order (based on responseID)\n",
        "df['response_num'] = df.groupby('ParticipantID').cumcount() + 1\n",
        "cleaned = prep_general(df, **desc, save_dir='../data/datasets')\n",
        "cleaned.sample(2)\n"
      ]
    },
    {
      "cell_type": "markdown",
      "metadata": {},
      "source": [
        "## DiStefano, Beaty, Patterson, 2023 (Metaphors)\n",
        "\n",
        "Based on the paper, semantic distance with BERT DSI correlated with human ratings  $r=.42$ on the held out dataset; GPT-2 at $r=.70$, and RoBERTa at $r=.72$."
      ]
    },
    {
      "cell_type": "code",
      "execution_count": 197,
      "metadata": {},
      "outputs": [
        {
          "data": {
            "text/markdown": [
              "### Loading *DiStefano, Beaty, Patterson, 2023*"
            ],
            "text/plain": [
              "<IPython.core.display.Markdown object>"
            ]
          },
          "metadata": {},
          "output_type": "display_data"
        },
        {
          "data": {
            "text/markdown": [
              "DiStefano, P. V., Patterson, J. D., & Beaty, R. (2023). Automatic Scoring of Metaphor Creativity with Large Language Models. https://doi.org/10.31234/osf.io/6jtxb"
            ],
            "text/plain": [
              "<IPython.core.display.Markdown object>"
            ]
          },
          "metadata": {},
          "output_type": "display_data"
        },
        {
          "data": {
            "text/markdown": [
              "- Renaming columns {'item': 'prompt', 'Story': 'response', 'ID': 'participant'}"
            ],
            "text/plain": [
              "<IPython.core.display.Markdown object>"
            ]
          },
          "metadata": {},
          "output_type": "display_data"
        },
        {
          "data": {
            "text/markdown": [
              "- Inferring questions {'boring class': 'Think of the most boring high-school or college class you’ve ever had. What was it like to sit through?', 'gross food': 'Think about the most disgusting thing you ever ate or drank. What was it like to eat or drink it?', 'bad movie': 'Think about the worst movie or TV show you have ever seen. What was it like to watch it?', 'messy room': 'Think of the messiest room that you’ve ever had to live in. What was it like to live there?'}"
            ],
            "text/plain": [
              "<IPython.core.display.Markdown object>"
            ]
          },
          "metadata": {},
          "output_type": "display_data"
        },
        {
          "data": {
            "text/markdown": [
              "- Inferred range of original data: (-1.675025493, 4.115607135)"
            ],
            "text/plain": [
              "<IPython.core.display.Markdown object>"
            ]
          },
          "metadata": {},
          "output_type": "display_data"
        },
        {
          "data": {
            "text/markdown": [
              "- name: dbc23\n",
              "- no_of_prompts: 4\n",
              "- no_of_participants: 1546\n",
              "- no_of_data_points: 4589\n",
              "- prompts: ['boring class', 'gross food', 'bad movie', 'messy room']\n",
              "- ICC2k: None\n",
              "- ICC2k_CI: None\n",
              "- ICC3k: None\n",
              "- rater_cols: ['rating']\n",
              "- no_of_raters: 1\n"
            ],
            "text/plain": [
              "<IPython.core.display.Markdown object>"
            ]
          },
          "metadata": {},
          "output_type": "display_data"
        },
        {
          "name": "stderr",
          "output_type": "stream",
          "text": [
            "/Users/peter.organisciak/anaconda3/lib/python3.9/site-packages/pandas/io/sql.py:761: UserWarning: pandas only support SQLAlchemy connectable(engine/connection) ordatabase string URI or sqlite3 DBAPI2 connectionother DBAPI2 objects are not tested, please consider using SQLAlchemy\n",
            "  warnings.warn(\n"
          ]
        },
        {
          "data": {
            "text/html": [
              "<div>\n",
              "<style scoped>\n",
              "    .dataframe tbody tr th:only-of-type {\n",
              "        vertical-align: middle;\n",
              "    }\n",
              "\n",
              "    .dataframe tbody tr th {\n",
              "        vertical-align: top;\n",
              "    }\n",
              "\n",
              "    .dataframe thead th {\n",
              "        text-align: right;\n",
              "    }\n",
              "</style>\n",
              "<table border=\"1\" class=\"dataframe\">\n",
              "  <thead>\n",
              "    <tr style=\"text-align: right;\">\n",
              "      <th></th>\n",
              "      <th>type</th>\n",
              "      <th>src</th>\n",
              "      <th>question</th>\n",
              "      <th>prompt</th>\n",
              "      <th>response</th>\n",
              "      <th>id</th>\n",
              "      <th>target</th>\n",
              "      <th>participant</th>\n",
              "      <th>response_num</th>\n",
              "      <th>language</th>\n",
              "      <th>rater_count</th>\n",
              "      <th>rating_std</th>\n",
              "    </tr>\n",
              "  </thead>\n",
              "  <tbody>\n",
              "    <tr>\n",
              "      <th>1997</th>\n",
              "      <td>metaphors</td>\n",
              "      <td>dbc23</td>\n",
              "      <td>Think about the most disgusting thing you ever...</td>\n",
              "      <td>gross food</td>\n",
              "      <td>Eating that food was as bad as stepping on a Lego</td>\n",
              "      <td>dbc23_gross food-5dbd0c</td>\n",
              "      <td>2.105517</td>\n",
              "      <td>dbc237115</td>\n",
              "      <td>None</td>\n",
              "      <td>eng</td>\n",
              "      <td>1</td>\n",
              "      <td>NaN</td>\n",
              "    </tr>\n",
              "    <tr>\n",
              "      <th>4440</th>\n",
              "      <td>metaphors</td>\n",
              "      <td>dbc23</td>\n",
              "      <td>Think of the messiest room that you’ve ever ha...</td>\n",
              "      <td>messy room</td>\n",
              "      <td>That room was messier than a retail store on B...</td>\n",
              "      <td>dbc23_messy room-c3edfb</td>\n",
              "      <td>2.907474</td>\n",
              "      <td>dbc2394347</td>\n",
              "      <td>None</td>\n",
              "      <td>eng</td>\n",
              "      <td>1</td>\n",
              "      <td>NaN</td>\n",
              "    </tr>\n",
              "  </tbody>\n",
              "</table>\n",
              "</div>"
            ],
            "text/plain": [
              "           type    src                                           question  \\\n",
              "1997  metaphors  dbc23  Think about the most disgusting thing you ever...   \n",
              "4440  metaphors  dbc23  Think of the messiest room that you’ve ever ha...   \n",
              "\n",
              "          prompt                                           response  \\\n",
              "1997  gross food  Eating that food was as bad as stepping on a Lego   \n",
              "4440  messy room  That room was messier than a retail store on B...   \n",
              "\n",
              "                           id    target participant response_num language  \\\n",
              "1997  dbc23_gross food-5dbd0c  2.105517   dbc237115         None      eng   \n",
              "4440  dbc23_messy room-c3edfb  2.907474  dbc2394347         None      eng   \n",
              "\n",
              "      rater_count  rating_std  \n",
              "1997            1         NaN  \n",
              "4440            1         NaN  "
            ]
          },
          "execution_count": 197,
          "metadata": {},
          "output_type": "execute_result"
        }
      ],
      "source": [
        "desc = {\n",
        "    \"name\": \"dbc23\",\n",
        "    \"test_type\": \"metaphors\",\n",
        "    \"meta\": {\n",
        "        \"inline\": \"DiStefano, Beaty, Patterson, 2023\",\n",
        "        \"citation\": \"DiStefano, P. V., Patterson, J. D., & Beaty, R. (2023). Automatic Scoring of Metaphor Creativity with Large Language Models. https://doi.org/10.31234/osf.io/6jtxb\",\n",
        "        \"url\": \"https://arxiv.org/abs/2306.14790\",\n",
        "        \"download\": [{\n",
        "            \"url\": \"https://osf.io/download/mr5a3\", \n",
        "            \"extension\": \"csv\"\n",
        "            }],\n",
        "    },\n",
        "    \"column_mappings\": {'item': 'prompt', 'Story': 'response',\n",
        "                        'ID': 'participant'},\n",
        "    # the released dataset is already merged among the raters\n",
        "    \"rater_cols\": ['rating'],\n",
        "    \"language\":\"eng\",\n",
        "    \"question_mappings\": {\n",
        "        'boring class': 'Think of the most boring high-school or college class you’ve ever had. What was it like to sit through?',\n",
        "        'gross food': 'Think about the most disgusting thing you ever ate or drank. What was it like to eat or drink it?',\n",
        "        'bad movie': 'Think about the worst movie or TV show you have ever seen. What was it like to watch it?',\n",
        "        'messy room': 'Think of the messiest room that you’ve ever had to live in. What was it like to live there?'\n",
        "        }\n",
        "}\n",
        "\n",
        "fname = download_from_description(desc, '../data/raw')[0]\n",
        "df = pd.read_csv(fname)\n",
        "cleaned = prep_general(df, **desc, save_dir='../data/datasets')\n",
        "cleaned.sample(2)"
      ]
    },
    {
      "cell_type": "markdown",
      "metadata": {},
      "source": [
        "## Haas 2018\n",
        "\n",
        "This data uses online Mechanical Turk judges to re-judge Silvia et al. 2008. While the quality is likely to be lower, the position taken with Ocsai is that more raters is better, augmenting the btter trained raters."
      ]
    },
    {
      "cell_type": "code",
      "execution_count": 198,
      "metadata": {},
      "outputs": [
        {
          "data": {
            "text/markdown": [
              "### Loading *Hass, Rivera, Silvia 2018*"
            ],
            "text/plain": [
              "<IPython.core.display.Markdown object>"
            ]
          },
          "metadata": {},
          "output_type": "display_data"
        },
        {
          "data": {
            "text/markdown": [
              "Hass, R. W., Rivera, M., & Silvia, P. J. (2018). On the Dependability and Feasibility of Layperson Ratings of Divergent Thinking. Frontiers in Psychology, 9. https://www.frontiersin.org/articles/10.3389/fpsyg.2018.01343"
            ],
            "text/plain": [
              "<IPython.core.display.Markdown object>"
            ]
          },
          "metadata": {},
          "output_type": "display_data"
        },
        {
          "data": {
            "text/markdown": [
              "- Renaming columns {'subject': 'participant', 'task': 'prompt', 'order': 'response_num'}"
            ],
            "text/plain": [
              "<IPython.core.display.Markdown object>"
            ]
          },
          "metadata": {},
          "output_type": "display_data"
        },
        {
          "data": {
            "text/markdown": [
              "- Inferring questions {'brick': 'What is a surprising use for a BRICK?', 'round': 'What is a surprising thing that is ROUND?', 'no sleep': 'What would be a surprising consequence if PEOPLE NEEDED NO SLEEP?', 'knife': 'What is a surprising use for a KNIFE?', 'noise': 'What is a surprising thing that makes a NOISE?', 'shrank': 'What would be a surprising consequence if EVERYONE SHRANK TO 12 INCHES TALL?'}"
            ],
            "text/plain": [
              "<IPython.core.display.Markdown object>"
            ]
          },
          "metadata": {},
          "output_type": "display_data"
        },
        {
          "data": {
            "text/markdown": [
              "- Inferring types {'brick': 'uses', 'round': 'uses', 'no sleep': 'consequences', 'knife': 'uses', 'noise': 'instances', 'shrank': 'consequences'}"
            ],
            "text/plain": [
              "<IPython.core.display.Markdown object>"
            ]
          },
          "metadata": {},
          "output_type": "display_data"
        },
        {
          "name": "stdout",
          "output_type": "stream",
          "text": [
            "Replacing   with NaN in response column\n",
            "Dropping 37 unrated items\n"
          ]
        },
        {
          "data": {
            "text/markdown": [
              "- name: h18\n",
              "- no_of_prompts: 6\n",
              "- no_of_participants: 242\n",
              "- no_of_data_points: 11490\n",
              "- prompts: ['shrank', 'brick', 'knife', 'noise', 'round', 'no sleep']\n",
              "- ICC2k: 0.43\n",
              "- ICC2k_CI: 0.22-0.57\n",
              "- ICC3k: 0.54\n",
              "- rater_cols: ['rater1', 'rater2', 'rater3']\n",
              "- no_of_raters: 3\n"
            ],
            "text/plain": [
              "<IPython.core.display.Markdown object>"
            ]
          },
          "metadata": {},
          "output_type": "display_data"
        },
        {
          "name": "stderr",
          "output_type": "stream",
          "text": [
            "/Users/peter.organisciak/anaconda3/lib/python3.9/site-packages/pandas/io/sql.py:761: UserWarning: pandas only support SQLAlchemy connectable(engine/connection) ordatabase string URI or sqlite3 DBAPI2 connectionother DBAPI2 objects are not tested, please consider using SQLAlchemy\n",
            "  warnings.warn(\n"
          ]
        },
        {
          "data": {
            "text/html": [
              "<div>\n",
              "<style scoped>\n",
              "    .dataframe tbody tr th:only-of-type {\n",
              "        vertical-align: middle;\n",
              "    }\n",
              "\n",
              "    .dataframe tbody tr th {\n",
              "        vertical-align: top;\n",
              "    }\n",
              "\n",
              "    .dataframe thead th {\n",
              "        text-align: right;\n",
              "    }\n",
              "</style>\n",
              "<table border=\"1\" class=\"dataframe\">\n",
              "  <thead>\n",
              "    <tr style=\"text-align: right;\">\n",
              "      <th></th>\n",
              "      <th>type</th>\n",
              "      <th>src</th>\n",
              "      <th>question</th>\n",
              "      <th>prompt</th>\n",
              "      <th>response</th>\n",
              "      <th>id</th>\n",
              "      <th>target</th>\n",
              "      <th>participant</th>\n",
              "      <th>response_num</th>\n",
              "      <th>language</th>\n",
              "      <th>rater_count</th>\n",
              "      <th>rating_std</th>\n",
              "    </tr>\n",
              "  </thead>\n",
              "  <tbody>\n",
              "    <tr>\n",
              "      <th>2815</th>\n",
              "      <td>consequences</td>\n",
              "      <td>h18</td>\n",
              "      <td>What would be a surprising consequence if PEOP...</td>\n",
              "      <td>no sleep</td>\n",
              "      <td>economy would go down because of high demand</td>\n",
              "      <td>h18_no sleep-02c559</td>\n",
              "      <td>2.0</td>\n",
              "      <td>h1863</td>\n",
              "      <td>10</td>\n",
              "      <td>eng</td>\n",
              "      <td>3</td>\n",
              "      <td>1.0</td>\n",
              "    </tr>\n",
              "    <tr>\n",
              "      <th>10635</th>\n",
              "      <td>uses</td>\n",
              "      <td>h18</td>\n",
              "      <td>What is a surprising use for a BRICK?</td>\n",
              "      <td>brick</td>\n",
              "      <td>play football</td>\n",
              "      <td>h18_brick-4cc0c0</td>\n",
              "      <td>2.0</td>\n",
              "      <td>h18223</td>\n",
              "      <td>15</td>\n",
              "      <td>eng</td>\n",
              "      <td>3</td>\n",
              "      <td>1.0</td>\n",
              "    </tr>\n",
              "  </tbody>\n",
              "</table>\n",
              "</div>"
            ],
            "text/plain": [
              "               type  src                                           question  \\\n",
              "2815   consequences  h18  What would be a surprising consequence if PEOP...   \n",
              "10635          uses  h18              What is a surprising use for a BRICK?   \n",
              "\n",
              "         prompt                                      response  \\\n",
              "2815   no sleep  economy would go down because of high demand   \n",
              "10635     brick                                 play football   \n",
              "\n",
              "                        id  target participant  response_num language  \\\n",
              "2815   h18_no sleep-02c559     2.0       h1863            10      eng   \n",
              "10635     h18_brick-4cc0c0     2.0      h18223            15      eng   \n",
              "\n",
              "       rater_count  rating_std  \n",
              "2815             3         1.0  \n",
              "10635            3         1.0  "
            ]
          },
          "execution_count": 198,
          "metadata": {},
          "output_type": "execute_result"
        }
      ],
      "source": [
        "desc = {\n",
        "    \"name\": \"h18\",\n",
        "    \"meta\": {\n",
        "        \"inline\": \"Hass, Rivera, Silvia 2018\",\n",
        "        \"citation\": \"Hass, R. W., Rivera, M., & Silvia, P. J. (2018). On the Dependability and Feasibility of Layperson Ratings of Divergent Thinking. Frontiers in Psychology, 9. https://www.frontiersin.org/articles/10.3389/fpsyg.2018.01343\",\n",
        "        \"url\": \"https://doi.org/10.3389/fpsyg.2018.01343\",\n",
        "        \"download\": [{\n",
        "            \"url\": \"https://osf.io/download/p2b9c\", \n",
        "            \"extension\": \"csv\"\n",
        "            }],\n",
        "    },\n",
        "    \"null_marker\": \" \",\n",
        "    \"column_mappings\": {'subject': 'participant', 'task':'prompt',\n",
        "                        'order':'response_num'},\n",
        "    \"range\": [1, 5],\n",
        "    \"rater_cols\": ['rater1', 'rater2', 'rater3'],\n",
        "    \"replace_values\": {\n",
        "        \"prompt\": {\n",
        "            'Brick': \"brick\",\n",
        "            'Round Things': \"round\",\n",
        "            'Sleep': \"no sleep\",\n",
        "            'Knife': \"knife\",\n",
        "            'Make Noises': \"noise\",\n",
        "            '12 Inches': \"shrank\"\n",
        "        },\n",
        "    },\n",
        "    \"question_mappings\": {\n",
        "        \"brick\": \"What is a surprising use for a BRICK?\",\n",
        "        \"round\": \"What is a surprising thing that is ROUND?\", \n",
        "        \"no sleep\": \"What would be a surprising consequence if PEOPLE NEEDED NO SLEEP?\", \n",
        "        \"knife\": \"What is a surprising use for a KNIFE?\",\n",
        "        \"noise\": \"What is a surprising thing that makes a NOISE?\",\n",
        "        \"shrank\": \"What would be a surprising consequence if EVERYONE SHRANK TO 12 INCHES TALL?\"\n",
        "    },\n",
        "    \"type_mappings\": {\n",
        "        \"brick\": \"uses\",\n",
        "        \"round\": \"uses\",\n",
        "        \"no sleep\": \"consequences\",\n",
        "        \"knife\": \"uses\",\n",
        "        \"noise\": \"instances\",\n",
        "        \"shrank\": \"consequences\"\n",
        "    },\n",
        "    \"language\":\"eng\"\n",
        "}\n",
        "\n",
        "fname = download_from_description(desc, '../data/raw')[0]\n",
        "df = pd.read_csv(fname)\n",
        "cleaned = prep_general(df, **desc, save_dir='../data/datasets')\n",
        "cleaned.sample(2)"
      ]
    },
    {
      "cell_type": "markdown",
      "metadata": {},
      "source": [
        "# Summary of Stats\n",
        "\n",
        "(Also check for redundancy)"
      ]
    },
    {
      "cell_type": "code",
      "execution_count": 199,
      "metadata": {},
      "outputs": [
        {
          "name": "stderr",
          "output_type": "stream",
          "text": [
            "/Users/peter.organisciak/anaconda3/lib/python3.9/site-packages/pandas/io/sql.py:761: UserWarning: pandas only support SQLAlchemy connectable(engine/connection) ordatabase string URI or sqlite3 DBAPI2 connectionother DBAPI2 objects are not tested, please consider using SQLAlchemy\n",
            "  warnings.warn(\n"
          ]
        },
        {
          "data": {
            "text/html": [
              "<div>\n",
              "<style scoped>\n",
              "    .dataframe tbody tr th:only-of-type {\n",
              "        vertical-align: middle;\n",
              "    }\n",
              "\n",
              "    .dataframe tbody tr th {\n",
              "        vertical-align: top;\n",
              "    }\n",
              "\n",
              "    .dataframe thead th {\n",
              "        text-align: right;\n",
              "    }\n",
              "</style>\n",
              "<table border=\"1\" class=\"dataframe\">\n",
              "  <thead>\n",
              "    <tr style=\"text-align: right;\">\n",
              "      <th></th>\n",
              "      <th>name</th>\n",
              "      <th>no_of_prompts</th>\n",
              "      <th>no_of_participants</th>\n",
              "      <th>no_of_data_points</th>\n",
              "      <th>prompts</th>\n",
              "      <th>ICC2k</th>\n",
              "      <th>ICC2k_CI</th>\n",
              "      <th>ICC3k</th>\n",
              "      <th>rater_cols</th>\n",
              "      <th>no_of_raters</th>\n",
              "    </tr>\n",
              "  </thead>\n",
              "  <tbody>\n",
              "    <tr>\n",
              "      <th>21</th>\n",
              "      <td>multiaut_russian2</td>\n",
              "      <td>1</td>\n",
              "      <td>45</td>\n",
              "      <td>370</td>\n",
              "      <td>[картонная коробка]</td>\n",
              "      <td>0.78</td>\n",
              "      <td>0.74-0.82</td>\n",
              "      <td>0.79</td>\n",
              "      <td>[rater1, rater2, rater3]</td>\n",
              "      <td>3</td>\n",
              "    </tr>\n",
              "    <tr>\n",
              "      <th>19</th>\n",
              "      <td>multiaut_french2</td>\n",
              "      <td>1</td>\n",
              "      <td>82</td>\n",
              "      <td>449</td>\n",
              "      <td>[chapeau]</td>\n",
              "      <td>0.52</td>\n",
              "      <td>0.25-0.68</td>\n",
              "      <td>0.64</td>\n",
              "      <td>[rater1, rater2, rater3]</td>\n",
              "      <td>3</td>\n",
              "    </tr>\n",
              "    <tr>\n",
              "      <th>11</th>\n",
              "      <td>motesp</td>\n",
              "      <td>29</td>\n",
              "      <td>35</td>\n",
              "      <td>963</td>\n",
              "      <td>[backpack, ball, bottle, hat, light bulb, penc...</td>\n",
              "      <td>0.73</td>\n",
              "      <td>0.66-0.78</td>\n",
              "      <td>0.75</td>\n",
              "      <td>[D, K, T]</td>\n",
              "      <td>3</td>\n",
              "    </tr>\n",
              "    <tr>\n",
              "      <th>34</th>\n",
              "      <td>multiaut_dutch3</td>\n",
              "      <td>1</td>\n",
              "      <td>111</td>\n",
              "      <td>1004</td>\n",
              "      <td>[brick]</td>\n",
              "      <td>0.86</td>\n",
              "      <td>0.79-0.89</td>\n",
              "      <td>0.87</td>\n",
              "      <td>[rater1, rater2]</td>\n",
              "      <td>2</td>\n",
              "    </tr>\n",
              "    <tr>\n",
              "      <th>5</th>\n",
              "      <td>hass17</td>\n",
              "      <td>2</td>\n",
              "      <td>57</td>\n",
              "      <td>1093</td>\n",
              "      <td>[bottle, brick]</td>\n",
              "      <td>0.79</td>\n",
              "      <td>0.75-0.82</td>\n",
              "      <td>0.80</td>\n",
              "      <td>[r1, r2, r3]</td>\n",
              "      <td>3</td>\n",
              "    </tr>\n",
              "    <tr>\n",
              "      <th>22</th>\n",
              "      <td>multiaut_chinese2</td>\n",
              "      <td>2</td>\n",
              "      <td>217</td>\n",
              "      <td>1302</td>\n",
              "      <td>[筷子, 易拉罐]</td>\n",
              "      <td>0.60</td>\n",
              "      <td>0.54-0.66</td>\n",
              "      <td>0.64</td>\n",
              "      <td>[rater1, rater2, rater3, rater4]</td>\n",
              "      <td>4</td>\n",
              "    </tr>\n",
              "    <tr>\n",
              "      <th>13</th>\n",
              "      <td>multiaut_arabic1</td>\n",
              "      <td>1</td>\n",
              "      <td>160</td>\n",
              "      <td>1524</td>\n",
              "      <td>[Tin cans]</td>\n",
              "      <td>NaN</td>\n",
              "      <td>None</td>\n",
              "      <td>NaN</td>\n",
              "      <td>[rater1]</td>\n",
              "      <td>1</td>\n",
              "    </tr>\n",
              "    <tr>\n",
              "      <th>31</th>\n",
              "      <td>multiaut_dutch2</td>\n",
              "      <td>2</td>\n",
              "      <td>111</td>\n",
              "      <td>1640</td>\n",
              "      <td>[brick, paperclip]</td>\n",
              "      <td>0.94</td>\n",
              "      <td>0.93-0.95</td>\n",
              "      <td>0.94</td>\n",
              "      <td>[rater1, rater2]</td>\n",
              "      <td>2</td>\n",
              "    </tr>\n",
              "    <tr>\n",
              "      <th>17</th>\n",
              "      <td>multiaut_russian1</td>\n",
              "      <td>2</td>\n",
              "      <td>111</td>\n",
              "      <td>1728</td>\n",
              "      <td>[газета, деревянная линейка]</td>\n",
              "      <td>0.72</td>\n",
              "      <td>0.69-0.74</td>\n",
              "      <td>0.72</td>\n",
              "      <td>[rater1, rater2, rater3]</td>\n",
              "      <td>3</td>\n",
              "    </tr>\n",
              "    <tr>\n",
              "      <th>10</th>\n",
              "      <td>bs12</td>\n",
              "      <td>1</td>\n",
              "      <td>133</td>\n",
              "      <td>1807</td>\n",
              "      <td>[brick]</td>\n",
              "      <td>0.72</td>\n",
              "      <td>0.56-0.8</td>\n",
              "      <td>0.78</td>\n",
              "      <td>[br_rater1, br_rater2, br_rater3]</td>\n",
              "      <td>3</td>\n",
              "    </tr>\n",
              "    <tr>\n",
              "      <th>2</th>\n",
              "      <td>multiaut_english5</td>\n",
              "      <td>1</td>\n",
              "      <td>133</td>\n",
              "      <td>1807</td>\n",
              "      <td>[brick]</td>\n",
              "      <td>0.74</td>\n",
              "      <td>0.65-0.79</td>\n",
              "      <td>0.79</td>\n",
              "      <td>[rater1, rater2, rater3, br_rater1, br_rater2,...</td>\n",
              "      <td>6</td>\n",
              "    </tr>\n",
              "    <tr>\n",
              "      <th>20</th>\n",
              "      <td>multiaut_hebrew1</td>\n",
              "      <td>10</td>\n",
              "      <td>51</td>\n",
              "      <td>2027</td>\n",
              "      <td>[סכין, נעל, עיפרון, עיתון, מברג, קולב, צמיג, מ...</td>\n",
              "      <td>NaN</td>\n",
              "      <td>None</td>\n",
              "      <td>NaN</td>\n",
              "      <td>[rater1, rater2, rater3, rater4, rater5, rater...</td>\n",
              "      <td>45</td>\n",
              "    </tr>\n",
              "    <tr>\n",
              "      <th>24</th>\n",
              "      <td>multiaut_french3</td>\n",
              "      <td>2</td>\n",
              "      <td>277</td>\n",
              "      <td>2181</td>\n",
              "      <td>[ceinture, brouette]</td>\n",
              "      <td>0.72</td>\n",
              "      <td>0.67-0.77</td>\n",
              "      <td>0.75</td>\n",
              "      <td>[rater1, rater2, rater3]</td>\n",
              "      <td>3</td>\n",
              "    </tr>\n",
              "    <tr>\n",
              "      <th>29</th>\n",
              "      <td>multiaut_french4</td>\n",
              "      <td>2</td>\n",
              "      <td>238</td>\n",
              "      <td>2332</td>\n",
              "      <td>[brouette, ceinture]</td>\n",
              "      <td>0.79</td>\n",
              "      <td>0.78-0.81</td>\n",
              "      <td>0.80</td>\n",
              "      <td>[rater1, rater2, rater3]</td>\n",
              "      <td>3</td>\n",
              "    </tr>\n",
              "    <tr>\n",
              "      <th>1</th>\n",
              "      <td>multiaut_english4</td>\n",
              "      <td>2</td>\n",
              "      <td>142</td>\n",
              "      <td>2361</td>\n",
              "      <td>[box, rope]</td>\n",
              "      <td>0.67</td>\n",
              "      <td>0.55-0.75</td>\n",
              "      <td>0.72</td>\n",
              "      <td>[rater1, rater2, rater3]</td>\n",
              "      <td>3</td>\n",
              "    </tr>\n",
              "    <tr>\n",
              "      <th>9</th>\n",
              "      <td>snb17</td>\n",
              "      <td>2</td>\n",
              "      <td>142</td>\n",
              "      <td>2372</td>\n",
              "      <td>[box, rope]</td>\n",
              "      <td>0.67</td>\n",
              "      <td>0.55-0.75</td>\n",
              "      <td>0.72</td>\n",
              "      <td>[rater1, rater2, rater3]</td>\n",
              "      <td>3</td>\n",
              "    </tr>\n",
              "    <tr>\n",
              "      <th>14</th>\n",
              "      <td>multiaut_dutch4</td>\n",
              "      <td>1</td>\n",
              "      <td>99</td>\n",
              "      <td>2414</td>\n",
              "      <td>[brick]</td>\n",
              "      <td>0.84</td>\n",
              "      <td>0.82-0.86</td>\n",
              "      <td>0.85</td>\n",
              "      <td>[rater1, rater2, rater3]</td>\n",
              "      <td>3</td>\n",
              "    </tr>\n",
              "    <tr>\n",
              "      <th>26</th>\n",
              "      <td>multiaut_spanish1</td>\n",
              "      <td>1</td>\n",
              "      <td>491</td>\n",
              "      <td>2735</td>\n",
              "      <td>[ladrillo]</td>\n",
              "      <td>0.57</td>\n",
              "      <td>0.18-0.75</td>\n",
              "      <td>0.75</td>\n",
              "      <td>[rater1, rater2, rater3]</td>\n",
              "      <td>3</td>\n",
              "    </tr>\n",
              "    <tr>\n",
              "      <th>0</th>\n",
              "      <td>multiaut_english1</td>\n",
              "      <td>2</td>\n",
              "      <td>171</td>\n",
              "      <td>2918</td>\n",
              "      <td>[box, rope]</td>\n",
              "      <td>0.82</td>\n",
              "      <td>0.77-0.85</td>\n",
              "      <td>0.84</td>\n",
              "      <td>[rater1, rater2, rater3, rater4]</td>\n",
              "      <td>4</td>\n",
              "    </tr>\n",
              "    <tr>\n",
              "      <th>8</th>\n",
              "      <td>betal18</td>\n",
              "      <td>2</td>\n",
              "      <td>171</td>\n",
              "      <td>2918</td>\n",
              "      <td>[box, rope]</td>\n",
              "      <td>0.82</td>\n",
              "      <td>0.77-0.85</td>\n",
              "      <td>0.84</td>\n",
              "      <td>[rater1, rater2, rater3, rater4]</td>\n",
              "      <td>4</td>\n",
              "    </tr>\n",
              "    <tr>\n",
              "      <th>36</th>\n",
              "      <td>multiaut_polish2</td>\n",
              "      <td>3</td>\n",
              "      <td>497</td>\n",
              "      <td>3054</td>\n",
              "      <td>[sznurek, puszka, cegła]</td>\n",
              "      <td>NaN</td>\n",
              "      <td>None</td>\n",
              "      <td>NaN</td>\n",
              "      <td>[rater1, rater2, rater3, rater4]</td>\n",
              "      <td>4</td>\n",
              "    </tr>\n",
              "    <tr>\n",
              "      <th>28</th>\n",
              "      <td>multiaut_english3</td>\n",
              "      <td>2</td>\n",
              "      <td>209</td>\n",
              "      <td>3225</td>\n",
              "      <td>[box, rope]</td>\n",
              "      <td>0.38</td>\n",
              "      <td>0.18-0.52</td>\n",
              "      <td>0.49</td>\n",
              "      <td>[rater1, rater2, rater3]</td>\n",
              "      <td>3</td>\n",
              "    </tr>\n",
              "    <tr>\n",
              "      <th>15</th>\n",
              "      <td>multiaut_english6</td>\n",
              "      <td>2</td>\n",
              "      <td>241</td>\n",
              "      <td>3425</td>\n",
              "      <td>[brick, knife]</td>\n",
              "      <td>0.48</td>\n",
              "      <td>0.15-0.65</td>\n",
              "      <td>0.64</td>\n",
              "      <td>[rater1, rater2, rater3]</td>\n",
              "      <td>3</td>\n",
              "    </tr>\n",
              "    <tr>\n",
              "      <th>35</th>\n",
              "      <td>multiaut_german2</td>\n",
              "      <td>3</td>\n",
              "      <td>154</td>\n",
              "      <td>3530</td>\n",
              "      <td>[Büroklammer, Mülltüte, Seil]</td>\n",
              "      <td>0.71</td>\n",
              "      <td>0.54-0.8</td>\n",
              "      <td>0.77</td>\n",
              "      <td>[rater1, rater2, rater3]</td>\n",
              "      <td>3</td>\n",
              "    </tr>\n",
              "    <tr>\n",
              "      <th>23</th>\n",
              "      <td>multiaut_english2</td>\n",
              "      <td>2</td>\n",
              "      <td>182</td>\n",
              "      <td>3723</td>\n",
              "      <td>[rope, box]</td>\n",
              "      <td>0.71</td>\n",
              "      <td>0.59-0.78</td>\n",
              "      <td>0.77</td>\n",
              "      <td>[rater1, rater2, rater3, rater4]</td>\n",
              "      <td>4</td>\n",
              "    </tr>\n",
              "    <tr>\n",
              "      <th>7</th>\n",
              "      <td>hmsl</td>\n",
              "      <td>2</td>\n",
              "      <td>638</td>\n",
              "      <td>3843</td>\n",
              "      <td>[paperclip, brick]</td>\n",
              "      <td>0.67</td>\n",
              "      <td>0.53-0.75</td>\n",
              "      <td>0.74</td>\n",
              "      <td>[J1_Rating, J2_Rating, J3_Rating, J4_Rating]</td>\n",
              "      <td>4</td>\n",
              "    </tr>\n",
              "    <tr>\n",
              "      <th>4</th>\n",
              "      <td>snbmo09</td>\n",
              "      <td>3</td>\n",
              "      <td>202</td>\n",
              "      <td>4099</td>\n",
              "      <td>[brick, knife, box]</td>\n",
              "      <td>0.69</td>\n",
              "      <td>0.57-0.77</td>\n",
              "      <td>0.76</td>\n",
              "      <td>[rater_1, rater_2, rater_3, rater_4]</td>\n",
              "      <td>4</td>\n",
              "    </tr>\n",
              "    <tr>\n",
              "      <th>25</th>\n",
              "      <td>multiaut_italian1</td>\n",
              "      <td>6</td>\n",
              "      <td>151</td>\n",
              "      <td>4269</td>\n",
              "      <td>[Attaccapanni, Barile, Bottiglia di plastica, ...</td>\n",
              "      <td>0.89</td>\n",
              "      <td>0.89-0.9</td>\n",
              "      <td>0.89</td>\n",
              "      <td>[rater1, rater2]</td>\n",
              "      <td>2</td>\n",
              "    </tr>\n",
              "    <tr>\n",
              "      <th>38</th>\n",
              "      <td>dbc23</td>\n",
              "      <td>4</td>\n",
              "      <td>1546</td>\n",
              "      <td>4589</td>\n",
              "      <td>[boring class, gross food, bad movie, messy room]</td>\n",
              "      <td>NaN</td>\n",
              "      <td>None</td>\n",
              "      <td>NaN</td>\n",
              "      <td>[rating]</td>\n",
              "      <td>1</td>\n",
              "    </tr>\n",
              "    <tr>\n",
              "      <th>3</th>\n",
              "      <td>dod20</td>\n",
              "      <td>10</td>\n",
              "      <td>92</td>\n",
              "      <td>5490</td>\n",
              "      <td>[book, bottle, brick, fork, pants, rope, shoe,...</td>\n",
              "      <td>0.85</td>\n",
              "      <td>0.79-0.88</td>\n",
              "      <td>0.87</td>\n",
              "      <td>[rater1, rater2, rater3, rater4]</td>\n",
              "      <td>4</td>\n",
              "    </tr>\n",
              "    <tr>\n",
              "      <th>30</th>\n",
              "      <td>multiaut_italian2</td>\n",
              "      <td>21</td>\n",
              "      <td>80</td>\n",
              "      <td>6895</td>\n",
              "      <td>[guanto, lampadina, libro, martello, mattone, ...</td>\n",
              "      <td>0.88</td>\n",
              "      <td>0.87-0.89</td>\n",
              "      <td>0.88</td>\n",
              "      <td>[rater1, rater2]</td>\n",
              "      <td>2</td>\n",
              "    </tr>\n",
              "    <tr>\n",
              "      <th>33</th>\n",
              "      <td>multiaut_polish1</td>\n",
              "      <td>2</td>\n",
              "      <td>791</td>\n",
              "      <td>7415</td>\n",
              "      <td>[puszka, cegła]</td>\n",
              "      <td>0.82</td>\n",
              "      <td>0.81-0.83</td>\n",
              "      <td>0.82</td>\n",
              "      <td>[rater1, rater2, rater3]</td>\n",
              "      <td>3</td>\n",
              "    </tr>\n",
              "    <tr>\n",
              "      <th>37</th>\n",
              "      <td>transdis</td>\n",
              "      <td>4</td>\n",
              "      <td>350</td>\n",
              "      <td>8007</td>\n",
              "      <td>[床单, 筷子, 拖鞋, 牙刷]</td>\n",
              "      <td>0.67</td>\n",
              "      <td>0.6-0.73</td>\n",
              "      <td>0.70</td>\n",
              "      <td>[Originality_Rater1, Originality_Rater2]</td>\n",
              "      <td>2</td>\n",
              "    </tr>\n",
              "    <tr>\n",
              "      <th>16</th>\n",
              "      <td>multiaut_german3</td>\n",
              "      <td>16</td>\n",
              "      <td>51</td>\n",
              "      <td>8065</td>\n",
              "      <td>[Axt, Trompete, Erbse, Tisch, Flöte, Zange, Gu...</td>\n",
              "      <td>0.85</td>\n",
              "      <td>0.83-0.87</td>\n",
              "      <td>0.86</td>\n",
              "      <td>[rater1, rater2, rater3]</td>\n",
              "      <td>3</td>\n",
              "    </tr>\n",
              "    <tr>\n",
              "      <th>32</th>\n",
              "      <td>multiaut_german1</td>\n",
              "      <td>3</td>\n",
              "      <td>298</td>\n",
              "      <td>8116</td>\n",
              "      <td>[konservendose, messer, haarfoehn]</td>\n",
              "      <td>0.70</td>\n",
              "      <td>0.68-0.72</td>\n",
              "      <td>0.71</td>\n",
              "      <td>[rater1, rater2, rater3, rater4]</td>\n",
              "      <td>4</td>\n",
              "    </tr>\n",
              "    <tr>\n",
              "      <th>12</th>\n",
              "      <td>motesf</td>\n",
              "      <td>24</td>\n",
              "      <td>386</td>\n",
              "      <td>8563</td>\n",
              "      <td>[ball, sock, pencil, spoon, light bulb, hat, b...</td>\n",
              "      <td>0.79</td>\n",
              "      <td>0.69-0.85</td>\n",
              "      <td>0.84</td>\n",
              "      <td>[Kscore, Hscore, Cscore, Tscore, Mscore]</td>\n",
              "      <td>5</td>\n",
              "    </tr>\n",
              "    <tr>\n",
              "      <th>27</th>\n",
              "      <td>multiaut_dutch1</td>\n",
              "      <td>4</td>\n",
              "      <td>633</td>\n",
              "      <td>10549</td>\n",
              "      <td>[brick, fork, paperclip, towel]</td>\n",
              "      <td>0.81</td>\n",
              "      <td>0.81-0.82</td>\n",
              "      <td>0.81</td>\n",
              "      <td>[rater1, rater2]</td>\n",
              "      <td>2</td>\n",
              "    </tr>\n",
              "    <tr>\n",
              "      <th>6</th>\n",
              "      <td>setal08</td>\n",
              "      <td>6</td>\n",
              "      <td>242</td>\n",
              "      <td>11490</td>\n",
              "      <td>[brick, round, no sleep, knife, noise, shrank]</td>\n",
              "      <td>0.43</td>\n",
              "      <td>0.22-0.57</td>\n",
              "      <td>0.54</td>\n",
              "      <td>[rater1, rater2, rater3]</td>\n",
              "      <td>3</td>\n",
              "    </tr>\n",
              "    <tr>\n",
              "      <th>39</th>\n",
              "      <td>h18</td>\n",
              "      <td>6</td>\n",
              "      <td>242</td>\n",
              "      <td>11490</td>\n",
              "      <td>[shrank, brick, knife, noise, round, no sleep]</td>\n",
              "      <td>0.43</td>\n",
              "      <td>0.22-0.57</td>\n",
              "      <td>0.54</td>\n",
              "      <td>[rater1, rater2, rater3]</td>\n",
              "      <td>3</td>\n",
              "    </tr>\n",
              "    <tr>\n",
              "      <th>18</th>\n",
              "      <td>multiaut_chinese1</td>\n",
              "      <td>122</td>\n",
              "      <td>466</td>\n",
              "      <td>14176</td>\n",
              "      <td>[积木, 漏斗, 轮胎, 盘子, 皮带, 塑料袋, 西瓜, 牙签, 锅, 蚊帐, 头发, 纸...</td>\n",
              "      <td>0.48</td>\n",
              "      <td>0.44-0.51</td>\n",
              "      <td>0.49</td>\n",
              "      <td>[rater1, rater2, rater3, rater4]</td>\n",
              "      <td>4</td>\n",
              "    </tr>\n",
              "  </tbody>\n",
              "</table>\n",
              "</div>"
            ],
            "text/plain": [
              "                 name  no_of_prompts  no_of_participants  no_of_data_points  \\\n",
              "21  multiaut_russian2              1                  45                370   \n",
              "19   multiaut_french2              1                  82                449   \n",
              "11             motesp             29                  35                963   \n",
              "34    multiaut_dutch3              1                 111               1004   \n",
              "5              hass17              2                  57               1093   \n",
              "22  multiaut_chinese2              2                 217               1302   \n",
              "13   multiaut_arabic1              1                 160               1524   \n",
              "31    multiaut_dutch2              2                 111               1640   \n",
              "17  multiaut_russian1              2                 111               1728   \n",
              "10               bs12              1                 133               1807   \n",
              "2   multiaut_english5              1                 133               1807   \n",
              "20   multiaut_hebrew1             10                  51               2027   \n",
              "24   multiaut_french3              2                 277               2181   \n",
              "29   multiaut_french4              2                 238               2332   \n",
              "1   multiaut_english4              2                 142               2361   \n",
              "9               snb17              2                 142               2372   \n",
              "14    multiaut_dutch4              1                  99               2414   \n",
              "26  multiaut_spanish1              1                 491               2735   \n",
              "0   multiaut_english1              2                 171               2918   \n",
              "8             betal18              2                 171               2918   \n",
              "36   multiaut_polish2              3                 497               3054   \n",
              "28  multiaut_english3              2                 209               3225   \n",
              "15  multiaut_english6              2                 241               3425   \n",
              "35   multiaut_german2              3                 154               3530   \n",
              "23  multiaut_english2              2                 182               3723   \n",
              "7                hmsl              2                 638               3843   \n",
              "4             snbmo09              3                 202               4099   \n",
              "25  multiaut_italian1              6                 151               4269   \n",
              "38              dbc23              4                1546               4589   \n",
              "3               dod20             10                  92               5490   \n",
              "30  multiaut_italian2             21                  80               6895   \n",
              "33   multiaut_polish1              2                 791               7415   \n",
              "37           transdis              4                 350               8007   \n",
              "16   multiaut_german3             16                  51               8065   \n",
              "32   multiaut_german1              3                 298               8116   \n",
              "12             motesf             24                 386               8563   \n",
              "27    multiaut_dutch1              4                 633              10549   \n",
              "6             setal08              6                 242              11490   \n",
              "39                h18              6                 242              11490   \n",
              "18  multiaut_chinese1            122                 466              14176   \n",
              "\n",
              "                                              prompts  ICC2k   ICC2k_CI  \\\n",
              "21                                [картонная коробка]   0.78  0.74-0.82   \n",
              "19                                          [chapeau]   0.52  0.25-0.68   \n",
              "11  [backpack, ball, bottle, hat, light bulb, penc...   0.73  0.66-0.78   \n",
              "34                                            [brick]   0.86  0.79-0.89   \n",
              "5                                     [bottle, brick]   0.79  0.75-0.82   \n",
              "22                                          [筷子, 易拉罐]   0.60  0.54-0.66   \n",
              "13                                         [Tin cans]    NaN       None   \n",
              "31                                 [brick, paperclip]   0.94  0.93-0.95   \n",
              "17                       [газета, деревянная линейка]   0.72  0.69-0.74   \n",
              "10                                            [brick]   0.72   0.56-0.8   \n",
              "2                                             [brick]   0.74  0.65-0.79   \n",
              "20  [סכין, נעל, עיפרון, עיתון, מברג, קולב, צמיג, מ...    NaN       None   \n",
              "24                               [ceinture, brouette]   0.72  0.67-0.77   \n",
              "29                               [brouette, ceinture]   0.79  0.78-0.81   \n",
              "1                                         [box, rope]   0.67  0.55-0.75   \n",
              "9                                         [box, rope]   0.67  0.55-0.75   \n",
              "14                                            [brick]   0.84  0.82-0.86   \n",
              "26                                         [ladrillo]   0.57  0.18-0.75   \n",
              "0                                         [box, rope]   0.82  0.77-0.85   \n",
              "8                                         [box, rope]   0.82  0.77-0.85   \n",
              "36                           [sznurek, puszka, cegła]    NaN       None   \n",
              "28                                        [box, rope]   0.38  0.18-0.52   \n",
              "15                                     [brick, knife]   0.48  0.15-0.65   \n",
              "35                      [Büroklammer, Mülltüte, Seil]   0.71   0.54-0.8   \n",
              "23                                        [rope, box]   0.71  0.59-0.78   \n",
              "7                                  [paperclip, brick]   0.67  0.53-0.75   \n",
              "4                                 [brick, knife, box]   0.69  0.57-0.77   \n",
              "25  [Attaccapanni, Barile, Bottiglia di plastica, ...   0.89   0.89-0.9   \n",
              "38  [boring class, gross food, bad movie, messy room]    NaN       None   \n",
              "3   [book, bottle, brick, fork, pants, rope, shoe,...   0.85  0.79-0.88   \n",
              "30  [guanto, lampadina, libro, martello, mattone, ...   0.88  0.87-0.89   \n",
              "33                                    [puszka, cegła]   0.82  0.81-0.83   \n",
              "37                                   [床单, 筷子, 拖鞋, 牙刷]   0.67   0.6-0.73   \n",
              "16  [Axt, Trompete, Erbse, Tisch, Flöte, Zange, Gu...   0.85  0.83-0.87   \n",
              "32                 [konservendose, messer, haarfoehn]   0.70  0.68-0.72   \n",
              "12  [ball, sock, pencil, spoon, light bulb, hat, b...   0.79  0.69-0.85   \n",
              "27                    [brick, fork, paperclip, towel]   0.81  0.81-0.82   \n",
              "6      [brick, round, no sleep, knife, noise, shrank]   0.43  0.22-0.57   \n",
              "39     [shrank, brick, knife, noise, round, no sleep]   0.43  0.22-0.57   \n",
              "18  [积木, 漏斗, 轮胎, 盘子, 皮带, 塑料袋, 西瓜, 牙签, 锅, 蚊帐, 头发, 纸...   0.48  0.44-0.51   \n",
              "\n",
              "    ICC3k                                         rater_cols  no_of_raters  \n",
              "21   0.79                           [rater1, rater2, rater3]             3  \n",
              "19   0.64                           [rater1, rater2, rater3]             3  \n",
              "11   0.75                                          [D, K, T]             3  \n",
              "34   0.87                                   [rater1, rater2]             2  \n",
              "5    0.80                                       [r1, r2, r3]             3  \n",
              "22   0.64                   [rater1, rater2, rater3, rater4]             4  \n",
              "13    NaN                                           [rater1]             1  \n",
              "31   0.94                                   [rater1, rater2]             2  \n",
              "17   0.72                           [rater1, rater2, rater3]             3  \n",
              "10   0.78                  [br_rater1, br_rater2, br_rater3]             3  \n",
              "2    0.79  [rater1, rater2, rater3, br_rater1, br_rater2,...             6  \n",
              "20    NaN  [rater1, rater2, rater3, rater4, rater5, rater...            45  \n",
              "24   0.75                           [rater1, rater2, rater3]             3  \n",
              "29   0.80                           [rater1, rater2, rater3]             3  \n",
              "1    0.72                           [rater1, rater2, rater3]             3  \n",
              "9    0.72                           [rater1, rater2, rater3]             3  \n",
              "14   0.85                           [rater1, rater2, rater3]             3  \n",
              "26   0.75                           [rater1, rater2, rater3]             3  \n",
              "0    0.84                   [rater1, rater2, rater3, rater4]             4  \n",
              "8    0.84                   [rater1, rater2, rater3, rater4]             4  \n",
              "36    NaN                   [rater1, rater2, rater3, rater4]             4  \n",
              "28   0.49                           [rater1, rater2, rater3]             3  \n",
              "15   0.64                           [rater1, rater2, rater3]             3  \n",
              "35   0.77                           [rater1, rater2, rater3]             3  \n",
              "23   0.77                   [rater1, rater2, rater3, rater4]             4  \n",
              "7    0.74       [J1_Rating, J2_Rating, J3_Rating, J4_Rating]             4  \n",
              "4    0.76               [rater_1, rater_2, rater_3, rater_4]             4  \n",
              "25   0.89                                   [rater1, rater2]             2  \n",
              "38    NaN                                           [rating]             1  \n",
              "3    0.87                   [rater1, rater2, rater3, rater4]             4  \n",
              "30   0.88                                   [rater1, rater2]             2  \n",
              "33   0.82                           [rater1, rater2, rater3]             3  \n",
              "37   0.70           [Originality_Rater1, Originality_Rater2]             2  \n",
              "16   0.86                           [rater1, rater2, rater3]             3  \n",
              "32   0.71                   [rater1, rater2, rater3, rater4]             4  \n",
              "12   0.84           [Kscore, Hscore, Cscore, Tscore, Mscore]             5  \n",
              "27   0.81                                   [rater1, rater2]             2  \n",
              "6    0.54                           [rater1, rater2, rater3]             3  \n",
              "39   0.54                           [rater1, rater2, rater3]             3  \n",
              "18   0.49                   [rater1, rater2, rater3, rater4]             4  "
            ]
          },
          "execution_count": 199,
          "metadata": {},
          "output_type": "execute_result"
        }
      ],
      "source": [
        "import duckdb\n",
        "conn = duckdb.connect(\"../data/datasets/stats_db.duckdb\")\n",
        "stats = pd.read_sql('select * from stats', conn)\n",
        "# sort to check for redundancy\n",
        "stats.sort_values('no_of_data_points')"
      ]
    },
    {
      "cell_type": "code",
      "execution_count": 200,
      "metadata": {},
      "outputs": [
        {
          "data": {
            "text/html": [
              "<div>\n",
              "<style scoped>\n",
              "    .dataframe tbody tr th:only-of-type {\n",
              "        vertical-align: middle;\n",
              "    }\n",
              "\n",
              "    .dataframe tbody tr th {\n",
              "        vertical-align: top;\n",
              "    }\n",
              "\n",
              "    .dataframe thead th {\n",
              "        text-align: right;\n",
              "    }\n",
              "</style>\n",
              "<table border=\"1\" class=\"dataframe\">\n",
              "  <thead>\n",
              "    <tr style=\"text-align: right;\">\n",
              "      <th></th>\n",
              "      <th>type</th>\n",
              "      <th>src</th>\n",
              "      <th>question</th>\n",
              "      <th>prompt</th>\n",
              "      <th>response</th>\n",
              "      <th>id</th>\n",
              "      <th>target</th>\n",
              "      <th>participant</th>\n",
              "      <th>response_num</th>\n",
              "      <th>language</th>\n",
              "      <th>rater_count</th>\n",
              "      <th>rating_std</th>\n",
              "    </tr>\n",
              "  </thead>\n",
              "  <tbody>\n",
              "    <tr>\n",
              "      <th>56</th>\n",
              "      <td>uses</td>\n",
              "      <td>multiaut_polish2</td>\n",
              "      <td>Jakie jest zaskakujące zastosowanie dla SZNUREK?</td>\n",
              "      <td>sznurek</td>\n",
              "      <td>Do stworzenia zegara poprzez wyliczenie czasu ...</td>\n",
              "      <td>multiaut_polish2_sznurek-6db2e6</td>\n",
              "      <td>4.666667</td>\n",
              "      <td>multiaut_polish230277</td>\n",
              "      <td>p1</td>\n",
              "      <td>pol</td>\n",
              "      <td>2</td>\n",
              "      <td>0.707107</td>\n",
              "    </tr>\n",
              "    <tr>\n",
              "      <th>57</th>\n",
              "      <td>uses</td>\n",
              "      <td>multiaut_polish2</td>\n",
              "      <td>Jakie jest zaskakujące zastosowanie dla SZNUREK?</td>\n",
              "      <td>sznurek</td>\n",
              "      <td>Sznurek moze byc takze forma rurki przesylajac...</td>\n",
              "      <td>multiaut_polish2_sznurek-1c48eb</td>\n",
              "      <td>4.666667</td>\n",
              "      <td>multiaut_polish230277</td>\n",
              "      <td>p2</td>\n",
              "      <td>pol</td>\n",
              "      <td>2</td>\n",
              "      <td>0.707107</td>\n",
              "    </tr>\n",
              "    <tr>\n",
              "      <th>802</th>\n",
              "      <td>uses</td>\n",
              "      <td>multiaut_polish2</td>\n",
              "      <td>Jakie jest zaskakujące zastosowanie dla SZNUREK?</td>\n",
              "      <td>sznurek</td>\n",
              "      <td>Do skonstruowania liny po ktorej mozna uciec z...</td>\n",
              "      <td>multiaut_polish2_sznurek-75e214</td>\n",
              "      <td>4.333333</td>\n",
              "      <td>multiaut_polish2442188</td>\n",
              "      <td>p1</td>\n",
              "      <td>pol</td>\n",
              "      <td>2</td>\n",
              "      <td>1.414214</td>\n",
              "    </tr>\n",
              "    <tr>\n",
              "      <th>804</th>\n",
              "      <td>uses</td>\n",
              "      <td>multiaut_polish2</td>\n",
              "      <td>Jakie jest zaskakujące zastosowanie dla SZNUREK?</td>\n",
              "      <td>sznurek</td>\n",
              "      <td>Ze sznurka można zrobić sztucznego węża i nast...</td>\n",
              "      <td>multiaut_polish2_sznurek-b26865</td>\n",
              "      <td>4.333333</td>\n",
              "      <td>multiaut_polish2444381</td>\n",
              "      <td>p1</td>\n",
              "      <td>pol</td>\n",
              "      <td>2</td>\n",
              "      <td>1.414214</td>\n",
              "    </tr>\n",
              "    <tr>\n",
              "      <th>414</th>\n",
              "      <td>uses</td>\n",
              "      <td>multiaut_polish2</td>\n",
              "      <td>Jakie jest zaskakujące zastosowanie dla SZNUREK?</td>\n",
              "      <td>sznurek</td>\n",
              "      <td>do tamowania krwotoku</td>\n",
              "      <td>multiaut_polish2_sznurek-678d06</td>\n",
              "      <td>4.333333</td>\n",
              "      <td>multiaut_polish2334939</td>\n",
              "      <td>p5</td>\n",
              "      <td>pol</td>\n",
              "      <td>2</td>\n",
              "      <td>1.414214</td>\n",
              "    </tr>\n",
              "    <tr>\n",
              "      <th>...</th>\n",
              "      <td>...</td>\n",
              "      <td>...</td>\n",
              "      <td>...</td>\n",
              "      <td>...</td>\n",
              "      <td>...</td>\n",
              "      <td>...</td>\n",
              "      <td>...</td>\n",
              "      <td>...</td>\n",
              "      <td>...</td>\n",
              "      <td>...</td>\n",
              "      <td>...</td>\n",
              "      <td>...</td>\n",
              "    </tr>\n",
              "    <tr>\n",
              "      <th>1809</th>\n",
              "      <td>uses</td>\n",
              "      <td>multiaut_polish2</td>\n",
              "      <td>Jakie jest zaskakujące zastosowanie dla PUSZKA?</td>\n",
              "      <td>puszka</td>\n",
              "      <td>zrobić wazon na kwiaty</td>\n",
              "      <td>multiaut_polish2_puszka-e453cb</td>\n",
              "      <td>1.000000</td>\n",
              "      <td>multiaut_polish2420809</td>\n",
              "      <td>p1</td>\n",
              "      <td>pol</td>\n",
              "      <td>2</td>\n",
              "      <td>0.000000</td>\n",
              "    </tr>\n",
              "    <tr>\n",
              "      <th>1811</th>\n",
              "      <td>uses</td>\n",
              "      <td>multiaut_polish2</td>\n",
              "      <td>Jakie jest zaskakujące zastosowanie dla PUSZKA?</td>\n",
              "      <td>puszka</td>\n",
              "      <td>Jako popielniczkę</td>\n",
              "      <td>multiaut_polish2_puszka-e50b47</td>\n",
              "      <td>1.000000</td>\n",
              "      <td>multiaut_polish2421847</td>\n",
              "      <td>p1</td>\n",
              "      <td>pol</td>\n",
              "      <td>2</td>\n",
              "      <td>0.000000</td>\n",
              "    </tr>\n",
              "    <tr>\n",
              "      <th>1812</th>\n",
              "      <td>uses</td>\n",
              "      <td>multiaut_polish2</td>\n",
              "      <td>Jakie jest zaskakujące zastosowanie dla PUSZKA?</td>\n",
              "      <td>puszka</td>\n",
              "      <td>jako doniczkę</td>\n",
              "      <td>multiaut_polish2_puszka-a8fda8</td>\n",
              "      <td>1.000000</td>\n",
              "      <td>multiaut_polish2421847</td>\n",
              "      <td>p2</td>\n",
              "      <td>pol</td>\n",
              "      <td>2</td>\n",
              "      <td>0.000000</td>\n",
              "    </tr>\n",
              "    <tr>\n",
              "      <th>1817</th>\n",
              "      <td>uses</td>\n",
              "      <td>multiaut_polish2</td>\n",
              "      <td>Jakie jest zaskakujące zastosowanie dla PUSZKA?</td>\n",
              "      <td>puszka</td>\n",
              "      <td>do zrobienia popielniczki</td>\n",
              "      <td>multiaut_polish2_puszka-feac8c</td>\n",
              "      <td>1.000000</td>\n",
              "      <td>multiaut_polish2423427</td>\n",
              "      <td>p3</td>\n",
              "      <td>pol</td>\n",
              "      <td>2</td>\n",
              "      <td>0.000000</td>\n",
              "    </tr>\n",
              "    <tr>\n",
              "      <th>1527</th>\n",
              "      <td>uses</td>\n",
              "      <td>multiaut_polish2</td>\n",
              "      <td>Jakie jest zaskakujące zastosowanie dla PUSZKA?</td>\n",
              "      <td>puszka</td>\n",
              "      <td>dokumenty</td>\n",
              "      <td>multiaut_polish2_puszka-0fb18d</td>\n",
              "      <td>1.000000</td>\n",
              "      <td>multiaut_polish2352031</td>\n",
              "      <td>p2</td>\n",
              "      <td>pol</td>\n",
              "      <td>2</td>\n",
              "      <td>0.000000</td>\n",
              "    </tr>\n",
              "  </tbody>\n",
              "</table>\n",
              "<p>3054 rows × 12 columns</p>\n",
              "</div>"
            ],
            "text/plain": [
              "      type               src  \\\n",
              "56    uses  multiaut_polish2   \n",
              "57    uses  multiaut_polish2   \n",
              "802   uses  multiaut_polish2   \n",
              "804   uses  multiaut_polish2   \n",
              "414   uses  multiaut_polish2   \n",
              "...    ...               ...   \n",
              "1809  uses  multiaut_polish2   \n",
              "1811  uses  multiaut_polish2   \n",
              "1812  uses  multiaut_polish2   \n",
              "1817  uses  multiaut_polish2   \n",
              "1527  uses  multiaut_polish2   \n",
              "\n",
              "                                              question   prompt  \\\n",
              "56    Jakie jest zaskakujące zastosowanie dla SZNUREK?  sznurek   \n",
              "57    Jakie jest zaskakujące zastosowanie dla SZNUREK?  sznurek   \n",
              "802   Jakie jest zaskakujące zastosowanie dla SZNUREK?  sznurek   \n",
              "804   Jakie jest zaskakujące zastosowanie dla SZNUREK?  sznurek   \n",
              "414   Jakie jest zaskakujące zastosowanie dla SZNUREK?  sznurek   \n",
              "...                                                ...      ...   \n",
              "1809   Jakie jest zaskakujące zastosowanie dla PUSZKA?   puszka   \n",
              "1811   Jakie jest zaskakujące zastosowanie dla PUSZKA?   puszka   \n",
              "1812   Jakie jest zaskakujące zastosowanie dla PUSZKA?   puszka   \n",
              "1817   Jakie jest zaskakujące zastosowanie dla PUSZKA?   puszka   \n",
              "1527   Jakie jest zaskakujące zastosowanie dla PUSZKA?   puszka   \n",
              "\n",
              "                                               response  \\\n",
              "56    Do stworzenia zegara poprzez wyliczenie czasu ...   \n",
              "57    Sznurek moze byc takze forma rurki przesylajac...   \n",
              "802   Do skonstruowania liny po ktorej mozna uciec z...   \n",
              "804   Ze sznurka można zrobić sztucznego węża i nast...   \n",
              "414                               do tamowania krwotoku   \n",
              "...                                                 ...   \n",
              "1809                             zrobić wazon na kwiaty   \n",
              "1811                                  Jako popielniczkę   \n",
              "1812                                      jako doniczkę   \n",
              "1817                          do zrobienia popielniczki   \n",
              "1527                                          dokumenty   \n",
              "\n",
              "                                   id    target             participant  \\\n",
              "56    multiaut_polish2_sznurek-6db2e6  4.666667   multiaut_polish230277   \n",
              "57    multiaut_polish2_sznurek-1c48eb  4.666667   multiaut_polish230277   \n",
              "802   multiaut_polish2_sznurek-75e214  4.333333  multiaut_polish2442188   \n",
              "804   multiaut_polish2_sznurek-b26865  4.333333  multiaut_polish2444381   \n",
              "414   multiaut_polish2_sznurek-678d06  4.333333  multiaut_polish2334939   \n",
              "...                               ...       ...                     ...   \n",
              "1809   multiaut_polish2_puszka-e453cb  1.000000  multiaut_polish2420809   \n",
              "1811   multiaut_polish2_puszka-e50b47  1.000000  multiaut_polish2421847   \n",
              "1812   multiaut_polish2_puszka-a8fda8  1.000000  multiaut_polish2421847   \n",
              "1817   multiaut_polish2_puszka-feac8c  1.000000  multiaut_polish2423427   \n",
              "1527   multiaut_polish2_puszka-0fb18d  1.000000  multiaut_polish2352031   \n",
              "\n",
              "     response_num language  rater_count  rating_std  \n",
              "56             p1      pol            2    0.707107  \n",
              "57             p2      pol            2    0.707107  \n",
              "802            p1      pol            2    1.414214  \n",
              "804            p1      pol            2    1.414214  \n",
              "414            p5      pol            2    1.414214  \n",
              "...           ...      ...          ...         ...  \n",
              "1809           p1      pol            2    0.000000  \n",
              "1811           p1      pol            2    0.000000  \n",
              "1812           p2      pol            2    0.000000  \n",
              "1817           p3      pol            2    0.000000  \n",
              "1527           p2      pol            2    0.000000  \n",
              "\n",
              "[3054 rows x 12 columns]"
            ]
          },
          "execution_count": 200,
          "metadata": {},
          "output_type": "execute_result"
        }
      ],
      "source": [
        "pd.read_csv('../data/datasets/multiaut_polish2.csv').sort_values('target', ascending=False)"
      ]
    },
    {
      "cell_type": "code",
      "execution_count": 201,
      "metadata": {},
      "outputs": [
        {
          "name": "stdout",
          "output_type": "stream",
          "text": [
            "Total number of rows 162872\n"
          ]
        },
        {
          "data": {
            "text/plain": [
              "uses            140193\n",
              "instances         8572\n",
              "consequences      6561\n",
              "metaphors         4589\n",
              "completion        2957\n",
              "Name: type, dtype: int64"
            ]
          },
          "metadata": {},
          "output_type": "display_data"
        }
      ],
      "source": [
        "from pathlib import Path\n",
        "all = pd.concat([pd.read_csv(x) for x in Path('../data/datasets/').glob('*csv')])\n",
        "print(\"Total number of rows\", len(all))\n",
        "display(all['type'].value_counts())"
      ]
    }
  ],
  "metadata": {
    "colab": {
      "authorship_tag": "ABX9TyP/4DeAWbHGaXxKUYl0C2Du",
      "collapsed_sections": [
        "zltQcwkXeRvk",
        "vJqyd2UHDCMZ",
        "UH3yOwIon4Ky",
        "VgNoUTqg_dQb",
        "laa40OuiNV2X",
        "8H-WPj9MeGrS",
        "9mbZjzsjIuW8"
      ],
      "include_colab_link": true,
      "mount_file_id": "1bZ0PDifSqhWhAUwuLK4BCt0Mke50ww-Q",
      "provenance": []
    },
    "kernelspec": {
      "display_name": "Python 3",
      "name": "python3"
    },
    "language_info": {
      "codemirror_mode": {
        "name": "ipython",
        "version": 3
      },
      "file_extension": ".py",
      "mimetype": "text/x-python",
      "name": "python",
      "nbconvert_exporter": "python",
      "pygments_lexer": "ipython3",
      "version": "3.9.12"
    }
  },
  "nbformat": 4,
  "nbformat_minor": 0
}
