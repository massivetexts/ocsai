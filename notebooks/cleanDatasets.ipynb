{
  "cells": [
    {
      "cell_type": "markdown",
      "metadata": {
        "id": "eXqu-c24fsZs"
      },
      "source": [
        "This notebook normalizes human judged ground truth from various originality and creativity scoring studies.\n",
        "\n",
        "This is an assortment of studies, with different demographics, goals, and test setups. It is most appropriate for supervised learning of automated scoring, where we're not necessarily trying to learn about the participants but about the *human judges* - how they interpret the originality scoring task in general."
      ]
    },
    {
      "cell_type": "code",
      "execution_count": 1,
      "metadata": {},
      "outputs": [],
      "source": [
        "%load_ext autoreload\n",
        "%autoreload 2"
      ]
    },
    {
      "cell_type": "code",
      "execution_count": 2,
      "metadata": {},
      "outputs": [],
      "source": [
        "from ocsai.data import download_from_description, prep_general\n",
        "import pandas as pd"
      ]
    },
    {
      "cell_type": "markdown",
      "metadata": {},
      "source": [
        "## Dumas et al 2020"
      ]
    },
    {
      "cell_type": "code",
      "execution_count": 239,
      "metadata": {},
      "outputs": [
        {
          "data": {
            "text/markdown": [
              "### Loading *Dumas et al 2020*"
            ],
            "text/plain": [
              "<IPython.core.display.Markdown object>"
            ]
          },
          "metadata": {},
          "output_type": "display_data"
        },
        {
          "name": "stdout",
          "output_type": "stream",
          "text": [
            "Replacing !!! with NaN in response column\n",
            "Rater cols: ['rater1', 'rater2', 'rater3', 'rater4']\n",
            "# of prompts 10\n",
            "# of participants 92\n",
            "# of data points 5490\n",
            "Prompts ['book' 'bottle' 'brick' 'fork' 'pants' 'rope' 'shoe' 'shovel' 'table'\n",
            " 'tire']\n",
            "# of raters 4\n",
            "Intraclass correlation coefficients (report ICC2k)\n",
            "    Type              Description   ICC     F   df1    df2  pval         CI95%\n",
            "0   ICC1   Single raters absolute  0.57  6.27  5376  16131   0.0  [0.56, 0.58]\n",
            "1   ICC2     Single random raters  0.58  7.78  5376  16128   0.0  [0.49, 0.65]\n",
            "2   ICC3      Single fixed raters  0.63  7.78  5376  16128   0.0  [0.62, 0.64]\n",
            "3  ICC1k  Average raters absolute  0.84  6.27  5376  16131   0.0  [0.83, 0.85]\n",
            "4  ICC2k    Average random raters  0.85  7.78  5376  16128   0.0  [0.79, 0.88]\n",
            "5  ICC3k     Average fixed raters  0.87  7.78  5376  16128   0.0  [0.87, 0.88]\n"
          ]
        },
        {
          "data": {
            "text/html": [
              "<div>\n",
              "<style scoped>\n",
              "    .dataframe tbody tr th:only-of-type {\n",
              "        vertical-align: middle;\n",
              "    }\n",
              "\n",
              "    .dataframe tbody tr th {\n",
              "        vertical-align: top;\n",
              "    }\n",
              "\n",
              "    .dataframe thead th {\n",
              "        text-align: right;\n",
              "    }\n",
              "</style>\n",
              "<table border=\"1\" class=\"dataframe\">\n",
              "  <thead>\n",
              "    <tr style=\"text-align: right;\">\n",
              "      <th></th>\n",
              "      <th>type</th>\n",
              "      <th>src</th>\n",
              "      <th>question</th>\n",
              "      <th>prompt</th>\n",
              "      <th>response</th>\n",
              "      <th>id</th>\n",
              "      <th>target</th>\n",
              "      <th>participant</th>\n",
              "      <th>response_num</th>\n",
              "    </tr>\n",
              "  </thead>\n",
              "  <tbody>\n",
              "    <tr>\n",
              "      <th>560</th>\n",
              "      <td>uses</td>\n",
              "      <td>dod20</td>\n",
              "      <td>What is a surprising use for a BRICK?</td>\n",
              "      <td>brick</td>\n",
              "      <td>doorstop</td>\n",
              "      <td>dod20_brick-97b3cd</td>\n",
              "      <td>2.24975</td>\n",
              "      <td>dod206</td>\n",
              "      <td>0</td>\n",
              "    </tr>\n",
              "    <tr>\n",
              "      <th>2617</th>\n",
              "      <td>uses</td>\n",
              "      <td>dod20</td>\n",
              "      <td>What is a surprising use for a BOOK?</td>\n",
              "      <td>book</td>\n",
              "      <td>escape</td>\n",
              "      <td>dod20_book-77df8f</td>\n",
              "      <td>2.33400</td>\n",
              "      <td>dod2035</td>\n",
              "      <td>7</td>\n",
              "    </tr>\n",
              "  </tbody>\n",
              "</table>\n",
              "</div>"
            ],
            "text/plain": [
              "      type    src                               question prompt  response  \\\n",
              "560   uses  dod20  What is a surprising use for a BRICK?  brick  doorstop   \n",
              "2617  uses  dod20   What is a surprising use for a BOOK?   book    escape   \n",
              "\n",
              "                      id   target participant  response_num  \n",
              "560   dod20_brick-97b3cd  2.24975      dod206             0  \n",
              "2617   dod20_book-77df8f  2.33400     dod2035             7  "
            ]
          },
          "execution_count": 239,
          "metadata": {},
          "output_type": "execute_result"
        }
      ],
      "source": [
        "desc = {\n",
        "    \"name\": \"dod20\",\n",
        "    \"test_type\": \"uses\",\n",
        "    \"meta\": {\n",
        "        \"inline\": \"Dumas et al 2020\",\n",
        "        \"download\": {\"url\": \"https://osf.io/download/u3yv4/\", \"extension\": \"csv\"}\n",
        "    },\n",
        "    \"null_marker\": \"!!!\",\n",
        "    \"column_mappings\": {},\n",
        "    \"range\": [1, 5],\n",
        "    \"language\": \"eng\",\n",
        "}\n",
        "\n",
        "fname = download_from_description(desc, '../data/raw')\n",
        "df = pd.read_csv(fname[0], index_col=0)\n",
        "cleaned = prep_general(df, **desc, save_dir='../data/datasets')\n",
        "cleaned.sample(2)"
      ]
    },
    {
      "cell_type": "markdown",
      "metadata": {},
      "source": [
        "## Silvia et al 2009"
      ]
    },
    {
      "cell_type": "code",
      "execution_count": 240,
      "metadata": {},
      "outputs": [
        {
          "data": {
            "text/markdown": [
              "### Loading *Silvia et al. 2009*"
            ],
            "text/plain": [
              "<IPython.core.display.Markdown object>"
            ]
          },
          "metadata": {},
          "output_type": "display_data"
        },
        {
          "data": {
            "text/markdown": [
              "Silvia, P. J., Nusbaum, E. C., Berg, C., Martin, C., & O'Connor, A. (2009). Openness to experience, plasticity, and creativity: Exploring lower-order, high-order, and interactive effects. Journal of Research in Personality, 43(6), 1087–1090. https://doi.org/10.1016/j.jrp.2009.04.015"
            ],
            "text/plain": [
              "<IPython.core.display.Markdown object>"
            ]
          },
          "metadata": {},
          "output_type": "display_data"
        },
        {
          "name": "stdout",
          "output_type": "stream",
          "text": [
            "Renaming columns {'subject': 'participant', 'response_order': 'response_num'}\n",
            "Rater cols: ['rater_1', 'rater_2', 'rater_3', 'rater_4']\n",
            "Dropping 10 unrated items\n",
            "# of prompts 3\n",
            "# of participants 202\n",
            "# of data points 4099\n",
            "Prompts ['brick' 'knife' 'box']\n",
            "# of raters 4\n",
            "Intraclass correlation coefficients (report ICC2k)\n",
            "    Type              Description   ICC     F   df1    df2  pval         CI95%\n",
            "0   ICC1   Single raters absolute  0.33  2.97  4097  12294   0.0  [0.31, 0.35]\n",
            "1   ICC2     Single random raters  0.36  4.10  4097  12291   0.0  [0.25, 0.45]\n",
            "2   ICC3      Single fixed raters  0.44  4.10  4097  12291   0.0  [0.42, 0.45]\n",
            "3  ICC1k  Average raters absolute  0.66  2.97  4097  12294   0.0  [0.65, 0.68]\n",
            "4  ICC2k    Average random raters  0.69  4.10  4097  12291   0.0  [0.57, 0.77]\n",
            "5  ICC3k     Average fixed raters  0.76  4.10  4097  12291   0.0  [0.74, 0.77]\n"
          ]
        },
        {
          "data": {
            "text/html": [
              "<div>\n",
              "<style scoped>\n",
              "    .dataframe tbody tr th:only-of-type {\n",
              "        vertical-align: middle;\n",
              "    }\n",
              "\n",
              "    .dataframe tbody tr th {\n",
              "        vertical-align: top;\n",
              "    }\n",
              "\n",
              "    .dataframe thead th {\n",
              "        text-align: right;\n",
              "    }\n",
              "</style>\n",
              "<table border=\"1\" class=\"dataframe\">\n",
              "  <thead>\n",
              "    <tr style=\"text-align: right;\">\n",
              "      <th></th>\n",
              "      <th>type</th>\n",
              "      <th>src</th>\n",
              "      <th>question</th>\n",
              "      <th>prompt</th>\n",
              "      <th>response</th>\n",
              "      <th>id</th>\n",
              "      <th>target</th>\n",
              "      <th>participant</th>\n",
              "      <th>response_num</th>\n",
              "    </tr>\n",
              "  </thead>\n",
              "  <tbody>\n",
              "    <tr>\n",
              "      <th>1571</th>\n",
              "      <td>uses</td>\n",
              "      <td>snbmo09</td>\n",
              "      <td>What is a surprising use for a BOX?</td>\n",
              "      <td>box</td>\n",
              "      <td>a door mat</td>\n",
              "      <td>snbmo09_3_box-d08fee</td>\n",
              "      <td>1.75025</td>\n",
              "      <td>snbmo0975</td>\n",
              "      <td>6</td>\n",
              "    </tr>\n",
              "    <tr>\n",
              "      <th>2309</th>\n",
              "      <td>uses</td>\n",
              "      <td>snbmo09</td>\n",
              "      <td>What is a surprising use for a KNIFE?</td>\n",
              "      <td>knife</td>\n",
              "      <td>peeling</td>\n",
              "      <td>snbmo09_2_knife-0a52cf</td>\n",
              "      <td>1.00000</td>\n",
              "      <td>snbmo09112</td>\n",
              "      <td>9</td>\n",
              "    </tr>\n",
              "  </tbody>\n",
              "</table>\n",
              "</div>"
            ],
            "text/plain": [
              "      type      src                               question prompt    response  \\\n",
              "1571  uses  snbmo09    What is a surprising use for a BOX?    box  a door mat   \n",
              "2309  uses  snbmo09  What is a surprising use for a KNIFE?  knife     peeling   \n",
              "\n",
              "                          id   target participant  response_num  \n",
              "1571    snbmo09_3_box-d08fee  1.75025   snbmo0975             6  \n",
              "2309  snbmo09_2_knife-0a52cf  1.00000  snbmo09112             9  "
            ]
          },
          "execution_count": 240,
          "metadata": {},
          "output_type": "execute_result"
        }
      ],
      "source": [
        "desc = {\n",
        "    \"name\": \"snbmo09\",\n",
        "    \"test_type\": \"uses\",\n",
        "    \"meta\": {\n",
        "        \"inline\": \"Silvia et al. 2009\",\n",
        "        \"citation\": \"Silvia, P. J., Nusbaum, E. C., Berg, C., Martin, C., & O'Connor, A. (2009). Openness to experience, plasticity, and creativity: Exploring lower-order, high-order, and interactive effects. Journal of Research in Personality, 43(6), 1087–1090. https://doi.org/10.1016/j.jrp.2009.04.015\",\n",
        "        \"download\": {\"url\": \"https://osf.io/download/qdrv8/\", \"ext\": \"csv\"}\n",
        "    },\n",
        "    \"column_mappings\": {\n",
        "        \"subject\":\"participant\",\n",
        "        \"response_order\":\"response_num\"\n",
        "        },\n",
        "    \"range\": [1, 5],\n",
        "    \"language\": \"eng\",\n",
        "}\n",
        "fname = download_from_description(desc, '../data/raw')\n",
        "df = pd.read_csv(fname[0])\n",
        "df['prompt'] = df.task.apply(lambda x: x.split('_')[-1])\n",
        "cleaned = prep_general(df, **desc, save_dir='../data/datasets')\n",
        "cleaned.sample(2)"
      ]
    },
    {
      "cell_type": "markdown",
      "metadata": {
        "id": "jn8ziOcamzaH"
      },
      "source": [
        "## Hass 2017\n",
        "\n",
        "This study looked at uses for *bottle* and *brick*. There were 54 participants after data cleaning.\n",
        "\n",
        "Rating was on a 5-point scale. For verification, their reported inter-rater reliability was ICC2k was 0.80 for brick and 0.78 for bottle, which is about what we see below.\n",
        "\n",
        "The rating data was stoplisted, so I need to reconstruct the original responses here."
      ]
    },
    {
      "cell_type": "code",
      "execution_count": 241,
      "metadata": {},
      "outputs": [
        {
          "name": "stderr",
          "output_type": "stream",
          "text": [
            "[nltk_data] Downloading package punkt to\n",
            "[nltk_data]     /Users/peter.organisciak/nltk_data...\n",
            "[nltk_data]   Package punkt is already up-to-date!\n",
            "[nltk_data] Downloading package stopwords to\n",
            "[nltk_data]     /Users/peter.organisciak/nltk_data...\n",
            "[nltk_data]   Package stopwords is already up-to-date!\n"
          ]
        },
        {
          "data": {
            "text/markdown": [
              "### Loading *Hass 2017*"
            ],
            "text/plain": [
              "<IPython.core.display.Markdown object>"
            ]
          },
          "metadata": {},
          "output_type": "display_data"
        },
        {
          "data": {
            "text/markdown": [
              "Hass, R. W. (2017). Semantic search during divergent thinking. Cognition, 166, 344–357. https://doi.org/10.1016/j.cognition.2017.05.039"
            ],
            "text/plain": [
              "<IPython.core.display.Markdown object>"
            ]
          },
          "metadata": {},
          "output_type": "display_data"
        },
        {
          "name": "stdout",
          "output_type": "stream",
          "text": [
            "Renaming columns {'subject': 'participant', 'response_order': 'response_num'}\n",
            "Rater cols: ['r1', 'r2', 'r3']\n",
            "# of prompts 2\n",
            "# of participants 57\n",
            "# of data points 1093\n",
            "Prompts ['bottle' 'brick']\n",
            "# of raters 3\n",
            "Intraclass correlation coefficients (report ICC2k)\n",
            "    Type              Description   ICC     F  df1   df2  pval         CI95%\n",
            "0   ICC1   Single raters absolute  0.55  4.68  794  1590   0.0  [0.51, 0.59]\n",
            "1   ICC2     Single random raters  0.56  5.04  794  1588   0.0    [0.5, 0.6]\n",
            "2   ICC3      Single fixed raters  0.57  5.04  794  1588   0.0  [0.54, 0.61]\n",
            "3  ICC1k  Average raters absolute  0.79  4.68  794  1590   0.0  [0.76, 0.81]\n",
            "4  ICC2k    Average random raters  0.79  5.04  794  1588   0.0  [0.75, 0.82]\n",
            "5  ICC3k     Average fixed raters  0.80  5.04  794  1588   0.0  [0.78, 0.82]\n"
          ]
        },
        {
          "data": {
            "text/html": [
              "<div>\n",
              "<style scoped>\n",
              "    .dataframe tbody tr th:only-of-type {\n",
              "        vertical-align: middle;\n",
              "    }\n",
              "\n",
              "    .dataframe tbody tr th {\n",
              "        vertical-align: top;\n",
              "    }\n",
              "\n",
              "    .dataframe thead th {\n",
              "        text-align: right;\n",
              "    }\n",
              "</style>\n",
              "<table border=\"1\" class=\"dataframe\">\n",
              "  <thead>\n",
              "    <tr style=\"text-align: right;\">\n",
              "      <th></th>\n",
              "      <th>type</th>\n",
              "      <th>src</th>\n",
              "      <th>question</th>\n",
              "      <th>prompt</th>\n",
              "      <th>response</th>\n",
              "      <th>id</th>\n",
              "      <th>target</th>\n",
              "      <th>participant</th>\n",
              "      <th>response_num</th>\n",
              "    </tr>\n",
              "  </thead>\n",
              "  <tbody>\n",
              "    <tr>\n",
              "      <th>382</th>\n",
              "      <td>uses</td>\n",
              "      <td>hass17</td>\n",
              "      <td>What is a surprising use for a BOTTLE?</td>\n",
              "      <td>bottle</td>\n",
              "      <td>recycle it</td>\n",
              "      <td>hass17_bottle-5cf2d2</td>\n",
              "      <td>1.999</td>\n",
              "      <td>hass1756</td>\n",
              "      <td>5</td>\n",
              "    </tr>\n",
              "    <tr>\n",
              "      <th>80</th>\n",
              "      <td>uses</td>\n",
              "      <td>hass17</td>\n",
              "      <td>What is a surprising use for a BOTTLE?</td>\n",
              "      <td>bottle</td>\n",
              "      <td>drink</td>\n",
              "      <td>hass17_bottle-943855</td>\n",
              "      <td>1.000</td>\n",
              "      <td>hass1752</td>\n",
              "      <td>1</td>\n",
              "    </tr>\n",
              "  </tbody>\n",
              "</table>\n",
              "</div>"
            ],
            "text/plain": [
              "     type     src                                question  prompt    response  \\\n",
              "382  uses  hass17  What is a surprising use for a BOTTLE?  bottle  recycle it   \n",
              "80   uses  hass17  What is a surprising use for a BOTTLE?  bottle       drink   \n",
              "\n",
              "                       id  target participant response_num  \n",
              "382  hass17_bottle-5cf2d2   1.999    hass1756            5  \n",
              "80   hass17_bottle-943855   1.000    hass1752            1  "
            ]
          },
          "execution_count": 241,
          "metadata": {},
          "output_type": "execute_result"
        }
      ],
      "source": [
        "desc = {\n",
        "    \"name\": 'hass17',\n",
        "    \"test_type\": \"uses\",\n",
        "    \"meta\": {\n",
        "        \"inline\": \"Hass 2017\",\n",
        "        \"citation\": \"Hass, R. W. (2017). Semantic search during divergent thinking. Cognition, 166, 344–357. https://doi.org/10.1016/j.cognition.2017.05.039\",\n",
        "        \"url\": \"https://osf.io/ng598\",\n",
        "        \"download\": [\n",
        "            {\"url\": 'https://osf.io/download/mcykr/', \"ext\": \"xlsx\"}, # rater scores\n",
        "            {\"url\": 'https://osf.io/download/27bx8/', \"ext\": \"xlsx\"},  # responses 1\n",
        "            {\"url\": 'https://osf.io/download/rzvyd/', \"ext\": \"xlsx\"}  # responses 2\n",
        "        ],\n",
        "    },\n",
        "    \"column_mappings\": {\n",
        "        \"subject\":\"participant\",\n",
        "        \"response_order\":\"response_num\"\n",
        "        },\n",
        "    \"range\": [1, 5],\n",
        "    \"rater_cols\": ['r1','r2','r3'],\n",
        "    \"language\": \"eng\",\n",
        "}\n",
        "\n",
        "(ratings_fname, responses_fname, responses2_fname) = download_from_description(desc, '../data/raw')\n",
        "\n",
        "# custom parsing specific to this dataset\n",
        "all_ratings = []\n",
        "for sheet, prompt in [('br_exp1', 'brick'),('br_exp2', 'brick'),('bot_exp1', 'bottle'),('bot_exp2', 'bottle')]:\n",
        "    data = pd.read_excel(ratings_fname, sheet_name=sheet) #.rename(columns={'subject':'participant','response_order':'response_num'})\n",
        "    data['prompt'] = prompt\n",
        "    all_ratings.append(data)\n",
        "hassratings = pd.concat(all_ratings).rename(columns={'response':'cleaned'})\n",
        "participants = pd.concat([pd.read_excel(responses_fname), pd.read_excel(responses2_fname)])\n",
        "\n",
        "# melt original responses to long, reconstructe the cleaned columns, then join with ratings\n",
        "long_part = participants.melt(id_vars='ID', value_name='response').rename(columns={'ID':'participant'})\n",
        "long_part = long_part[long_part.variable.str.contains('resp') & ~long_part.variable.str.contains('time')].dropna()\n",
        "long_part[['prompt', 'response_num']] = long_part.variable.str.split('_', expand=True)\n",
        "\n",
        "long_part.loc[long_part.prompt.str.contains('resp1'), 'prompt'] = 'bottle'\n",
        "long_part.loc[long_part.prompt.str.contains('resp2'), 'prompt'] = 'brick'\n",
        "long_part.sample(10)\n",
        "\n",
        "import nltk\n",
        "nltk.download('punkt')\n",
        "nltk.download('stopwords')\n",
        "\n",
        "from nltk.corpus import stopwords\n",
        "from nltk.tokenize import word_tokenize\n",
        "stops = stopwords.words('english')\n",
        "# not sure which list the study used, so just adjust based on testing\n",
        "stops += ['could']\n",
        "stops = [w for w in stops if w not in ['can']]\n",
        "stops = set(stops)\n",
        "\n",
        "def stop_clean(x):\n",
        "    x = x.lower()\n",
        "    x = x.replace('i.e.', 'e') # quirk of the tokenization in original study\n",
        "    for c in list(\"/\\\\'-()\"):\n",
        "        x = x.replace(c, '')\n",
        "    words = [word for word in word_tokenize(x) if word not in stops]\n",
        "    return \" \".join(words)\n",
        "\n",
        "long_part['cleaned'] = long_part.response.apply(stop_clean)\n",
        "hass07 = long_part.merge(hassratings, how='left', on=['prompt', 'cleaned'])\n",
        "\n",
        "cleaned = prep_general(hass07, **desc, save_dir='../data/datasets')\n",
        "cleaned.sample(2)"
      ]
    },
    {
      "cell_type": "markdown",
      "metadata": {
        "id": "vJqyd2UHDCMZ"
      },
      "source": [
        "## Silvia et al Data 2008\n",
        "\n",
        "This was the order of creativity tasks:\n",
        "\n",
        "1. Please list all of the creative, unusual uses for a brick that you can think of.\n",
        "2. Please list all of the creative, unusual instances of things that are round that you can think of.\n",
        "3. Imagine that people no longer needed to sleep. Please list creative, unusual consequences that would follow.\n",
        "4. Please list all of the creative, unusual uses for a knife that you can think of.\n",
        "5. Please list all of the creative, unusual instances of things that will make a noise that you can think of.\n",
        "6. Imagine that everyone shrank to 12 inches tall. Please list creative, unusual consequences that would follow.\n",
        "\n",
        "Numbers 1 and 4 are AUT.\n",
        "\n"
      ]
    },
    {
      "cell_type": "code",
      "execution_count": 242,
      "metadata": {},
      "outputs": [
        {
          "data": {
            "text/markdown": [
              "### Loading *Silvia et al. 2008*"
            ],
            "text/plain": [
              "<IPython.core.display.Markdown object>"
            ]
          },
          "metadata": {},
          "output_type": "display_data"
        },
        {
          "data": {
            "text/markdown": [
              "Silvia, P. J., Winterstein, B. P., Willse, J. T., Barona, C. M., Cram, J. T., Hess, K. I., Martinez, J. L., & Richard, C. A. (2008). Assessing creativity with divergent thinking tasks: Exploring the reliability and validity of new subjective scoring methods. Psychology of Aesthetics, Creativity, and the Arts, 2(2), 68–85. https://doi.org/10.1037/1931-3896.2.2.68"
            ],
            "text/plain": [
              "<IPython.core.display.Markdown object>"
            ]
          },
          "metadata": {},
          "output_type": "display_data"
        },
        {
          "name": "stdout",
          "output_type": "stream",
          "text": [
            "Renaming columns {'subject': 'participant', 'order': 'response_num'}\n",
            "Rater cols: ['rater1', 'rater2', 'rater3']\n",
            "Dropping 37 unrated items\n",
            "# of prompts 6\n",
            "# of participants 242\n",
            "# of data points 11490\n",
            "Prompts ['brick' 'round' 'no sleep' 'knife' 'noise' 'shrank']\n",
            "# of raters 3\n",
            "Intraclass correlation coefficients (report ICC2k)\n",
            "    Type              Description   ICC     F    df1    df2  pval  \\\n",
            "0   ICC1   Single raters absolute  0.12  1.40  11488  22978   0.0   \n",
            "1   ICC2     Single random raters  0.20  2.16  11488  22976   0.0   \n",
            "2   ICC3      Single fixed raters  0.28  2.16  11488  22976   0.0   \n",
            "3  ICC1k  Average raters absolute  0.29  1.40  11488  22978   0.0   \n",
            "4  ICC2k    Average random raters  0.43  2.16  11488  22976   0.0   \n",
            "5  ICC3k     Average fixed raters  0.54  2.16  11488  22976   0.0   \n",
            "\n",
            "          CI95%  \n",
            "0  [0.11, 0.13]  \n",
            "1   [0.09, 0.3]  \n",
            "2  [0.27, 0.29]  \n",
            "3  [0.26, 0.31]  \n",
            "4  [0.22, 0.57]  \n",
            "5  [0.52, 0.55]  \n"
          ]
        },
        {
          "data": {
            "text/html": [
              "<div>\n",
              "<style scoped>\n",
              "    .dataframe tbody tr th:only-of-type {\n",
              "        vertical-align: middle;\n",
              "    }\n",
              "\n",
              "    .dataframe tbody tr th {\n",
              "        vertical-align: top;\n",
              "    }\n",
              "\n",
              "    .dataframe thead th {\n",
              "        text-align: right;\n",
              "    }\n",
              "</style>\n",
              "<table border=\"1\" class=\"dataframe\">\n",
              "  <thead>\n",
              "    <tr style=\"text-align: right;\">\n",
              "      <th></th>\n",
              "      <th>type</th>\n",
              "      <th>src</th>\n",
              "      <th>question</th>\n",
              "      <th>prompt</th>\n",
              "      <th>response</th>\n",
              "      <th>id</th>\n",
              "      <th>target</th>\n",
              "      <th>participant</th>\n",
              "      <th>response_num</th>\n",
              "    </tr>\n",
              "  </thead>\n",
              "  <tbody>\n",
              "    <tr>\n",
              "      <th>3070</th>\n",
              "      <td>uses</td>\n",
              "      <td>setal08</td>\n",
              "      <td>What is a surprising use for a BRICK?</td>\n",
              "      <td>brick</td>\n",
              "      <td>make a snow man by decorating</td>\n",
              "      <td>setal08_1.0-0ec5b5</td>\n",
              "      <td>2.334</td>\n",
              "      <td>setal0869</td>\n",
              "      <td>2.0</td>\n",
              "    </tr>\n",
              "    <tr>\n",
              "      <th>7618</th>\n",
              "      <td>uses</td>\n",
              "      <td>setal08</td>\n",
              "      <td>What is a surprising use for a BRICK?</td>\n",
              "      <td>brick</td>\n",
              "      <td>arm exercises</td>\n",
              "      <td>setal08_1.0-35aa55</td>\n",
              "      <td>1.667</td>\n",
              "      <td>setal08159</td>\n",
              "      <td>5.0</td>\n",
              "    </tr>\n",
              "  </tbody>\n",
              "</table>\n",
              "</div>"
            ],
            "text/plain": [
              "      type      src                               question prompt  \\\n",
              "3070  uses  setal08  What is a surprising use for a BRICK?  brick   \n",
              "7618  uses  setal08  What is a surprising use for a BRICK?  brick   \n",
              "\n",
              "                           response                  id  target participant  \\\n",
              "3070  make a snow man by decorating  setal08_1.0-0ec5b5   2.334   setal0869   \n",
              "7618                  arm exercises  setal08_1.0-35aa55   1.667  setal08159   \n",
              "\n",
              "      response_num  \n",
              "3070           2.0  \n",
              "7618           5.0  "
            ]
          },
          "execution_count": 242,
          "metadata": {},
          "output_type": "execute_result"
        }
      ],
      "source": [
        "# Support .sav files\n",
        "import pyreadstat\n",
        "desc = {\n",
        "    \"name\": \"setal08\",\n",
        "    \"meta\": {\n",
        "        \"inline\": \"Silvia et al. 2008\",\n",
        "        \"citation\": \"Silvia, P. J., Winterstein, B. P., Willse, J. T., Barona, C. M., Cram, J. T., Hess, K. I., Martinez, J. L., & Richard, C. A. (2008). Assessing creativity with divergent thinking tasks: Exploring the reliability and validity of new subjective scoring methods. Psychology of Aesthetics, Creativity, and the Arts, 2(2), 68–85. https://doi.org/10.1037/1931-3896.2.2.68\",\n",
        "        \"url\": \"https://osf.io/dh7ey/\",\n",
        "        \"download\": {\"url\": \"https://files.osf.io/v1/resources/4ketx/providers/osfstorage/5dd70d1f83135e000ec3c242/?zip=\",\n",
        "                    \"extension\": \"zip\",\n",
        "                    \"archive_files\": ['DT_Responses_PACA_2008_Study_2.sav']\n",
        "                    }\n",
        "    },\n",
        "    \"column_mappings\": {\n",
        "        \"subject\":\"participant\",\n",
        "        \"order\":\"response_num\"\n",
        "        },\n",
        "    \"replace_values\": {\n",
        "        \"prompt\": {\n",
        "            1: \"brick\",\n",
        "            2: \"round\",\n",
        "            3: \"no sleep\",\n",
        "            4: \"knife\",\n",
        "            5: \"noise\",\n",
        "            6: \"shrank\"\n",
        "        },\n",
        "        \"type\": {\n",
        "            1: \"uses\",\n",
        "            2: \"instances\",\n",
        "            3: \"consequences\",\n",
        "            4: \"uses\",\n",
        "            5: \"instances\",\n",
        "            6: \"consequences\"\n",
        "        },\n",
        "        \"question\": {\n",
        "            1:\"What is a surprising use for a BRICK?\",\n",
        "            2: \"What is a surprising thing that is ROUND?\", \n",
        "            3: \"What would be a surprising consequence if PEOPLE NEEDED NO SLEEP?\", \n",
        "            4: \"What is a surprising use for a KNIFE?\",\n",
        "            5: \"What is a surprising thing that makes a NOISE?\",\n",
        "            6: \"What would be a surprising consequence if EVERYONE SHRANK TO 12 INCHES TALL?\"\n",
        "        }\n",
        "    },\n",
        "    \"range\": [1, 5],\n",
        "    \"language\": \"eng\",\n",
        "}\n",
        "\n",
        "# Download data\n",
        "fnames = download_from_description(desc, '../data/raw', extension='zip')\n",
        "\n",
        "# Some manual cleanup\n",
        "df, meta = pyreadstat.read_sav(fnames[0])\n",
        "# all three are mapped from task\n",
        "for col in ['prompt', 'type', 'question']:\n",
        "    df[col] = df['task'].astype(int)\n",
        "df['subject'] = df['subject'].astype(int)\n",
        "# doublecheck - burczak reported ICC2k as 0.48 for uses\n",
        "cleaned = prep_general(df, **desc, save_dir='../data/datasets')\n",
        "cleaned.sample(2)"
      ]
    },
    {
      "cell_type": "markdown",
      "metadata": {
        "id": "UH3yOwIon4Ky"
      },
      "source": [
        "## Hofelich Mohr, Sell, and Lindsay 2016"
      ]
    },
    {
      "cell_type": "code",
      "execution_count": 243,
      "metadata": {},
      "outputs": [
        {
          "data": {
            "text/markdown": [
              "### Loading *Hofelich Mohr et al. 2016*"
            ],
            "text/plain": [
              "<IPython.core.display.Markdown object>"
            ]
          },
          "metadata": {},
          "output_type": "display_data"
        },
        {
          "data": {
            "text/markdown": [
              "Hofelich Mohr, A., Sell, A., & Lindsay, T. (2016). Thinking Inside the Box: Visual Design of the Response Box Affects Creative Divergent Thinking in an Online Survey. Social Science Computer Review, 34(3), 347–359. https://doi.org/10.1177/0894439315588736"
            ],
            "text/plain": [
              "<IPython.core.display.Markdown object>"
            ]
          },
          "metadata": {},
          "output_type": "display_data"
        },
        {
          "name": "stdout",
          "output_type": "stream",
          "text": [
            "Renaming columns {'Item': 'prompt', 'QLogin_1': 'participant'}\n",
            "Replacing 11 with NaN in response column\n",
            "Rater cols: ['J1_Rating', 'J2_Rating', 'J3_Rating', 'J4_Rating']\n",
            "Dropping 23 unrated items\n",
            "# of prompts 2\n",
            "# of participants 638\n",
            "# of data points 3843\n",
            "Prompts ['paperclip' 'brick']\n",
            "# of raters 4\n",
            "Intraclass correlation coefficients (report ICC2k)\n",
            "    Type              Description   ICC     F   df1    df2  pval         CI95%\n",
            "0   ICC1   Single raters absolute  0.30  2.71  3713  11142   0.0  [0.28, 0.32]\n",
            "1   ICC2     Single random raters  0.33  3.86  3713  11139   0.0  [0.22, 0.43]\n",
            "2   ICC3      Single fixed raters  0.42  3.86  3713  11139   0.0   [0.4, 0.43]\n",
            "3  ICC1k  Average raters absolute  0.63  2.71  3713  11142   0.0  [0.61, 0.65]\n",
            "4  ICC2k    Average random raters  0.67  3.86  3713  11139   0.0  [0.53, 0.75]\n",
            "5  ICC3k     Average fixed raters  0.74  3.86  3713  11139   0.0  [0.73, 0.75]\n"
          ]
        },
        {
          "data": {
            "text/html": [
              "<div>\n",
              "<style scoped>\n",
              "    .dataframe tbody tr th:only-of-type {\n",
              "        vertical-align: middle;\n",
              "    }\n",
              "\n",
              "    .dataframe tbody tr th {\n",
              "        vertical-align: top;\n",
              "    }\n",
              "\n",
              "    .dataframe thead th {\n",
              "        text-align: right;\n",
              "    }\n",
              "</style>\n",
              "<table border=\"1\" class=\"dataframe\">\n",
              "  <thead>\n",
              "    <tr style=\"text-align: right;\">\n",
              "      <th></th>\n",
              "      <th>type</th>\n",
              "      <th>src</th>\n",
              "      <th>question</th>\n",
              "      <th>prompt</th>\n",
              "      <th>response</th>\n",
              "      <th>id</th>\n",
              "      <th>target</th>\n",
              "      <th>participant</th>\n",
              "      <th>response_num</th>\n",
              "    </tr>\n",
              "  </thead>\n",
              "  <tbody>\n",
              "    <tr>\n",
              "      <th>769</th>\n",
              "      <td>uses</td>\n",
              "      <td>hmsl</td>\n",
              "      <td>What is a surprising use for a PAPERCLIP?</td>\n",
              "      <td>paperclip</td>\n",
              "      <td>use to spread cells on plates in a microbiolog...</td>\n",
              "      <td>hmsl_paperclip-125aa5</td>\n",
              "      <td>4.75025</td>\n",
              "      <td>hmslW8K1dDJu</td>\n",
              "      <td>4.0</td>\n",
              "    </tr>\n",
              "    <tr>\n",
              "      <th>3214</th>\n",
              "      <td>uses</td>\n",
              "      <td>hmsl</td>\n",
              "      <td>What is a surprising use for a BRICK?</td>\n",
              "      <td>brick</td>\n",
              "      <td>house</td>\n",
              "      <td>hmsl_brick-103a35</td>\n",
              "      <td>1.24975</td>\n",
              "      <td>hmslEoD82940</td>\n",
              "      <td>1.0</td>\n",
              "    </tr>\n",
              "  </tbody>\n",
              "</table>\n",
              "</div>"
            ],
            "text/plain": [
              "      type   src                                   question     prompt  \\\n",
              "769   uses  hmsl  What is a surprising use for a PAPERCLIP?  paperclip   \n",
              "3214  uses  hmsl      What is a surprising use for a BRICK?      brick   \n",
              "\n",
              "                                               response  \\\n",
              "769   use to spread cells on plates in a microbiolog...   \n",
              "3214                                              house   \n",
              "\n",
              "                         id   target   participant  response_num  \n",
              "769   hmsl_paperclip-125aa5  4.75025  hmslW8K1dDJu           4.0  \n",
              "3214      hmsl_brick-103a35  1.24975  hmslEoD82940           1.0  "
            ]
          },
          "execution_count": 243,
          "metadata": {},
          "output_type": "execute_result"
        }
      ],
      "source": [
        "desc = {\n",
        "    \"name\": \"hmsl\",\n",
        "    \"meta\": {\n",
        "        \"inline\": \"Hofelich Mohr et al. 2016\",\n",
        "        \"citation\": \"Hofelich Mohr, A., Sell, A., & Lindsay, T. (2016). Thinking Inside the Box: Visual Design of the Response Box Affects Creative Divergent Thinking in an Online Survey. Social Science Computer Review, 34(3), 347–359. https://doi.org/10.1177/0894439315588736\",\n",
        "        \"url\": \"https://doi.org/10.1177/0894439315588736\",\n",
        "        \"download\": {\n",
        "            \"url\": \"https://conservancy.umn.edu/bitstream/handle/11299/172116/HMSL_CSV%20Data%20Files.zip?sequence=28&isAllowed=y\",\n",
        "            \"extension\": \"zip\",\n",
        "            \"archive_files\": ['HMSL_Originality_scores_all.csv']   \n",
        "        }\n",
        "    },\n",
        "    \"null_marker\": 11,\n",
        "    \"column_mappings\": {'Item': 'prompt', 'QLogin_1':'participant'},\n",
        "    \"rater_cols\": ['J1_Rating','J2_Rating','J3_Rating','J4_Rating'],\n",
        "    \"range\": [1, 5],\n",
        "    \"language\": \"eng\",\n",
        "}\n",
        "\n",
        "fname = download_from_description(desc, '../data/raw')[0]\n",
        "df = pd.read_csv(fname)\n",
        "# Doublecheck ICC2k - burczak paper had icc2k=0.67\n",
        "cleaned = prep_general(df, **desc, save_dir='../data/datasets')\n",
        "cleaned.sample(2)"
      ]
    },
    {
      "cell_type": "markdown",
      "metadata": {
        "id": "VgNoUTqg_dQb"
      },
      "source": [
        "## Datasets used by Beaty and Johnson 2021\n",
        "\n",
        "From SemDis paper:\n",
        "\n",
        "- Study 1 was re-analysis of AUT responses from Beaty et al., 2018 to see if ensemble approaches work better. Two tests: `box` and `rope`\n",
        "   - according to their paper, using additive composition was slightly negative correlation, while multiplicative 'results revealed a large correlation between latent semantic distance and human ratings:$r=.91$, p<.001'. This uses a model that weighs the factors, but is (I think) tailored to the dataset without held out data.\n",
        "\n",
        "- Study 2 was re-analysis of results from Silvia et al. 2017, also on box and rope \n",
        "- Study 3 was brick - yet again - via Beaty and Silvia 2012\n",
        "- Study 4 and 5- Heinen and Johnson (2018) - were noun matching, not relevant here"
      ]
    },
    {
      "cell_type": "code",
      "execution_count": 244,
      "metadata": {},
      "outputs": [
        {
          "data": {
            "text/markdown": [
              "### Loading *Beaty et al., 2018*"
            ],
            "text/plain": [
              "<IPython.core.display.Markdown object>"
            ]
          },
          "metadata": {},
          "output_type": "display_data"
        },
        {
          "data": {
            "text/markdown": [
              "Beaty, R. E., Kenett, Y. N., Christensen, A. P., Rosenberg, M. D., Benedek, M., Chen, Q., Fink, A., Qiu, J., Kwapil, T. R., Kane, M. J., & Silvia, P. J. (2018). Robust prediction of individual creative ability from brain functional connectivity. Proceedings of the National Academy of Sciences, 115(5), 1087–1092. https://doi.org/10.1073/pnas.1713532115"
            ],
            "text/plain": [
              "<IPython.core.display.Markdown object>"
            ]
          },
          "metadata": {},
          "output_type": "display_data"
        },
        {
          "name": "stdout",
          "output_type": "stream",
          "text": [
            "Renaming columns {'id': 'participant', 'item': 'prompt'}\n",
            "Rater cols: ['rater1', 'rater2', 'rater3', 'rater4']\n",
            "# of prompts 2\n",
            "# of participants 171\n",
            "# of data points 2918\n",
            "Prompts ['box' 'rope']\n",
            "# of raters 4\n",
            "Intraclass correlation coefficients (report ICC2k)\n",
            "    Type              Description   ICC     F   df1   df2  pval         CI95%\n",
            "0   ICC1   Single raters absolute  0.52  5.26  2894  8685   0.0   [0.5, 0.53]\n",
            "1   ICC2     Single random raters  0.52  6.18  2894  8682   0.0  [0.46, 0.58]\n",
            "2   ICC3      Single fixed raters  0.56  6.18  2894  8682   0.0  [0.55, 0.58]\n",
            "3  ICC1k  Average raters absolute  0.81  5.26  2894  8685   0.0   [0.8, 0.82]\n",
            "4  ICC2k    Average random raters  0.82  6.18  2894  8682   0.0  [0.77, 0.85]\n",
            "5  ICC3k     Average fixed raters  0.84  6.18  2894  8682   0.0  [0.83, 0.85]\n"
          ]
        },
        {
          "data": {
            "text/html": [
              "<div>\n",
              "<style scoped>\n",
              "    .dataframe tbody tr th:only-of-type {\n",
              "        vertical-align: middle;\n",
              "    }\n",
              "\n",
              "    .dataframe tbody tr th {\n",
              "        vertical-align: top;\n",
              "    }\n",
              "\n",
              "    .dataframe thead th {\n",
              "        text-align: right;\n",
              "    }\n",
              "</style>\n",
              "<table border=\"1\" class=\"dataframe\">\n",
              "  <thead>\n",
              "    <tr style=\"text-align: right;\">\n",
              "      <th></th>\n",
              "      <th>type</th>\n",
              "      <th>src</th>\n",
              "      <th>question</th>\n",
              "      <th>prompt</th>\n",
              "      <th>response</th>\n",
              "      <th>id</th>\n",
              "      <th>target</th>\n",
              "      <th>participant</th>\n",
              "      <th>response_num</th>\n",
              "    </tr>\n",
              "  </thead>\n",
              "  <tbody>\n",
              "    <tr>\n",
              "      <th>2090</th>\n",
              "      <td>uses</td>\n",
              "      <td>betal18</td>\n",
              "      <td>What is a surprising use for a ROPE?</td>\n",
              "      <td>rope</td>\n",
              "      <td>a carpet beater</td>\n",
              "      <td>betal18_rope-26ef9e</td>\n",
              "      <td>2.50000</td>\n",
              "      <td>betal182063</td>\n",
              "      <td>None</td>\n",
              "    </tr>\n",
              "    <tr>\n",
              "      <th>2056</th>\n",
              "      <td>uses</td>\n",
              "      <td>betal18</td>\n",
              "      <td>What is a surprising use for a ROPE?</td>\n",
              "      <td>rope</td>\n",
              "      <td>trail marker</td>\n",
              "      <td>betal18_rope-6ed4eb</td>\n",
              "      <td>1.75025</td>\n",
              "      <td>betal182059</td>\n",
              "      <td>None</td>\n",
              "    </tr>\n",
              "  </tbody>\n",
              "</table>\n",
              "</div>"
            ],
            "text/plain": [
              "      type      src                              question prompt  \\\n",
              "2090  uses  betal18  What is a surprising use for a ROPE?   rope   \n",
              "2056  uses  betal18  What is a surprising use for a ROPE?   rope   \n",
              "\n",
              "             response                   id   target  participant response_num  \n",
              "2090  a carpet beater  betal18_rope-26ef9e  2.50000  betal182063         None  \n",
              "2056     trail marker  betal18_rope-6ed4eb  1.75025  betal182059         None  "
            ]
          },
          "metadata": {},
          "output_type": "display_data"
        },
        {
          "data": {
            "text/markdown": [
              "### Loading *Silvia et al., 2017*"
            ],
            "text/plain": [
              "<IPython.core.display.Markdown object>"
            ]
          },
          "metadata": {},
          "output_type": "display_data"
        },
        {
          "data": {
            "text/markdown": [
              "Silvia, P. J., Nusbaum, E. C., & Beaty, R. E. (2017). Old or New? Evaluating the Old/New Scoring Method for Divergent Thinking Tasks. The Journal of Creative Behavior, 51(3), 216–224. https://doi.org/10.1002/jocb.101"
            ],
            "text/plain": [
              "<IPython.core.display.Markdown object>"
            ]
          },
          "metadata": {},
          "output_type": "display_data"
        },
        {
          "name": "stdout",
          "output_type": "stream",
          "text": [
            "Renaming columns {'id': 'participant', 'item': 'prompt'}\n",
            "Rater cols: ['rater1', 'rater2', 'rater3']\n",
            "# of prompts 2\n",
            "# of participants 142\n",
            "# of data points 2372\n",
            "Prompts ['box' 'rope']\n",
            "# of raters 3\n",
            "Intraclass correlation coefficients (report ICC2k)\n",
            "    Type              Description   ICC     F   df1   df2  pval         CI95%\n",
            "0   ICC1   Single raters absolute  0.38  2.82  2352  4706   0.0   [0.35, 0.4]\n",
            "1   ICC2     Single random raters  0.40  3.57  2352  4704   0.0   [0.29, 0.5]\n",
            "2   ICC3      Single fixed raters  0.46  3.57  2352  4704   0.0  [0.44, 0.49]\n",
            "3  ICC1k  Average raters absolute  0.65  2.82  2352  4706   0.0  [0.62, 0.67]\n",
            "4  ICC2k    Average random raters  0.67  3.57  2352  4704   0.0  [0.55, 0.75]\n",
            "5  ICC3k     Average fixed raters  0.72  3.57  2352  4704   0.0   [0.7, 0.74]\n"
          ]
        },
        {
          "data": {
            "text/html": [
              "<div>\n",
              "<style scoped>\n",
              "    .dataframe tbody tr th:only-of-type {\n",
              "        vertical-align: middle;\n",
              "    }\n",
              "\n",
              "    .dataframe tbody tr th {\n",
              "        vertical-align: top;\n",
              "    }\n",
              "\n",
              "    .dataframe thead th {\n",
              "        text-align: right;\n",
              "    }\n",
              "</style>\n",
              "<table border=\"1\" class=\"dataframe\">\n",
              "  <thead>\n",
              "    <tr style=\"text-align: right;\">\n",
              "      <th></th>\n",
              "      <th>type</th>\n",
              "      <th>src</th>\n",
              "      <th>question</th>\n",
              "      <th>prompt</th>\n",
              "      <th>response</th>\n",
              "      <th>id</th>\n",
              "      <th>target</th>\n",
              "      <th>participant</th>\n",
              "      <th>response_num</th>\n",
              "    </tr>\n",
              "  </thead>\n",
              "  <tbody>\n",
              "    <tr>\n",
              "      <th>2363</th>\n",
              "      <td>uses</td>\n",
              "      <td>snb17</td>\n",
              "      <td>What is a surprising use for a ROPE?</td>\n",
              "      <td>rope</td>\n",
              "      <td>to use as a necklace</td>\n",
              "      <td>snb17_rope-aec441</td>\n",
              "      <td>1.667</td>\n",
              "      <td>snb17155</td>\n",
              "      <td>None</td>\n",
              "    </tr>\n",
              "    <tr>\n",
              "      <th>1661</th>\n",
              "      <td>uses</td>\n",
              "      <td>snb17</td>\n",
              "      <td>What is a surprising use for a ROPE?</td>\n",
              "      <td>rope</td>\n",
              "      <td>playing red rover</td>\n",
              "      <td>snb17_rope-1de706</td>\n",
              "      <td>1.666</td>\n",
              "      <td>snb1757</td>\n",
              "      <td>None</td>\n",
              "    </tr>\n",
              "  </tbody>\n",
              "</table>\n",
              "</div>"
            ],
            "text/plain": [
              "      type    src                              question prompt  \\\n",
              "2363  uses  snb17  What is a surprising use for a ROPE?   rope   \n",
              "1661  uses  snb17  What is a surprising use for a ROPE?   rope   \n",
              "\n",
              "                  response                 id  target participant response_num  \n",
              "2363  to use as a necklace  snb17_rope-aec441   1.667    snb17155         None  \n",
              "1661     playing red rover  snb17_rope-1de706   1.666     snb1757         None  "
            ]
          },
          "metadata": {},
          "output_type": "display_data"
        },
        {
          "data": {
            "text/markdown": [
              "### Loading *Beaty & Silvia, 2012*"
            ],
            "text/plain": [
              "<IPython.core.display.Markdown object>"
            ]
          },
          "metadata": {},
          "output_type": "display_data"
        },
        {
          "data": {
            "text/markdown": [
              "Beaty, R. E., & Silvia, P. J. (2012). Why do ideas get more creative across time? An executive interpretation of the serial order effect in divergent thinking tasks. Psychology of Aesthetics, Creativity, and the Arts, 6(4), 309–319. https://doi.org/10.1037/a0029171"
            ],
            "text/plain": [
              "<IPython.core.display.Markdown object>"
            ]
          },
          "metadata": {},
          "output_type": "display_data"
        },
        {
          "name": "stdout",
          "output_type": "stream",
          "text": [
            "Renaming columns {'id': 'participant', 'item': 'prompt'}\n",
            "Rater cols: ['br_rater1', 'br_rater2', 'br_rater3']\n",
            "# of prompts 1\n",
            "# of participants 133\n",
            "# of data points 1807\n",
            "Prompts ['brick']\n",
            "# of raters 3\n",
            "Intraclass correlation coefficients (report ICC2k)\n",
            "    Type              Description   ICC     F   df1   df2  pval         CI95%\n",
            "0   ICC1   Single raters absolute  0.43  3.24  1800  3602   0.0   [0.4, 0.46]\n",
            "1   ICC2     Single random raters  0.46  4.46  1800  3600   0.0   [0.3, 0.57]\n",
            "2   ICC3      Single fixed raters  0.54  4.46  1800  3600   0.0  [0.51, 0.56]\n",
            "3  ICC1k  Average raters absolute  0.69  3.24  1800  3602   0.0  [0.67, 0.72]\n",
            "4  ICC2k    Average random raters  0.72  4.46  1800  3600   0.0   [0.56, 0.8]\n",
            "5  ICC3k     Average fixed raters  0.78  4.46  1800  3600   0.0  [0.76, 0.79]\n"
          ]
        },
        {
          "data": {
            "text/html": [
              "<div>\n",
              "<style scoped>\n",
              "    .dataframe tbody tr th:only-of-type {\n",
              "        vertical-align: middle;\n",
              "    }\n",
              "\n",
              "    .dataframe tbody tr th {\n",
              "        vertical-align: top;\n",
              "    }\n",
              "\n",
              "    .dataframe thead th {\n",
              "        text-align: right;\n",
              "    }\n",
              "</style>\n",
              "<table border=\"1\" class=\"dataframe\">\n",
              "  <thead>\n",
              "    <tr style=\"text-align: right;\">\n",
              "      <th></th>\n",
              "      <th>type</th>\n",
              "      <th>src</th>\n",
              "      <th>question</th>\n",
              "      <th>prompt</th>\n",
              "      <th>response</th>\n",
              "      <th>id</th>\n",
              "      <th>target</th>\n",
              "      <th>participant</th>\n",
              "      <th>response_num</th>\n",
              "    </tr>\n",
              "  </thead>\n",
              "  <tbody>\n",
              "    <tr>\n",
              "      <th>1503</th>\n",
              "      <td>uses</td>\n",
              "      <td>bs12</td>\n",
              "      <td>What is a surprising use for a BRICK?</td>\n",
              "      <td>brick</td>\n",
              "      <td>play frisbee</td>\n",
              "      <td>bs12_brick-9bd94e</td>\n",
              "      <td>1.667</td>\n",
              "      <td>bs12109</td>\n",
              "      <td>None</td>\n",
              "    </tr>\n",
              "    <tr>\n",
              "      <th>1497</th>\n",
              "      <td>uses</td>\n",
              "      <td>bs12</td>\n",
              "      <td>What is a surprising use for a BRICK?</td>\n",
              "      <td>brick</td>\n",
              "      <td>put on a loose roof during a hurricane or stor...</td>\n",
              "      <td>bs12_brick-cf2dad</td>\n",
              "      <td>1.333</td>\n",
              "      <td>bs12108</td>\n",
              "      <td>None</td>\n",
              "    </tr>\n",
              "  </tbody>\n",
              "</table>\n",
              "</div>"
            ],
            "text/plain": [
              "      type   src                               question prompt  \\\n",
              "1503  uses  bs12  What is a surprising use for a BRICK?  brick   \n",
              "1497  uses  bs12  What is a surprising use for a BRICK?  brick   \n",
              "\n",
              "                                               response                 id  \\\n",
              "1503                                       play frisbee  bs12_brick-9bd94e   \n",
              "1497  put on a loose roof during a hurricane or stor...  bs12_brick-cf2dad   \n",
              "\n",
              "      target participant response_num  \n",
              "1503   1.667     bs12109         None  \n",
              "1497   1.333     bs12108         None  "
            ]
          },
          "metadata": {},
          "output_type": "display_data"
        }
      ],
      "source": [
        "desc = {\n",
        "    \"name\": \"bj21\",\n",
        "    \"meta\": {\n",
        "        \"inline\": \"Beaty and Johnson 2021\",\n",
        "        \"citation\": \"Beaty, R. E., & Johnson, D. R. (2021). Automating creativity assessment with SemDis: An open platform for computing semantic distance. Behavior Research Methods, 53(2), 757–780. https://doi.org/10.3758/s13428-020-01453-w\",\n",
        "        \"url\": \"https://doi.org/10.3758/s13428-020-01453-w\",\n",
        "        \"download\": {\n",
        "            \"url\": \"https://files.osf.io/v1/resources/gz4fc/providers/osfstorage/5e45b6c73e86a800be6e662e/?zip=\",\n",
        "            \"extension\": \"zip\",\n",
        "            \"archive_files\": ['Study 1/s1_data_long.xlsx',\n",
        "                              'Study 2/s2_data_long.xlsx',\n",
        "                              'Study 3/s3_data_long.xlsx']   \n",
        "        }\n",
        "    },\n",
        "    \"column_mappings\": {'id':'participant', 'item':'prompt'},\n",
        "    \"range\": [1, 5],\n",
        "    \"language\": \"eng\",\n",
        "}\n",
        "\n",
        "substudies = [\n",
        "    {\n",
        "        \"name\": \"betal18\",\n",
        "        \"meta\": {\n",
        "            \"inline\": \"Beaty et al., 2018\",\n",
        "            \"citation\": \"Beaty, R. E., Kenett, Y. N., Christensen, A. P., Rosenberg, M. D., Benedek, M., Chen, Q., Fink, A., Qiu, J., Kwapil, T. R., Kane, M. J., & Silvia, P. J. (2018). Robust prediction of individual creative ability from brain functional connectivity. Proceedings of the National Academy of Sciences, 115(5), 1087–1092. https://doi.org/10.1073/pnas.1713532115\"\n",
        "        }\n",
        "    },\n",
        "    {\n",
        "        \"name\": \"snb17\",\n",
        "        \"meta\": {\n",
        "            \"inline\": \"Silvia et al., 2017\",\n",
        "            \"citation\": \"Silvia, P. J., Nusbaum, E. C., & Beaty, R. E. (2017). Old or New? Evaluating the Old/New Scoring Method for Divergent Thinking Tasks. The Journal of Creative Behavior, 51(3), 216–224. https://doi.org/10.1002/jocb.101\"\n",
        "        }\n",
        "    },\n",
        "    {\n",
        "        \"name\": \"bs12\",\n",
        "        \"meta\": {\n",
        "            \"inline\": \"Beaty & Silvia, 2012\",\n",
        "            \"citation\": \"Beaty, R. E., & Silvia, P. J. (2012). Why do ideas get more creative across time? An executive interpretation of the serial order effect in divergent thinking tasks. Psychology of Aesthetics, Creativity, and the Arts, 6(4), 309–319. https://doi.org/10.1037/a0029171\"\n",
        "        }\n",
        "    },\n",
        "\n",
        "]\n",
        "\n",
        "fnames = download_from_description(desc, '../data/raw')\n",
        "# the data comes from past studies, so we'll rename the files\n",
        "# individually to their original studies\n",
        "for fname,substudy in zip(fnames, substudies):\n",
        "    new_desc = desc.copy()\n",
        "    new_desc.update(substudy)\n",
        "    df = pd.read_excel(fname)\n",
        "    cleaned = prep_general(df, **new_desc, save_dir='../data/datasets')\n",
        "    display(cleaned.sample(2))\n"
      ]
    },
    {
      "cell_type": "code",
      "execution_count": 153,
      "metadata": {},
      "outputs": [
        {
          "data": {
            "text/markdown": [
              "### Loading *Beaty et al., 2018*"
            ],
            "text/plain": [
              "<IPython.core.display.Markdown object>"
            ]
          },
          "metadata": {},
          "output_type": "display_data"
        },
        {
          "data": {
            "text/markdown": [
              "Beaty, R. E., Kenett, Y. N., Christensen, A. P., Rosenberg, M. D., Benedek, M., Chen, Q., Fink, A., Qiu, J., Kwapil, T. R., Kane, M. J., & Silvia, P. J. (2018). Robust prediction of individual creative ability from brain functional connectivity. Proceedings of the National Academy of Sciences, 115(5), 1087–1092. https://doi.org/10.1073/pnas.1713532115"
            ],
            "text/plain": [
              "<IPython.core.display.Markdown object>"
            ]
          },
          "metadata": {},
          "output_type": "display_data"
        },
        {
          "name": "stdout",
          "output_type": "stream",
          "text": [
            "Renaming columns {'id': 'participant', 'item': 'prompt'}\n",
            "Rater cols: ['rater1', 'rater2', 'rater3', 'rater4']\n",
            "# of prompts 2\n",
            "# of participants 171\n",
            "# of data points 2918\n",
            "Prompts ['box' 'rope']\n",
            "# of raters 4\n",
            "Intraclass correlation coefficients (report ICC2k)\n",
            "    Type              Description   ICC     F   df1   df2  pval         CI95%\n",
            "0   ICC1   Single raters absolute  0.52  5.26  2894  8685   0.0   [0.5, 0.53]\n",
            "1   ICC2     Single random raters  0.52  6.18  2894  8682   0.0  [0.46, 0.58]\n",
            "2   ICC3      Single fixed raters  0.56  6.18  2894  8682   0.0  [0.55, 0.58]\n",
            "3  ICC1k  Average raters absolute  0.81  5.26  2894  8685   0.0   [0.8, 0.82]\n",
            "4  ICC2k    Average random raters  0.82  6.18  2894  8682   0.0  [0.77, 0.85]\n",
            "5  ICC3k     Average fixed raters  0.84  6.18  2894  8682   0.0  [0.83, 0.85]\n"
          ]
        },
        {
          "data": {
            "text/markdown": [
              "### Loading *Silvia et al., 2017*"
            ],
            "text/plain": [
              "<IPython.core.display.Markdown object>"
            ]
          },
          "metadata": {},
          "output_type": "display_data"
        },
        {
          "data": {
            "text/markdown": [
              "Silvia, P. J., Nusbaum, E. C., & Beaty, R. E. (2017). Old or New? Evaluating the Old/New Scoring Method for Divergent Thinking Tasks. The Journal of Creative Behavior, 51(3), 216–224. https://doi.org/10.1002/jocb.101"
            ],
            "text/plain": [
              "<IPython.core.display.Markdown object>"
            ]
          },
          "metadata": {},
          "output_type": "display_data"
        },
        {
          "name": "stdout",
          "output_type": "stream",
          "text": [
            "Renaming columns {'id': 'participant', 'item': 'prompt'}\n",
            "Rater cols: ['rater1', 'rater2', 'rater3']\n",
            "# of prompts 2\n",
            "# of participants 142\n",
            "# of data points 2372\n",
            "Prompts ['box' 'rope']\n",
            "# of raters 3\n",
            "Intraclass correlation coefficients (report ICC2k)\n",
            "    Type              Description   ICC     F   df1   df2  pval         CI95%\n",
            "0   ICC1   Single raters absolute  0.38  2.82  2352  4706   0.0   [0.35, 0.4]\n",
            "1   ICC2     Single random raters  0.40  3.57  2352  4704   0.0   [0.29, 0.5]\n",
            "2   ICC3      Single fixed raters  0.46  3.57  2352  4704   0.0  [0.44, 0.49]\n",
            "3  ICC1k  Average raters absolute  0.65  2.82  2352  4706   0.0  [0.62, 0.67]\n",
            "4  ICC2k    Average random raters  0.67  3.57  2352  4704   0.0  [0.55, 0.75]\n",
            "5  ICC3k     Average fixed raters  0.72  3.57  2352  4704   0.0   [0.7, 0.74]\n"
          ]
        },
        {
          "data": {
            "text/markdown": [
              "### Loading *Beaty & Silvia, 2012*"
            ],
            "text/plain": [
              "<IPython.core.display.Markdown object>"
            ]
          },
          "metadata": {},
          "output_type": "display_data"
        },
        {
          "data": {
            "text/markdown": [
              "Beaty, R. E., & Silvia, P. J. (2012). Why do ideas get more creative across time? An executive interpretation of the serial order effect in divergent thinking tasks. Psychology of Aesthetics, Creativity, and the Arts, 6(4), 309–319. https://doi.org/10.1037/a0029171"
            ],
            "text/plain": [
              "<IPython.core.display.Markdown object>"
            ]
          },
          "metadata": {},
          "output_type": "display_data"
        },
        {
          "name": "stdout",
          "output_type": "stream",
          "text": [
            "Renaming columns {'id': 'participant', 'item': 'prompt'}\n",
            "Rater cols: ['br_rater1', 'br_rater2', 'br_rater3']\n",
            "# of prompts 1\n",
            "# of participants 133\n",
            "# of data points 1807\n",
            "Prompts ['brick']\n",
            "# of raters 3\n",
            "Intraclass correlation coefficients (report ICC2k)\n",
            "    Type              Description   ICC     F   df1   df2  pval         CI95%\n",
            "0   ICC1   Single raters absolute  0.43  3.24  1800  3602   0.0   [0.4, 0.46]\n",
            "1   ICC2     Single random raters  0.46  4.46  1800  3600   0.0   [0.3, 0.57]\n",
            "2   ICC3      Single fixed raters  0.54  4.46  1800  3600   0.0  [0.51, 0.56]\n",
            "3  ICC1k  Average raters absolute  0.69  3.24  1800  3602   0.0  [0.67, 0.72]\n",
            "4  ICC2k    Average random raters  0.72  4.46  1800  3600   0.0   [0.56, 0.8]\n",
            "5  ICC3k     Average fixed raters  0.78  4.46  1800  3600   0.0  [0.76, 0.79]\n"
          ]
        }
      ],
      "source": []
    },
    {
      "cell_type": "markdown",
      "metadata": {
        "id": "8H-WPj9MeGrS"
      },
      "source": [
        "## MOTES Pilot\n",
        "\n",
        "MOTES is related to the \"Measuring Original Thinking in Elementary Students: A Text-Mining Approach\" (IES #R305A200519). This data is related to a high stakes test and is limited to research access. If you're a creativity research, please reach out to request it from <peter.organisciak@du.edu> and/or <selcuk.acar@unt.edu>."
      ]
    },
    {
      "cell_type": "code",
      "execution_count": 245,
      "metadata": {},
      "outputs": [
        {
          "data": {
            "text/markdown": [
              "### Loading *Acar et al., 2023*"
            ],
            "text/plain": [
              "<IPython.core.display.Markdown object>"
            ]
          },
          "metadata": {},
          "output_type": "display_data"
        },
        {
          "data": {
            "text/markdown": [
              "Acar, S., Dumas, D., Organisciak, P., Berthiaume, K. (2023). Measuring original thinking in elementary school: Development and validation of a computational psychometric approach. Journal of Educational Psychology. http://dx.doi.org/10.13140/RG.2.2.19804.56968"
            ],
            "text/plain": [
              "<IPython.core.display.Markdown object>"
            ]
          },
          "metadata": {},
          "output_type": "display_data"
        },
        {
          "name": "stdout",
          "output_type": "stream",
          "text": [
            "Rater cols: ['D', 'K', 'T']\n",
            "# of prompts 29\n",
            "# of participants 35\n",
            "# of data points 963\n",
            "Prompts ['backpack' 'ball' 'bottle' 'hat' 'lightbulb' 'pencil' 'shoe' 'sock'\n",
            " 'spoon' 'toothbrush' 'big' 'cold' 'fun' 'red' 'smelly' 'soft' 'tasty'\n",
            " 'wet' 'aliens landed' 'kid president' 'rain soda' 'teacher read minds'\n",
            " 'time travel' 'friend phone' 'library' 'playground' 'school bus'\n",
            " 'sleepover' 'teacher talking']\n",
            "# of raters 3\n",
            "Intraclass correlation coefficients (report ICC2k)\n",
            "    Type              Description   ICC     F  df1   df2  pval         CI95%\n",
            "0   ICC1   Single raters absolute  0.46  3.52  962  1926   0.0  [0.42, 0.49]\n",
            "1   ICC2     Single random raters  0.47  4.02  962  1924   0.0  [0.39, 0.53]\n",
            "2   ICC3      Single fixed raters  0.50  4.02  962  1924   0.0  [0.46, 0.54]\n",
            "3  ICC1k  Average raters absolute  0.72  3.52  962  1926   0.0  [0.68, 0.75]\n",
            "4  ICC2k    Average random raters  0.73  4.02  962  1924   0.0  [0.66, 0.78]\n",
            "5  ICC3k     Average fixed raters  0.75  4.02  962  1924   0.0  [0.72, 0.78]\n"
          ]
        },
        {
          "data": {
            "text/html": [
              "<div>\n",
              "<style scoped>\n",
              "    .dataframe tbody tr th:only-of-type {\n",
              "        vertical-align: middle;\n",
              "    }\n",
              "\n",
              "    .dataframe tbody tr th {\n",
              "        vertical-align: top;\n",
              "    }\n",
              "\n",
              "    .dataframe thead th {\n",
              "        text-align: right;\n",
              "    }\n",
              "</style>\n",
              "<table border=\"1\" class=\"dataframe\">\n",
              "  <thead>\n",
              "    <tr style=\"text-align: right;\">\n",
              "      <th></th>\n",
              "      <th>type</th>\n",
              "      <th>src</th>\n",
              "      <th>question</th>\n",
              "      <th>prompt</th>\n",
              "      <th>response</th>\n",
              "      <th>id</th>\n",
              "      <th>target</th>\n",
              "      <th>participant</th>\n",
              "      <th>response_num</th>\n",
              "    </tr>\n",
              "  </thead>\n",
              "  <tbody>\n",
              "    <tr>\n",
              "      <th>139</th>\n",
              "      <td>uses</td>\n",
              "      <td>motesp</td>\n",
              "      <td>What is a surprising use for a LIGHTBULB?</td>\n",
              "      <td>lightbulb</td>\n",
              "      <td>Use it for a big thing like using 100 light bu...</td>\n",
              "      <td>motesp_g1_lightbulb-f6f31c</td>\n",
              "      <td>1.888667</td>\n",
              "      <td>motesp14ML</td>\n",
              "      <td>None</td>\n",
              "    </tr>\n",
              "    <tr>\n",
              "      <th>498</th>\n",
              "      <td>instances</td>\n",
              "      <td>motesp</td>\n",
              "      <td>What is a surprising example of something SMELLY?</td>\n",
              "      <td>smelly</td>\n",
              "      <td>An example of something smelly is trash! Trash...</td>\n",
              "      <td>motesp_g2_smelly-f64aae</td>\n",
              "      <td>2.333333</td>\n",
              "      <td>motesp4SG</td>\n",
              "      <td>None</td>\n",
              "    </tr>\n",
              "  </tbody>\n",
              "</table>\n",
              "</div>"
            ],
            "text/plain": [
              "          type     src                                           question  \\\n",
              "139       uses  motesp          What is a surprising use for a LIGHTBULB?   \n",
              "498  instances  motesp  What is a surprising example of something SMELLY?   \n",
              "\n",
              "        prompt                                           response  \\\n",
              "139  lightbulb  Use it for a big thing like using 100 light bu...   \n",
              "498     smelly  An example of something smelly is trash! Trash...   \n",
              "\n",
              "                             id    target participant response_num  \n",
              "139  motesp_g1_lightbulb-f6f31c  1.888667  motesp14ML         None  \n",
              "498     motesp_g2_smelly-f64aae  2.333333   motesp4SG         None  "
            ]
          },
          "execution_count": 245,
          "metadata": {},
          "output_type": "execute_result"
        }
      ],
      "source": [
        "desc = {\n",
        "    \"name\": \"motesp\",\n",
        "    \"meta\": {\n",
        "        \"inline\": \"Acar et al., 2023\",\n",
        "        \"citation\": \"Acar, S., Dumas, D., Organisciak, P., Berthiaume, K. (2023). Measuring original thinking in elementary school: Development and validation of a computational psychometric approach. Journal of Educational Psychology. http://dx.doi.org/10.13140/RG.2.2.19804.56968\",\n",
        "        \"url\": \"http://dx.doi.org/10.13140/RG.2.2.19804.56968\",\n",
        "        \"download\": {}\n",
        "    },\n",
        "    \"rater_cols\": ['D', 'K', 'T'],\n",
        "    \"range\": [1, 7],\n",
        "    \"language\": \"eng\",\n",
        "}\n",
        "df = pd.read_csv('../data/raw/motesp_0.csv')\n",
        "cleaned = prep_general(df, **desc, save_dir='../data/datasets')\n",
        "cleaned.sample(2)"
      ]
    },
    {
      "cell_type": "code",
      "execution_count": null,
      "metadata": {
        "colab": {
          "base_uri": "https://localhost:8080/",
          "height": 380
        },
        "id": "9d5mIJsYQ7oD",
        "outputId": "a8cca78f-cd4c-4012-ef5a-b7fdb7df4baa"
      },
      "outputs": [
        {
          "name": "stdout",
          "output_type": "stream",
          "text": [
            "Rater cols: ['rater1', 'rater2', 'rater3']\n",
            "# of prompts 10\n",
            "# of participants 35\n",
            "# of data points 339\n",
            "Prompts ['backpack' 'ball' 'bottle' 'hat' 'lightbulb' 'pencil' 'shoe' 'sock'\n",
            " 'spoon' 'toothbrush']\n",
            "# of raters 3\n",
            "Intraclass correlation coefficients (report ICC2k)\n"
          ]
        },
        {
          "data": {
            "text/html": [
              "\n",
              "  <div id=\"df-c0b45988-7b36-4e25-aa9d-4edd9fbbd468\">\n",
              "    <div class=\"colab-df-container\">\n",
              "      <div>\n",
              "<style scoped>\n",
              "    .dataframe tbody tr th:only-of-type {\n",
              "        vertical-align: middle;\n",
              "    }\n",
              "\n",
              "    .dataframe tbody tr th {\n",
              "        vertical-align: top;\n",
              "    }\n",
              "\n",
              "    .dataframe thead th {\n",
              "        text-align: right;\n",
              "    }\n",
              "</style>\n",
              "<table border=\"1\" class=\"dataframe\">\n",
              "  <thead>\n",
              "    <tr style=\"text-align: right;\">\n",
              "      <th></th>\n",
              "      <th>Type</th>\n",
              "      <th>Description</th>\n",
              "      <th>ICC</th>\n",
              "      <th>F</th>\n",
              "      <th>df1</th>\n",
              "      <th>df2</th>\n",
              "      <th>pval</th>\n",
              "      <th>CI95%</th>\n",
              "    </tr>\n",
              "  </thead>\n",
              "  <tbody>\n",
              "    <tr>\n",
              "      <th>0</th>\n",
              "      <td>ICC1</td>\n",
              "      <td>Single raters absolute</td>\n",
              "      <td>0.58</td>\n",
              "      <td>5.15</td>\n",
              "      <td>338</td>\n",
              "      <td>678</td>\n",
              "      <td>0.0</td>\n",
              "      <td>[0.52, 0.63]</td>\n",
              "    </tr>\n",
              "    <tr>\n",
              "      <th>1</th>\n",
              "      <td>ICC2</td>\n",
              "      <td>Single random raters</td>\n",
              "      <td>0.58</td>\n",
              "      <td>5.28</td>\n",
              "      <td>338</td>\n",
              "      <td>676</td>\n",
              "      <td>0.0</td>\n",
              "      <td>[0.52, 0.64]</td>\n",
              "    </tr>\n",
              "    <tr>\n",
              "      <th>2</th>\n",
              "      <td>ICC3</td>\n",
              "      <td>Single fixed raters</td>\n",
              "      <td>0.59</td>\n",
              "      <td>5.28</td>\n",
              "      <td>338</td>\n",
              "      <td>676</td>\n",
              "      <td>0.0</td>\n",
              "      <td>[0.53, 0.64]</td>\n",
              "    </tr>\n",
              "    <tr>\n",
              "      <th>3</th>\n",
              "      <td>ICC1k</td>\n",
              "      <td>Average raters absolute</td>\n",
              "      <td>0.81</td>\n",
              "      <td>5.15</td>\n",
              "      <td>338</td>\n",
              "      <td>678</td>\n",
              "      <td>0.0</td>\n",
              "      <td>[0.77, 0.84]</td>\n",
              "    </tr>\n",
              "    <tr>\n",
              "      <th>4</th>\n",
              "      <td>ICC2k</td>\n",
              "      <td>Average random raters</td>\n",
              "      <td>0.81</td>\n",
              "      <td>5.28</td>\n",
              "      <td>338</td>\n",
              "      <td>676</td>\n",
              "      <td>0.0</td>\n",
              "      <td>[0.77, 0.84]</td>\n",
              "    </tr>\n",
              "    <tr>\n",
              "      <th>5</th>\n",
              "      <td>ICC3k</td>\n",
              "      <td>Average fixed raters</td>\n",
              "      <td>0.81</td>\n",
              "      <td>5.28</td>\n",
              "      <td>338</td>\n",
              "      <td>676</td>\n",
              "      <td>0.0</td>\n",
              "      <td>[0.77, 0.84]</td>\n",
              "    </tr>\n",
              "  </tbody>\n",
              "</table>\n",
              "</div>\n",
              "      <button class=\"colab-df-convert\" onclick=\"convertToInteractive('df-c0b45988-7b36-4e25-aa9d-4edd9fbbd468')\"\n",
              "              title=\"Convert this dataframe to an interactive table.\"\n",
              "              style=\"display:none;\">\n",
              "        \n",
              "  <svg xmlns=\"http://www.w3.org/2000/svg\" height=\"24px\"viewBox=\"0 0 24 24\"\n",
              "       width=\"24px\">\n",
              "    <path d=\"M0 0h24v24H0V0z\" fill=\"none\"/>\n",
              "    <path d=\"M18.56 5.44l.94 2.06.94-2.06 2.06-.94-2.06-.94-.94-2.06-.94 2.06-2.06.94zm-11 1L8.5 8.5l.94-2.06 2.06-.94-2.06-.94L8.5 2.5l-.94 2.06-2.06.94zm10 10l.94 2.06.94-2.06 2.06-.94-2.06-.94-.94-2.06-.94 2.06-2.06.94z\"/><path d=\"M17.41 7.96l-1.37-1.37c-.4-.4-.92-.59-1.43-.59-.52 0-1.04.2-1.43.59L10.3 9.45l-7.72 7.72c-.78.78-.78 2.05 0 2.83L4 21.41c.39.39.9.59 1.41.59.51 0 1.02-.2 1.41-.59l7.78-7.78 2.81-2.81c.8-.78.8-2.07 0-2.86zM5.41 20L4 18.59l7.72-7.72 1.47 1.35L5.41 20z\"/>\n",
              "  </svg>\n",
              "      </button>\n",
              "      \n",
              "  <style>\n",
              "    .colab-df-container {\n",
              "      display:flex;\n",
              "      flex-wrap:wrap;\n",
              "      gap: 12px;\n",
              "    }\n",
              "\n",
              "    .colab-df-convert {\n",
              "      background-color: #E8F0FE;\n",
              "      border: none;\n",
              "      border-radius: 50%;\n",
              "      cursor: pointer;\n",
              "      display: none;\n",
              "      fill: #1967D2;\n",
              "      height: 32px;\n",
              "      padding: 0 0 0 0;\n",
              "      width: 32px;\n",
              "    }\n",
              "\n",
              "    .colab-df-convert:hover {\n",
              "      background-color: #E2EBFA;\n",
              "      box-shadow: 0px 1px 2px rgba(60, 64, 67, 0.3), 0px 1px 3px 1px rgba(60, 64, 67, 0.15);\n",
              "      fill: #174EA6;\n",
              "    }\n",
              "\n",
              "    [theme=dark] .colab-df-convert {\n",
              "      background-color: #3B4455;\n",
              "      fill: #D2E3FC;\n",
              "    }\n",
              "\n",
              "    [theme=dark] .colab-df-convert:hover {\n",
              "      background-color: #434B5C;\n",
              "      box-shadow: 0px 1px 3px 1px rgba(0, 0, 0, 0.15);\n",
              "      filter: drop-shadow(0px 1px 2px rgba(0, 0, 0, 0.3));\n",
              "      fill: #FFFFFF;\n",
              "    }\n",
              "  </style>\n",
              "\n",
              "      <script>\n",
              "        const buttonEl =\n",
              "          document.querySelector('#df-c0b45988-7b36-4e25-aa9d-4edd9fbbd468 button.colab-df-convert');\n",
              "        buttonEl.style.display =\n",
              "          google.colab.kernel.accessAllowed ? 'block' : 'none';\n",
              "\n",
              "        async function convertToInteractive(key) {\n",
              "          const element = document.querySelector('#df-c0b45988-7b36-4e25-aa9d-4edd9fbbd468');\n",
              "          const dataTable =\n",
              "            await google.colab.kernel.invokeFunction('convertToInteractive',\n",
              "                                                     [key], {});\n",
              "          if (!dataTable) return;\n",
              "\n",
              "          const docLinkHtml = 'Like what you see? Visit the ' +\n",
              "            '<a target=\"_blank\" href=https://colab.research.google.com/notebooks/data_table.ipynb>data table notebook</a>'\n",
              "            + ' to learn more about interactive tables.';\n",
              "          element.innerHTML = '';\n",
              "          dataTable['output_type'] = 'display_data';\n",
              "          await google.colab.output.renderOutput(dataTable, element);\n",
              "          const docLink = document.createElement('div');\n",
              "          docLink.innerHTML = docLinkHtml;\n",
              "          element.appendChild(docLink);\n",
              "        }\n",
              "      </script>\n",
              "    </div>\n",
              "  </div>\n",
              "  "
            ],
            "text/plain": [
              "    Type              Description   ICC     F  df1  df2  pval         CI95%\n",
              "0   ICC1   Single raters absolute  0.58  5.15  338  678   0.0  [0.52, 0.63]\n",
              "1   ICC2     Single random raters  0.58  5.28  338  676   0.0  [0.52, 0.64]\n",
              "2   ICC3      Single fixed raters  0.59  5.28  338  676   0.0  [0.53, 0.64]\n",
              "3  ICC1k  Average raters absolute  0.81  5.15  338  678   0.0  [0.77, 0.84]\n",
              "4  ICC2k    Average random raters  0.81  5.28  338  676   0.0  [0.77, 0.84]\n",
              "5  ICC3k     Average fixed raters  0.81  5.28  338  676   0.0  [0.77, 0.84]"
            ]
          },
          "metadata": {},
          "output_type": "display_data"
        }
      ],
      "source": [
        "src = 'motesp'\n",
        "motes_pilot = pd.read_csv(os.path.join(base_dir, 'motes_pilot_gt_scores.csv')).rename(columns=dict(D='rater1', K='rater2', T='rater3', ID='participant'))\n",
        "motes_pilot['type'] = motes_pilot.task.apply(lambda x: x.split('_')[0])\n",
        "datasets[desc['name']] = prep_general(df, **desc)\n",
        "datasets[desc['name']].sample(2)"
      ]
    },
    {
      "cell_type": "markdown",
      "metadata": {
        "id": "tbICpoGS4nvR"
      },
      "source": [
        "## MOTES\n",
        "\n",
        "This is the post-pilot data. As with the pilot data, this dataset is available on request. Please reach out!"
      ]
    },
    {
      "cell_type": "code",
      "execution_count": 246,
      "metadata": {},
      "outputs": [
        {
          "data": {
            "text/markdown": [
              "### Loading *Acar et al., 2023*"
            ],
            "text/plain": [
              "<IPython.core.display.Markdown object>"
            ]
          },
          "metadata": {},
          "output_type": "display_data"
        },
        {
          "data": {
            "text/markdown": [
              "Acar, S., Dumas, D., Organisciak, P., Berthiaume, K. (2023). Measuring original thinking in elementary school: Development and validation of a computational psychometric approach. Journal of Educational Psychology. http://dx.doi.org/10.13140/RG.2.2.19804.56968"
            ],
            "text/plain": [
              "<IPython.core.display.Markdown object>"
            ]
          },
          "metadata": {},
          "output_type": "display_data"
        },
        {
          "name": "stdout",
          "output_type": "stream",
          "text": [
            "Renaming columns {'ID': 'participant'}\n",
            "Replacing -999 with NaN in response column\n",
            "Rater cols: ['Kscore', 'Hscore', 'Cscore', 'Tscore', 'Mscore']\n",
            "# of prompts 24\n",
            "# of participants 386\n",
            "# of data points 8563\n",
            "Prompts ['ball' 'sock' 'pencil' 'spoon' 'lightbulb' 'hat' 'bottle' 'toothbrush'\n",
            " 'smelly' 'soft' 'red' 'frozen' 'wet' 'huge' 'fun' 'tasty' 'school bus'\n",
            " 'games' 'library' 'lecture' 'phone' 'rain' 'closet' 'lunchroom']\n",
            "# of raters 5\n",
            "Intraclass correlation coefficients (report ICC2k)\n",
            "    Type              Description   ICC     F   df1    df2  pval         CI95%\n",
            "0   ICC1   Single raters absolute  0.40  4.34  8559  34240   0.0  [0.39, 0.41]\n",
            "1   ICC2     Single random raters  0.42  6.41  8559  34236   0.0   [0.3, 0.52]\n",
            "2   ICC3      Single fixed raters  0.52  6.41  8559  34236   0.0  [0.51, 0.53]\n",
            "3  ICC1k  Average raters absolute  0.77  4.34  8559  34240   0.0  [0.76, 0.78]\n",
            "4  ICC2k    Average random raters  0.79  6.41  8559  34236   0.0  [0.69, 0.85]\n",
            "5  ICC3k     Average fixed raters  0.84  6.41  8559  34236   0.0  [0.84, 0.85]\n"
          ]
        },
        {
          "data": {
            "text/html": [
              "<div>\n",
              "<style scoped>\n",
              "    .dataframe tbody tr th:only-of-type {\n",
              "        vertical-align: middle;\n",
              "    }\n",
              "\n",
              "    .dataframe tbody tr th {\n",
              "        vertical-align: top;\n",
              "    }\n",
              "\n",
              "    .dataframe thead th {\n",
              "        text-align: right;\n",
              "    }\n",
              "</style>\n",
              "<table border=\"1\" class=\"dataframe\">\n",
              "  <thead>\n",
              "    <tr style=\"text-align: right;\">\n",
              "      <th></th>\n",
              "      <th>type</th>\n",
              "      <th>src</th>\n",
              "      <th>question</th>\n",
              "      <th>prompt</th>\n",
              "      <th>response</th>\n",
              "      <th>id</th>\n",
              "      <th>target</th>\n",
              "      <th>participant</th>\n",
              "      <th>response_num</th>\n",
              "    </tr>\n",
              "  </thead>\n",
              "  <tbody>\n",
              "    <tr>\n",
              "      <th>5500</th>\n",
              "      <td>instances</td>\n",
              "      <td>motesf</td>\n",
              "      <td>What is a surprising example of something TASTY?</td>\n",
              "      <td>tasty</td>\n",
              "      <td>The cafeteria's corn-bread</td>\n",
              "      <td>motesf_tasty-1b4507</td>\n",
              "      <td>2.3996</td>\n",
              "      <td>motesfc9f0f8</td>\n",
              "      <td>6</td>\n",
              "    </tr>\n",
              "    <tr>\n",
              "      <th>6807</th>\n",
              "      <td>completion</td>\n",
              "      <td>motesf</td>\n",
              "      <td>Complete this sentence in a surprising way: \"W...</td>\n",
              "      <td>library</td>\n",
              "      <td>there was people screaming</td>\n",
              "      <td>motesf_library-d0f74f</td>\n",
              "      <td>2.3996</td>\n",
              "      <td>motesfd39577</td>\n",
              "      <td>7</td>\n",
              "    </tr>\n",
              "  </tbody>\n",
              "</table>\n",
              "</div>"
            ],
            "text/plain": [
              "            type     src                                           question  \\\n",
              "5500   instances  motesf   What is a surprising example of something TASTY?   \n",
              "6807  completion  motesf  Complete this sentence in a surprising way: \"W...   \n",
              "\n",
              "       prompt                    response                     id  target  \\\n",
              "5500    tasty  The cafeteria's corn-bread    motesf_tasty-1b4507  2.3996   \n",
              "6807  library  there was people screaming  motesf_library-d0f74f  2.3996   \n",
              "\n",
              "       participant  response_num  \n",
              "5500  motesfc9f0f8             6  \n",
              "6807  motesfd39577             7  "
            ]
          },
          "execution_count": 246,
          "metadata": {},
          "output_type": "execute_result"
        }
      ],
      "source": [
        "desc = {\n",
        "    \"name\": \"motesf\",\n",
        "    \"meta\": {\n",
        "        \"inline\": \"Acar et al., 2023\",\n",
        "        \"citation\": \"Acar, S., Dumas, D., Organisciak, P., Berthiaume, K. (2023). Measuring original thinking in elementary school: Development and validation of a computational psychometric approach. Journal of Educational Psychology. http://dx.doi.org/10.13140/RG.2.2.19804.56968\",\n",
        "        \"url\": \"http://dx.doi.org/10.13140/RG.2.2.19804.56968\",\n",
        "        \"download\": {}\n",
        "    },\n",
        "    \"column_mappings\": {'ID':'participant'},\n",
        "    \"null_marker\": -999,\n",
        "    \"rater_cols\": [\"Kscore\", \"Hscore\", \"Cscore\", \"Tscore\", \"Mscore\"],\n",
        "    \"range\": [1, 5], # note different scale than motesp pilot\n",
        "    \"language\": \"eng\",\n",
        "}\n",
        "# data was already reshaped to long format for previous study\n",
        "df = pd.read_csv('../data/raw/motesf_0.csv')\n",
        "cleaned = prep_general(df, **desc, save_dir='../data/datasets')\n",
        "cleaned.sample(2)"
      ]
    },
    {
      "cell_type": "code",
      "execution_count": null,
      "metadata": {
        "colab": {
          "base_uri": "https://localhost:8080/",
          "height": 301
        },
        "id": "dDWDbuTf94vS",
        "outputId": "9b23149d-3696-4f31-d587-7bae3279ce8f"
      },
      "outputs": [
        {
          "data": {
            "text/html": [
              "\n",
              "  <div id=\"df-9c36acb3-c589-4c6c-b892-b2014b191fc1\">\n",
              "    <div class=\"colab-df-container\">\n",
              "      <div>\n",
              "<style scoped>\n",
              "    .dataframe tbody tr th:only-of-type {\n",
              "        vertical-align: middle;\n",
              "    }\n",
              "\n",
              "    .dataframe tbody tr th {\n",
              "        vertical-align: top;\n",
              "    }\n",
              "\n",
              "    .dataframe thead th {\n",
              "        text-align: right;\n",
              "    }\n",
              "</style>\n",
              "<table border=\"1\" class=\"dataframe\">\n",
              "  <thead>\n",
              "    <tr style=\"text-align: right;\">\n",
              "      <th></th>\n",
              "      <th>Type</th>\n",
              "      <th>Description</th>\n",
              "      <th>ICC</th>\n",
              "      <th>F</th>\n",
              "      <th>df1</th>\n",
              "      <th>df2</th>\n",
              "      <th>pval</th>\n",
              "      <th>CI95%</th>\n",
              "    </tr>\n",
              "  </thead>\n",
              "  <tbody>\n",
              "    <tr>\n",
              "      <th>0</th>\n",
              "      <td>ICC1</td>\n",
              "      <td>Single raters absolute</td>\n",
              "      <td>0.40</td>\n",
              "      <td>4.34</td>\n",
              "      <td>8535</td>\n",
              "      <td>34144</td>\n",
              "      <td>0.0</td>\n",
              "      <td>[0.39, 0.41]</td>\n",
              "    </tr>\n",
              "    <tr>\n",
              "      <th>1</th>\n",
              "      <td>ICC2</td>\n",
              "      <td>Single random raters</td>\n",
              "      <td>0.42</td>\n",
              "      <td>6.40</td>\n",
              "      <td>8535</td>\n",
              "      <td>34140</td>\n",
              "      <td>0.0</td>\n",
              "      <td>[0.3, 0.52]</td>\n",
              "    </tr>\n",
              "    <tr>\n",
              "      <th>2</th>\n",
              "      <td>ICC3</td>\n",
              "      <td>Single fixed raters</td>\n",
              "      <td>0.52</td>\n",
              "      <td>6.40</td>\n",
              "      <td>8535</td>\n",
              "      <td>34140</td>\n",
              "      <td>0.0</td>\n",
              "      <td>[0.51, 0.53]</td>\n",
              "    </tr>\n",
              "    <tr>\n",
              "      <th>3</th>\n",
              "      <td>ICC1k</td>\n",
              "      <td>Average raters absolute</td>\n",
              "      <td>0.77</td>\n",
              "      <td>4.34</td>\n",
              "      <td>8535</td>\n",
              "      <td>34144</td>\n",
              "      <td>0.0</td>\n",
              "      <td>[0.76, 0.78]</td>\n",
              "    </tr>\n",
              "    <tr>\n",
              "      <th>4</th>\n",
              "      <td>ICC2k</td>\n",
              "      <td>Average random raters</td>\n",
              "      <td>0.79</td>\n",
              "      <td>6.40</td>\n",
              "      <td>8535</td>\n",
              "      <td>34140</td>\n",
              "      <td>0.0</td>\n",
              "      <td>[0.69, 0.85]</td>\n",
              "    </tr>\n",
              "    <tr>\n",
              "      <th>5</th>\n",
              "      <td>ICC3k</td>\n",
              "      <td>Average fixed raters</td>\n",
              "      <td>0.84</td>\n",
              "      <td>6.40</td>\n",
              "      <td>8535</td>\n",
              "      <td>34140</td>\n",
              "      <td>0.0</td>\n",
              "      <td>[0.84, 0.85]</td>\n",
              "    </tr>\n",
              "  </tbody>\n",
              "</table>\n",
              "</div>\n",
              "      <button class=\"colab-df-convert\" onclick=\"convertToInteractive('df-9c36acb3-c589-4c6c-b892-b2014b191fc1')\"\n",
              "              title=\"Convert this dataframe to an interactive table.\"\n",
              "              style=\"display:none;\">\n",
              "        \n",
              "  <svg xmlns=\"http://www.w3.org/2000/svg\" height=\"24px\"viewBox=\"0 0 24 24\"\n",
              "       width=\"24px\">\n",
              "    <path d=\"M0 0h24v24H0V0z\" fill=\"none\"/>\n",
              "    <path d=\"M18.56 5.44l.94 2.06.94-2.06 2.06-.94-2.06-.94-.94-2.06-.94 2.06-2.06.94zm-11 1L8.5 8.5l.94-2.06 2.06-.94-2.06-.94L8.5 2.5l-.94 2.06-2.06.94zm10 10l.94 2.06.94-2.06 2.06-.94-2.06-.94-.94-2.06-.94 2.06-2.06.94z\"/><path d=\"M17.41 7.96l-1.37-1.37c-.4-.4-.92-.59-1.43-.59-.52 0-1.04.2-1.43.59L10.3 9.45l-7.72 7.72c-.78.78-.78 2.05 0 2.83L4 21.41c.39.39.9.59 1.41.59.51 0 1.02-.2 1.41-.59l7.78-7.78 2.81-2.81c.8-.78.8-2.07 0-2.86zM5.41 20L4 18.59l7.72-7.72 1.47 1.35L5.41 20z\"/>\n",
              "  </svg>\n",
              "      </button>\n",
              "      \n",
              "  <style>\n",
              "    .colab-df-container {\n",
              "      display:flex;\n",
              "      flex-wrap:wrap;\n",
              "      gap: 12px;\n",
              "    }\n",
              "\n",
              "    .colab-df-convert {\n",
              "      background-color: #E8F0FE;\n",
              "      border: none;\n",
              "      border-radius: 50%;\n",
              "      cursor: pointer;\n",
              "      display: none;\n",
              "      fill: #1967D2;\n",
              "      height: 32px;\n",
              "      padding: 0 0 0 0;\n",
              "      width: 32px;\n",
              "    }\n",
              "\n",
              "    .colab-df-convert:hover {\n",
              "      background-color: #E2EBFA;\n",
              "      box-shadow: 0px 1px 2px rgba(60, 64, 67, 0.3), 0px 1px 3px 1px rgba(60, 64, 67, 0.15);\n",
              "      fill: #174EA6;\n",
              "    }\n",
              "\n",
              "    [theme=dark] .colab-df-convert {\n",
              "      background-color: #3B4455;\n",
              "      fill: #D2E3FC;\n",
              "    }\n",
              "\n",
              "    [theme=dark] .colab-df-convert:hover {\n",
              "      background-color: #434B5C;\n",
              "      box-shadow: 0px 1px 3px 1px rgba(0, 0, 0, 0.15);\n",
              "      filter: drop-shadow(0px 1px 2px rgba(0, 0, 0, 0.3));\n",
              "      fill: #FFFFFF;\n",
              "    }\n",
              "  </style>\n",
              "\n",
              "      <script>\n",
              "        const buttonEl =\n",
              "          document.querySelector('#df-9c36acb3-c589-4c6c-b892-b2014b191fc1 button.colab-df-convert');\n",
              "        buttonEl.style.display =\n",
              "          google.colab.kernel.accessAllowed ? 'block' : 'none';\n",
              "\n",
              "        async function convertToInteractive(key) {\n",
              "          const element = document.querySelector('#df-9c36acb3-c589-4c6c-b892-b2014b191fc1');\n",
              "          const dataTable =\n",
              "            await google.colab.kernel.invokeFunction('convertToInteractive',\n",
              "                                                     [key], {});\n",
              "          if (!dataTable) return;\n",
              "\n",
              "          const docLinkHtml = 'Like what you see? Visit the ' +\n",
              "            '<a target=\"_blank\" href=https://colab.research.google.com/notebooks/data_table.ipynb>data table notebook</a>'\n",
              "            + ' to learn more about interactive tables.';\n",
              "          element.innerHTML = '';\n",
              "          dataTable['output_type'] = 'display_data';\n",
              "          await google.colab.output.renderOutput(dataTable, element);\n",
              "          const docLink = document.createElement('div');\n",
              "          docLink.innerHTML = docLinkHtml;\n",
              "          element.appendChild(docLink);\n",
              "        }\n",
              "      </script>\n",
              "    </div>\n",
              "  </div>\n",
              "  "
            ],
            "text/plain": [
              "    Type              Description   ICC     F   df1    df2  pval         CI95%\n",
              "0   ICC1   Single raters absolute  0.40  4.34  8535  34144   0.0  [0.39, 0.41]\n",
              "1   ICC2     Single random raters  0.42  6.40  8535  34140   0.0   [0.3, 0.52]\n",
              "2   ICC3      Single fixed raters  0.52  6.40  8535  34140   0.0  [0.51, 0.53]\n",
              "3  ICC1k  Average raters absolute  0.77  4.34  8535  34144   0.0  [0.76, 0.78]\n",
              "4  ICC2k    Average random raters  0.79  6.40  8535  34140   0.0  [0.69, 0.85]\n",
              "5  ICC3k     Average fixed raters  0.84  6.40  8535  34140   0.0  [0.84, 0.85]"
            ]
          },
          "metadata": {},
          "output_type": "display_data"
        },
        {
          "data": {
            "text/html": [
              "\n",
              "  <div id=\"df-be75537f-1d7c-4952-bcce-3ca2a4bd51ab\">\n",
              "    <div class=\"colab-df-container\">\n",
              "      <div>\n",
              "<style scoped>\n",
              "    .dataframe tbody tr th:only-of-type {\n",
              "        vertical-align: middle;\n",
              "    }\n",
              "\n",
              "    .dataframe tbody tr th {\n",
              "        vertical-align: top;\n",
              "    }\n",
              "\n",
              "    .dataframe thead th {\n",
              "        text-align: right;\n",
              "    }\n",
              "</style>\n",
              "<table border=\"1\" class=\"dataframe\">\n",
              "  <thead>\n",
              "    <tr style=\"text-align: right;\">\n",
              "      <th></th>\n",
              "      <th>type</th>\n",
              "      <th>src</th>\n",
              "      <th>question</th>\n",
              "      <th>prompt</th>\n",
              "      <th>response</th>\n",
              "      <th>id</th>\n",
              "      <th>target</th>\n",
              "      <th>participant</th>\n",
              "      <th>response_num</th>\n",
              "    </tr>\n",
              "  </thead>\n",
              "  <tbody>\n",
              "    <tr>\n",
              "      <th>5093</th>\n",
              "      <td>instances</td>\n",
              "      <td>motesf</td>\n",
              "      <td>What is a surprising example of something HUGE?</td>\n",
              "      <td>huge</td>\n",
              "      <td>my dad is bigger than me.</td>\n",
              "      <td>motesf_huge-6cae</td>\n",
              "      <td>2.6</td>\n",
              "      <td>motesf138bb0</td>\n",
              "      <td>8</td>\n",
              "    </tr>\n",
              "  </tbody>\n",
              "</table>\n",
              "</div>\n",
              "      <button class=\"colab-df-convert\" onclick=\"convertToInteractive('df-be75537f-1d7c-4952-bcce-3ca2a4bd51ab')\"\n",
              "              title=\"Convert this dataframe to an interactive table.\"\n",
              "              style=\"display:none;\">\n",
              "        \n",
              "  <svg xmlns=\"http://www.w3.org/2000/svg\" height=\"24px\"viewBox=\"0 0 24 24\"\n",
              "       width=\"24px\">\n",
              "    <path d=\"M0 0h24v24H0V0z\" fill=\"none\"/>\n",
              "    <path d=\"M18.56 5.44l.94 2.06.94-2.06 2.06-.94-2.06-.94-.94-2.06-.94 2.06-2.06.94zm-11 1L8.5 8.5l.94-2.06 2.06-.94-2.06-.94L8.5 2.5l-.94 2.06-2.06.94zm10 10l.94 2.06.94-2.06 2.06-.94-2.06-.94-.94-2.06-.94 2.06-2.06.94z\"/><path d=\"M17.41 7.96l-1.37-1.37c-.4-.4-.92-.59-1.43-.59-.52 0-1.04.2-1.43.59L10.3 9.45l-7.72 7.72c-.78.78-.78 2.05 0 2.83L4 21.41c.39.39.9.59 1.41.59.51 0 1.02-.2 1.41-.59l7.78-7.78 2.81-2.81c.8-.78.8-2.07 0-2.86zM5.41 20L4 18.59l7.72-7.72 1.47 1.35L5.41 20z\"/>\n",
              "  </svg>\n",
              "      </button>\n",
              "      \n",
              "  <style>\n",
              "    .colab-df-container {\n",
              "      display:flex;\n",
              "      flex-wrap:wrap;\n",
              "      gap: 12px;\n",
              "    }\n",
              "\n",
              "    .colab-df-convert {\n",
              "      background-color: #E8F0FE;\n",
              "      border: none;\n",
              "      border-radius: 50%;\n",
              "      cursor: pointer;\n",
              "      display: none;\n",
              "      fill: #1967D2;\n",
              "      height: 32px;\n",
              "      padding: 0 0 0 0;\n",
              "      width: 32px;\n",
              "    }\n",
              "\n",
              "    .colab-df-convert:hover {\n",
              "      background-color: #E2EBFA;\n",
              "      box-shadow: 0px 1px 2px rgba(60, 64, 67, 0.3), 0px 1px 3px 1px rgba(60, 64, 67, 0.15);\n",
              "      fill: #174EA6;\n",
              "    }\n",
              "\n",
              "    [theme=dark] .colab-df-convert {\n",
              "      background-color: #3B4455;\n",
              "      fill: #D2E3FC;\n",
              "    }\n",
              "\n",
              "    [theme=dark] .colab-df-convert:hover {\n",
              "      background-color: #434B5C;\n",
              "      box-shadow: 0px 1px 3px 1px rgba(0, 0, 0, 0.15);\n",
              "      filter: drop-shadow(0px 1px 2px rgba(0, 0, 0, 0.3));\n",
              "      fill: #FFFFFF;\n",
              "    }\n",
              "  </style>\n",
              "\n",
              "      <script>\n",
              "        const buttonEl =\n",
              "          document.querySelector('#df-be75537f-1d7c-4952-bcce-3ca2a4bd51ab button.colab-df-convert');\n",
              "        buttonEl.style.display =\n",
              "          google.colab.kernel.accessAllowed ? 'block' : 'none';\n",
              "\n",
              "        async function convertToInteractive(key) {\n",
              "          const element = document.querySelector('#df-be75537f-1d7c-4952-bcce-3ca2a4bd51ab');\n",
              "          const dataTable =\n",
              "            await google.colab.kernel.invokeFunction('convertToInteractive',\n",
              "                                                     [key], {});\n",
              "          if (!dataTable) return;\n",
              "\n",
              "          const docLinkHtml = 'Like what you see? Visit the ' +\n",
              "            '<a target=\"_blank\" href=https://colab.research.google.com/notebooks/data_table.ipynb>data table notebook</a>'\n",
              "            + ' to learn more about interactive tables.';\n",
              "          element.innerHTML = '';\n",
              "          dataTable['output_type'] = 'display_data';\n",
              "          await google.colab.output.renderOutput(dataTable, element);\n",
              "          const docLink = document.createElement('div');\n",
              "          docLink.innerHTML = docLinkHtml;\n",
              "          element.appendChild(docLink);\n",
              "        }\n",
              "      </script>\n",
              "    </div>\n",
              "  </div>\n",
              "  "
            ],
            "text/plain": [
              "           type     src                                         question  \\\n",
              "5093  instances  motesf  What is a surprising example of something HUGE?   \n",
              "\n",
              "     prompt                   response                id  target  \\\n",
              "5093   huge  my dad is bigger than me.  motesf_huge-6cae     2.6   \n",
              "\n",
              "       participant response_num  \n",
              "5093  motesf138bb0            8  "
            ]
          },
          "execution_count": 203,
          "metadata": {},
          "output_type": "execute_result"
        }
      ],
      "source": [
        "src = 'motesf'\n",
        "\n",
        "corrected = True # use spelling corrected columns\n",
        "items = [col.replace('_prompt', '') for col in df.columns if col.startswith('G') and col.endswith('_prompt')]\n",
        "\n",
        "collector = []\n",
        "# RESHAPE TO long\n",
        "for item in items:\n",
        "    subset = df[['participant'] + [col for col in df.columns if col.startswith(item)]].copy()\n",
        "    subset.columns = [col.split('_')[-1] for col in subset.columns]\n",
        "    subset['game'] = item.split('_')[0]\n",
        "    subset['prompt_code'] = item\n",
        "    collector.append(subset)\n",
        "reshaped = pd.concat(collector)\n",
        "# remove non-responses\n",
        "reshaped = reshaped[~reshaped.raw.isna()]\n",
        "# restore original wording in the test\n",
        "reshaped.prompt =reshaped.prompt.str.replace('light bulbs', 'lightbulb').str.replace('hat cap', 'hat').str.replace('soccer ball', 'ball').str.replace('lead pencil', 'pencil').str.replace('spoons', 'spoon')\n",
        "\n",
        "# add display order\n",
        "displayorder = df[['participant'] + [col for col in df.columns if 'DO' in col]]\n",
        "displayorder = displayorder.melt(id_vars='participant', value_name='prompt_code')\n",
        "displayorder['response_num'] = displayorder.variable.apply(lambda x:x[-1])\n",
        "reshaped = reshaped.merge(displayorder[['participant', 'prompt_code', 'response_num']])\n",
        "# use spelling corrected response, unless set otherwise\n",
        "reshaped = reshaped.rename(columns={('corrected' if corrected else 'raw'):'response'})\n",
        "reshaped['type'] = reshaped['game'].replace({'G1':'uses', 'G2': 'instances', 'G3':'completion'})\n",
        "\n",
        "completion_ref = {\n",
        "    \"playground\": \"When the friends met on the playground...\",\n",
        "    \"school bus\": \"When I got on the school bus...\",\n",
        "    \"games\": \"At a sleepover we...\",\n",
        "    'library': \"When the kids were in the library...\",\n",
        "    'lecture': \"When the teacher was talking...\",\n",
        "    'phone': \"My friend called me on the phone to tell me...\",\n",
        "    'rain': \"It started raining and...\",\n",
        "    'closet': \"When I opened my closet...\",\n",
        "    'lunchroom': \"When I was at lunch...\"\n",
        "}\n",
        "reshaped.loc[reshaped.type == 'uses', 'question'] = reshaped.loc[reshaped.type == 'uses', 'prompt'].apply(lambda x: f\"What is a surprising use for a {x.upper()}?\")\n",
        "reshaped.loc[reshaped.type == 'instances','question'] = reshaped.loc[reshaped.type == 'instances', 'prompt'].apply(lambda x: f\"What is a surprising example of something {x.upper()}?\")\n",
        "reshaped.loc[(reshaped.type == 'completion'), 'question'] = reshaped.loc[reshaped.type == 'completion', 'prompt'].replace(completion_ref).str.replace(\"(.*)\", 'Complete this sentence in a surprising way: \"\\\\1\"...', regex=True)\n",
        "\n",
        "datasets[src] = prep_general(reshaped, src,\n",
        "                             rater_cols=[col for col in reshaped if 'score' in col.lower()],\n",
        "                             include_rater_std=include_rater_std, inputrange=(1,5))\n",
        "\n",
        "datasets[src].sample()"
      ]
    }
  ],
  "metadata": {
    "colab": {
      "authorship_tag": "ABX9TyP/4DeAWbHGaXxKUYl0C2Du",
      "collapsed_sections": [
        "zltQcwkXeRvk",
        "vJqyd2UHDCMZ",
        "UH3yOwIon4Ky",
        "VgNoUTqg_dQb",
        "laa40OuiNV2X",
        "8H-WPj9MeGrS",
        "9mbZjzsjIuW8"
      ],
      "include_colab_link": true,
      "mount_file_id": "1bZ0PDifSqhWhAUwuLK4BCt0Mke50ww-Q",
      "provenance": []
    },
    "kernelspec": {
      "display_name": "Python 3",
      "name": "python3"
    },
    "language_info": {
      "codemirror_mode": {
        "name": "ipython",
        "version": 3
      },
      "file_extension": ".py",
      "mimetype": "text/x-python",
      "name": "python",
      "nbconvert_exporter": "python",
      "pygments_lexer": "ipython3",
      "version": "3.9.12"
    }
  },
  "nbformat": 4,
  "nbformat_minor": 0
}
