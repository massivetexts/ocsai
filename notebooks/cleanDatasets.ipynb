{
  "cells": [
    {
      "cell_type": "markdown",
      "metadata": {
        "id": "eXqu-c24fsZs"
      },
      "source": [
        "This notebook normalizes human judged ground truth from various originality and creativity scoring studies.\n",
        "\n",
        "This is an assortment of studies, with different demographics, goals, and test setups. It is most appropriate for supervised learning of automated scoring, where we're not necessarily trying to learn about the participants but about the *human judges* - how they interpret the originality scoring task in general."
      ]
    },
    {
      "cell_type": "code",
      "execution_count": 1,
      "metadata": {},
      "outputs": [],
      "source": [
        "%load_ext autoreload\n",
        "%autoreload 2"
      ]
    },
    {
      "cell_type": "code",
      "execution_count": 2,
      "metadata": {},
      "outputs": [],
      "source": [
        "from ocsai.data import download_from_description, prep_general\n",
        "import pandas as pd"
      ]
    },
    {
      "cell_type": "markdown",
      "metadata": {},
      "source": [
        "## Dumas et al 2020"
      ]
    },
    {
      "cell_type": "code",
      "execution_count": 3,
      "metadata": {},
      "outputs": [
        {
          "data": {
            "text/markdown": [
              "### Loading *Dumas et al 2020*"
            ],
            "text/plain": [
              "<IPython.core.display.Markdown object>"
            ]
          },
          "metadata": {},
          "output_type": "display_data"
        },
        {
          "name": "stdout",
          "output_type": "stream",
          "text": [
            "Replacing !!! with NaN in response column\n"
          ]
        },
        {
          "data": {
            "text/markdown": [
              "- name: dod20\n",
              "- no_of_prompts: 10\n",
              "- no_of_participants: 92\n",
              "- no_of_data_points: 5490\n",
              "- prompts: ['book', 'bottle', 'brick', 'fork', 'pants', 'rope', 'shoe', 'shovel', 'table', 'tire']\n",
              "- ICC2k: 0.85\n",
              "- ICC2k_CI: 0.79-0.88\n",
              "- ICC3k: 0.87\n",
              "- rater_cols: ['rater1', 'rater2', 'rater3', 'rater4']\n",
              "- no_of_raters: 4\n"
            ],
            "text/plain": [
              "<IPython.core.display.Markdown object>"
            ]
          },
          "metadata": {},
          "output_type": "display_data"
        },
        {
          "name": "stderr",
          "output_type": "stream",
          "text": [
            "/Users/peter.organisciak/anaconda3/lib/python3.9/site-packages/pandas/io/sql.py:761: UserWarning: pandas only support SQLAlchemy connectable(engine/connection) ordatabase string URI or sqlite3 DBAPI2 connectionother DBAPI2 objects are not tested, please consider using SQLAlchemy\n",
            "  warnings.warn(\n"
          ]
        },
        {
          "data": {
            "text/html": [
              "<div>\n",
              "<style scoped>\n",
              "    .dataframe tbody tr th:only-of-type {\n",
              "        vertical-align: middle;\n",
              "    }\n",
              "\n",
              "    .dataframe tbody tr th {\n",
              "        vertical-align: top;\n",
              "    }\n",
              "\n",
              "    .dataframe thead th {\n",
              "        text-align: right;\n",
              "    }\n",
              "</style>\n",
              "<table border=\"1\" class=\"dataframe\">\n",
              "  <thead>\n",
              "    <tr style=\"text-align: right;\">\n",
              "      <th></th>\n",
              "      <th>type</th>\n",
              "      <th>src</th>\n",
              "      <th>question</th>\n",
              "      <th>prompt</th>\n",
              "      <th>response</th>\n",
              "      <th>id</th>\n",
              "      <th>target</th>\n",
              "      <th>participant</th>\n",
              "      <th>response_num</th>\n",
              "    </tr>\n",
              "  </thead>\n",
              "  <tbody>\n",
              "    <tr>\n",
              "      <th>1391</th>\n",
              "      <td>uses</td>\n",
              "      <td>dod20</td>\n",
              "      <td>What is a surprising use for a SHOVEL?</td>\n",
              "      <td>shovel</td>\n",
              "      <td>scoop out water</td>\n",
              "      <td>dod20_shovel-cd11c0</td>\n",
              "      <td>2.5005</td>\n",
              "      <td>dod2013</td>\n",
              "      <td>7</td>\n",
              "    </tr>\n",
              "    <tr>\n",
              "      <th>2805</th>\n",
              "      <td>uses</td>\n",
              "      <td>dod20</td>\n",
              "      <td>What is a suprising use for PANTS?</td>\n",
              "      <td>pants</td>\n",
              "      <td>status</td>\n",
              "      <td>dod20_pants-73cf7d</td>\n",
              "      <td>2.0000</td>\n",
              "      <td>dod2037</td>\n",
              "      <td>7</td>\n",
              "    </tr>\n",
              "  </tbody>\n",
              "</table>\n",
              "</div>"
            ],
            "text/plain": [
              "      type    src                                question  prompt  \\\n",
              "1391  uses  dod20  What is a surprising use for a SHOVEL?  shovel   \n",
              "2805  uses  dod20      What is a suprising use for PANTS?   pants   \n",
              "\n",
              "             response                   id  target participant  response_num  \n",
              "1391  scoop out water  dod20_shovel-cd11c0  2.5005     dod2013             7  \n",
              "2805           status   dod20_pants-73cf7d  2.0000     dod2037             7  "
            ]
          },
          "execution_count": 3,
          "metadata": {},
          "output_type": "execute_result"
        }
      ],
      "source": [
        "desc = {\n",
        "    \"name\": \"dod20\",\n",
        "    \"test_type\": \"uses\",\n",
        "    \"meta\": {\n",
        "        \"inline\": \"Dumas et al 2020\",\n",
        "        \"download\": {\"url\": \"https://osf.io/download/u3yv4/\", \"extension\": \"csv\"}\n",
        "    },\n",
        "    \"null_marker\": \"!!!\",\n",
        "    \"column_mappings\": {},\n",
        "    \"range\": [1, 5],\n",
        "    \"language\": \"eng\",\n",
        "}\n",
        "\n",
        "fname = download_from_description(desc, '../data/raw')\n",
        "df = pd.read_csv(fname[0], index_col=0)\n",
        "cleaned = prep_general(df, **desc, save_dir='../data/datasets')\n",
        "cleaned.sample(2)"
      ]
    },
    {
      "cell_type": "markdown",
      "metadata": {},
      "source": [
        "## Silvia et al 2009"
      ]
    },
    {
      "cell_type": "code",
      "execution_count": 4,
      "metadata": {},
      "outputs": [
        {
          "data": {
            "text/markdown": [
              "### Loading *Silvia et al. 2009*"
            ],
            "text/plain": [
              "<IPython.core.display.Markdown object>"
            ]
          },
          "metadata": {},
          "output_type": "display_data"
        },
        {
          "data": {
            "text/markdown": [
              "Silvia, P. J., Nusbaum, E. C., Berg, C., Martin, C., & O'Connor, A. (2009). Openness to experience, plasticity, and creativity: Exploring lower-order, high-order, and interactive effects. Journal of Research in Personality, 43(6), 1087–1090. https://doi.org/10.1016/j.jrp.2009.04.015"
            ],
            "text/plain": [
              "<IPython.core.display.Markdown object>"
            ]
          },
          "metadata": {},
          "output_type": "display_data"
        },
        {
          "data": {
            "text/markdown": [
              "- Renaming columns {'subject': 'participant', 'response_order': 'response_num'}"
            ],
            "text/plain": [
              "<IPython.core.display.Markdown object>"
            ]
          },
          "metadata": {},
          "output_type": "display_data"
        },
        {
          "name": "stdout",
          "output_type": "stream",
          "text": [
            "Dropping 10 unrated items\n"
          ]
        },
        {
          "data": {
            "text/markdown": [
              "- name: snbmo09\n",
              "- no_of_prompts: 3\n",
              "- no_of_participants: 202\n",
              "- no_of_data_points: 4099\n",
              "- prompts: ['brick', 'knife', 'box']\n",
              "- ICC2k: 0.69\n",
              "- ICC2k_CI: 0.57-0.77\n",
              "- ICC3k: 0.76\n",
              "- rater_cols: ['rater_1', 'rater_2', 'rater_3', 'rater_4']\n",
              "- no_of_raters: 4\n"
            ],
            "text/plain": [
              "<IPython.core.display.Markdown object>"
            ]
          },
          "metadata": {},
          "output_type": "display_data"
        },
        {
          "name": "stderr",
          "output_type": "stream",
          "text": [
            "/Users/peter.organisciak/anaconda3/lib/python3.9/site-packages/pandas/io/sql.py:761: UserWarning: pandas only support SQLAlchemy connectable(engine/connection) ordatabase string URI or sqlite3 DBAPI2 connectionother DBAPI2 objects are not tested, please consider using SQLAlchemy\n",
            "  warnings.warn(\n"
          ]
        },
        {
          "data": {
            "text/html": [
              "<div>\n",
              "<style scoped>\n",
              "    .dataframe tbody tr th:only-of-type {\n",
              "        vertical-align: middle;\n",
              "    }\n",
              "\n",
              "    .dataframe tbody tr th {\n",
              "        vertical-align: top;\n",
              "    }\n",
              "\n",
              "    .dataframe thead th {\n",
              "        text-align: right;\n",
              "    }\n",
              "</style>\n",
              "<table border=\"1\" class=\"dataframe\">\n",
              "  <thead>\n",
              "    <tr style=\"text-align: right;\">\n",
              "      <th></th>\n",
              "      <th>type</th>\n",
              "      <th>src</th>\n",
              "      <th>question</th>\n",
              "      <th>prompt</th>\n",
              "      <th>response</th>\n",
              "      <th>id</th>\n",
              "      <th>target</th>\n",
              "      <th>participant</th>\n",
              "      <th>response_num</th>\n",
              "    </tr>\n",
              "  </thead>\n",
              "  <tbody>\n",
              "    <tr>\n",
              "      <th>2615</th>\n",
              "      <td>uses</td>\n",
              "      <td>snbmo09</td>\n",
              "      <td>What is a surprising use for a KNIFE?</td>\n",
              "      <td>knife</td>\n",
              "      <td>play darts with</td>\n",
              "      <td>snbmo09_2_knife-45f033</td>\n",
              "      <td>1.50000</td>\n",
              "      <td>snbmo09128</td>\n",
              "      <td>3</td>\n",
              "    </tr>\n",
              "    <tr>\n",
              "      <th>2323</th>\n",
              "      <td>uses</td>\n",
              "      <td>snbmo09</td>\n",
              "      <td>What is a surprising use for a BOX?</td>\n",
              "      <td>box</td>\n",
              "      <td>turn it over and use it as a table</td>\n",
              "      <td>snbmo09_3_box-8de05d</td>\n",
              "      <td>1.75025</td>\n",
              "      <td>snbmo09113</td>\n",
              "      <td>4</td>\n",
              "    </tr>\n",
              "  </tbody>\n",
              "</table>\n",
              "</div>"
            ],
            "text/plain": [
              "      type      src                               question prompt  \\\n",
              "2615  uses  snbmo09  What is a surprising use for a KNIFE?  knife   \n",
              "2323  uses  snbmo09    What is a surprising use for a BOX?    box   \n",
              "\n",
              "                                response                      id   target  \\\n",
              "2615                     play darts with  snbmo09_2_knife-45f033  1.50000   \n",
              "2323  turn it over and use it as a table    snbmo09_3_box-8de05d  1.75025   \n",
              "\n",
              "     participant  response_num  \n",
              "2615  snbmo09128             3  \n",
              "2323  snbmo09113             4  "
            ]
          },
          "execution_count": 4,
          "metadata": {},
          "output_type": "execute_result"
        }
      ],
      "source": [
        "desc = {\n",
        "    \"name\": \"snbmo09\",\n",
        "    \"test_type\": \"uses\",\n",
        "    \"meta\": {\n",
        "        \"inline\": \"Silvia et al. 2009\",\n",
        "        \"citation\": \"Silvia, P. J., Nusbaum, E. C., Berg, C., Martin, C., & O'Connor, A. (2009). Openness to experience, plasticity, and creativity: Exploring lower-order, high-order, and interactive effects. Journal of Research in Personality, 43(6), 1087–1090. https://doi.org/10.1016/j.jrp.2009.04.015\",\n",
        "        \"download\": {\"url\": \"https://osf.io/download/qdrv8/\", \"ext\": \"csv\"}\n",
        "    },\n",
        "    \"column_mappings\": {\n",
        "        \"subject\":\"participant\",\n",
        "        \"response_order\":\"response_num\"\n",
        "        },\n",
        "    \"range\": [1, 5],\n",
        "    \"language\": \"eng\",\n",
        "}\n",
        "fname = download_from_description(desc, '../data/raw')\n",
        "df = pd.read_csv(fname[0])\n",
        "df['prompt'] = df.task.apply(lambda x: x.split('_')[-1])\n",
        "cleaned = prep_general(df, **desc, save_dir='../data/datasets')\n",
        "cleaned.sample(2)"
      ]
    },
    {
      "cell_type": "markdown",
      "metadata": {
        "id": "jn8ziOcamzaH"
      },
      "source": [
        "## Hass 2017\n",
        "\n",
        "This study looked at uses for *bottle* and *brick*. There were 54 participants after data cleaning.\n",
        "\n",
        "Rating was on a 5-point scale. For verification, their reported inter-rater reliability was ICC2k was 0.80 for brick and 0.78 for bottle, which is about what we see below.\n",
        "\n",
        "The rating data was stoplisted, so I need to reconstruct the original responses here."
      ]
    },
    {
      "cell_type": "code",
      "execution_count": 5,
      "metadata": {},
      "outputs": [
        {
          "name": "stderr",
          "output_type": "stream",
          "text": [
            "[nltk_data] Downloading package punkt to\n",
            "[nltk_data]     /Users/peter.organisciak/nltk_data...\n",
            "[nltk_data]   Package punkt is already up-to-date!\n",
            "[nltk_data] Downloading package stopwords to\n",
            "[nltk_data]     /Users/peter.organisciak/nltk_data...\n",
            "[nltk_data]   Package stopwords is already up-to-date!\n"
          ]
        },
        {
          "data": {
            "text/markdown": [
              "### Loading *Hass 2017*"
            ],
            "text/plain": [
              "<IPython.core.display.Markdown object>"
            ]
          },
          "metadata": {},
          "output_type": "display_data"
        },
        {
          "data": {
            "text/markdown": [
              "Hass, R. W. (2017). Semantic search during divergent thinking. Cognition, 166, 344–357. https://doi.org/10.1016/j.cognition.2017.05.039"
            ],
            "text/plain": [
              "<IPython.core.display.Markdown object>"
            ]
          },
          "metadata": {},
          "output_type": "display_data"
        },
        {
          "data": {
            "text/markdown": [
              "- Renaming columns {'subject': 'participant', 'response_order': 'response_num'}"
            ],
            "text/plain": [
              "<IPython.core.display.Markdown object>"
            ]
          },
          "metadata": {},
          "output_type": "display_data"
        },
        {
          "data": {
            "text/markdown": [
              "- name: hass17\n",
              "- no_of_prompts: 2\n",
              "- no_of_participants: 57\n",
              "- no_of_data_points: 1093\n",
              "- prompts: ['bottle', 'brick']\n",
              "- ICC2k: 0.79\n",
              "- ICC2k_CI: 0.75-0.82\n",
              "- ICC3k: 0.8\n",
              "- rater_cols: ['r1', 'r2', 'r3']\n",
              "- no_of_raters: 3\n"
            ],
            "text/plain": [
              "<IPython.core.display.Markdown object>"
            ]
          },
          "metadata": {},
          "output_type": "display_data"
        },
        {
          "name": "stderr",
          "output_type": "stream",
          "text": [
            "/Users/peter.organisciak/anaconda3/lib/python3.9/site-packages/pandas/io/sql.py:761: UserWarning: pandas only support SQLAlchemy connectable(engine/connection) ordatabase string URI or sqlite3 DBAPI2 connectionother DBAPI2 objects are not tested, please consider using SQLAlchemy\n",
            "  warnings.warn(\n"
          ]
        },
        {
          "data": {
            "text/html": [
              "<div>\n",
              "<style scoped>\n",
              "    .dataframe tbody tr th:only-of-type {\n",
              "        vertical-align: middle;\n",
              "    }\n",
              "\n",
              "    .dataframe tbody tr th {\n",
              "        vertical-align: top;\n",
              "    }\n",
              "\n",
              "    .dataframe thead th {\n",
              "        text-align: right;\n",
              "    }\n",
              "</style>\n",
              "<table border=\"1\" class=\"dataframe\">\n",
              "  <thead>\n",
              "    <tr style=\"text-align: right;\">\n",
              "      <th></th>\n",
              "      <th>type</th>\n",
              "      <th>src</th>\n",
              "      <th>question</th>\n",
              "      <th>prompt</th>\n",
              "      <th>response</th>\n",
              "      <th>id</th>\n",
              "      <th>target</th>\n",
              "      <th>participant</th>\n",
              "      <th>response_num</th>\n",
              "    </tr>\n",
              "  </thead>\n",
              "  <tbody>\n",
              "    <tr>\n",
              "      <th>1081</th>\n",
              "      <td>uses</td>\n",
              "      <td>hass17</td>\n",
              "      <td>What is a surprising use for a BRICK?</td>\n",
              "      <td>brick</td>\n",
              "      <td>street</td>\n",
              "      <td>hass17_brick-6210af</td>\n",
              "      <td>1.000</td>\n",
              "      <td>hass1712</td>\n",
              "      <td>12</td>\n",
              "    </tr>\n",
              "    <tr>\n",
              "      <th>258</th>\n",
              "      <td>uses</td>\n",
              "      <td>hass17</td>\n",
              "      <td>What is a surprising use for a BOTTLE?</td>\n",
              "      <td>bottle</td>\n",
              "      <td>smoking</td>\n",
              "      <td>hass17_bottle-b83cc1</td>\n",
              "      <td>4.667</td>\n",
              "      <td>hass173</td>\n",
              "      <td>4</td>\n",
              "    </tr>\n",
              "  </tbody>\n",
              "</table>\n",
              "</div>"
            ],
            "text/plain": [
              "      type     src                                question  prompt response  \\\n",
              "1081  uses  hass17   What is a surprising use for a BRICK?   brick   street   \n",
              "258   uses  hass17  What is a surprising use for a BOTTLE?  bottle  smoking   \n",
              "\n",
              "                        id  target participant response_num  \n",
              "1081   hass17_brick-6210af   1.000    hass1712           12  \n",
              "258   hass17_bottle-b83cc1   4.667     hass173            4  "
            ]
          },
          "execution_count": 5,
          "metadata": {},
          "output_type": "execute_result"
        }
      ],
      "source": [
        "desc = {\n",
        "    \"name\": 'hass17',\n",
        "    \"test_type\": \"uses\",\n",
        "    \"meta\": {\n",
        "        \"inline\": \"Hass 2017\",\n",
        "        \"citation\": \"Hass, R. W. (2017). Semantic search during divergent thinking. Cognition, 166, 344–357. https://doi.org/10.1016/j.cognition.2017.05.039\",\n",
        "        \"url\": \"https://osf.io/ng598\",\n",
        "        \"download\": [\n",
        "            {\"url\": 'https://osf.io/download/mcykr/', \"ext\": \"xlsx\"}, # rater scores\n",
        "            {\"url\": 'https://osf.io/download/27bx8/', \"ext\": \"xlsx\"},  # responses 1\n",
        "            {\"url\": 'https://osf.io/download/rzvyd/', \"ext\": \"xlsx\"}  # responses 2\n",
        "        ],\n",
        "    },\n",
        "    \"column_mappings\": {\n",
        "        \"subject\":\"participant\",\n",
        "        \"response_order\":\"response_num\"\n",
        "        },\n",
        "    \"range\": [1, 5],\n",
        "    \"rater_cols\": ['r1','r2','r3'],\n",
        "    \"language\": \"eng\",\n",
        "}\n",
        "\n",
        "(ratings_fname, responses_fname, responses2_fname) = download_from_description(desc, '../data/raw')\n",
        "\n",
        "# custom parsing specific to this dataset\n",
        "all_ratings = []\n",
        "for sheet, prompt in [('br_exp1', 'brick'),('br_exp2', 'brick'),('bot_exp1', 'bottle'),('bot_exp2', 'bottle')]:\n",
        "    data = pd.read_excel(ratings_fname, sheet_name=sheet) #.rename(columns={'subject':'participant','response_order':'response_num'})\n",
        "    data['prompt'] = prompt\n",
        "    all_ratings.append(data)\n",
        "hassratings = pd.concat(all_ratings).rename(columns={'response':'cleaned'})\n",
        "participants = pd.concat([pd.read_excel(responses_fname), pd.read_excel(responses2_fname)])\n",
        "\n",
        "# melt original responses to long, reconstructe the cleaned columns, then join with ratings\n",
        "long_part = participants.melt(id_vars='ID', value_name='response').rename(columns={'ID':'participant'})\n",
        "long_part = long_part[long_part.variable.str.contains('resp') & ~long_part.variable.str.contains('time')].dropna()\n",
        "long_part[['prompt', 'response_num']] = long_part.variable.str.split('_', expand=True)\n",
        "\n",
        "long_part.loc[long_part.prompt.str.contains('resp1'), 'prompt'] = 'bottle'\n",
        "long_part.loc[long_part.prompt.str.contains('resp2'), 'prompt'] = 'brick'\n",
        "long_part.sample(10)\n",
        "\n",
        "import nltk\n",
        "nltk.download('punkt')\n",
        "nltk.download('stopwords')\n",
        "\n",
        "from nltk.corpus import stopwords\n",
        "from nltk.tokenize import word_tokenize\n",
        "stops = stopwords.words('english')\n",
        "# not sure which list the study used, so just adjust based on testing\n",
        "stops += ['could']\n",
        "stops = [w for w in stops if w not in ['can']]\n",
        "stops = set(stops)\n",
        "\n",
        "def stop_clean(x):\n",
        "    x = x.lower()\n",
        "    x = x.replace('i.e.', 'e') # quirk of the tokenization in original study\n",
        "    for c in list(\"/\\\\'-()\"):\n",
        "        x = x.replace(c, '')\n",
        "    words = [word for word in word_tokenize(x) if word not in stops]\n",
        "    return \" \".join(words)\n",
        "\n",
        "long_part['cleaned'] = long_part.response.apply(stop_clean)\n",
        "hass07 = long_part.merge(hassratings, how='left', on=['prompt', 'cleaned'])\n",
        "\n",
        "cleaned = prep_general(hass07, **desc, save_dir='../data/datasets')\n",
        "cleaned.sample(2)"
      ]
    },
    {
      "cell_type": "markdown",
      "metadata": {
        "id": "vJqyd2UHDCMZ"
      },
      "source": [
        "## Silvia et al 2008\n",
        "\n",
        "This was the order of creativity tasks:\n",
        "\n",
        "1. Please list all of the creative, unusual uses for a brick that you can think of.\n",
        "2. Please list all of the creative, unusual instances of things that are round that you can think of.\n",
        "3. Imagine that people no longer needed to sleep. Please list creative, unusual consequences that would follow.\n",
        "4. Please list all of the creative, unusual uses for a knife that you can think of.\n",
        "5. Please list all of the creative, unusual instances of things that will make a noise that you can think of.\n",
        "6. Imagine that everyone shrank to 12 inches tall. Please list creative, unusual consequences that would follow.\n",
        "\n",
        "Numbers 1 and 4 are AUT.\n",
        "\n"
      ]
    },
    {
      "cell_type": "code",
      "execution_count": 6,
      "metadata": {},
      "outputs": [
        {
          "data": {
            "text/markdown": [
              "### Loading *Silvia et al. 2008*"
            ],
            "text/plain": [
              "<IPython.core.display.Markdown object>"
            ]
          },
          "metadata": {},
          "output_type": "display_data"
        },
        {
          "data": {
            "text/markdown": [
              "Silvia, P. J., Winterstein, B. P., Willse, J. T., Barona, C. M., Cram, J. T., Hess, K. I., Martinez, J. L., & Richard, C. A. (2008). Assessing creativity with divergent thinking tasks: Exploring the reliability and validity of new subjective scoring methods. Psychology of Aesthetics, Creativity, and the Arts, 2(2), 68–85. https://doi.org/10.1037/1931-3896.2.2.68"
            ],
            "text/plain": [
              "<IPython.core.display.Markdown object>"
            ]
          },
          "metadata": {},
          "output_type": "display_data"
        },
        {
          "data": {
            "text/markdown": [
              "- Renaming columns {'subject': 'participant', 'order': 'response_num'}"
            ],
            "text/plain": [
              "<IPython.core.display.Markdown object>"
            ]
          },
          "metadata": {},
          "output_type": "display_data"
        },
        {
          "name": "stdout",
          "output_type": "stream",
          "text": [
            "Dropping 37 unrated items\n"
          ]
        },
        {
          "data": {
            "text/markdown": [
              "- name: setal08\n",
              "- no_of_prompts: 6\n",
              "- no_of_participants: 242\n",
              "- no_of_data_points: 11490\n",
              "- prompts: ['brick', 'round', 'no sleep', 'knife', 'noise', 'shrank']\n",
              "- ICC2k: 0.43\n",
              "- ICC2k_CI: 0.22-0.57\n",
              "- ICC3k: 0.54\n",
              "- rater_cols: ['rater1', 'rater2', 'rater3']\n",
              "- no_of_raters: 3\n"
            ],
            "text/plain": [
              "<IPython.core.display.Markdown object>"
            ]
          },
          "metadata": {},
          "output_type": "display_data"
        },
        {
          "name": "stderr",
          "output_type": "stream",
          "text": [
            "/Users/peter.organisciak/anaconda3/lib/python3.9/site-packages/pandas/io/sql.py:761: UserWarning: pandas only support SQLAlchemy connectable(engine/connection) ordatabase string URI or sqlite3 DBAPI2 connectionother DBAPI2 objects are not tested, please consider using SQLAlchemy\n",
            "  warnings.warn(\n"
          ]
        },
        {
          "data": {
            "text/html": [
              "<div>\n",
              "<style scoped>\n",
              "    .dataframe tbody tr th:only-of-type {\n",
              "        vertical-align: middle;\n",
              "    }\n",
              "\n",
              "    .dataframe tbody tr th {\n",
              "        vertical-align: top;\n",
              "    }\n",
              "\n",
              "    .dataframe thead th {\n",
              "        text-align: right;\n",
              "    }\n",
              "</style>\n",
              "<table border=\"1\" class=\"dataframe\">\n",
              "  <thead>\n",
              "    <tr style=\"text-align: right;\">\n",
              "      <th></th>\n",
              "      <th>type</th>\n",
              "      <th>src</th>\n",
              "      <th>question</th>\n",
              "      <th>prompt</th>\n",
              "      <th>response</th>\n",
              "      <th>id</th>\n",
              "      <th>target</th>\n",
              "      <th>participant</th>\n",
              "      <th>response_num</th>\n",
              "    </tr>\n",
              "  </thead>\n",
              "  <tbody>\n",
              "    <tr>\n",
              "      <th>4414</th>\n",
              "      <td>instances</td>\n",
              "      <td>setal08</td>\n",
              "      <td>What is a surprising thing that is ROUND?</td>\n",
              "      <td>round</td>\n",
              "      <td>food</td>\n",
              "      <td>setal08_2.0-1b12d2</td>\n",
              "      <td>1.000</td>\n",
              "      <td>setal0895</td>\n",
              "      <td>17.0</td>\n",
              "    </tr>\n",
              "    <tr>\n",
              "      <th>2222</th>\n",
              "      <td>instances</td>\n",
              "      <td>setal08</td>\n",
              "      <td>What is a surprising thing that is ROUND?</td>\n",
              "      <td>round</td>\n",
              "      <td>coaster to sit a drink on</td>\n",
              "      <td>setal08_2.0-172a1c</td>\n",
              "      <td>1.333</td>\n",
              "      <td>setal0851</td>\n",
              "      <td>7.0</td>\n",
              "    </tr>\n",
              "  </tbody>\n",
              "</table>\n",
              "</div>"
            ],
            "text/plain": [
              "           type      src                                   question prompt  \\\n",
              "4414  instances  setal08  What is a surprising thing that is ROUND?  round   \n",
              "2222  instances  setal08  What is a surprising thing that is ROUND?  round   \n",
              "\n",
              "                       response                  id  target participant  \\\n",
              "4414                       food  setal08_2.0-1b12d2   1.000   setal0895   \n",
              "2222  coaster to sit a drink on  setal08_2.0-172a1c   1.333   setal0851   \n",
              "\n",
              "      response_num  \n",
              "4414          17.0  \n",
              "2222           7.0  "
            ]
          },
          "execution_count": 6,
          "metadata": {},
          "output_type": "execute_result"
        }
      ],
      "source": [
        "# Support .sav files\n",
        "import pyreadstat\n",
        "desc = {\n",
        "    \"name\": \"setal08\",\n",
        "    \"meta\": {\n",
        "        \"inline\": \"Silvia et al. 2008\",\n",
        "        \"citation\": \"Silvia, P. J., Winterstein, B. P., Willse, J. T., Barona, C. M., Cram, J. T., Hess, K. I., Martinez, J. L., & Richard, C. A. (2008). Assessing creativity with divergent thinking tasks: Exploring the reliability and validity of new subjective scoring methods. Psychology of Aesthetics, Creativity, and the Arts, 2(2), 68–85. https://doi.org/10.1037/1931-3896.2.2.68\",\n",
        "        \"url\": \"https://osf.io/dh7ey/\",\n",
        "        \"download\": {\"url\": \"https://files.osf.io/v1/resources/4ketx/providers/osfstorage/5dd70d1f83135e000ec3c242/?zip=\",\n",
        "                    \"extension\": \"zip\",\n",
        "                    \"archive_files\": ['DT_Responses_PACA_2008_Study_2.sav']\n",
        "                    }\n",
        "    },\n",
        "    \"column_mappings\": {\n",
        "        \"subject\":\"participant\",\n",
        "        \"order\":\"response_num\"\n",
        "        },\n",
        "    \"replace_values\": {\n",
        "        \"prompt\": {\n",
        "            1: \"brick\",\n",
        "            2: \"round\",\n",
        "            3: \"no sleep\",\n",
        "            4: \"knife\",\n",
        "            5: \"noise\",\n",
        "            6: \"shrank\"\n",
        "        },\n",
        "        \"type\": {\n",
        "            1: \"uses\",\n",
        "            2: \"instances\",\n",
        "            3: \"consequences\",\n",
        "            4: \"uses\",\n",
        "            5: \"instances\",\n",
        "            6: \"consequences\"\n",
        "        },\n",
        "        \"question\": {\n",
        "            1:\"What is a surprising use for a BRICK?\",\n",
        "            2: \"What is a surprising thing that is ROUND?\", \n",
        "            3: \"What would be a surprising consequence if PEOPLE NEEDED NO SLEEP?\", \n",
        "            4: \"What is a surprising use for a KNIFE?\",\n",
        "            5: \"What is a surprising thing that makes a NOISE?\",\n",
        "            6: \"What would be a surprising consequence if EVERYONE SHRANK TO 12 INCHES TALL?\"\n",
        "        }\n",
        "    },\n",
        "    \"range\": [1, 5],\n",
        "    \"language\": \"eng\",\n",
        "}\n",
        "\n",
        "# Download data\n",
        "fnames = download_from_description(desc, '../data/raw', extension='zip')\n",
        "\n",
        "# Some manual cleanup\n",
        "df, meta = pyreadstat.read_sav(fnames[0])\n",
        "# all three are mapped from task\n",
        "for col in ['prompt', 'type', 'question']:\n",
        "    df[col] = df['task'].astype(int)\n",
        "df['subject'] = df['subject'].astype(int)\n",
        "# doublecheck - burczak reported ICC2k as 0.48 for uses\n",
        "cleaned = prep_general(df, **desc, save_dir='../data/datasets')\n",
        "cleaned.sample(2)"
      ]
    },
    {
      "cell_type": "markdown",
      "metadata": {
        "id": "UH3yOwIon4Ky"
      },
      "source": [
        "## Hofelich Mohr, Sell, and Lindsay 2016"
      ]
    },
    {
      "cell_type": "code",
      "execution_count": 7,
      "metadata": {},
      "outputs": [
        {
          "data": {
            "text/markdown": [
              "### Loading *Hofelich Mohr et al. 2016*"
            ],
            "text/plain": [
              "<IPython.core.display.Markdown object>"
            ]
          },
          "metadata": {},
          "output_type": "display_data"
        },
        {
          "data": {
            "text/markdown": [
              "Hofelich Mohr, A., Sell, A., & Lindsay, T. (2016). Thinking Inside the Box: Visual Design of the Response Box Affects Creative Divergent Thinking in an Online Survey. Social Science Computer Review, 34(3), 347–359. https://doi.org/10.1177/0894439315588736"
            ],
            "text/plain": [
              "<IPython.core.display.Markdown object>"
            ]
          },
          "metadata": {},
          "output_type": "display_data"
        },
        {
          "data": {
            "text/markdown": [
              "- Renaming columns {'Item': 'prompt', 'QLogin_1': 'participant'}"
            ],
            "text/plain": [
              "<IPython.core.display.Markdown object>"
            ]
          },
          "metadata": {},
          "output_type": "display_data"
        },
        {
          "name": "stdout",
          "output_type": "stream",
          "text": [
            "Replacing 11 with NaN in response column\n",
            "Dropping 23 unrated items\n"
          ]
        },
        {
          "data": {
            "text/markdown": [
              "- name: hmsl\n",
              "- no_of_prompts: 2\n",
              "- no_of_participants: 638\n",
              "- no_of_data_points: 3843\n",
              "- prompts: ['paperclip', 'brick']\n",
              "- ICC2k: 0.67\n",
              "- ICC2k_CI: 0.53-0.75\n",
              "- ICC3k: 0.74\n",
              "- rater_cols: ['J1_Rating', 'J2_Rating', 'J3_Rating', 'J4_Rating']\n",
              "- no_of_raters: 4\n"
            ],
            "text/plain": [
              "<IPython.core.display.Markdown object>"
            ]
          },
          "metadata": {},
          "output_type": "display_data"
        },
        {
          "name": "stderr",
          "output_type": "stream",
          "text": [
            "/Users/peter.organisciak/anaconda3/lib/python3.9/site-packages/pandas/io/sql.py:761: UserWarning: pandas only support SQLAlchemy connectable(engine/connection) ordatabase string URI or sqlite3 DBAPI2 connectionother DBAPI2 objects are not tested, please consider using SQLAlchemy\n",
            "  warnings.warn(\n"
          ]
        },
        {
          "data": {
            "text/html": [
              "<div>\n",
              "<style scoped>\n",
              "    .dataframe tbody tr th:only-of-type {\n",
              "        vertical-align: middle;\n",
              "    }\n",
              "\n",
              "    .dataframe tbody tr th {\n",
              "        vertical-align: top;\n",
              "    }\n",
              "\n",
              "    .dataframe thead th {\n",
              "        text-align: right;\n",
              "    }\n",
              "</style>\n",
              "<table border=\"1\" class=\"dataframe\">\n",
              "  <thead>\n",
              "    <tr style=\"text-align: right;\">\n",
              "      <th></th>\n",
              "      <th>type</th>\n",
              "      <th>src</th>\n",
              "      <th>question</th>\n",
              "      <th>prompt</th>\n",
              "      <th>response</th>\n",
              "      <th>id</th>\n",
              "      <th>target</th>\n",
              "      <th>participant</th>\n",
              "      <th>response_num</th>\n",
              "    </tr>\n",
              "  </thead>\n",
              "  <tbody>\n",
              "    <tr>\n",
              "      <th>1299</th>\n",
              "      <td>uses</td>\n",
              "      <td>hmsl</td>\n",
              "      <td>What is a surprising use for a BRICK?</td>\n",
              "      <td>brick</td>\n",
              "      <td>out door pit</td>\n",
              "      <td>hmsl_brick-767f21</td>\n",
              "      <td>1.4995</td>\n",
              "      <td>hmsl4q5kz2kx</td>\n",
              "      <td>2.0</td>\n",
              "    </tr>\n",
              "    <tr>\n",
              "      <th>3837</th>\n",
              "      <td>uses</td>\n",
              "      <td>hmsl</td>\n",
              "      <td>What is a surprising use for a BRICK?</td>\n",
              "      <td>brick</td>\n",
              "      <td>weight in the back of your car in snowy weather</td>\n",
              "      <td>hmsl_brick-f9a184</td>\n",
              "      <td>3.0000</td>\n",
              "      <td>hmsl11z914TK</td>\n",
              "      <td>1.0</td>\n",
              "    </tr>\n",
              "  </tbody>\n",
              "</table>\n",
              "</div>"
            ],
            "text/plain": [
              "      type   src                               question prompt  \\\n",
              "1299  uses  hmsl  What is a surprising use for a BRICK?  brick   \n",
              "3837  uses  hmsl  What is a surprising use for a BRICK?  brick   \n",
              "\n",
              "                                             response                 id  \\\n",
              "1299                                     out door pit  hmsl_brick-767f21   \n",
              "3837  weight in the back of your car in snowy weather  hmsl_brick-f9a184   \n",
              "\n",
              "      target   participant  response_num  \n",
              "1299  1.4995  hmsl4q5kz2kx           2.0  \n",
              "3837  3.0000  hmsl11z914TK           1.0  "
            ]
          },
          "execution_count": 7,
          "metadata": {},
          "output_type": "execute_result"
        }
      ],
      "source": [
        "desc = {\n",
        "    \"name\": \"hmsl\",\n",
        "    \"meta\": {\n",
        "        \"inline\": \"Hofelich Mohr et al. 2016\",\n",
        "        \"citation\": \"Hofelich Mohr, A., Sell, A., & Lindsay, T. (2016). Thinking Inside the Box: Visual Design of the Response Box Affects Creative Divergent Thinking in an Online Survey. Social Science Computer Review, 34(3), 347–359. https://doi.org/10.1177/0894439315588736\",\n",
        "        \"url\": \"https://doi.org/10.1177/0894439315588736\",\n",
        "        \"download\": {\n",
        "            \"url\": \"https://conservancy.umn.edu/bitstream/handle/11299/172116/HMSL_CSV%20Data%20Files.zip?sequence=28&isAllowed=y\",\n",
        "            \"extension\": \"zip\",\n",
        "            \"archive_files\": ['HMSL_Originality_scores_all.csv']   \n",
        "        }\n",
        "    },\n",
        "    \"null_marker\": 11,\n",
        "    \"column_mappings\": {'Item': 'prompt', 'QLogin_1':'participant'},\n",
        "    \"rater_cols\": ['J1_Rating','J2_Rating','J3_Rating','J4_Rating'],\n",
        "    \"range\": [1, 5],\n",
        "    \"language\": \"eng\",\n",
        "}\n",
        "\n",
        "fname = download_from_description(desc, '../data/raw')[0]\n",
        "df = pd.read_csv(fname)\n",
        "# Doublecheck ICC2k - burczak paper had icc2k=0.67\n",
        "cleaned = prep_general(df, **desc, save_dir='../data/datasets')\n",
        "cleaned.sample(2)"
      ]
    },
    {
      "cell_type": "markdown",
      "metadata": {
        "id": "VgNoUTqg_dQb"
      },
      "source": [
        "## Datasets used by Beaty and Johnson 2021\n",
        "\n",
        "From SemDis paper:\n",
        "\n",
        "- Study 1 was re-analysis of AUT responses from Beaty et al., 2018 to see if ensemble approaches work better. Two tests: `box` and `rope`\n",
        "   - according to their paper, using additive composition was slightly negative correlation, while multiplicative 'results revealed a large correlation between latent semantic distance and human ratings:$r=.91$, p<.001'. This uses a model that weighs the factors, but is (I think) tailored to the dataset without held out data.\n",
        "\n",
        "- Study 2 was re-analysis of results from Silvia et al. 2017, also on box and rope \n",
        "- Study 3 was brick - yet again - via Beaty and Silvia 2012\n",
        "- Study 4 and 5- Heinen and Johnson (2018) - were noun matching, not relevant here"
      ]
    },
    {
      "cell_type": "code",
      "execution_count": 8,
      "metadata": {},
      "outputs": [
        {
          "data": {
            "text/markdown": [
              "### Loading *Beaty et al., 2018*"
            ],
            "text/plain": [
              "<IPython.core.display.Markdown object>"
            ]
          },
          "metadata": {},
          "output_type": "display_data"
        },
        {
          "data": {
            "text/markdown": [
              "Beaty, R. E., Kenett, Y. N., Christensen, A. P., Rosenberg, M. D., Benedek, M., Chen, Q., Fink, A., Qiu, J., Kwapil, T. R., Kane, M. J., & Silvia, P. J. (2018). Robust prediction of individual creative ability from brain functional connectivity. Proceedings of the National Academy of Sciences, 115(5), 1087–1092. https://doi.org/10.1073/pnas.1713532115"
            ],
            "text/plain": [
              "<IPython.core.display.Markdown object>"
            ]
          },
          "metadata": {},
          "output_type": "display_data"
        },
        {
          "data": {
            "text/markdown": [
              "- Renaming columns {'id': 'participant', 'item': 'prompt'}"
            ],
            "text/plain": [
              "<IPython.core.display.Markdown object>"
            ]
          },
          "metadata": {},
          "output_type": "display_data"
        },
        {
          "data": {
            "text/markdown": [
              "- name: betal18\n",
              "- no_of_prompts: 2\n",
              "- no_of_participants: 171\n",
              "- no_of_data_points: 2918\n",
              "- prompts: ['box', 'rope']\n",
              "- ICC2k: 0.82\n",
              "- ICC2k_CI: 0.77-0.85\n",
              "- ICC3k: 0.84\n",
              "- rater_cols: ['rater1', 'rater2', 'rater3', 'rater4']\n",
              "- no_of_raters: 4\n"
            ],
            "text/plain": [
              "<IPython.core.display.Markdown object>"
            ]
          },
          "metadata": {},
          "output_type": "display_data"
        },
        {
          "name": "stderr",
          "output_type": "stream",
          "text": [
            "/Users/peter.organisciak/anaconda3/lib/python3.9/site-packages/pandas/io/sql.py:761: UserWarning: pandas only support SQLAlchemy connectable(engine/connection) ordatabase string URI or sqlite3 DBAPI2 connectionother DBAPI2 objects are not tested, please consider using SQLAlchemy\n",
            "  warnings.warn(\n"
          ]
        },
        {
          "data": {
            "text/html": [
              "<div>\n",
              "<style scoped>\n",
              "    .dataframe tbody tr th:only-of-type {\n",
              "        vertical-align: middle;\n",
              "    }\n",
              "\n",
              "    .dataframe tbody tr th {\n",
              "        vertical-align: top;\n",
              "    }\n",
              "\n",
              "    .dataframe thead th {\n",
              "        text-align: right;\n",
              "    }\n",
              "</style>\n",
              "<table border=\"1\" class=\"dataframe\">\n",
              "  <thead>\n",
              "    <tr style=\"text-align: right;\">\n",
              "      <th></th>\n",
              "      <th>type</th>\n",
              "      <th>src</th>\n",
              "      <th>question</th>\n",
              "      <th>prompt</th>\n",
              "      <th>response</th>\n",
              "      <th>id</th>\n",
              "      <th>target</th>\n",
              "      <th>participant</th>\n",
              "      <th>response_num</th>\n",
              "    </tr>\n",
              "  </thead>\n",
              "  <tbody>\n",
              "    <tr>\n",
              "      <th>421</th>\n",
              "      <td>uses</td>\n",
              "      <td>betal18</td>\n",
              "      <td>What is a surprising use for a BOX?</td>\n",
              "      <td>box</td>\n",
              "      <td>computer screen</td>\n",
              "      <td>betal18_box-b414e7</td>\n",
              "      <td>1.5</td>\n",
              "      <td>betal182047</td>\n",
              "      <td>None</td>\n",
              "    </tr>\n",
              "    <tr>\n",
              "      <th>975</th>\n",
              "      <td>uses</td>\n",
              "      <td>betal18</td>\n",
              "      <td>What is a surprising use for a BOX?</td>\n",
              "      <td>box</td>\n",
              "      <td>Draw/color it to be a spaceship for a child to...</td>\n",
              "      <td>betal18_box-f7fc7f</td>\n",
              "      <td>1.5</td>\n",
              "      <td>betal182106</td>\n",
              "      <td>None</td>\n",
              "    </tr>\n",
              "  </tbody>\n",
              "</table>\n",
              "</div>"
            ],
            "text/plain": [
              "     type      src                             question prompt  \\\n",
              "421  uses  betal18  What is a surprising use for a BOX?    box   \n",
              "975  uses  betal18  What is a surprising use for a BOX?    box   \n",
              "\n",
              "                                              response                  id  \\\n",
              "421                                    computer screen  betal18_box-b414e7   \n",
              "975  Draw/color it to be a spaceship for a child to...  betal18_box-f7fc7f   \n",
              "\n",
              "     target  participant response_num  \n",
              "421     1.5  betal182047         None  \n",
              "975     1.5  betal182106         None  "
            ]
          },
          "metadata": {},
          "output_type": "display_data"
        },
        {
          "data": {
            "text/markdown": [
              "### Loading *Silvia et al., 2017*"
            ],
            "text/plain": [
              "<IPython.core.display.Markdown object>"
            ]
          },
          "metadata": {},
          "output_type": "display_data"
        },
        {
          "data": {
            "text/markdown": [
              "Silvia, P. J., Nusbaum, E. C., & Beaty, R. E. (2017). Old or New? Evaluating the Old/New Scoring Method for Divergent Thinking Tasks. The Journal of Creative Behavior, 51(3), 216–224. https://doi.org/10.1002/jocb.101"
            ],
            "text/plain": [
              "<IPython.core.display.Markdown object>"
            ]
          },
          "metadata": {},
          "output_type": "display_data"
        },
        {
          "data": {
            "text/markdown": [
              "- Renaming columns {'id': 'participant', 'item': 'prompt'}"
            ],
            "text/plain": [
              "<IPython.core.display.Markdown object>"
            ]
          },
          "metadata": {},
          "output_type": "display_data"
        },
        {
          "data": {
            "text/markdown": [
              "- name: snb17\n",
              "- no_of_prompts: 2\n",
              "- no_of_participants: 142\n",
              "- no_of_data_points: 2372\n",
              "- prompts: ['box', 'rope']\n",
              "- ICC2k: 0.67\n",
              "- ICC2k_CI: 0.55-0.75\n",
              "- ICC3k: 0.72\n",
              "- rater_cols: ['rater1', 'rater2', 'rater3']\n",
              "- no_of_raters: 3\n"
            ],
            "text/plain": [
              "<IPython.core.display.Markdown object>"
            ]
          },
          "metadata": {},
          "output_type": "display_data"
        },
        {
          "name": "stderr",
          "output_type": "stream",
          "text": [
            "/Users/peter.organisciak/anaconda3/lib/python3.9/site-packages/pandas/io/sql.py:761: UserWarning: pandas only support SQLAlchemy connectable(engine/connection) ordatabase string URI or sqlite3 DBAPI2 connectionother DBAPI2 objects are not tested, please consider using SQLAlchemy\n",
            "  warnings.warn(\n"
          ]
        },
        {
          "data": {
            "text/html": [
              "<div>\n",
              "<style scoped>\n",
              "    .dataframe tbody tr th:only-of-type {\n",
              "        vertical-align: middle;\n",
              "    }\n",
              "\n",
              "    .dataframe tbody tr th {\n",
              "        vertical-align: top;\n",
              "    }\n",
              "\n",
              "    .dataframe thead th {\n",
              "        text-align: right;\n",
              "    }\n",
              "</style>\n",
              "<table border=\"1\" class=\"dataframe\">\n",
              "  <thead>\n",
              "    <tr style=\"text-align: right;\">\n",
              "      <th></th>\n",
              "      <th>type</th>\n",
              "      <th>src</th>\n",
              "      <th>question</th>\n",
              "      <th>prompt</th>\n",
              "      <th>response</th>\n",
              "      <th>id</th>\n",
              "      <th>target</th>\n",
              "      <th>participant</th>\n",
              "      <th>response_num</th>\n",
              "    </tr>\n",
              "  </thead>\n",
              "  <tbody>\n",
              "    <tr>\n",
              "      <th>1355</th>\n",
              "      <td>uses</td>\n",
              "      <td>snb17</td>\n",
              "      <td>What is a surprising use for a ROPE?</td>\n",
              "      <td>rope</td>\n",
              "      <td>strap a sex partner down</td>\n",
              "      <td>snb17_rope-073c58</td>\n",
              "      <td>1.667</td>\n",
              "      <td>snb1721</td>\n",
              "      <td>None</td>\n",
              "    </tr>\n",
              "    <tr>\n",
              "      <th>1617</th>\n",
              "      <td>uses</td>\n",
              "      <td>snb17</td>\n",
              "      <td>What is a surprising use for a ROPE?</td>\n",
              "      <td>rope</td>\n",
              "      <td>whip</td>\n",
              "      <td>snb17_rope-018788</td>\n",
              "      <td>1.333</td>\n",
              "      <td>snb1750</td>\n",
              "      <td>None</td>\n",
              "    </tr>\n",
              "  </tbody>\n",
              "</table>\n",
              "</div>"
            ],
            "text/plain": [
              "      type    src                              question prompt  \\\n",
              "1355  uses  snb17  What is a surprising use for a ROPE?   rope   \n",
              "1617  uses  snb17  What is a surprising use for a ROPE?   rope   \n",
              "\n",
              "                      response                 id  target participant  \\\n",
              "1355  strap a sex partner down  snb17_rope-073c58   1.667     snb1721   \n",
              "1617                      whip  snb17_rope-018788   1.333     snb1750   \n",
              "\n",
              "     response_num  \n",
              "1355         None  \n",
              "1617         None  "
            ]
          },
          "metadata": {},
          "output_type": "display_data"
        },
        {
          "data": {
            "text/markdown": [
              "### Loading *Beaty & Silvia, 2012*"
            ],
            "text/plain": [
              "<IPython.core.display.Markdown object>"
            ]
          },
          "metadata": {},
          "output_type": "display_data"
        },
        {
          "data": {
            "text/markdown": [
              "Beaty, R. E., & Silvia, P. J. (2012). Why do ideas get more creative across time? An executive interpretation of the serial order effect in divergent thinking tasks. Psychology of Aesthetics, Creativity, and the Arts, 6(4), 309–319. https://doi.org/10.1037/a0029171"
            ],
            "text/plain": [
              "<IPython.core.display.Markdown object>"
            ]
          },
          "metadata": {},
          "output_type": "display_data"
        },
        {
          "data": {
            "text/markdown": [
              "- Renaming columns {'id': 'participant', 'item': 'prompt'}"
            ],
            "text/plain": [
              "<IPython.core.display.Markdown object>"
            ]
          },
          "metadata": {},
          "output_type": "display_data"
        },
        {
          "data": {
            "text/markdown": [
              "- name: bs12\n",
              "- no_of_prompts: 1\n",
              "- no_of_participants: 133\n",
              "- no_of_data_points: 1807\n",
              "- prompts: ['brick']\n",
              "- ICC2k: 0.72\n",
              "- ICC2k_CI: 0.56-0.8\n",
              "- ICC3k: 0.78\n",
              "- rater_cols: ['br_rater1', 'br_rater2', 'br_rater3']\n",
              "- no_of_raters: 3\n"
            ],
            "text/plain": [
              "<IPython.core.display.Markdown object>"
            ]
          },
          "metadata": {},
          "output_type": "display_data"
        },
        {
          "name": "stderr",
          "output_type": "stream",
          "text": [
            "/Users/peter.organisciak/anaconda3/lib/python3.9/site-packages/pandas/io/sql.py:761: UserWarning: pandas only support SQLAlchemy connectable(engine/connection) ordatabase string URI or sqlite3 DBAPI2 connectionother DBAPI2 objects are not tested, please consider using SQLAlchemy\n",
            "  warnings.warn(\n"
          ]
        },
        {
          "data": {
            "text/html": [
              "<div>\n",
              "<style scoped>\n",
              "    .dataframe tbody tr th:only-of-type {\n",
              "        vertical-align: middle;\n",
              "    }\n",
              "\n",
              "    .dataframe tbody tr th {\n",
              "        vertical-align: top;\n",
              "    }\n",
              "\n",
              "    .dataframe thead th {\n",
              "        text-align: right;\n",
              "    }\n",
              "</style>\n",
              "<table border=\"1\" class=\"dataframe\">\n",
              "  <thead>\n",
              "    <tr style=\"text-align: right;\">\n",
              "      <th></th>\n",
              "      <th>type</th>\n",
              "      <th>src</th>\n",
              "      <th>question</th>\n",
              "      <th>prompt</th>\n",
              "      <th>response</th>\n",
              "      <th>id</th>\n",
              "      <th>target</th>\n",
              "      <th>participant</th>\n",
              "      <th>response_num</th>\n",
              "    </tr>\n",
              "  </thead>\n",
              "  <tbody>\n",
              "    <tr>\n",
              "      <th>1214</th>\n",
              "      <td>uses</td>\n",
              "      <td>bs12</td>\n",
              "      <td>What is a surprising use for a BRICK?</td>\n",
              "      <td>brick</td>\n",
              "      <td>rhyming (-tick-flick-sick-thick)</td>\n",
              "      <td>bs12_brick-79a456</td>\n",
              "      <td>2.667</td>\n",
              "      <td>bs1287</td>\n",
              "      <td>None</td>\n",
              "    </tr>\n",
              "    <tr>\n",
              "      <th>727</th>\n",
              "      <td>uses</td>\n",
              "      <td>bs12</td>\n",
              "      <td>What is a surprising use for a BRICK?</td>\n",
              "      <td>brick</td>\n",
              "      <td>decoration</td>\n",
              "      <td>bs12_brick-5e4186</td>\n",
              "      <td>1.333</td>\n",
              "      <td>bs1252</td>\n",
              "      <td>None</td>\n",
              "    </tr>\n",
              "  </tbody>\n",
              "</table>\n",
              "</div>"
            ],
            "text/plain": [
              "      type   src                               question prompt  \\\n",
              "1214  uses  bs12  What is a surprising use for a BRICK?  brick   \n",
              "727   uses  bs12  What is a surprising use for a BRICK?  brick   \n",
              "\n",
              "                              response                 id  target participant  \\\n",
              "1214  rhyming (-tick-flick-sick-thick)  bs12_brick-79a456   2.667      bs1287   \n",
              "727                         decoration  bs12_brick-5e4186   1.333      bs1252   \n",
              "\n",
              "     response_num  \n",
              "1214         None  \n",
              "727          None  "
            ]
          },
          "metadata": {},
          "output_type": "display_data"
        }
      ],
      "source": [
        "desc = {\n",
        "    \"name\": \"bj21\",\n",
        "    \"meta\": {\n",
        "        \"inline\": \"Beaty and Johnson 2021\",\n",
        "        \"citation\": \"Beaty, R. E., & Johnson, D. R. (2021). Automating creativity assessment with SemDis: An open platform for computing semantic distance. Behavior Research Methods, 53(2), 757–780. https://doi.org/10.3758/s13428-020-01453-w\",\n",
        "        \"url\": \"https://doi.org/10.3758/s13428-020-01453-w\",\n",
        "        \"download\": {\n",
        "            \"url\": \"https://files.osf.io/v1/resources/gz4fc/providers/osfstorage/5e45b6c73e86a800be6e662e/?zip=\",\n",
        "            \"extension\": \"zip\",\n",
        "            \"archive_files\": ['Study 1/s1_data_long.xlsx',\n",
        "                              'Study 2/s2_data_long.xlsx',\n",
        "                              'Study 3/s3_data_long.xlsx']   \n",
        "        }\n",
        "    },\n",
        "    \"column_mappings\": {'id':'participant', 'item':'prompt'},\n",
        "    \"range\": [1, 5],\n",
        "    \"language\": \"eng\",\n",
        "}\n",
        "\n",
        "substudies = [\n",
        "    {\n",
        "        \"name\": \"betal18\",\n",
        "        \"meta\": {\n",
        "            \"inline\": \"Beaty et al., 2018\",\n",
        "            \"citation\": \"Beaty, R. E., Kenett, Y. N., Christensen, A. P., Rosenberg, M. D., Benedek, M., Chen, Q., Fink, A., Qiu, J., Kwapil, T. R., Kane, M. J., & Silvia, P. J. (2018). Robust prediction of individual creative ability from brain functional connectivity. Proceedings of the National Academy of Sciences, 115(5), 1087–1092. https://doi.org/10.1073/pnas.1713532115\"\n",
        "        }\n",
        "    },\n",
        "    {\n",
        "        \"name\": \"snb17\",\n",
        "        \"meta\": {\n",
        "            \"inline\": \"Silvia et al., 2017\",\n",
        "            \"citation\": \"Silvia, P. J., Nusbaum, E. C., & Beaty, R. E. (2017). Old or New? Evaluating the Old/New Scoring Method for Divergent Thinking Tasks. The Journal of Creative Behavior, 51(3), 216–224. https://doi.org/10.1002/jocb.101\"\n",
        "        }\n",
        "    },\n",
        "    {\n",
        "        \"name\": \"bs12\",\n",
        "        \"meta\": {\n",
        "            \"inline\": \"Beaty & Silvia, 2012\",\n",
        "            \"citation\": \"Beaty, R. E., & Silvia, P. J. (2012). Why do ideas get more creative across time? An executive interpretation of the serial order effect in divergent thinking tasks. Psychology of Aesthetics, Creativity, and the Arts, 6(4), 309–319. https://doi.org/10.1037/a0029171\"\n",
        "        }\n",
        "    },\n",
        "\n",
        "]\n",
        "\n",
        "fnames = download_from_description(desc, '../data/raw')\n",
        "# the data comes from past studies, so we'll rename the files\n",
        "# individually to their original studies\n",
        "for fname,substudy in zip(fnames, substudies):\n",
        "    new_desc = desc.copy()\n",
        "    new_desc.update(substudy)\n",
        "    df = pd.read_excel(fname)\n",
        "    cleaned = prep_general(df, **new_desc, save_dir='../data/datasets')\n",
        "    display(cleaned.sample(2))\n"
      ]
    },
    {
      "cell_type": "code",
      "execution_count": null,
      "metadata": {},
      "outputs": [],
      "source": []
    },
    {
      "cell_type": "markdown",
      "metadata": {
        "id": "8H-WPj9MeGrS"
      },
      "source": [
        "## MOTES Pilot\n",
        "\n",
        "MOTES is related to the \"Measuring Original Thinking in Elementary Students: A Text-Mining Approach\" (IES #R305A200519). This data is related to a high stakes test and is limited to research access. If you're a creativity research, please reach out to request it from <peter.organisciak@du.edu> and/or <selcuk.acar@unt.edu>."
      ]
    },
    {
      "cell_type": "code",
      "execution_count": 9,
      "metadata": {},
      "outputs": [
        {
          "data": {
            "text/markdown": [
              "### Loading *Acar et al., 2023*"
            ],
            "text/plain": [
              "<IPython.core.display.Markdown object>"
            ]
          },
          "metadata": {},
          "output_type": "display_data"
        },
        {
          "data": {
            "text/markdown": [
              "Acar, S., Dumas, D., Organisciak, P., Berthiaume, K. (2023). Measuring original thinking in elementary school: Development and validation of a computational psychometric approach. Journal of Educational Psychology. http://dx.doi.org/10.13140/RG.2.2.19804.56968"
            ],
            "text/plain": [
              "<IPython.core.display.Markdown object>"
            ]
          },
          "metadata": {},
          "output_type": "display_data"
        },
        {
          "data": {
            "text/markdown": [
              "- name: motesp\n",
              "- no_of_prompts: 29\n",
              "- no_of_participants: 35\n",
              "- no_of_data_points: 963\n",
              "- prompts: ['backpack', 'ball', 'bottle', 'hat', 'lightbulb', 'pencil', 'shoe', 'sock', 'spoon', 'toothbrush', 'big', 'cold', 'fun', 'red', 'smelly', 'soft', 'tasty', 'wet', 'aliens landed', 'kid president', 'rain soda', 'teacher read minds', 'time travel', 'friend phone', 'library', 'playground', 'school bus', 'sleepover', 'teacher talking']\n",
              "- ICC2k: 0.73\n",
              "- ICC2k_CI: 0.66-0.78\n",
              "- ICC3k: 0.75\n",
              "- rater_cols: ['D', 'K', 'T']\n",
              "- no_of_raters: 3\n"
            ],
            "text/plain": [
              "<IPython.core.display.Markdown object>"
            ]
          },
          "metadata": {},
          "output_type": "display_data"
        },
        {
          "name": "stderr",
          "output_type": "stream",
          "text": [
            "/Users/peter.organisciak/anaconda3/lib/python3.9/site-packages/pandas/io/sql.py:761: UserWarning: pandas only support SQLAlchemy connectable(engine/connection) ordatabase string URI or sqlite3 DBAPI2 connectionother DBAPI2 objects are not tested, please consider using SQLAlchemy\n",
            "  warnings.warn(\n"
          ]
        },
        {
          "data": {
            "text/html": [
              "<div>\n",
              "<style scoped>\n",
              "    .dataframe tbody tr th:only-of-type {\n",
              "        vertical-align: middle;\n",
              "    }\n",
              "\n",
              "    .dataframe tbody tr th {\n",
              "        vertical-align: top;\n",
              "    }\n",
              "\n",
              "    .dataframe thead th {\n",
              "        text-align: right;\n",
              "    }\n",
              "</style>\n",
              "<table border=\"1\" class=\"dataframe\">\n",
              "  <thead>\n",
              "    <tr style=\"text-align: right;\">\n",
              "      <th></th>\n",
              "      <th>type</th>\n",
              "      <th>src</th>\n",
              "      <th>question</th>\n",
              "      <th>prompt</th>\n",
              "      <th>response</th>\n",
              "      <th>id</th>\n",
              "      <th>target</th>\n",
              "      <th>participant</th>\n",
              "      <th>response_num</th>\n",
              "    </tr>\n",
              "  </thead>\n",
              "  <tbody>\n",
              "    <tr>\n",
              "      <th>346</th>\n",
              "      <td>instances</td>\n",
              "      <td>motesp</td>\n",
              "      <td>What is a surprising example of something BIG?</td>\n",
              "      <td>big</td>\n",
              "      <td>Elephant</td>\n",
              "      <td>motesp_g2_big-0a2f3b</td>\n",
              "      <td>2.555333</td>\n",
              "      <td>motesp18RE</td>\n",
              "      <td>None</td>\n",
              "    </tr>\n",
              "    <tr>\n",
              "      <th>348</th>\n",
              "      <td>instances</td>\n",
              "      <td>motesp</td>\n",
              "      <td>What is a surprising example of something BIG?</td>\n",
              "      <td>big</td>\n",
              "      <td>A tall wall of garbage from a landfill.</td>\n",
              "      <td>motesp_g2_big-8fef8d</td>\n",
              "      <td>4.111333</td>\n",
              "      <td>motesp1RG</td>\n",
              "      <td>None</td>\n",
              "    </tr>\n",
              "  </tbody>\n",
              "</table>\n",
              "</div>"
            ],
            "text/plain": [
              "          type     src                                        question prompt  \\\n",
              "346  instances  motesp  What is a surprising example of something BIG?    big   \n",
              "348  instances  motesp  What is a surprising example of something BIG?    big   \n",
              "\n",
              "                                    response                    id    target  \\\n",
              "346                                Elephant   motesp_g2_big-0a2f3b  2.555333   \n",
              "348  A tall wall of garbage from a landfill.  motesp_g2_big-8fef8d  4.111333   \n",
              "\n",
              "    participant response_num  \n",
              "346  motesp18RE         None  \n",
              "348   motesp1RG         None  "
            ]
          },
          "execution_count": 9,
          "metadata": {},
          "output_type": "execute_result"
        }
      ],
      "source": [
        "desc = {\n",
        "    \"name\": \"motesp\",\n",
        "    \"meta\": {\n",
        "        \"inline\": \"Acar et al., 2023\",\n",
        "        \"citation\": \"Acar, S., Dumas, D., Organisciak, P., Berthiaume, K. (2023). Measuring original thinking in elementary school: Development and validation of a computational psychometric approach. Journal of Educational Psychology. http://dx.doi.org/10.13140/RG.2.2.19804.56968\",\n",
        "        \"url\": \"http://dx.doi.org/10.13140/RG.2.2.19804.56968\",\n",
        "        \"download\": {}\n",
        "    },\n",
        "    \"rater_cols\": ['D', 'K', 'T'],\n",
        "    \"range\": [1, 7],\n",
        "    \"language\": \"eng\",\n",
        "}\n",
        "df = pd.read_csv('../data/raw/motesp_0.csv')\n",
        "cleaned = prep_general(df, **desc, save_dir='../data/datasets')\n",
        "cleaned.sample(2)"
      ]
    },
    {
      "cell_type": "code",
      "execution_count": 10,
      "metadata": {
        "colab": {
          "base_uri": "https://localhost:8080/",
          "height": 380
        },
        "id": "9d5mIJsYQ7oD",
        "outputId": "a8cca78f-cd4c-4012-ef5a-b7fdb7df4baa"
      },
      "outputs": [
        {
          "ename": "NameError",
          "evalue": "name 'os' is not defined",
          "output_type": "error",
          "traceback": [
            "\u001b[0;31m---------------------------------------------------------------------------\u001b[0m",
            "\u001b[0;31mNameError\u001b[0m                                 Traceback (most recent call last)",
            "Input \u001b[0;32mIn [10]\u001b[0m, in \u001b[0;36m<cell line: 2>\u001b[0;34m()\u001b[0m\n\u001b[1;32m      1\u001b[0m src \u001b[38;5;241m=\u001b[39m \u001b[38;5;124m'\u001b[39m\u001b[38;5;124mmotesp\u001b[39m\u001b[38;5;124m'\u001b[39m\n\u001b[0;32m----> 2\u001b[0m motes_pilot \u001b[38;5;241m=\u001b[39m pd\u001b[38;5;241m.\u001b[39mread_csv(\u001b[43mos\u001b[49m\u001b[38;5;241m.\u001b[39mpath\u001b[38;5;241m.\u001b[39mjoin(base_dir, \u001b[38;5;124m'\u001b[39m\u001b[38;5;124mmotes_pilot_gt_scores.csv\u001b[39m\u001b[38;5;124m'\u001b[39m))\u001b[38;5;241m.\u001b[39mrename(columns\u001b[38;5;241m=\u001b[39m\u001b[38;5;28mdict\u001b[39m(D\u001b[38;5;241m=\u001b[39m\u001b[38;5;124m'\u001b[39m\u001b[38;5;124mrater1\u001b[39m\u001b[38;5;124m'\u001b[39m, K\u001b[38;5;241m=\u001b[39m\u001b[38;5;124m'\u001b[39m\u001b[38;5;124mrater2\u001b[39m\u001b[38;5;124m'\u001b[39m, T\u001b[38;5;241m=\u001b[39m\u001b[38;5;124m'\u001b[39m\u001b[38;5;124mrater3\u001b[39m\u001b[38;5;124m'\u001b[39m, ID\u001b[38;5;241m=\u001b[39m\u001b[38;5;124m'\u001b[39m\u001b[38;5;124mparticipant\u001b[39m\u001b[38;5;124m'\u001b[39m))\n\u001b[1;32m      3\u001b[0m motes_pilot[\u001b[38;5;124m'\u001b[39m\u001b[38;5;124mtype\u001b[39m\u001b[38;5;124m'\u001b[39m] \u001b[38;5;241m=\u001b[39m motes_pilot\u001b[38;5;241m.\u001b[39mtask\u001b[38;5;241m.\u001b[39mapply(\u001b[38;5;28;01mlambda\u001b[39;00m x: x\u001b[38;5;241m.\u001b[39msplit(\u001b[38;5;124m'\u001b[39m\u001b[38;5;124m_\u001b[39m\u001b[38;5;124m'\u001b[39m)[\u001b[38;5;241m0\u001b[39m])\n\u001b[1;32m      4\u001b[0m datasets[desc[\u001b[38;5;124m'\u001b[39m\u001b[38;5;124mname\u001b[39m\u001b[38;5;124m'\u001b[39m]] \u001b[38;5;241m=\u001b[39m prep_general(df, \u001b[38;5;241m*\u001b[39m\u001b[38;5;241m*\u001b[39mdesc)\n",
            "\u001b[0;31mNameError\u001b[0m: name 'os' is not defined"
          ]
        }
      ],
      "source": [
        "src = 'motesp'\n",
        "motes_pilot = pd.read_csv(os.path.join(base_dir, 'motes_pilot_gt_scores.csv')).rename(columns=dict(D='rater1', K='rater2', T='rater3', ID='participant'))\n",
        "motes_pilot['type'] = motes_pilot.task.apply(lambda x: x.split('_')[0])\n",
        "datasets[desc['name']] = prep_general(df, **desc)\n",
        "datasets[desc['name']].sample(2)"
      ]
    },
    {
      "cell_type": "markdown",
      "metadata": {
        "id": "tbICpoGS4nvR"
      },
      "source": [
        "## MOTES\n",
        "\n",
        "This is the post-pilot data. As with the pilot data, this dataset is available on request. Please reach out!"
      ]
    },
    {
      "cell_type": "code",
      "execution_count": 12,
      "metadata": {},
      "outputs": [
        {
          "data": {
            "text/markdown": [
              "### Loading *Acar et al., 2023*"
            ],
            "text/plain": [
              "<IPython.core.display.Markdown object>"
            ]
          },
          "metadata": {},
          "output_type": "display_data"
        },
        {
          "data": {
            "text/markdown": [
              "Acar, S., Dumas, D., Organisciak, P., Berthiaume, K. (2023). Measuring original thinking in elementary school: Development and validation of a computational psychometric approach. Journal of Educational Psychology. http://dx.doi.org/10.13140/RG.2.2.19804.56968"
            ],
            "text/plain": [
              "<IPython.core.display.Markdown object>"
            ]
          },
          "metadata": {},
          "output_type": "display_data"
        },
        {
          "data": {
            "text/markdown": [
              "- Renaming columns {'ID': 'participant'}"
            ],
            "text/plain": [
              "<IPython.core.display.Markdown object>"
            ]
          },
          "metadata": {},
          "output_type": "display_data"
        },
        {
          "name": "stdout",
          "output_type": "stream",
          "text": [
            "Replacing -999 with NaN in response column\n"
          ]
        },
        {
          "data": {
            "text/markdown": [
              "- name: motesf\n",
              "- no_of_prompts: 24\n",
              "- no_of_participants: 386\n",
              "- no_of_data_points: 8563\n",
              "- prompts: ['ball', 'sock', 'pencil', 'spoon', 'lightbulb', 'hat', 'bottle', 'toothbrush', 'smelly', 'soft', 'red', 'frozen', 'wet', 'huge', 'fun', 'tasty', 'school bus', 'games', 'library', 'lecture', 'phone', 'rain', 'closet', 'lunchroom']\n",
              "- ICC2k: 0.79\n",
              "- ICC2k_CI: 0.69-0.85\n",
              "- ICC3k: 0.84\n",
              "- rater_cols: ['Kscore', 'Hscore', 'Cscore', 'Tscore', 'Mscore']\n",
              "- no_of_raters: 5\n"
            ],
            "text/plain": [
              "<IPython.core.display.Markdown object>"
            ]
          },
          "metadata": {},
          "output_type": "display_data"
        },
        {
          "name": "stderr",
          "output_type": "stream",
          "text": [
            "/Users/peter.organisciak/anaconda3/lib/python3.9/site-packages/pandas/io/sql.py:761: UserWarning: pandas only support SQLAlchemy connectable(engine/connection) ordatabase string URI or sqlite3 DBAPI2 connectionother DBAPI2 objects are not tested, please consider using SQLAlchemy\n",
            "  warnings.warn(\n"
          ]
        },
        {
          "data": {
            "text/html": [
              "<div>\n",
              "<style scoped>\n",
              "    .dataframe tbody tr th:only-of-type {\n",
              "        vertical-align: middle;\n",
              "    }\n",
              "\n",
              "    .dataframe tbody tr th {\n",
              "        vertical-align: top;\n",
              "    }\n",
              "\n",
              "    .dataframe thead th {\n",
              "        text-align: right;\n",
              "    }\n",
              "</style>\n",
              "<table border=\"1\" class=\"dataframe\">\n",
              "  <thead>\n",
              "    <tr style=\"text-align: right;\">\n",
              "      <th></th>\n",
              "      <th>type</th>\n",
              "      <th>src</th>\n",
              "      <th>question</th>\n",
              "      <th>prompt</th>\n",
              "      <th>response</th>\n",
              "      <th>id</th>\n",
              "      <th>target</th>\n",
              "      <th>participant</th>\n",
              "      <th>response_num</th>\n",
              "    </tr>\n",
              "  </thead>\n",
              "  <tbody>\n",
              "    <tr>\n",
              "      <th>5874</th>\n",
              "      <td>completion</td>\n",
              "      <td>motesf</td>\n",
              "      <td>Complete this sentence in a surprising way: \"W...</td>\n",
              "      <td>school bus</td>\n",
              "      <td>yelled</td>\n",
              "      <td>motesf_school bus-91a208</td>\n",
              "      <td>2.3996</td>\n",
              "      <td>motesf98f137</td>\n",
              "      <td>3</td>\n",
              "    </tr>\n",
              "    <tr>\n",
              "      <th>6793</th>\n",
              "      <td>completion</td>\n",
              "      <td>motesf</td>\n",
              "      <td>Complete this sentence in a surprising way: \"W...</td>\n",
              "      <td>library</td>\n",
              "      <td>they were talking</td>\n",
              "      <td>motesf_library-ffb6db</td>\n",
              "      <td>2.1998</td>\n",
              "      <td>motesfe56954</td>\n",
              "      <td>7</td>\n",
              "    </tr>\n",
              "  </tbody>\n",
              "</table>\n",
              "</div>"
            ],
            "text/plain": [
              "            type     src                                           question  \\\n",
              "5874  completion  motesf  Complete this sentence in a surprising way: \"W...   \n",
              "6793  completion  motesf  Complete this sentence in a surprising way: \"W...   \n",
              "\n",
              "          prompt           response                        id  target  \\\n",
              "5874  school bus             yelled  motesf_school bus-91a208  2.3996   \n",
              "6793     library  they were talking     motesf_library-ffb6db  2.1998   \n",
              "\n",
              "       participant  response_num  \n",
              "5874  motesf98f137             3  \n",
              "6793  motesfe56954             7  "
            ]
          },
          "execution_count": 12,
          "metadata": {},
          "output_type": "execute_result"
        }
      ],
      "source": [
        "desc = {\n",
        "    \"name\": \"motesf\",\n",
        "    \"meta\": {\n",
        "        \"inline\": \"Acar et al., 2023\",\n",
        "        \"citation\": \"Acar, S., Dumas, D., Organisciak, P., Berthiaume, K. (2023). Measuring original thinking in elementary school: Development and validation of a computational psychometric approach. Journal of Educational Psychology. http://dx.doi.org/10.13140/RG.2.2.19804.56968\",\n",
        "        \"url\": \"http://dx.doi.org/10.13140/RG.2.2.19804.56968\",\n",
        "        \"download\": {}\n",
        "    },\n",
        "    \"column_mappings\": {'ID':'participant'},\n",
        "    \"null_marker\": -999,\n",
        "    \"rater_cols\": [\"Kscore\", \"Hscore\", \"Cscore\", \"Tscore\", \"Mscore\"],\n",
        "    \"range\": [1, 5], # note different scale than motesp pilot\n",
        "    \"language\": \"eng\",\n",
        "}\n",
        "# data was already reshaped to long format for previous study\n",
        "df = pd.read_csv('../data/raw/motesf_0.csv')\n",
        "cleaned = prep_general(df, **desc, save_dir='../data/datasets')\n",
        "cleaned.sample(2)"
      ]
    },
    {
      "cell_type": "code",
      "execution_count": null,
      "metadata": {
        "colab": {
          "base_uri": "https://localhost:8080/",
          "height": 301
        },
        "id": "dDWDbuTf94vS",
        "outputId": "9b23149d-3696-4f31-d587-7bae3279ce8f"
      },
      "outputs": [
        {
          "data": {
            "text/html": [
              "\n",
              "  <div id=\"df-9c36acb3-c589-4c6c-b892-b2014b191fc1\">\n",
              "    <div class=\"colab-df-container\">\n",
              "      <div>\n",
              "<style scoped>\n",
              "    .dataframe tbody tr th:only-of-type {\n",
              "        vertical-align: middle;\n",
              "    }\n",
              "\n",
              "    .dataframe tbody tr th {\n",
              "        vertical-align: top;\n",
              "    }\n",
              "\n",
              "    .dataframe thead th {\n",
              "        text-align: right;\n",
              "    }\n",
              "</style>\n",
              "<table border=\"1\" class=\"dataframe\">\n",
              "  <thead>\n",
              "    <tr style=\"text-align: right;\">\n",
              "      <th></th>\n",
              "      <th>Type</th>\n",
              "      <th>Description</th>\n",
              "      <th>ICC</th>\n",
              "      <th>F</th>\n",
              "      <th>df1</th>\n",
              "      <th>df2</th>\n",
              "      <th>pval</th>\n",
              "      <th>CI95%</th>\n",
              "    </tr>\n",
              "  </thead>\n",
              "  <tbody>\n",
              "    <tr>\n",
              "      <th>0</th>\n",
              "      <td>ICC1</td>\n",
              "      <td>Single raters absolute</td>\n",
              "      <td>0.40</td>\n",
              "      <td>4.34</td>\n",
              "      <td>8535</td>\n",
              "      <td>34144</td>\n",
              "      <td>0.0</td>\n",
              "      <td>[0.39, 0.41]</td>\n",
              "    </tr>\n",
              "    <tr>\n",
              "      <th>1</th>\n",
              "      <td>ICC2</td>\n",
              "      <td>Single random raters</td>\n",
              "      <td>0.42</td>\n",
              "      <td>6.40</td>\n",
              "      <td>8535</td>\n",
              "      <td>34140</td>\n",
              "      <td>0.0</td>\n",
              "      <td>[0.3, 0.52]</td>\n",
              "    </tr>\n",
              "    <tr>\n",
              "      <th>2</th>\n",
              "      <td>ICC3</td>\n",
              "      <td>Single fixed raters</td>\n",
              "      <td>0.52</td>\n",
              "      <td>6.40</td>\n",
              "      <td>8535</td>\n",
              "      <td>34140</td>\n",
              "      <td>0.0</td>\n",
              "      <td>[0.51, 0.53]</td>\n",
              "    </tr>\n",
              "    <tr>\n",
              "      <th>3</th>\n",
              "      <td>ICC1k</td>\n",
              "      <td>Average raters absolute</td>\n",
              "      <td>0.77</td>\n",
              "      <td>4.34</td>\n",
              "      <td>8535</td>\n",
              "      <td>34144</td>\n",
              "      <td>0.0</td>\n",
              "      <td>[0.76, 0.78]</td>\n",
              "    </tr>\n",
              "    <tr>\n",
              "      <th>4</th>\n",
              "      <td>ICC2k</td>\n",
              "      <td>Average random raters</td>\n",
              "      <td>0.79</td>\n",
              "      <td>6.40</td>\n",
              "      <td>8535</td>\n",
              "      <td>34140</td>\n",
              "      <td>0.0</td>\n",
              "      <td>[0.69, 0.85]</td>\n",
              "    </tr>\n",
              "    <tr>\n",
              "      <th>5</th>\n",
              "      <td>ICC3k</td>\n",
              "      <td>Average fixed raters</td>\n",
              "      <td>0.84</td>\n",
              "      <td>6.40</td>\n",
              "      <td>8535</td>\n",
              "      <td>34140</td>\n",
              "      <td>0.0</td>\n",
              "      <td>[0.84, 0.85]</td>\n",
              "    </tr>\n",
              "  </tbody>\n",
              "</table>\n",
              "</div>\n",
              "      <button class=\"colab-df-convert\" onclick=\"convertToInteractive('df-9c36acb3-c589-4c6c-b892-b2014b191fc1')\"\n",
              "              title=\"Convert this dataframe to an interactive table.\"\n",
              "              style=\"display:none;\">\n",
              "        \n",
              "  <svg xmlns=\"http://www.w3.org/2000/svg\" height=\"24px\"viewBox=\"0 0 24 24\"\n",
              "       width=\"24px\">\n",
              "    <path d=\"M0 0h24v24H0V0z\" fill=\"none\"/>\n",
              "    <path d=\"M18.56 5.44l.94 2.06.94-2.06 2.06-.94-2.06-.94-.94-2.06-.94 2.06-2.06.94zm-11 1L8.5 8.5l.94-2.06 2.06-.94-2.06-.94L8.5 2.5l-.94 2.06-2.06.94zm10 10l.94 2.06.94-2.06 2.06-.94-2.06-.94-.94-2.06-.94 2.06-2.06.94z\"/><path d=\"M17.41 7.96l-1.37-1.37c-.4-.4-.92-.59-1.43-.59-.52 0-1.04.2-1.43.59L10.3 9.45l-7.72 7.72c-.78.78-.78 2.05 0 2.83L4 21.41c.39.39.9.59 1.41.59.51 0 1.02-.2 1.41-.59l7.78-7.78 2.81-2.81c.8-.78.8-2.07 0-2.86zM5.41 20L4 18.59l7.72-7.72 1.47 1.35L5.41 20z\"/>\n",
              "  </svg>\n",
              "      </button>\n",
              "      \n",
              "  <style>\n",
              "    .colab-df-container {\n",
              "      display:flex;\n",
              "      flex-wrap:wrap;\n",
              "      gap: 12px;\n",
              "    }\n",
              "\n",
              "    .colab-df-convert {\n",
              "      background-color: #E8F0FE;\n",
              "      border: none;\n",
              "      border-radius: 50%;\n",
              "      cursor: pointer;\n",
              "      display: none;\n",
              "      fill: #1967D2;\n",
              "      height: 32px;\n",
              "      padding: 0 0 0 0;\n",
              "      width: 32px;\n",
              "    }\n",
              "\n",
              "    .colab-df-convert:hover {\n",
              "      background-color: #E2EBFA;\n",
              "      box-shadow: 0px 1px 2px rgba(60, 64, 67, 0.3), 0px 1px 3px 1px rgba(60, 64, 67, 0.15);\n",
              "      fill: #174EA6;\n",
              "    }\n",
              "\n",
              "    [theme=dark] .colab-df-convert {\n",
              "      background-color: #3B4455;\n",
              "      fill: #D2E3FC;\n",
              "    }\n",
              "\n",
              "    [theme=dark] .colab-df-convert:hover {\n",
              "      background-color: #434B5C;\n",
              "      box-shadow: 0px 1px 3px 1px rgba(0, 0, 0, 0.15);\n",
              "      filter: drop-shadow(0px 1px 2px rgba(0, 0, 0, 0.3));\n",
              "      fill: #FFFFFF;\n",
              "    }\n",
              "  </style>\n",
              "\n",
              "      <script>\n",
              "        const buttonEl =\n",
              "          document.querySelector('#df-9c36acb3-c589-4c6c-b892-b2014b191fc1 button.colab-df-convert');\n",
              "        buttonEl.style.display =\n",
              "          google.colab.kernel.accessAllowed ? 'block' : 'none';\n",
              "\n",
              "        async function convertToInteractive(key) {\n",
              "          const element = document.querySelector('#df-9c36acb3-c589-4c6c-b892-b2014b191fc1');\n",
              "          const dataTable =\n",
              "            await google.colab.kernel.invokeFunction('convertToInteractive',\n",
              "                                                     [key], {});\n",
              "          if (!dataTable) return;\n",
              "\n",
              "          const docLinkHtml = 'Like what you see? Visit the ' +\n",
              "            '<a target=\"_blank\" href=https://colab.research.google.com/notebooks/data_table.ipynb>data table notebook</a>'\n",
              "            + ' to learn more about interactive tables.';\n",
              "          element.innerHTML = '';\n",
              "          dataTable['output_type'] = 'display_data';\n",
              "          await google.colab.output.renderOutput(dataTable, element);\n",
              "          const docLink = document.createElement('div');\n",
              "          docLink.innerHTML = docLinkHtml;\n",
              "          element.appendChild(docLink);\n",
              "        }\n",
              "      </script>\n",
              "    </div>\n",
              "  </div>\n",
              "  "
            ],
            "text/plain": [
              "    Type              Description   ICC     F   df1    df2  pval         CI95%\n",
              "0   ICC1   Single raters absolute  0.40  4.34  8535  34144   0.0  [0.39, 0.41]\n",
              "1   ICC2     Single random raters  0.42  6.40  8535  34140   0.0   [0.3, 0.52]\n",
              "2   ICC3      Single fixed raters  0.52  6.40  8535  34140   0.0  [0.51, 0.53]\n",
              "3  ICC1k  Average raters absolute  0.77  4.34  8535  34144   0.0  [0.76, 0.78]\n",
              "4  ICC2k    Average random raters  0.79  6.40  8535  34140   0.0  [0.69, 0.85]\n",
              "5  ICC3k     Average fixed raters  0.84  6.40  8535  34140   0.0  [0.84, 0.85]"
            ]
          },
          "metadata": {},
          "output_type": "display_data"
        },
        {
          "data": {
            "text/html": [
              "\n",
              "  <div id=\"df-be75537f-1d7c-4952-bcce-3ca2a4bd51ab\">\n",
              "    <div class=\"colab-df-container\">\n",
              "      <div>\n",
              "<style scoped>\n",
              "    .dataframe tbody tr th:only-of-type {\n",
              "        vertical-align: middle;\n",
              "    }\n",
              "\n",
              "    .dataframe tbody tr th {\n",
              "        vertical-align: top;\n",
              "    }\n",
              "\n",
              "    .dataframe thead th {\n",
              "        text-align: right;\n",
              "    }\n",
              "</style>\n",
              "<table border=\"1\" class=\"dataframe\">\n",
              "  <thead>\n",
              "    <tr style=\"text-align: right;\">\n",
              "      <th></th>\n",
              "      <th>type</th>\n",
              "      <th>src</th>\n",
              "      <th>question</th>\n",
              "      <th>prompt</th>\n",
              "      <th>response</th>\n",
              "      <th>id</th>\n",
              "      <th>target</th>\n",
              "      <th>participant</th>\n",
              "      <th>response_num</th>\n",
              "    </tr>\n",
              "  </thead>\n",
              "  <tbody>\n",
              "    <tr>\n",
              "      <th>5093</th>\n",
              "      <td>instances</td>\n",
              "      <td>motesf</td>\n",
              "      <td>What is a surprising example of something HUGE?</td>\n",
              "      <td>huge</td>\n",
              "      <td>my dad is bigger than me.</td>\n",
              "      <td>motesf_huge-6cae</td>\n",
              "      <td>2.6</td>\n",
              "      <td>motesf138bb0</td>\n",
              "      <td>8</td>\n",
              "    </tr>\n",
              "  </tbody>\n",
              "</table>\n",
              "</div>\n",
              "      <button class=\"colab-df-convert\" onclick=\"convertToInteractive('df-be75537f-1d7c-4952-bcce-3ca2a4bd51ab')\"\n",
              "              title=\"Convert this dataframe to an interactive table.\"\n",
              "              style=\"display:none;\">\n",
              "        \n",
              "  <svg xmlns=\"http://www.w3.org/2000/svg\" height=\"24px\"viewBox=\"0 0 24 24\"\n",
              "       width=\"24px\">\n",
              "    <path d=\"M0 0h24v24H0V0z\" fill=\"none\"/>\n",
              "    <path d=\"M18.56 5.44l.94 2.06.94-2.06 2.06-.94-2.06-.94-.94-2.06-.94 2.06-2.06.94zm-11 1L8.5 8.5l.94-2.06 2.06-.94-2.06-.94L8.5 2.5l-.94 2.06-2.06.94zm10 10l.94 2.06.94-2.06 2.06-.94-2.06-.94-.94-2.06-.94 2.06-2.06.94z\"/><path d=\"M17.41 7.96l-1.37-1.37c-.4-.4-.92-.59-1.43-.59-.52 0-1.04.2-1.43.59L10.3 9.45l-7.72 7.72c-.78.78-.78 2.05 0 2.83L4 21.41c.39.39.9.59 1.41.59.51 0 1.02-.2 1.41-.59l7.78-7.78 2.81-2.81c.8-.78.8-2.07 0-2.86zM5.41 20L4 18.59l7.72-7.72 1.47 1.35L5.41 20z\"/>\n",
              "  </svg>\n",
              "      </button>\n",
              "      \n",
              "  <style>\n",
              "    .colab-df-container {\n",
              "      display:flex;\n",
              "      flex-wrap:wrap;\n",
              "      gap: 12px;\n",
              "    }\n",
              "\n",
              "    .colab-df-convert {\n",
              "      background-color: #E8F0FE;\n",
              "      border: none;\n",
              "      border-radius: 50%;\n",
              "      cursor: pointer;\n",
              "      display: none;\n",
              "      fill: #1967D2;\n",
              "      height: 32px;\n",
              "      padding: 0 0 0 0;\n",
              "      width: 32px;\n",
              "    }\n",
              "\n",
              "    .colab-df-convert:hover {\n",
              "      background-color: #E2EBFA;\n",
              "      box-shadow: 0px 1px 2px rgba(60, 64, 67, 0.3), 0px 1px 3px 1px rgba(60, 64, 67, 0.15);\n",
              "      fill: #174EA6;\n",
              "    }\n",
              "\n",
              "    [theme=dark] .colab-df-convert {\n",
              "      background-color: #3B4455;\n",
              "      fill: #D2E3FC;\n",
              "    }\n",
              "\n",
              "    [theme=dark] .colab-df-convert:hover {\n",
              "      background-color: #434B5C;\n",
              "      box-shadow: 0px 1px 3px 1px rgba(0, 0, 0, 0.15);\n",
              "      filter: drop-shadow(0px 1px 2px rgba(0, 0, 0, 0.3));\n",
              "      fill: #FFFFFF;\n",
              "    }\n",
              "  </style>\n",
              "\n",
              "      <script>\n",
              "        const buttonEl =\n",
              "          document.querySelector('#df-be75537f-1d7c-4952-bcce-3ca2a4bd51ab button.colab-df-convert');\n",
              "        buttonEl.style.display =\n",
              "          google.colab.kernel.accessAllowed ? 'block' : 'none';\n",
              "\n",
              "        async function convertToInteractive(key) {\n",
              "          const element = document.querySelector('#df-be75537f-1d7c-4952-bcce-3ca2a4bd51ab');\n",
              "          const dataTable =\n",
              "            await google.colab.kernel.invokeFunction('convertToInteractive',\n",
              "                                                     [key], {});\n",
              "          if (!dataTable) return;\n",
              "\n",
              "          const docLinkHtml = 'Like what you see? Visit the ' +\n",
              "            '<a target=\"_blank\" href=https://colab.research.google.com/notebooks/data_table.ipynb>data table notebook</a>'\n",
              "            + ' to learn more about interactive tables.';\n",
              "          element.innerHTML = '';\n",
              "          dataTable['output_type'] = 'display_data';\n",
              "          await google.colab.output.renderOutput(dataTable, element);\n",
              "          const docLink = document.createElement('div');\n",
              "          docLink.innerHTML = docLinkHtml;\n",
              "          element.appendChild(docLink);\n",
              "        }\n",
              "      </script>\n",
              "    </div>\n",
              "  </div>\n",
              "  "
            ],
            "text/plain": [
              "           type     src                                         question  \\\n",
              "5093  instances  motesf  What is a surprising example of something HUGE?   \n",
              "\n",
              "     prompt                   response                id  target  \\\n",
              "5093   huge  my dad is bigger than me.  motesf_huge-6cae     2.6   \n",
              "\n",
              "       participant response_num  \n",
              "5093  motesf138bb0            8  "
            ]
          },
          "execution_count": 203,
          "metadata": {},
          "output_type": "execute_result"
        }
      ],
      "source": [
        "src = 'motesf'\n",
        "\n",
        "corrected = True # use spelling corrected columns\n",
        "items = [col.replace('_prompt', '') for col in df.columns if col.startswith('G') and col.endswith('_prompt')]\n",
        "\n",
        "collector = []\n",
        "# RESHAPE TO long\n",
        "for item in items:\n",
        "    subset = df[['participant'] + [col for col in df.columns if col.startswith(item)]].copy()\n",
        "    subset.columns = [col.split('_')[-1] for col in subset.columns]\n",
        "    subset['game'] = item.split('_')[0]\n",
        "    subset['prompt_code'] = item\n",
        "    collector.append(subset)\n",
        "reshaped = pd.concat(collector)\n",
        "# remove non-responses\n",
        "reshaped = reshaped[~reshaped.raw.isna()]\n",
        "# restore original wording in the test\n",
        "reshaped.prompt =reshaped.prompt.str.replace('light bulbs', 'lightbulb').str.replace('hat cap', 'hat').str.replace('soccer ball', 'ball').str.replace('lead pencil', 'pencil').str.replace('spoons', 'spoon')\n",
        "\n",
        "# add display order\n",
        "displayorder = df[['participant'] + [col for col in df.columns if 'DO' in col]]\n",
        "displayorder = displayorder.melt(id_vars='participant', value_name='prompt_code')\n",
        "displayorder['response_num'] = displayorder.variable.apply(lambda x:x[-1])\n",
        "reshaped = reshaped.merge(displayorder[['participant', 'prompt_code', 'response_num']])\n",
        "# use spelling corrected response, unless set otherwise\n",
        "reshaped = reshaped.rename(columns={('corrected' if corrected else 'raw'):'response'})\n",
        "reshaped['type'] = reshaped['game'].replace({'G1':'uses', 'G2': 'instances', 'G3':'completion'})\n",
        "\n",
        "completion_ref = {\n",
        "    \"playground\": \"When the friends met on the playground...\",\n",
        "    \"school bus\": \"When I got on the school bus...\",\n",
        "    \"games\": \"At a sleepover we...\",\n",
        "    'library': \"When the kids were in the library...\",\n",
        "    'lecture': \"When the teacher was talking...\",\n",
        "    'phone': \"My friend called me on the phone to tell me...\",\n",
        "    'rain': \"It started raining and...\",\n",
        "    'closet': \"When I opened my closet...\",\n",
        "    'lunchroom': \"When I was at lunch...\"\n",
        "}\n",
        "reshaped.loc[reshaped.type == 'uses', 'question'] = reshaped.loc[reshaped.type == 'uses', 'prompt'].apply(lambda x: f\"What is a surprising use for a {x.upper()}?\")\n",
        "reshaped.loc[reshaped.type == 'instances','question'] = reshaped.loc[reshaped.type == 'instances', 'prompt'].apply(lambda x: f\"What is a surprising example of something {x.upper()}?\")\n",
        "reshaped.loc[(reshaped.type == 'completion'), 'question'] = reshaped.loc[reshaped.type == 'completion', 'prompt'].replace(completion_ref).str.replace(\"(.*)\", 'Complete this sentence in a surprising way: \"\\\\1\"...', regex=True)\n",
        "\n",
        "datasets[src] = prep_general(reshaped, src,\n",
        "                             rater_cols=[col for col in reshaped if 'score' in col.lower()],\n",
        "                             include_rater_std=include_rater_std, inputrange=(1,5))\n",
        "\n",
        "datasets[src].sample()"
      ]
    },
    {
      "cell_type": "markdown",
      "metadata": {},
      "source": [
        "## Multilingual semantic distance\n",
        "\n",
        "From: Patterson, J. D., Merseal, H. M., Johnson, D. R., Agnoli, S., Baas, M., Baker, B. S., ... & Beaty, R. E. (2023). Multilingual semantic distance: Automatic verbal creativity assessment in many languages. Psychology of Aesthetics, Creativity, and the Arts, 17(4), 495."
      ]
    },
    {
      "cell_type": "markdown",
      "metadata": {},
      "source": [
        "\n",
        "In the paper, the *exact* provenance of subdata isn't specified, so needs further investigation to determine why additional citations are needed:\n",
        "\n",
        "> We received 30 datasets, with a combined sample size of 6,522, reflecting data from 22 labs and 12 languages: Arabic, Chinese, Dutch, English, Farsi, French German, Hebrew, Italian, Polish, Russian, and Spanish (see Figure 1). Several datasets came from published studies, whereas others have not been used for publication.\n",
        "\n",
        "For verification, here are the published ICC values (which look to be the ICC3k values):\n",
        "\n",
        "| Dataset  | Raters | ICC  |\n",
        "|----------|--------|------|\n",
        "| Arabic1  | 1      | N/A  |\n",
        "| Chinese1 | 4      | 0.49 |\n",
        "| Chinese2 | 4      | 0.64 |\n",
        "| Dutch1   | 2      | 0.81 |\n",
        "| Dutch2   | 2      | 0.94 |\n",
        "| Dutch3   | 2      | 0.87 |\n",
        "| Dutch4   | 3      | 0.85 |\n",
        "| English1 | 4      | 0.84 |\n",
        "| English2 | 4      | 0.77 |\n",
        "| English3 | 3      | 0.56 |\n",
        "| English4 | 3      | 0.72 |\n",
        "| English5 | 3      | 0.78 |\n",
        "| English6 | 3      | 0.64 |\n",
        "| Farsi1   | 3      | 0.69 |\n",
        "| Farsi2   | 3      | 0.75 |\n",
        "| French1  | 4      | 0.8  |\n",
        "| French2  | 3      | 0.64 |\n",
        "| French3  | 3      | 0.75 |\n",
        "| French4  | 3      | 0.8  |\n",
        "| German1  | 4      | 0.71 |\n",
        "| German2  | 3      | 0.78 |\n",
        "| German3  | 3      | 0.86 |\n",
        "| Hebrew1  | 45     | 0.88 |\n",
        "| Italian1 | 2      | 0.89 |\n",
        "| Italian2 | 2      | 0.88 |\n",
        "| Polish1  | 3      | 0.82 |\n",
        "| Polish2  | 2      | 0.6  |\n",
        "| Russian1 | 3      | 0.72 |\n",
        "| Russian2 | 3      | 0.79 |\n",
        "| Spanish1 | 3      | 0.74 |"
      ]
    },
    {
      "cell_type": "code",
      "execution_count": 31,
      "metadata": {},
      "outputs": [],
      "source": [
        "\n",
        "desc = {\n",
        "    \"name\": \"multiaut\",\n",
        "    \"test_type\": \"uses\",\n",
        "    \"meta\": {\n",
        "        \"inline\": \"Patterson et al., 2023\",\n",
        "        \"citation\": \"Patterson, J. D., Merseal, H. M., Johnson, D. R., Agnoli, S., Baas, M., Baker, B. S., ... & Beaty, R. E. (2023). Multilingual semantic distance: Automatic verbal creativity assessment in many languages. Psychology of Aesthetics, Creativity, and the Arts, 17(4), 495.\",\n",
        "        \"url\": \"https://doi.org/10.1037/aca0000618\",\n",
        "        \"download\": {\n",
        "            \"url\": \"https://files.osf.io/v1/resources/5cy9n/providers/github/processed-data/?zip=\",\n",
        "            \"extension\": \"zip\",\n",
        "            # Excluded for redundancy\n",
        "            # english5 is the same as bs12\n",
        "            # english4 is the same as snb17\n",
        "            # english1 is the same as betal18\n",
        "            \"archive_files\": [\n",
        "                \"arabic1.csv\", \"dutch4.csv\", \"english6.csv\", \"german3.csv\", \"russian1.csv\",\n",
        "                \"chinese1.csv\", \"french2.csv\", \"hebrew1.csv\", \"russian2.csv\",\n",
        "                \"chinese2.csv\", \"english2.csv\", \"french3.csv\", \"italian1.csv\", \"spanish1.csv\",\n",
        "                \"dutch1.csv\", \"english3.csv\", \"french4.csv\", \"italian2.csv\",\n",
        "                \"dutch2.csv\", \"german1.csv\", \"polish1.csv\",\n",
        "                \"dutch3.csv\", \"german2.csv\", \"polish2.csv\"\n",
        "            ]\n",
        "        }\n",
        "    },\n",
        "    \"column_mappings\": {'ID': 'participant', 'order':'response_num'}\n",
        "}\n"
      ]
    },
    {
      "cell_type": "code",
      "execution_count": 33,
      "metadata": {},
      "outputs": [
        {
          "name": "stdout",
          "output_type": "stream",
          "text": [
            "arabic1\n"
          ]
        },
        {
          "data": {
            "text/markdown": [
              "### Loading *Patterson et al., 2023*"
            ],
            "text/plain": [
              "<IPython.core.display.Markdown object>"
            ]
          },
          "metadata": {},
          "output_type": "display_data"
        },
        {
          "data": {
            "text/markdown": [
              "Patterson, J. D., Merseal, H. M., Johnson, D. R., Agnoli, S., Baas, M., Baker, B. S., ... & Beaty, R. E. (2023). Multilingual semantic distance: Automatic verbal creativity assessment in many languages. Psychology of Aesthetics, Creativity, and the Arts, 17(4), 495."
            ],
            "text/plain": [
              "<IPython.core.display.Markdown object>"
            ]
          },
          "metadata": {},
          "output_type": "display_data"
        },
        {
          "data": {
            "text/markdown": [
              "- Renaming columns {'ID': 'participant', 'order': 'response_num'}"
            ],
            "text/plain": [
              "<IPython.core.display.Markdown object>"
            ]
          },
          "metadata": {},
          "output_type": "display_data"
        },
        {
          "data": {
            "text/markdown": [
              "- Inferred range of original data: (1, 5)"
            ],
            "text/plain": [
              "<IPython.core.display.Markdown object>"
            ]
          },
          "metadata": {},
          "output_type": "display_data"
        },
        {
          "data": {
            "text/markdown": [
              "- name: multiaut_arabic1\n",
              "- no_of_prompts: 1\n",
              "- no_of_participants: 160\n",
              "- no_of_data_points: 1524\n",
              "- prompts: ['Tin cans']\n",
              "- ICC2k: None\n",
              "- ICC2k_CI: None\n",
              "- ICC3k: None\n",
              "- rater_cols: ['rater1']\n",
              "- no_of_raters: 1\n"
            ],
            "text/plain": [
              "<IPython.core.display.Markdown object>"
            ]
          },
          "metadata": {},
          "output_type": "display_data"
        },
        {
          "name": "stderr",
          "output_type": "stream",
          "text": [
            "/Users/peter.organisciak/anaconda3/lib/python3.9/site-packages/pandas/io/sql.py:761: UserWarning: pandas only support SQLAlchemy connectable(engine/connection) ordatabase string URI or sqlite3 DBAPI2 connectionother DBAPI2 objects are not tested, please consider using SQLAlchemy\n",
            "  warnings.warn(\n"
          ]
        },
        {
          "data": {
            "text/html": [
              "<div>\n",
              "<style scoped>\n",
              "    .dataframe tbody tr th:only-of-type {\n",
              "        vertical-align: middle;\n",
              "    }\n",
              "\n",
              "    .dataframe tbody tr th {\n",
              "        vertical-align: top;\n",
              "    }\n",
              "\n",
              "    .dataframe thead th {\n",
              "        text-align: right;\n",
              "    }\n",
              "</style>\n",
              "<table border=\"1\" class=\"dataframe\">\n",
              "  <thead>\n",
              "    <tr style=\"text-align: right;\">\n",
              "      <th></th>\n",
              "      <th>type</th>\n",
              "      <th>src</th>\n",
              "      <th>question</th>\n",
              "      <th>prompt</th>\n",
              "      <th>response</th>\n",
              "      <th>id</th>\n",
              "      <th>target</th>\n",
              "      <th>participant</th>\n",
              "      <th>response_num</th>\n",
              "    </tr>\n",
              "  </thead>\n",
              "  <tbody>\n",
              "    <tr>\n",
              "      <th>523</th>\n",
              "      <td>uses</td>\n",
              "      <td>multiaut_arabic1</td>\n",
              "      <td>ما هو استخدام مفاجئ لـ TIN CANS؟</td>\n",
              "      <td>Tin cans</td>\n",
              "      <td>صناعة الأبواب</td>\n",
              "      <td>multiaut_arabic1_Tin cans-5cafcb</td>\n",
              "      <td>3.0</td>\n",
              "      <td>multiaut_arabic171</td>\n",
              "      <td>5</td>\n",
              "    </tr>\n",
              "    <tr>\n",
              "      <th>1166</th>\n",
              "      <td>uses</td>\n",
              "      <td>multiaut_arabic1</td>\n",
              "      <td>ما هو استخدام مفاجئ لـ TIN CANS؟</td>\n",
              "      <td>Tin cans</td>\n",
              "      <td>زراعة بذور تستخدم  للتجربة في المعمل</td>\n",
              "      <td>multiaut_arabic1_Tin cans-dd65e9</td>\n",
              "      <td>2.0</td>\n",
              "      <td>multiaut_arabic1149</td>\n",
              "      <td>6</td>\n",
              "    </tr>\n",
              "  </tbody>\n",
              "</table>\n",
              "</div>"
            ],
            "text/plain": [
              "      type               src                          question    prompt  \\\n",
              "523   uses  multiaut_arabic1  ما هو استخدام مفاجئ لـ TIN CANS؟  Tin cans   \n",
              "1166  uses  multiaut_arabic1  ما هو استخدام مفاجئ لـ TIN CANS؟  Tin cans   \n",
              "\n",
              "                                  response                                id  \\\n",
              "523                          صناعة الأبواب  multiaut_arabic1_Tin cans-5cafcb   \n",
              "1166  زراعة بذور تستخدم  للتجربة في المعمل  multiaut_arabic1_Tin cans-dd65e9   \n",
              "\n",
              "      target          participant  response_num  \n",
              "523      3.0   multiaut_arabic171             5  \n",
              "1166     2.0  multiaut_arabic1149             6  "
            ]
          },
          "metadata": {},
          "output_type": "display_data"
        },
        {
          "name": "stdout",
          "output_type": "stream",
          "text": [
            "dutch4\n"
          ]
        },
        {
          "data": {
            "text/markdown": [
              "### Loading *Patterson et al., 2023*"
            ],
            "text/plain": [
              "<IPython.core.display.Markdown object>"
            ]
          },
          "metadata": {},
          "output_type": "display_data"
        },
        {
          "data": {
            "text/markdown": [
              "Patterson, J. D., Merseal, H. M., Johnson, D. R., Agnoli, S., Baas, M., Baker, B. S., ... & Beaty, R. E. (2023). Multilingual semantic distance: Automatic verbal creativity assessment in many languages. Psychology of Aesthetics, Creativity, and the Arts, 17(4), 495."
            ],
            "text/plain": [
              "<IPython.core.display.Markdown object>"
            ]
          },
          "metadata": {},
          "output_type": "display_data"
        },
        {
          "data": {
            "text/markdown": [
              "- Renaming columns {'ID': 'participant', 'order': 'response_num'}"
            ],
            "text/plain": [
              "<IPython.core.display.Markdown object>"
            ]
          },
          "metadata": {},
          "output_type": "display_data"
        },
        {
          "data": {
            "text/markdown": [
              "- Inferred range of original data: (0.0, 5.0)"
            ],
            "text/plain": [
              "<IPython.core.display.Markdown object>"
            ]
          },
          "metadata": {},
          "output_type": "display_data"
        },
        {
          "data": {
            "text/markdown": [
              "- name: multiaut_dutch4\n",
              "- no_of_prompts: 1\n",
              "- no_of_participants: 99\n",
              "- no_of_data_points: 2414\n",
              "- prompts: ['brick']\n",
              "- ICC2k: 0.84\n",
              "- ICC2k_CI: 0.82-0.86\n",
              "- ICC3k: 0.85\n",
              "- rater_cols: ['rater1', 'rater2', 'rater3']\n",
              "- no_of_raters: 3\n"
            ],
            "text/plain": [
              "<IPython.core.display.Markdown object>"
            ]
          },
          "metadata": {},
          "output_type": "display_data"
        },
        {
          "name": "stderr",
          "output_type": "stream",
          "text": [
            "/Users/peter.organisciak/anaconda3/lib/python3.9/site-packages/pandas/io/sql.py:761: UserWarning: pandas only support SQLAlchemy connectable(engine/connection) ordatabase string URI or sqlite3 DBAPI2 connectionother DBAPI2 objects are not tested, please consider using SQLAlchemy\n",
            "  warnings.warn(\n"
          ]
        },
        {
          "data": {
            "text/html": [
              "<div>\n",
              "<style scoped>\n",
              "    .dataframe tbody tr th:only-of-type {\n",
              "        vertical-align: middle;\n",
              "    }\n",
              "\n",
              "    .dataframe tbody tr th {\n",
              "        vertical-align: top;\n",
              "    }\n",
              "\n",
              "    .dataframe thead th {\n",
              "        text-align: right;\n",
              "    }\n",
              "</style>\n",
              "<table border=\"1\" class=\"dataframe\">\n",
              "  <thead>\n",
              "    <tr style=\"text-align: right;\">\n",
              "      <th></th>\n",
              "      <th>type</th>\n",
              "      <th>src</th>\n",
              "      <th>question</th>\n",
              "      <th>prompt</th>\n",
              "      <th>response</th>\n",
              "      <th>id</th>\n",
              "      <th>target</th>\n",
              "      <th>participant</th>\n",
              "      <th>response_num</th>\n",
              "    </tr>\n",
              "  </thead>\n",
              "  <tbody>\n",
              "    <tr>\n",
              "      <th>266</th>\n",
              "      <td>uses</td>\n",
              "      <td>multiaut_dutch4</td>\n",
              "      <td>Wat is een verrassend gebruik voor een BRICK?</td>\n",
              "      <td>brick</td>\n",
              "      <td>Eten</td>\n",
              "      <td>multiaut_dutch4_brick-04be02</td>\n",
              "      <td>3.6672</td>\n",
              "      <td>multiaut_dutch468</td>\n",
              "      <td>None</td>\n",
              "    </tr>\n",
              "    <tr>\n",
              "      <th>2355</th>\n",
              "      <td>uses</td>\n",
              "      <td>multiaut_dutch4</td>\n",
              "      <td>Wat is een verrassend gebruik voor een BRICK?</td>\n",
              "      <td>brick</td>\n",
              "      <td>Wc pot</td>\n",
              "      <td>multiaut_dutch4_brick-984f55</td>\n",
              "      <td>4.2000</td>\n",
              "      <td>multiaut_dutch458</td>\n",
              "      <td>None</td>\n",
              "    </tr>\n",
              "  </tbody>\n",
              "</table>\n",
              "</div>"
            ],
            "text/plain": [
              "      type              src                                       question  \\\n",
              "266   uses  multiaut_dutch4  Wat is een verrassend gebruik voor een BRICK?   \n",
              "2355  uses  multiaut_dutch4  Wat is een verrassend gebruik voor een BRICK?   \n",
              "\n",
              "     prompt response                            id  target        participant  \\\n",
              "266   brick     Eten  multiaut_dutch4_brick-04be02  3.6672  multiaut_dutch468   \n",
              "2355  brick   Wc pot  multiaut_dutch4_brick-984f55  4.2000  multiaut_dutch458   \n",
              "\n",
              "     response_num  \n",
              "266          None  \n",
              "2355         None  "
            ]
          },
          "metadata": {},
          "output_type": "display_data"
        },
        {
          "name": "stdout",
          "output_type": "stream",
          "text": [
            "english6\n"
          ]
        },
        {
          "data": {
            "text/markdown": [
              "### Loading *Patterson et al., 2023*"
            ],
            "text/plain": [
              "<IPython.core.display.Markdown object>"
            ]
          },
          "metadata": {},
          "output_type": "display_data"
        },
        {
          "data": {
            "text/markdown": [
              "Patterson, J. D., Merseal, H. M., Johnson, D. R., Agnoli, S., Baas, M., Baker, B. S., ... & Beaty, R. E. (2023). Multilingual semantic distance: Automatic verbal creativity assessment in many languages. Psychology of Aesthetics, Creativity, and the Arts, 17(4), 495."
            ],
            "text/plain": [
              "<IPython.core.display.Markdown object>"
            ]
          },
          "metadata": {},
          "output_type": "display_data"
        },
        {
          "data": {
            "text/markdown": [
              "- Renaming columns {'ID': 'participant', 'order': 'response_num'}"
            ],
            "text/plain": [
              "<IPython.core.display.Markdown object>"
            ]
          },
          "metadata": {},
          "output_type": "display_data"
        },
        {
          "data": {
            "text/markdown": [
              "- Inferred range of original data: (1.0, 5.0)"
            ],
            "text/plain": [
              "<IPython.core.display.Markdown object>"
            ]
          },
          "metadata": {},
          "output_type": "display_data"
        },
        {
          "name": "stdout",
          "output_type": "stream",
          "text": [
            "Dropping 7 unrated items\n"
          ]
        },
        {
          "data": {
            "text/markdown": [
              "- name: multiaut_english6\n",
              "- no_of_prompts: 2\n",
              "- no_of_participants: 241\n",
              "- no_of_data_points: 3425\n",
              "- prompts: ['brick', 'knife']\n",
              "- ICC2k: 0.48\n",
              "- ICC2k_CI: 0.15-0.65\n",
              "- ICC3k: 0.64\n",
              "- rater_cols: ['rater1', 'rater2', 'rater3']\n",
              "- no_of_raters: 3\n"
            ],
            "text/plain": [
              "<IPython.core.display.Markdown object>"
            ]
          },
          "metadata": {},
          "output_type": "display_data"
        },
        {
          "name": "stderr",
          "output_type": "stream",
          "text": [
            "/Users/peter.organisciak/anaconda3/lib/python3.9/site-packages/pandas/io/sql.py:761: UserWarning: pandas only support SQLAlchemy connectable(engine/connection) ordatabase string URI or sqlite3 DBAPI2 connectionother DBAPI2 objects are not tested, please consider using SQLAlchemy\n",
            "  warnings.warn(\n"
          ]
        },
        {
          "data": {
            "text/html": [
              "<div>\n",
              "<style scoped>\n",
              "    .dataframe tbody tr th:only-of-type {\n",
              "        vertical-align: middle;\n",
              "    }\n",
              "\n",
              "    .dataframe tbody tr th {\n",
              "        vertical-align: top;\n",
              "    }\n",
              "\n",
              "    .dataframe thead th {\n",
              "        text-align: right;\n",
              "    }\n",
              "</style>\n",
              "<table border=\"1\" class=\"dataframe\">\n",
              "  <thead>\n",
              "    <tr style=\"text-align: right;\">\n",
              "      <th></th>\n",
              "      <th>type</th>\n",
              "      <th>src</th>\n",
              "      <th>question</th>\n",
              "      <th>prompt</th>\n",
              "      <th>response</th>\n",
              "      <th>id</th>\n",
              "      <th>target</th>\n",
              "      <th>participant</th>\n",
              "      <th>response_num</th>\n",
              "    </tr>\n",
              "  </thead>\n",
              "  <tbody>\n",
              "    <tr>\n",
              "      <th>2856</th>\n",
              "      <td>uses</td>\n",
              "      <td>multiaut_english6</td>\n",
              "      <td>What is a surprising use for BRICK?</td>\n",
              "      <td>brick</td>\n",
              "      <td>hold down paper so that when you're painting t...</td>\n",
              "      <td>multiaut_english6_brick-1cc98f</td>\n",
              "      <td>1.667</td>\n",
              "      <td>multiaut_english6203</td>\n",
              "      <td>None</td>\n",
              "    </tr>\n",
              "    <tr>\n",
              "      <th>898</th>\n",
              "      <td>uses</td>\n",
              "      <td>multiaut_english6</td>\n",
              "      <td>What is a surprising use for BRICK?</td>\n",
              "      <td>brick</td>\n",
              "      <td>weapons for children</td>\n",
              "      <td>multiaut_english6_brick-27f681</td>\n",
              "      <td>1.667</td>\n",
              "      <td>multiaut_english668</td>\n",
              "      <td>None</td>\n",
              "    </tr>\n",
              "  </tbody>\n",
              "</table>\n",
              "</div>"
            ],
            "text/plain": [
              "      type                src                             question prompt  \\\n",
              "2856  uses  multiaut_english6  What is a surprising use for BRICK?  brick   \n",
              "898   uses  multiaut_english6  What is a surprising use for BRICK?  brick   \n",
              "\n",
              "                                               response  \\\n",
              "2856  hold down paper so that when you're painting t...   \n",
              "898                                weapons for children   \n",
              "\n",
              "                                  id  target           participant  \\\n",
              "2856  multiaut_english6_brick-1cc98f   1.667  multiaut_english6203   \n",
              "898   multiaut_english6_brick-27f681   1.667   multiaut_english668   \n",
              "\n",
              "     response_num  \n",
              "2856         None  \n",
              "898          None  "
            ]
          },
          "metadata": {},
          "output_type": "display_data"
        },
        {
          "name": "stdout",
          "output_type": "stream",
          "text": [
            "german3\n"
          ]
        },
        {
          "data": {
            "text/markdown": [
              "### Loading *Patterson et al., 2023*"
            ],
            "text/plain": [
              "<IPython.core.display.Markdown object>"
            ]
          },
          "metadata": {},
          "output_type": "display_data"
        },
        {
          "data": {
            "text/markdown": [
              "Patterson, J. D., Merseal, H. M., Johnson, D. R., Agnoli, S., Baas, M., Baker, B. S., ... & Beaty, R. E. (2023). Multilingual semantic distance: Automatic verbal creativity assessment in many languages. Psychology of Aesthetics, Creativity, and the Arts, 17(4), 495."
            ],
            "text/plain": [
              "<IPython.core.display.Markdown object>"
            ]
          },
          "metadata": {},
          "output_type": "display_data"
        },
        {
          "data": {
            "text/markdown": [
              "- Renaming columns {'ID': 'participant', 'order': 'response_num'}"
            ],
            "text/plain": [
              "<IPython.core.display.Markdown object>"
            ]
          },
          "metadata": {},
          "output_type": "display_data"
        },
        {
          "data": {
            "text/markdown": [
              "- Inferred range of original data: (1, 5)"
            ],
            "text/plain": [
              "<IPython.core.display.Markdown object>"
            ]
          },
          "metadata": {},
          "output_type": "display_data"
        },
        {
          "data": {
            "text/markdown": [
              "- name: multiaut_german3\n",
              "- no_of_prompts: 16\n",
              "- no_of_participants: 51\n",
              "- no_of_data_points: 8065\n",
              "- prompts: ['Axt', 'Trompete', 'Erbse', 'Tisch', 'Flöte', 'Zange', 'Gurke', 'Bett', 'Tomate', 'Geige', 'Schaufel', 'Schrank', 'Paprika', 'Stuhl', 'Trommel', 'Säge']\n",
              "- ICC2k: 0.85\n",
              "- ICC2k_CI: 0.83-0.87\n",
              "- ICC3k: 0.86\n",
              "- rater_cols: ['rater1', 'rater2', 'rater3']\n",
              "- no_of_raters: 3\n"
            ],
            "text/plain": [
              "<IPython.core.display.Markdown object>"
            ]
          },
          "metadata": {},
          "output_type": "display_data"
        },
        {
          "name": "stderr",
          "output_type": "stream",
          "text": [
            "/Users/peter.organisciak/anaconda3/lib/python3.9/site-packages/pandas/io/sql.py:761: UserWarning: pandas only support SQLAlchemy connectable(engine/connection) ordatabase string URI or sqlite3 DBAPI2 connectionother DBAPI2 objects are not tested, please consider using SQLAlchemy\n",
            "  warnings.warn(\n"
          ]
        },
        {
          "data": {
            "text/html": [
              "<div>\n",
              "<style scoped>\n",
              "    .dataframe tbody tr th:only-of-type {\n",
              "        vertical-align: middle;\n",
              "    }\n",
              "\n",
              "    .dataframe tbody tr th {\n",
              "        vertical-align: top;\n",
              "    }\n",
              "\n",
              "    .dataframe thead th {\n",
              "        text-align: right;\n",
              "    }\n",
              "</style>\n",
              "<table border=\"1\" class=\"dataframe\">\n",
              "  <thead>\n",
              "    <tr style=\"text-align: right;\">\n",
              "      <th></th>\n",
              "      <th>type</th>\n",
              "      <th>src</th>\n",
              "      <th>question</th>\n",
              "      <th>prompt</th>\n",
              "      <th>response</th>\n",
              "      <th>id</th>\n",
              "      <th>target</th>\n",
              "      <th>participant</th>\n",
              "      <th>response_num</th>\n",
              "    </tr>\n",
              "  </thead>\n",
              "  <tbody>\n",
              "    <tr>\n",
              "      <th>5461</th>\n",
              "      <td>uses</td>\n",
              "      <td>multiaut_german3</td>\n",
              "      <td>Was ist eine überraschende Verwendung für ein ...</td>\n",
              "      <td>Trommel</td>\n",
              "      <td>die verschiedenen Taktarten lehren</td>\n",
              "      <td>multiaut_german3_Trommel-52735d</td>\n",
              "      <td>2.666</td>\n",
              "      <td>multiaut_german340</td>\n",
              "      <td>85</td>\n",
              "    </tr>\n",
              "    <tr>\n",
              "      <th>2795</th>\n",
              "      <td>uses</td>\n",
              "      <td>multiaut_german3</td>\n",
              "      <td>Was ist eine überraschende Verwendung für ein ...</td>\n",
              "      <td>Gurke</td>\n",
              "      <td>anplanzen</td>\n",
              "      <td>multiaut_german3_Gurke-47615d</td>\n",
              "      <td>1.666</td>\n",
              "      <td>multiaut_german319</td>\n",
              "      <td>15</td>\n",
              "    </tr>\n",
              "  </tbody>\n",
              "</table>\n",
              "</div>"
            ],
            "text/plain": [
              "      type               src  \\\n",
              "5461  uses  multiaut_german3   \n",
              "2795  uses  multiaut_german3   \n",
              "\n",
              "                                               question   prompt  \\\n",
              "5461  Was ist eine überraschende Verwendung für ein ...  Trommel   \n",
              "2795  Was ist eine überraschende Verwendung für ein ...    Gurke   \n",
              "\n",
              "                                response                               id  \\\n",
              "5461  die verschiedenen Taktarten lehren  multiaut_german3_Trommel-52735d   \n",
              "2795                           anplanzen    multiaut_german3_Gurke-47615d   \n",
              "\n",
              "      target         participant  response_num  \n",
              "5461   2.666  multiaut_german340            85  \n",
              "2795   1.666  multiaut_german319            15  "
            ]
          },
          "metadata": {},
          "output_type": "display_data"
        },
        {
          "name": "stdout",
          "output_type": "stream",
          "text": [
            "russian1\n"
          ]
        },
        {
          "data": {
            "text/markdown": [
              "### Loading *Patterson et al., 2023*"
            ],
            "text/plain": [
              "<IPython.core.display.Markdown object>"
            ]
          },
          "metadata": {},
          "output_type": "display_data"
        },
        {
          "data": {
            "text/markdown": [
              "Patterson, J. D., Merseal, H. M., Johnson, D. R., Agnoli, S., Baas, M., Baker, B. S., ... & Beaty, R. E. (2023). Multilingual semantic distance: Automatic verbal creativity assessment in many languages. Psychology of Aesthetics, Creativity, and the Arts, 17(4), 495."
            ],
            "text/plain": [
              "<IPython.core.display.Markdown object>"
            ]
          },
          "metadata": {},
          "output_type": "display_data"
        },
        {
          "data": {
            "text/markdown": [
              "- Renaming columns {'ID': 'participant', 'order': 'response_num'}"
            ],
            "text/plain": [
              "<IPython.core.display.Markdown object>"
            ]
          },
          "metadata": {},
          "output_type": "display_data"
        },
        {
          "data": {
            "text/markdown": [
              "- Inferred range of original data: (1, 5)"
            ],
            "text/plain": [
              "<IPython.core.display.Markdown object>"
            ]
          },
          "metadata": {},
          "output_type": "display_data"
        },
        {
          "data": {
            "text/markdown": [
              "- name: multiaut_russian1\n",
              "- no_of_prompts: 2\n",
              "- no_of_participants: 111\n",
              "- no_of_data_points: 1728\n",
              "- prompts: ['газета', 'деревянная линейка']\n",
              "- ICC2k: 0.72\n",
              "- ICC2k_CI: 0.69-0.74\n",
              "- ICC3k: 0.72\n",
              "- rater_cols: ['rater1', 'rater2', 'rater3']\n",
              "- no_of_raters: 3\n"
            ],
            "text/plain": [
              "<IPython.core.display.Markdown object>"
            ]
          },
          "metadata": {},
          "output_type": "display_data"
        },
        {
          "name": "stderr",
          "output_type": "stream",
          "text": [
            "/Users/peter.organisciak/anaconda3/lib/python3.9/site-packages/pandas/io/sql.py:761: UserWarning: pandas only support SQLAlchemy connectable(engine/connection) ordatabase string URI or sqlite3 DBAPI2 connectionother DBAPI2 objects are not tested, please consider using SQLAlchemy\n",
            "  warnings.warn(\n"
          ]
        },
        {
          "data": {
            "text/html": [
              "<div>\n",
              "<style scoped>\n",
              "    .dataframe tbody tr th:only-of-type {\n",
              "        vertical-align: middle;\n",
              "    }\n",
              "\n",
              "    .dataframe tbody tr th {\n",
              "        vertical-align: top;\n",
              "    }\n",
              "\n",
              "    .dataframe thead th {\n",
              "        text-align: right;\n",
              "    }\n",
              "</style>\n",
              "<table border=\"1\" class=\"dataframe\">\n",
              "  <thead>\n",
              "    <tr style=\"text-align: right;\">\n",
              "      <th></th>\n",
              "      <th>type</th>\n",
              "      <th>src</th>\n",
              "      <th>question</th>\n",
              "      <th>prompt</th>\n",
              "      <th>response</th>\n",
              "      <th>id</th>\n",
              "      <th>target</th>\n",
              "      <th>participant</th>\n",
              "      <th>response_num</th>\n",
              "    </tr>\n",
              "  </thead>\n",
              "  <tbody>\n",
              "    <tr>\n",
              "      <th>12</th>\n",
              "      <td>uses</td>\n",
              "      <td>multiaut_russian1</td>\n",
              "      <td>Какое удивительное применение для ГАЗЕТА?</td>\n",
              "      <td>газета</td>\n",
              "      <td>Аксессуар для собаки в виде плаща, но в сухую ...</td>\n",
              "      <td>multiaut_russian1_газета-698951</td>\n",
              "      <td>3.333</td>\n",
              "      <td>multiaut_russian19</td>\n",
              "      <td>None</td>\n",
              "    </tr>\n",
              "    <tr>\n",
              "      <th>129</th>\n",
              "      <td>uses</td>\n",
              "      <td>multiaut_russian1</td>\n",
              "      <td>Какое удивительное применение для ГАЗЕТА?</td>\n",
              "      <td>газета</td>\n",
              "      <td>Для гербария (сушить цветы и листья)</td>\n",
              "      <td>multiaut_russian1_газета-a95e77</td>\n",
              "      <td>3.667</td>\n",
              "      <td>multiaut_russian138</td>\n",
              "      <td>None</td>\n",
              "    </tr>\n",
              "  </tbody>\n",
              "</table>\n",
              "</div>"
            ],
            "text/plain": [
              "     type                src                                   question  \\\n",
              "12   uses  multiaut_russian1  Какое удивительное применение для ГАЗЕТА?   \n",
              "129  uses  multiaut_russian1  Какое удивительное применение для ГАЗЕТА?   \n",
              "\n",
              "     prompt                                           response  \\\n",
              "12   газета  Аксессуар для собаки в виде плаща, но в сухую ...   \n",
              "129  газета               Для гербария (сушить цветы и листья)   \n",
              "\n",
              "                                  id  target          participant response_num  \n",
              "12   multiaut_russian1_газета-698951   3.333   multiaut_russian19         None  \n",
              "129  multiaut_russian1_газета-a95e77   3.667  multiaut_russian138         None  "
            ]
          },
          "metadata": {},
          "output_type": "display_data"
        },
        {
          "name": "stdout",
          "output_type": "stream",
          "text": [
            "chinese1\n"
          ]
        },
        {
          "data": {
            "text/markdown": [
              "### Loading *Patterson et al., 2023*"
            ],
            "text/plain": [
              "<IPython.core.display.Markdown object>"
            ]
          },
          "metadata": {},
          "output_type": "display_data"
        },
        {
          "data": {
            "text/markdown": [
              "Patterson, J. D., Merseal, H. M., Johnson, D. R., Agnoli, S., Baas, M., Baker, B. S., ... & Beaty, R. E. (2023). Multilingual semantic distance: Automatic verbal creativity assessment in many languages. Psychology of Aesthetics, Creativity, and the Arts, 17(4), 495."
            ],
            "text/plain": [
              "<IPython.core.display.Markdown object>"
            ]
          },
          "metadata": {},
          "output_type": "display_data"
        },
        {
          "data": {
            "text/markdown": [
              "- Renaming columns {'ID': 'participant', 'order': 'response_num'}"
            ],
            "text/plain": [
              "<IPython.core.display.Markdown object>"
            ]
          },
          "metadata": {},
          "output_type": "display_data"
        },
        {
          "data": {
            "text/markdown": [
              "- Inferred range of original data: (0, 5)"
            ],
            "text/plain": [
              "<IPython.core.display.Markdown object>"
            ]
          },
          "metadata": {},
          "output_type": "display_data"
        },
        {
          "data": {
            "text/markdown": [
              "- name: multiaut_chinese1\n",
              "- no_of_prompts: 122\n",
              "- no_of_participants: 466\n",
              "- no_of_data_points: 14176\n",
              "- prompts: ['积木', '漏斗', '轮胎', '盘子', '皮带', '塑料袋', '西瓜', '牙签', '锅', '蚊帐', '头发', '纸盒', '铁链', '硬币', '字典', '报纸', '靴子', '易拉罐', '玉米', '南瓜', '耳机', '喇叭', '领带', '扑克', '手套', '银行卡', '袜子', '镊子', '卫生纸', '蛋清', '小米', '耳机线', '鞋带', '发簪', '柳树', '生姜', '红酒', '白酒', '木头', '火柴', '纽扣', '图钉', '吸管', '牙膏', '船桨', '面团', '西红柿', '荷叶', '磁铁', '弹弓', '钉子', '光盘', '毛巾', '橡皮擦', '球拍', '鹅卵石', '贝壳', '椰子', '花生', '核桃', '铃铛', '酒瓶', '西瓜皮', '冰块', '马来貘', '咖啡', '擀面杖', '戒指', '气球', '芦荟', '橄榄油', '花瓣', '土豆', '曲别针', '浴缸', '茶壶', '灌木', '无花果', '韭菜', '花椒', '纸巾', '皮筋', '黄金', '音响', '画像', '狐狸', '发带', '纸杯', '棉签', '柿子', '白纸', '杯子', '窗帘', '蛋糕', '地图', '风车', '夹子', '胶水', '蜡烛', '毛笔', '墨水', '铅笔', '钳子', '扇子', '勺子', '梳子', '柳条', '水壶', '算盘', '蛋壳', '台灯', '围巾', '温度计', '相机', '香蕉', '牙刷', '钥匙', '衣架', '砖头', '笛子', '酸奶', '吹风机']\n",
              "- ICC2k: 0.48\n",
              "- ICC2k_CI: 0.44-0.51\n",
              "- ICC3k: 0.49\n",
              "- rater_cols: ['rater1', 'rater2', 'rater3', 'rater4']\n",
              "- no_of_raters: 4\n"
            ],
            "text/plain": [
              "<IPython.core.display.Markdown object>"
            ]
          },
          "metadata": {},
          "output_type": "display_data"
        },
        {
          "name": "stderr",
          "output_type": "stream",
          "text": [
            "/Users/peter.organisciak/anaconda3/lib/python3.9/site-packages/pandas/io/sql.py:761: UserWarning: pandas only support SQLAlchemy connectable(engine/connection) ordatabase string URI or sqlite3 DBAPI2 connectionother DBAPI2 objects are not tested, please consider using SQLAlchemy\n",
            "  warnings.warn(\n"
          ]
        },
        {
          "data": {
            "text/html": [
              "<div>\n",
              "<style scoped>\n",
              "    .dataframe tbody tr th:only-of-type {\n",
              "        vertical-align: middle;\n",
              "    }\n",
              "\n",
              "    .dataframe tbody tr th {\n",
              "        vertical-align: top;\n",
              "    }\n",
              "\n",
              "    .dataframe thead th {\n",
              "        text-align: right;\n",
              "    }\n",
              "</style>\n",
              "<table border=\"1\" class=\"dataframe\">\n",
              "  <thead>\n",
              "    <tr style=\"text-align: right;\">\n",
              "      <th></th>\n",
              "      <th>type</th>\n",
              "      <th>src</th>\n",
              "      <th>question</th>\n",
              "      <th>prompt</th>\n",
              "      <th>response</th>\n",
              "      <th>id</th>\n",
              "      <th>target</th>\n",
              "      <th>participant</th>\n",
              "      <th>response_num</th>\n",
              "    </tr>\n",
              "  </thead>\n",
              "  <tbody>\n",
              "    <tr>\n",
              "      <th>9363</th>\n",
              "      <td>uses</td>\n",
              "      <td>multiaut_chinese1</td>\n",
              "      <td>什么是灌木的一个令人惊讶的用途？</td>\n",
              "      <td>灌木</td>\n",
              "      <td>拖鞋</td>\n",
              "      <td>multiaut_chinese1_灌木-cb2d6a</td>\n",
              "      <td>3.0000</td>\n",
              "      <td>multiaut_chinese11313</td>\n",
              "      <td>None</td>\n",
              "    </tr>\n",
              "    <tr>\n",
              "      <th>7179</th>\n",
              "      <td>uses</td>\n",
              "      <td>multiaut_chinese1</td>\n",
              "      <td>什么是马来貘的一个令人惊讶的用途？</td>\n",
              "      <td>马来貘</td>\n",
              "      <td>宠物？</td>\n",
              "      <td>multiaut_chinese1_马来貘-4d66e2</td>\n",
              "      <td>2.4002</td>\n",
              "      <td>multiaut_chinese11240</td>\n",
              "      <td>None</td>\n",
              "    </tr>\n",
              "  </tbody>\n",
              "</table>\n",
              "</div>"
            ],
            "text/plain": [
              "      type                src           question prompt response  \\\n",
              "9363  uses  multiaut_chinese1   什么是灌木的一个令人惊讶的用途？     灌木       拖鞋   \n",
              "7179  uses  multiaut_chinese1  什么是马来貘的一个令人惊讶的用途？    马来貘      宠物？   \n",
              "\n",
              "                                id  target            participant response_num  \n",
              "9363   multiaut_chinese1_灌木-cb2d6a  3.0000  multiaut_chinese11313         None  \n",
              "7179  multiaut_chinese1_马来貘-4d66e2  2.4002  multiaut_chinese11240         None  "
            ]
          },
          "metadata": {},
          "output_type": "display_data"
        },
        {
          "name": "stdout",
          "output_type": "stream",
          "text": [
            "french2\n"
          ]
        },
        {
          "data": {
            "text/markdown": [
              "### Loading *Patterson et al., 2023*"
            ],
            "text/plain": [
              "<IPython.core.display.Markdown object>"
            ]
          },
          "metadata": {},
          "output_type": "display_data"
        },
        {
          "data": {
            "text/markdown": [
              "Patterson, J. D., Merseal, H. M., Johnson, D. R., Agnoli, S., Baas, M., Baker, B. S., ... & Beaty, R. E. (2023). Multilingual semantic distance: Automatic verbal creativity assessment in many languages. Psychology of Aesthetics, Creativity, and the Arts, 17(4), 495."
            ],
            "text/plain": [
              "<IPython.core.display.Markdown object>"
            ]
          },
          "metadata": {},
          "output_type": "display_data"
        },
        {
          "data": {
            "text/markdown": [
              "- Renaming columns {'ID': 'participant', 'order': 'response_num'}"
            ],
            "text/plain": [
              "<IPython.core.display.Markdown object>"
            ]
          },
          "metadata": {},
          "output_type": "display_data"
        },
        {
          "data": {
            "text/markdown": [
              "- Inferred range of original data: (1.0, 5.0)"
            ],
            "text/plain": [
              "<IPython.core.display.Markdown object>"
            ]
          },
          "metadata": {},
          "output_type": "display_data"
        },
        {
          "name": "stdout",
          "output_type": "stream",
          "text": [
            "Dropping 47 unrated items\n"
          ]
        },
        {
          "data": {
            "text/markdown": [
              "- name: multiaut_french2\n",
              "- no_of_prompts: 1\n",
              "- no_of_participants: 82\n",
              "- no_of_data_points: 449\n",
              "- prompts: ['chapeau']\n",
              "- ICC2k: 0.52\n",
              "- ICC2k_CI: 0.25-0.68\n",
              "- ICC3k: 0.64\n",
              "- rater_cols: ['rater1', 'rater2', 'rater3']\n",
              "- no_of_raters: 3\n"
            ],
            "text/plain": [
              "<IPython.core.display.Markdown object>"
            ]
          },
          "metadata": {},
          "output_type": "display_data"
        },
        {
          "name": "stderr",
          "output_type": "stream",
          "text": [
            "/Users/peter.organisciak/anaconda3/lib/python3.9/site-packages/pandas/io/sql.py:761: UserWarning: pandas only support SQLAlchemy connectable(engine/connection) ordatabase string URI or sqlite3 DBAPI2 connectionother DBAPI2 objects are not tested, please consider using SQLAlchemy\n",
            "  warnings.warn(\n"
          ]
        },
        {
          "data": {
            "text/html": [
              "<div>\n",
              "<style scoped>\n",
              "    .dataframe tbody tr th:only-of-type {\n",
              "        vertical-align: middle;\n",
              "    }\n",
              "\n",
              "    .dataframe tbody tr th {\n",
              "        vertical-align: top;\n",
              "    }\n",
              "\n",
              "    .dataframe thead th {\n",
              "        text-align: right;\n",
              "    }\n",
              "</style>\n",
              "<table border=\"1\" class=\"dataframe\">\n",
              "  <thead>\n",
              "    <tr style=\"text-align: right;\">\n",
              "      <th></th>\n",
              "      <th>type</th>\n",
              "      <th>src</th>\n",
              "      <th>question</th>\n",
              "      <th>prompt</th>\n",
              "      <th>response</th>\n",
              "      <th>id</th>\n",
              "      <th>target</th>\n",
              "      <th>participant</th>\n",
              "      <th>response_num</th>\n",
              "    </tr>\n",
              "  </thead>\n",
              "  <tbody>\n",
              "    <tr>\n",
              "      <th>460</th>\n",
              "      <td>uses</td>\n",
              "      <td>multiaut_french2</td>\n",
              "      <td>Quel est un usage surprenant pour un CHAPEAU?</td>\n",
              "      <td>chapeau</td>\n",
              "      <td>Lancer</td>\n",
              "      <td>multiaut_french2_chapeau-a9a591</td>\n",
              "      <td>1.666</td>\n",
              "      <td>multiaut_french23059</td>\n",
              "      <td>None</td>\n",
              "    </tr>\n",
              "    <tr>\n",
              "      <th>116</th>\n",
              "      <td>uses</td>\n",
              "      <td>multiaut_french2</td>\n",
              "      <td>Quel est un usage surprenant pour un CHAPEAU?</td>\n",
              "      <td>chapeau</td>\n",
              "      <td>Croquer le chapeau</td>\n",
              "      <td>multiaut_french2_chapeau-131a7d</td>\n",
              "      <td>2.667</td>\n",
              "      <td>multiaut_french22498</td>\n",
              "      <td>None</td>\n",
              "    </tr>\n",
              "  </tbody>\n",
              "</table>\n",
              "</div>"
            ],
            "text/plain": [
              "     type               src                                       question  \\\n",
              "460  uses  multiaut_french2  Quel est un usage surprenant pour un CHAPEAU?   \n",
              "116  uses  multiaut_french2  Quel est un usage surprenant pour un CHAPEAU?   \n",
              "\n",
              "      prompt            response                               id  target  \\\n",
              "460  chapeau              Lancer  multiaut_french2_chapeau-a9a591   1.666   \n",
              "116  chapeau  Croquer le chapeau  multiaut_french2_chapeau-131a7d   2.667   \n",
              "\n",
              "              participant response_num  \n",
              "460  multiaut_french23059         None  \n",
              "116  multiaut_french22498         None  "
            ]
          },
          "metadata": {},
          "output_type": "display_data"
        },
        {
          "name": "stdout",
          "output_type": "stream",
          "text": [
            "hebrew1\n"
          ]
        },
        {
          "data": {
            "text/markdown": [
              "### Loading *Patterson et al., 2023*"
            ],
            "text/plain": [
              "<IPython.core.display.Markdown object>"
            ]
          },
          "metadata": {},
          "output_type": "display_data"
        },
        {
          "data": {
            "text/markdown": [
              "Patterson, J. D., Merseal, H. M., Johnson, D. R., Agnoli, S., Baas, M., Baker, B. S., ... & Beaty, R. E. (2023). Multilingual semantic distance: Automatic verbal creativity assessment in many languages. Psychology of Aesthetics, Creativity, and the Arts, 17(4), 495."
            ],
            "text/plain": [
              "<IPython.core.display.Markdown object>"
            ]
          },
          "metadata": {},
          "output_type": "display_data"
        },
        {
          "data": {
            "text/markdown": [
              "- Renaming columns {'ID': 'participant', 'order': 'response_num'}"
            ],
            "text/plain": [
              "<IPython.core.display.Markdown object>"
            ]
          },
          "metadata": {},
          "output_type": "display_data"
        },
        {
          "data": {
            "text/markdown": [
              "- Inferred range of original data: (1.0, 5.0)"
            ],
            "text/plain": [
              "<IPython.core.display.Markdown object>"
            ]
          },
          "metadata": {},
          "output_type": "display_data"
        },
        {
          "data": {
            "text/markdown": [
              "WARNING: ICC has an undefined error for this dataset"
            ],
            "text/plain": [
              "<IPython.core.display.Markdown object>"
            ]
          },
          "metadata": {},
          "output_type": "display_data"
        },
        {
          "data": {
            "text/markdown": [
              "- name: multiaut_hebrew1\n",
              "- no_of_prompts: 10\n",
              "- no_of_participants: 51\n",
              "- no_of_data_points: 2027\n",
              "- prompts: ['סכין', 'נעל', 'עיפרון', 'עיתון', 'מברג', 'קולב', 'צמיג', 'מטאטא', 'כיסא', 'כרית']\n",
              "- ICC2k: None\n",
              "- ICC2k_CI: None\n",
              "- ICC3k: None\n",
              "- rater_cols: ['rater1', 'rater2', 'rater3', 'rater4', 'rater5', 'rater6', 'rater7', 'rater8', 'rater9', 'rater10', 'rater11', 'rater12', 'rater13', 'rater14', 'rater15', 'rater16', 'rater17', 'rater18', 'rater19', 'rater20', 'rater21', 'rater22', 'rater23', 'rater24', 'rater25', 'rater26', 'rater27', 'rater28', 'rater29', 'rater30', 'rater31', 'rater32', 'rater33', 'rater34', 'rater35', 'rater36', 'rater37', 'rater38', 'rater39', 'rater40', 'rater41', 'rater42', 'rater43', 'rater44', 'rater45']\n",
              "- no_of_raters: 45\n"
            ],
            "text/plain": [
              "<IPython.core.display.Markdown object>"
            ]
          },
          "metadata": {},
          "output_type": "display_data"
        },
        {
          "name": "stderr",
          "output_type": "stream",
          "text": [
            "/Users/peter.organisciak/anaconda3/lib/python3.9/site-packages/pandas/io/sql.py:761: UserWarning: pandas only support SQLAlchemy connectable(engine/connection) ordatabase string URI or sqlite3 DBAPI2 connectionother DBAPI2 objects are not tested, please consider using SQLAlchemy\n",
            "  warnings.warn(\n"
          ]
        },
        {
          "data": {
            "text/html": [
              "<div>\n",
              "<style scoped>\n",
              "    .dataframe tbody tr th:only-of-type {\n",
              "        vertical-align: middle;\n",
              "    }\n",
              "\n",
              "    .dataframe tbody tr th {\n",
              "        vertical-align: top;\n",
              "    }\n",
              "\n",
              "    .dataframe thead th {\n",
              "        text-align: right;\n",
              "    }\n",
              "</style>\n",
              "<table border=\"1\" class=\"dataframe\">\n",
              "  <thead>\n",
              "    <tr style=\"text-align: right;\">\n",
              "      <th></th>\n",
              "      <th>type</th>\n",
              "      <th>src</th>\n",
              "      <th>question</th>\n",
              "      <th>prompt</th>\n",
              "      <th>response</th>\n",
              "      <th>id</th>\n",
              "      <th>target</th>\n",
              "      <th>participant</th>\n",
              "      <th>response_num</th>\n",
              "    </tr>\n",
              "  </thead>\n",
              "  <tbody>\n",
              "    <tr>\n",
              "      <th>1346</th>\n",
              "      <td>uses</td>\n",
              "      <td>multiaut_hebrew1</td>\n",
              "      <td>מהו שימוש מפתיע לצמיג?</td>\n",
              "      <td>צמיג</td>\n",
              "      <td>מסגרת לתמונה</td>\n",
              "      <td>multiaut_hebrew1_צמיג-cbdb0c</td>\n",
              "      <td>4.334</td>\n",
              "      <td>multiaut_hebrew1412</td>\n",
              "      <td>4</td>\n",
              "    </tr>\n",
              "    <tr>\n",
              "      <th>795</th>\n",
              "      <td>uses</td>\n",
              "      <td>multiaut_hebrew1</td>\n",
              "      <td>מהו שימוש מפתיע לעיתון?</td>\n",
              "      <td>עיתון</td>\n",
              "      <td>איטום של דברים</td>\n",
              "      <td>multiaut_hebrew1_עיתון-71a9ea</td>\n",
              "      <td>3.500</td>\n",
              "      <td>multiaut_hebrew11679</td>\n",
              "      <td>6</td>\n",
              "    </tr>\n",
              "  </tbody>\n",
              "</table>\n",
              "</div>"
            ],
            "text/plain": [
              "      type               src                 question prompt        response  \\\n",
              "1346  uses  multiaut_hebrew1   מהו שימוש מפתיע לצמיג?   צמיג    מסגרת לתמונה   \n",
              "795   uses  multiaut_hebrew1  מהו שימוש מפתיע לעיתון?  עיתון  איטום של דברים   \n",
              "\n",
              "                                 id  target           participant  \\\n",
              "1346   multiaut_hebrew1_צמיג-cbdb0c   4.334   multiaut_hebrew1412   \n",
              "795   multiaut_hebrew1_עיתון-71a9ea   3.500  multiaut_hebrew11679   \n",
              "\n",
              "      response_num  \n",
              "1346             4  \n",
              "795              6  "
            ]
          },
          "metadata": {},
          "output_type": "display_data"
        },
        {
          "name": "stdout",
          "output_type": "stream",
          "text": [
            "russian2\n"
          ]
        },
        {
          "data": {
            "text/markdown": [
              "### Loading *Patterson et al., 2023*"
            ],
            "text/plain": [
              "<IPython.core.display.Markdown object>"
            ]
          },
          "metadata": {},
          "output_type": "display_data"
        },
        {
          "data": {
            "text/markdown": [
              "Patterson, J. D., Merseal, H. M., Johnson, D. R., Agnoli, S., Baas, M., Baker, B. S., ... & Beaty, R. E. (2023). Multilingual semantic distance: Automatic verbal creativity assessment in many languages. Psychology of Aesthetics, Creativity, and the Arts, 17(4), 495."
            ],
            "text/plain": [
              "<IPython.core.display.Markdown object>"
            ]
          },
          "metadata": {},
          "output_type": "display_data"
        },
        {
          "data": {
            "text/markdown": [
              "- Renaming columns {'ID': 'participant', 'order': 'response_num'}"
            ],
            "text/plain": [
              "<IPython.core.display.Markdown object>"
            ]
          },
          "metadata": {},
          "output_type": "display_data"
        },
        {
          "data": {
            "text/markdown": [
              "- Inferred range of original data: (1, 5)"
            ],
            "text/plain": [
              "<IPython.core.display.Markdown object>"
            ]
          },
          "metadata": {},
          "output_type": "display_data"
        },
        {
          "data": {
            "text/markdown": [
              "- name: multiaut_russian2\n",
              "- no_of_prompts: 1\n",
              "- no_of_participants: 45\n",
              "- no_of_data_points: 370\n",
              "- prompts: ['картонная коробка']\n",
              "- ICC2k: 0.78\n",
              "- ICC2k_CI: 0.74-0.82\n",
              "- ICC3k: 0.79\n",
              "- rater_cols: ['rater1', 'rater2', 'rater3']\n",
              "- no_of_raters: 3\n"
            ],
            "text/plain": [
              "<IPython.core.display.Markdown object>"
            ]
          },
          "metadata": {},
          "output_type": "display_data"
        },
        {
          "name": "stderr",
          "output_type": "stream",
          "text": [
            "/Users/peter.organisciak/anaconda3/lib/python3.9/site-packages/pandas/io/sql.py:761: UserWarning: pandas only support SQLAlchemy connectable(engine/connection) ordatabase string URI or sqlite3 DBAPI2 connectionother DBAPI2 objects are not tested, please consider using SQLAlchemy\n",
            "  warnings.warn(\n"
          ]
        },
        {
          "data": {
            "text/html": [
              "<div>\n",
              "<style scoped>\n",
              "    .dataframe tbody tr th:only-of-type {\n",
              "        vertical-align: middle;\n",
              "    }\n",
              "\n",
              "    .dataframe tbody tr th {\n",
              "        vertical-align: top;\n",
              "    }\n",
              "\n",
              "    .dataframe thead th {\n",
              "        text-align: right;\n",
              "    }\n",
              "</style>\n",
              "<table border=\"1\" class=\"dataframe\">\n",
              "  <thead>\n",
              "    <tr style=\"text-align: right;\">\n",
              "      <th></th>\n",
              "      <th>type</th>\n",
              "      <th>src</th>\n",
              "      <th>question</th>\n",
              "      <th>prompt</th>\n",
              "      <th>response</th>\n",
              "      <th>id</th>\n",
              "      <th>target</th>\n",
              "      <th>participant</th>\n",
              "      <th>response_num</th>\n",
              "    </tr>\n",
              "  </thead>\n",
              "  <tbody>\n",
              "    <tr>\n",
              "      <th>167</th>\n",
              "      <td>uses</td>\n",
              "      <td>multiaut_russian2</td>\n",
              "      <td>Какое удивительное применение для КАРТОННАЯ КО...</td>\n",
              "      <td>картонная коробка</td>\n",
              "      <td>Сделать модную коробковую сумочку</td>\n",
              "      <td>multiaut_russian2_картонная коробка-e4cf83</td>\n",
              "      <td>3.000</td>\n",
              "      <td>multiaut_russian220</td>\n",
              "      <td>None</td>\n",
              "    </tr>\n",
              "    <tr>\n",
              "      <th>77</th>\n",
              "      <td>uses</td>\n",
              "      <td>multiaut_russian2</td>\n",
              "      <td>Какое удивительное применение для КАРТОННАЯ КО...</td>\n",
              "      <td>картонная коробка</td>\n",
              "      <td>В качестве игрушечного домика</td>\n",
              "      <td>multiaut_russian2_картонная коробка-fe0682</td>\n",
              "      <td>1.333</td>\n",
              "      <td>multiaut_russian29</td>\n",
              "      <td>None</td>\n",
              "    </tr>\n",
              "  </tbody>\n",
              "</table>\n",
              "</div>"
            ],
            "text/plain": [
              "     type                src  \\\n",
              "167  uses  multiaut_russian2   \n",
              "77   uses  multiaut_russian2   \n",
              "\n",
              "                                              question             prompt  \\\n",
              "167  Какое удивительное применение для КАРТОННАЯ КО...  картонная коробка   \n",
              "77   Какое удивительное применение для КАРТОННАЯ КО...  картонная коробка   \n",
              "\n",
              "                              response  \\\n",
              "167  Сделать модную коробковую сумочку   \n",
              "77       В качестве игрушечного домика   \n",
              "\n",
              "                                             id  target          participant  \\\n",
              "167  multiaut_russian2_картонная коробка-e4cf83   3.000  multiaut_russian220   \n",
              "77   multiaut_russian2_картонная коробка-fe0682   1.333   multiaut_russian29   \n",
              "\n",
              "    response_num  \n",
              "167         None  \n",
              "77          None  "
            ]
          },
          "metadata": {},
          "output_type": "display_data"
        },
        {
          "name": "stdout",
          "output_type": "stream",
          "text": [
            "chinese2\n"
          ]
        },
        {
          "data": {
            "text/markdown": [
              "### Loading *Patterson et al., 2023*"
            ],
            "text/plain": [
              "<IPython.core.display.Markdown object>"
            ]
          },
          "metadata": {},
          "output_type": "display_data"
        },
        {
          "data": {
            "text/markdown": [
              "Patterson, J. D., Merseal, H. M., Johnson, D. R., Agnoli, S., Baas, M., Baker, B. S., ... & Beaty, R. E. (2023). Multilingual semantic distance: Automatic verbal creativity assessment in many languages. Psychology of Aesthetics, Creativity, and the Arts, 17(4), 495."
            ],
            "text/plain": [
              "<IPython.core.display.Markdown object>"
            ]
          },
          "metadata": {},
          "output_type": "display_data"
        },
        {
          "data": {
            "text/markdown": [
              "- Renaming columns {'ID': 'participant', 'order': 'response_num'}"
            ],
            "text/plain": [
              "<IPython.core.display.Markdown object>"
            ]
          },
          "metadata": {},
          "output_type": "display_data"
        },
        {
          "data": {
            "text/markdown": [
              "- Inferred range of original data: (1, 42)"
            ],
            "text/plain": [
              "<IPython.core.display.Markdown object>"
            ]
          },
          "metadata": {},
          "output_type": "display_data"
        },
        {
          "data": {
            "text/markdown": [
              "- name: multiaut_chinese2\n",
              "- no_of_prompts: 2\n",
              "- no_of_participants: 217\n",
              "- no_of_data_points: 1302\n",
              "- prompts: ['筷子', '易拉罐']\n",
              "- ICC2k: 0.6\n",
              "- ICC2k_CI: 0.54-0.66\n",
              "- ICC3k: 0.64\n",
              "- rater_cols: ['rater1', 'rater2', 'rater3', 'rater4']\n",
              "- no_of_raters: 4\n"
            ],
            "text/plain": [
              "<IPython.core.display.Markdown object>"
            ]
          },
          "metadata": {},
          "output_type": "display_data"
        },
        {
          "name": "stderr",
          "output_type": "stream",
          "text": [
            "/Users/peter.organisciak/anaconda3/lib/python3.9/site-packages/pandas/io/sql.py:761: UserWarning: pandas only support SQLAlchemy connectable(engine/connection) ordatabase string URI or sqlite3 DBAPI2 connectionother DBAPI2 objects are not tested, please consider using SQLAlchemy\n",
            "  warnings.warn(\n"
          ]
        },
        {
          "data": {
            "text/html": [
              "<div>\n",
              "<style scoped>\n",
              "    .dataframe tbody tr th:only-of-type {\n",
              "        vertical-align: middle;\n",
              "    }\n",
              "\n",
              "    .dataframe tbody tr th {\n",
              "        vertical-align: top;\n",
              "    }\n",
              "\n",
              "    .dataframe thead th {\n",
              "        text-align: right;\n",
              "    }\n",
              "</style>\n",
              "<table border=\"1\" class=\"dataframe\">\n",
              "  <thead>\n",
              "    <tr style=\"text-align: right;\">\n",
              "      <th></th>\n",
              "      <th>type</th>\n",
              "      <th>src</th>\n",
              "      <th>question</th>\n",
              "      <th>prompt</th>\n",
              "      <th>response</th>\n",
              "      <th>id</th>\n",
              "      <th>target</th>\n",
              "      <th>participant</th>\n",
              "      <th>response_num</th>\n",
              "    </tr>\n",
              "  </thead>\n",
              "  <tbody>\n",
              "    <tr>\n",
              "      <th>649</th>\n",
              "      <td>uses</td>\n",
              "      <td>multiaut_chinese2</td>\n",
              "      <td>什么是筷子的一个令人惊讶的用途？</td>\n",
              "      <td>筷子</td>\n",
              "      <td>杠面杖</td>\n",
              "      <td>multiaut_chinese2_筷子-73ec2a</td>\n",
              "      <td>1.170756</td>\n",
              "      <td>multiaut_chinese2305</td>\n",
              "      <td>None</td>\n",
              "    </tr>\n",
              "    <tr>\n",
              "      <th>522</th>\n",
              "      <td>uses</td>\n",
              "      <td>multiaut_chinese2</td>\n",
              "      <td>什么是筷子的一个令人惊讶的用途？</td>\n",
              "      <td>筷子</td>\n",
              "      <td>尺子</td>\n",
              "      <td>multiaut_chinese2_筷子-ba875b</td>\n",
              "      <td>1.170707</td>\n",
              "      <td>multiaut_chinese2236</td>\n",
              "      <td>None</td>\n",
              "    </tr>\n",
              "  </tbody>\n",
              "</table>\n",
              "</div>"
            ],
            "text/plain": [
              "     type                src          question prompt response  \\\n",
              "649  uses  multiaut_chinese2  什么是筷子的一个令人惊讶的用途？     筷子      杠面杖   \n",
              "522  uses  multiaut_chinese2  什么是筷子的一个令人惊讶的用途？     筷子       尺子   \n",
              "\n",
              "                              id    target           participant response_num  \n",
              "649  multiaut_chinese2_筷子-73ec2a  1.170756  multiaut_chinese2305         None  \n",
              "522  multiaut_chinese2_筷子-ba875b  1.170707  multiaut_chinese2236         None  "
            ]
          },
          "metadata": {},
          "output_type": "display_data"
        },
        {
          "name": "stdout",
          "output_type": "stream",
          "text": [
            "english2\n",
            "NOTE: english2 had an encoding error. Opening and re-saving it seems to fix it.\n"
          ]
        },
        {
          "data": {
            "text/markdown": [
              "### Loading *Patterson et al., 2023*"
            ],
            "text/plain": [
              "<IPython.core.display.Markdown object>"
            ]
          },
          "metadata": {},
          "output_type": "display_data"
        },
        {
          "data": {
            "text/markdown": [
              "Patterson, J. D., Merseal, H. M., Johnson, D. R., Agnoli, S., Baas, M., Baker, B. S., ... & Beaty, R. E. (2023). Multilingual semantic distance: Automatic verbal creativity assessment in many languages. Psychology of Aesthetics, Creativity, and the Arts, 17(4), 495."
            ],
            "text/plain": [
              "<IPython.core.display.Markdown object>"
            ]
          },
          "metadata": {},
          "output_type": "display_data"
        },
        {
          "data": {
            "text/markdown": [
              "- Renaming columns {'ID': 'participant', 'order': 'response_num'}"
            ],
            "text/plain": [
              "<IPython.core.display.Markdown object>"
            ]
          },
          "metadata": {},
          "output_type": "display_data"
        },
        {
          "data": {
            "text/markdown": [
              "- Inferred range of original data: (1.0, 5.0)"
            ],
            "text/plain": [
              "<IPython.core.display.Markdown object>"
            ]
          },
          "metadata": {},
          "output_type": "display_data"
        },
        {
          "data": {
            "text/markdown": [
              "- name: multiaut_english2\n",
              "- no_of_prompts: 2\n",
              "- no_of_participants: 182\n",
              "- no_of_data_points: 3723\n",
              "- prompts: ['rope', 'box']\n",
              "- ICC2k: 0.71\n",
              "- ICC2k_CI: 0.59-0.78\n",
              "- ICC3k: 0.77\n",
              "- rater_cols: ['rater1', 'rater2', 'rater3', 'rater4']\n",
              "- no_of_raters: 4\n"
            ],
            "text/plain": [
              "<IPython.core.display.Markdown object>"
            ]
          },
          "metadata": {},
          "output_type": "display_data"
        },
        {
          "name": "stderr",
          "output_type": "stream",
          "text": [
            "/Users/peter.organisciak/anaconda3/lib/python3.9/site-packages/pandas/io/sql.py:761: UserWarning: pandas only support SQLAlchemy connectable(engine/connection) ordatabase string URI or sqlite3 DBAPI2 connectionother DBAPI2 objects are not tested, please consider using SQLAlchemy\n",
            "  warnings.warn(\n"
          ]
        },
        {
          "data": {
            "text/html": [
              "<div>\n",
              "<style scoped>\n",
              "    .dataframe tbody tr th:only-of-type {\n",
              "        vertical-align: middle;\n",
              "    }\n",
              "\n",
              "    .dataframe tbody tr th {\n",
              "        vertical-align: top;\n",
              "    }\n",
              "\n",
              "    .dataframe thead th {\n",
              "        text-align: right;\n",
              "    }\n",
              "</style>\n",
              "<table border=\"1\" class=\"dataframe\">\n",
              "  <thead>\n",
              "    <tr style=\"text-align: right;\">\n",
              "      <th></th>\n",
              "      <th>type</th>\n",
              "      <th>src</th>\n",
              "      <th>question</th>\n",
              "      <th>prompt</th>\n",
              "      <th>response</th>\n",
              "      <th>id</th>\n",
              "      <th>target</th>\n",
              "      <th>participant</th>\n",
              "      <th>response_num</th>\n",
              "    </tr>\n",
              "  </thead>\n",
              "  <tbody>\n",
              "    <tr>\n",
              "      <th>3488</th>\n",
              "      <td>uses</td>\n",
              "      <td>multiaut_english2</td>\n",
              "      <td>What is a surprising use for ROPE?</td>\n",
              "      <td>rope</td>\n",
              "      <td>tie to a tree to use to jump into a pond lake</td>\n",
              "      <td>multiaut_english2_rope-3145cb</td>\n",
              "      <td>2.0</td>\n",
              "      <td>multiaut_english2175</td>\n",
              "      <td>None</td>\n",
              "    </tr>\n",
              "    <tr>\n",
              "      <th>1704</th>\n",
              "      <td>uses</td>\n",
              "      <td>multiaut_english2</td>\n",
              "      <td>What is a surprising use for ROPE?</td>\n",
              "      <td>rope</td>\n",
              "      <td>lasso a horse</td>\n",
              "      <td>multiaut_english2_rope-6739f2</td>\n",
              "      <td>2.0</td>\n",
              "      <td>multiaut_english284</td>\n",
              "      <td>None</td>\n",
              "    </tr>\n",
              "  </tbody>\n",
              "</table>\n",
              "</div>"
            ],
            "text/plain": [
              "      type                src                            question prompt  \\\n",
              "3488  uses  multiaut_english2  What is a surprising use for ROPE?   rope   \n",
              "1704  uses  multiaut_english2  What is a surprising use for ROPE?   rope   \n",
              "\n",
              "                                           response  \\\n",
              "3488  tie to a tree to use to jump into a pond lake   \n",
              "1704                                  lasso a horse   \n",
              "\n",
              "                                 id  target           participant response_num  \n",
              "3488  multiaut_english2_rope-3145cb     2.0  multiaut_english2175         None  \n",
              "1704  multiaut_english2_rope-6739f2     2.0   multiaut_english284         None  "
            ]
          },
          "metadata": {},
          "output_type": "display_data"
        },
        {
          "name": "stdout",
          "output_type": "stream",
          "text": [
            "french3\n"
          ]
        },
        {
          "data": {
            "text/markdown": [
              "### Loading *Patterson et al., 2023*"
            ],
            "text/plain": [
              "<IPython.core.display.Markdown object>"
            ]
          },
          "metadata": {},
          "output_type": "display_data"
        },
        {
          "data": {
            "text/markdown": [
              "Patterson, J. D., Merseal, H. M., Johnson, D. R., Agnoli, S., Baas, M., Baker, B. S., ... & Beaty, R. E. (2023). Multilingual semantic distance: Automatic verbal creativity assessment in many languages. Psychology of Aesthetics, Creativity, and the Arts, 17(4), 495."
            ],
            "text/plain": [
              "<IPython.core.display.Markdown object>"
            ]
          },
          "metadata": {},
          "output_type": "display_data"
        },
        {
          "data": {
            "text/markdown": [
              "- Renaming columns {'ID': 'participant', 'order': 'response_num'}"
            ],
            "text/plain": [
              "<IPython.core.display.Markdown object>"
            ]
          },
          "metadata": {},
          "output_type": "display_data"
        },
        {
          "data": {
            "text/markdown": [
              "- Inferred range of original data: (1.0, 11.0)"
            ],
            "text/plain": [
              "<IPython.core.display.Markdown object>"
            ]
          },
          "metadata": {},
          "output_type": "display_data"
        },
        {
          "name": "stdout",
          "output_type": "stream",
          "text": [
            "Dropping 10 unrated items\n"
          ]
        },
        {
          "data": {
            "text/markdown": [
              "- name: multiaut_french3\n",
              "- no_of_prompts: 2\n",
              "- no_of_participants: 277\n",
              "- no_of_data_points: 2181\n",
              "- prompts: ['ceinture', 'brouette']\n",
              "- ICC2k: 0.72\n",
              "- ICC2k_CI: 0.67-0.77\n",
              "- ICC3k: 0.75\n",
              "- rater_cols: ['rater1', 'rater2', 'rater3']\n",
              "- no_of_raters: 3\n"
            ],
            "text/plain": [
              "<IPython.core.display.Markdown object>"
            ]
          },
          "metadata": {},
          "output_type": "display_data"
        },
        {
          "name": "stderr",
          "output_type": "stream",
          "text": [
            "/Users/peter.organisciak/anaconda3/lib/python3.9/site-packages/pandas/io/sql.py:761: UserWarning: pandas only support SQLAlchemy connectable(engine/connection) ordatabase string URI or sqlite3 DBAPI2 connectionother DBAPI2 objects are not tested, please consider using SQLAlchemy\n",
            "  warnings.warn(\n"
          ]
        },
        {
          "data": {
            "text/html": [
              "<div>\n",
              "<style scoped>\n",
              "    .dataframe tbody tr th:only-of-type {\n",
              "        vertical-align: middle;\n",
              "    }\n",
              "\n",
              "    .dataframe tbody tr th {\n",
              "        vertical-align: top;\n",
              "    }\n",
              "\n",
              "    .dataframe thead th {\n",
              "        text-align: right;\n",
              "    }\n",
              "</style>\n",
              "<table border=\"1\" class=\"dataframe\">\n",
              "  <thead>\n",
              "    <tr style=\"text-align: right;\">\n",
              "      <th></th>\n",
              "      <th>type</th>\n",
              "      <th>src</th>\n",
              "      <th>question</th>\n",
              "      <th>prompt</th>\n",
              "      <th>response</th>\n",
              "      <th>id</th>\n",
              "      <th>target</th>\n",
              "      <th>participant</th>\n",
              "      <th>response_num</th>\n",
              "    </tr>\n",
              "  </thead>\n",
              "  <tbody>\n",
              "    <tr>\n",
              "      <th>1562</th>\n",
              "      <td>uses</td>\n",
              "      <td>multiaut_french3</td>\n",
              "      <td>Quel est un usage surprenant pour un CEINTURE?</td>\n",
              "      <td>ceinture</td>\n",
              "      <td>Parchemin</td>\n",
              "      <td>multiaut_french3_ceinture-64b7cc</td>\n",
              "      <td>2.3336</td>\n",
              "      <td>multiaut_french3197</td>\n",
              "      <td>None</td>\n",
              "    </tr>\n",
              "    <tr>\n",
              "      <th>1703</th>\n",
              "      <td>uses</td>\n",
              "      <td>multiaut_french3</td>\n",
              "      <td>Quel est un usage surprenant pour un CEINTURE?</td>\n",
              "      <td>ceinture</td>\n",
              "      <td>Serre tête</td>\n",
              "      <td>multiaut_french3_ceinture-6cf65b</td>\n",
              "      <td>1.4000</td>\n",
              "      <td>multiaut_french3215</td>\n",
              "      <td>None</td>\n",
              "    </tr>\n",
              "  </tbody>\n",
              "</table>\n",
              "</div>"
            ],
            "text/plain": [
              "      type               src                                        question  \\\n",
              "1562  uses  multiaut_french3  Quel est un usage surprenant pour un CEINTURE?   \n",
              "1703  uses  multiaut_french3  Quel est un usage surprenant pour un CEINTURE?   \n",
              "\n",
              "        prompt    response                                id  target  \\\n",
              "1562  ceinture   Parchemin  multiaut_french3_ceinture-64b7cc  2.3336   \n",
              "1703  ceinture  Serre tête  multiaut_french3_ceinture-6cf65b  1.4000   \n",
              "\n",
              "              participant response_num  \n",
              "1562  multiaut_french3197         None  \n",
              "1703  multiaut_french3215         None  "
            ]
          },
          "metadata": {},
          "output_type": "display_data"
        },
        {
          "name": "stdout",
          "output_type": "stream",
          "text": [
            "italian1\n"
          ]
        },
        {
          "data": {
            "text/markdown": [
              "### Loading *Patterson et al., 2023*"
            ],
            "text/plain": [
              "<IPython.core.display.Markdown object>"
            ]
          },
          "metadata": {},
          "output_type": "display_data"
        },
        {
          "data": {
            "text/markdown": [
              "Patterson, J. D., Merseal, H. M., Johnson, D. R., Agnoli, S., Baas, M., Baker, B. S., ... & Beaty, R. E. (2023). Multilingual semantic distance: Automatic verbal creativity assessment in many languages. Psychology of Aesthetics, Creativity, and the Arts, 17(4), 495."
            ],
            "text/plain": [
              "<IPython.core.display.Markdown object>"
            ]
          },
          "metadata": {},
          "output_type": "display_data"
        },
        {
          "data": {
            "text/markdown": [
              "- Renaming columns {'ID': 'participant', 'order': 'response_num'}"
            ],
            "text/plain": [
              "<IPython.core.display.Markdown object>"
            ]
          },
          "metadata": {},
          "output_type": "display_data"
        },
        {
          "data": {
            "text/markdown": [
              "- Inferred range of original data: (1, 5)"
            ],
            "text/plain": [
              "<IPython.core.display.Markdown object>"
            ]
          },
          "metadata": {},
          "output_type": "display_data"
        },
        {
          "data": {
            "text/markdown": [
              "- name: multiaut_italian1\n",
              "- no_of_prompts: 6\n",
              "- no_of_participants: 151\n",
              "- no_of_data_points: 4269\n",
              "- prompts: ['Attaccapanni', 'Barile', 'Bottiglia di plastica', 'Lampadina', 'Libro', 'Sedia']\n",
              "- ICC2k: 0.89\n",
              "- ICC2k_CI: 0.89-0.9\n",
              "- ICC3k: 0.89\n",
              "- rater_cols: ['rater1', 'rater2']\n",
              "- no_of_raters: 2\n"
            ],
            "text/plain": [
              "<IPython.core.display.Markdown object>"
            ]
          },
          "metadata": {},
          "output_type": "display_data"
        },
        {
          "name": "stderr",
          "output_type": "stream",
          "text": [
            "/Users/peter.organisciak/anaconda3/lib/python3.9/site-packages/pandas/io/sql.py:761: UserWarning: pandas only support SQLAlchemy connectable(engine/connection) ordatabase string URI or sqlite3 DBAPI2 connectionother DBAPI2 objects are not tested, please consider using SQLAlchemy\n",
            "  warnings.warn(\n"
          ]
        },
        {
          "data": {
            "text/html": [
              "<div>\n",
              "<style scoped>\n",
              "    .dataframe tbody tr th:only-of-type {\n",
              "        vertical-align: middle;\n",
              "    }\n",
              "\n",
              "    .dataframe tbody tr th {\n",
              "        vertical-align: top;\n",
              "    }\n",
              "\n",
              "    .dataframe thead th {\n",
              "        text-align: right;\n",
              "    }\n",
              "</style>\n",
              "<table border=\"1\" class=\"dataframe\">\n",
              "  <thead>\n",
              "    <tr style=\"text-align: right;\">\n",
              "      <th></th>\n",
              "      <th>type</th>\n",
              "      <th>src</th>\n",
              "      <th>question</th>\n",
              "      <th>prompt</th>\n",
              "      <th>response</th>\n",
              "      <th>id</th>\n",
              "      <th>target</th>\n",
              "      <th>participant</th>\n",
              "      <th>response_num</th>\n",
              "    </tr>\n",
              "  </thead>\n",
              "  <tbody>\n",
              "    <tr>\n",
              "      <th>239</th>\n",
              "      <td>uses</td>\n",
              "      <td>multiaut_italian1</td>\n",
              "      <td>Qual è un uso sorprendente per un SEDIA?</td>\n",
              "      <td>Sedia</td>\n",
              "      <td>posta vestiti</td>\n",
              "      <td>multiaut_italian1_Sedia-a79a6d</td>\n",
              "      <td>2.0</td>\n",
              "      <td>multiaut_italian18</td>\n",
              "      <td>None</td>\n",
              "    </tr>\n",
              "    <tr>\n",
              "      <th>1197</th>\n",
              "      <td>uses</td>\n",
              "      <td>multiaut_italian1</td>\n",
              "      <td>Qual è un uso sorprendente per un BARILE?</td>\n",
              "      <td>Barile</td>\n",
              "      <td>seggiola</td>\n",
              "      <td>multiaut_italian1_Barile-68a696</td>\n",
              "      <td>2.0</td>\n",
              "      <td>multiaut_italian153</td>\n",
              "      <td>None</td>\n",
              "    </tr>\n",
              "  </tbody>\n",
              "</table>\n",
              "</div>"
            ],
            "text/plain": [
              "      type                src                                   question  \\\n",
              "239   uses  multiaut_italian1   Qual è un uso sorprendente per un SEDIA?   \n",
              "1197  uses  multiaut_italian1  Qual è un uso sorprendente per un BARILE?   \n",
              "\n",
              "      prompt       response                               id  target  \\\n",
              "239    Sedia  posta vestiti   multiaut_italian1_Sedia-a79a6d     2.0   \n",
              "1197  Barile       seggiola  multiaut_italian1_Barile-68a696     2.0   \n",
              "\n",
              "              participant response_num  \n",
              "239    multiaut_italian18         None  \n",
              "1197  multiaut_italian153         None  "
            ]
          },
          "metadata": {},
          "output_type": "display_data"
        },
        {
          "name": "stdout",
          "output_type": "stream",
          "text": [
            "spanish1\n"
          ]
        },
        {
          "data": {
            "text/markdown": [
              "### Loading *Patterson et al., 2023*"
            ],
            "text/plain": [
              "<IPython.core.display.Markdown object>"
            ]
          },
          "metadata": {},
          "output_type": "display_data"
        },
        {
          "data": {
            "text/markdown": [
              "Patterson, J. D., Merseal, H. M., Johnson, D. R., Agnoli, S., Baas, M., Baker, B. S., ... & Beaty, R. E. (2023). Multilingual semantic distance: Automatic verbal creativity assessment in many languages. Psychology of Aesthetics, Creativity, and the Arts, 17(4), 495."
            ],
            "text/plain": [
              "<IPython.core.display.Markdown object>"
            ]
          },
          "metadata": {},
          "output_type": "display_data"
        },
        {
          "data": {
            "text/markdown": [
              "- Renaming columns {'ID': 'participant', 'order': 'response_num'}"
            ],
            "text/plain": [
              "<IPython.core.display.Markdown object>"
            ]
          },
          "metadata": {},
          "output_type": "display_data"
        },
        {
          "data": {
            "text/markdown": [
              "- Inferred range of original data: (1.0, 5.0)"
            ],
            "text/plain": [
              "<IPython.core.display.Markdown object>"
            ]
          },
          "metadata": {},
          "output_type": "display_data"
        },
        {
          "data": {
            "text/markdown": [
              "- name: multiaut_spanish1\n",
              "- no_of_prompts: 1\n",
              "- no_of_participants: 491\n",
              "- no_of_data_points: 2735\n",
              "- prompts: ['ladrillo']\n",
              "- ICC2k: 0.57\n",
              "- ICC2k_CI: 0.18-0.75\n",
              "- ICC3k: 0.75\n",
              "- rater_cols: ['rater1', 'rater2', 'rater3']\n",
              "- no_of_raters: 3\n"
            ],
            "text/plain": [
              "<IPython.core.display.Markdown object>"
            ]
          },
          "metadata": {},
          "output_type": "display_data"
        },
        {
          "name": "stderr",
          "output_type": "stream",
          "text": [
            "/Users/peter.organisciak/anaconda3/lib/python3.9/site-packages/pandas/io/sql.py:761: UserWarning: pandas only support SQLAlchemy connectable(engine/connection) ordatabase string URI or sqlite3 DBAPI2 connectionother DBAPI2 objects are not tested, please consider using SQLAlchemy\n",
            "  warnings.warn(\n"
          ]
        },
        {
          "data": {
            "text/html": [
              "<div>\n",
              "<style scoped>\n",
              "    .dataframe tbody tr th:only-of-type {\n",
              "        vertical-align: middle;\n",
              "    }\n",
              "\n",
              "    .dataframe tbody tr th {\n",
              "        vertical-align: top;\n",
              "    }\n",
              "\n",
              "    .dataframe thead th {\n",
              "        text-align: right;\n",
              "    }\n",
              "</style>\n",
              "<table border=\"1\" class=\"dataframe\">\n",
              "  <thead>\n",
              "    <tr style=\"text-align: right;\">\n",
              "      <th></th>\n",
              "      <th>type</th>\n",
              "      <th>src</th>\n",
              "      <th>question</th>\n",
              "      <th>prompt</th>\n",
              "      <th>response</th>\n",
              "      <th>id</th>\n",
              "      <th>target</th>\n",
              "      <th>participant</th>\n",
              "      <th>response_num</th>\n",
              "    </tr>\n",
              "  </thead>\n",
              "  <tbody>\n",
              "    <tr>\n",
              "      <th>2659</th>\n",
              "      <td>uses</td>\n",
              "      <td>multiaut_spanish1</td>\n",
              "      <td>¿Cuál es un uso sorprendente para un LADRILLO?</td>\n",
              "      <td>ladrillo</td>\n",
              "      <td>para rodear un Ã¡rbol</td>\n",
              "      <td>multiaut_spanish1_ladrillo-7a8ea1</td>\n",
              "      <td>2.333</td>\n",
              "      <td>multiaut_spanish1731</td>\n",
              "      <td>3</td>\n",
              "    </tr>\n",
              "    <tr>\n",
              "      <th>1920</th>\n",
              "      <td>uses</td>\n",
              "      <td>multiaut_spanish1</td>\n",
              "      <td>¿Cuál es un uso sorprendente para un LADRILLO?</td>\n",
              "      <td>ladrillo</td>\n",
              "      <td>pintar como gis</td>\n",
              "      <td>multiaut_spanish1_ladrillo-f5d5a2</td>\n",
              "      <td>2.333</td>\n",
              "      <td>multiaut_spanish1536</td>\n",
              "      <td>4</td>\n",
              "    </tr>\n",
              "  </tbody>\n",
              "</table>\n",
              "</div>"
            ],
            "text/plain": [
              "      type                src                                        question  \\\n",
              "2659  uses  multiaut_spanish1  ¿Cuál es un uso sorprendente para un LADRILLO?   \n",
              "1920  uses  multiaut_spanish1  ¿Cuál es un uso sorprendente para un LADRILLO?   \n",
              "\n",
              "        prompt               response                                 id  \\\n",
              "2659  ladrillo  para rodear un Ã¡rbol  multiaut_spanish1_ladrillo-7a8ea1   \n",
              "1920  ladrillo        pintar como gis  multiaut_spanish1_ladrillo-f5d5a2   \n",
              "\n",
              "      target           participant  response_num  \n",
              "2659   2.333  multiaut_spanish1731             3  \n",
              "1920   2.333  multiaut_spanish1536             4  "
            ]
          },
          "metadata": {},
          "output_type": "display_data"
        },
        {
          "name": "stdout",
          "output_type": "stream",
          "text": [
            "dutch1\n"
          ]
        },
        {
          "data": {
            "text/markdown": [
              "### Loading *Patterson et al., 2023*"
            ],
            "text/plain": [
              "<IPython.core.display.Markdown object>"
            ]
          },
          "metadata": {},
          "output_type": "display_data"
        },
        {
          "data": {
            "text/markdown": [
              "Patterson, J. D., Merseal, H. M., Johnson, D. R., Agnoli, S., Baas, M., Baker, B. S., ... & Beaty, R. E. (2023). Multilingual semantic distance: Automatic verbal creativity assessment in many languages. Psychology of Aesthetics, Creativity, and the Arts, 17(4), 495."
            ],
            "text/plain": [
              "<IPython.core.display.Markdown object>"
            ]
          },
          "metadata": {},
          "output_type": "display_data"
        },
        {
          "data": {
            "text/markdown": [
              "- Renaming columns {'ID': 'participant', 'order': 'response_num'}"
            ],
            "text/plain": [
              "<IPython.core.display.Markdown object>"
            ]
          },
          "metadata": {},
          "output_type": "display_data"
        },
        {
          "data": {
            "text/markdown": [
              "- Inferred range of original data: (0.0, 5.0)"
            ],
            "text/plain": [
              "<IPython.core.display.Markdown object>"
            ]
          },
          "metadata": {},
          "output_type": "display_data"
        },
        {
          "data": {
            "text/markdown": [
              "- name: multiaut_dutch1\n",
              "- no_of_prompts: 4\n",
              "- no_of_participants: 633\n",
              "- no_of_data_points: 10549\n",
              "- prompts: ['brick', 'fork', 'paperclip', 'towel']\n",
              "- ICC2k: 0.81\n",
              "- ICC2k_CI: 0.81-0.82\n",
              "- ICC3k: 0.81\n",
              "- rater_cols: ['rater1', 'rater2']\n",
              "- no_of_raters: 2\n"
            ],
            "text/plain": [
              "<IPython.core.display.Markdown object>"
            ]
          },
          "metadata": {},
          "output_type": "display_data"
        },
        {
          "name": "stderr",
          "output_type": "stream",
          "text": [
            "/Users/peter.organisciak/anaconda3/lib/python3.9/site-packages/pandas/io/sql.py:761: UserWarning: pandas only support SQLAlchemy connectable(engine/connection) ordatabase string URI or sqlite3 DBAPI2 connectionother DBAPI2 objects are not tested, please consider using SQLAlchemy\n",
            "  warnings.warn(\n"
          ]
        },
        {
          "data": {
            "text/html": [
              "<div>\n",
              "<style scoped>\n",
              "    .dataframe tbody tr th:only-of-type {\n",
              "        vertical-align: middle;\n",
              "    }\n",
              "\n",
              "    .dataframe tbody tr th {\n",
              "        vertical-align: top;\n",
              "    }\n",
              "\n",
              "    .dataframe thead th {\n",
              "        text-align: right;\n",
              "    }\n",
              "</style>\n",
              "<table border=\"1\" class=\"dataframe\">\n",
              "  <thead>\n",
              "    <tr style=\"text-align: right;\">\n",
              "      <th></th>\n",
              "      <th>type</th>\n",
              "      <th>src</th>\n",
              "      <th>question</th>\n",
              "      <th>prompt</th>\n",
              "      <th>response</th>\n",
              "      <th>id</th>\n",
              "      <th>target</th>\n",
              "      <th>participant</th>\n",
              "      <th>response_num</th>\n",
              "    </tr>\n",
              "  </thead>\n",
              "  <tbody>\n",
              "    <tr>\n",
              "      <th>4368</th>\n",
              "      <td>uses</td>\n",
              "      <td>multiaut_dutch1</td>\n",
              "      <td>Wat is een verrassend gebruik voor een FORK?</td>\n",
              "      <td>fork</td>\n",
              "      <td>eten</td>\n",
              "      <td>multiaut_dutch1_fork-10c520</td>\n",
              "      <td>1.8</td>\n",
              "      <td>multiaut_dutch1314</td>\n",
              "      <td>None</td>\n",
              "    </tr>\n",
              "    <tr>\n",
              "      <th>9979</th>\n",
              "      <td>uses</td>\n",
              "      <td>multiaut_dutch1</td>\n",
              "      <td>Wat is een verrassend gebruik voor een TOWEL?</td>\n",
              "      <td>towel</td>\n",
              "      <td>kleren ervan maken</td>\n",
              "      <td>multiaut_dutch1_towel-7bef1f</td>\n",
              "      <td>2.6</td>\n",
              "      <td>multiaut_dutch1506</td>\n",
              "      <td>None</td>\n",
              "    </tr>\n",
              "  </tbody>\n",
              "</table>\n",
              "</div>"
            ],
            "text/plain": [
              "      type              src                                       question  \\\n",
              "4368  uses  multiaut_dutch1   Wat is een verrassend gebruik voor een FORK?   \n",
              "9979  uses  multiaut_dutch1  Wat is een verrassend gebruik voor een TOWEL?   \n",
              "\n",
              "     prompt            response                            id  target  \\\n",
              "4368   fork                eten   multiaut_dutch1_fork-10c520     1.8   \n",
              "9979  towel  kleren ervan maken  multiaut_dutch1_towel-7bef1f     2.6   \n",
              "\n",
              "             participant response_num  \n",
              "4368  multiaut_dutch1314         None  \n",
              "9979  multiaut_dutch1506         None  "
            ]
          },
          "metadata": {},
          "output_type": "display_data"
        },
        {
          "name": "stdout",
          "output_type": "stream",
          "text": [
            "english3\n"
          ]
        },
        {
          "data": {
            "text/markdown": [
              "### Loading *Patterson et al., 2023*"
            ],
            "text/plain": [
              "<IPython.core.display.Markdown object>"
            ]
          },
          "metadata": {},
          "output_type": "display_data"
        },
        {
          "data": {
            "text/markdown": [
              "Patterson, J. D., Merseal, H. M., Johnson, D. R., Agnoli, S., Baas, M., Baker, B. S., ... & Beaty, R. E. (2023). Multilingual semantic distance: Automatic verbal creativity assessment in many languages. Psychology of Aesthetics, Creativity, and the Arts, 17(4), 495."
            ],
            "text/plain": [
              "<IPython.core.display.Markdown object>"
            ]
          },
          "metadata": {},
          "output_type": "display_data"
        },
        {
          "data": {
            "text/markdown": [
              "- Renaming columns {'ID': 'participant', 'order': 'response_num'}"
            ],
            "text/plain": [
              "<IPython.core.display.Markdown object>"
            ]
          },
          "metadata": {},
          "output_type": "display_data"
        },
        {
          "data": {
            "text/markdown": [
              "- Inferred range of original data: (1.0, 33.0)"
            ],
            "text/plain": [
              "<IPython.core.display.Markdown object>"
            ]
          },
          "metadata": {},
          "output_type": "display_data"
        },
        {
          "name": "stdout",
          "output_type": "stream",
          "text": [
            "Dropping 11 unrated items\n"
          ]
        },
        {
          "data": {
            "text/markdown": [
              "- name: multiaut_english3\n",
              "- no_of_prompts: 2\n",
              "- no_of_participants: 209\n",
              "- no_of_data_points: 3225\n",
              "- prompts: ['box', 'rope']\n",
              "- ICC2k: 0.38\n",
              "- ICC2k_CI: 0.18-0.52\n",
              "- ICC3k: 0.49\n",
              "- rater_cols: ['rater1', 'rater2', 'rater3']\n",
              "- no_of_raters: 3\n"
            ],
            "text/plain": [
              "<IPython.core.display.Markdown object>"
            ]
          },
          "metadata": {},
          "output_type": "display_data"
        },
        {
          "name": "stderr",
          "output_type": "stream",
          "text": [
            "/Users/peter.organisciak/anaconda3/lib/python3.9/site-packages/pandas/io/sql.py:761: UserWarning: pandas only support SQLAlchemy connectable(engine/connection) ordatabase string URI or sqlite3 DBAPI2 connectionother DBAPI2 objects are not tested, please consider using SQLAlchemy\n",
            "  warnings.warn(\n"
          ]
        },
        {
          "data": {
            "text/html": [
              "<div>\n",
              "<style scoped>\n",
              "    .dataframe tbody tr th:only-of-type {\n",
              "        vertical-align: middle;\n",
              "    }\n",
              "\n",
              "    .dataframe tbody tr th {\n",
              "        vertical-align: top;\n",
              "    }\n",
              "\n",
              "    .dataframe thead th {\n",
              "        text-align: right;\n",
              "    }\n",
              "</style>\n",
              "<table border=\"1\" class=\"dataframe\">\n",
              "  <thead>\n",
              "    <tr style=\"text-align: right;\">\n",
              "      <th></th>\n",
              "      <th>type</th>\n",
              "      <th>src</th>\n",
              "      <th>question</th>\n",
              "      <th>prompt</th>\n",
              "      <th>response</th>\n",
              "      <th>id</th>\n",
              "      <th>target</th>\n",
              "      <th>participant</th>\n",
              "      <th>response_num</th>\n",
              "    </tr>\n",
              "  </thead>\n",
              "  <tbody>\n",
              "    <tr>\n",
              "      <th>2893</th>\n",
              "      <td>uses</td>\n",
              "      <td>multiaut_english3</td>\n",
              "      <td>What is a surprising use for ROPE?</td>\n",
              "      <td>rope</td>\n",
              "      <td>fishing rod</td>\n",
              "      <td>multiaut_english3_rope-79b6f2</td>\n",
              "      <td>1.124875</td>\n",
              "      <td>multiaut_english384005</td>\n",
              "      <td>None</td>\n",
              "    </tr>\n",
              "    <tr>\n",
              "      <th>3001</th>\n",
              "      <td>uses</td>\n",
              "      <td>multiaut_english3</td>\n",
              "      <td>What is a surprising use for BOX?</td>\n",
              "      <td>box</td>\n",
              "      <td>car</td>\n",
              "      <td>multiaut_english3_box-36db34</td>\n",
              "      <td>1.125000</td>\n",
              "      <td>multiaut_english384033</td>\n",
              "      <td>None</td>\n",
              "    </tr>\n",
              "  </tbody>\n",
              "</table>\n",
              "</div>"
            ],
            "text/plain": [
              "      type                src                            question prompt  \\\n",
              "2893  uses  multiaut_english3  What is a surprising use for ROPE?   rope   \n",
              "3001  uses  multiaut_english3   What is a surprising use for BOX?    box   \n",
              "\n",
              "         response                             id    target  \\\n",
              "2893  fishing rod  multiaut_english3_rope-79b6f2  1.124875   \n",
              "3001          car   multiaut_english3_box-36db34  1.125000   \n",
              "\n",
              "                 participant response_num  \n",
              "2893  multiaut_english384005         None  \n",
              "3001  multiaut_english384033         None  "
            ]
          },
          "metadata": {},
          "output_type": "display_data"
        },
        {
          "name": "stdout",
          "output_type": "stream",
          "text": [
            "french4\n"
          ]
        },
        {
          "data": {
            "text/markdown": [
              "### Loading *Patterson et al., 2023*"
            ],
            "text/plain": [
              "<IPython.core.display.Markdown object>"
            ]
          },
          "metadata": {},
          "output_type": "display_data"
        },
        {
          "data": {
            "text/markdown": [
              "Patterson, J. D., Merseal, H. M., Johnson, D. R., Agnoli, S., Baas, M., Baker, B. S., ... & Beaty, R. E. (2023). Multilingual semantic distance: Automatic verbal creativity assessment in many languages. Psychology of Aesthetics, Creativity, and the Arts, 17(4), 495."
            ],
            "text/plain": [
              "<IPython.core.display.Markdown object>"
            ]
          },
          "metadata": {},
          "output_type": "display_data"
        },
        {
          "data": {
            "text/markdown": [
              "- Renaming columns {'ID': 'participant', 'order': 'response_num'}"
            ],
            "text/plain": [
              "<IPython.core.display.Markdown object>"
            ]
          },
          "metadata": {},
          "output_type": "display_data"
        },
        {
          "data": {
            "text/markdown": [
              "- Inferred range of original data: (1.0, 5.0)"
            ],
            "text/plain": [
              "<IPython.core.display.Markdown object>"
            ]
          },
          "metadata": {},
          "output_type": "display_data"
        },
        {
          "data": {
            "text/markdown": [
              "- name: multiaut_french4\n",
              "- no_of_prompts: 2\n",
              "- no_of_participants: 238\n",
              "- no_of_data_points: 2332\n",
              "- prompts: ['brouette', 'ceinture']\n",
              "- ICC2k: 0.79\n",
              "- ICC2k_CI: 0.78-0.81\n",
              "- ICC3k: 0.8\n",
              "- rater_cols: ['rater1', 'rater2', 'rater3']\n",
              "- no_of_raters: 3\n"
            ],
            "text/plain": [
              "<IPython.core.display.Markdown object>"
            ]
          },
          "metadata": {},
          "output_type": "display_data"
        },
        {
          "name": "stderr",
          "output_type": "stream",
          "text": [
            "/Users/peter.organisciak/anaconda3/lib/python3.9/site-packages/pandas/io/sql.py:761: UserWarning: pandas only support SQLAlchemy connectable(engine/connection) ordatabase string URI or sqlite3 DBAPI2 connectionother DBAPI2 objects are not tested, please consider using SQLAlchemy\n",
            "  warnings.warn(\n"
          ]
        },
        {
          "data": {
            "text/html": [
              "<div>\n",
              "<style scoped>\n",
              "    .dataframe tbody tr th:only-of-type {\n",
              "        vertical-align: middle;\n",
              "    }\n",
              "\n",
              "    .dataframe tbody tr th {\n",
              "        vertical-align: top;\n",
              "    }\n",
              "\n",
              "    .dataframe thead th {\n",
              "        text-align: right;\n",
              "    }\n",
              "</style>\n",
              "<table border=\"1\" class=\"dataframe\">\n",
              "  <thead>\n",
              "    <tr style=\"text-align: right;\">\n",
              "      <th></th>\n",
              "      <th>type</th>\n",
              "      <th>src</th>\n",
              "      <th>question</th>\n",
              "      <th>prompt</th>\n",
              "      <th>response</th>\n",
              "      <th>id</th>\n",
              "      <th>target</th>\n",
              "      <th>participant</th>\n",
              "      <th>response_num</th>\n",
              "    </tr>\n",
              "  </thead>\n",
              "  <tbody>\n",
              "    <tr>\n",
              "      <th>240</th>\n",
              "      <td>uses</td>\n",
              "      <td>multiaut_french4</td>\n",
              "      <td>Quel est un usage surprenant pour un BROUETTE?</td>\n",
              "      <td>brouette</td>\n",
              "      <td>Pour s'asseoir</td>\n",
              "      <td>multiaut_french4_brouette-2c17c1</td>\n",
              "      <td>1.333</td>\n",
              "      <td>multiaut_french430</td>\n",
              "      <td>None</td>\n",
              "    </tr>\n",
              "    <tr>\n",
              "      <th>645</th>\n",
              "      <td>uses</td>\n",
              "      <td>multiaut_french4</td>\n",
              "      <td>Quel est un usage surprenant pour un BROUETTE?</td>\n",
              "      <td>brouette</td>\n",
              "      <td>Comme caddie de courses</td>\n",
              "      <td>multiaut_french4_brouette-86a9b0</td>\n",
              "      <td>1.000</td>\n",
              "      <td>multiaut_french469</td>\n",
              "      <td>None</td>\n",
              "    </tr>\n",
              "  </tbody>\n",
              "</table>\n",
              "</div>"
            ],
            "text/plain": [
              "     type               src                                        question  \\\n",
              "240  uses  multiaut_french4  Quel est un usage surprenant pour un BROUETTE?   \n",
              "645  uses  multiaut_french4  Quel est un usage surprenant pour un BROUETTE?   \n",
              "\n",
              "       prompt                 response                                id  \\\n",
              "240  brouette           Pour s'asseoir  multiaut_french4_brouette-2c17c1   \n",
              "645  brouette  Comme caddie de courses  multiaut_french4_brouette-86a9b0   \n",
              "\n",
              "     target         participant response_num  \n",
              "240   1.333  multiaut_french430         None  \n",
              "645   1.000  multiaut_french469         None  "
            ]
          },
          "metadata": {},
          "output_type": "display_data"
        },
        {
          "name": "stdout",
          "output_type": "stream",
          "text": [
            "italian2\n"
          ]
        },
        {
          "data": {
            "text/markdown": [
              "### Loading *Patterson et al., 2023*"
            ],
            "text/plain": [
              "<IPython.core.display.Markdown object>"
            ]
          },
          "metadata": {},
          "output_type": "display_data"
        },
        {
          "data": {
            "text/markdown": [
              "Patterson, J. D., Merseal, H. M., Johnson, D. R., Agnoli, S., Baas, M., Baker, B. S., ... & Beaty, R. E. (2023). Multilingual semantic distance: Automatic verbal creativity assessment in many languages. Psychology of Aesthetics, Creativity, and the Arts, 17(4), 495."
            ],
            "text/plain": [
              "<IPython.core.display.Markdown object>"
            ]
          },
          "metadata": {},
          "output_type": "display_data"
        },
        {
          "data": {
            "text/markdown": [
              "- Renaming columns {'ID': 'participant', 'order': 'response_num'}"
            ],
            "text/plain": [
              "<IPython.core.display.Markdown object>"
            ]
          },
          "metadata": {},
          "output_type": "display_data"
        },
        {
          "data": {
            "text/markdown": [
              "- Inferred range of original data: (0.0, 5.0)"
            ],
            "text/plain": [
              "<IPython.core.display.Markdown object>"
            ]
          },
          "metadata": {},
          "output_type": "display_data"
        },
        {
          "name": "stdout",
          "output_type": "stream",
          "text": [
            "Dropping 3 unrated items\n"
          ]
        },
        {
          "data": {
            "text/markdown": [
              "- name: multiaut_italian2\n",
              "- no_of_prompts: 21\n",
              "- no_of_participants: 80\n",
              "- no_of_data_points: 6895\n",
              "- prompts: ['guanto', 'lampadina', 'libro', 'martello', 'mattone', 'cappello', 'cestino', 'coltello', 'cucchiaio', 'graffetta', 'accendino', 'accetta', 'appendino', 'aspirapolvere', 'banana', 'barattolo', 'bicicletta', 'borsa', 'botte', 'bottiglietta', 'capello']\n",
              "- ICC2k: 0.88\n",
              "- ICC2k_CI: 0.87-0.89\n",
              "- ICC3k: 0.88\n",
              "- rater_cols: ['rater1', 'rater2']\n",
              "- no_of_raters: 2\n"
            ],
            "text/plain": [
              "<IPython.core.display.Markdown object>"
            ]
          },
          "metadata": {},
          "output_type": "display_data"
        },
        {
          "name": "stderr",
          "output_type": "stream",
          "text": [
            "/Users/peter.organisciak/anaconda3/lib/python3.9/site-packages/pandas/io/sql.py:761: UserWarning: pandas only support SQLAlchemy connectable(engine/connection) ordatabase string URI or sqlite3 DBAPI2 connectionother DBAPI2 objects are not tested, please consider using SQLAlchemy\n",
            "  warnings.warn(\n"
          ]
        },
        {
          "data": {
            "text/html": [
              "<div>\n",
              "<style scoped>\n",
              "    .dataframe tbody tr th:only-of-type {\n",
              "        vertical-align: middle;\n",
              "    }\n",
              "\n",
              "    .dataframe tbody tr th {\n",
              "        vertical-align: top;\n",
              "    }\n",
              "\n",
              "    .dataframe thead th {\n",
              "        text-align: right;\n",
              "    }\n",
              "</style>\n",
              "<table border=\"1\" class=\"dataframe\">\n",
              "  <thead>\n",
              "    <tr style=\"text-align: right;\">\n",
              "      <th></th>\n",
              "      <th>type</th>\n",
              "      <th>src</th>\n",
              "      <th>question</th>\n",
              "      <th>prompt</th>\n",
              "      <th>response</th>\n",
              "      <th>id</th>\n",
              "      <th>target</th>\n",
              "      <th>participant</th>\n",
              "      <th>response_num</th>\n",
              "    </tr>\n",
              "  </thead>\n",
              "  <tbody>\n",
              "    <tr>\n",
              "      <th>3340</th>\n",
              "      <td>uses</td>\n",
              "      <td>multiaut_italian2</td>\n",
              "      <td>Qual è un uso sorprendente per un COLTELLO?</td>\n",
              "      <td>coltello</td>\n",
              "      <td>lametta</td>\n",
              "      <td>multiaut_italian2_coltello-e0e711</td>\n",
              "      <td>3.4</td>\n",
              "      <td>multiaut_italian2101</td>\n",
              "      <td>None</td>\n",
              "    </tr>\n",
              "    <tr>\n",
              "      <th>6543</th>\n",
              "      <td>uses</td>\n",
              "      <td>multiaut_italian2</td>\n",
              "      <td>Qual è un uso sorprendente per un ACCENDINO?</td>\n",
              "      <td>accendino</td>\n",
              "      <td>accendere un fuoco</td>\n",
              "      <td>multiaut_italian2_accendino-41cf85</td>\n",
              "      <td>1.8</td>\n",
              "      <td>multiaut_italian2137</td>\n",
              "      <td>None</td>\n",
              "    </tr>\n",
              "  </tbody>\n",
              "</table>\n",
              "</div>"
            ],
            "text/plain": [
              "      type                src                                      question  \\\n",
              "3340  uses  multiaut_italian2   Qual è un uso sorprendente per un COLTELLO?   \n",
              "6543  uses  multiaut_italian2  Qual è un uso sorprendente per un ACCENDINO?   \n",
              "\n",
              "         prompt            response                                  id  \\\n",
              "3340   coltello             lametta   multiaut_italian2_coltello-e0e711   \n",
              "6543  accendino  accendere un fuoco  multiaut_italian2_accendino-41cf85   \n",
              "\n",
              "      target           participant response_num  \n",
              "3340     3.4  multiaut_italian2101         None  \n",
              "6543     1.8  multiaut_italian2137         None  "
            ]
          },
          "metadata": {},
          "output_type": "display_data"
        },
        {
          "name": "stdout",
          "output_type": "stream",
          "text": [
            "dutch2\n"
          ]
        },
        {
          "data": {
            "text/markdown": [
              "### Loading *Patterson et al., 2023*"
            ],
            "text/plain": [
              "<IPython.core.display.Markdown object>"
            ]
          },
          "metadata": {},
          "output_type": "display_data"
        },
        {
          "data": {
            "text/markdown": [
              "Patterson, J. D., Merseal, H. M., Johnson, D. R., Agnoli, S., Baas, M., Baker, B. S., ... & Beaty, R. E. (2023). Multilingual semantic distance: Automatic verbal creativity assessment in many languages. Psychology of Aesthetics, Creativity, and the Arts, 17(4), 495."
            ],
            "text/plain": [
              "<IPython.core.display.Markdown object>"
            ]
          },
          "metadata": {},
          "output_type": "display_data"
        },
        {
          "data": {
            "text/markdown": [
              "- Renaming columns {'ID': 'participant', 'order': 'response_num'}"
            ],
            "text/plain": [
              "<IPython.core.display.Markdown object>"
            ]
          },
          "metadata": {},
          "output_type": "display_data"
        },
        {
          "data": {
            "text/markdown": [
              "- Inferred range of original data: (0.0, 5.0)"
            ],
            "text/plain": [
              "<IPython.core.display.Markdown object>"
            ]
          },
          "metadata": {},
          "output_type": "display_data"
        },
        {
          "data": {
            "text/markdown": [
              "- name: multiaut_dutch2\n",
              "- no_of_prompts: 2\n",
              "- no_of_participants: 111\n",
              "- no_of_data_points: 1640\n",
              "- prompts: ['brick', 'paperclip']\n",
              "- ICC2k: 0.94\n",
              "- ICC2k_CI: 0.93-0.95\n",
              "- ICC3k: 0.94\n",
              "- rater_cols: ['rater1', 'rater2']\n",
              "- no_of_raters: 2\n"
            ],
            "text/plain": [
              "<IPython.core.display.Markdown object>"
            ]
          },
          "metadata": {},
          "output_type": "display_data"
        },
        {
          "name": "stderr",
          "output_type": "stream",
          "text": [
            "/Users/peter.organisciak/anaconda3/lib/python3.9/site-packages/pandas/io/sql.py:761: UserWarning: pandas only support SQLAlchemy connectable(engine/connection) ordatabase string URI or sqlite3 DBAPI2 connectionother DBAPI2 objects are not tested, please consider using SQLAlchemy\n",
            "  warnings.warn(\n"
          ]
        },
        {
          "data": {
            "text/html": [
              "<div>\n",
              "<style scoped>\n",
              "    .dataframe tbody tr th:only-of-type {\n",
              "        vertical-align: middle;\n",
              "    }\n",
              "\n",
              "    .dataframe tbody tr th {\n",
              "        vertical-align: top;\n",
              "    }\n",
              "\n",
              "    .dataframe thead th {\n",
              "        text-align: right;\n",
              "    }\n",
              "</style>\n",
              "<table border=\"1\" class=\"dataframe\">\n",
              "  <thead>\n",
              "    <tr style=\"text-align: right;\">\n",
              "      <th></th>\n",
              "      <th>type</th>\n",
              "      <th>src</th>\n",
              "      <th>question</th>\n",
              "      <th>prompt</th>\n",
              "      <th>response</th>\n",
              "      <th>id</th>\n",
              "      <th>target</th>\n",
              "      <th>participant</th>\n",
              "      <th>response_num</th>\n",
              "    </tr>\n",
              "  </thead>\n",
              "  <tbody>\n",
              "    <tr>\n",
              "      <th>293</th>\n",
              "      <td>uses</td>\n",
              "      <td>multiaut_dutch2</td>\n",
              "      <td>Wat is een verrassend gebruik voor een BRICK?</td>\n",
              "      <td>brick</td>\n",
              "      <td>huis</td>\n",
              "      <td>multiaut_dutch2_brick-a9dc88</td>\n",
              "      <td>1.8</td>\n",
              "      <td>multiaut_dutch21187</td>\n",
              "      <td>None</td>\n",
              "    </tr>\n",
              "    <tr>\n",
              "      <th>617</th>\n",
              "      <td>uses</td>\n",
              "      <td>multiaut_dutch2</td>\n",
              "      <td>Wat is een verrassend gebruik voor een BRICK?</td>\n",
              "      <td>brick</td>\n",
              "      <td>schoorsteen bouwen</td>\n",
              "      <td>multiaut_dutch2_brick-82e140</td>\n",
              "      <td>1.8</td>\n",
              "      <td>multiaut_dutch21230</td>\n",
              "      <td>None</td>\n",
              "    </tr>\n",
              "  </tbody>\n",
              "</table>\n",
              "</div>"
            ],
            "text/plain": [
              "     type              src                                       question  \\\n",
              "293  uses  multiaut_dutch2  Wat is een verrassend gebruik voor een BRICK?   \n",
              "617  uses  multiaut_dutch2  Wat is een verrassend gebruik voor een BRICK?   \n",
              "\n",
              "    prompt            response                            id  target  \\\n",
              "293  brick                huis  multiaut_dutch2_brick-a9dc88     1.8   \n",
              "617  brick  schoorsteen bouwen  multiaut_dutch2_brick-82e140     1.8   \n",
              "\n",
              "             participant response_num  \n",
              "293  multiaut_dutch21187         None  \n",
              "617  multiaut_dutch21230         None  "
            ]
          },
          "metadata": {},
          "output_type": "display_data"
        },
        {
          "name": "stdout",
          "output_type": "stream",
          "text": [
            "german1\n"
          ]
        },
        {
          "data": {
            "text/markdown": [
              "### Loading *Patterson et al., 2023*"
            ],
            "text/plain": [
              "<IPython.core.display.Markdown object>"
            ]
          },
          "metadata": {},
          "output_type": "display_data"
        },
        {
          "data": {
            "text/markdown": [
              "Patterson, J. D., Merseal, H. M., Johnson, D. R., Agnoli, S., Baas, M., Baker, B. S., ... & Beaty, R. E. (2023). Multilingual semantic distance: Automatic verbal creativity assessment in many languages. Psychology of Aesthetics, Creativity, and the Arts, 17(4), 495."
            ],
            "text/plain": [
              "<IPython.core.display.Markdown object>"
            ]
          },
          "metadata": {},
          "output_type": "display_data"
        },
        {
          "data": {
            "text/markdown": [
              "- Renaming columns {'ID': 'participant', 'order': 'response_num'}"
            ],
            "text/plain": [
              "<IPython.core.display.Markdown object>"
            ]
          },
          "metadata": {},
          "output_type": "display_data"
        },
        {
          "data": {
            "text/markdown": [
              "- Inferred range of original data: (0.0, 3.0)"
            ],
            "text/plain": [
              "<IPython.core.display.Markdown object>"
            ]
          },
          "metadata": {},
          "output_type": "display_data"
        },
        {
          "data": {
            "text/markdown": [
              "- name: multiaut_german1\n",
              "- no_of_prompts: 3\n",
              "- no_of_participants: 298\n",
              "- no_of_data_points: 8116\n",
              "- prompts: ['konservendose', 'messer', 'haarfoehn']\n",
              "- ICC2k: 0.7\n",
              "- ICC2k_CI: 0.68-0.72\n",
              "- ICC3k: 0.71\n",
              "- rater_cols: ['rater1', 'rater2', 'rater3', 'rater4']\n",
              "- no_of_raters: 4\n"
            ],
            "text/plain": [
              "<IPython.core.display.Markdown object>"
            ]
          },
          "metadata": {},
          "output_type": "display_data"
        },
        {
          "name": "stderr",
          "output_type": "stream",
          "text": [
            "/Users/peter.organisciak/anaconda3/lib/python3.9/site-packages/pandas/io/sql.py:761: UserWarning: pandas only support SQLAlchemy connectable(engine/connection) ordatabase string URI or sqlite3 DBAPI2 connectionother DBAPI2 objects are not tested, please consider using SQLAlchemy\n",
            "  warnings.warn(\n"
          ]
        },
        {
          "data": {
            "text/html": [
              "<div>\n",
              "<style scoped>\n",
              "    .dataframe tbody tr th:only-of-type {\n",
              "        vertical-align: middle;\n",
              "    }\n",
              "\n",
              "    .dataframe tbody tr th {\n",
              "        vertical-align: top;\n",
              "    }\n",
              "\n",
              "    .dataframe thead th {\n",
              "        text-align: right;\n",
              "    }\n",
              "</style>\n",
              "<table border=\"1\" class=\"dataframe\">\n",
              "  <thead>\n",
              "    <tr style=\"text-align: right;\">\n",
              "      <th></th>\n",
              "      <th>type</th>\n",
              "      <th>src</th>\n",
              "      <th>question</th>\n",
              "      <th>prompt</th>\n",
              "      <th>response</th>\n",
              "      <th>id</th>\n",
              "      <th>target</th>\n",
              "      <th>participant</th>\n",
              "      <th>response_num</th>\n",
              "    </tr>\n",
              "  </thead>\n",
              "  <tbody>\n",
              "    <tr>\n",
              "      <th>5511</th>\n",
              "      <td>uses</td>\n",
              "      <td>multiaut_german1</td>\n",
              "      <td>Was ist eine überraschende Verwendung für ein ...</td>\n",
              "      <td>haarfoehn</td>\n",
              "      <td>zum Spaß</td>\n",
              "      <td>multiaut_german1_haarfoehn-d6c32d</td>\n",
              "      <td>1.000000</td>\n",
              "      <td>multiaut_german1203</td>\n",
              "      <td>None</td>\n",
              "    </tr>\n",
              "    <tr>\n",
              "      <th>3018</th>\n",
              "      <td>uses</td>\n",
              "      <td>multiaut_german1</td>\n",
              "      <td>Was ist eine überraschende Verwendung für ein ...</td>\n",
              "      <td>messer</td>\n",
              "      <td>huhn schlachten</td>\n",
              "      <td>multiaut_german1_messer-c6302d</td>\n",
              "      <td>1.666667</td>\n",
              "      <td>multiaut_german1118</td>\n",
              "      <td>None</td>\n",
              "    </tr>\n",
              "  </tbody>\n",
              "</table>\n",
              "</div>"
            ],
            "text/plain": [
              "      type               src  \\\n",
              "5511  uses  multiaut_german1   \n",
              "3018  uses  multiaut_german1   \n",
              "\n",
              "                                               question     prompt  \\\n",
              "5511  Was ist eine überraschende Verwendung für ein ...  haarfoehn   \n",
              "3018  Was ist eine überraschende Verwendung für ein ...     messer   \n",
              "\n",
              "             response                                 id    target  \\\n",
              "5511         zum Spaß  multiaut_german1_haarfoehn-d6c32d  1.000000   \n",
              "3018  huhn schlachten     multiaut_german1_messer-c6302d  1.666667   \n",
              "\n",
              "              participant response_num  \n",
              "5511  multiaut_german1203         None  \n",
              "3018  multiaut_german1118         None  "
            ]
          },
          "metadata": {},
          "output_type": "display_data"
        },
        {
          "name": "stdout",
          "output_type": "stream",
          "text": [
            "polish1\n"
          ]
        },
        {
          "data": {
            "text/markdown": [
              "### Loading *Patterson et al., 2023*"
            ],
            "text/plain": [
              "<IPython.core.display.Markdown object>"
            ]
          },
          "metadata": {},
          "output_type": "display_data"
        },
        {
          "data": {
            "text/markdown": [
              "Patterson, J. D., Merseal, H. M., Johnson, D. R., Agnoli, S., Baas, M., Baker, B. S., ... & Beaty, R. E. (2023). Multilingual semantic distance: Automatic verbal creativity assessment in many languages. Psychology of Aesthetics, Creativity, and the Arts, 17(4), 495."
            ],
            "text/plain": [
              "<IPython.core.display.Markdown object>"
            ]
          },
          "metadata": {},
          "output_type": "display_data"
        },
        {
          "data": {
            "text/markdown": [
              "- Renaming columns {'ID': 'participant', 'order': 'response_num'}"
            ],
            "text/plain": [
              "<IPython.core.display.Markdown object>"
            ]
          },
          "metadata": {},
          "output_type": "display_data"
        },
        {
          "data": {
            "text/markdown": [
              "- Inferred range of original data: (1, 7)"
            ],
            "text/plain": [
              "<IPython.core.display.Markdown object>"
            ]
          },
          "metadata": {},
          "output_type": "display_data"
        },
        {
          "data": {
            "text/markdown": [
              "- name: multiaut_polish1\n",
              "- no_of_prompts: 2\n",
              "- no_of_participants: 791\n",
              "- no_of_data_points: 7415\n",
              "- prompts: ['puszka', 'cegła']\n",
              "- ICC2k: 0.82\n",
              "- ICC2k_CI: 0.81-0.83\n",
              "- ICC3k: 0.82\n",
              "- rater_cols: ['rater1', 'rater2', 'rater3']\n",
              "- no_of_raters: 3\n"
            ],
            "text/plain": [
              "<IPython.core.display.Markdown object>"
            ]
          },
          "metadata": {},
          "output_type": "display_data"
        },
        {
          "name": "stderr",
          "output_type": "stream",
          "text": [
            "/Users/peter.organisciak/anaconda3/lib/python3.9/site-packages/pandas/io/sql.py:761: UserWarning: pandas only support SQLAlchemy connectable(engine/connection) ordatabase string URI or sqlite3 DBAPI2 connectionother DBAPI2 objects are not tested, please consider using SQLAlchemy\n",
            "  warnings.warn(\n"
          ]
        },
        {
          "data": {
            "text/html": [
              "<div>\n",
              "<style scoped>\n",
              "    .dataframe tbody tr th:only-of-type {\n",
              "        vertical-align: middle;\n",
              "    }\n",
              "\n",
              "    .dataframe tbody tr th {\n",
              "        vertical-align: top;\n",
              "    }\n",
              "\n",
              "    .dataframe thead th {\n",
              "        text-align: right;\n",
              "    }\n",
              "</style>\n",
              "<table border=\"1\" class=\"dataframe\">\n",
              "  <thead>\n",
              "    <tr style=\"text-align: right;\">\n",
              "      <th></th>\n",
              "      <th>type</th>\n",
              "      <th>src</th>\n",
              "      <th>question</th>\n",
              "      <th>prompt</th>\n",
              "      <th>response</th>\n",
              "      <th>id</th>\n",
              "      <th>target</th>\n",
              "      <th>participant</th>\n",
              "      <th>response_num</th>\n",
              "    </tr>\n",
              "  </thead>\n",
              "  <tbody>\n",
              "    <tr>\n",
              "      <th>5283</th>\n",
              "      <td>uses</td>\n",
              "      <td>multiaut_polish1</td>\n",
              "      <td>Jakie jest zaskakujące zastosowanie dla CEGŁA?</td>\n",
              "      <td>cegła</td>\n",
              "      <td>broń obuchowa</td>\n",
              "      <td>multiaut_polish1_cegła-7e3432</td>\n",
              "      <td>1.0</td>\n",
              "      <td>multiaut_polish1369107</td>\n",
              "      <td>p7</td>\n",
              "    </tr>\n",
              "    <tr>\n",
              "      <th>5867</th>\n",
              "      <td>uses</td>\n",
              "      <td>multiaut_polish1</td>\n",
              "      <td>Jakie jest zaskakujące zastosowanie dla CEGŁA?</td>\n",
              "      <td>cegła</td>\n",
              "      <td>broń miotana,</td>\n",
              "      <td>multiaut_polish1_cegła-105c8e</td>\n",
              "      <td>1.0</td>\n",
              "      <td>multiaut_polish1458715</td>\n",
              "      <td>p3</td>\n",
              "    </tr>\n",
              "  </tbody>\n",
              "</table>\n",
              "</div>"
            ],
            "text/plain": [
              "      type               src                                        question  \\\n",
              "5283  uses  multiaut_polish1  Jakie jest zaskakujące zastosowanie dla CEGŁA?   \n",
              "5867  uses  multiaut_polish1  Jakie jest zaskakujące zastosowanie dla CEGŁA?   \n",
              "\n",
              "     prompt       response                             id  target  \\\n",
              "5283  cegła  broń obuchowa  multiaut_polish1_cegła-7e3432     1.0   \n",
              "5867  cegła  broń miotana,  multiaut_polish1_cegła-105c8e     1.0   \n",
              "\n",
              "                 participant response_num  \n",
              "5283  multiaut_polish1369107           p7  \n",
              "5867  multiaut_polish1458715           p3  "
            ]
          },
          "metadata": {},
          "output_type": "display_data"
        },
        {
          "name": "stdout",
          "output_type": "stream",
          "text": [
            "dutch3\n"
          ]
        },
        {
          "data": {
            "text/markdown": [
              "### Loading *Patterson et al., 2023*"
            ],
            "text/plain": [
              "<IPython.core.display.Markdown object>"
            ]
          },
          "metadata": {},
          "output_type": "display_data"
        },
        {
          "data": {
            "text/markdown": [
              "Patterson, J. D., Merseal, H. M., Johnson, D. R., Agnoli, S., Baas, M., Baker, B. S., ... & Beaty, R. E. (2023). Multilingual semantic distance: Automatic verbal creativity assessment in many languages. Psychology of Aesthetics, Creativity, and the Arts, 17(4), 495."
            ],
            "text/plain": [
              "<IPython.core.display.Markdown object>"
            ]
          },
          "metadata": {},
          "output_type": "display_data"
        },
        {
          "data": {
            "text/markdown": [
              "- Renaming columns {'ID': 'participant', 'order': 'response_num'}"
            ],
            "text/plain": [
              "<IPython.core.display.Markdown object>"
            ]
          },
          "metadata": {},
          "output_type": "display_data"
        },
        {
          "data": {
            "text/markdown": [
              "- Inferred range of original data: (0, 5)"
            ],
            "text/plain": [
              "<IPython.core.display.Markdown object>"
            ]
          },
          "metadata": {},
          "output_type": "display_data"
        },
        {
          "data": {
            "text/markdown": [
              "- name: multiaut_dutch3\n",
              "- no_of_prompts: 1\n",
              "- no_of_participants: 111\n",
              "- no_of_data_points: 1004\n",
              "- prompts: ['brick']\n",
              "- ICC2k: 0.86\n",
              "- ICC2k_CI: 0.79-0.89\n",
              "- ICC3k: 0.87\n",
              "- rater_cols: ['rater1', 'rater2']\n",
              "- no_of_raters: 2\n"
            ],
            "text/plain": [
              "<IPython.core.display.Markdown object>"
            ]
          },
          "metadata": {},
          "output_type": "display_data"
        },
        {
          "name": "stderr",
          "output_type": "stream",
          "text": [
            "/Users/peter.organisciak/anaconda3/lib/python3.9/site-packages/pandas/io/sql.py:761: UserWarning: pandas only support SQLAlchemy connectable(engine/connection) ordatabase string URI or sqlite3 DBAPI2 connectionother DBAPI2 objects are not tested, please consider using SQLAlchemy\n",
            "  warnings.warn(\n"
          ]
        },
        {
          "data": {
            "text/html": [
              "<div>\n",
              "<style scoped>\n",
              "    .dataframe tbody tr th:only-of-type {\n",
              "        vertical-align: middle;\n",
              "    }\n",
              "\n",
              "    .dataframe tbody tr th {\n",
              "        vertical-align: top;\n",
              "    }\n",
              "\n",
              "    .dataframe thead th {\n",
              "        text-align: right;\n",
              "    }\n",
              "</style>\n",
              "<table border=\"1\" class=\"dataframe\">\n",
              "  <thead>\n",
              "    <tr style=\"text-align: right;\">\n",
              "      <th></th>\n",
              "      <th>type</th>\n",
              "      <th>src</th>\n",
              "      <th>question</th>\n",
              "      <th>prompt</th>\n",
              "      <th>response</th>\n",
              "      <th>id</th>\n",
              "      <th>target</th>\n",
              "      <th>participant</th>\n",
              "      <th>response_num</th>\n",
              "    </tr>\n",
              "  </thead>\n",
              "  <tbody>\n",
              "    <tr>\n",
              "      <th>666</th>\n",
              "      <td>uses</td>\n",
              "      <td>multiaut_dutch3</td>\n",
              "      <td>Wat is een verrassend gebruik voor een BRICK?</td>\n",
              "      <td>brick</td>\n",
              "      <td>muur maken</td>\n",
              "      <td>multiaut_dutch3_brick-754945</td>\n",
              "      <td>1.8</td>\n",
              "      <td>multiaut_dutch31462</td>\n",
              "      <td>None</td>\n",
              "    </tr>\n",
              "    <tr>\n",
              "      <th>922</th>\n",
              "      <td>uses</td>\n",
              "      <td>multiaut_dutch3</td>\n",
              "      <td>Wat is een verrassend gebruik voor een BRICK?</td>\n",
              "      <td>brick</td>\n",
              "      <td>huis bouwen</td>\n",
              "      <td>multiaut_dutch3_brick-a2062e</td>\n",
              "      <td>1.8</td>\n",
              "      <td>multiaut_dutch31530</td>\n",
              "      <td>None</td>\n",
              "    </tr>\n",
              "  </tbody>\n",
              "</table>\n",
              "</div>"
            ],
            "text/plain": [
              "     type              src                                       question  \\\n",
              "666  uses  multiaut_dutch3  Wat is een verrassend gebruik voor een BRICK?   \n",
              "922  uses  multiaut_dutch3  Wat is een verrassend gebruik voor een BRICK?   \n",
              "\n",
              "    prompt     response                            id  target  \\\n",
              "666  brick   muur maken  multiaut_dutch3_brick-754945     1.8   \n",
              "922  brick  huis bouwen  multiaut_dutch3_brick-a2062e     1.8   \n",
              "\n",
              "             participant response_num  \n",
              "666  multiaut_dutch31462         None  \n",
              "922  multiaut_dutch31530         None  "
            ]
          },
          "metadata": {},
          "output_type": "display_data"
        },
        {
          "name": "stdout",
          "output_type": "stream",
          "text": [
            "german2\n"
          ]
        },
        {
          "data": {
            "text/markdown": [
              "### Loading *Patterson et al., 2023*"
            ],
            "text/plain": [
              "<IPython.core.display.Markdown object>"
            ]
          },
          "metadata": {},
          "output_type": "display_data"
        },
        {
          "data": {
            "text/markdown": [
              "Patterson, J. D., Merseal, H. M., Johnson, D. R., Agnoli, S., Baas, M., Baker, B. S., ... & Beaty, R. E. (2023). Multilingual semantic distance: Automatic verbal creativity assessment in many languages. Psychology of Aesthetics, Creativity, and the Arts, 17(4), 495."
            ],
            "text/plain": [
              "<IPython.core.display.Markdown object>"
            ]
          },
          "metadata": {},
          "output_type": "display_data"
        },
        {
          "data": {
            "text/markdown": [
              "- Renaming columns {'ID': 'participant', 'order': 'response_num'}"
            ],
            "text/plain": [
              "<IPython.core.display.Markdown object>"
            ]
          },
          "metadata": {},
          "output_type": "display_data"
        },
        {
          "data": {
            "text/markdown": [
              "- Inferred range of original data: (1, 5)"
            ],
            "text/plain": [
              "<IPython.core.display.Markdown object>"
            ]
          },
          "metadata": {},
          "output_type": "display_data"
        },
        {
          "data": {
            "text/markdown": [
              "- name: multiaut_german2\n",
              "- no_of_prompts: 3\n",
              "- no_of_participants: 154\n",
              "- no_of_data_points: 3530\n",
              "- prompts: ['Büroklammer', 'Mülltüte', 'Seil']\n",
              "- ICC2k: 0.71\n",
              "- ICC2k_CI: 0.54-0.8\n",
              "- ICC3k: 0.77\n",
              "- rater_cols: ['rater1', 'rater2', 'rater3']\n",
              "- no_of_raters: 3\n"
            ],
            "text/plain": [
              "<IPython.core.display.Markdown object>"
            ]
          },
          "metadata": {},
          "output_type": "display_data"
        },
        {
          "name": "stderr",
          "output_type": "stream",
          "text": [
            "/Users/peter.organisciak/anaconda3/lib/python3.9/site-packages/pandas/io/sql.py:761: UserWarning: pandas only support SQLAlchemy connectable(engine/connection) ordatabase string URI or sqlite3 DBAPI2 connectionother DBAPI2 objects are not tested, please consider using SQLAlchemy\n",
            "  warnings.warn(\n"
          ]
        },
        {
          "data": {
            "text/html": [
              "<div>\n",
              "<style scoped>\n",
              "    .dataframe tbody tr th:only-of-type {\n",
              "        vertical-align: middle;\n",
              "    }\n",
              "\n",
              "    .dataframe tbody tr th {\n",
              "        vertical-align: top;\n",
              "    }\n",
              "\n",
              "    .dataframe thead th {\n",
              "        text-align: right;\n",
              "    }\n",
              "</style>\n",
              "<table border=\"1\" class=\"dataframe\">\n",
              "  <thead>\n",
              "    <tr style=\"text-align: right;\">\n",
              "      <th></th>\n",
              "      <th>type</th>\n",
              "      <th>src</th>\n",
              "      <th>question</th>\n",
              "      <th>prompt</th>\n",
              "      <th>response</th>\n",
              "      <th>id</th>\n",
              "      <th>target</th>\n",
              "      <th>participant</th>\n",
              "      <th>response_num</th>\n",
              "    </tr>\n",
              "  </thead>\n",
              "  <tbody>\n",
              "    <tr>\n",
              "      <th>2511</th>\n",
              "      <td>uses</td>\n",
              "      <td>multiaut_german2</td>\n",
              "      <td>Was ist eine überraschende Verwendung für ein ...</td>\n",
              "      <td>Mülltüte</td>\n",
              "      <td>Gummistiefel</td>\n",
              "      <td>multiaut_german2_Mülltüte-8493f3</td>\n",
              "      <td>2.666</td>\n",
              "      <td>multiaut_german22105IDMÄ164</td>\n",
              "      <td>None</td>\n",
              "    </tr>\n",
              "    <tr>\n",
              "      <th>1327</th>\n",
              "      <td>uses</td>\n",
              "      <td>multiaut_german2</td>\n",
              "      <td>Was ist eine überraschende Verwendung für ein ...</td>\n",
              "      <td>Büroklammer</td>\n",
              "      <td>Zettel in der Stadt anbringen (schöne)</td>\n",
              "      <td>multiaut_german2_Büroklammer-f18a56</td>\n",
              "      <td>3.000</td>\n",
              "      <td>multiaut_german21638KASE170</td>\n",
              "      <td>None</td>\n",
              "    </tr>\n",
              "  </tbody>\n",
              "</table>\n",
              "</div>"
            ],
            "text/plain": [
              "      type               src  \\\n",
              "2511  uses  multiaut_german2   \n",
              "1327  uses  multiaut_german2   \n",
              "\n",
              "                                               question       prompt  \\\n",
              "2511  Was ist eine überraschende Verwendung für ein ...     Mülltüte   \n",
              "1327  Was ist eine überraschende Verwendung für ein ...  Büroklammer   \n",
              "\n",
              "                                    response  \\\n",
              "2511                            Gummistiefel   \n",
              "1327  Zettel in der Stadt anbringen (schöne)   \n",
              "\n",
              "                                       id  target  \\\n",
              "2511     multiaut_german2_Mülltüte-8493f3   2.666   \n",
              "1327  multiaut_german2_Büroklammer-f18a56   3.000   \n",
              "\n",
              "                      participant response_num  \n",
              "2511  multiaut_german22105IDMÄ164         None  \n",
              "1327  multiaut_german21638KASE170         None  "
            ]
          },
          "metadata": {},
          "output_type": "display_data"
        },
        {
          "name": "stdout",
          "output_type": "stream",
          "text": [
            "polish2\n"
          ]
        },
        {
          "data": {
            "text/markdown": [
              "### Loading *Patterson et al., 2023*"
            ],
            "text/plain": [
              "<IPython.core.display.Markdown object>"
            ]
          },
          "metadata": {},
          "output_type": "display_data"
        },
        {
          "data": {
            "text/markdown": [
              "Patterson, J. D., Merseal, H. M., Johnson, D. R., Agnoli, S., Baas, M., Baker, B. S., ... & Beaty, R. E. (2023). Multilingual semantic distance: Automatic verbal creativity assessment in many languages. Psychology of Aesthetics, Creativity, and the Arts, 17(4), 495."
            ],
            "text/plain": [
              "<IPython.core.display.Markdown object>"
            ]
          },
          "metadata": {},
          "output_type": "display_data"
        },
        {
          "data": {
            "text/markdown": [
              "- Renaming columns {'ID': 'participant', 'order': 'response_num'}"
            ],
            "text/plain": [
              "<IPython.core.display.Markdown object>"
            ]
          },
          "metadata": {},
          "output_type": "display_data"
        },
        {
          "data": {
            "text/markdown": [
              "- Inferred range of original data: (1.0, 7.0)"
            ],
            "text/plain": [
              "<IPython.core.display.Markdown object>"
            ]
          },
          "metadata": {},
          "output_type": "display_data"
        },
        {
          "data": {
            "text/markdown": [
              "WARNING: ICC has an undefined error for this dataset"
            ],
            "text/plain": [
              "<IPython.core.display.Markdown object>"
            ]
          },
          "metadata": {},
          "output_type": "display_data"
        },
        {
          "data": {
            "text/markdown": [
              "- name: multiaut_polish2\n",
              "- no_of_prompts: 3\n",
              "- no_of_participants: 497\n",
              "- no_of_data_points: 3054\n",
              "- prompts: ['sznurek', 'puszka', 'cegła']\n",
              "- ICC2k: None\n",
              "- ICC2k_CI: None\n",
              "- ICC3k: None\n",
              "- rater_cols: ['rater1', 'rater2', 'rater3', 'rater4']\n",
              "- no_of_raters: 4\n"
            ],
            "text/plain": [
              "<IPython.core.display.Markdown object>"
            ]
          },
          "metadata": {},
          "output_type": "display_data"
        },
        {
          "name": "stderr",
          "output_type": "stream",
          "text": [
            "/Users/peter.organisciak/anaconda3/lib/python3.9/site-packages/pandas/io/sql.py:761: UserWarning: pandas only support SQLAlchemy connectable(engine/connection) ordatabase string URI or sqlite3 DBAPI2 connectionother DBAPI2 objects are not tested, please consider using SQLAlchemy\n",
            "  warnings.warn(\n"
          ]
        },
        {
          "data": {
            "text/html": [
              "<div>\n",
              "<style scoped>\n",
              "    .dataframe tbody tr th:only-of-type {\n",
              "        vertical-align: middle;\n",
              "    }\n",
              "\n",
              "    .dataframe tbody tr th {\n",
              "        vertical-align: top;\n",
              "    }\n",
              "\n",
              "    .dataframe thead th {\n",
              "        text-align: right;\n",
              "    }\n",
              "</style>\n",
              "<table border=\"1\" class=\"dataframe\">\n",
              "  <thead>\n",
              "    <tr style=\"text-align: right;\">\n",
              "      <th></th>\n",
              "      <th>type</th>\n",
              "      <th>src</th>\n",
              "      <th>question</th>\n",
              "      <th>prompt</th>\n",
              "      <th>response</th>\n",
              "      <th>id</th>\n",
              "      <th>target</th>\n",
              "      <th>participant</th>\n",
              "      <th>response_num</th>\n",
              "    </tr>\n",
              "  </thead>\n",
              "  <tbody>\n",
              "    <tr>\n",
              "      <th>2261</th>\n",
              "      <td>uses</td>\n",
              "      <td>multiaut_polish2</td>\n",
              "      <td>Jakie jest zaskakujące zastosowanie dla CEGŁA?</td>\n",
              "      <td>cegła</td>\n",
              "      <td>do malowania na ulicy</td>\n",
              "      <td>multiaut_polish2_cegła-d0e4aa</td>\n",
              "      <td>1.444</td>\n",
              "      <td>multiaut_polish277646</td>\n",
              "      <td>p7</td>\n",
              "    </tr>\n",
              "    <tr>\n",
              "      <th>2195</th>\n",
              "      <td>uses</td>\n",
              "      <td>multiaut_polish2</td>\n",
              "      <td>Jakie jest zaskakujące zastosowanie dla CEGŁA?</td>\n",
              "      <td>cegła</td>\n",
              "      <td>Do podwyższenia położenie jakiegokolwiek przed...</td>\n",
              "      <td>multiaut_polish2_cegła-ed8531</td>\n",
              "      <td>1.444</td>\n",
              "      <td>multiaut_polish254949</td>\n",
              "      <td>p1</td>\n",
              "    </tr>\n",
              "  </tbody>\n",
              "</table>\n",
              "</div>"
            ],
            "text/plain": [
              "      type               src                                        question  \\\n",
              "2261  uses  multiaut_polish2  Jakie jest zaskakujące zastosowanie dla CEGŁA?   \n",
              "2195  uses  multiaut_polish2  Jakie jest zaskakujące zastosowanie dla CEGŁA?   \n",
              "\n",
              "     prompt                                           response  \\\n",
              "2261  cegła                              do malowania na ulicy   \n",
              "2195  cegła  Do podwyższenia położenie jakiegokolwiek przed...   \n",
              "\n",
              "                                 id  target            participant  \\\n",
              "2261  multiaut_polish2_cegła-d0e4aa   1.444  multiaut_polish277646   \n",
              "2195  multiaut_polish2_cegła-ed8531   1.444  multiaut_polish254949   \n",
              "\n",
              "     response_num  \n",
              "2261           p7  \n",
              "2195           p1  "
            ]
          },
          "metadata": {},
          "output_type": "display_data"
        }
      ],
      "source": [
        "fnames = download_from_description(desc, '../data/raw')\n",
        "\n",
        "# additional info specific to subset datasets\n",
        "subsets = {\n",
        "\n",
        "}\n",
        "language_to_iso = {\n",
        "    'arabic': 'ara', 'chinese': 'chi', 'dutch': 'dut', 'english': 'eng',\n",
        "    'farsi': 'per', 'french': 'fre', 'german': 'ger', 'hebrew': 'heb',\n",
        "    'italian': 'ita', 'polish': 'pol', 'russian': 'rus', 'spanish': 'spa'\n",
        "}\n",
        "for fname in fnames:\n",
        "    # language is automatically detected from filename\n",
        "    subset_desc = desc.copy()\n",
        "    print(fname.stem)\n",
        "    subset_desc['language'] = language_to_iso[fname.stem[:-1]]\n",
        "    subset_desc['name'] = desc['name'] + '_' + fname.stem\n",
        "    if subsets.get(fname.stem):\n",
        "        subset_desc.update(subsets[fname.stem])\n",
        "    if fname.stem == 'english2':\n",
        "        print(\"NOTE: english2 had an encoding error. Opening and re-saving it seems to fix it.\")\n",
        "    df = pd.read_csv(fname, encoding='utf-8')\n",
        "    cleaned = prep_general(df, **subset_desc, save_dir='../data/datasets')\n",
        "    display(cleaned.sample(2))"
      ]
    },
    {
      "cell_type": "markdown",
      "metadata": {},
      "source": [
        "## TransDis"
      ]
    },
    {
      "cell_type": "code",
      "execution_count": 42,
      "metadata": {},
      "outputs": [
        {
          "data": {
            "text/markdown": [
              "### Loading *Yang et al., 2023*"
            ],
            "text/plain": [
              "<IPython.core.display.Markdown object>"
            ]
          },
          "metadata": {},
          "output_type": "display_data"
        },
        {
          "data": {
            "text/markdown": [
              "Yang, T., Zhang, Q., Sun, Z., & Hou, Y. (2023). Automatic Assessment of Divergent Thinking in Chinese Language with TransDis: A Transformer-Based Language Model Approach. arXiv preprint arXiv:2306.14790."
            ],
            "text/plain": [
              "<IPython.core.display.Markdown object>"
            ]
          },
          "metadata": {},
          "output_type": "display_data"
        },
        {
          "data": {
            "text/markdown": [
              "- Renaming columns {'Item': 'prompt', 'Response': 'response', 'ParticipantID': 'participant'}"
            ],
            "text/plain": [
              "<IPython.core.display.Markdown object>"
            ]
          },
          "metadata": {},
          "output_type": "display_data"
        },
        {
          "name": "stdout",
          "output_type": "stream",
          "text": [
            "Replacing NA with NaN in response column\n",
            "Dropping 4 unrated items\n"
          ]
        },
        {
          "data": {
            "text/markdown": [
              "- name: transdis\n",
              "- no_of_prompts: 4\n",
              "- no_of_participants: 350\n",
              "- no_of_data_points: 8007\n",
              "- prompts: ['床单', '筷子', '拖鞋', '牙刷']\n",
              "- ICC2k: 0.67\n",
              "- ICC2k_CI: 0.6-0.73\n",
              "- ICC3k: 0.7\n",
              "- rater_cols: ['Originality_Rater1', 'Originality_Rater2']\n",
              "- no_of_raters: 2\n"
            ],
            "text/plain": [
              "<IPython.core.display.Markdown object>"
            ]
          },
          "metadata": {},
          "output_type": "display_data"
        },
        {
          "name": "stderr",
          "output_type": "stream",
          "text": [
            "/Users/peter.organisciak/anaconda3/lib/python3.9/site-packages/pandas/io/sql.py:761: UserWarning: pandas only support SQLAlchemy connectable(engine/connection) ordatabase string URI or sqlite3 DBAPI2 connectionother DBAPI2 objects are not tested, please consider using SQLAlchemy\n",
            "  warnings.warn(\n"
          ]
        },
        {
          "data": {
            "text/html": [
              "<div>\n",
              "<style scoped>\n",
              "    .dataframe tbody tr th:only-of-type {\n",
              "        vertical-align: middle;\n",
              "    }\n",
              "\n",
              "    .dataframe tbody tr th {\n",
              "        vertical-align: top;\n",
              "    }\n",
              "\n",
              "    .dataframe thead th {\n",
              "        text-align: right;\n",
              "    }\n",
              "</style>\n",
              "<table border=\"1\" class=\"dataframe\">\n",
              "  <thead>\n",
              "    <tr style=\"text-align: right;\">\n",
              "      <th></th>\n",
              "      <th>type</th>\n",
              "      <th>src</th>\n",
              "      <th>question</th>\n",
              "      <th>prompt</th>\n",
              "      <th>response</th>\n",
              "      <th>id</th>\n",
              "      <th>target</th>\n",
              "      <th>participant</th>\n",
              "      <th>response_num</th>\n",
              "    </tr>\n",
              "  </thead>\n",
              "  <tbody>\n",
              "    <tr>\n",
              "      <th>801</th>\n",
              "      <td>uses</td>\n",
              "      <td>transdis</td>\n",
              "      <td>什么是床单的一个令人惊讶的用途？</td>\n",
              "      <td>床单</td>\n",
              "      <td>沾湿后的防火垫</td>\n",
              "      <td>transdis_床单-3b07fa</td>\n",
              "      <td>3.0</td>\n",
              "      <td>transdis159</td>\n",
              "      <td>6</td>\n",
              "    </tr>\n",
              "    <tr>\n",
              "      <th>5032</th>\n",
              "      <td>uses</td>\n",
              "      <td>transdis</td>\n",
              "      <td>什么是牙刷的一个令人惊讶的用途？</td>\n",
              "      <td>牙刷</td>\n",
              "      <td>睫毛刷</td>\n",
              "      <td>transdis_牙刷-95e42a</td>\n",
              "      <td>3.5</td>\n",
              "      <td>transdis31</td>\n",
              "      <td>28</td>\n",
              "    </tr>\n",
              "  </tbody>\n",
              "</table>\n",
              "</div>"
            ],
            "text/plain": [
              "      type       src          question prompt response                  id  \\\n",
              "801   uses  transdis  什么是床单的一个令人惊讶的用途？     床单  沾湿后的防火垫  transdis_床单-3b07fa   \n",
              "5032  uses  transdis  什么是牙刷的一个令人惊讶的用途？     牙刷      睫毛刷  transdis_牙刷-95e42a   \n",
              "\n",
              "      target  participant  response_num  \n",
              "801      3.0  transdis159             6  \n",
              "5032     3.5   transdis31            28  "
            ]
          },
          "execution_count": 42,
          "metadata": {},
          "output_type": "execute_result"
        }
      ],
      "source": [
        "desc = {\n",
        "    \"name\": \"transdis\",\n",
        "    \"test_type\": \"uses\",\n",
        "    \"meta\": {\n",
        "        \"inline\": \"Yang et al., 2023\",\n",
        "        \"citation\": \"Yang, T., Zhang, Q., Sun, Z., & Hou, Y. (2023). Automatic Assessment of Divergent Thinking in Chinese Language with TransDis: A Transformer-Based Language Model Approach. arXiv preprint arXiv:2306.14790.\",\n",
        "        \"url\": \"https://arxiv.org/abs/2306.14790\",\n",
        "        \"download\": [{\n",
        "            \"url\": \"https://osf.io/download/3fk8y\", \n",
        "            \"extension\": \"xlsx\"\n",
        "            }, {\n",
        "            \"url\": \"https://osf.io/download/mcwtu\", \n",
        "            \"extension\": \"xlsx\"\n",
        "            }],\n",
        "    },\n",
        "    \"null_marker\": \"NA\",\n",
        "    \"column_mappings\": {'Item': 'prompt', 'Response': 'response',\n",
        "                        'ParticipantID': 'participant'},\n",
        "    \"range\": [0, 4],\n",
        "    \"rater_cols\": ['Originality_Rater1', 'Originality_Rater2'],\n",
        "    \"language\":\"chi\",\n",
        "}\n",
        "\n",
        "fnames = download_from_description(desc, '../data/raw')\n",
        "df = pd.concat([pd.read_excel(fname) for fname in fnames])\n",
        "# number each participant's responses in order (based on responseID)\n",
        "df['response_num'] = df.groupby('ParticipantID').cumcount() + 1\n",
        "cleaned = prep_general(df, **desc, save_dir='../data/datasets')\n",
        "cleaned.sample(2)\n"
      ]
    },
    {
      "cell_type": "markdown",
      "metadata": {},
      "source": [
        "# Summary of Stats\n",
        "\n",
        "(Also check for redundancy)"
      ]
    },
    {
      "cell_type": "code",
      "execution_count": 43,
      "metadata": {},
      "outputs": [
        {
          "name": "stderr",
          "output_type": "stream",
          "text": [
            "/Users/peter.organisciak/anaconda3/lib/python3.9/site-packages/pandas/io/sql.py:761: UserWarning: pandas only support SQLAlchemy connectable(engine/connection) ordatabase string URI or sqlite3 DBAPI2 connectionother DBAPI2 objects are not tested, please consider using SQLAlchemy\n",
            "  warnings.warn(\n"
          ]
        },
        {
          "data": {
            "text/html": [
              "<div>\n",
              "<style scoped>\n",
              "    .dataframe tbody tr th:only-of-type {\n",
              "        vertical-align: middle;\n",
              "    }\n",
              "\n",
              "    .dataframe tbody tr th {\n",
              "        vertical-align: top;\n",
              "    }\n",
              "\n",
              "    .dataframe thead th {\n",
              "        text-align: right;\n",
              "    }\n",
              "</style>\n",
              "<table border=\"1\" class=\"dataframe\">\n",
              "  <thead>\n",
              "    <tr style=\"text-align: right;\">\n",
              "      <th></th>\n",
              "      <th>name</th>\n",
              "      <th>no_of_prompts</th>\n",
              "      <th>no_of_participants</th>\n",
              "      <th>no_of_data_points</th>\n",
              "      <th>prompts</th>\n",
              "      <th>ICC2k</th>\n",
              "      <th>ICC2k_CI</th>\n",
              "      <th>ICC3k</th>\n",
              "      <th>rater_cols</th>\n",
              "      <th>no_of_raters</th>\n",
              "    </tr>\n",
              "  </thead>\n",
              "  <tbody>\n",
              "    <tr>\n",
              "      <th>21</th>\n",
              "      <td>multiaut_russian2</td>\n",
              "      <td>1</td>\n",
              "      <td>45</td>\n",
              "      <td>370</td>\n",
              "      <td>[картонная коробка]</td>\n",
              "      <td>0.78</td>\n",
              "      <td>0.74-0.82</td>\n",
              "      <td>0.79</td>\n",
              "      <td>[rater1, rater2, rater3]</td>\n",
              "      <td>3</td>\n",
              "    </tr>\n",
              "    <tr>\n",
              "      <th>19</th>\n",
              "      <td>multiaut_french2</td>\n",
              "      <td>1</td>\n",
              "      <td>82</td>\n",
              "      <td>449</td>\n",
              "      <td>[chapeau]</td>\n",
              "      <td>0.52</td>\n",
              "      <td>0.25-0.68</td>\n",
              "      <td>0.64</td>\n",
              "      <td>[rater1, rater2, rater3]</td>\n",
              "      <td>3</td>\n",
              "    </tr>\n",
              "    <tr>\n",
              "      <th>8</th>\n",
              "      <td>motesp</td>\n",
              "      <td>29</td>\n",
              "      <td>35</td>\n",
              "      <td>963</td>\n",
              "      <td>[backpack, ball, bottle, hat, lightbulb, penci...</td>\n",
              "      <td>0.73</td>\n",
              "      <td>0.66-0.78</td>\n",
              "      <td>0.75</td>\n",
              "      <td>[D, K, T]</td>\n",
              "      <td>3</td>\n",
              "    </tr>\n",
              "    <tr>\n",
              "      <th>34</th>\n",
              "      <td>multiaut_dutch3</td>\n",
              "      <td>1</td>\n",
              "      <td>111</td>\n",
              "      <td>1004</td>\n",
              "      <td>[brick]</td>\n",
              "      <td>0.86</td>\n",
              "      <td>0.79-0.89</td>\n",
              "      <td>0.87</td>\n",
              "      <td>[rater1, rater2]</td>\n",
              "      <td>2</td>\n",
              "    </tr>\n",
              "    <tr>\n",
              "      <th>2</th>\n",
              "      <td>hass17</td>\n",
              "      <td>2</td>\n",
              "      <td>57</td>\n",
              "      <td>1093</td>\n",
              "      <td>[bottle, brick]</td>\n",
              "      <td>0.79</td>\n",
              "      <td>0.75-0.82</td>\n",
              "      <td>0.80</td>\n",
              "      <td>[r1, r2, r3]</td>\n",
              "      <td>3</td>\n",
              "    </tr>\n",
              "    <tr>\n",
              "      <th>22</th>\n",
              "      <td>multiaut_chinese2</td>\n",
              "      <td>2</td>\n",
              "      <td>217</td>\n",
              "      <td>1302</td>\n",
              "      <td>[筷子, 易拉罐]</td>\n",
              "      <td>0.60</td>\n",
              "      <td>0.54-0.66</td>\n",
              "      <td>0.64</td>\n",
              "      <td>[rater1, rater2, rater3, rater4]</td>\n",
              "      <td>4</td>\n",
              "    </tr>\n",
              "    <tr>\n",
              "      <th>13</th>\n",
              "      <td>multiaut_arabic1</td>\n",
              "      <td>1</td>\n",
              "      <td>160</td>\n",
              "      <td>1524</td>\n",
              "      <td>[Tin cans]</td>\n",
              "      <td>NaN</td>\n",
              "      <td>None</td>\n",
              "      <td>NaN</td>\n",
              "      <td>[rater1]</td>\n",
              "      <td>1</td>\n",
              "    </tr>\n",
              "    <tr>\n",
              "      <th>31</th>\n",
              "      <td>multiaut_dutch2</td>\n",
              "      <td>2</td>\n",
              "      <td>111</td>\n",
              "      <td>1640</td>\n",
              "      <td>[brick, paperclip]</td>\n",
              "      <td>0.94</td>\n",
              "      <td>0.93-0.95</td>\n",
              "      <td>0.94</td>\n",
              "      <td>[rater1, rater2]</td>\n",
              "      <td>2</td>\n",
              "    </tr>\n",
              "    <tr>\n",
              "      <th>17</th>\n",
              "      <td>multiaut_russian1</td>\n",
              "      <td>2</td>\n",
              "      <td>111</td>\n",
              "      <td>1728</td>\n",
              "      <td>[газета, деревянная линейка]</td>\n",
              "      <td>0.72</td>\n",
              "      <td>0.69-0.74</td>\n",
              "      <td>0.72</td>\n",
              "      <td>[rater1, rater2, rater3]</td>\n",
              "      <td>3</td>\n",
              "    </tr>\n",
              "    <tr>\n",
              "      <th>12</th>\n",
              "      <td>multiaut_english5</td>\n",
              "      <td>1</td>\n",
              "      <td>133</td>\n",
              "      <td>1807</td>\n",
              "      <td>[brick]</td>\n",
              "      <td>0.74</td>\n",
              "      <td>0.65-0.79</td>\n",
              "      <td>0.79</td>\n",
              "      <td>[rater1, rater2, rater3, br_rater1, br_rater2,...</td>\n",
              "      <td>6</td>\n",
              "    </tr>\n",
              "    <tr>\n",
              "      <th>7</th>\n",
              "      <td>bs12</td>\n",
              "      <td>1</td>\n",
              "      <td>133</td>\n",
              "      <td>1807</td>\n",
              "      <td>[brick]</td>\n",
              "      <td>0.72</td>\n",
              "      <td>0.56-0.8</td>\n",
              "      <td>0.78</td>\n",
              "      <td>[br_rater1, br_rater2, br_rater3]</td>\n",
              "      <td>3</td>\n",
              "    </tr>\n",
              "    <tr>\n",
              "      <th>20</th>\n",
              "      <td>multiaut_hebrew1</td>\n",
              "      <td>10</td>\n",
              "      <td>51</td>\n",
              "      <td>2027</td>\n",
              "      <td>[סכין, נעל, עיפרון, עיתון, מברג, קולב, צמיג, מ...</td>\n",
              "      <td>NaN</td>\n",
              "      <td>None</td>\n",
              "      <td>NaN</td>\n",
              "      <td>[rater1, rater2, rater3, rater4, rater5, rater...</td>\n",
              "      <td>45</td>\n",
              "    </tr>\n",
              "    <tr>\n",
              "      <th>24</th>\n",
              "      <td>multiaut_french3</td>\n",
              "      <td>2</td>\n",
              "      <td>277</td>\n",
              "      <td>2181</td>\n",
              "      <td>[ceinture, brouette]</td>\n",
              "      <td>0.72</td>\n",
              "      <td>0.67-0.77</td>\n",
              "      <td>0.75</td>\n",
              "      <td>[rater1, rater2, rater3]</td>\n",
              "      <td>3</td>\n",
              "    </tr>\n",
              "    <tr>\n",
              "      <th>29</th>\n",
              "      <td>multiaut_french4</td>\n",
              "      <td>2</td>\n",
              "      <td>238</td>\n",
              "      <td>2332</td>\n",
              "      <td>[brouette, ceinture]</td>\n",
              "      <td>0.79</td>\n",
              "      <td>0.78-0.81</td>\n",
              "      <td>0.80</td>\n",
              "      <td>[rater1, rater2, rater3]</td>\n",
              "      <td>3</td>\n",
              "    </tr>\n",
              "    <tr>\n",
              "      <th>11</th>\n",
              "      <td>multiaut_english4</td>\n",
              "      <td>2</td>\n",
              "      <td>142</td>\n",
              "      <td>2361</td>\n",
              "      <td>[box, rope]</td>\n",
              "      <td>0.67</td>\n",
              "      <td>0.55-0.75</td>\n",
              "      <td>0.72</td>\n",
              "      <td>[rater1, rater2, rater3]</td>\n",
              "      <td>3</td>\n",
              "    </tr>\n",
              "    <tr>\n",
              "      <th>6</th>\n",
              "      <td>snb17</td>\n",
              "      <td>2</td>\n",
              "      <td>142</td>\n",
              "      <td>2372</td>\n",
              "      <td>[box, rope]</td>\n",
              "      <td>0.67</td>\n",
              "      <td>0.55-0.75</td>\n",
              "      <td>0.72</td>\n",
              "      <td>[rater1, rater2, rater3]</td>\n",
              "      <td>3</td>\n",
              "    </tr>\n",
              "    <tr>\n",
              "      <th>14</th>\n",
              "      <td>multiaut_dutch4</td>\n",
              "      <td>1</td>\n",
              "      <td>99</td>\n",
              "      <td>2414</td>\n",
              "      <td>[brick]</td>\n",
              "      <td>0.84</td>\n",
              "      <td>0.82-0.86</td>\n",
              "      <td>0.85</td>\n",
              "      <td>[rater1, rater2, rater3]</td>\n",
              "      <td>3</td>\n",
              "    </tr>\n",
              "    <tr>\n",
              "      <th>26</th>\n",
              "      <td>multiaut_spanish1</td>\n",
              "      <td>1</td>\n",
              "      <td>491</td>\n",
              "      <td>2735</td>\n",
              "      <td>[ladrillo]</td>\n",
              "      <td>0.57</td>\n",
              "      <td>0.18-0.75</td>\n",
              "      <td>0.75</td>\n",
              "      <td>[rater1, rater2, rater3]</td>\n",
              "      <td>3</td>\n",
              "    </tr>\n",
              "    <tr>\n",
              "      <th>10</th>\n",
              "      <td>multiaut_english1</td>\n",
              "      <td>2</td>\n",
              "      <td>171</td>\n",
              "      <td>2918</td>\n",
              "      <td>[box, rope]</td>\n",
              "      <td>0.82</td>\n",
              "      <td>0.77-0.85</td>\n",
              "      <td>0.84</td>\n",
              "      <td>[rater1, rater2, rater3, rater4]</td>\n",
              "      <td>4</td>\n",
              "    </tr>\n",
              "    <tr>\n",
              "      <th>5</th>\n",
              "      <td>betal18</td>\n",
              "      <td>2</td>\n",
              "      <td>171</td>\n",
              "      <td>2918</td>\n",
              "      <td>[box, rope]</td>\n",
              "      <td>0.82</td>\n",
              "      <td>0.77-0.85</td>\n",
              "      <td>0.84</td>\n",
              "      <td>[rater1, rater2, rater3, rater4]</td>\n",
              "      <td>4</td>\n",
              "    </tr>\n",
              "    <tr>\n",
              "      <th>36</th>\n",
              "      <td>multiaut_polish2</td>\n",
              "      <td>3</td>\n",
              "      <td>497</td>\n",
              "      <td>3054</td>\n",
              "      <td>[sznurek, puszka, cegła]</td>\n",
              "      <td>NaN</td>\n",
              "      <td>None</td>\n",
              "      <td>NaN</td>\n",
              "      <td>[rater1, rater2, rater3, rater4]</td>\n",
              "      <td>4</td>\n",
              "    </tr>\n",
              "    <tr>\n",
              "      <th>28</th>\n",
              "      <td>multiaut_english3</td>\n",
              "      <td>2</td>\n",
              "      <td>209</td>\n",
              "      <td>3225</td>\n",
              "      <td>[box, rope]</td>\n",
              "      <td>0.38</td>\n",
              "      <td>0.18-0.52</td>\n",
              "      <td>0.49</td>\n",
              "      <td>[rater1, rater2, rater3]</td>\n",
              "      <td>3</td>\n",
              "    </tr>\n",
              "    <tr>\n",
              "      <th>15</th>\n",
              "      <td>multiaut_english6</td>\n",
              "      <td>2</td>\n",
              "      <td>241</td>\n",
              "      <td>3425</td>\n",
              "      <td>[brick, knife]</td>\n",
              "      <td>0.48</td>\n",
              "      <td>0.15-0.65</td>\n",
              "      <td>0.64</td>\n",
              "      <td>[rater1, rater2, rater3]</td>\n",
              "      <td>3</td>\n",
              "    </tr>\n",
              "    <tr>\n",
              "      <th>35</th>\n",
              "      <td>multiaut_german2</td>\n",
              "      <td>3</td>\n",
              "      <td>154</td>\n",
              "      <td>3530</td>\n",
              "      <td>[Büroklammer, Mülltüte, Seil]</td>\n",
              "      <td>0.71</td>\n",
              "      <td>0.54-0.8</td>\n",
              "      <td>0.77</td>\n",
              "      <td>[rater1, rater2, rater3]</td>\n",
              "      <td>3</td>\n",
              "    </tr>\n",
              "    <tr>\n",
              "      <th>23</th>\n",
              "      <td>multiaut_english2</td>\n",
              "      <td>2</td>\n",
              "      <td>182</td>\n",
              "      <td>3723</td>\n",
              "      <td>[rope, box]</td>\n",
              "      <td>0.71</td>\n",
              "      <td>0.59-0.78</td>\n",
              "      <td>0.77</td>\n",
              "      <td>[rater1, rater2, rater3, rater4]</td>\n",
              "      <td>4</td>\n",
              "    </tr>\n",
              "    <tr>\n",
              "      <th>4</th>\n",
              "      <td>hmsl</td>\n",
              "      <td>2</td>\n",
              "      <td>638</td>\n",
              "      <td>3843</td>\n",
              "      <td>[paperclip, brick]</td>\n",
              "      <td>0.67</td>\n",
              "      <td>0.53-0.75</td>\n",
              "      <td>0.74</td>\n",
              "      <td>[J1_Rating, J2_Rating, J3_Rating, J4_Rating]</td>\n",
              "      <td>4</td>\n",
              "    </tr>\n",
              "    <tr>\n",
              "      <th>1</th>\n",
              "      <td>snbmo09</td>\n",
              "      <td>3</td>\n",
              "      <td>202</td>\n",
              "      <td>4099</td>\n",
              "      <td>[brick, knife, box]</td>\n",
              "      <td>0.69</td>\n",
              "      <td>0.57-0.77</td>\n",
              "      <td>0.76</td>\n",
              "      <td>[rater_1, rater_2, rater_3, rater_4]</td>\n",
              "      <td>4</td>\n",
              "    </tr>\n",
              "    <tr>\n",
              "      <th>25</th>\n",
              "      <td>multiaut_italian1</td>\n",
              "      <td>6</td>\n",
              "      <td>151</td>\n",
              "      <td>4269</td>\n",
              "      <td>[Attaccapanni, Barile, Bottiglia di plastica, ...</td>\n",
              "      <td>0.89</td>\n",
              "      <td>0.89-0.9</td>\n",
              "      <td>0.89</td>\n",
              "      <td>[rater1, rater2]</td>\n",
              "      <td>2</td>\n",
              "    </tr>\n",
              "    <tr>\n",
              "      <th>0</th>\n",
              "      <td>dod20</td>\n",
              "      <td>10</td>\n",
              "      <td>92</td>\n",
              "      <td>5490</td>\n",
              "      <td>[book, bottle, brick, fork, pants, rope, shoe,...</td>\n",
              "      <td>0.85</td>\n",
              "      <td>0.79-0.88</td>\n",
              "      <td>0.87</td>\n",
              "      <td>[rater1, rater2, rater3, rater4]</td>\n",
              "      <td>4</td>\n",
              "    </tr>\n",
              "    <tr>\n",
              "      <th>30</th>\n",
              "      <td>multiaut_italian2</td>\n",
              "      <td>21</td>\n",
              "      <td>80</td>\n",
              "      <td>6895</td>\n",
              "      <td>[guanto, lampadina, libro, martello, mattone, ...</td>\n",
              "      <td>0.88</td>\n",
              "      <td>0.87-0.89</td>\n",
              "      <td>0.88</td>\n",
              "      <td>[rater1, rater2]</td>\n",
              "      <td>2</td>\n",
              "    </tr>\n",
              "    <tr>\n",
              "      <th>33</th>\n",
              "      <td>multiaut_polish1</td>\n",
              "      <td>2</td>\n",
              "      <td>791</td>\n",
              "      <td>7415</td>\n",
              "      <td>[puszka, cegła]</td>\n",
              "      <td>0.82</td>\n",
              "      <td>0.81-0.83</td>\n",
              "      <td>0.82</td>\n",
              "      <td>[rater1, rater2, rater3]</td>\n",
              "      <td>3</td>\n",
              "    </tr>\n",
              "    <tr>\n",
              "      <th>37</th>\n",
              "      <td>transdis</td>\n",
              "      <td>4</td>\n",
              "      <td>350</td>\n",
              "      <td>8007</td>\n",
              "      <td>[床单, 筷子, 拖鞋, 牙刷]</td>\n",
              "      <td>0.67</td>\n",
              "      <td>0.6-0.73</td>\n",
              "      <td>0.70</td>\n",
              "      <td>[Originality_Rater1, Originality_Rater2]</td>\n",
              "      <td>2</td>\n",
              "    </tr>\n",
              "    <tr>\n",
              "      <th>16</th>\n",
              "      <td>multiaut_german3</td>\n",
              "      <td>16</td>\n",
              "      <td>51</td>\n",
              "      <td>8065</td>\n",
              "      <td>[Axt, Trompete, Erbse, Tisch, Flöte, Zange, Gu...</td>\n",
              "      <td>0.85</td>\n",
              "      <td>0.83-0.87</td>\n",
              "      <td>0.86</td>\n",
              "      <td>[rater1, rater2, rater3]</td>\n",
              "      <td>3</td>\n",
              "    </tr>\n",
              "    <tr>\n",
              "      <th>32</th>\n",
              "      <td>multiaut_german1</td>\n",
              "      <td>3</td>\n",
              "      <td>298</td>\n",
              "      <td>8116</td>\n",
              "      <td>[konservendose, messer, haarfoehn]</td>\n",
              "      <td>0.70</td>\n",
              "      <td>0.68-0.72</td>\n",
              "      <td>0.71</td>\n",
              "      <td>[rater1, rater2, rater3, rater4]</td>\n",
              "      <td>4</td>\n",
              "    </tr>\n",
              "    <tr>\n",
              "      <th>9</th>\n",
              "      <td>motesf</td>\n",
              "      <td>24</td>\n",
              "      <td>386</td>\n",
              "      <td>8563</td>\n",
              "      <td>[ball, sock, pencil, spoon, lightbulb, hat, bo...</td>\n",
              "      <td>0.79</td>\n",
              "      <td>0.69-0.85</td>\n",
              "      <td>0.84</td>\n",
              "      <td>[Kscore, Hscore, Cscore, Tscore, Mscore]</td>\n",
              "      <td>5</td>\n",
              "    </tr>\n",
              "    <tr>\n",
              "      <th>27</th>\n",
              "      <td>multiaut_dutch1</td>\n",
              "      <td>4</td>\n",
              "      <td>633</td>\n",
              "      <td>10549</td>\n",
              "      <td>[brick, fork, paperclip, towel]</td>\n",
              "      <td>0.81</td>\n",
              "      <td>0.81-0.82</td>\n",
              "      <td>0.81</td>\n",
              "      <td>[rater1, rater2]</td>\n",
              "      <td>2</td>\n",
              "    </tr>\n",
              "    <tr>\n",
              "      <th>3</th>\n",
              "      <td>setal08</td>\n",
              "      <td>6</td>\n",
              "      <td>242</td>\n",
              "      <td>11490</td>\n",
              "      <td>[brick, round, no sleep, knife, noise, shrank]</td>\n",
              "      <td>0.43</td>\n",
              "      <td>0.22-0.57</td>\n",
              "      <td>0.54</td>\n",
              "      <td>[rater1, rater2, rater3]</td>\n",
              "      <td>3</td>\n",
              "    </tr>\n",
              "    <tr>\n",
              "      <th>18</th>\n",
              "      <td>multiaut_chinese1</td>\n",
              "      <td>122</td>\n",
              "      <td>466</td>\n",
              "      <td>14176</td>\n",
              "      <td>[积木, 漏斗, 轮胎, 盘子, 皮带, 塑料袋, 西瓜, 牙签, 锅, 蚊帐, 头发, 纸...</td>\n",
              "      <td>0.48</td>\n",
              "      <td>0.44-0.51</td>\n",
              "      <td>0.49</td>\n",
              "      <td>[rater1, rater2, rater3, rater4]</td>\n",
              "      <td>4</td>\n",
              "    </tr>\n",
              "  </tbody>\n",
              "</table>\n",
              "</div>"
            ],
            "text/plain": [
              "                 name  no_of_prompts  no_of_participants  no_of_data_points  \\\n",
              "21  multiaut_russian2              1                  45                370   \n",
              "19   multiaut_french2              1                  82                449   \n",
              "8              motesp             29                  35                963   \n",
              "34    multiaut_dutch3              1                 111               1004   \n",
              "2              hass17              2                  57               1093   \n",
              "22  multiaut_chinese2              2                 217               1302   \n",
              "13   multiaut_arabic1              1                 160               1524   \n",
              "31    multiaut_dutch2              2                 111               1640   \n",
              "17  multiaut_russian1              2                 111               1728   \n",
              "12  multiaut_english5              1                 133               1807   \n",
              "7                bs12              1                 133               1807   \n",
              "20   multiaut_hebrew1             10                  51               2027   \n",
              "24   multiaut_french3              2                 277               2181   \n",
              "29   multiaut_french4              2                 238               2332   \n",
              "11  multiaut_english4              2                 142               2361   \n",
              "6               snb17              2                 142               2372   \n",
              "14    multiaut_dutch4              1                  99               2414   \n",
              "26  multiaut_spanish1              1                 491               2735   \n",
              "10  multiaut_english1              2                 171               2918   \n",
              "5             betal18              2                 171               2918   \n",
              "36   multiaut_polish2              3                 497               3054   \n",
              "28  multiaut_english3              2                 209               3225   \n",
              "15  multiaut_english6              2                 241               3425   \n",
              "35   multiaut_german2              3                 154               3530   \n",
              "23  multiaut_english2              2                 182               3723   \n",
              "4                hmsl              2                 638               3843   \n",
              "1             snbmo09              3                 202               4099   \n",
              "25  multiaut_italian1              6                 151               4269   \n",
              "0               dod20             10                  92               5490   \n",
              "30  multiaut_italian2             21                  80               6895   \n",
              "33   multiaut_polish1              2                 791               7415   \n",
              "37           transdis              4                 350               8007   \n",
              "16   multiaut_german3             16                  51               8065   \n",
              "32   multiaut_german1              3                 298               8116   \n",
              "9              motesf             24                 386               8563   \n",
              "27    multiaut_dutch1              4                 633              10549   \n",
              "3             setal08              6                 242              11490   \n",
              "18  multiaut_chinese1            122                 466              14176   \n",
              "\n",
              "                                              prompts  ICC2k   ICC2k_CI  \\\n",
              "21                                [картонная коробка]   0.78  0.74-0.82   \n",
              "19                                          [chapeau]   0.52  0.25-0.68   \n",
              "8   [backpack, ball, bottle, hat, lightbulb, penci...   0.73  0.66-0.78   \n",
              "34                                            [brick]   0.86  0.79-0.89   \n",
              "2                                     [bottle, brick]   0.79  0.75-0.82   \n",
              "22                                          [筷子, 易拉罐]   0.60  0.54-0.66   \n",
              "13                                         [Tin cans]    NaN       None   \n",
              "31                                 [brick, paperclip]   0.94  0.93-0.95   \n",
              "17                       [газета, деревянная линейка]   0.72  0.69-0.74   \n",
              "12                                            [brick]   0.74  0.65-0.79   \n",
              "7                                             [brick]   0.72   0.56-0.8   \n",
              "20  [סכין, נעל, עיפרון, עיתון, מברג, קולב, צמיג, מ...    NaN       None   \n",
              "24                               [ceinture, brouette]   0.72  0.67-0.77   \n",
              "29                               [brouette, ceinture]   0.79  0.78-0.81   \n",
              "11                                        [box, rope]   0.67  0.55-0.75   \n",
              "6                                         [box, rope]   0.67  0.55-0.75   \n",
              "14                                            [brick]   0.84  0.82-0.86   \n",
              "26                                         [ladrillo]   0.57  0.18-0.75   \n",
              "10                                        [box, rope]   0.82  0.77-0.85   \n",
              "5                                         [box, rope]   0.82  0.77-0.85   \n",
              "36                           [sznurek, puszka, cegła]    NaN       None   \n",
              "28                                        [box, rope]   0.38  0.18-0.52   \n",
              "15                                     [brick, knife]   0.48  0.15-0.65   \n",
              "35                      [Büroklammer, Mülltüte, Seil]   0.71   0.54-0.8   \n",
              "23                                        [rope, box]   0.71  0.59-0.78   \n",
              "4                                  [paperclip, brick]   0.67  0.53-0.75   \n",
              "1                                 [brick, knife, box]   0.69  0.57-0.77   \n",
              "25  [Attaccapanni, Barile, Bottiglia di plastica, ...   0.89   0.89-0.9   \n",
              "0   [book, bottle, brick, fork, pants, rope, shoe,...   0.85  0.79-0.88   \n",
              "30  [guanto, lampadina, libro, martello, mattone, ...   0.88  0.87-0.89   \n",
              "33                                    [puszka, cegła]   0.82  0.81-0.83   \n",
              "37                                   [床单, 筷子, 拖鞋, 牙刷]   0.67   0.6-0.73   \n",
              "16  [Axt, Trompete, Erbse, Tisch, Flöte, Zange, Gu...   0.85  0.83-0.87   \n",
              "32                 [konservendose, messer, haarfoehn]   0.70  0.68-0.72   \n",
              "9   [ball, sock, pencil, spoon, lightbulb, hat, bo...   0.79  0.69-0.85   \n",
              "27                    [brick, fork, paperclip, towel]   0.81  0.81-0.82   \n",
              "3      [brick, round, no sleep, knife, noise, shrank]   0.43  0.22-0.57   \n",
              "18  [积木, 漏斗, 轮胎, 盘子, 皮带, 塑料袋, 西瓜, 牙签, 锅, 蚊帐, 头发, 纸...   0.48  0.44-0.51   \n",
              "\n",
              "    ICC3k                                         rater_cols  no_of_raters  \n",
              "21   0.79                           [rater1, rater2, rater3]             3  \n",
              "19   0.64                           [rater1, rater2, rater3]             3  \n",
              "8    0.75                                          [D, K, T]             3  \n",
              "34   0.87                                   [rater1, rater2]             2  \n",
              "2    0.80                                       [r1, r2, r3]             3  \n",
              "22   0.64                   [rater1, rater2, rater3, rater4]             4  \n",
              "13    NaN                                           [rater1]             1  \n",
              "31   0.94                                   [rater1, rater2]             2  \n",
              "17   0.72                           [rater1, rater2, rater3]             3  \n",
              "12   0.79  [rater1, rater2, rater3, br_rater1, br_rater2,...             6  \n",
              "7    0.78                  [br_rater1, br_rater2, br_rater3]             3  \n",
              "20    NaN  [rater1, rater2, rater3, rater4, rater5, rater...            45  \n",
              "24   0.75                           [rater1, rater2, rater3]             3  \n",
              "29   0.80                           [rater1, rater2, rater3]             3  \n",
              "11   0.72                           [rater1, rater2, rater3]             3  \n",
              "6    0.72                           [rater1, rater2, rater3]             3  \n",
              "14   0.85                           [rater1, rater2, rater3]             3  \n",
              "26   0.75                           [rater1, rater2, rater3]             3  \n",
              "10   0.84                   [rater1, rater2, rater3, rater4]             4  \n",
              "5    0.84                   [rater1, rater2, rater3, rater4]             4  \n",
              "36    NaN                   [rater1, rater2, rater3, rater4]             4  \n",
              "28   0.49                           [rater1, rater2, rater3]             3  \n",
              "15   0.64                           [rater1, rater2, rater3]             3  \n",
              "35   0.77                           [rater1, rater2, rater3]             3  \n",
              "23   0.77                   [rater1, rater2, rater3, rater4]             4  \n",
              "4    0.74       [J1_Rating, J2_Rating, J3_Rating, J4_Rating]             4  \n",
              "1    0.76               [rater_1, rater_2, rater_3, rater_4]             4  \n",
              "25   0.89                                   [rater1, rater2]             2  \n",
              "0    0.87                   [rater1, rater2, rater3, rater4]             4  \n",
              "30   0.88                                   [rater1, rater2]             2  \n",
              "33   0.82                           [rater1, rater2, rater3]             3  \n",
              "37   0.70           [Originality_Rater1, Originality_Rater2]             2  \n",
              "16   0.86                           [rater1, rater2, rater3]             3  \n",
              "32   0.71                   [rater1, rater2, rater3, rater4]             4  \n",
              "9    0.84           [Kscore, Hscore, Cscore, Tscore, Mscore]             5  \n",
              "27   0.81                                   [rater1, rater2]             2  \n",
              "3    0.54                           [rater1, rater2, rater3]             3  \n",
              "18   0.49                   [rater1, rater2, rater3, rater4]             4  "
            ]
          },
          "execution_count": 43,
          "metadata": {},
          "output_type": "execute_result"
        }
      ],
      "source": [
        "import duckdb\n",
        "conn = duckdb.connect(\"../data/datasets/stats_db.duckdb\")\n",
        "stats = pd.read_sql('select * from stats', conn)\n",
        "# sort to check for redundancy\n",
        "stats.sort_values('no_of_data_points')"
      ]
    },
    {
      "cell_type": "code",
      "execution_count": 46,
      "metadata": {},
      "outputs": [
        {
          "data": {
            "text/html": [
              "<div>\n",
              "<style scoped>\n",
              "    .dataframe tbody tr th:only-of-type {\n",
              "        vertical-align: middle;\n",
              "    }\n",
              "\n",
              "    .dataframe tbody tr th {\n",
              "        vertical-align: top;\n",
              "    }\n",
              "\n",
              "    .dataframe thead th {\n",
              "        text-align: right;\n",
              "    }\n",
              "</style>\n",
              "<table border=\"1\" class=\"dataframe\">\n",
              "  <thead>\n",
              "    <tr style=\"text-align: right;\">\n",
              "      <th></th>\n",
              "      <th>type</th>\n",
              "      <th>src</th>\n",
              "      <th>question</th>\n",
              "      <th>prompt</th>\n",
              "      <th>response</th>\n",
              "      <th>id</th>\n",
              "      <th>target</th>\n",
              "      <th>participant</th>\n",
              "      <th>response_num</th>\n",
              "    </tr>\n",
              "  </thead>\n",
              "  <tbody>\n",
              "    <tr>\n",
              "      <th>56</th>\n",
              "      <td>uses</td>\n",
              "      <td>multiaut_polish2</td>\n",
              "      <td>Jakie jest zaskakujące zastosowanie dla SZNUREK?</td>\n",
              "      <td>sznurek</td>\n",
              "      <td>Do stworzenia zegara poprzez wyliczenie czasu ...</td>\n",
              "      <td>multiaut_polish2_sznurek-6db2e6</td>\n",
              "      <td>4.666667</td>\n",
              "      <td>multiaut_polish230277</td>\n",
              "      <td>p1</td>\n",
              "    </tr>\n",
              "    <tr>\n",
              "      <th>57</th>\n",
              "      <td>uses</td>\n",
              "      <td>multiaut_polish2</td>\n",
              "      <td>Jakie jest zaskakujące zastosowanie dla SZNUREK?</td>\n",
              "      <td>sznurek</td>\n",
              "      <td>Sznurek moze byc takze forma rurki przesylajac...</td>\n",
              "      <td>multiaut_polish2_sznurek-1c48eb</td>\n",
              "      <td>4.666667</td>\n",
              "      <td>multiaut_polish230277</td>\n",
              "      <td>p2</td>\n",
              "    </tr>\n",
              "    <tr>\n",
              "      <th>802</th>\n",
              "      <td>uses</td>\n",
              "      <td>multiaut_polish2</td>\n",
              "      <td>Jakie jest zaskakujące zastosowanie dla SZNUREK?</td>\n",
              "      <td>sznurek</td>\n",
              "      <td>Do skonstruowania liny po ktorej mozna uciec z...</td>\n",
              "      <td>multiaut_polish2_sznurek-75e214</td>\n",
              "      <td>4.333333</td>\n",
              "      <td>multiaut_polish2442188</td>\n",
              "      <td>p1</td>\n",
              "    </tr>\n",
              "    <tr>\n",
              "      <th>804</th>\n",
              "      <td>uses</td>\n",
              "      <td>multiaut_polish2</td>\n",
              "      <td>Jakie jest zaskakujące zastosowanie dla SZNUREK?</td>\n",
              "      <td>sznurek</td>\n",
              "      <td>Ze sznurka można zrobić sztucznego węża i nast...</td>\n",
              "      <td>multiaut_polish2_sznurek-b26865</td>\n",
              "      <td>4.333333</td>\n",
              "      <td>multiaut_polish2444381</td>\n",
              "      <td>p1</td>\n",
              "    </tr>\n",
              "    <tr>\n",
              "      <th>414</th>\n",
              "      <td>uses</td>\n",
              "      <td>multiaut_polish2</td>\n",
              "      <td>Jakie jest zaskakujące zastosowanie dla SZNUREK?</td>\n",
              "      <td>sznurek</td>\n",
              "      <td>do tamowania krwotoku</td>\n",
              "      <td>multiaut_polish2_sznurek-678d06</td>\n",
              "      <td>4.333333</td>\n",
              "      <td>multiaut_polish2334939</td>\n",
              "      <td>p5</td>\n",
              "    </tr>\n",
              "    <tr>\n",
              "      <th>...</th>\n",
              "      <td>...</td>\n",
              "      <td>...</td>\n",
              "      <td>...</td>\n",
              "      <td>...</td>\n",
              "      <td>...</td>\n",
              "      <td>...</td>\n",
              "      <td>...</td>\n",
              "      <td>...</td>\n",
              "      <td>...</td>\n",
              "    </tr>\n",
              "    <tr>\n",
              "      <th>1809</th>\n",
              "      <td>uses</td>\n",
              "      <td>multiaut_polish2</td>\n",
              "      <td>Jakie jest zaskakujące zastosowanie dla PUSZKA?</td>\n",
              "      <td>puszka</td>\n",
              "      <td>zrobić wazon na kwiaty</td>\n",
              "      <td>multiaut_polish2_puszka-e453cb</td>\n",
              "      <td>1.000000</td>\n",
              "      <td>multiaut_polish2420809</td>\n",
              "      <td>p1</td>\n",
              "    </tr>\n",
              "    <tr>\n",
              "      <th>1811</th>\n",
              "      <td>uses</td>\n",
              "      <td>multiaut_polish2</td>\n",
              "      <td>Jakie jest zaskakujące zastosowanie dla PUSZKA?</td>\n",
              "      <td>puszka</td>\n",
              "      <td>Jako popielniczkę</td>\n",
              "      <td>multiaut_polish2_puszka-e50b47</td>\n",
              "      <td>1.000000</td>\n",
              "      <td>multiaut_polish2421847</td>\n",
              "      <td>p1</td>\n",
              "    </tr>\n",
              "    <tr>\n",
              "      <th>1812</th>\n",
              "      <td>uses</td>\n",
              "      <td>multiaut_polish2</td>\n",
              "      <td>Jakie jest zaskakujące zastosowanie dla PUSZKA?</td>\n",
              "      <td>puszka</td>\n",
              "      <td>jako doniczkę</td>\n",
              "      <td>multiaut_polish2_puszka-a8fda8</td>\n",
              "      <td>1.000000</td>\n",
              "      <td>multiaut_polish2421847</td>\n",
              "      <td>p2</td>\n",
              "    </tr>\n",
              "    <tr>\n",
              "      <th>1817</th>\n",
              "      <td>uses</td>\n",
              "      <td>multiaut_polish2</td>\n",
              "      <td>Jakie jest zaskakujące zastosowanie dla PUSZKA?</td>\n",
              "      <td>puszka</td>\n",
              "      <td>do zrobienia popielniczki</td>\n",
              "      <td>multiaut_polish2_puszka-feac8c</td>\n",
              "      <td>1.000000</td>\n",
              "      <td>multiaut_polish2423427</td>\n",
              "      <td>p3</td>\n",
              "    </tr>\n",
              "    <tr>\n",
              "      <th>1527</th>\n",
              "      <td>uses</td>\n",
              "      <td>multiaut_polish2</td>\n",
              "      <td>Jakie jest zaskakujące zastosowanie dla PUSZKA?</td>\n",
              "      <td>puszka</td>\n",
              "      <td>dokumenty</td>\n",
              "      <td>multiaut_polish2_puszka-0fb18d</td>\n",
              "      <td>1.000000</td>\n",
              "      <td>multiaut_polish2352031</td>\n",
              "      <td>p2</td>\n",
              "    </tr>\n",
              "  </tbody>\n",
              "</table>\n",
              "<p>3054 rows × 9 columns</p>\n",
              "</div>"
            ],
            "text/plain": [
              "      type               src  \\\n",
              "56    uses  multiaut_polish2   \n",
              "57    uses  multiaut_polish2   \n",
              "802   uses  multiaut_polish2   \n",
              "804   uses  multiaut_polish2   \n",
              "414   uses  multiaut_polish2   \n",
              "...    ...               ...   \n",
              "1809  uses  multiaut_polish2   \n",
              "1811  uses  multiaut_polish2   \n",
              "1812  uses  multiaut_polish2   \n",
              "1817  uses  multiaut_polish2   \n",
              "1527  uses  multiaut_polish2   \n",
              "\n",
              "                                              question   prompt  \\\n",
              "56    Jakie jest zaskakujące zastosowanie dla SZNUREK?  sznurek   \n",
              "57    Jakie jest zaskakujące zastosowanie dla SZNUREK?  sznurek   \n",
              "802   Jakie jest zaskakujące zastosowanie dla SZNUREK?  sznurek   \n",
              "804   Jakie jest zaskakujące zastosowanie dla SZNUREK?  sznurek   \n",
              "414   Jakie jest zaskakujące zastosowanie dla SZNUREK?  sznurek   \n",
              "...                                                ...      ...   \n",
              "1809   Jakie jest zaskakujące zastosowanie dla PUSZKA?   puszka   \n",
              "1811   Jakie jest zaskakujące zastosowanie dla PUSZKA?   puszka   \n",
              "1812   Jakie jest zaskakujące zastosowanie dla PUSZKA?   puszka   \n",
              "1817   Jakie jest zaskakujące zastosowanie dla PUSZKA?   puszka   \n",
              "1527   Jakie jest zaskakujące zastosowanie dla PUSZKA?   puszka   \n",
              "\n",
              "                                               response  \\\n",
              "56    Do stworzenia zegara poprzez wyliczenie czasu ...   \n",
              "57    Sznurek moze byc takze forma rurki przesylajac...   \n",
              "802   Do skonstruowania liny po ktorej mozna uciec z...   \n",
              "804   Ze sznurka można zrobić sztucznego węża i nast...   \n",
              "414                               do tamowania krwotoku   \n",
              "...                                                 ...   \n",
              "1809                             zrobić wazon na kwiaty   \n",
              "1811                                  Jako popielniczkę   \n",
              "1812                                      jako doniczkę   \n",
              "1817                          do zrobienia popielniczki   \n",
              "1527                                          dokumenty   \n",
              "\n",
              "                                   id    target             participant  \\\n",
              "56    multiaut_polish2_sznurek-6db2e6  4.666667   multiaut_polish230277   \n",
              "57    multiaut_polish2_sznurek-1c48eb  4.666667   multiaut_polish230277   \n",
              "802   multiaut_polish2_sznurek-75e214  4.333333  multiaut_polish2442188   \n",
              "804   multiaut_polish2_sznurek-b26865  4.333333  multiaut_polish2444381   \n",
              "414   multiaut_polish2_sznurek-678d06  4.333333  multiaut_polish2334939   \n",
              "...                               ...       ...                     ...   \n",
              "1809   multiaut_polish2_puszka-e453cb  1.000000  multiaut_polish2420809   \n",
              "1811   multiaut_polish2_puszka-e50b47  1.000000  multiaut_polish2421847   \n",
              "1812   multiaut_polish2_puszka-a8fda8  1.000000  multiaut_polish2421847   \n",
              "1817   multiaut_polish2_puszka-feac8c  1.000000  multiaut_polish2423427   \n",
              "1527   multiaut_polish2_puszka-0fb18d  1.000000  multiaut_polish2352031   \n",
              "\n",
              "     response_num  \n",
              "56             p1  \n",
              "57             p2  \n",
              "802            p1  \n",
              "804            p1  \n",
              "414            p5  \n",
              "...           ...  \n",
              "1809           p1  \n",
              "1811           p1  \n",
              "1812           p2  \n",
              "1817           p3  \n",
              "1527           p2  \n",
              "\n",
              "[3054 rows x 9 columns]"
            ]
          },
          "execution_count": 46,
          "metadata": {},
          "output_type": "execute_result"
        }
      ],
      "source": [
        "pd.read_csv('../data/datasets/multiaut_polish2.csv').sort_values('target', ascending=False)"
      ]
    },
    {
      "cell_type": "code",
      "execution_count": null,
      "metadata": {},
      "outputs": [],
      "source": []
    }
  ],
  "metadata": {
    "colab": {
      "authorship_tag": "ABX9TyP/4DeAWbHGaXxKUYl0C2Du",
      "collapsed_sections": [
        "zltQcwkXeRvk",
        "vJqyd2UHDCMZ",
        "UH3yOwIon4Ky",
        "VgNoUTqg_dQb",
        "laa40OuiNV2X",
        "8H-WPj9MeGrS",
        "9mbZjzsjIuW8"
      ],
      "include_colab_link": true,
      "mount_file_id": "1bZ0PDifSqhWhAUwuLK4BCt0Mke50ww-Q",
      "provenance": []
    },
    "kernelspec": {
      "display_name": "Python 3",
      "name": "python3"
    },
    "language_info": {
      "codemirror_mode": {
        "name": "ipython",
        "version": 3
      },
      "file_extension": ".py",
      "mimetype": "text/x-python",
      "name": "python",
      "nbconvert_exporter": "python",
      "pygments_lexer": "ipython3",
      "version": "3.9.12"
    }
  },
  "nbformat": 4,
  "nbformat_minor": 0
}
