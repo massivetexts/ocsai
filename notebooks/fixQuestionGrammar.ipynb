{
 "cells": [
  {
   "cell_type": "markdown",
   "metadata": {},
   "source": [
    "# Correct grammar of `questions`\n",
    "\n",
    "Using GPT-4."
   ]
  },
  {
   "cell_type": "code",
   "execution_count": 35,
   "metadata": {},
   "outputs": [],
   "source": [
    "import openai\n",
    "import json\n",
    "import pandas as pd\n",
    "from tqdm.auto import tqdm"
   ]
  },
  {
   "cell_type": "code",
   "execution_count": 37,
   "metadata": {},
   "outputs": [],
   "source": [
    "prompt_template = '''Below is a list of {}-language questions for the '{}' task, a measure of creativity where {}.\n",
    "\n",
    "YOUR TASK: CORRECT THE GRAMMAR AS NECESSARY.\n",
    "\n",
    "The input is as a JSON array of objects with prompt/question keys. The `prompt` is the master reference, the `question` is the potentially erroneous text that may need correction or editing. Don't change the capitalized portion of a question or anything quoted.\n",
    "\n",
    "Respond in a JSON list of objects, where each object has `prompt`, `oldquestion`, and `fixedquestion` keys. Include all responses, even if they didn't need corrections. Surround the response in triple-backticks.\n",
    "\n",
    "## Questions to grammar-check\n",
    "\n",
    "```\n",
    "{}\n",
    "```\n",
    "'''\n",
    "\n",
    "# 'ara', 'chi', 'dut', 'eng', 'fre', 'ger', 'heb', 'ita', 'pol', 'rus', 'spa'\n",
    "lang_ref = {\n",
    "    \"ara\": \"Arabic\",\n",
    "    \"chi\": \"Chinese\",\n",
    "    \"dut\": \"Dutch\",\n",
    "    \"eng\": \"English\",\n",
    "    \"fre\": \"French\",\n",
    "    \"ger\": \"German\",\n",
    "    \"heb\": \"Hebrew\",\n",
    "    \"ita\": \"Italian\",\n",
    "    \"pol\": \"Polish\",\n",
    "    \"rus\": \"Russian\",\n",
    "    \"spa\": \"Spanish\"\n",
    "}\n",
    "\n",
    "# 'uses', 'completion', 'consequences', 'instances', 'metaphors'\n",
    "type_ref = {\n",
    "    \"uses\": {\"name\": \"Alternate Uses\", \"desc\": \"you write down uses for a common object\"},\n",
    "    \"completion\": {\"name\": \"Complete the Sentence\", \"desc\": \"you complete a sentence with an unusual ending\"},\n",
    "    \"consequences\": {\"name\": \"Consequences\", \"desc\": \"you write down consequences of an absurd event\"},\n",
    "    \"instances\": {\"name\": \"Instances\", \"desc\": \"you write down instances of a category\"},\n",
    "    \"metaphors\": {\"name\": \"Metaphors\", \"desc\": \"you write down metaphors for an abstract concept\"}\n",
    "}"
   ]
  },
  {
   "cell_type": "code",
   "execution_count": null,
   "metadata": {},
   "outputs": [],
   "source": []
  },
  {
   "cell_type": "code",
   "execution_count": 39,
   "metadata": {},
   "outputs": [
    {
     "data": {
      "text/html": [
       "<div>\n",
       "<style scoped>\n",
       "    .dataframe tbody tr th:only-of-type {\n",
       "        vertical-align: middle;\n",
       "    }\n",
       "\n",
       "    .dataframe tbody tr th {\n",
       "        vertical-align: top;\n",
       "    }\n",
       "\n",
       "    .dataframe thead th {\n",
       "        text-align: right;\n",
       "    }\n",
       "</style>\n",
       "<table border=\"1\" class=\"dataframe\">\n",
       "  <thead>\n",
       "    <tr style=\"text-align: right;\">\n",
       "      <th></th>\n",
       "      <th>language</th>\n",
       "      <th>type</th>\n",
       "      <th>prompt</th>\n",
       "      <th>question</th>\n",
       "    </tr>\n",
       "  </thead>\n",
       "  <tbody>\n",
       "    <tr>\n",
       "      <th>913</th>\n",
       "      <td>chi</td>\n",
       "      <td>uses</td>\n",
       "      <td>光盘</td>\n",
       "      <td>什么是光盘的一个令人惊讶的用途？</td>\n",
       "    </tr>\n",
       "    <tr>\n",
       "      <th>988</th>\n",
       "      <td>chi</td>\n",
       "      <td>uses</td>\n",
       "      <td>冰块</td>\n",
       "      <td>什么是冰块的一个令人惊讶的用途？</td>\n",
       "    </tr>\n",
       "    <tr>\n",
       "      <th>1081</th>\n",
       "      <td>chi</td>\n",
       "      <td>uses</td>\n",
       "      <td>勺子</td>\n",
       "      <td>什么是勺子的一个令人惊讶的用途？</td>\n",
       "    </tr>\n",
       "    <tr>\n",
       "      <th>1205</th>\n",
       "      <td>chi</td>\n",
       "      <td>uses</td>\n",
       "      <td>南瓜</td>\n",
       "      <td>什么是南瓜的一个令人惊讶的用途？</td>\n",
       "    </tr>\n",
       "    <tr>\n",
       "      <th>1286</th>\n",
       "      <td>chi</td>\n",
       "      <td>uses</td>\n",
       "      <td>卫生纸</td>\n",
       "      <td>什么是卫生纸的一个令人惊讶的用途？</td>\n",
       "    </tr>\n",
       "    <tr>\n",
       "      <th>...</th>\n",
       "      <td>...</td>\n",
       "      <td>...</td>\n",
       "      <td>...</td>\n",
       "      <td>...</td>\n",
       "    </tr>\n",
       "    <tr>\n",
       "      <th>17048</th>\n",
       "      <td>chi</td>\n",
       "      <td>uses</td>\n",
       "      <td>风车</td>\n",
       "      <td>什么是风车的一个令人惊讶的用途？</td>\n",
       "    </tr>\n",
       "    <tr>\n",
       "      <th>17151</th>\n",
       "      <td>chi</td>\n",
       "      <td>uses</td>\n",
       "      <td>香蕉</td>\n",
       "      <td>什么是香蕉的一个令人惊讶的用途？</td>\n",
       "    </tr>\n",
       "    <tr>\n",
       "      <th>17240</th>\n",
       "      <td>chi</td>\n",
       "      <td>uses</td>\n",
       "      <td>马来貘</td>\n",
       "      <td>什么是马来貘的一个令人惊讶的用途？</td>\n",
       "    </tr>\n",
       "    <tr>\n",
       "      <th>17339</th>\n",
       "      <td>chi</td>\n",
       "      <td>uses</td>\n",
       "      <td>鹅卵石</td>\n",
       "      <td>什么是鹅卵石的一个令人惊讶的用途？</td>\n",
       "    </tr>\n",
       "    <tr>\n",
       "      <th>17415</th>\n",
       "      <td>chi</td>\n",
       "      <td>uses</td>\n",
       "      <td>黄金</td>\n",
       "      <td>什么是黄金的一个令人惊讶的用途？</td>\n",
       "    </tr>\n",
       "  </tbody>\n",
       "</table>\n",
       "<p>125 rows × 4 columns</p>\n",
       "</div>"
      ],
      "text/plain": [
       "      language  type prompt           question\n",
       "913        chi  uses     光盘   什么是光盘的一个令人惊讶的用途？\n",
       "988        chi  uses     冰块   什么是冰块的一个令人惊讶的用途？\n",
       "1081       chi  uses     勺子   什么是勺子的一个令人惊讶的用途？\n",
       "1205       chi  uses     南瓜   什么是南瓜的一个令人惊讶的用途？\n",
       "1286       chi  uses    卫生纸  什么是卫生纸的一个令人惊讶的用途？\n",
       "...        ...   ...    ...                ...\n",
       "17048      chi  uses     风车   什么是风车的一个令人惊讶的用途？\n",
       "17151      chi  uses     香蕉   什么是香蕉的一个令人惊讶的用途？\n",
       "17240      chi  uses    马来貘  什么是马来貘的一个令人惊讶的用途？\n",
       "17339      chi  uses    鹅卵石  什么是鹅卵石的一个令人惊讶的用途？\n",
       "17415      chi  uses     黄金   什么是黄金的一个令人惊讶的用途？\n",
       "\n",
       "[125 rows x 4 columns]"
      ]
     },
     "execution_count": 39,
     "metadata": {},
     "output_type": "execute_result"
    }
   ],
   "source": []
  },
  {
   "cell_type": "code",
   "execution_count": 41,
   "metadata": {},
   "outputs": [
    {
     "name": "stderr",
     "output_type": "stream",
     "text": [
      "/var/folders/k2/vg86l2h54czgjfzlmd6fkz908bdx0t/T/ipykernel_74047/1148676225.py:1: DtypeWarning: Columns (8) have mixed types. Specify dtype option on import or set low_memory=False.\n",
      "  data = pd.read_csv('../data/ocsai-all.csv')\n"
     ]
    },
    {
     "data": {
      "application/vnd.jupyter.widget-view+json": {
       "model_id": "7bf63ed3c0e64aeb9db825a0c096df58",
       "version_major": 2,
       "version_minor": 0
      },
      "text/plain": [
       "  0%|          | 0/15 [00:00<?, ?it/s]"
      ]
     },
     "metadata": {},
     "output_type": "display_data"
    },
    {
     "data": {
      "application/vnd.jupyter.widget-view+json": {
       "model_id": "39505b3d98854af481ec87031979dac9",
       "version_major": 2,
       "version_minor": 0
      },
      "text/plain": [
       "  0%|          | 0/1 [00:00<?, ?it/s]"
      ]
     },
     "metadata": {},
     "output_type": "display_data"
    },
    {
     "name": "stdout",
     "output_type": "stream",
     "text": [
      "Below is a list of English-language questions for the 'Complete the Sentence' task, a measure of creativity where you complete a sentence with an unusual ending.\n",
      "\n",
      "YOUR TASK: CORRECT THE GRAMMAR AS NECESSARY.\n",
      "\n",
      "The input is as a JSON array of objects with prompt/question keys. The `prompt` is the master reference, the `question` is the potentially erroneous text that may need correction or editing. Don't change the capitalized portion of a question or anything quoted.\n",
      "\n",
      "Respond in a JSON list of objects, where each object has `prompt`, `oldquestion`, and `fixedquestion` keys. Include all responses, even if they didn't need corrections. Surround the response in triple-backticks.\n",
      "\n",
      "## Questions to grammar-check\n",
      "\n",
      "```\n",
      "[{\"prompt\":\"games\",\"question\":\"Complete this sentence in a surprising way: \\\"At a sleepover we...\\\"\"},{\"prompt\":\"rain\",\"question\":\"Complete this sentence in a surprising way: \\\"It started raining and...\\\"\"},{\"prompt\":\"friend phone\",\"question\":\"Complete this sentence in a surprising way: \\\"My friend called me on the phone to tell me...\\\"\"},{\"prompt\":\"phone\",\"question\":\"Complete this sentence in a surprising way: \\\"My friend called me on the phone to tell me...\\\"\"},{\"prompt\":\"school bus\",\"question\":\"Complete this sentence in a surprising way: \\\"When I got on the school bus, I saw...\\\"\"},{\"prompt\":\"school bus\",\"question\":\"Complete this sentence in a surprising way: \\\"When I got on the school bus...\\\"\"},{\"prompt\":\"sleepover\",\"question\":\"Complete this sentence in a surprising way: \\\"When I had a sleepover at my friend's, we played...\\\"\"},{\"prompt\":\"closet\",\"question\":\"Complete this sentence in a surprising way: \\\"When I opened my closet...\\\"\"},{\"prompt\":\"lunchroom\",\"question\":\"Complete this sentence in a surprising way: \\\"When I was at lunch...\\\"\"},{\"prompt\":\"playground\",\"question\":\"Complete this sentence in a surprising way: \\\"When the friends met in the playground, they...\\\"\"},{\"prompt\":\"library\",\"question\":\"Complete this sentence in a surprising way: \\\"When the kids were in the library they found...\\\"\"},{\"prompt\":\"library\",\"question\":\"Complete this sentence in a surprising way: \\\"When the kids were in the library...\\\"\"},{\"prompt\":\"teacher talking\",\"question\":\"Complete this sentence in a surprising way: \\\"When the teacher was talking, all the kids...\\\"\"},{\"prompt\":\"lecture\",\"question\":\"Complete this sentence in a surprising way: \\\"When the teacher was talking...\\\"\"}]\n",
      "```\n",
      "\n",
      "[{'prompt': 'games', 'oldquestion': 'Complete this sentence in a surprising way: \"At a sleepover we...\"', 'fixedquestion': 'Complete this sentence in a surprising way: \"At a sleepover, we...\"'}, {'prompt': 'rain', 'oldquestion': 'Complete this sentence in a surprising way: \"It started raining and...\"', 'fixedquestion': 'Complete this sentence in a surprising way: \"It started raining, and...\"'}, {'prompt': 'friend phone', 'oldquestion': 'Complete this sentence in a surprising way: \"My friend called me on the phone to tell me...\"', 'fixedquestion': 'Complete this sentence in a surprising way: \"My friend called me on the phone to tell me...\"'}, {'prompt': 'phone', 'oldquestion': 'Complete this sentence in a surprising way: \"My friend called me on the phone to tell me...\"', 'fixedquestion': 'Complete this sentence in a surprising way: \"My friend called me on the phone to tell me...\"'}, {'prompt': 'school bus', 'oldquestion': 'Complete this sentence in a surprising way: \"When I got on the school bus, I saw...\"', 'fixedquestion': 'Complete this sentence in a surprising way: \"When I got on the school bus, I saw...\"'}, {'prompt': 'school bus', 'oldquestion': 'Complete this sentence in a surprising way: \"When I got on the school bus...\"', 'fixedquestion': 'Complete this sentence in a surprising way: \"When I got on the school bus...\"'}, {'prompt': 'sleepover', 'oldquestion': 'Complete this sentence in a surprising way: \"When I had a sleepover at my friend\\'s, we played...\"', 'fixedquestion': 'Complete this sentence in a surprising way: \"When I had a sleepover at my friend\\'s, we played...\"'}, {'prompt': 'closet', 'oldquestion': 'Complete this sentence in a surprising way: \"When I opened my closet...\"', 'fixedquestion': 'Complete this sentence in a surprising way: \"When I opened my closet...\"'}, {'prompt': 'lunchroom', 'oldquestion': 'Complete this sentence in a surprising way: \"When I was at lunch...\"', 'fixedquestion': 'Complete this sentence in a surprising way: \"When I was at lunch...\"'}, {'prompt': 'playground', 'oldquestion': 'Complete this sentence in a surprising way: \"When the friends met in the playground, they...\"', 'fixedquestion': 'Complete this sentence in a surprising way: \"When the friends met in the playground, they...\"'}, {'prompt': 'library', 'oldquestion': 'Complete this sentence in a surprising way: \"When the kids were in the library they found...\"', 'fixedquestion': 'Complete this sentence in a surprising way: \"When the kids were in the library, they found...\"'}, {'prompt': 'library', 'oldquestion': 'Complete this sentence in a surprising way: \"When the kids were in the library...\"', 'fixedquestion': 'Complete this sentence in a surprising way: \"When the kids were in the library...\"'}, {'prompt': 'teacher talking', 'oldquestion': 'Complete this sentence in a surprising way: \"When the teacher was talking, all the kids...\"', 'fixedquestion': 'Complete this sentence in a surprising way: \"When the teacher was talking, all the kids...\"'}, {'prompt': 'lecture', 'oldquestion': 'Complete this sentence in a surprising way: \"When the teacher was talking...\"', 'fixedquestion': 'Complete this sentence in a surprising way: \"When the teacher was talking...\"'}]\n"
     ]
    },
    {
     "data": {
      "application/vnd.jupyter.widget-view+json": {
       "model_id": "48c855bfa5834770b39505a529bb0b23",
       "version_major": 2,
       "version_minor": 0
      },
      "text/plain": [
       "  0%|          | 0/1 [00:00<?, ?it/s]"
      ]
     },
     "metadata": {},
     "output_type": "display_data"
    },
    {
     "name": "stdout",
     "output_type": "stream",
     "text": [
      "Below is a list of English-language questions for the 'Consequences' task, a measure of creativity where you write down consequences of an absurd event.\n",
      "\n",
      "YOUR TASK: CORRECT THE GRAMMAR AS NECESSARY.\n",
      "\n",
      "The input is as a JSON array of objects with prompt/question keys. The `prompt` is the master reference, the `question` is the potentially erroneous text that may need correction or editing. Don't change the capitalized portion of a question or anything quoted.\n",
      "\n",
      "Respond in a JSON list of objects, where each object has `prompt`, `oldquestion`, and `fixedquestion` keys. Include all responses, even if they didn't need corrections. Surround the response in triple-backticks.\n",
      "\n",
      "## Questions to grammar-check\n",
      "\n",
      "```\n",
      "[{\"prompt\":\"kid president\",\"question\":\"What would be a surprising consequence if A KID WAS PRESIDENT?\"},{\"prompt\":\"aliens landed\",\"question\":\"What would be a surprising consequence if ALIENS LANDED AT YOUR SCHOOL?\"},{\"prompt\":\"shrank\",\"question\":\"What would be a surprising consequence if EVERYONE SHRANK TO 12 INCHES TALL?\"},{\"prompt\":\"time travel\",\"question\":\"What would be a surprising consequence if PEOPLE COULD TRAVEL THROUGH TIME?\"},{\"prompt\":\"no sleep\",\"question\":\"What would be a surprising consequence if PEOPLE NEEDED NO SLEEP?\"},{\"prompt\":\"rain soda\",\"question\":\"What would be a surprising consequence if RAIN WAS MADE OF SODA?\"},{\"prompt\":\"teacher read minds\",\"question\":\"What would be a surprising consequence if YOUR TEACHER COULD READ MINDS?\"}]\n",
      "```\n",
      "\n",
      "[{'prompt': 'kid president', 'oldquestion': 'What would be a surprising consequence if A KID WAS PRESIDENT?', 'fixedquestion': 'What would be a surprising consequence if A KID WERE PRESIDENT?'}, {'prompt': 'aliens landed', 'oldquestion': 'What would be a surprising consequence if ALIENS LANDED AT YOUR SCHOOL?', 'fixedquestion': 'What would be a surprising consequence if ALIENS LANDED AT YOUR SCHOOL?'}, {'prompt': 'shrank', 'oldquestion': 'What would be a surprising consequence if EVERYONE SHRANK TO 12 INCHES TALL?', 'fixedquestion': 'What would be a surprising consequence if EVERYONE SHRANK TO 12 INCHES TALL?'}, {'prompt': 'time travel', 'oldquestion': 'What would be a surprising consequence if PEOPLE COULD TRAVEL THROUGH TIME?', 'fixedquestion': 'What would be a surprising consequence if PEOPLE COULD TRAVEL THROUGH TIME?'}, {'prompt': 'no sleep', 'oldquestion': 'What would be a surprising consequence if PEOPLE NEEDED NO SLEEP?', 'fixedquestion': 'What would be a surprising consequence if PEOPLE NEEDED NO SLEEP?'}, {'prompt': 'rain soda', 'oldquestion': 'What would be a surprising consequence if RAIN WAS MADE OF SODA?', 'fixedquestion': 'What would be a surprising consequence if RAIN WERE MADE OF SODA?'}, {'prompt': 'teacher read minds', 'oldquestion': 'What would be a surprising consequence if YOUR TEACHER COULD READ MINDS?', 'fixedquestion': 'What would be a surprising consequence if YOUR TEACHER COULD READ MINDS?'}]\n"
     ]
    },
    {
     "data": {
      "application/vnd.jupyter.widget-view+json": {
       "model_id": "b028bf306349459e970b8eace3164306",
       "version_major": 2,
       "version_minor": 0
      },
      "text/plain": [
       "  0%|          | 0/1 [00:00<?, ?it/s]"
      ]
     },
     "metadata": {},
     "output_type": "display_data"
    },
    {
     "name": "stdout",
     "output_type": "stream",
     "text": [
      "Below is a list of English-language questions for the 'Instances' task, a measure of creativity where you write down instances of a category.\n",
      "\n",
      "YOUR TASK: CORRECT THE GRAMMAR AS NECESSARY.\n",
      "\n",
      "The input is as a JSON array of objects with prompt/question keys. The `prompt` is the master reference, the `question` is the potentially erroneous text that may need correction or editing. Don't change the capitalized portion of a question or anything quoted.\n",
      "\n",
      "Respond in a JSON list of objects, where each object has `prompt`, `oldquestion`, and `fixedquestion` keys. Include all responses, even if they didn't need corrections. Surround the response in triple-backticks.\n",
      "\n",
      "## Questions to grammar-check\n",
      "\n",
      "```\n",
      "[{\"prompt\":\"big\",\"question\":\"What is a surprising example of something BIG?\"},{\"prompt\":\"cold\",\"question\":\"What is a surprising example of something COLD?\"},{\"prompt\":\"frozen\",\"question\":\"What is a surprising example of something FROZEN?\"},{\"prompt\":\"fun\",\"question\":\"What is a surprising example of something FUN?\"},{\"prompt\":\"huge\",\"question\":\"What is a surprising example of something HUGE?\"},{\"prompt\":\"red\",\"question\":\"What is a surprising example of something RED?\"},{\"prompt\":\"smelly\",\"question\":\"What is a surprising example of something SMELLY?\"},{\"prompt\":\"soft\",\"question\":\"What is a surprising example of something SOFT?\"},{\"prompt\":\"tasty\",\"question\":\"What is a surprising example of something TASTY?\"},{\"prompt\":\"wet\",\"question\":\"What is a surprising example of something WET?\"},{\"prompt\":\"noise\",\"question\":\"What is a surprising thing that makes a NOISE?\"}]\n",
      "```\n",
      "\n",
      "[{'prompt': 'big', 'oldquestion': 'What is a surprising example of something BIG?', 'fixedquestion': 'What is a surprising example of something BIG?'}, {'prompt': 'cold', 'oldquestion': 'What is a surprising example of something COLD?', 'fixedquestion': 'What is a surprising example of something COLD?'}, {'prompt': 'frozen', 'oldquestion': 'What is a surprising example of something FROZEN?', 'fixedquestion': 'What is a surprising example of something FROZEN?'}, {'prompt': 'fun', 'oldquestion': 'What is a surprising example of something FUN?', 'fixedquestion': 'What is a surprising example of something FUN?'}, {'prompt': 'huge', 'oldquestion': 'What is a surprising example of something HUGE?', 'fixedquestion': 'What is a surprising example of something HUGE?'}, {'prompt': 'red', 'oldquestion': 'What is a surprising example of something RED?', 'fixedquestion': 'What is a surprising example of something RED?'}, {'prompt': 'smelly', 'oldquestion': 'What is a surprising example of something SMELLY?', 'fixedquestion': 'What is a surprising example of something SMELLY?'}, {'prompt': 'soft', 'oldquestion': 'What is a surprising example of something SOFT?', 'fixedquestion': 'What is a surprising example of something SOFT?'}, {'prompt': 'tasty', 'oldquestion': 'What is a surprising example of something TASTY?', 'fixedquestion': 'What is a surprising example of something TASTY?'}, {'prompt': 'wet', 'oldquestion': 'What is a surprising example of something WET?', 'fixedquestion': 'What is a surprising example of something WET?'}, {'prompt': 'noise', 'oldquestion': 'What is a surprising thing that makes a NOISE?', 'fixedquestion': 'What is a surprising thing that makes a NOISE?'}]\n"
     ]
    },
    {
     "data": {
      "application/vnd.jupyter.widget-view+json": {
       "model_id": "eaf1d2d80c394d0c8e08c05d7ceced42",
       "version_major": 2,
       "version_minor": 0
      },
      "text/plain": [
       "  0%|          | 0/1 [00:00<?, ?it/s]"
      ]
     },
     "metadata": {},
     "output_type": "display_data"
    },
    {
     "name": "stdout",
     "output_type": "stream",
     "text": [
      "Below is a list of English-language questions for the 'Metaphors' task, a measure of creativity where you write down metaphors for an abstract concept.\n",
      "\n",
      "YOUR TASK: CORRECT THE GRAMMAR AS NECESSARY.\n",
      "\n",
      "The input is as a JSON array of objects with prompt/question keys. The `prompt` is the master reference, the `question` is the potentially erroneous text that may need correction or editing. Don't change the capitalized portion of a question or anything quoted.\n",
      "\n",
      "Respond in a JSON list of objects, where each object has `prompt`, `oldquestion`, and `fixedquestion` keys. Include all responses, even if they didn't need corrections. Surround the response in triple-backticks.\n",
      "\n",
      "## Questions to grammar-check\n",
      "\n",
      "```\n",
      "[{\"prompt\":\"gross food\",\"question\":\"Think about the most disgusting thing you ever ate or drank. What was it like to eat or drink it?\"},{\"prompt\":\"bad movie\",\"question\":\"Think about the worst movie or TV show you have ever seen. What was it like to watch it?\"},{\"prompt\":\"messy room\",\"question\":\"Think of the messiest room that you’ve ever had to live in. What was it like to live there?\"},{\"prompt\":\"boring class\",\"question\":\"Think of the most boring high-school or college class you’ve ever had. What was it like to sit through?\"}]\n",
      "```\n",
      "\n",
      "[{'prompt': 'gross food', 'oldquestion': 'Think about the most disgusting thing you ever ate or drank. What was it like to eat or drink it?', 'fixedquestion': 'Think about the most disgusting thing you have ever eaten or drunk. What was it like to eat or drink it?'}, {'prompt': 'bad movie', 'oldquestion': 'Think about the worst movie or TV show you have ever seen. What was it like to watch it?', 'fixedquestion': 'Think about the worst movie or TV show you have ever seen. What was it like to watch it?'}, {'prompt': 'messy room', 'oldquestion': 'Think of the messiest room that you’ve ever had to live in. What was it like to live there?', 'fixedquestion': 'Think of the messiest room in which you’ve ever lived. What was it like to live there?'}, {'prompt': 'boring class', 'oldquestion': 'Think of the most boring high-school or college class you’ve ever had. What was it like to sit through?', 'fixedquestion': 'Think of the most boring high school or college class you’ve ever taken. What was it like to sit through it?'}]\n"
     ]
    },
    {
     "data": {
      "application/vnd.jupyter.widget-view+json": {
       "model_id": "230df3a5b7f44127afacd4b48633b738",
       "version_major": 2,
       "version_minor": 0
      },
      "text/plain": [
       "  0%|          | 0/1 [00:00<?, ?it/s]"
      ]
     },
     "metadata": {},
     "output_type": "display_data"
    },
    {
     "name": "stdout",
     "output_type": "stream",
     "text": [
      "Below is a list of Arabic-language questions for the 'Alternate Uses' task, a measure of creativity where you write down uses for a common object.\n",
      "\n",
      "YOUR TASK: CORRECT THE GRAMMAR AS NECESSARY.\n",
      "\n",
      "The input is as a JSON array of objects with prompt/question keys. The `prompt` is the master reference, the `question` is the potentially erroneous text that may need correction or editing. Don't change the capitalized portion of a question or anything quoted.\n",
      "\n",
      "Respond in a JSON list of objects, where each object has `prompt`, `oldquestion`, and `fixedquestion` keys. Include all responses, even if they didn't need corrections. Surround the response in triple-backticks.\n",
      "\n",
      "## Questions to grammar-check\n",
      "\n",
      "```\n",
      "[{\"prompt\":\"Tin cans\",\"question\":\"ما هو استخدام مفاجئ لـ TIN CANS؟\"}]\n",
      "```\n",
      "\n",
      "[{'prompt': 'Tin cans', 'oldquestion': 'ما هو استخدام مفاجئ لـ TIN CANS؟', 'fixedquestion': 'ما هو الاستخدام المفاجئ لـ TIN CANS؟'}]\n"
     ]
    },
    {
     "data": {
      "application/vnd.jupyter.widget-view+json": {
       "model_id": "b883095024524132ac7cba9a0b47950e",
       "version_major": 2,
       "version_minor": 0
      },
      "text/plain": [
       "  0%|          | 0/7 [00:00<?, ?it/s]"
      ]
     },
     "metadata": {},
     "output_type": "display_data"
    },
    {
     "name": "stdout",
     "output_type": "stream",
     "text": [
      "Below is a list of Chinese-language questions for the 'Alternate Uses' task, a measure of creativity where you write down uses for a common object.\n",
      "\n",
      "YOUR TASK: CORRECT THE GRAMMAR AS NECESSARY.\n",
      "\n",
      "The input is as a JSON array of objects with prompt/question keys. The `prompt` is the master reference, the `question` is the potentially erroneous text that may need correction or editing. Don't change the capitalized portion of a question or anything quoted.\n",
      "\n",
      "Respond in a JSON list of objects, where each object has `prompt`, `oldquestion`, and `fixedquestion` keys. Include all responses, even if they didn't need corrections. Surround the response in triple-backticks.\n",
      "\n",
      "## Questions to grammar-check\n",
      "\n",
      "```\n",
      "[{\"prompt\":\"光盘\",\"question\":\"什么是光盘的一个令人惊讶的用途？\"},{\"prompt\":\"冰块\",\"question\":\"什么是冰块的一个令人惊讶的用途？\"},{\"prompt\":\"勺子\",\"question\":\"什么是勺子的一个令人惊讶的用途？\"},{\"prompt\":\"南瓜\",\"question\":\"什么是南瓜的一个令人惊讶的用途？\"},{\"prompt\":\"卫生纸\",\"question\":\"什么是卫生纸的一个令人惊讶的用途？\"},{\"prompt\":\"发带\",\"question\":\"什么是发带的一个令人惊讶的用途？\"},{\"prompt\":\"发簪\",\"question\":\"什么是发簪的一个令人惊讶的用途？\"},{\"prompt\":\"台灯\",\"question\":\"什么是台灯的一个令人惊讶的用途？\"},{\"prompt\":\"吸管\",\"question\":\"什么是吸管的一个令人惊讶的用途？\"},{\"prompt\":\"吹风机\",\"question\":\"什么是吹风机的一个令人惊讶的用途？\"},{\"prompt\":\"咖啡\",\"question\":\"什么是咖啡的一个令人惊讶的用途？\"},{\"prompt\":\"喇叭\",\"question\":\"什么是喇叭的一个令人惊讶的用途？\"},{\"prompt\":\"围巾\",\"question\":\"什么是围巾的一个令人惊讶的用途？\"},{\"prompt\":\"图钉\",\"question\":\"什么是图钉的一个令人惊讶的用途？\"},{\"prompt\":\"土豆\",\"question\":\"什么是土豆的一个令人惊讶的用途？\"},{\"prompt\":\"地图\",\"question\":\"什么是地图的一个令人惊讶的用途？\"},{\"prompt\":\"塑料袋\",\"question\":\"什么是塑料袋的一个令人惊讶的用途？\"},{\"prompt\":\"墨水\",\"question\":\"什么是墨水的一个令人惊讶的用途？\"},{\"prompt\":\"头发\",\"question\":\"什么是头发的一个令人惊讶的用途？\"},{\"prompt\":\"夹子\",\"question\":\"什么是夹子的一个令人惊讶的用途？\"}]\n",
      "```\n",
      "\n",
      "[{'prompt': '光盘', 'oldquestion': '什么是光盘的一个令人惊讶的用途？', 'fixedquestion': '光盘有什么令人惊讶的用途？'}, {'prompt': '冰块', 'oldquestion': '什么是冰块的一个令人惊讶的用途？', 'fixedquestion': '冰块有什么令人惊讶的用途？'}, {'prompt': '勺子', 'oldquestion': '什么是勺子的一个令人惊讶的用途？', 'fixedquestion': '勺子有什么令人惊讶的用途？'}, {'prompt': '南瓜', 'oldquestion': '什么是南瓜的一个令人惊讶的用途？', 'fixedquestion': '南瓜有什么令人惊讶的用途？'}, {'prompt': '卫生纸', 'oldquestion': '什么是卫生纸的一个令人惊讶的用途？', 'fixedquestion': '卫生纸有什么令人惊讶的用途？'}, {'prompt': '发带', 'oldquestion': '什么是发带的一个令人惊讶的用途？', 'fixedquestion': '发带有什么令人惊讶的用途？'}, {'prompt': '发簪', 'oldquestion': '什么是发簪的一个令人惊讶的用途？', 'fixedquestion': '发簪有什么令人惊讶的用途？'}, {'prompt': '台灯', 'oldquestion': '什么是台灯的一个令人惊讶的用途？', 'fixedquestion': '台灯有什么令人惊讶的用途？'}, {'prompt': '吸管', 'oldquestion': '什么是吸管的一个令人惊讶的用途？', 'fixedquestion': '吸管有什么令人惊讶的用途？'}, {'prompt': '吹风机', 'oldquestion': '什么是吹风机的一个令人惊讶的用途？', 'fixedquestion': '吹风机有什么令人惊讶的用途？'}, {'prompt': '咖啡', 'oldquestion': '什么是咖啡的一个令人惊讶的用途？', 'fixedquestion': '咖啡有什么令人惊讶的用途？'}, {'prompt': '喇叭', 'oldquestion': '什么是喇叭的一个令人惊讶的用途？', 'fixedquestion': '喇叭有什么令人惊讶的用途？'}, {'prompt': '围巾', 'oldquestion': '什么是围巾的一个令人惊讶的用途？', 'fixedquestion': '围巾有什么令人惊讶的用途？'}, {'prompt': '图钉', 'oldquestion': '什么是图钉的一个令人惊讶的用途？', 'fixedquestion': '图钉有什么令人惊讶的用途？'}, {'prompt': '土豆', 'oldquestion': '什么是土豆的一个令人惊讶的用途？', 'fixedquestion': '土豆有什么令人惊讶的用途？'}, {'prompt': '地图', 'oldquestion': '什么是地图的一个令人惊讶的用途？', 'fixedquestion': '地图有什么令人惊讶的用途？'}, {'prompt': '塑料袋', 'oldquestion': '什么是塑料袋的一个令人惊讶的用途？', 'fixedquestion': '塑料袋有什么令人惊讶的用途？'}, {'prompt': '墨水', 'oldquestion': '什么是墨水的一个令人惊讶的用途？', 'fixedquestion': '墨水有什么令人惊讶的用途？'}, {'prompt': '头发', 'oldquestion': '什么是头发的一个令人惊讶的用途？', 'fixedquestion': '头发有什么令人惊讶的用途？'}, {'prompt': '夹子', 'oldquestion': '什么是夹子的一个令人惊讶的用途？', 'fixedquestion': '夹子有什么令人惊讶的用途？'}]\n",
      "Below is a list of Chinese-language questions for the 'Alternate Uses' task, a measure of creativity where you write down uses for a common object.\n",
      "\n",
      "YOUR TASK: CORRECT THE GRAMMAR AS NECESSARY.\n",
      "\n",
      "The input is as a JSON array of objects with prompt/question keys. The `prompt` is the master reference, the `question` is the potentially erroneous text that may need correction or editing. Don't change the capitalized portion of a question or anything quoted.\n",
      "\n",
      "Respond in a JSON list of objects, where each object has `prompt`, `oldquestion`, and `fixedquestion` keys. Include all responses, even if they didn't need corrections. Surround the response in triple-backticks.\n",
      "\n",
      "## Questions to grammar-check\n",
      "\n",
      "```\n",
      "[{\"prompt\":\"字典\",\"question\":\"什么是字典的一个令人惊讶的用途？\"},{\"prompt\":\"小米\",\"question\":\"什么是小米的一个令人惊讶的用途？\"},{\"prompt\":\"床单\",\"question\":\"什么是床单的一个令人惊讶的用途？\"},{\"prompt\":\"弹弓\",\"question\":\"什么是弹弓的一个令人惊讶的用途？\"},{\"prompt\":\"戒指\",\"question\":\"什么是戒指的一个令人惊讶的用途？\"},{\"prompt\":\"扇子\",\"question\":\"什么是扇子的一个令人惊讶的用途？\"},{\"prompt\":\"手套\",\"question\":\"什么是手套的一个令人惊讶的用途？\"},{\"prompt\":\"扑克\",\"question\":\"什么是扑克的一个令人惊讶的用途？\"},{\"prompt\":\"报纸\",\"question\":\"什么是报纸的一个令人惊讶的用途？\"},{\"prompt\":\"拖鞋\",\"question\":\"什么是拖鞋的一个令人惊讶的用途？\"},{\"prompt\":\"擀面杖\",\"question\":\"什么是擀面杖的一个令人惊讶的用途？\"},{\"prompt\":\"无花果\",\"question\":\"什么是无花果的一个令人惊讶的用途？\"},{\"prompt\":\"易拉罐\",\"question\":\"什么是易拉罐的一个令人惊讶的用途？\"},{\"prompt\":\"曲别针\",\"question\":\"什么是曲别针的一个令人惊讶的用途？\"},{\"prompt\":\"木头\",\"question\":\"什么是木头的一个令人惊讶的用途？\"},{\"prompt\":\"杯子\",\"question\":\"什么是杯子的一个令人惊讶的用途？\"},{\"prompt\":\"柳条\",\"question\":\"什么是柳条的一个令人惊讶的用途？\"},{\"prompt\":\"柳树\",\"question\":\"什么是柳树的一个令人惊讶的用途？\"},{\"prompt\":\"柿子\",\"question\":\"什么是柿子的一个令人惊讶的用途？\"},{\"prompt\":\"核桃\",\"question\":\"什么是核桃的一个令人惊讶的用途？\"}]\n",
      "```\n",
      "\n",
      "[{'prompt': '字典', 'oldquestion': '什么是字典的一个令人惊讶的用途？', 'fixedquestion': '字典的一个令人惊讶的用途是什么？'}, {'prompt': '小米', 'oldquestion': '什么是小米的一个令人惊讶的用途？', 'fixedquestion': '小米的一个令人惊讶的用途是什么？'}, {'prompt': '床单', 'oldquestion': '什么是床单的一个令人惊讶的用途？', 'fixedquestion': '床单的一个令人惊讶的用途是什么？'}, {'prompt': '弹弓', 'oldquestion': '什么是弹弓的一个令人惊讶的用途？', 'fixedquestion': '弹弓的一个令人惊讶的用途是什么？'}, {'prompt': '戒指', 'oldquestion': '什么是戒指的一个令人惊讶的用途？', 'fixedquestion': '戒指的一个令人惊讶的用途是什么？'}, {'prompt': '扇子', 'oldquestion': '什么是扇子的一个令人惊讶的用途？', 'fixedquestion': '扇子的一个令人惊讶的用途是什么？'}, {'prompt': '手套', 'oldquestion': '什么是手套的一个令人惊讶的用途？', 'fixedquestion': '手套的一个令人惊讶的用途是什么？'}, {'prompt': '扑克', 'oldquestion': '什么是扑克的一个令人惊讶的用途？', 'fixedquestion': '扑克的一个令人惊讶的用途是什么？'}, {'prompt': '报纸', 'oldquestion': '什么是报纸的一个令人惊讶的用途？', 'fixedquestion': '报纸的一个令人惊讶的用途是什么？'}, {'prompt': '拖鞋', 'oldquestion': '什么是拖鞋的一个令人惊讶的用途？', 'fixedquestion': '拖鞋的一个令人惊讶的用途是什么？'}, {'prompt': '擀面杖', 'oldquestion': '什么是擀面杖的一个令人惊讶的用途？', 'fixedquestion': '擀面杖的一个令人惊讶的用途是什么？'}, {'prompt': '无花果', 'oldquestion': '什么是无花果的一个令人惊讶的用途？', 'fixedquestion': '无花果的一个令人惊讶的用途是什么？'}, {'prompt': '易拉罐', 'oldquestion': '什么是易拉罐的一个令人惊讶的用途？', 'fixedquestion': '易拉罐的一个令人惊讶的用途是什么？'}, {'prompt': '曲别针', 'oldquestion': '什么是曲别针的一个令人惊讶的用途？', 'fixedquestion': '曲别针的一个令人惊讶的用途是什么？'}, {'prompt': '木头', 'oldquestion': '什么是木头的一个令人惊讶的用途？', 'fixedquestion': '木头的一个令人惊讶的用途是什么？'}, {'prompt': '杯子', 'oldquestion': '什么是杯子的一个令人惊讶的用途？', 'fixedquestion': '杯子的一个令人惊讶的用途是什么？'}, {'prompt': '柳条', 'oldquestion': '什么是柳条的一个令人惊讶的用途？', 'fixedquestion': '柳条的一个令人惊讶的用途是什么？'}, {'prompt': '柳树', 'oldquestion': '什么是柳树的一个令人惊讶的用途？', 'fixedquestion': '柳树的一个令人惊讶的用途是什么？'}, {'prompt': '柿子', 'oldquestion': '什么是柿子的一个令人惊讶的用途？', 'fixedquestion': '柿子的一个令人惊讶的用途是什么？'}, {'prompt': '核桃', 'oldquestion': '什么是核桃的一个令人惊讶的用途？', 'fixedquestion': '核桃的一个令人惊讶的用途是什么？'}]\n",
      "Below is a list of Chinese-language questions for the 'Alternate Uses' task, a measure of creativity where you write down uses for a common object.\n",
      "\n",
      "YOUR TASK: CORRECT THE GRAMMAR AS NECESSARY.\n",
      "\n",
      "The input is as a JSON array of objects with prompt/question keys. The `prompt` is the master reference, the `question` is the potentially erroneous text that may need correction or editing. Don't change the capitalized portion of a question or anything quoted.\n",
      "\n",
      "Respond in a JSON list of objects, where each object has `prompt`, `oldquestion`, and `fixedquestion` keys. Include all responses, even if they didn't need corrections. Surround the response in triple-backticks.\n",
      "\n",
      "## Questions to grammar-check\n",
      "\n",
      "```\n",
      "[{\"prompt\":\"梳子\",\"question\":\"什么是梳子的一个令人惊讶的用途？\"},{\"prompt\":\"棉签\",\"question\":\"什么是棉签的一个令人惊讶的用途？\"},{\"prompt\":\"椰子\",\"question\":\"什么是椰子的一个令人惊讶的用途？\"},{\"prompt\":\"橄榄油\",\"question\":\"什么是橄榄油的一个令人惊讶的用途？\"},{\"prompt\":\"橡皮擦\",\"question\":\"什么是橡皮擦的一个令人惊讶的用途？\"},{\"prompt\":\"毛巾\",\"question\":\"什么是毛巾的一个令人惊讶的用途？\"},{\"prompt\":\"毛笔\",\"question\":\"什么是毛笔的一个令人惊讶的用途？\"},{\"prompt\":\"气球\",\"question\":\"什么是气球的一个令人惊讶的用途？\"},{\"prompt\":\"水壶\",\"question\":\"什么是水壶的一个令人惊讶的用途？\"},{\"prompt\":\"浴缸\",\"question\":\"什么是浴缸的一个令人惊讶的用途？\"},{\"prompt\":\"温度计\",\"question\":\"什么是温度计的一个令人惊讶的用途？\"},{\"prompt\":\"漏斗\",\"question\":\"什么是漏斗的一个令人惊讶的用途？\"},{\"prompt\":\"灌木\",\"question\":\"什么是灌木的一个令人惊讶的用途？\"},{\"prompt\":\"火柴\",\"question\":\"什么是火柴的一个令人惊讶的用途？\"},{\"prompt\":\"牙刷\",\"question\":\"什么是牙刷的一个令人惊讶的用途？\"},{\"prompt\":\"牙签\",\"question\":\"什么是牙签的一个令人惊讶的用途？\"},{\"prompt\":\"牙膏\",\"question\":\"什么是牙膏的一个令人惊讶的用途？\"},{\"prompt\":\"狐狸\",\"question\":\"什么是狐狸的一个令人惊讶的用途？\"},{\"prompt\":\"玉米\",\"question\":\"什么是玉米的一个令人惊讶的用途？\"},{\"prompt\":\"球拍\",\"question\":\"什么是球拍的一个令人惊讶的用途？\"}]\n",
      "```\n",
      "\n",
      "[{'prompt': '梳子', 'oldquestion': '什么是梳子的一个令人惊讶的用途？', 'fixedquestion': '梳子的一个令人惊讶的用途是什么？'}, {'prompt': '棉签', 'oldquestion': '什么是棉签的一个令人惊讶的用途？', 'fixedquestion': '棉签的一个令人惊讶的用途是什么？'}, {'prompt': '椰子', 'oldquestion': '什么是椰子的一个令人惊讶的用途？', 'fixedquestion': '椰子的一个令人惊讶的用途是什么？'}, {'prompt': '橄榄油', 'oldquestion': '什么是橄榄油的一个令人惊讶的用途？', 'fixedquestion': '橄榄油的一个令人惊讶的用途是什么？'}, {'prompt': '橡皮擦', 'oldquestion': '什么是橡皮擦的一个令人惊讶的用途？', 'fixedquestion': '橡皮擦的一个令人惊讶的用途是什么？'}, {'prompt': '毛巾', 'oldquestion': '什么是毛巾的一个令人惊讶的用途？', 'fixedquestion': '毛巾的一个令人惊讶的用途是什么？'}, {'prompt': '毛笔', 'oldquestion': '什么是毛笔的一个令人惊讶的用途？', 'fixedquestion': '毛笔的一个令人惊讶的用途是什么？'}, {'prompt': '气球', 'oldquestion': '什么是气球的一个令人惊讶的用途？', 'fixedquestion': '气球的一个令人惊讶的用途是什么？'}, {'prompt': '水壶', 'oldquestion': '什么是水壶的一个令人惊讶的用途？', 'fixedquestion': '水壶的一个令人惊讶的用途是什么？'}, {'prompt': '浴缸', 'oldquestion': '什么是浴缸的一个令人惊讶的用途？', 'fixedquestion': '浴缸的一个令人惊讶的用途是什么？'}, {'prompt': '温度计', 'oldquestion': '什么是温度计的一个令人惊讶的用途？', 'fixedquestion': '温度计的一个令人惊讶的用途是什么？'}, {'prompt': '漏斗', 'oldquestion': '什么是漏斗的一个令人惊讶的用途？', 'fixedquestion': '漏斗的一个令人惊讶的用途是什么？'}, {'prompt': '灌木', 'oldquestion': '什么是灌木的一个令人惊讶的用途？', 'fixedquestion': '灌木的一个令人惊讶的用途是什么？'}, {'prompt': '火柴', 'oldquestion': '什么是火柴的一个令人惊讶的用途？', 'fixedquestion': '火柴的一个令人惊讶的用途是什么？'}, {'prompt': '牙刷', 'oldquestion': '什么是牙刷的一个令人惊讶的用途？', 'fixedquestion': '牙刷的一个令人惊讶的用途是什么？'}, {'prompt': '牙签', 'oldquestion': '什么是牙签的一个令人惊讶的用途？', 'fixedquestion': '牙签的一个令人惊讶的用途是什么？'}, {'prompt': '牙膏', 'oldquestion': '什么是牙膏的一个令人惊讶的用途？', 'fixedquestion': '牙膏的一个令人惊讶的用途是什么？'}, {'prompt': '狐狸', 'oldquestion': '什么是狐狸的一个令人惊讶的用途？', 'fixedquestion': '狐狸的一个令人惊讶的用途是什么？'}, {'prompt': '玉米', 'oldquestion': '什么是玉米的一个令人惊讶的用途？', 'fixedquestion': '玉米的一个令人惊讶的用途是什么？'}, {'prompt': '球拍', 'oldquestion': '什么是球拍的一个令人惊讶的用途？', 'fixedquestion': '球拍的一个令人惊讶的用途是什么？'}]\n",
      "Below is a list of Chinese-language questions for the 'Alternate Uses' task, a measure of creativity where you write down uses for a common object.\n",
      "\n",
      "YOUR TASK: CORRECT THE GRAMMAR AS NECESSARY.\n",
      "\n",
      "The input is as a JSON array of objects with prompt/question keys. The `prompt` is the master reference, the `question` is the potentially erroneous text that may need correction or editing. Don't change the capitalized portion of a question or anything quoted.\n",
      "\n",
      "Respond in a JSON list of objects, where each object has `prompt`, `oldquestion`, and `fixedquestion` keys. Include all responses, even if they didn't need corrections. Surround the response in triple-backticks.\n",
      "\n",
      "## Questions to grammar-check\n",
      "\n",
      "```\n",
      "[{\"prompt\":\"生姜\",\"question\":\"什么是生姜的一个令人惊讶的用途？\"},{\"prompt\":\"画像\",\"question\":\"什么是画像的一个令人惊讶的用途？\"},{\"prompt\":\"白纸\",\"question\":\"什么是白纸的一个令人惊讶的用途？\"},{\"prompt\":\"白酒\",\"question\":\"什么是白酒的一个令人惊讶的用途？\"},{\"prompt\":\"皮带\",\"question\":\"什么是皮带的一个令人惊讶的用途？\"},{\"prompt\":\"皮筋\",\"question\":\"什么是皮筋的一个令人惊讶的用途？\"},{\"prompt\":\"盘子\",\"question\":\"什么是盘子的一个令人惊讶的用途？\"},{\"prompt\":\"相机\",\"question\":\"什么是相机的一个令人惊讶的用途？\"},{\"prompt\":\"砖头\",\"question\":\"什么是砖头的一个令人惊讶的用途？\"},{\"prompt\":\"硬币\",\"question\":\"什么是硬币的一个令人惊讶的用途？\"},{\"prompt\":\"磁铁\",\"question\":\"什么是磁铁的一个令人惊讶的用途？\"},{\"prompt\":\"积木\",\"question\":\"什么是积木的一个令人惊讶的用途？\"},{\"prompt\":\"窗帘\",\"question\":\"什么是窗帘的一个令人惊讶的用途？\"},{\"prompt\":\"笛子\",\"question\":\"什么是笛子的一个令人惊讶的用途？\"},{\"prompt\":\"筷子\",\"question\":\"什么是筷子的一个令人惊讶的用途？\"},{\"prompt\":\"算盘\",\"question\":\"什么是算盘的一个令人惊讶的用途？\"},{\"prompt\":\"红酒\",\"question\":\"什么是红酒的一个令人惊讶的用途？\"},{\"prompt\":\"纸巾\",\"question\":\"什么是纸巾的一个令人惊讶的用途？\"},{\"prompt\":\"纸杯\",\"question\":\"什么是纸杯的一个令人惊讶的用途？\"},{\"prompt\":\"纸盒\",\"question\":\"什么是纸盒的一个令人惊讶的用途？\"}]\n",
      "```\n",
      "\n",
      "[{'prompt': '生姜', 'oldquestion': '什么是生姜的一个令人惊讶的用途？', 'fixedquestion': '生姜有什么令人惊讶的用途？'}, {'prompt': '画像', 'oldquestion': '什么是画像的一个令人惊讶的用途？', 'fixedquestion': '画像有什么令人惊讶的用途？'}, {'prompt': '白纸', 'oldquestion': '什么是白纸的一个令人惊讶的用途？', 'fixedquestion': '白纸有什么令人惊讶的用途？'}, {'prompt': '白酒', 'oldquestion': '什么是白酒的一个令人惊讶的用途？', 'fixedquestion': '白酒有什么令人惊讶的用途？'}, {'prompt': '皮带', 'oldquestion': '什么是皮带的一个令人惊讶的用途？', 'fixedquestion': '皮带有什么令人惊讶的用途？'}, {'prompt': '皮筋', 'oldquestion': '什么是皮筋的一个令人惊讶的用途？', 'fixedquestion': '皮筋有什么令人惊讶的用途？'}, {'prompt': '盘子', 'oldquestion': '什么是盘子的一个令人惊讶的用途？', 'fixedquestion': '盘子有什么令人惊讶的用途？'}, {'prompt': '相机', 'oldquestion': '什么是相机的一个令人惊讶的用途？', 'fixedquestion': '相机有什么令人惊讶的用途？'}, {'prompt': '砖头', 'oldquestion': '什么是砖头的一个令人惊讶的用途？', 'fixedquestion': '砖头有什么令人惊讶的用途？'}, {'prompt': '硬币', 'oldquestion': '什么是硬币的一个令人惊讶的用途？', 'fixedquestion': '硬币有什么令人惊讶的用途？'}, {'prompt': '磁铁', 'oldquestion': '什么是磁铁的一个令人惊讶的用途？', 'fixedquestion': '磁铁有什么令人惊讶的用途？'}, {'prompt': '积木', 'oldquestion': '什么是积木的一个令人惊讶的用途？', 'fixedquestion': '积木有什么令人惊讶的用途？'}, {'prompt': '窗帘', 'oldquestion': '什么是窗帘的一个令人惊讶的用途？', 'fixedquestion': '窗帘有什么令人惊讶的用途？'}, {'prompt': '笛子', 'oldquestion': '什么是笛子的一个令人惊讶的用途？', 'fixedquestion': '笛子有什么令人惊讶的用途？'}, {'prompt': '筷子', 'oldquestion': '什么是筷子的一个令人惊讶的用途？', 'fixedquestion': '筷子有什么令人惊讶的用途？'}, {'prompt': '算盘', 'oldquestion': '什么是算盘的一个令人惊讶的用途？', 'fixedquestion': '算盘有什么令人惊讶的用途？'}, {'prompt': '红酒', 'oldquestion': '什么是红酒的一个令人惊讶的用途？', 'fixedquestion': '红酒有什么令人惊讶的用途？'}, {'prompt': '纸巾', 'oldquestion': '什么是纸巾的一个令人惊讶的用途？', 'fixedquestion': '纸巾有什么令人惊讶的用途？'}, {'prompt': '纸杯', 'oldquestion': '什么是纸杯的一个令人惊讶的用途？', 'fixedquestion': '纸杯有什么令人惊讶的用途？'}, {'prompt': '纸盒', 'oldquestion': '什么是纸盒的一个令人惊讶的用途？', 'fixedquestion': '纸盒有什么令人惊讶的用途？'}]\n",
      "Below is a list of Chinese-language questions for the 'Alternate Uses' task, a measure of creativity where you write down uses for a common object.\n",
      "\n",
      "YOUR TASK: CORRECT THE GRAMMAR AS NECESSARY.\n",
      "\n",
      "The input is as a JSON array of objects with prompt/question keys. The `prompt` is the master reference, the `question` is the potentially erroneous text that may need correction or editing. Don't change the capitalized portion of a question or anything quoted.\n",
      "\n",
      "Respond in a JSON list of objects, where each object has `prompt`, `oldquestion`, and `fixedquestion` keys. Include all responses, even if they didn't need corrections. Surround the response in triple-backticks.\n",
      "\n",
      "## Questions to grammar-check\n",
      "\n",
      "```\n",
      "[{\"prompt\":\"纽扣\",\"question\":\"什么是纽扣的一个令人惊讶的用途？\"},{\"prompt\":\"耳机\",\"question\":\"什么是耳机的一个令人惊讶的用途？\"},{\"prompt\":\"耳机线\",\"question\":\"什么是耳机线的一个令人惊讶的用途？\"},{\"prompt\":\"胶水\",\"question\":\"什么是胶水的一个令人惊讶的用途？\"},{\"prompt\":\"船桨\",\"question\":\"什么是船桨的一个令人惊讶的用途？\"},{\"prompt\":\"芦荟\",\"question\":\"什么是芦荟的一个令人惊讶的用途？\"},{\"prompt\":\"花椒\",\"question\":\"什么是花椒的一个令人惊讶的用途？\"},{\"prompt\":\"花瓣\",\"question\":\"什么是花瓣的一个令人惊讶的用途？\"},{\"prompt\":\"花生\",\"question\":\"什么是花生的一个令人惊讶的用途？\"},{\"prompt\":\"茶壶\",\"question\":\"什么是茶壶的一个令人惊讶的用途？\"},{\"prompt\":\"荷叶\",\"question\":\"什么是荷叶的一个令人惊讶的用途？\"},{\"prompt\":\"蚊帐\",\"question\":\"什么是蚊帐的一个令人惊讶的用途？\"},{\"prompt\":\"蛋壳\",\"question\":\"什么是蛋壳的一个令人惊讶的用途？\"},{\"prompt\":\"蛋清\",\"question\":\"什么是蛋清的一个令人惊讶的用途？\"},{\"prompt\":\"蛋糕\",\"question\":\"什么是蛋糕的一个令人惊讶的用途？\"},{\"prompt\":\"蜡烛\",\"question\":\"什么是蜡烛的一个令人惊讶的用途？\"},{\"prompt\":\"衣架\",\"question\":\"什么是衣架的一个令人惊讶的用途？\"},{\"prompt\":\"袜子\",\"question\":\"什么是袜子的一个令人惊讶的用途？\"},{\"prompt\":\"西瓜\",\"question\":\"什么是西瓜的一个令人惊讶的用途？\"},{\"prompt\":\"西瓜皮\",\"question\":\"什么是西瓜皮的一个令人惊讶的用途？\"}]\n",
      "```\n",
      "\n",
      "[{'prompt': '纽扣', 'oldquestion': '什么是纽扣的一个令人惊讶的用途？', 'fixedquestion': '纽扣的一个令人惊讶的用途是什么？'}, {'prompt': '耳机', 'oldquestion': '什么是耳机的一个令人惊讶的用途？', 'fixedquestion': '耳机的一个令人惊讶的用途是什么？'}, {'prompt': '耳机线', 'oldquestion': '什么是耳机线的一个令人惊讶的用途？', 'fixedquestion': '耳机线的一个令人惊讶的用途是什么？'}, {'prompt': '胶水', 'oldquestion': '什么是胶水的一个令人惊讶的用途？', 'fixedquestion': '胶水的一个令人惊讶的用途是什么？'}, {'prompt': '船桨', 'oldquestion': '什么是船桨的一个令人惊讶的用途？', 'fixedquestion': '船桨的一个令人惊讶的用途是什么？'}, {'prompt': '芦荟', 'oldquestion': '什么是芦荟的一个令人惊讶的用途？', 'fixedquestion': '芦荟的一个令人惊讶的用途是什么？'}, {'prompt': '花椒', 'oldquestion': '什么是花椒的一个令人惊讶的用途？', 'fixedquestion': '花椒的一个令人惊讶的用途是什么？'}, {'prompt': '花瓣', 'oldquestion': '什么是花瓣的一个令人惊讶的用途？', 'fixedquestion': '花瓣的一个令人惊讶的用途是什么？'}, {'prompt': '花生', 'oldquestion': '什么是花生的一个令人惊讶的用途？', 'fixedquestion': '花生的一个令人惊讶的用途是什么？'}, {'prompt': '茶壶', 'oldquestion': '什么是茶壶的一个令人惊讶的用途？', 'fixedquestion': '茶壶的一个令人惊讶的用途是什么？'}, {'prompt': '荷叶', 'oldquestion': '什么是荷叶的一个令人惊讶的用途？', 'fixedquestion': '荷叶的一个令人惊讶的用途是什么？'}, {'prompt': '蚊帐', 'oldquestion': '什么是蚊帐的一个令人惊讶的用途？', 'fixedquestion': '蚊帐的一个令人惊讶的用途是什么？'}, {'prompt': '蛋壳', 'oldquestion': '什么是蛋壳的一个令人惊讶的用途？', 'fixedquestion': '蛋壳的一个令人惊讶的用途是什么？'}, {'prompt': '蛋清', 'oldquestion': '什么是蛋清的一个令人惊讶的用途？', 'fixedquestion': '蛋清的一个令人惊讶的用途是什么？'}, {'prompt': '蛋糕', 'oldquestion': '什么是蛋糕的一个令人惊讶的用途？', 'fixedquestion': '蛋糕的一个令人惊讶的用途是什么？'}, {'prompt': '蜡烛', 'oldquestion': '什么是蜡烛的一个令人惊讶的用途？', 'fixedquestion': '蜡烛的一个令人惊讶的用途是什么？'}, {'prompt': '衣架', 'oldquestion': '什么是衣架的一个令人惊讶的用途？', 'fixedquestion': '衣架的一个令人惊讶的用途是什么？'}, {'prompt': '袜子', 'oldquestion': '什么是袜子的一个令人惊讶的用途？', 'fixedquestion': '袜子的一个令人惊讶的用途是什么？'}, {'prompt': '西瓜', 'oldquestion': '什么是西瓜的一个令人惊讶的用途？', 'fixedquestion': '西瓜的一个令人惊讶的用途是什么？'}, {'prompt': '西瓜皮', 'oldquestion': '什么是西瓜皮的一个令人惊讶的用途？', 'fixedquestion': '西瓜皮的一个令人惊讶的用途是什么？'}]\n",
      "Below is a list of Chinese-language questions for the 'Alternate Uses' task, a measure of creativity where you write down uses for a common object.\n",
      "\n",
      "YOUR TASK: CORRECT THE GRAMMAR AS NECESSARY.\n",
      "\n",
      "The input is as a JSON array of objects with prompt/question keys. The `prompt` is the master reference, the `question` is the potentially erroneous text that may need correction or editing. Don't change the capitalized portion of a question or anything quoted.\n",
      "\n",
      "Respond in a JSON list of objects, where each object has `prompt`, `oldquestion`, and `fixedquestion` keys. Include all responses, even if they didn't need corrections. Surround the response in triple-backticks.\n",
      "\n",
      "## Questions to grammar-check\n",
      "\n",
      "```\n",
      "[{\"prompt\":\"西红柿\",\"question\":\"什么是西红柿的一个令人惊讶的用途？\"},{\"prompt\":\"贝壳\",\"question\":\"什么是贝壳的一个令人惊讶的用途？\"},{\"prompt\":\"轮胎\",\"question\":\"什么是轮胎的一个令人惊讶的用途？\"},{\"prompt\":\"酒瓶\",\"question\":\"什么是酒瓶的一个令人惊讶的用途？\"},{\"prompt\":\"酸奶\",\"question\":\"什么是酸奶的一个令人惊讶的用途？\"},{\"prompt\":\"钉子\",\"question\":\"什么是钉子的一个令人惊讶的用途？\"},{\"prompt\":\"钥匙\",\"question\":\"什么是钥匙的一个令人惊讶的用途？\"},{\"prompt\":\"钳子\",\"question\":\"什么是钳子的一个令人惊讶的用途？\"},{\"prompt\":\"铁链\",\"question\":\"什么是铁链的一个令人惊讶的用途？\"},{\"prompt\":\"铃铛\",\"question\":\"什么是铃铛的一个令人惊讶的用途？\"},{\"prompt\":\"铅笔\",\"question\":\"什么是铅笔的一个令人惊讶的用途？\"},{\"prompt\":\"银行卡\",\"question\":\"什么是银行卡的一个令人惊讶的用途？\"},{\"prompt\":\"锅\",\"question\":\"什么是锅的一个令人惊讶的用途？\"},{\"prompt\":\"镊子\",\"question\":\"什么是镊子的一个令人惊讶的用途？\"},{\"prompt\":\"面团\",\"question\":\"什么是面团的一个令人惊讶的用途？\"},{\"prompt\":\"靴子\",\"question\":\"什么是靴子的一个令人惊讶的用途？\"},{\"prompt\":\"鞋带\",\"question\":\"什么是鞋带的一个令人惊讶的用途？\"},{\"prompt\":\"韭菜\",\"question\":\"什么是韭菜的一个令人惊讶的用途？\"},{\"prompt\":\"音响\",\"question\":\"什么是音响的一个令人惊讶的用途？\"},{\"prompt\":\"领带\",\"question\":\"什么是领带的一个令人惊讶的用途？\"}]\n",
      "```\n",
      "\n",
      "[{'prompt': '西红柿', 'oldquestion': '什么是西红柿的一个令人惊讶的用途？', 'fixedquestion': '西红柿的一个令人惊讶的用途是什么？'}, {'prompt': '贝壳', 'oldquestion': '什么是贝壳的一个令人惊讶的用途？', 'fixedquestion': '贝壳的一个令人惊讶的用途是什么？'}, {'prompt': '轮胎', 'oldquestion': '什么是轮胎的一个令人惊讶的用途？', 'fixedquestion': '轮胎的一个令人惊讶的用途是什么？'}, {'prompt': '酒瓶', 'oldquestion': '什么是酒瓶的一个令人惊讶的用途？', 'fixedquestion': '酒瓶的一个令人惊讶的用途是什么？'}, {'prompt': '酸奶', 'oldquestion': '什么是酸奶的一个令人惊讶的用途？', 'fixedquestion': '酸奶的一个令人惊讶的用途是什么？'}, {'prompt': '钉子', 'oldquestion': '什么是钉子的一个令人惊讶的用途？', 'fixedquestion': '钉子的一个令人惊讶的用途是什么？'}, {'prompt': '钥匙', 'oldquestion': '什么是钥匙的一个令人惊讶的用途？', 'fixedquestion': '钥匙的一个令人惊讶的用途是什么？'}, {'prompt': '钳子', 'oldquestion': '什么是钳子的一个令人惊讶的用途？', 'fixedquestion': '钳子的一个令人惊讶的用途是什么？'}, {'prompt': '铁链', 'oldquestion': '什么是铁链的一个令人惊讶的用途？', 'fixedquestion': '铁链的一个令人惊讶的用途是什么？'}, {'prompt': '铃铛', 'oldquestion': '什么是铃铛的一个令人惊讶的用途？', 'fixedquestion': '铃铛的一个令人惊讶的用途是什么？'}, {'prompt': '铅笔', 'oldquestion': '什么是铅笔的一个令人惊讶的用途？', 'fixedquestion': '铅笔的一个令人惊讶的用途是什么？'}, {'prompt': '银行卡', 'oldquestion': '什么是银行卡的一个令人惊讶的用途？', 'fixedquestion': '银行卡的一个令人惊讶的用途是什么？'}, {'prompt': '锅', 'oldquestion': '什么是锅的一个令人惊讶的用途？', 'fixedquestion': '锅的一个令人惊讶的用途是什么？'}, {'prompt': '镊子', 'oldquestion': '什么是镊子的一个令人惊讶的用途？', 'fixedquestion': '镊子的一个令人惊讶的用途是什么？'}, {'prompt': '面团', 'oldquestion': '什么是面团的一个令人惊讶的用途？', 'fixedquestion': '面团的一个令人惊讶的用途是什么？'}, {'prompt': '靴子', 'oldquestion': '什么是靴子的一个令人惊讶的用途？', 'fixedquestion': '靴子的一个令人惊讶的用途是什么？'}, {'prompt': '鞋带', 'oldquestion': '什么是鞋带的一个令人惊讶的用途？', 'fixedquestion': '鞋带的一个令人惊讶的用途是什么？'}, {'prompt': '韭菜', 'oldquestion': '什么是韭菜的一个令人惊讶的用途？', 'fixedquestion': '韭菜的一个令人惊讶的用途是什么？'}, {'prompt': '音响', 'oldquestion': '什么是音响的一个令人惊讶的用途？', 'fixedquestion': '音响的一个令人惊讶的用途是什么？'}, {'prompt': '领带', 'oldquestion': '什么是领带的一个令人惊讶的用途？', 'fixedquestion': '领带的一个令人惊讶的用途是什么？'}]\n",
      "Below is a list of Chinese-language questions for the 'Alternate Uses' task, a measure of creativity where you write down uses for a common object.\n",
      "\n",
      "YOUR TASK: CORRECT THE GRAMMAR AS NECESSARY.\n",
      "\n",
      "The input is as a JSON array of objects with prompt/question keys. The `prompt` is the master reference, the `question` is the potentially erroneous text that may need correction or editing. Don't change the capitalized portion of a question or anything quoted.\n",
      "\n",
      "Respond in a JSON list of objects, where each object has `prompt`, `oldquestion`, and `fixedquestion` keys. Include all responses, even if they didn't need corrections. Surround the response in triple-backticks.\n",
      "\n",
      "## Questions to grammar-check\n",
      "\n",
      "```\n",
      "[{\"prompt\":\"风车\",\"question\":\"什么是风车的一个令人惊讶的用途？\"},{\"prompt\":\"香蕉\",\"question\":\"什么是香蕉的一个令人惊讶的用途？\"},{\"prompt\":\"马来貘\",\"question\":\"什么是马来貘的一个令人惊讶的用途？\"},{\"prompt\":\"鹅卵石\",\"question\":\"什么是鹅卵石的一个令人惊讶的用途？\"},{\"prompt\":\"黄金\",\"question\":\"什么是黄金的一个令人惊讶的用途？\"}]\n",
      "```\n",
      "\n",
      "[{'prompt': '风车', 'oldquestion': '什么是风车的一个令人惊讶的用途？', 'fixedquestion': '风车的一个令人惊讶的用途是什么？'}, {'prompt': '香蕉', 'oldquestion': '什么是香蕉的一个令人惊讶的用途？', 'fixedquestion': '香蕉的一个令人惊讶的用途是什么？'}, {'prompt': '马来貘', 'oldquestion': '什么是马来貘的一个令人惊讶的用途？', 'fixedquestion': '马来貘的一个令人惊讶的用途是什么？'}, {'prompt': '鹅卵石', 'oldquestion': '什么是鹅卵石的一个令人惊讶的用途？', 'fixedquestion': '鹅卵石的一个令人惊讶的用途是什么？'}, {'prompt': '黄金', 'oldquestion': '什么是黄金的一个令人惊讶的用途？', 'fixedquestion': '黄金的一个令人惊讶的用途是什么？'}]\n"
     ]
    },
    {
     "data": {
      "application/vnd.jupyter.widget-view+json": {
       "model_id": "a42d3e7428454980827745dd757af757",
       "version_major": 2,
       "version_minor": 0
      },
      "text/plain": [
       "  0%|          | 0/1 [00:00<?, ?it/s]"
      ]
     },
     "metadata": {},
     "output_type": "display_data"
    },
    {
     "name": "stdout",
     "output_type": "stream",
     "text": [
      "Below is a list of Dutch-language questions for the 'Alternate Uses' task, a measure of creativity where you write down uses for a common object.\n",
      "\n",
      "YOUR TASK: CORRECT THE GRAMMAR AS NECESSARY.\n",
      "\n",
      "The input is as a JSON array of objects with prompt/question keys. The `prompt` is the master reference, the `question` is the potentially erroneous text that may need correction or editing. Don't change the capitalized portion of a question or anything quoted.\n",
      "\n",
      "Respond in a JSON list of objects, where each object has `prompt`, `oldquestion`, and `fixedquestion` keys. Include all responses, even if they didn't need corrections. Surround the response in triple-backticks.\n",
      "\n",
      "## Questions to grammar-check\n",
      "\n",
      "```\n",
      "[{\"prompt\":\"brick\",\"question\":\"Wat is een verrassend gebruik voor een BRICK?\"},{\"prompt\":\"fork\",\"question\":\"Wat is een verrassend gebruik voor een FORK?\"},{\"prompt\":\"paperclip\",\"question\":\"Wat is een verrassend gebruik voor een PAPERCLIP?\"},{\"prompt\":\"towel\",\"question\":\"Wat is een verrassend gebruik voor een TOWEL?\"}]\n",
      "```\n",
      "\n",
      "[{'prompt': 'brick', 'oldquestion': 'Wat is een verrassend gebruik voor een BRICK?', 'fixedquestion': 'Wat is een verrassend gebruik voor een baksteen?'}, {'prompt': 'fork', 'oldquestion': 'Wat is een verrassend gebruik voor een FORK?', 'fixedquestion': 'Wat is een verrassend gebruik voor een vork?'}, {'prompt': 'paperclip', 'oldquestion': 'Wat is een verrassend gebruik voor een PAPERCLIP?', 'fixedquestion': 'Wat is een verrassend gebruik voor een paperclip?'}, {'prompt': 'towel', 'oldquestion': 'Wat is een verrassend gebruik voor een TOWEL?', 'fixedquestion': 'Wat is een verrassend gebruik voor een handdoek?'}]\n"
     ]
    },
    {
     "data": {
      "application/vnd.jupyter.widget-view+json": {
       "model_id": "06475c4c67f34b76a3b1fa8d3e773a6b",
       "version_major": 2,
       "version_minor": 0
      },
      "text/plain": [
       "  0%|          | 0/2 [00:00<?, ?it/s]"
      ]
     },
     "metadata": {},
     "output_type": "display_data"
    },
    {
     "name": "stdout",
     "output_type": "stream",
     "text": [
      "Below is a list of English-language questions for the 'Alternate Uses' task, a measure of creativity where you write down uses for a common object.\n",
      "\n",
      "YOUR TASK: CORRECT THE GRAMMAR AS NECESSARY.\n",
      "\n",
      "The input is as a JSON array of objects with prompt/question keys. The `prompt` is the master reference, the `question` is the potentially erroneous text that may need correction or editing. Don't change the capitalized portion of a question or anything quoted.\n",
      "\n",
      "Respond in a JSON list of objects, where each object has `prompt`, `oldquestion`, and `fixedquestion` keys. Include all responses, even if they didn't need corrections. Surround the response in triple-backticks.\n",
      "\n",
      "## Questions to grammar-check\n",
      "\n",
      "```\n",
      "[{\"prompt\":\"round\",\"question\":\"What is a surprising thing that is ROUND?\"},{\"prompt\":\"book\",\"question\":\"What is a surprising use for BOOK?\"},{\"prompt\":\"bottle\",\"question\":\"What is a surprising use for BOTTLE?\"},{\"prompt\":\"box\",\"question\":\"What is a surprising use for BOX?\"},{\"prompt\":\"brick\",\"question\":\"What is a surprising use for BRICK?\"},{\"prompt\":\"fork\",\"question\":\"What is a surprising use for FORK?\"},{\"prompt\":\"knife\",\"question\":\"What is a surprising use for KNIFE?\"},{\"prompt\":\"pants\",\"question\":\"What is a surprising use for PANTS?\"},{\"prompt\":\"paperclip\",\"question\":\"What is a surprising use for PAPERCLIP?\"},{\"prompt\":\"rope\",\"question\":\"What is a surprising use for ROPE?\"},{\"prompt\":\"shoe\",\"question\":\"What is a surprising use for SHOE?\"},{\"prompt\":\"shovel\",\"question\":\"What is a surprising use for SHOVEL?\"},{\"prompt\":\"table\",\"question\":\"What is a surprising use for TABLE?\"},{\"prompt\":\"tire\",\"question\":\"What is a surprising use for TIRE?\"},{\"prompt\":\"backpack\",\"question\":\"What is a surprising use for a BACKPACK?\"},{\"prompt\":\"ball\",\"question\":\"What is a surprising use for a BALL?\"},{\"prompt\":\"bottle\",\"question\":\"What is a surprising use for a BOTTLE?\"},{\"prompt\":\"brick\",\"question\":\"What is a surprising use for a BRICK?\"},{\"prompt\":\"hat\",\"question\":\"What is a surprising use for a HAT?\"},{\"prompt\":\"knife\",\"question\":\"What is a surprising use for a KNIFE?\"}]\n",
      "```\n",
      "\n",
      "[{'prompt': 'round', 'oldquestion': 'What is a surprising thing that is ROUND?', 'fixedquestion': 'What is a surprising thing that is ROUND?'}, {'prompt': 'book', 'oldquestion': 'What is a surprising use for BOOK?', 'fixedquestion': 'What is a surprising use for a BOOK?'}, {'prompt': 'bottle', 'oldquestion': 'What is a surprising use for BOTTLE?', 'fixedquestion': 'What is a surprising use for a BOTTLE?'}, {'prompt': 'box', 'oldquestion': 'What is a surprising use for BOX?', 'fixedquestion': 'What is a surprising use for a BOX?'}, {'prompt': 'brick', 'oldquestion': 'What is a surprising use for BRICK?', 'fixedquestion': 'What is a surprising use for a BRICK?'}, {'prompt': 'fork', 'oldquestion': 'What is a surprising use for FORK?', 'fixedquestion': 'What is a surprising use for a FORK?'}, {'prompt': 'knife', 'oldquestion': 'What is a surprising use for KNIFE?', 'fixedquestion': 'What is a surprising use for a KNIFE?'}, {'prompt': 'pants', 'oldquestion': 'What is a surprising use for PANTS?', 'fixedquestion': 'What is a surprising use for PANTS?'}, {'prompt': 'paperclip', 'oldquestion': 'What is a surprising use for PAPERCLIP?', 'fixedquestion': 'What is a surprising use for a PAPERCLIP?'}, {'prompt': 'rope', 'oldquestion': 'What is a surprising use for ROPE?', 'fixedquestion': 'What is a surprising use for a ROPE?'}, {'prompt': 'shoe', 'oldquestion': 'What is a surprising use for SHOE?', 'fixedquestion': 'What is a surprising use for a SHOE?'}, {'prompt': 'shovel', 'oldquestion': 'What is a surprising use for SHOVEL?', 'fixedquestion': 'What is a surprising use for a SHOVEL?'}, {'prompt': 'table', 'oldquestion': 'What is a surprising use for TABLE?', 'fixedquestion': 'What is a surprising use for a TABLE?'}, {'prompt': 'tire', 'oldquestion': 'What is a surprising use for TIRE?', 'fixedquestion': 'What is a surprising use for a TIRE?'}, {'prompt': 'backpack', 'oldquestion': 'What is a surprising use for a BACKPACK?', 'fixedquestion': 'What is a surprising use for a BACKPACK?'}, {'prompt': 'ball', 'oldquestion': 'What is a surprising use for a BALL?', 'fixedquestion': 'What is a surprising use for a BALL?'}, {'prompt': 'bottle', 'oldquestion': 'What is a surprising use for a BOTTLE?', 'fixedquestion': 'What is a surprising use for a BOTTLE?'}, {'prompt': 'brick', 'oldquestion': 'What is a surprising use for a BRICK?', 'fixedquestion': 'What is a surprising use for a BRICK?'}, {'prompt': 'hat', 'oldquestion': 'What is a surprising use for a HAT?', 'fixedquestion': 'What is a surprising use for a HAT?'}, {'prompt': 'knife', 'oldquestion': 'What is a surprising use for a KNIFE?', 'fixedquestion': 'What is a surprising use for a KNIFE?'}]\n",
      "Below is a list of English-language questions for the 'Alternate Uses' task, a measure of creativity where you write down uses for a common object.\n",
      "\n",
      "YOUR TASK: CORRECT THE GRAMMAR AS NECESSARY.\n",
      "\n",
      "The input is as a JSON array of objects with prompt/question keys. The `prompt` is the master reference, the `question` is the potentially erroneous text that may need correction or editing. Don't change the capitalized portion of a question or anything quoted.\n",
      "\n",
      "Respond in a JSON list of objects, where each object has `prompt`, `oldquestion`, and `fixedquestion` keys. Include all responses, even if they didn't need corrections. Surround the response in triple-backticks.\n",
      "\n",
      "## Questions to grammar-check\n",
      "\n",
      "```\n",
      "[{\"prompt\":\"light bulb\",\"question\":\"What is a surprising use for a LIGHT BULB?\"},{\"prompt\":\"pencil\",\"question\":\"What is a surprising use for a PENCIL?\"},{\"prompt\":\"shoe\",\"question\":\"What is a surprising use for a SHOE?\"},{\"prompt\":\"sock\",\"question\":\"What is a surprising use for a SOCK?\"},{\"prompt\":\"spoon\",\"question\":\"What is a surprising use for a SPOON?\"},{\"prompt\":\"toothbrush\",\"question\":\"What is a surprising use for a TOOTHBRUSH?\"}]\n",
      "```\n",
      "\n",
      "[{'prompt': 'light bulb', 'oldquestion': 'What is a surprising use for a LIGHT BULB?', 'fixedquestion': 'What is a surprising use for a LIGHT BULB?'}, {'prompt': 'pencil', 'oldquestion': 'What is a surprising use for a PENCIL?', 'fixedquestion': 'What is a surprising use for a PENCIL?'}, {'prompt': 'shoe', 'oldquestion': 'What is a surprising use for a SHOE?', 'fixedquestion': 'What is a surprising use for a SHOE?'}, {'prompt': 'sock', 'oldquestion': 'What is a surprising use for a SOCK?', 'fixedquestion': 'What is a surprising use for a SOCK?'}, {'prompt': 'spoon', 'oldquestion': 'What is a surprising use for a SPOON?', 'fixedquestion': 'What is a surprising use for a SPOON?'}, {'prompt': 'toothbrush', 'oldquestion': 'What is a surprising use for a TOOTHBRUSH?', 'fixedquestion': 'What is a surprising use for a TOOTHBRUSH?'}]\n"
     ]
    },
    {
     "data": {
      "application/vnd.jupyter.widget-view+json": {
       "model_id": "949d3d45117846a08931020c790bc808",
       "version_major": 2,
       "version_minor": 0
      },
      "text/plain": [
       "  0%|          | 0/1 [00:00<?, ?it/s]"
      ]
     },
     "metadata": {},
     "output_type": "display_data"
    },
    {
     "name": "stdout",
     "output_type": "stream",
     "text": [
      "Below is a list of French-language questions for the 'Alternate Uses' task, a measure of creativity where you write down uses for a common object.\n",
      "\n",
      "YOUR TASK: CORRECT THE GRAMMAR AS NECESSARY.\n",
      "\n",
      "The input is as a JSON array of objects with prompt/question keys. The `prompt` is the master reference, the `question` is the potentially erroneous text that may need correction or editing. Don't change the capitalized portion of a question or anything quoted.\n",
      "\n",
      "Respond in a JSON list of objects, where each object has `prompt`, `oldquestion`, and `fixedquestion` keys. Include all responses, even if they didn't need corrections. Surround the response in triple-backticks.\n",
      "\n",
      "## Questions to grammar-check\n",
      "\n",
      "```\n",
      "[{\"prompt\":\"brouette\",\"question\":\"Quel est un usage surprenant pour un BROUETTE?\"},{\"prompt\":\"ceinture\",\"question\":\"Quel est un usage surprenant pour un CEINTURE?\"},{\"prompt\":\"chapeau\",\"question\":\"Quel est un usage surprenant pour un CHAPEAU?\"}]\n",
      "```\n",
      "\n",
      "[{'prompt': 'brouette', 'oldquestion': 'Quel est un usage surprenant pour un BROUETTE?', 'fixedquestion': 'Quel est un usage surprenant pour une BROUETTE?'}, {'prompt': 'ceinture', 'oldquestion': 'Quel est un usage surprenant pour un CEINTURE?', 'fixedquestion': 'Quel est un usage surprenant pour une CEINTURE?'}, {'prompt': 'chapeau', 'oldquestion': 'Quel est un usage surprenant pour un CHAPEAU?', 'fixedquestion': 'Quel est un usage surprenant pour un CHAPEAU?'}]\n"
     ]
    },
    {
     "data": {
      "application/vnd.jupyter.widget-view+json": {
       "model_id": "96993b6f9a1d46bda318e0e4ac435c1d",
       "version_major": 2,
       "version_minor": 0
      },
      "text/plain": [
       "  0%|          | 0/2 [00:00<?, ?it/s]"
      ]
     },
     "metadata": {},
     "output_type": "display_data"
    },
    {
     "name": "stdout",
     "output_type": "stream",
     "text": [
      "Below is a list of German-language questions for the 'Alternate Uses' task, a measure of creativity where you write down uses for a common object.\n",
      "\n",
      "YOUR TASK: CORRECT THE GRAMMAR AS NECESSARY.\n",
      "\n",
      "The input is as a JSON array of objects with prompt/question keys. The `prompt` is the master reference, the `question` is the potentially erroneous text that may need correction or editing. Don't change the capitalized portion of a question or anything quoted.\n",
      "\n",
      "Respond in a JSON list of objects, where each object has `prompt`, `oldquestion`, and `fixedquestion` keys. Include all responses, even if they didn't need corrections. Surround the response in triple-backticks.\n",
      "\n",
      "## Questions to grammar-check\n",
      "\n",
      "```\n",
      "[{\"prompt\":\"Axt\",\"question\":\"Was ist eine überraschende Verwendung für ein AXT?\"},{\"prompt\":\"Bett\",\"question\":\"Was ist eine überraschende Verwendung für ein BETT?\"},{\"prompt\":\"Büroklammer\",\"question\":\"Was ist eine überraschende Verwendung für ein BÜROKLAMMER?\"},{\"prompt\":\"Erbse\",\"question\":\"Was ist eine überraschende Verwendung für ein ERBSE?\"},{\"prompt\":\"Flöte\",\"question\":\"Was ist eine überraschende Verwendung für ein FLÖTE?\"},{\"prompt\":\"Geige\",\"question\":\"Was ist eine überraschende Verwendung für ein GEIGE?\"},{\"prompt\":\"Gurke\",\"question\":\"Was ist eine überraschende Verwendung für ein GURKE?\"},{\"prompt\":\"haarfoehn\",\"question\":\"Was ist eine überraschende Verwendung für ein HAARFOEHN?\"},{\"prompt\":\"konservendose\",\"question\":\"Was ist eine überraschende Verwendung für ein KONSERVENDOSE?\"},{\"prompt\":\"messer\",\"question\":\"Was ist eine überraschende Verwendung für ein MESSER?\"},{\"prompt\":\"Mülltüte\",\"question\":\"Was ist eine überraschende Verwendung für ein MÜLLTÜTE?\"},{\"prompt\":\"Paprika\",\"question\":\"Was ist eine überraschende Verwendung für ein PAPRIKA?\"},{\"prompt\":\"Schaufel\",\"question\":\"Was ist eine überraschende Verwendung für ein SCHAUFEL?\"},{\"prompt\":\"Schrank\",\"question\":\"Was ist eine überraschende Verwendung für ein SCHRANK?\"},{\"prompt\":\"Seil\",\"question\":\"Was ist eine überraschende Verwendung für ein SEIL?\"},{\"prompt\":\"Stuhl\",\"question\":\"Was ist eine überraschende Verwendung für ein STUHL?\"},{\"prompt\":\"Säge\",\"question\":\"Was ist eine überraschende Verwendung für ein SÄGE?\"},{\"prompt\":\"Tisch\",\"question\":\"Was ist eine überraschende Verwendung für ein TISCH?\"},{\"prompt\":\"Tomate\",\"question\":\"Was ist eine überraschende Verwendung für ein TOMATE?\"},{\"prompt\":\"Trommel\",\"question\":\"Was ist eine überraschende Verwendung für ein TROMMEL?\"}]\n",
      "```\n",
      "\n",
      "[{'prompt': 'Axt', 'oldquestion': 'Was ist eine überraschende Verwendung für ein AXT?', 'fixedquestion': 'Was ist eine überraschende Verwendung für eine AXT?'}, {'prompt': 'Bett', 'oldquestion': 'Was ist eine überraschende Verwendung für ein BETT?', 'fixedquestion': 'Was ist eine überraschende Verwendung für ein BETT?'}, {'prompt': 'Büroklammer', 'oldquestion': 'Was ist eine überraschende Verwendung für ein BÜROKLAMMER?', 'fixedquestion': 'Was ist eine überraschende Verwendung für eine BÜROKLAMMER?'}, {'prompt': 'Erbse', 'oldquestion': 'Was ist eine überraschende Verwendung für ein ERBSE?', 'fixedquestion': 'Was ist eine überraschende Verwendung für eine ERBSE?'}, {'prompt': 'Flöte', 'oldquestion': 'Was ist eine überraschende Verwendung für ein FLÖTE?', 'fixedquestion': 'Was ist eine überraschende Verwendung für eine FLÖTE?'}, {'prompt': 'Geige', 'oldquestion': 'Was ist eine überraschende Verwendung für ein GEIGE?', 'fixedquestion': 'Was ist eine überraschende Verwendung für eine GEIGE?'}, {'prompt': 'Gurke', 'oldquestion': 'Was ist eine überraschende Verwendung für ein GURKE?', 'fixedquestion': 'Was ist eine überraschende Verwendung für eine GURKE?'}, {'prompt': 'haarfoehn', 'oldquestion': 'Was ist eine überraschende Verwendung für ein HAARFOEHN?', 'fixedquestion': 'Was ist eine überraschende Verwendung für einen HAARFOEHN?'}, {'prompt': 'konservendose', 'oldquestion': 'Was ist eine überraschende Verwendung für ein KONSERVENDOSE?', 'fixedquestion': 'Was ist eine überraschende Verwendung für eine KONSERVENDOSE?'}, {'prompt': 'messer', 'oldquestion': 'Was ist eine überraschende Verwendung für ein MESSER?', 'fixedquestion': 'Was ist eine überraschende Verwendung für ein MESSER?'}, {'prompt': 'Mülltüte', 'oldquestion': 'Was ist eine überraschende Verwendung für ein MÜLLTÜTE?', 'fixedquestion': 'Was ist eine überraschende Verwendung für eine MÜLLTÜTE?'}, {'prompt': 'Paprika', 'oldquestion': 'Was ist eine überraschende Verwendung für ein PAPRIKA?', 'fixedquestion': 'Was ist eine überraschende Verwendung für eine PAPRIKA?'}, {'prompt': 'Schaufel', 'oldquestion': 'Was ist eine überraschende Verwendung für ein SCHAUFEL?', 'fixedquestion': 'Was ist eine überraschende Verwendung für eine SCHAUFEL?'}, {'prompt': 'Schrank', 'oldquestion': 'Was ist eine überraschende Verwendung für ein SCHRANK?', 'fixedquestion': 'Was ist eine überraschende Verwendung für einen SCHRANK?'}, {'prompt': 'Seil', 'oldquestion': 'Was ist eine überraschende Verwendung für ein SEIL?', 'fixedquestion': 'Was ist eine überraschende Verwendung für ein SEIL?'}, {'prompt': 'Stuhl', 'oldquestion': 'Was ist eine überraschende Verwendung für ein STUHL?', 'fixedquestion': 'Was ist eine überraschende Verwendung für einen STUHL?'}, {'prompt': 'Säge', 'oldquestion': 'Was ist eine überraschende Verwendung für ein SÄGE?', 'fixedquestion': 'Was ist eine überraschende Verwendung für eine SÄGE?'}, {'prompt': 'Tisch', 'oldquestion': 'Was ist eine überraschende Verwendung für ein TISCH?', 'fixedquestion': 'Was ist eine überraschende Verwendung für einen TISCH?'}, {'prompt': 'Tomate', 'oldquestion': 'Was ist eine überraschende Verwendung für ein TOMATE?', 'fixedquestion': 'Was ist eine überraschende Verwendung für eine TOMATE?'}, {'prompt': 'Trommel', 'oldquestion': 'Was ist eine überraschende Verwendung für ein TROMMEL?', 'fixedquestion': 'Was ist eine überraschende Verwendung für eine TROMMEL?'}]\n",
      "Below is a list of German-language questions for the 'Alternate Uses' task, a measure of creativity where you write down uses for a common object.\n",
      "\n",
      "YOUR TASK: CORRECT THE GRAMMAR AS NECESSARY.\n",
      "\n",
      "The input is as a JSON array of objects with prompt/question keys. The `prompt` is the master reference, the `question` is the potentially erroneous text that may need correction or editing. Don't change the capitalized portion of a question or anything quoted.\n",
      "\n",
      "Respond in a JSON list of objects, where each object has `prompt`, `oldquestion`, and `fixedquestion` keys. Include all responses, even if they didn't need corrections. Surround the response in triple-backticks.\n",
      "\n",
      "## Questions to grammar-check\n",
      "\n",
      "```\n",
      "[{\"prompt\":\"Trompete\",\"question\":\"Was ist eine überraschende Verwendung für ein TROMPETE?\"},{\"prompt\":\"Zange\",\"question\":\"Was ist eine überraschende Verwendung für ein ZANGE?\"}]\n",
      "```\n",
      "\n",
      "[{'prompt': 'Trompete', 'oldquestion': 'Was ist eine überraschende Verwendung für ein TROMPETE?', 'fixedquestion': 'Was ist eine überraschende Verwendung für eine TROMPETE?'}, {'prompt': 'Zange', 'oldquestion': 'Was ist eine überraschende Verwendung für ein ZANGE?', 'fixedquestion': 'Was ist eine überraschende Verwendung für eine ZANGE?'}]\n"
     ]
    },
    {
     "data": {
      "application/vnd.jupyter.widget-view+json": {
       "model_id": "dec986c495ff4beb8640bd3fcc197a83",
       "version_major": 2,
       "version_minor": 0
      },
      "text/plain": [
       "  0%|          | 0/1 [00:00<?, ?it/s]"
      ]
     },
     "metadata": {},
     "output_type": "display_data"
    },
    {
     "name": "stdout",
     "output_type": "stream",
     "text": [
      "Below is a list of Hebrew-language questions for the 'Alternate Uses' task, a measure of creativity where you write down uses for a common object.\n",
      "\n",
      "YOUR TASK: CORRECT THE GRAMMAR AS NECESSARY.\n",
      "\n",
      "The input is as a JSON array of objects with prompt/question keys. The `prompt` is the master reference, the `question` is the potentially erroneous text that may need correction or editing. Don't change the capitalized portion of a question or anything quoted.\n",
      "\n",
      "Respond in a JSON list of objects, where each object has `prompt`, `oldquestion`, and `fixedquestion` keys. Include all responses, even if they didn't need corrections. Surround the response in triple-backticks.\n",
      "\n",
      "## Questions to grammar-check\n",
      "\n",
      "```\n",
      "[{\"prompt\":\"כיסא\",\"question\":\"מהו שימוש מפתיע לכיסא?\"},{\"prompt\":\"כרית\",\"question\":\"מהו שימוש מפתיע לכרית?\"},{\"prompt\":\"מברג\",\"question\":\"מהו שימוש מפתיע למברג?\"},{\"prompt\":\"מטאטא\",\"question\":\"מהו שימוש מפתיע למטאטא?\"},{\"prompt\":\"נעל\",\"question\":\"מהו שימוש מפתיע לנעל?\"},{\"prompt\":\"סכין\",\"question\":\"מהו שימוש מפתיע לסכין?\"},{\"prompt\":\"עיפרון\",\"question\":\"מהו שימוש מפתיע לעיפרון?\"},{\"prompt\":\"עיתון\",\"question\":\"מהו שימוש מפתיע לעיתון?\"},{\"prompt\":\"צמיג\",\"question\":\"מהו שימוש מפתיע לצמיג?\"},{\"prompt\":\"קולב\",\"question\":\"מהו שימוש מפתיע לקולב?\"}]\n",
      "```\n",
      "\n",
      "[{'prompt': 'כיסא', 'oldquestion': 'מהו שימוש מפתיע לכיסא?', 'fixedquestion': 'מהו שימוש מפתיע לכיסא?'}, {'prompt': 'כרית', 'oldquestion': 'מהו שימוש מפתיע לכרית?', 'fixedquestion': 'מהו שימוש מפתיע לכרית?'}, {'prompt': 'מברג', 'oldquestion': 'מהו שימוש מפתיע למברג?', 'fixedquestion': 'מהו שימוש מפתיע למברג?'}, {'prompt': 'מטאטא', 'oldquestion': 'מהו שימוש מפתיע למטאטא?', 'fixedquestion': 'מהו שימוש מפתיע למטאטא?'}, {'prompt': 'נעל', 'oldquestion': 'מהו שימוש מפתיע לנעל?', 'fixedquestion': 'מהו שימוש מפתיע לנעל?'}, {'prompt': 'סכין', 'oldquestion': 'מהו שימוש מפתיע לסכין?', 'fixedquestion': 'מהו שימוש מפתיע לסכין?'}, {'prompt': 'עיפרון', 'oldquestion': 'מהו שימוש מפתיע לעיפרון?', 'fixedquestion': 'מהו שימוש מפתיע לעיפרון?'}, {'prompt': 'עיתון', 'oldquestion': 'מהו שימוש מפתיע לעיתון?', 'fixedquestion': 'מהו שימוש מפתיע לעיתון?'}, {'prompt': 'צמיג', 'oldquestion': 'מהו שימוש מפתיע לצמיג?', 'fixedquestion': 'מהו שימוש מפתיע לצמיג?'}, {'prompt': 'קולב', 'oldquestion': 'מהו שימוש מפתיע לקולב?', 'fixedquestion': 'מהו שימוש מפתיע לקולב?'}]\n"
     ]
    },
    {
     "data": {
      "application/vnd.jupyter.widget-view+json": {
       "model_id": "a746a63ad07e4dc686fd5bb5ba6acba9",
       "version_major": 2,
       "version_minor": 0
      },
      "text/plain": [
       "  0%|          | 0/2 [00:00<?, ?it/s]"
      ]
     },
     "metadata": {},
     "output_type": "display_data"
    },
    {
     "name": "stdout",
     "output_type": "stream",
     "text": [
      "Below is a list of Italian-language questions for the 'Alternate Uses' task, a measure of creativity where you write down uses for a common object.\n",
      "\n",
      "YOUR TASK: CORRECT THE GRAMMAR AS NECESSARY.\n",
      "\n",
      "The input is as a JSON array of objects with prompt/question keys. The `prompt` is the master reference, the `question` is the potentially erroneous text that may need correction or editing. Don't change the capitalized portion of a question or anything quoted.\n",
      "\n",
      "Respond in a JSON list of objects, where each object has `prompt`, `oldquestion`, and `fixedquestion` keys. Include all responses, even if they didn't need corrections. Surround the response in triple-backticks.\n",
      "\n",
      "## Questions to grammar-check\n",
      "\n",
      "```\n",
      "[{\"prompt\":\"accendino\",\"question\":\"Qual è un uso sorprendente per un ACCENDINO?\"},{\"prompt\":\"accetta\",\"question\":\"Qual è un uso sorprendente per un ACCETTA?\"},{\"prompt\":\"appendino\",\"question\":\"Qual è un uso sorprendente per un APPENDINO?\"},{\"prompt\":\"aspirapolvere\",\"question\":\"Qual è un uso sorprendente per un ASPIRAPOLVERE?\"},{\"prompt\":\"Attaccapanni\",\"question\":\"Qual è un uso sorprendente per un ATTACCAPANNI?\"},{\"prompt\":\"banana\",\"question\":\"Qual è un uso sorprendente per un BANANA?\"},{\"prompt\":\"barattolo\",\"question\":\"Qual è un uso sorprendente per un BARATTOLO?\"},{\"prompt\":\"Barile\",\"question\":\"Qual è un uso sorprendente per un BARILE?\"},{\"prompt\":\"bicicletta\",\"question\":\"Qual è un uso sorprendente per un BICICLETTA?\"},{\"prompt\":\"borsa\",\"question\":\"Qual è un uso sorprendente per un BORSA?\"},{\"prompt\":\"botte\",\"question\":\"Qual è un uso sorprendente per un BOTTE?\"},{\"prompt\":\"Bottiglia di plastica\",\"question\":\"Qual è un uso sorprendente per un BOTTIGLIA DI PLASTICA?\"},{\"prompt\":\"bottiglietta\",\"question\":\"Qual è un uso sorprendente per un BOTTIGLIETTA?\"},{\"prompt\":\"capello\",\"question\":\"Qual è un uso sorprendente per un CAPELLO?\"},{\"prompt\":\"cappello\",\"question\":\"Qual è un uso sorprendente per un CAPPELLO?\"},{\"prompt\":\"cestino\",\"question\":\"Qual è un uso sorprendente per un CESTINO?\"},{\"prompt\":\"coltello\",\"question\":\"Qual è un uso sorprendente per un COLTELLO?\"},{\"prompt\":\"cucchiaio\",\"question\":\"Qual è un uso sorprendente per un CUCCHIAIO?\"},{\"prompt\":\"graffetta\",\"question\":\"Qual è un uso sorprendente per un GRAFFETTA?\"},{\"prompt\":\"guanto\",\"question\":\"Qual è un uso sorprendente per un GUANTO?\"}]\n",
      "```\n",
      "\n",
      "[{'prompt': 'accendino', 'oldquestion': 'Qual è un uso sorprendente per un ACCENDINO?', 'fixedquestion': 'Qual è un uso sorprendente per un ACCENDINO?'}, {'prompt': 'accetta', 'oldquestion': 'Qual è un uso sorprendente per un ACCETTA?', 'fixedquestion': \"Qual è un uso sorprendente per un'ACCETTA?\"}, {'prompt': 'appendino', 'oldquestion': 'Qual è un uso sorprendente per un APPENDINO?', 'fixedquestion': 'Qual è un uso sorprendente per un APPENDINO?'}, {'prompt': 'aspirapolvere', 'oldquestion': 'Qual è un uso sorprendente per un ASPIRAPOLVERE?', 'fixedquestion': 'Qual è un uso sorprendente per un ASPIRAPOLVERE?'}, {'prompt': 'Attaccapanni', 'oldquestion': 'Qual è un uso sorprendente per un ATTACCAPANNI?', 'fixedquestion': 'Qual è un uso sorprendente per un ATTACCAPANNI?'}, {'prompt': 'banana', 'oldquestion': 'Qual è un uso sorprendente per un BANANA?', 'fixedquestion': 'Qual è un uso sorprendente per una BANANA?'}, {'prompt': 'barattolo', 'oldquestion': 'Qual è un uso sorprendente per un BARATTOLO?', 'fixedquestion': 'Qual è un uso sorprendente per un BARATTOLO?'}, {'prompt': 'Barile', 'oldquestion': 'Qual è un uso sorprendente per un BARILE?', 'fixedquestion': 'Qual è un uso sorprendente per un BARILE?'}, {'prompt': 'bicicletta', 'oldquestion': 'Qual è un uso sorprendente per un BICICLETTA?', 'fixedquestion': 'Qual è un uso sorprendente per una BICICLETTA?'}, {'prompt': 'borsa', 'oldquestion': 'Qual è un uso sorprendente per un BORSA?', 'fixedquestion': 'Qual è un uso sorprendente per una BORSA?'}, {'prompt': 'botte', 'oldquestion': 'Qual è un uso sorprendente per un BOTTE?', 'fixedquestion': 'Qual è un uso sorprendente per una BOTTE?'}, {'prompt': 'Bottiglia di plastica', 'oldquestion': 'Qual è un uso sorprendente per un BOTTIGLIA DI PLASTICA?', 'fixedquestion': 'Qual è un uso sorprendente per una BOTTIGLIA DI PLASTICA?'}, {'prompt': 'bottiglietta', 'oldquestion': 'Qual è un uso sorprendente per un BOTTIGLIETTA?', 'fixedquestion': 'Qual è un uso sorprendente per una BOTTIGLIETTA?'}, {'prompt': 'capello', 'oldquestion': 'Qual è un uso sorprendente per un CAPELLO?', 'fixedquestion': 'Qual è un uso sorprendente per un CAPELLO?'}, {'prompt': 'cappello', 'oldquestion': 'Qual è un uso sorprendente per un CAPPELLO?', 'fixedquestion': 'Qual è un uso sorprendente per un CAPPELLO?'}, {'prompt': 'cestino', 'oldquestion': 'Qual è un uso sorprendente per un CESTINO?', 'fixedquestion': 'Qual è un uso sorprendente per un CESTINO?'}, {'prompt': 'coltello', 'oldquestion': 'Qual è un uso sorprendente per un COLTELLO?', 'fixedquestion': 'Qual è un uso sorprendente per un COLTELLO?'}, {'prompt': 'cucchiaio', 'oldquestion': 'Qual è un uso sorprendente per un CUCCHIAIO?', 'fixedquestion': 'Qual è un uso sorprendente per un CUCCHIAIO?'}, {'prompt': 'graffetta', 'oldquestion': 'Qual è un uso sorprendente per un GRAFFETTA?', 'fixedquestion': 'Qual è un uso sorprendente per una GRAFFETTA?'}, {'prompt': 'guanto', 'oldquestion': 'Qual è un uso sorprendente per un GUANTO?', 'fixedquestion': 'Qual è un uso sorprendente per un GUANTO?'}]\n",
      "Below is a list of Italian-language questions for the 'Alternate Uses' task, a measure of creativity where you write down uses for a common object.\n",
      "\n",
      "YOUR TASK: CORRECT THE GRAMMAR AS NECESSARY.\n",
      "\n",
      "The input is as a JSON array of objects with prompt/question keys. The `prompt` is the master reference, the `question` is the potentially erroneous text that may need correction or editing. Don't change the capitalized portion of a question or anything quoted.\n",
      "\n",
      "Respond in a JSON list of objects, where each object has `prompt`, `oldquestion`, and `fixedquestion` keys. Include all responses, even if they didn't need corrections. Surround the response in triple-backticks.\n",
      "\n",
      "## Questions to grammar-check\n",
      "\n",
      "```\n",
      "[{\"prompt\":\"Lampadina\",\"question\":\"Qual è un uso sorprendente per un LAMPADINA?\"},{\"prompt\":\"lampadina\",\"question\":\"Qual è un uso sorprendente per un LAMPADINA?\"},{\"prompt\":\"Libro\",\"question\":\"Qual è un uso sorprendente per un LIBRO?\"},{\"prompt\":\"libro\",\"question\":\"Qual è un uso sorprendente per un LIBRO?\"},{\"prompt\":\"martello\",\"question\":\"Qual è un uso sorprendente per un MARTELLO?\"},{\"prompt\":\"mattone\",\"question\":\"Qual è un uso sorprendente per un MATTONE?\"},{\"prompt\":\"Sedia\",\"question\":\"Qual è un uso sorprendente per un SEDIA?\"}]\n",
      "```\n",
      "\n",
      "[{'prompt': 'Lampadina', 'oldquestion': 'Qual è un uso sorprendente per un LAMPADINA?', 'fixedquestion': 'Qual è un uso sorprendente per una LAMPADINA?'}, {'prompt': 'lampadina', 'oldquestion': 'Qual è un uso sorprendente per un LAMPADINA?', 'fixedquestion': 'Qual è un uso sorprendente per una LAMPADINA?'}, {'prompt': 'Libro', 'oldquestion': 'Qual è un uso sorprendente per un LIBRO?', 'fixedquestion': 'Qual è un uso sorprendente per un LIBRO?'}, {'prompt': 'libro', 'oldquestion': 'Qual è un uso sorprendente per un LIBRO?', 'fixedquestion': 'Qual è un uso sorprendente per un LIBRO?'}, {'prompt': 'martello', 'oldquestion': 'Qual è un uso sorprendente per un MARTELLO?', 'fixedquestion': 'Qual è un uso sorprendente per un MARTELLO?'}, {'prompt': 'mattone', 'oldquestion': 'Qual è un uso sorprendente per un MATTONE?', 'fixedquestion': 'Qual è un uso sorprendente per un MATTONE?'}, {'prompt': 'Sedia', 'oldquestion': 'Qual è un uso sorprendente per un SEDIA?', 'fixedquestion': 'Qual è un uso sorprendente per una SEDIA?'}]\n"
     ]
    },
    {
     "data": {
      "application/vnd.jupyter.widget-view+json": {
       "model_id": "5211631044ff45d7a9df3538326138e3",
       "version_major": 2,
       "version_minor": 0
      },
      "text/plain": [
       "  0%|          | 0/1 [00:00<?, ?it/s]"
      ]
     },
     "metadata": {},
     "output_type": "display_data"
    },
    {
     "name": "stdout",
     "output_type": "stream",
     "text": [
      "Below is a list of Polish-language questions for the 'Alternate Uses' task, a measure of creativity where you write down uses for a common object.\n",
      "\n",
      "YOUR TASK: CORRECT THE GRAMMAR AS NECESSARY.\n",
      "\n",
      "The input is as a JSON array of objects with prompt/question keys. The `prompt` is the master reference, the `question` is the potentially erroneous text that may need correction or editing. Don't change the capitalized portion of a question or anything quoted.\n",
      "\n",
      "Respond in a JSON list of objects, where each object has `prompt`, `oldquestion`, and `fixedquestion` keys. Include all responses, even if they didn't need corrections. Surround the response in triple-backticks.\n",
      "\n",
      "## Questions to grammar-check\n",
      "\n",
      "```\n",
      "[{\"prompt\":\"cegła\",\"question\":\"Jakie jest zaskakujące zastosowanie dla CEGŁA?\"},{\"prompt\":\"puszka\",\"question\":\"Jakie jest zaskakujące zastosowanie dla PUSZKA?\"},{\"prompt\":\"sznurek\",\"question\":\"Jakie jest zaskakujące zastosowanie dla SZNUREK?\"}]\n",
      "```\n",
      "\n",
      "[{'prompt': 'cegła', 'oldquestion': 'Jakie jest zaskakujące zastosowanie dla CEGŁA?', 'fixedquestion': 'Jakie jest zaskakujące zastosowanie dla CEGŁY?'}, {'prompt': 'puszka', 'oldquestion': 'Jakie jest zaskakujące zastosowanie dla PUSZKA?', 'fixedquestion': 'Jakie jest zaskakujące zastosowanie dla PUSZKI?'}, {'prompt': 'sznurek', 'oldquestion': 'Jakie jest zaskakujące zastosowanie dla SZNUREK?', 'fixedquestion': 'Jakie jest zaskakujące zastosowanie dla SZNUREKA?'}]\n"
     ]
    },
    {
     "data": {
      "application/vnd.jupyter.widget-view+json": {
       "model_id": "e154885a5bcc45fc907d9b59baf04d7a",
       "version_major": 2,
       "version_minor": 0
      },
      "text/plain": [
       "  0%|          | 0/1 [00:00<?, ?it/s]"
      ]
     },
     "metadata": {},
     "output_type": "display_data"
    },
    {
     "name": "stdout",
     "output_type": "stream",
     "text": [
      "Below is a list of Russian-language questions for the 'Alternate Uses' task, a measure of creativity where you write down uses for a common object.\n",
      "\n",
      "YOUR TASK: CORRECT THE GRAMMAR AS NECESSARY.\n",
      "\n",
      "The input is as a JSON array of objects with prompt/question keys. The `prompt` is the master reference, the `question` is the potentially erroneous text that may need correction or editing. Don't change the capitalized portion of a question or anything quoted.\n",
      "\n",
      "Respond in a JSON list of objects, where each object has `prompt`, `oldquestion`, and `fixedquestion` keys. Include all responses, even if they didn't need corrections. Surround the response in triple-backticks.\n",
      "\n",
      "## Questions to grammar-check\n",
      "\n",
      "```\n",
      "[{\"prompt\":\"газета\",\"question\":\"Какое удивительное применение для ГАЗЕТА?\"},{\"prompt\":\"деревянная линейка\",\"question\":\"Какое удивительное применение для ДЕРЕВЯННАЯ ЛИНЕЙКА?\"},{\"prompt\":\"картонная коробка\",\"question\":\"Какое удивительное применение для КАРТОННАЯ КОРОБКА?\"}]\n",
      "```\n",
      "\n",
      "[{'prompt': 'газета', 'oldquestion': 'Какое удивительное применение для ГАЗЕТА?', 'fixedquestion': 'Какое удивительное применение для ГАЗЕТЫ?'}, {'prompt': 'деревянная линейка', 'oldquestion': 'Какое удивительное применение для ДЕРЕВЯННАЯ ЛИНЕЙКА?', 'fixedquestion': 'Какое удивительное применение для ДЕРЕВЯННОЙ ЛИНЕЙКИ?'}, {'prompt': 'картонная коробка', 'oldquestion': 'Какое удивительное применение для КАРТОННАЯ КОРОБКА?', 'fixedquestion': 'Какое удивительное применение для КАРТОННОЙ КОРОБКИ?'}]\n"
     ]
    },
    {
     "data": {
      "application/vnd.jupyter.widget-view+json": {
       "model_id": "00f39c6b321f464bae219c055ce34395",
       "version_major": 2,
       "version_minor": 0
      },
      "text/plain": [
       "  0%|          | 0/1 [00:00<?, ?it/s]"
      ]
     },
     "metadata": {},
     "output_type": "display_data"
    },
    {
     "name": "stdout",
     "output_type": "stream",
     "text": [
      "Below is a list of Spanish-language questions for the 'Alternate Uses' task, a measure of creativity where you write down uses for a common object.\n",
      "\n",
      "YOUR TASK: CORRECT THE GRAMMAR AS NECESSARY.\n",
      "\n",
      "The input is as a JSON array of objects with prompt/question keys. The `prompt` is the master reference, the `question` is the potentially erroneous text that may need correction or editing. Don't change the capitalized portion of a question or anything quoted.\n",
      "\n",
      "Respond in a JSON list of objects, where each object has `prompt`, `oldquestion`, and `fixedquestion` keys. Include all responses, even if they didn't need corrections. Surround the response in triple-backticks.\n",
      "\n",
      "## Questions to grammar-check\n",
      "\n",
      "```\n",
      "[{\"prompt\":\"ladrillo\",\"question\":\"¿Cuál es un uso sorprendente para un LADRILLO?\"}]\n",
      "```\n",
      "\n",
      "[{'prompt': 'ladrillo', 'oldquestion': '¿Cuál es un uso sorprendente para un LADRILLO?', 'fixedquestion': '¿Cuál es un uso sorprendente para un LADRILLO?'}]\n"
     ]
    }
   ],
   "source": [
    "data = pd.read_csv('../data/ocsai-all.csv')\n",
    "unique = data[['language', 'type', 'prompt', 'question']].drop_duplicates()\n",
    "type_groups = unique.groupby(['type', 'language'])\n",
    "all_responses = []\n",
    "\n",
    "for (test_type, language), group in tqdm(type_groups):\n",
    "    # batch `group` dataframe into subdataframes with 20 rows at a time\n",
    "    for batch_n in tqdm(range(0, len(group), 20)):    \n",
    "        batch = group.iloc[batch_n:batch_n+20]\n",
    "        question_in = batch[['prompt', 'question']].to_json(orient='records', force_ascii=False)\n",
    "        #print(question_in)\n",
    "        prompt = prompt_template.format(lang_ref[language], type_ref[test_type]['name'], type_ref[test_type]['desc'], question_in)\n",
    "        print(prompt)\n",
    "\n",
    "        response = openai.ChatCompletion.create(\n",
    "            model=\"gpt-4\",\n",
    "            messages = [\n",
    "                {\"role\": \"system\", \"content\": \"You are a helpful, multi-lingual editor.\"},\n",
    "                {\"role\": \"user\", \"content\": prompt},\n",
    "            ],\n",
    "            temperature=0\n",
    "            )\n",
    "        content = response['choices'][0]['message']['content']\n",
    "        content = content.replace('```json', '```').split('```')[1]\n",
    "        content_parsed = json.loads(content)\n",
    "\n",
    "        print(content_parsed)\n",
    "        for obj in content_parsed:\n",
    "            obj['type'] = test_type\n",
    "            obj['lang'] = language\n",
    "            all_responses.append(obj)"
   ]
  },
  {
   "cell_type": "code",
   "execution_count": null,
   "metadata": {},
   "outputs": [],
   "source": [
    "# inspect the fixes and save them\n",
    "df = pd.DataFrame(all_responses)\n",
    "for i, row in df[df.oldquestion != df.fixedquestion].iterrows():\n",
    "    print(row.oldquestion)\n",
    "    print(row.fixedquestion)\n",
    "    print()\n",
    "df.to_csv('../data/question_fixes.csv', index=False)"
   ]
  },
  {
   "cell_type": "code",
   "execution_count": 51,
   "metadata": {},
   "outputs": [
    {
     "data": {
      "text/plain": [
       "{'ara': {'uses': {'Tin cans': 'ما هو الاستخدام المفاجئ لـ TIN CANS؟'}},\n",
       " 'chi': {'uses': {'光盘': '光盘有什么令人惊讶的用途？',\n",
       "   '冰块': '冰块有什么令人惊讶的用途？',\n",
       "   '勺子': '勺子有什么令人惊讶的用途？',\n",
       "   '南瓜': '南瓜有什么令人惊讶的用途？',\n",
       "   '卫生纸': '卫生纸有什么令人惊讶的用途？',\n",
       "   '发带': '发带有什么令人惊讶的用途？',\n",
       "   '发簪': '发簪有什么令人惊讶的用途？',\n",
       "   '台灯': '台灯有什么令人惊讶的用途？',\n",
       "   '吸管': '吸管有什么令人惊讶的用途？',\n",
       "   '吹风机': '吹风机有什么令人惊讶的用途？',\n",
       "   '咖啡': '咖啡有什么令人惊讶的用途？',\n",
       "   '喇叭': '喇叭有什么令人惊讶的用途？',\n",
       "   '围巾': '围巾有什么令人惊讶的用途？',\n",
       "   '图钉': '图钉有什么令人惊讶的用途？',\n",
       "   '土豆': '土豆有什么令人惊讶的用途？',\n",
       "   '地图': '地图有什么令人惊讶的用途？',\n",
       "   '塑料袋': '塑料袋有什么令人惊讶的用途？',\n",
       "   '墨水': '墨水有什么令人惊讶的用途？',\n",
       "   '头发': '头发有什么令人惊讶的用途？',\n",
       "   '夹子': '夹子有什么令人惊讶的用途？',\n",
       "   '字典': '字典的一个令人惊讶的用途是什么？',\n",
       "   '小米': '小米的一个令人惊讶的用途是什么？',\n",
       "   '床单': '床单的一个令人惊讶的用途是什么？',\n",
       "   '弹弓': '弹弓的一个令人惊讶的用途是什么？',\n",
       "   '戒指': '戒指的一个令人惊讶的用途是什么？',\n",
       "   '扇子': '扇子的一个令人惊讶的用途是什么？',\n",
       "   '手套': '手套的一个令人惊讶的用途是什么？',\n",
       "   '扑克': '扑克的一个令人惊讶的用途是什么？',\n",
       "   '报纸': '报纸的一个令人惊讶的用途是什么？',\n",
       "   '拖鞋': '拖鞋的一个令人惊讶的用途是什么？',\n",
       "   '擀面杖': '擀面杖的一个令人惊讶的用途是什么？',\n",
       "   '无花果': '无花果的一个令人惊讶的用途是什么？',\n",
       "   '易拉罐': '易拉罐的一个令人惊讶的用途是什么？',\n",
       "   '曲别针': '曲别针的一个令人惊讶的用途是什么？',\n",
       "   '木头': '木头的一个令人惊讶的用途是什么？',\n",
       "   '杯子': '杯子的一个令人惊讶的用途是什么？',\n",
       "   '柳条': '柳条的一个令人惊讶的用途是什么？',\n",
       "   '柳树': '柳树的一个令人惊讶的用途是什么？',\n",
       "   '柿子': '柿子的一个令人惊讶的用途是什么？',\n",
       "   '核桃': '核桃的一个令人惊讶的用途是什么？',\n",
       "   '梳子': '梳子的一个令人惊讶的用途是什么？',\n",
       "   '棉签': '棉签的一个令人惊讶的用途是什么？',\n",
       "   '椰子': '椰子的一个令人惊讶的用途是什么？',\n",
       "   '橄榄油': '橄榄油的一个令人惊讶的用途是什么？',\n",
       "   '橡皮擦': '橡皮擦的一个令人惊讶的用途是什么？',\n",
       "   '毛巾': '毛巾的一个令人惊讶的用途是什么？',\n",
       "   '毛笔': '毛笔的一个令人惊讶的用途是什么？',\n",
       "   '气球': '气球的一个令人惊讶的用途是什么？',\n",
       "   '水壶': '水壶的一个令人惊讶的用途是什么？',\n",
       "   '浴缸': '浴缸的一个令人惊讶的用途是什么？',\n",
       "   '温度计': '温度计的一个令人惊讶的用途是什么？',\n",
       "   '漏斗': '漏斗的一个令人惊讶的用途是什么？',\n",
       "   '灌木': '灌木的一个令人惊讶的用途是什么？',\n",
       "   '火柴': '火柴的一个令人惊讶的用途是什么？',\n",
       "   '牙刷': '牙刷的一个令人惊讶的用途是什么？',\n",
       "   '牙签': '牙签的一个令人惊讶的用途是什么？',\n",
       "   '牙膏': '牙膏的一个令人惊讶的用途是什么？',\n",
       "   '狐狸': '狐狸的一个令人惊讶的用途是什么？',\n",
       "   '玉米': '玉米的一个令人惊讶的用途是什么？',\n",
       "   '球拍': '球拍的一个令人惊讶的用途是什么？',\n",
       "   '生姜': '生姜有什么令人惊讶的用途？',\n",
       "   '画像': '画像有什么令人惊讶的用途？',\n",
       "   '白纸': '白纸有什么令人惊讶的用途？',\n",
       "   '白酒': '白酒有什么令人惊讶的用途？',\n",
       "   '皮带': '皮带有什么令人惊讶的用途？',\n",
       "   '皮筋': '皮筋有什么令人惊讶的用途？',\n",
       "   '盘子': '盘子有什么令人惊讶的用途？',\n",
       "   '相机': '相机有什么令人惊讶的用途？',\n",
       "   '砖头': '砖头有什么令人惊讶的用途？',\n",
       "   '硬币': '硬币有什么令人惊讶的用途？',\n",
       "   '磁铁': '磁铁有什么令人惊讶的用途？',\n",
       "   '积木': '积木有什么令人惊讶的用途？',\n",
       "   '窗帘': '窗帘有什么令人惊讶的用途？',\n",
       "   '笛子': '笛子有什么令人惊讶的用途？',\n",
       "   '筷子': '筷子有什么令人惊讶的用途？',\n",
       "   '算盘': '算盘有什么令人惊讶的用途？',\n",
       "   '红酒': '红酒有什么令人惊讶的用途？',\n",
       "   '纸巾': '纸巾有什么令人惊讶的用途？',\n",
       "   '纸杯': '纸杯有什么令人惊讶的用途？',\n",
       "   '纸盒': '纸盒有什么令人惊讶的用途？',\n",
       "   '纽扣': '纽扣的一个令人惊讶的用途是什么？',\n",
       "   '耳机': '耳机的一个令人惊讶的用途是什么？',\n",
       "   '耳机线': '耳机线的一个令人惊讶的用途是什么？',\n",
       "   '胶水': '胶水的一个令人惊讶的用途是什么？',\n",
       "   '船桨': '船桨的一个令人惊讶的用途是什么？',\n",
       "   '芦荟': '芦荟的一个令人惊讶的用途是什么？',\n",
       "   '花椒': '花椒的一个令人惊讶的用途是什么？',\n",
       "   '花瓣': '花瓣的一个令人惊讶的用途是什么？',\n",
       "   '花生': '花生的一个令人惊讶的用途是什么？',\n",
       "   '茶壶': '茶壶的一个令人惊讶的用途是什么？',\n",
       "   '荷叶': '荷叶的一个令人惊讶的用途是什么？',\n",
       "   '蚊帐': '蚊帐的一个令人惊讶的用途是什么？',\n",
       "   '蛋壳': '蛋壳的一个令人惊讶的用途是什么？',\n",
       "   '蛋清': '蛋清的一个令人惊讶的用途是什么？',\n",
       "   '蛋糕': '蛋糕的一个令人惊讶的用途是什么？',\n",
       "   '蜡烛': '蜡烛的一个令人惊讶的用途是什么？',\n",
       "   '衣架': '衣架的一个令人惊讶的用途是什么？',\n",
       "   '袜子': '袜子的一个令人惊讶的用途是什么？',\n",
       "   '西瓜': '西瓜的一个令人惊讶的用途是什么？',\n",
       "   '西瓜皮': '西瓜皮的一个令人惊讶的用途是什么？',\n",
       "   '西红柿': '西红柿的一个令人惊讶的用途是什么？',\n",
       "   '贝壳': '贝壳的一个令人惊讶的用途是什么？',\n",
       "   '轮胎': '轮胎的一个令人惊讶的用途是什么？',\n",
       "   '酒瓶': '酒瓶的一个令人惊讶的用途是什么？',\n",
       "   '酸奶': '酸奶的一个令人惊讶的用途是什么？',\n",
       "   '钉子': '钉子的一个令人惊讶的用途是什么？',\n",
       "   '钥匙': '钥匙的一个令人惊讶的用途是什么？',\n",
       "   '钳子': '钳子的一个令人惊讶的用途是什么？',\n",
       "   '铁链': '铁链的一个令人惊讶的用途是什么？',\n",
       "   '铃铛': '铃铛的一个令人惊讶的用途是什么？',\n",
       "   '铅笔': '铅笔的一个令人惊讶的用途是什么？',\n",
       "   '银行卡': '银行卡的一个令人惊讶的用途是什么？',\n",
       "   '锅': '锅的一个令人惊讶的用途是什么？',\n",
       "   '镊子': '镊子的一个令人惊讶的用途是什么？',\n",
       "   '面团': '面团的一个令人惊讶的用途是什么？',\n",
       "   '靴子': '靴子的一个令人惊讶的用途是什么？',\n",
       "   '鞋带': '鞋带的一个令人惊讶的用途是什么？',\n",
       "   '韭菜': '韭菜的一个令人惊讶的用途是什么？',\n",
       "   '音响': '音响的一个令人惊讶的用途是什么？',\n",
       "   '领带': '领带的一个令人惊讶的用途是什么？',\n",
       "   '风车': '风车的一个令人惊讶的用途是什么？',\n",
       "   '香蕉': '香蕉的一个令人惊讶的用途是什么？',\n",
       "   '马来貘': '马来貘的一个令人惊讶的用途是什么？',\n",
       "   '鹅卵石': '鹅卵石的一个令人惊讶的用途是什么？',\n",
       "   '黄金': '黄金的一个令人惊讶的用途是什么？'}},\n",
       " 'dut': {'uses': {'brick': 'Wat is een verrassend gebruik voor een baksteen?',\n",
       "   'fork': 'Wat is een verrassend gebruik voor een vork?',\n",
       "   'paperclip': 'Wat is een verrassend gebruik voor een paperclip?',\n",
       "   'towel': 'Wat is een verrassend gebruik voor een handdoek?'}},\n",
       " 'eng': {'completion': {'closet': 'Complete this sentence in a surprising way: \"When I opened my closet...\"',\n",
       "   'friend phone': 'Complete this sentence in a surprising way: \"My friend called me on the phone to tell me...\"',\n",
       "   'games': 'Complete this sentence in a surprising way: \"At a sleepover, we...\"',\n",
       "   'lecture': 'Complete this sentence in a surprising way: \"When the teacher was talking...\"',\n",
       "   'library': 'Complete this sentence in a surprising way: \"When the kids were in the library, they found...\"',\n",
       "   'lunchroom': 'Complete this sentence in a surprising way: \"When I was at lunch...\"',\n",
       "   'phone': 'Complete this sentence in a surprising way: \"My friend called me on the phone to tell me...\"',\n",
       "   'playground': 'Complete this sentence in a surprising way: \"When the friends met in the playground, they...\"',\n",
       "   'rain': 'Complete this sentence in a surprising way: \"It started raining, and...\"',\n",
       "   'school bus': 'Complete this sentence in a surprising way: \"When I got on the school bus, I saw...\"',\n",
       "   'sleepover': 'Complete this sentence in a surprising way: \"When I had a sleepover at my friend\\'s, we played...\"',\n",
       "   'teacher talking': 'Complete this sentence in a surprising way: \"When the teacher was talking, all the kids...\"'},\n",
       "  'consequences': {'aliens landed': 'What would be a surprising consequence if ALIENS LANDED AT YOUR SCHOOL?',\n",
       "   'kid president': 'What would be a surprising consequence if A KID WERE PRESIDENT?',\n",
       "   'no sleep': 'What would be a surprising consequence if PEOPLE NEEDED NO SLEEP?',\n",
       "   'rain soda': 'What would be a surprising consequence if RAIN WERE MADE OF SODA?',\n",
       "   'shrank': 'What would be a surprising consequence if EVERYONE SHRANK TO 12 INCHES TALL?',\n",
       "   'teacher read minds': 'What would be a surprising consequence if YOUR TEACHER COULD READ MINDS?',\n",
       "   'time travel': 'What would be a surprising consequence if PEOPLE COULD TRAVEL THROUGH TIME?'},\n",
       "  'instances': {'big': 'What is a surprising example of something BIG?',\n",
       "   'cold': 'What is a surprising example of something COLD?',\n",
       "   'frozen': 'What is a surprising example of something FROZEN?',\n",
       "   'fun': 'What is a surprising example of something FUN?',\n",
       "   'huge': 'What is a surprising example of something HUGE?',\n",
       "   'noise': 'What is a surprising thing that makes a NOISE?',\n",
       "   'red': 'What is a surprising example of something RED?',\n",
       "   'smelly': 'What is a surprising example of something SMELLY?',\n",
       "   'soft': 'What is a surprising example of something SOFT?',\n",
       "   'tasty': 'What is a surprising example of something TASTY?',\n",
       "   'wet': 'What is a surprising example of something WET?'},\n",
       "  'metaphors': {'bad movie': 'Think about the worst movie or TV show you have ever seen. What was it like to watch it?',\n",
       "   'boring class': 'Think of the most boring high school or college class you’ve ever taken. What was it like to sit through it?',\n",
       "   'gross food': 'Think about the most disgusting thing you have ever eaten or drunk. What was it like to eat or drink it?',\n",
       "   'messy room': 'Think of the messiest room in which you’ve ever lived. What was it like to live there?'},\n",
       "  'uses': {'backpack': 'What is a surprising use for a BACKPACK?',\n",
       "   'ball': 'What is a surprising use for a BALL?',\n",
       "   'book': 'What is a surprising use for a BOOK?',\n",
       "   'bottle': 'What is a surprising use for a BOTTLE?',\n",
       "   'box': 'What is a surprising use for a BOX?',\n",
       "   'brick': 'What is a surprising use for a BRICK?',\n",
       "   'fork': 'What is a surprising use for a FORK?',\n",
       "   'hat': 'What is a surprising use for a HAT?',\n",
       "   'knife': 'What is a surprising use for a KNIFE?',\n",
       "   'light bulb': 'What is a surprising use for a LIGHT BULB?',\n",
       "   'pants': 'What is a surprising use for PANTS?',\n",
       "   'paperclip': 'What is a surprising use for a PAPERCLIP?',\n",
       "   'pencil': 'What is a surprising use for a PENCIL?',\n",
       "   'rope': 'What is a surprising use for a ROPE?',\n",
       "   'round': 'What is a surprising thing that is ROUND?',\n",
       "   'shoe': 'What is a surprising use for a SHOE?',\n",
       "   'shovel': 'What is a surprising use for a SHOVEL?',\n",
       "   'sock': 'What is a surprising use for a SOCK?',\n",
       "   'spoon': 'What is a surprising use for a SPOON?',\n",
       "   'table': 'What is a surprising use for a TABLE?',\n",
       "   'tire': 'What is a surprising use for a TIRE?',\n",
       "   'toothbrush': 'What is a surprising use for a TOOTHBRUSH?'}},\n",
       " 'fre': {'uses': {'brouette': 'Quel est un usage surprenant pour une BROUETTE?',\n",
       "   'ceinture': 'Quel est un usage surprenant pour une CEINTURE?',\n",
       "   'chapeau': 'Quel est un usage surprenant pour un CHAPEAU?'}},\n",
       " 'ger': {'uses': {'Axt': 'Was ist eine überraschende Verwendung für eine AXT?',\n",
       "   'Bett': 'Was ist eine überraschende Verwendung für ein BETT?',\n",
       "   'Büroklammer': 'Was ist eine überraschende Verwendung für eine BÜROKLAMMER?',\n",
       "   'Erbse': 'Was ist eine überraschende Verwendung für eine ERBSE?',\n",
       "   'Flöte': 'Was ist eine überraschende Verwendung für eine FLÖTE?',\n",
       "   'Geige': 'Was ist eine überraschende Verwendung für eine GEIGE?',\n",
       "   'Gurke': 'Was ist eine überraschende Verwendung für eine GURKE?',\n",
       "   'Mülltüte': 'Was ist eine überraschende Verwendung für eine MÜLLTÜTE?',\n",
       "   'Paprika': 'Was ist eine überraschende Verwendung für eine PAPRIKA?',\n",
       "   'Schaufel': 'Was ist eine überraschende Verwendung für eine SCHAUFEL?',\n",
       "   'Schrank': 'Was ist eine überraschende Verwendung für einen SCHRANK?',\n",
       "   'Seil': 'Was ist eine überraschende Verwendung für ein SEIL?',\n",
       "   'Stuhl': 'Was ist eine überraschende Verwendung für einen STUHL?',\n",
       "   'Säge': 'Was ist eine überraschende Verwendung für eine SÄGE?',\n",
       "   'Tisch': 'Was ist eine überraschende Verwendung für einen TISCH?',\n",
       "   'Tomate': 'Was ist eine überraschende Verwendung für eine TOMATE?',\n",
       "   'Trommel': 'Was ist eine überraschende Verwendung für eine TROMMEL?',\n",
       "   'Trompete': 'Was ist eine überraschende Verwendung für eine TROMPETE?',\n",
       "   'Zange': 'Was ist eine überraschende Verwendung für eine ZANGE?',\n",
       "   'haarfoehn': 'Was ist eine überraschende Verwendung für einen HAARFOEHN?',\n",
       "   'konservendose': 'Was ist eine überraschende Verwendung für eine KONSERVENDOSE?',\n",
       "   'messer': 'Was ist eine überraschende Verwendung für ein MESSER?'}},\n",
       " 'heb': {'uses': {'כיסא': 'מהו שימוש מפתיע לכיסא?',\n",
       "   'כרית': 'מהו שימוש מפתיע לכרית?',\n",
       "   'מברג': 'מהו שימוש מפתיע למברג?',\n",
       "   'מטאטא': 'מהו שימוש מפתיע למטאטא?',\n",
       "   'נעל': 'מהו שימוש מפתיע לנעל?',\n",
       "   'סכין': 'מהו שימוש מפתיע לסכין?',\n",
       "   'עיפרון': 'מהו שימוש מפתיע לעיפרון?',\n",
       "   'עיתון': 'מהו שימוש מפתיע לעיתון?',\n",
       "   'צמיג': 'מהו שימוש מפתיע לצמיג?',\n",
       "   'קולב': 'מהו שימוש מפתיע לקולב?'}},\n",
       " 'ita': {'uses': {'Attaccapanni': 'Qual è un uso sorprendente per un ATTACCAPANNI?',\n",
       "   'Barile': 'Qual è un uso sorprendente per un BARILE?',\n",
       "   'Bottiglia di plastica': 'Qual è un uso sorprendente per una BOTTIGLIA DI PLASTICA?',\n",
       "   'Lampadina': 'Qual è un uso sorprendente per una LAMPADINA?',\n",
       "   'Libro': 'Qual è un uso sorprendente per un LIBRO?',\n",
       "   'Sedia': 'Qual è un uso sorprendente per una SEDIA?',\n",
       "   'accendino': 'Qual è un uso sorprendente per un ACCENDINO?',\n",
       "   'accetta': \"Qual è un uso sorprendente per un'ACCETTA?\",\n",
       "   'appendino': 'Qual è un uso sorprendente per un APPENDINO?',\n",
       "   'aspirapolvere': 'Qual è un uso sorprendente per un ASPIRAPOLVERE?',\n",
       "   'banana': 'Qual è un uso sorprendente per una BANANA?',\n",
       "   'barattolo': 'Qual è un uso sorprendente per un BARATTOLO?',\n",
       "   'bicicletta': 'Qual è un uso sorprendente per una BICICLETTA?',\n",
       "   'borsa': 'Qual è un uso sorprendente per una BORSA?',\n",
       "   'botte': 'Qual è un uso sorprendente per una BOTTE?',\n",
       "   'bottiglietta': 'Qual è un uso sorprendente per una BOTTIGLIETTA?',\n",
       "   'capello': 'Qual è un uso sorprendente per un CAPELLO?',\n",
       "   'cappello': 'Qual è un uso sorprendente per un CAPPELLO?',\n",
       "   'cestino': 'Qual è un uso sorprendente per un CESTINO?',\n",
       "   'coltello': 'Qual è un uso sorprendente per un COLTELLO?',\n",
       "   'cucchiaio': 'Qual è un uso sorprendente per un CUCCHIAIO?',\n",
       "   'graffetta': 'Qual è un uso sorprendente per una GRAFFETTA?',\n",
       "   'guanto': 'Qual è un uso sorprendente per un GUANTO?',\n",
       "   'lampadina': 'Qual è un uso sorprendente per una LAMPADINA?',\n",
       "   'libro': 'Qual è un uso sorprendente per un LIBRO?',\n",
       "   'martello': 'Qual è un uso sorprendente per un MARTELLO?',\n",
       "   'mattone': 'Qual è un uso sorprendente per un MATTONE?'}},\n",
       " 'pol': {'uses': {'cegła': 'Jakie jest zaskakujące zastosowanie dla CEGŁY?',\n",
       "   'puszka': 'Jakie jest zaskakujące zastosowanie dla PUSZKI?',\n",
       "   'sznurek': 'Jakie jest zaskakujące zastosowanie dla SZNUREKA?'}},\n",
       " 'rus': {'uses': {'газета': 'Какое удивительное применение для ГАЗЕТЫ?',\n",
       "   'деревянная линейка': 'Какое удивительное применение для ДЕРЕВЯННОЙ ЛИНЕЙКИ?',\n",
       "   'картонная коробка': 'Какое удивительное применение для КАРТОННОЙ КОРОБКИ?'}},\n",
       " 'spa': {'uses': {'ladrillo': '¿Cuál es un uso sorprendente para un LADRILLO?'}}}"
      ]
     },
     "execution_count": 51,
     "metadata": {},
     "output_type": "execute_result"
    }
   ],
   "source": [
    "question_inference_mappings = {\n",
    "}\n",
    "\n",
    "for lang, group in df.groupby('lang'):\n",
    "    question_inference_mappings[lang] = {}\n",
    "    for test_type, group2 in group.groupby('type'):\n",
    "        question_inference_mappings[lang][test_type] = {}\n",
    "        for prompt, group3 in group2.groupby('prompt'):\n",
    "            question_inference_mappings[lang][test_type][prompt] = group3.iloc[0].fixedquestion\n",
    "\n",
    "question_inference_mappings"
   ]
  }
 ],
 "metadata": {
  "kernelspec": {
   "display_name": "base",
   "language": "python",
   "name": "python3"
  },
  "language_info": {
   "codemirror_mode": {
    "name": "ipython",
    "version": 3
   },
   "file_extension": ".py",
   "mimetype": "text/x-python",
   "name": "python",
   "nbconvert_exporter": "python",
   "pygments_lexer": "ipython3",
   "version": "3.9.18"
  }
 },
 "nbformat": 4,
 "nbformat_minor": 2
}
