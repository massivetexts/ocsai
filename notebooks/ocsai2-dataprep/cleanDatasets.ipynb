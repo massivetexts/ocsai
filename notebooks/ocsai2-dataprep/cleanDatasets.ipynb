{
  "cells": [
    {
      "cell_type": "markdown",
      "metadata": {
        "id": "eXqu-c24fsZs"
      },
      "source": [
        "This notebook normalizes human judged ground truth from various originality and creativity scoring studies.\n",
        "\n",
        "This is an assortment of studies, with different demographics, goals, and test setups. It is most appropriate for supervised learning of automated scoring, where we're not necessarily trying to learn about the participants but about the *human judges* - how they interpret the originality scoring task in general."
      ]
    },
    {
      "cell_type": "code",
      "execution_count": null,
      "metadata": {},
      "outputs": [],
      "source": [
        "%load_ext autoreload\n",
        "%autoreload 2"
      ]
    },
    {
      "cell_type": "code",
      "execution_count": 3,
      "metadata": {},
      "outputs": [],
      "source": [
        "from ocsai.data import download_from_description, prep_general\n",
        "import pandas as pd"
      ]
    },
    {
      "cell_type": "markdown",
      "metadata": {},
      "source": [
        "## Dumas et al 2020"
      ]
    },
    {
      "cell_type": "code",
      "execution_count": 4,
      "metadata": {},
      "outputs": [
        {
          "data": {
            "text/markdown": [
              "### Loading *Dumas et al 2020*"
            ],
            "text/plain": [
              "<IPython.core.display.Markdown object>"
            ]
          },
          "metadata": {},
          "output_type": "display_data"
        },
        {
          "name": "stdout",
          "output_type": "stream",
          "text": [
            "Replacing !!! with NaN in response column\n"
          ]
        },
        {
          "data": {
            "text/markdown": [
              "- name: dod20\n",
              "- no_of_prompts: 10\n",
              "- no_of_participants: 92\n",
              "- no_of_data_points: 5490\n",
              "- prompts: ['book', 'bottle', 'brick', 'fork', 'pants', 'rope', 'shoe', 'shovel', 'table', 'tire']\n",
              "- ICC2k: 0.85\n",
              "- ICC2k_CI: 0.79-0.88\n",
              "- ICC3k: 0.87\n",
              "- rater_cols: ['rater1', 'rater2', 'rater3', 'rater4']\n",
              "- no_of_raters: 4\n"
            ],
            "text/plain": [
              "<IPython.core.display.Markdown object>"
            ]
          },
          "metadata": {},
          "output_type": "display_data"
        },
        {
          "name": "stderr",
          "output_type": "stream",
          "text": [
            "/Users/peter.organisciak/anaconda3/lib/python3.9/site-packages/pandas/io/sql.py:761: UserWarning: pandas only support SQLAlchemy connectable(engine/connection) ordatabase string URI or sqlite3 DBAPI2 connectionother DBAPI2 objects are not tested, please consider using SQLAlchemy\n",
            "  warnings.warn(\n"
          ]
        },
        {
          "data": {
            "text/html": [
              "<div>\n",
              "<style scoped>\n",
              "    .dataframe tbody tr th:only-of-type {\n",
              "        vertical-align: middle;\n",
              "    }\n",
              "\n",
              "    .dataframe tbody tr th {\n",
              "        vertical-align: top;\n",
              "    }\n",
              "\n",
              "    .dataframe thead th {\n",
              "        text-align: right;\n",
              "    }\n",
              "</style>\n",
              "<table border=\"1\" class=\"dataframe\">\n",
              "  <thead>\n",
              "    <tr style=\"text-align: right;\">\n",
              "      <th></th>\n",
              "      <th>type</th>\n",
              "      <th>src</th>\n",
              "      <th>question</th>\n",
              "      <th>prompt</th>\n",
              "      <th>response</th>\n",
              "      <th>id</th>\n",
              "      <th>target</th>\n",
              "      <th>participant</th>\n",
              "      <th>response_num</th>\n",
              "      <th>language</th>\n",
              "      <th>rater_count</th>\n",
              "      <th>rating_std</th>\n",
              "    </tr>\n",
              "  </thead>\n",
              "  <tbody>\n",
              "    <tr>\n",
              "      <th>3008</th>\n",
              "      <td>uses</td>\n",
              "      <td>dod20</td>\n",
              "      <td>What is a surprising use for a BOTTLE?</td>\n",
              "      <td>bottle</td>\n",
              "      <td>utensil holder</td>\n",
              "      <td>dod20_bottle-74d036</td>\n",
              "      <td>3.0</td>\n",
              "      <td>dod2041</td>\n",
              "      <td>3</td>\n",
              "      <td>eng</td>\n",
              "      <td>4</td>\n",
              "      <td>0.00000</td>\n",
              "    </tr>\n",
              "    <tr>\n",
              "      <th>442</th>\n",
              "      <td>uses</td>\n",
              "      <td>dod20</td>\n",
              "      <td>What is a surprising use for a TIRE?</td>\n",
              "      <td>tire</td>\n",
              "      <td>to make a swing set from a tree</td>\n",
              "      <td>dod20_tire-ee61be</td>\n",
              "      <td>2.5</td>\n",
              "      <td>dod202</td>\n",
              "      <td>1</td>\n",
              "      <td>eng</td>\n",
              "      <td>4</td>\n",
              "      <td>0.57735</td>\n",
              "    </tr>\n",
              "  </tbody>\n",
              "</table>\n",
              "</div>"
            ],
            "text/plain": [
              "      type    src                                question  prompt  \\\n",
              "3008  uses  dod20  What is a surprising use for a BOTTLE?  bottle   \n",
              "442   uses  dod20    What is a surprising use for a TIRE?    tire   \n",
              "\n",
              "                             response                   id  target  \\\n",
              "3008                   utensil holder  dod20_bottle-74d036     3.0   \n",
              "442   to make a swing set from a tree    dod20_tire-ee61be     2.5   \n",
              "\n",
              "     participant  response_num language  rater_count  rating_std  \n",
              "3008     dod2041             3      eng            4     0.00000  \n",
              "442       dod202             1      eng            4     0.57735  "
            ]
          },
          "execution_count": 4,
          "metadata": {},
          "output_type": "execute_result"
        }
      ],
      "source": [
        "desc = {\n",
        "    \"name\": \"dod20\",\n",
        "    \"test_type\": \"uses\",\n",
        "    \"meta\": {\n",
        "        \"inline\": \"Dumas et al 2020\",\n",
        "        \"download\": {\"url\": \"https://osf.io/download/u3yv4/\", \"extension\": \"csv\"}\n",
        "    },\n",
        "    \"null_marker\": \"!!!\",\n",
        "    \"column_mappings\": {},\n",
        "    \"range\": [1, 5],\n",
        "    \"language\": \"eng\",\n",
        "}\n",
        "\n",
        "fname = download_from_description(desc, '../data/raw')\n",
        "df = pd.read_csv(fname[0], index_col=0)\n",
        "cleaned = prep_general(df, **desc, save_dir='../data/datasets')\n",
        "cleaned.sample(2)"
      ]
    },
    {
      "cell_type": "markdown",
      "metadata": {},
      "source": [
        "## Silvia et al 2009"
      ]
    },
    {
      "cell_type": "code",
      "execution_count": 5,
      "metadata": {},
      "outputs": [
        {
          "data": {
            "text/markdown": [
              "### Loading *Silvia et al. 2009*"
            ],
            "text/plain": [
              "<IPython.core.display.Markdown object>"
            ]
          },
          "metadata": {},
          "output_type": "display_data"
        },
        {
          "data": {
            "text/markdown": [
              "Silvia, P. J., Nusbaum, E. C., Berg, C., Martin, C., & O'Connor, A. (2009). Openness to experience, plasticity, and creativity: Exploring lower-order, high-order, and interactive effects. Journal of Research in Personality, 43(6), 1087–1090. https://doi.org/10.1016/j.jrp.2009.04.015"
            ],
            "text/plain": [
              "<IPython.core.display.Markdown object>"
            ]
          },
          "metadata": {},
          "output_type": "display_data"
        },
        {
          "data": {
            "text/markdown": [
              "- Renaming columns {'subject': 'participant', 'response_order': 'response_num'}"
            ],
            "text/plain": [
              "<IPython.core.display.Markdown object>"
            ]
          },
          "metadata": {},
          "output_type": "display_data"
        },
        {
          "name": "stdout",
          "output_type": "stream",
          "text": [
            "Dropping 10 unrated items\n"
          ]
        },
        {
          "data": {
            "text/markdown": [
              "- name: snbmo09\n",
              "- no_of_prompts: 3\n",
              "- no_of_participants: 202\n",
              "- no_of_data_points: 4099\n",
              "- prompts: ['brick', 'knife', 'box']\n",
              "- ICC2k: 0.69\n",
              "- ICC2k_CI: 0.57-0.77\n",
              "- ICC3k: 0.76\n",
              "- rater_cols: ['rater_1', 'rater_2', 'rater_3', 'rater_4']\n",
              "- no_of_raters: 4\n"
            ],
            "text/plain": [
              "<IPython.core.display.Markdown object>"
            ]
          },
          "metadata": {},
          "output_type": "display_data"
        },
        {
          "name": "stderr",
          "output_type": "stream",
          "text": [
            "/Users/peter.organisciak/anaconda3/lib/python3.9/site-packages/pandas/io/sql.py:761: UserWarning: pandas only support SQLAlchemy connectable(engine/connection) ordatabase string URI or sqlite3 DBAPI2 connectionother DBAPI2 objects are not tested, please consider using SQLAlchemy\n",
            "  warnings.warn(\n"
          ]
        },
        {
          "data": {
            "text/html": [
              "<div>\n",
              "<style scoped>\n",
              "    .dataframe tbody tr th:only-of-type {\n",
              "        vertical-align: middle;\n",
              "    }\n",
              "\n",
              "    .dataframe tbody tr th {\n",
              "        vertical-align: top;\n",
              "    }\n",
              "\n",
              "    .dataframe thead th {\n",
              "        text-align: right;\n",
              "    }\n",
              "</style>\n",
              "<table border=\"1\" class=\"dataframe\">\n",
              "  <thead>\n",
              "    <tr style=\"text-align: right;\">\n",
              "      <th></th>\n",
              "      <th>type</th>\n",
              "      <th>src</th>\n",
              "      <th>question</th>\n",
              "      <th>prompt</th>\n",
              "      <th>response</th>\n",
              "      <th>id</th>\n",
              "      <th>target</th>\n",
              "      <th>participant</th>\n",
              "      <th>response_num</th>\n",
              "      <th>language</th>\n",
              "      <th>rater_count</th>\n",
              "      <th>rating_std</th>\n",
              "    </tr>\n",
              "  </thead>\n",
              "  <tbody>\n",
              "    <tr>\n",
              "      <th>2063</th>\n",
              "      <td>uses</td>\n",
              "      <td>snbmo09</td>\n",
              "      <td>What is a surprising use for a KNIFE?</td>\n",
              "      <td>knife</td>\n",
              "      <td>cut meat</td>\n",
              "      <td>snbmo09_2_knife-c5e94e</td>\n",
              "      <td>1.0</td>\n",
              "      <td>snbmo09103</td>\n",
              "      <td>2</td>\n",
              "      <td>eng</td>\n",
              "      <td>4</td>\n",
              "      <td>0.00000</td>\n",
              "    </tr>\n",
              "    <tr>\n",
              "      <th>3680</th>\n",
              "      <td>uses</td>\n",
              "      <td>snbmo09</td>\n",
              "      <td>What is a surprising use for a KNIFE?</td>\n",
              "      <td>knife</td>\n",
              "      <td>hammer</td>\n",
              "      <td>snbmo09_2_knife-ec0c55</td>\n",
              "      <td>2.5</td>\n",
              "      <td>snbmo09179</td>\n",
              "      <td>3</td>\n",
              "      <td>eng</td>\n",
              "      <td>4</td>\n",
              "      <td>0.57735</td>\n",
              "    </tr>\n",
              "  </tbody>\n",
              "</table>\n",
              "</div>"
            ],
            "text/plain": [
              "      type      src                               question prompt  response  \\\n",
              "2063  uses  snbmo09  What is a surprising use for a KNIFE?  knife  cut meat   \n",
              "3680  uses  snbmo09  What is a surprising use for a KNIFE?  knife    hammer   \n",
              "\n",
              "                          id  target participant  response_num language  \\\n",
              "2063  snbmo09_2_knife-c5e94e     1.0  snbmo09103             2      eng   \n",
              "3680  snbmo09_2_knife-ec0c55     2.5  snbmo09179             3      eng   \n",
              "\n",
              "      rater_count  rating_std  \n",
              "2063            4     0.00000  \n",
              "3680            4     0.57735  "
            ]
          },
          "execution_count": 5,
          "metadata": {},
          "output_type": "execute_result"
        }
      ],
      "source": [
        "desc = {\n",
        "    \"name\": \"snbmo09\",\n",
        "    \"test_type\": \"uses\",\n",
        "    \"meta\": {\n",
        "        \"inline\": \"Silvia et al. 2009\",\n",
        "        \"citation\": \"Silvia, P. J., Nusbaum, E. C., Berg, C., Martin, C., & O'Connor, A. (2009). Openness to experience, plasticity, and creativity: Exploring lower-order, high-order, and interactive effects. Journal of Research in Personality, 43(6), 1087–1090. https://doi.org/10.1016/j.jrp.2009.04.015\",\n",
        "        \"download\": {\"url\": \"https://osf.io/download/qdrv8/\", \"ext\": \"csv\"}\n",
        "    },\n",
        "    \"column_mappings\": {\n",
        "        \"subject\":\"participant\",\n",
        "        \"response_order\":\"response_num\"\n",
        "        },\n",
        "    \"range\": [1, 5],\n",
        "    \"language\": \"eng\",\n",
        "}\n",
        "fname = download_from_description(desc, '../data/raw')\n",
        "df = pd.read_csv(fname[0])\n",
        "df['prompt'] = df.task.apply(lambda x: x.split('_')[-1])\n",
        "cleaned = prep_general(df, **desc, save_dir='../data/datasets')\n",
        "cleaned.sample(2)"
      ]
    },
    {
      "cell_type": "markdown",
      "metadata": {
        "id": "jn8ziOcamzaH"
      },
      "source": [
        "## Hass 2017\n",
        "\n",
        "This study looked at uses for *bottle* and *brick*. There were 54 participants after data cleaning.\n",
        "\n",
        "Rating was on a 5-point scale. For verification, their reported inter-rater reliability was ICC2k was 0.80 for brick and 0.78 for bottle, which is about what we see below.\n",
        "\n",
        "The rating data was stoplisted, so I need to reconstruct the original responses here."
      ]
    },
    {
      "cell_type": "code",
      "execution_count": 6,
      "metadata": {},
      "outputs": [
        {
          "name": "stderr",
          "output_type": "stream",
          "text": [
            "[nltk_data] Downloading package punkt to\n",
            "[nltk_data]     /Users/peter.organisciak/nltk_data...\n",
            "[nltk_data]   Package punkt is already up-to-date!\n",
            "[nltk_data] Downloading package stopwords to\n",
            "[nltk_data]     /Users/peter.organisciak/nltk_data...\n",
            "[nltk_data]   Package stopwords is already up-to-date!\n"
          ]
        },
        {
          "data": {
            "text/markdown": [
              "### Loading *Hass 2017*"
            ],
            "text/plain": [
              "<IPython.core.display.Markdown object>"
            ]
          },
          "metadata": {},
          "output_type": "display_data"
        },
        {
          "data": {
            "text/markdown": [
              "Hass, R. W. (2017). Semantic search during divergent thinking. Cognition, 166, 344–357. https://doi.org/10.1016/j.cognition.2017.05.039"
            ],
            "text/plain": [
              "<IPython.core.display.Markdown object>"
            ]
          },
          "metadata": {},
          "output_type": "display_data"
        },
        {
          "data": {
            "text/markdown": [
              "- Renaming columns {'subject': 'participant', 'response_order': 'response_num'}"
            ],
            "text/plain": [
              "<IPython.core.display.Markdown object>"
            ]
          },
          "metadata": {},
          "output_type": "display_data"
        },
        {
          "data": {
            "text/markdown": [
              "- name: hass17\n",
              "- no_of_prompts: 2\n",
              "- no_of_participants: 57\n",
              "- no_of_data_points: 1093\n",
              "- prompts: ['bottle', 'brick']\n",
              "- ICC2k: 0.79\n",
              "- ICC2k_CI: 0.75-0.82\n",
              "- ICC3k: 0.8\n",
              "- rater_cols: ['r1', 'r2', 'r3']\n",
              "- no_of_raters: 3\n"
            ],
            "text/plain": [
              "<IPython.core.display.Markdown object>"
            ]
          },
          "metadata": {},
          "output_type": "display_data"
        },
        {
          "name": "stderr",
          "output_type": "stream",
          "text": [
            "/Users/peter.organisciak/anaconda3/lib/python3.9/site-packages/pandas/io/sql.py:761: UserWarning: pandas only support SQLAlchemy connectable(engine/connection) ordatabase string URI or sqlite3 DBAPI2 connectionother DBAPI2 objects are not tested, please consider using SQLAlchemy\n",
            "  warnings.warn(\n"
          ]
        },
        {
          "data": {
            "text/html": [
              "<div>\n",
              "<style scoped>\n",
              "    .dataframe tbody tr th:only-of-type {\n",
              "        vertical-align: middle;\n",
              "    }\n",
              "\n",
              "    .dataframe tbody tr th {\n",
              "        vertical-align: top;\n",
              "    }\n",
              "\n",
              "    .dataframe thead th {\n",
              "        text-align: right;\n",
              "    }\n",
              "</style>\n",
              "<table border=\"1\" class=\"dataframe\">\n",
              "  <thead>\n",
              "    <tr style=\"text-align: right;\">\n",
              "      <th></th>\n",
              "      <th>type</th>\n",
              "      <th>src</th>\n",
              "      <th>question</th>\n",
              "      <th>prompt</th>\n",
              "      <th>response</th>\n",
              "      <th>id</th>\n",
              "      <th>target</th>\n",
              "      <th>participant</th>\n",
              "      <th>response_num</th>\n",
              "      <th>language</th>\n",
              "      <th>rater_count</th>\n",
              "      <th>rating_std</th>\n",
              "    </tr>\n",
              "  </thead>\n",
              "  <tbody>\n",
              "    <tr>\n",
              "      <th>17</th>\n",
              "      <td>uses</td>\n",
              "      <td>hass17</td>\n",
              "      <td>What is a surprising use for a BOTTLE?</td>\n",
              "      <td>bottle</td>\n",
              "      <td>storage</td>\n",
              "      <td>hass17_bottle-220d00</td>\n",
              "      <td>1.666</td>\n",
              "      <td>hass1712</td>\n",
              "      <td>1</td>\n",
              "      <td>eng</td>\n",
              "      <td>3</td>\n",
              "      <td>1.154701</td>\n",
              "    </tr>\n",
              "    <tr>\n",
              "      <th>35</th>\n",
              "      <td>uses</td>\n",
              "      <td>hass17</td>\n",
              "      <td>What is a surprising use for a BOTTLE?</td>\n",
              "      <td>bottle</td>\n",
              "      <td>Break it</td>\n",
              "      <td>hass17_bottle-b776dd</td>\n",
              "      <td>1.333</td>\n",
              "      <td>hass1723</td>\n",
              "      <td>1</td>\n",
              "      <td>eng</td>\n",
              "      <td>3</td>\n",
              "      <td>0.577350</td>\n",
              "    </tr>\n",
              "  </tbody>\n",
              "</table>\n",
              "</div>"
            ],
            "text/plain": [
              "    type     src                                question  prompt  response  \\\n",
              "17  uses  hass17  What is a surprising use for a BOTTLE?  bottle   storage   \n",
              "35  uses  hass17  What is a surprising use for a BOTTLE?  bottle  Break it   \n",
              "\n",
              "                      id  target participant response_num language  \\\n",
              "17  hass17_bottle-220d00   1.666    hass1712            1      eng   \n",
              "35  hass17_bottle-b776dd   1.333    hass1723            1      eng   \n",
              "\n",
              "    rater_count  rating_std  \n",
              "17            3    1.154701  \n",
              "35            3    0.577350  "
            ]
          },
          "execution_count": 6,
          "metadata": {},
          "output_type": "execute_result"
        }
      ],
      "source": [
        "desc = {\n",
        "    \"name\": 'hass17',\n",
        "    \"test_type\": \"uses\",\n",
        "    \"meta\": {\n",
        "        \"inline\": \"Hass 2017\",\n",
        "        \"citation\": \"Hass, R. W. (2017). Semantic search during divergent thinking. Cognition, 166, 344–357. https://doi.org/10.1016/j.cognition.2017.05.039\",\n",
        "        \"url\": \"https://osf.io/ng598\",\n",
        "        \"download\": [\n",
        "            {\"url\": 'https://osf.io/download/mcykr/', \"ext\": \"xlsx\"}, # rater scores\n",
        "            {\"url\": 'https://osf.io/download/27bx8/', \"ext\": \"xlsx\"},  # responses 1\n",
        "            {\"url\": 'https://osf.io/download/rzvyd/', \"ext\": \"xlsx\"}  # responses 2\n",
        "        ],\n",
        "    },\n",
        "    \"column_mappings\": {\n",
        "        \"subject\":\"participant\",\n",
        "        \"response_order\":\"response_num\"\n",
        "        },\n",
        "    \"range\": [1, 5],\n",
        "    \"rater_cols\": ['r1','r2','r3'],\n",
        "    \"language\": \"eng\",\n",
        "}\n",
        "\n",
        "(ratings_fname, responses_fname, responses2_fname) = download_from_description(desc, '../data/raw')\n",
        "\n",
        "# custom parsing specific to this dataset\n",
        "all_ratings = []\n",
        "for sheet, prompt in [('br_exp1', 'brick'),('br_exp2', 'brick'),('bot_exp1', 'bottle'),('bot_exp2', 'bottle')]:\n",
        "    data = pd.read_excel(ratings_fname, sheet_name=sheet) #.rename(columns={'subject':'participant','response_order':'response_num'})\n",
        "    data['prompt'] = prompt\n",
        "    all_ratings.append(data)\n",
        "hassratings = pd.concat(all_ratings).rename(columns={'response':'cleaned'})\n",
        "participants = pd.concat([pd.read_excel(responses_fname), pd.read_excel(responses2_fname)])\n",
        "\n",
        "# melt original responses to long, reconstructe the cleaned columns, then join with ratings\n",
        "long_part = participants.melt(id_vars='ID', value_name='response').rename(columns={'ID':'participant'})\n",
        "long_part = long_part[long_part.variable.str.contains('resp') & ~long_part.variable.str.contains('time')].dropna()\n",
        "long_part[['prompt', 'response_num']] = long_part.variable.str.split('_', expand=True)\n",
        "\n",
        "long_part.loc[long_part.prompt.str.contains('resp1'), 'prompt'] = 'bottle'\n",
        "long_part.loc[long_part.prompt.str.contains('resp2'), 'prompt'] = 'brick'\n",
        "long_part.sample(10)\n",
        "\n",
        "import nltk\n",
        "nltk.download('punkt')\n",
        "nltk.download('stopwords')\n",
        "\n",
        "from nltk.corpus import stopwords\n",
        "from nltk.tokenize import word_tokenize\n",
        "stops = stopwords.words('english')\n",
        "# not sure which list the study used, so just adjust based on testing\n",
        "stops += ['could']\n",
        "stops = [w for w in stops if w not in ['can']]\n",
        "stops = set(stops)\n",
        "\n",
        "def stop_clean(x):\n",
        "    x = x.lower()\n",
        "    x = x.replace('i.e.', 'e') # quirk of the tokenization in original study\n",
        "    for c in list(\"/\\\\'-()\"):\n",
        "        x = x.replace(c, '')\n",
        "    words = [word for word in word_tokenize(x) if word not in stops]\n",
        "    return \" \".join(words)\n",
        "\n",
        "long_part['cleaned'] = long_part.response.apply(stop_clean)\n",
        "hass07 = long_part.merge(hassratings, how='left', on=['prompt', 'cleaned'])\n",
        "\n",
        "cleaned = prep_general(hass07, **desc, save_dir='../data/datasets')\n",
        "cleaned.sample(2)"
      ]
    },
    {
      "cell_type": "markdown",
      "metadata": {
        "id": "vJqyd2UHDCMZ"
      },
      "source": [
        "## Silvia et al 2008\n",
        "\n",
        "This was the order of creativity tasks:\n",
        "\n",
        "1. Please list all of the creative, unusual uses for a brick that you can think of.\n",
        "2. Please list all of the creative, unusual instances of things that are round that you can think of.\n",
        "3. Imagine that people no longer needed to sleep. Please list creative, unusual consequences that would follow.\n",
        "4. Please list all of the creative, unusual uses for a knife that you can think of.\n",
        "5. Please list all of the creative, unusual instances of things that will make a noise that you can think of.\n",
        "6. Imagine that everyone shrank to 12 inches tall. Please list creative, unusual consequences that would follow.\n",
        "\n",
        "Numbers 1 and 4 are AUT.\n",
        "\n"
      ]
    },
    {
      "cell_type": "code",
      "execution_count": 7,
      "metadata": {},
      "outputs": [
        {
          "data": {
            "text/markdown": [
              "### Loading *Silvia et al. 2008*"
            ],
            "text/plain": [
              "<IPython.core.display.Markdown object>"
            ]
          },
          "metadata": {},
          "output_type": "display_data"
        },
        {
          "data": {
            "text/markdown": [
              "Silvia, P. J., Winterstein, B. P., Willse, J. T., Barona, C. M., Cram, J. T., Hess, K. I., Martinez, J. L., & Richard, C. A. (2008). Assessing creativity with divergent thinking tasks: Exploring the reliability and validity of new subjective scoring methods. Psychology of Aesthetics, Creativity, and the Arts, 2(2), 68–85. https://doi.org/10.1037/1931-3896.2.2.68"
            ],
            "text/plain": [
              "<IPython.core.display.Markdown object>"
            ]
          },
          "metadata": {},
          "output_type": "display_data"
        },
        {
          "data": {
            "text/markdown": [
              "- Renaming columns {'subject': 'participant', 'order': 'response_num'}"
            ],
            "text/plain": [
              "<IPython.core.display.Markdown object>"
            ]
          },
          "metadata": {},
          "output_type": "display_data"
        },
        {
          "data": {
            "text/markdown": [
              "- Inferring questions {'brick': 'What is a surprising use for a BRICK?', 'round': 'What is a surprising thing that is ROUND?', 'no sleep': 'What would be a surprising consequence if PEOPLE NEEDED NO SLEEP?', 'knife': 'What is a surprising use for a KNIFE?', 'noise': 'What is a surprising thing that makes a NOISE?', 'shrank': 'What would be a surprising consequence if EVERYONE SHRANK TO 12 INCHES TALL?'}"
            ],
            "text/plain": [
              "<IPython.core.display.Markdown object>"
            ]
          },
          "metadata": {},
          "output_type": "display_data"
        },
        {
          "data": {
            "text/markdown": [
              "- Inferring types {'brick': 'uses', 'round': 'uses', 'no sleep': 'consequences', 'knife': 'uses', 'noise': 'instances', 'shrank': 'consequences'}"
            ],
            "text/plain": [
              "<IPython.core.display.Markdown object>"
            ]
          },
          "metadata": {},
          "output_type": "display_data"
        },
        {
          "name": "stdout",
          "output_type": "stream",
          "text": [
            "Dropping 37 unrated items\n"
          ]
        },
        {
          "data": {
            "text/markdown": [
              "- name: setal08\n",
              "- no_of_prompts: 6\n",
              "- no_of_participants: 242\n",
              "- no_of_data_points: 11490\n",
              "- prompts: ['brick', 'round', 'no sleep', 'knife', 'noise', 'shrank']\n",
              "- ICC2k: 0.43\n",
              "- ICC2k_CI: 0.22-0.57\n",
              "- ICC3k: 0.54\n",
              "- rater_cols: ['rater1', 'rater2', 'rater3']\n",
              "- no_of_raters: 3\n"
            ],
            "text/plain": [
              "<IPython.core.display.Markdown object>"
            ]
          },
          "metadata": {},
          "output_type": "display_data"
        },
        {
          "name": "stderr",
          "output_type": "stream",
          "text": [
            "/Users/peter.organisciak/anaconda3/lib/python3.9/site-packages/pandas/io/sql.py:761: UserWarning: pandas only support SQLAlchemy connectable(engine/connection) ordatabase string URI or sqlite3 DBAPI2 connectionother DBAPI2 objects are not tested, please consider using SQLAlchemy\n",
            "  warnings.warn(\n"
          ]
        },
        {
          "data": {
            "text/html": [
              "<div>\n",
              "<style scoped>\n",
              "    .dataframe tbody tr th:only-of-type {\n",
              "        vertical-align: middle;\n",
              "    }\n",
              "\n",
              "    .dataframe tbody tr th {\n",
              "        vertical-align: top;\n",
              "    }\n",
              "\n",
              "    .dataframe thead th {\n",
              "        text-align: right;\n",
              "    }\n",
              "</style>\n",
              "<table border=\"1\" class=\"dataframe\">\n",
              "  <thead>\n",
              "    <tr style=\"text-align: right;\">\n",
              "      <th></th>\n",
              "      <th>type</th>\n",
              "      <th>src</th>\n",
              "      <th>question</th>\n",
              "      <th>prompt</th>\n",
              "      <th>response</th>\n",
              "      <th>id</th>\n",
              "      <th>target</th>\n",
              "      <th>participant</th>\n",
              "      <th>response_num</th>\n",
              "      <th>language</th>\n",
              "      <th>rater_count</th>\n",
              "      <th>rating_std</th>\n",
              "    </tr>\n",
              "  </thead>\n",
              "  <tbody>\n",
              "    <tr>\n",
              "      <th>9882</th>\n",
              "      <td>uses</td>\n",
              "      <td>setal08</td>\n",
              "      <td>What is a surprising thing that is ROUND?</td>\n",
              "      <td>round</td>\n",
              "      <td>cake</td>\n",
              "      <td>setal08_2.0-9ade8b</td>\n",
              "      <td>1.000</td>\n",
              "      <td>setal08207</td>\n",
              "      <td>8.0</td>\n",
              "      <td>eng</td>\n",
              "      <td>3</td>\n",
              "      <td>0.00000</td>\n",
              "    </tr>\n",
              "    <tr>\n",
              "      <th>515</th>\n",
              "      <td>uses</td>\n",
              "      <td>setal08</td>\n",
              "      <td>What is a surprising use for a BRICK?</td>\n",
              "      <td>brick</td>\n",
              "      <td>weapon</td>\n",
              "      <td>setal08_1.0-cd380a</td>\n",
              "      <td>1.667</td>\n",
              "      <td>setal0813</td>\n",
              "      <td>9.0</td>\n",
              "      <td>eng</td>\n",
              "      <td>3</td>\n",
              "      <td>0.57735</td>\n",
              "    </tr>\n",
              "  </tbody>\n",
              "</table>\n",
              "</div>"
            ],
            "text/plain": [
              "      type      src                                   question prompt  \\\n",
              "9882  uses  setal08  What is a surprising thing that is ROUND?  round   \n",
              "515   uses  setal08      What is a surprising use for a BRICK?  brick   \n",
              "\n",
              "     response                  id  target participant  response_num language  \\\n",
              "9882     cake  setal08_2.0-9ade8b   1.000  setal08207           8.0      eng   \n",
              "515    weapon  setal08_1.0-cd380a   1.667   setal0813           9.0      eng   \n",
              "\n",
              "      rater_count  rating_std  \n",
              "9882            3     0.00000  \n",
              "515             3     0.57735  "
            ]
          },
          "execution_count": 7,
          "metadata": {},
          "output_type": "execute_result"
        }
      ],
      "source": [
        "# Support .sav files\n",
        "import pyreadstat\n",
        "desc = {\n",
        "    \"name\": \"setal08\",\n",
        "    \"meta\": {\n",
        "        \"inline\": \"Silvia et al. 2008\",\n",
        "        \"citation\": \"Silvia, P. J., Winterstein, B. P., Willse, J. T., Barona, C. M., Cram, J. T., Hess, K. I., Martinez, J. L., & Richard, C. A. (2008). Assessing creativity with divergent thinking tasks: Exploring the reliability and validity of new subjective scoring methods. Psychology of Aesthetics, Creativity, and the Arts, 2(2), 68–85. https://doi.org/10.1037/1931-3896.2.2.68\",\n",
        "        \"url\": \"https://osf.io/dh7ey/\",\n",
        "        \"download\": {\"url\": \"https://files.osf.io/v1/resources/4ketx/providers/osfstorage/5dd70d1f83135e000ec3c242/?zip=\",\n",
        "                    \"extension\": \"zip\",\n",
        "                    \"archive_files\": ['DT_Responses_PACA_2008_Study_2.sav']\n",
        "                    }\n",
        "    },\n",
        "    \"column_mappings\": {\n",
        "        \"subject\":\"participant\",\n",
        "        \"order\":\"response_num\"\n",
        "        },\n",
        "    \"replace_values\": {\n",
        "        \"prompt\": {\n",
        "            1: \"brick\",\n",
        "            2: \"round\",\n",
        "            3: \"no sleep\",\n",
        "            4: \"knife\",\n",
        "            5: \"noise\",\n",
        "            6: \"shrank\"\n",
        "        },\n",
        "    },\n",
        "    \"question_mappings\": {\n",
        "        \"brick\": \"What is a surprising use for a BRICK?\",\n",
        "        \"round\": \"What is a surprising thing that is ROUND?\", \n",
        "        \"no sleep\": \"What would be a surprising consequence if PEOPLE NEEDED NO SLEEP?\", \n",
        "        \"knife\": \"What is a surprising use for a KNIFE?\",\n",
        "        \"noise\": \"What is a surprising thing that makes a NOISE?\",\n",
        "        \"shrank\": \"What would be a surprising consequence if EVERYONE SHRANK TO 12 INCHES TALL?\"\n",
        "    },\n",
        "    \"type_mappings\": {\n",
        "        \"brick\": \"uses\",\n",
        "        \"round\": \"uses\",\n",
        "        \"no sleep\": \"consequences\",\n",
        "        \"knife\": \"uses\",\n",
        "        \"noise\": \"instances\",\n",
        "        \"shrank\": \"consequences\"\n",
        "    },\n",
        "    \"range\": [1, 5],\n",
        "    \"language\": \"eng\",\n",
        "}\n",
        "\n",
        "# Download data\n",
        "fnames = download_from_description(desc, '../data/raw', extension='zip')\n",
        "\n",
        "# Some manual cleanup\n",
        "df, meta = pyreadstat.read_sav(fnames[0])\n",
        "# all three are mapped from task\n",
        "for col in ['prompt', 'type', 'question']:\n",
        "    df[col] = df['task'].astype(int)\n",
        "df['subject'] = df['subject'].astype(int)\n",
        "# doublecheck - burczak reported ICC2k as 0.48 for uses\n",
        "cleaned = prep_general(df, **desc, save_dir='../data/datasets')\n",
        "cleaned.sample(2)"
      ]
    },
    {
      "cell_type": "markdown",
      "metadata": {
        "id": "UH3yOwIon4Ky"
      },
      "source": [
        "## Hofelich Mohr, Sell, and Lindsay 2016"
      ]
    },
    {
      "cell_type": "code",
      "execution_count": 8,
      "metadata": {},
      "outputs": [
        {
          "data": {
            "text/markdown": [
              "### Loading *Hofelich Mohr et al. 2016*"
            ],
            "text/plain": [
              "<IPython.core.display.Markdown object>"
            ]
          },
          "metadata": {},
          "output_type": "display_data"
        },
        {
          "data": {
            "text/markdown": [
              "Hofelich Mohr, A., Sell, A., & Lindsay, T. (2016). Thinking Inside the Box: Visual Design of the Response Box Affects Creative Divergent Thinking in an Online Survey. Social Science Computer Review, 34(3), 347–359. https://doi.org/10.1177/0894439315588736"
            ],
            "text/plain": [
              "<IPython.core.display.Markdown object>"
            ]
          },
          "metadata": {},
          "output_type": "display_data"
        },
        {
          "data": {
            "text/markdown": [
              "- Renaming columns {'Item': 'prompt', 'QLogin_1': 'participant'}"
            ],
            "text/plain": [
              "<IPython.core.display.Markdown object>"
            ]
          },
          "metadata": {},
          "output_type": "display_data"
        },
        {
          "name": "stdout",
          "output_type": "stream",
          "text": [
            "Replacing 11 with NaN in response column\n",
            "Dropping 23 unrated items\n"
          ]
        },
        {
          "data": {
            "text/markdown": [
              "- name: hmsl\n",
              "- no_of_prompts: 2\n",
              "- no_of_participants: 638\n",
              "- no_of_data_points: 3843\n",
              "- prompts: ['paperclip', 'brick']\n",
              "- ICC2k: 0.67\n",
              "- ICC2k_CI: 0.53-0.75\n",
              "- ICC3k: 0.74\n",
              "- rater_cols: ['J1_Rating', 'J2_Rating', 'J3_Rating', 'J4_Rating']\n",
              "- no_of_raters: 4\n"
            ],
            "text/plain": [
              "<IPython.core.display.Markdown object>"
            ]
          },
          "metadata": {},
          "output_type": "display_data"
        },
        {
          "name": "stderr",
          "output_type": "stream",
          "text": [
            "/Users/peter.organisciak/anaconda3/lib/python3.9/site-packages/pandas/io/sql.py:761: UserWarning: pandas only support SQLAlchemy connectable(engine/connection) ordatabase string URI or sqlite3 DBAPI2 connectionother DBAPI2 objects are not tested, please consider using SQLAlchemy\n",
            "  warnings.warn(\n"
          ]
        },
        {
          "data": {
            "text/html": [
              "<div>\n",
              "<style scoped>\n",
              "    .dataframe tbody tr th:only-of-type {\n",
              "        vertical-align: middle;\n",
              "    }\n",
              "\n",
              "    .dataframe tbody tr th {\n",
              "        vertical-align: top;\n",
              "    }\n",
              "\n",
              "    .dataframe thead th {\n",
              "        text-align: right;\n",
              "    }\n",
              "</style>\n",
              "<table border=\"1\" class=\"dataframe\">\n",
              "  <thead>\n",
              "    <tr style=\"text-align: right;\">\n",
              "      <th></th>\n",
              "      <th>type</th>\n",
              "      <th>src</th>\n",
              "      <th>question</th>\n",
              "      <th>prompt</th>\n",
              "      <th>response</th>\n",
              "      <th>id</th>\n",
              "      <th>target</th>\n",
              "      <th>participant</th>\n",
              "      <th>response_num</th>\n",
              "      <th>language</th>\n",
              "      <th>rater_count</th>\n",
              "      <th>rating_std</th>\n",
              "    </tr>\n",
              "  </thead>\n",
              "  <tbody>\n",
              "    <tr>\n",
              "      <th>2481</th>\n",
              "      <td>uses</td>\n",
              "      <td>hmsl</td>\n",
              "      <td>What is a surprising use for a PAPERCLIP?</td>\n",
              "      <td>paperclip</td>\n",
              "      <td>String together to make a chain</td>\n",
              "      <td>hmsl_paperclip-a33819</td>\n",
              "      <td>1.50000</td>\n",
              "      <td>hmslgEOtW7kc</td>\n",
              "      <td>2.0</td>\n",
              "      <td>eng</td>\n",
              "      <td>4</td>\n",
              "      <td>0.57735</td>\n",
              "    </tr>\n",
              "    <tr>\n",
              "      <th>2209</th>\n",
              "      <td>uses</td>\n",
              "      <td>hmsl</td>\n",
              "      <td>What is a surprising use for a PAPERCLIP?</td>\n",
              "      <td>paperclip</td>\n",
              "      <td>make a necklace</td>\n",
              "      <td>hmsl_paperclip-5c76b5</td>\n",
              "      <td>1.75025</td>\n",
              "      <td>hmslw4r5kjlA</td>\n",
              "      <td>3.0</td>\n",
              "      <td>eng</td>\n",
              "      <td>4</td>\n",
              "      <td>0.50000</td>\n",
              "    </tr>\n",
              "  </tbody>\n",
              "</table>\n",
              "</div>"
            ],
            "text/plain": [
              "      type   src                                   question     prompt  \\\n",
              "2481  uses  hmsl  What is a surprising use for a PAPERCLIP?  paperclip   \n",
              "2209  uses  hmsl  What is a surprising use for a PAPERCLIP?  paperclip   \n",
              "\n",
              "                             response                     id   target  \\\n",
              "2481  String together to make a chain  hmsl_paperclip-a33819  1.50000   \n",
              "2209                  make a necklace  hmsl_paperclip-5c76b5  1.75025   \n",
              "\n",
              "       participant  response_num language  rater_count  rating_std  \n",
              "2481  hmslgEOtW7kc           2.0      eng            4     0.57735  \n",
              "2209  hmslw4r5kjlA           3.0      eng            4     0.50000  "
            ]
          },
          "execution_count": 8,
          "metadata": {},
          "output_type": "execute_result"
        }
      ],
      "source": [
        "desc = {\n",
        "    \"name\": \"hmsl\",\n",
        "    \"meta\": {\n",
        "        \"inline\": \"Hofelich Mohr et al. 2016\",\n",
        "        \"citation\": \"Hofelich Mohr, A., Sell, A., & Lindsay, T. (2016). Thinking Inside the Box: Visual Design of the Response Box Affects Creative Divergent Thinking in an Online Survey. Social Science Computer Review, 34(3), 347–359. https://doi.org/10.1177/0894439315588736\",\n",
        "        \"url\": \"https://doi.org/10.1177/0894439315588736\",\n",
        "        \"download\": {\n",
        "            \"url\": \"https://conservancy.umn.edu/bitstream/handle/11299/172116/HMSL_CSV%20Data%20Files.zip?sequence=28&isAllowed=y\",\n",
        "            \"extension\": \"zip\",\n",
        "            \"archive_files\": ['HMSL_Originality_scores_all.csv']   \n",
        "        }\n",
        "    },\n",
        "    \"null_marker\": 11,\n",
        "    \"column_mappings\": {'Item': 'prompt', 'QLogin_1':'participant'},\n",
        "    \"rater_cols\": ['J1_Rating','J2_Rating','J3_Rating','J4_Rating'],\n",
        "    \"range\": [1, 5],\n",
        "    \"language\": \"eng\",\n",
        "}\n",
        "\n",
        "fname = download_from_description(desc, '../data/raw')[0]\n",
        "df = pd.read_csv(fname)\n",
        "# Doublecheck ICC2k - burczak paper had icc2k=0.67\n",
        "cleaned = prep_general(df, **desc, save_dir='../data/datasets')\n",
        "cleaned.sample(2)"
      ]
    },
    {
      "cell_type": "markdown",
      "metadata": {
        "id": "VgNoUTqg_dQb"
      },
      "source": [
        "## Datasets used by Beaty and Johnson 2021\n",
        "\n",
        "From SemDis paper:\n",
        "\n",
        "- Study 1 was re-analysis of AUT responses from Beaty et al., 2018 to see if ensemble approaches work better. Two tests: `box` and `rope`\n",
        "   - according to their paper, using additive composition was slightly negative correlation, while multiplicative 'results revealed a large correlation between latent semantic distance and human ratings:$r=.91$, p<.001'. This uses a model that weighs the factors, but is (I think) tailored to the dataset without held out data.\n",
        "\n",
        "- Study 2 was re-analysis of results from Silvia et al. 2017, also on box and rope \n",
        "- Study 3 was brick - yet again - via Beaty and Silvia 2012\n",
        "- Study 4 and 5- Heinen and Johnson (2018) - were noun matching, not relevant here"
      ]
    },
    {
      "cell_type": "code",
      "execution_count": 9,
      "metadata": {},
      "outputs": [
        {
          "data": {
            "text/markdown": [
              "### Loading *Beaty et al., 2018*"
            ],
            "text/plain": [
              "<IPython.core.display.Markdown object>"
            ]
          },
          "metadata": {},
          "output_type": "display_data"
        },
        {
          "data": {
            "text/markdown": [
              "Beaty, R. E., Kenett, Y. N., Christensen, A. P., Rosenberg, M. D., Benedek, M., Chen, Q., Fink, A., Qiu, J., Kwapil, T. R., Kane, M. J., & Silvia, P. J. (2018). Robust prediction of individual creative ability from brain functional connectivity. Proceedings of the National Academy of Sciences, 115(5), 1087–1092. https://doi.org/10.1073/pnas.1713532115"
            ],
            "text/plain": [
              "<IPython.core.display.Markdown object>"
            ]
          },
          "metadata": {},
          "output_type": "display_data"
        },
        {
          "data": {
            "text/markdown": [
              "- Renaming columns {'id': 'participant', 'item': 'prompt'}"
            ],
            "text/plain": [
              "<IPython.core.display.Markdown object>"
            ]
          },
          "metadata": {},
          "output_type": "display_data"
        },
        {
          "data": {
            "text/markdown": [
              "- name: betal18\n",
              "- no_of_prompts: 2\n",
              "- no_of_participants: 171\n",
              "- no_of_data_points: 2918\n",
              "- prompts: ['box', 'rope']\n",
              "- ICC2k: 0.82\n",
              "- ICC2k_CI: 0.77-0.85\n",
              "- ICC3k: 0.84\n",
              "- rater_cols: ['rater1', 'rater2', 'rater3', 'rater4']\n",
              "- no_of_raters: 4\n"
            ],
            "text/plain": [
              "<IPython.core.display.Markdown object>"
            ]
          },
          "metadata": {},
          "output_type": "display_data"
        },
        {
          "name": "stderr",
          "output_type": "stream",
          "text": [
            "/Users/peter.organisciak/anaconda3/lib/python3.9/site-packages/pandas/io/sql.py:761: UserWarning: pandas only support SQLAlchemy connectable(engine/connection) ordatabase string URI or sqlite3 DBAPI2 connectionother DBAPI2 objects are not tested, please consider using SQLAlchemy\n",
            "  warnings.warn(\n"
          ]
        },
        {
          "data": {
            "text/html": [
              "<div>\n",
              "<style scoped>\n",
              "    .dataframe tbody tr th:only-of-type {\n",
              "        vertical-align: middle;\n",
              "    }\n",
              "\n",
              "    .dataframe tbody tr th {\n",
              "        vertical-align: top;\n",
              "    }\n",
              "\n",
              "    .dataframe thead th {\n",
              "        text-align: right;\n",
              "    }\n",
              "</style>\n",
              "<table border=\"1\" class=\"dataframe\">\n",
              "  <thead>\n",
              "    <tr style=\"text-align: right;\">\n",
              "      <th></th>\n",
              "      <th>type</th>\n",
              "      <th>src</th>\n",
              "      <th>question</th>\n",
              "      <th>prompt</th>\n",
              "      <th>response</th>\n",
              "      <th>id</th>\n",
              "      <th>target</th>\n",
              "      <th>participant</th>\n",
              "      <th>response_num</th>\n",
              "      <th>language</th>\n",
              "      <th>rater_count</th>\n",
              "      <th>rating_std</th>\n",
              "    </tr>\n",
              "  </thead>\n",
              "  <tbody>\n",
              "    <tr>\n",
              "      <th>2127</th>\n",
              "      <td>uses</td>\n",
              "      <td>betal18</td>\n",
              "      <td>What is a surprising use for a ROPE?</td>\n",
              "      <td>rope</td>\n",
              "      <td>handcuffs</td>\n",
              "      <td>betal18_rope-cd23af</td>\n",
              "      <td>1.0</td>\n",
              "      <td>betal182071</td>\n",
              "      <td>None</td>\n",
              "      <td>eng</td>\n",
              "      <td>4</td>\n",
              "      <td>0.0</td>\n",
              "    </tr>\n",
              "    <tr>\n",
              "      <th>511</th>\n",
              "      <td>uses</td>\n",
              "      <td>betal18</td>\n",
              "      <td>What is a surprising use for a BOX?</td>\n",
              "      <td>box</td>\n",
              "      <td>a table</td>\n",
              "      <td>betal18_box-9c09ed</td>\n",
              "      <td>1.0</td>\n",
              "      <td>betal182054</td>\n",
              "      <td>None</td>\n",
              "      <td>eng</td>\n",
              "      <td>4</td>\n",
              "      <td>0.0</td>\n",
              "    </tr>\n",
              "  </tbody>\n",
              "</table>\n",
              "</div>"
            ],
            "text/plain": [
              "      type      src                              question prompt   response  \\\n",
              "2127  uses  betal18  What is a surprising use for a ROPE?   rope  handcuffs   \n",
              "511   uses  betal18   What is a surprising use for a BOX?    box    a table   \n",
              "\n",
              "                       id  target  participant response_num language  \\\n",
              "2127  betal18_rope-cd23af     1.0  betal182071         None      eng   \n",
              "511    betal18_box-9c09ed     1.0  betal182054         None      eng   \n",
              "\n",
              "      rater_count  rating_std  \n",
              "2127            4         0.0  \n",
              "511             4         0.0  "
            ]
          },
          "metadata": {},
          "output_type": "display_data"
        },
        {
          "data": {
            "text/markdown": [
              "### Loading *Silvia et al., 2017*"
            ],
            "text/plain": [
              "<IPython.core.display.Markdown object>"
            ]
          },
          "metadata": {},
          "output_type": "display_data"
        },
        {
          "data": {
            "text/markdown": [
              "Silvia, P. J., Nusbaum, E. C., & Beaty, R. E. (2017). Old or New? Evaluating the Old/New Scoring Method for Divergent Thinking Tasks. The Journal of Creative Behavior, 51(3), 216–224. https://doi.org/10.1002/jocb.101"
            ],
            "text/plain": [
              "<IPython.core.display.Markdown object>"
            ]
          },
          "metadata": {},
          "output_type": "display_data"
        },
        {
          "data": {
            "text/markdown": [
              "- Renaming columns {'id': 'participant', 'item': 'prompt'}"
            ],
            "text/plain": [
              "<IPython.core.display.Markdown object>"
            ]
          },
          "metadata": {},
          "output_type": "display_data"
        },
        {
          "data": {
            "text/markdown": [
              "- name: snb17\n",
              "- no_of_prompts: 2\n",
              "- no_of_participants: 142\n",
              "- no_of_data_points: 2372\n",
              "- prompts: ['box', 'rope']\n",
              "- ICC2k: 0.67\n",
              "- ICC2k_CI: 0.55-0.75\n",
              "- ICC3k: 0.72\n",
              "- rater_cols: ['rater1', 'rater2', 'rater3']\n",
              "- no_of_raters: 3\n"
            ],
            "text/plain": [
              "<IPython.core.display.Markdown object>"
            ]
          },
          "metadata": {},
          "output_type": "display_data"
        },
        {
          "name": "stderr",
          "output_type": "stream",
          "text": [
            "/Users/peter.organisciak/anaconda3/lib/python3.9/site-packages/pandas/io/sql.py:761: UserWarning: pandas only support SQLAlchemy connectable(engine/connection) ordatabase string URI or sqlite3 DBAPI2 connectionother DBAPI2 objects are not tested, please consider using SQLAlchemy\n",
            "  warnings.warn(\n"
          ]
        },
        {
          "data": {
            "text/html": [
              "<div>\n",
              "<style scoped>\n",
              "    .dataframe tbody tr th:only-of-type {\n",
              "        vertical-align: middle;\n",
              "    }\n",
              "\n",
              "    .dataframe tbody tr th {\n",
              "        vertical-align: top;\n",
              "    }\n",
              "\n",
              "    .dataframe thead th {\n",
              "        text-align: right;\n",
              "    }\n",
              "</style>\n",
              "<table border=\"1\" class=\"dataframe\">\n",
              "  <thead>\n",
              "    <tr style=\"text-align: right;\">\n",
              "      <th></th>\n",
              "      <th>type</th>\n",
              "      <th>src</th>\n",
              "      <th>question</th>\n",
              "      <th>prompt</th>\n",
              "      <th>response</th>\n",
              "      <th>id</th>\n",
              "      <th>target</th>\n",
              "      <th>participant</th>\n",
              "      <th>response_num</th>\n",
              "      <th>language</th>\n",
              "      <th>rater_count</th>\n",
              "      <th>rating_std</th>\n",
              "    </tr>\n",
              "  </thead>\n",
              "  <tbody>\n",
              "    <tr>\n",
              "      <th>1906</th>\n",
              "      <td>uses</td>\n",
              "      <td>snb17</td>\n",
              "      <td>What is a surprising use for a ROPE?</td>\n",
              "      <td>rope</td>\n",
              "      <td>to tie something with</td>\n",
              "      <td>snb17_rope-e27768</td>\n",
              "      <td>1.000</td>\n",
              "      <td>snb1797</td>\n",
              "      <td>None</td>\n",
              "      <td>eng</td>\n",
              "      <td>3</td>\n",
              "      <td>0.00000</td>\n",
              "    </tr>\n",
              "    <tr>\n",
              "      <th>1304</th>\n",
              "      <td>uses</td>\n",
              "      <td>snb17</td>\n",
              "      <td>What is a surprising use for a ROPE?</td>\n",
              "      <td>rope</td>\n",
              "      <td>learn to lasso</td>\n",
              "      <td>snb17_rope-29cfd2</td>\n",
              "      <td>1.333</td>\n",
              "      <td>snb1715</td>\n",
              "      <td>None</td>\n",
              "      <td>eng</td>\n",
              "      <td>3</td>\n",
              "      <td>0.57735</td>\n",
              "    </tr>\n",
              "  </tbody>\n",
              "</table>\n",
              "</div>"
            ],
            "text/plain": [
              "      type    src                              question prompt  \\\n",
              "1906  uses  snb17  What is a surprising use for a ROPE?   rope   \n",
              "1304  uses  snb17  What is a surprising use for a ROPE?   rope   \n",
              "\n",
              "                   response                 id  target participant  \\\n",
              "1906  to tie something with  snb17_rope-e27768   1.000     snb1797   \n",
              "1304         learn to lasso  snb17_rope-29cfd2   1.333     snb1715   \n",
              "\n",
              "     response_num language  rater_count  rating_std  \n",
              "1906         None      eng            3     0.00000  \n",
              "1304         None      eng            3     0.57735  "
            ]
          },
          "metadata": {},
          "output_type": "display_data"
        },
        {
          "data": {
            "text/markdown": [
              "### Loading *Beaty & Silvia, 2012*"
            ],
            "text/plain": [
              "<IPython.core.display.Markdown object>"
            ]
          },
          "metadata": {},
          "output_type": "display_data"
        },
        {
          "data": {
            "text/markdown": [
              "Beaty, R. E., & Silvia, P. J. (2012). Why do ideas get more creative across time? An executive interpretation of the serial order effect in divergent thinking tasks. Psychology of Aesthetics, Creativity, and the Arts, 6(4), 309–319. https://doi.org/10.1037/a0029171"
            ],
            "text/plain": [
              "<IPython.core.display.Markdown object>"
            ]
          },
          "metadata": {},
          "output_type": "display_data"
        },
        {
          "data": {
            "text/markdown": [
              "- Renaming columns {'id': 'participant', 'item': 'prompt'}"
            ],
            "text/plain": [
              "<IPython.core.display.Markdown object>"
            ]
          },
          "metadata": {},
          "output_type": "display_data"
        },
        {
          "data": {
            "text/markdown": [
              "- name: bs12\n",
              "- no_of_prompts: 1\n",
              "- no_of_participants: 133\n",
              "- no_of_data_points: 1807\n",
              "- prompts: ['brick']\n",
              "- ICC2k: 0.72\n",
              "- ICC2k_CI: 0.56-0.8\n",
              "- ICC3k: 0.78\n",
              "- rater_cols: ['br_rater1', 'br_rater2', 'br_rater3']\n",
              "- no_of_raters: 3\n"
            ],
            "text/plain": [
              "<IPython.core.display.Markdown object>"
            ]
          },
          "metadata": {},
          "output_type": "display_data"
        },
        {
          "name": "stderr",
          "output_type": "stream",
          "text": [
            "/Users/peter.organisciak/anaconda3/lib/python3.9/site-packages/pandas/io/sql.py:761: UserWarning: pandas only support SQLAlchemy connectable(engine/connection) ordatabase string URI or sqlite3 DBAPI2 connectionother DBAPI2 objects are not tested, please consider using SQLAlchemy\n",
            "  warnings.warn(\n"
          ]
        },
        {
          "data": {
            "text/html": [
              "<div>\n",
              "<style scoped>\n",
              "    .dataframe tbody tr th:only-of-type {\n",
              "        vertical-align: middle;\n",
              "    }\n",
              "\n",
              "    .dataframe tbody tr th {\n",
              "        vertical-align: top;\n",
              "    }\n",
              "\n",
              "    .dataframe thead th {\n",
              "        text-align: right;\n",
              "    }\n",
              "</style>\n",
              "<table border=\"1\" class=\"dataframe\">\n",
              "  <thead>\n",
              "    <tr style=\"text-align: right;\">\n",
              "      <th></th>\n",
              "      <th>type</th>\n",
              "      <th>src</th>\n",
              "      <th>question</th>\n",
              "      <th>prompt</th>\n",
              "      <th>response</th>\n",
              "      <th>id</th>\n",
              "      <th>target</th>\n",
              "      <th>participant</th>\n",
              "      <th>response_num</th>\n",
              "      <th>language</th>\n",
              "      <th>rater_count</th>\n",
              "      <th>rating_std</th>\n",
              "    </tr>\n",
              "  </thead>\n",
              "  <tbody>\n",
              "    <tr>\n",
              "      <th>604</th>\n",
              "      <td>uses</td>\n",
              "      <td>bs12</td>\n",
              "      <td>What is a surprising use for a BRICK?</td>\n",
              "      <td>brick</td>\n",
              "      <td>step</td>\n",
              "      <td>bs12_brick-cd8449</td>\n",
              "      <td>1.0</td>\n",
              "      <td>bs1242</td>\n",
              "      <td>None</td>\n",
              "      <td>eng</td>\n",
              "      <td>3</td>\n",
              "      <td>0.0</td>\n",
              "    </tr>\n",
              "    <tr>\n",
              "      <th>1107</th>\n",
              "      <td>uses</td>\n",
              "      <td>bs12</td>\n",
              "      <td>What is a surprising use for a BRICK?</td>\n",
              "      <td>brick</td>\n",
              "      <td>Bases for monuments.</td>\n",
              "      <td>bs12_brick-f8d86f</td>\n",
              "      <td>1.0</td>\n",
              "      <td>bs1281</td>\n",
              "      <td>None</td>\n",
              "      <td>eng</td>\n",
              "      <td>3</td>\n",
              "      <td>0.0</td>\n",
              "    </tr>\n",
              "  </tbody>\n",
              "</table>\n",
              "</div>"
            ],
            "text/plain": [
              "      type   src                               question prompt  \\\n",
              "604   uses  bs12  What is a surprising use for a BRICK?  brick   \n",
              "1107  uses  bs12  What is a surprising use for a BRICK?  brick   \n",
              "\n",
              "                  response                 id  target participant  \\\n",
              "604                   step  bs12_brick-cd8449     1.0      bs1242   \n",
              "1107  Bases for monuments.  bs12_brick-f8d86f     1.0      bs1281   \n",
              "\n",
              "     response_num language  rater_count  rating_std  \n",
              "604          None      eng            3         0.0  \n",
              "1107         None      eng            3         0.0  "
            ]
          },
          "metadata": {},
          "output_type": "display_data"
        }
      ],
      "source": [
        "desc = {\n",
        "    \"name\": \"bj21\",\n",
        "    \"meta\": {\n",
        "        \"inline\": \"Beaty and Johnson 2021\",\n",
        "        \"citation\": \"Beaty, R. E., & Johnson, D. R. (2021). Automating creativity assessment with SemDis: An open platform for computing semantic distance. Behavior Research Methods, 53(2), 757–780. https://doi.org/10.3758/s13428-020-01453-w\",\n",
        "        \"url\": \"https://doi.org/10.3758/s13428-020-01453-w\",\n",
        "        \"download\": {\n",
        "            \"url\": \"https://files.osf.io/v1/resources/gz4fc/providers/osfstorage/5e45b6c73e86a800be6e662e/?zip=\",\n",
        "            \"extension\": \"zip\",\n",
        "            \"archive_files\": ['Study 1/s1_data_long.xlsx',\n",
        "                              'Study 2/s2_data_long.xlsx',\n",
        "                              'Study 3/s3_data_long.xlsx']   \n",
        "        }\n",
        "    },\n",
        "    \"column_mappings\": {'id':'participant', 'item':'prompt'},\n",
        "    \"range\": [1, 5],\n",
        "    \"language\": \"eng\",\n",
        "}\n",
        "\n",
        "substudies = [\n",
        "    {\n",
        "        \"name\": \"betal18\",\n",
        "        \"meta\": {\n",
        "            \"inline\": \"Beaty et al., 2018\",\n",
        "            \"citation\": \"Beaty, R. E., Kenett, Y. N., Christensen, A. P., Rosenberg, M. D., Benedek, M., Chen, Q., Fink, A., Qiu, J., Kwapil, T. R., Kane, M. J., & Silvia, P. J. (2018). Robust prediction of individual creative ability from brain functional connectivity. Proceedings of the National Academy of Sciences, 115(5), 1087–1092. https://doi.org/10.1073/pnas.1713532115\"\n",
        "        }\n",
        "    },\n",
        "    {\n",
        "        \"name\": \"snb17\",\n",
        "        \"meta\": {\n",
        "            \"inline\": \"Silvia et al., 2017\",\n",
        "            \"citation\": \"Silvia, P. J., Nusbaum, E. C., & Beaty, R. E. (2017). Old or New? Evaluating the Old/New Scoring Method for Divergent Thinking Tasks. The Journal of Creative Behavior, 51(3), 216–224. https://doi.org/10.1002/jocb.101\"\n",
        "        }\n",
        "    },\n",
        "    {\n",
        "        \"name\": \"bs12\",\n",
        "        \"meta\": {\n",
        "            \"inline\": \"Beaty & Silvia, 2012\",\n",
        "            \"citation\": \"Beaty, R. E., & Silvia, P. J. (2012). Why do ideas get more creative across time? An executive interpretation of the serial order effect in divergent thinking tasks. Psychology of Aesthetics, Creativity, and the Arts, 6(4), 309–319. https://doi.org/10.1037/a0029171\"\n",
        "        }\n",
        "    },\n",
        "\n",
        "]\n",
        "\n",
        "fnames = download_from_description(desc, '../data/raw')\n",
        "# the data comes from past studies, so we'll rename the files\n",
        "# individually to their original studies\n",
        "for fname,substudy in zip(fnames, substudies):\n",
        "    new_desc = desc.copy()\n",
        "    new_desc.update(substudy)\n",
        "    df = pd.read_excel(fname)\n",
        "    cleaned = prep_general(df, **new_desc, save_dir='../data/datasets')\n",
        "    display(cleaned.sample(2))\n"
      ]
    },
    {
      "cell_type": "code",
      "execution_count": null,
      "metadata": {},
      "outputs": [],
      "source": []
    },
    {
      "cell_type": "markdown",
      "metadata": {
        "id": "8H-WPj9MeGrS"
      },
      "source": [
        "## MOTES Pilot\n",
        "\n",
        "MOTES is related to the \"Measuring Original Thinking in Elementary Students: A Text-Mining Approach\" (IES #R305A200519). This data is related to a high stakes test and is limited to research access. If you're a creativity research, please reach out to request it from <peter.organisciak@du.edu> and/or <selcuk.acar@unt.edu>."
      ]
    },
    {
      "cell_type": "code",
      "execution_count": 10,
      "metadata": {},
      "outputs": [
        {
          "data": {
            "text/markdown": [
              "### Loading *Acar et al., 2023*"
            ],
            "text/plain": [
              "<IPython.core.display.Markdown object>"
            ]
          },
          "metadata": {},
          "output_type": "display_data"
        },
        {
          "data": {
            "text/markdown": [
              "Acar, S., Dumas, D., Organisciak, P., Berthiaume, K. (2023). Measuring original thinking in elementary school: Development and validation of a computational psychometric approach. Journal of Educational Psychology. http://dx.doi.org/10.13140/RG.2.2.19804.56968"
            ],
            "text/plain": [
              "<IPython.core.display.Markdown object>"
            ]
          },
          "metadata": {},
          "output_type": "display_data"
        },
        {
          "data": {
            "text/markdown": [
              "- name: motesp\n",
              "- no_of_prompts: 29\n",
              "- no_of_participants: 35\n",
              "- no_of_data_points: 963\n",
              "- prompts: ['backpack', 'ball', 'bottle', 'hat', 'light bulb', 'pencil', 'shoe', 'sock', 'spoon', 'toothbrush', 'big', 'cold', 'fun', 'red', 'smelly', 'soft', 'tasty', 'wet', 'aliens landed', 'kid president', 'rain soda', 'teacher read minds', 'time travel', 'friend phone', 'library', 'playground', 'school bus', 'sleepover', 'teacher talking']\n",
              "- ICC2k: 0.73\n",
              "- ICC2k_CI: 0.66-0.78\n",
              "- ICC3k: 0.75\n",
              "- rater_cols: ['D', 'K', 'T']\n",
              "- no_of_raters: 3\n"
            ],
            "text/plain": [
              "<IPython.core.display.Markdown object>"
            ]
          },
          "metadata": {},
          "output_type": "display_data"
        },
        {
          "name": "stderr",
          "output_type": "stream",
          "text": [
            "/Users/peter.organisciak/anaconda3/lib/python3.9/site-packages/pandas/io/sql.py:761: UserWarning: pandas only support SQLAlchemy connectable(engine/connection) ordatabase string URI or sqlite3 DBAPI2 connectionother DBAPI2 objects are not tested, please consider using SQLAlchemy\n",
            "  warnings.warn(\n"
          ]
        },
        {
          "data": {
            "text/html": [
              "<div>\n",
              "<style scoped>\n",
              "    .dataframe tbody tr th:only-of-type {\n",
              "        vertical-align: middle;\n",
              "    }\n",
              "\n",
              "    .dataframe tbody tr th {\n",
              "        vertical-align: top;\n",
              "    }\n",
              "\n",
              "    .dataframe thead th {\n",
              "        text-align: right;\n",
              "    }\n",
              "</style>\n",
              "<table border=\"1\" class=\"dataframe\">\n",
              "  <thead>\n",
              "    <tr style=\"text-align: right;\">\n",
              "      <th></th>\n",
              "      <th>type</th>\n",
              "      <th>src</th>\n",
              "      <th>question</th>\n",
              "      <th>prompt</th>\n",
              "      <th>response</th>\n",
              "      <th>id</th>\n",
              "      <th>target</th>\n",
              "      <th>participant</th>\n",
              "      <th>response_num</th>\n",
              "      <th>language</th>\n",
              "      <th>rater_count</th>\n",
              "      <th>rating_std</th>\n",
              "    </tr>\n",
              "  </thead>\n",
              "  <tbody>\n",
              "    <tr>\n",
              "      <th>152</th>\n",
              "      <td>uses</td>\n",
              "      <td>motesp</td>\n",
              "      <td>What is a surprising use for a LIGHT BULB?</td>\n",
              "      <td>light bulb</td>\n",
              "      <td>Different colored light bulbs.</td>\n",
              "      <td>motesp_g1_lightbulb-223e84</td>\n",
              "      <td>2.555333</td>\n",
              "      <td>motesp28JB</td>\n",
              "      <td>None</td>\n",
              "      <td>eng</td>\n",
              "      <td>3</td>\n",
              "      <td>0.57735</td>\n",
              "    </tr>\n",
              "    <tr>\n",
              "      <th>120</th>\n",
              "      <td>uses</td>\n",
              "      <td>motesp</td>\n",
              "      <td>What is a surprising use for a HAT?</td>\n",
              "      <td>hat</td>\n",
              "      <td>use the hat inside out</td>\n",
              "      <td>motesp_g1_hat-0cc028</td>\n",
              "      <td>2.555333</td>\n",
              "      <td>motesp28JB</td>\n",
              "      <td>None</td>\n",
              "      <td>eng</td>\n",
              "      <td>3</td>\n",
              "      <td>0.57735</td>\n",
              "    </tr>\n",
              "  </tbody>\n",
              "</table>\n",
              "</div>"
            ],
            "text/plain": [
              "     type     src                                    question      prompt  \\\n",
              "152  uses  motesp  What is a surprising use for a LIGHT BULB?  light bulb   \n",
              "120  uses  motesp         What is a surprising use for a HAT?         hat   \n",
              "\n",
              "                            response                          id    target  \\\n",
              "152  Different colored light bulbs.   motesp_g1_lightbulb-223e84  2.555333   \n",
              "120           use the hat inside out        motesp_g1_hat-0cc028  2.555333   \n",
              "\n",
              "    participant response_num language  rater_count  rating_std  \n",
              "152  motesp28JB         None      eng            3     0.57735  \n",
              "120  motesp28JB         None      eng            3     0.57735  "
            ]
          },
          "execution_count": 10,
          "metadata": {},
          "output_type": "execute_result"
        }
      ],
      "source": [
        "desc = {\n",
        "    \"name\": \"motesp\",\n",
        "    \"meta\": {\n",
        "        \"inline\": \"Acar et al., 2023\",\n",
        "        \"citation\": \"Acar, S., Dumas, D., Organisciak, P., Berthiaume, K. (2023). Measuring original thinking in elementary school: Development and validation of a computational psychometric approach. Journal of Educational Psychology. http://dx.doi.org/10.13140/RG.2.2.19804.56968\",\n",
        "        \"url\": \"http://dx.doi.org/10.13140/RG.2.2.19804.56968\",\n",
        "        \"download\": {}\n",
        "    },\n",
        "    \"rater_cols\": ['D', 'K', 'T'],\n",
        "    \"range\": [1, 7],\n",
        "    \"replace_values\": {\n",
        "        \"prompt\": {\n",
        "            \"lightbulb\": \"light bulb\"\n",
        "        },\n",
        "        \"question\": {\n",
        "            \"What is a surprising use for a LIGHTBULB?\": \"What is a surprising use for a LIGHT BULB?\"\n",
        "        }\n",
        "    },\n",
        "    \"language\": \"eng\",\n",
        "}\n",
        "df = pd.read_csv('../data/raw/motesp_0.csv')\n",
        "cleaned = prep_general(df, **desc, save_dir='../data/datasets')\n",
        "cleaned.sample(2)"
      ]
    },
    {
      "cell_type": "markdown",
      "metadata": {
        "id": "tbICpoGS4nvR"
      },
      "source": [
        "## MOTES\n",
        "\n",
        "This is the post-pilot data. As with the pilot data, this dataset is available on request. Please reach out!"
      ]
    },
    {
      "cell_type": "code",
      "execution_count": 11,
      "metadata": {},
      "outputs": [
        {
          "data": {
            "text/markdown": [
              "### Loading *Acar et al., 2023*"
            ],
            "text/plain": [
              "<IPython.core.display.Markdown object>"
            ]
          },
          "metadata": {},
          "output_type": "display_data"
        },
        {
          "data": {
            "text/markdown": [
              "Acar, S., Dumas, D., Organisciak, P., Berthiaume, K. (2023). Measuring original thinking in elementary school: Development and validation of a computational psychometric approach. Journal of Educational Psychology. http://dx.doi.org/10.13140/RG.2.2.19804.56968"
            ],
            "text/plain": [
              "<IPython.core.display.Markdown object>"
            ]
          },
          "metadata": {},
          "output_type": "display_data"
        },
        {
          "data": {
            "text/markdown": [
              "- Renaming columns {'ID': 'participant'}"
            ],
            "text/plain": [
              "<IPython.core.display.Markdown object>"
            ]
          },
          "metadata": {},
          "output_type": "display_data"
        },
        {
          "name": "stdout",
          "output_type": "stream",
          "text": [
            "Replacing -999 with NaN in response column\n"
          ]
        },
        {
          "data": {
            "text/markdown": [
              "- name: motesf\n",
              "- no_of_prompts: 24\n",
              "- no_of_participants: 386\n",
              "- no_of_data_points: 8563\n",
              "- prompts: ['ball', 'sock', 'pencil', 'spoon', 'light bulb', 'hat', 'bottle', 'toothbrush', 'smelly', 'soft', 'red', 'frozen', 'wet', 'huge', 'fun', 'tasty', 'school bus', 'games', 'library', 'lecture', 'phone', 'rain', 'closet', 'lunchroom']\n",
              "- ICC2k: 0.79\n",
              "- ICC2k_CI: 0.69-0.85\n",
              "- ICC3k: 0.84\n",
              "- rater_cols: ['Kscore', 'Hscore', 'Cscore', 'Tscore', 'Mscore']\n",
              "- no_of_raters: 5\n"
            ],
            "text/plain": [
              "<IPython.core.display.Markdown object>"
            ]
          },
          "metadata": {},
          "output_type": "display_data"
        },
        {
          "name": "stderr",
          "output_type": "stream",
          "text": [
            "/Users/peter.organisciak/anaconda3/lib/python3.9/site-packages/pandas/io/sql.py:761: UserWarning: pandas only support SQLAlchemy connectable(engine/connection) ordatabase string URI or sqlite3 DBAPI2 connectionother DBAPI2 objects are not tested, please consider using SQLAlchemy\n",
            "  warnings.warn(\n"
          ]
        },
        {
          "data": {
            "text/html": [
              "<div>\n",
              "<style scoped>\n",
              "    .dataframe tbody tr th:only-of-type {\n",
              "        vertical-align: middle;\n",
              "    }\n",
              "\n",
              "    .dataframe tbody tr th {\n",
              "        vertical-align: top;\n",
              "    }\n",
              "\n",
              "    .dataframe thead th {\n",
              "        text-align: right;\n",
              "    }\n",
              "</style>\n",
              "<table border=\"1\" class=\"dataframe\">\n",
              "  <thead>\n",
              "    <tr style=\"text-align: right;\">\n",
              "      <th></th>\n",
              "      <th>type</th>\n",
              "      <th>src</th>\n",
              "      <th>question</th>\n",
              "      <th>prompt</th>\n",
              "      <th>response</th>\n",
              "      <th>id</th>\n",
              "      <th>target</th>\n",
              "      <th>participant</th>\n",
              "      <th>response_num</th>\n",
              "      <th>language</th>\n",
              "      <th>rater_count</th>\n",
              "      <th>rating_std</th>\n",
              "    </tr>\n",
              "  </thead>\n",
              "  <tbody>\n",
              "    <tr>\n",
              "      <th>1249</th>\n",
              "      <td>uses</td>\n",
              "      <td>motesf</td>\n",
              "      <td>What is a surprising use for a SPOON?</td>\n",
              "      <td>spoon</td>\n",
              "      <td>put a spoon in a can</td>\n",
              "      <td>motesf_spoon-9faa43</td>\n",
              "      <td>2.1998</td>\n",
              "      <td>motesfb73ce3</td>\n",
              "      <td>7</td>\n",
              "      <td>eng</td>\n",
              "      <td>5</td>\n",
              "      <td>0.447214</td>\n",
              "    </tr>\n",
              "    <tr>\n",
              "      <th>8640</th>\n",
              "      <td>completion</td>\n",
              "      <td>motesf</td>\n",
              "      <td>Complete this sentence in a surprising way: \"W...</td>\n",
              "      <td>lunchroom</td>\n",
              "      <td>I was in trouble because I was throwing food.</td>\n",
              "      <td>motesf_lunchroom-02e142</td>\n",
              "      <td>2.3996</td>\n",
              "      <td>motesf41f1f1</td>\n",
              "      <td>2</td>\n",
              "      <td>eng</td>\n",
              "      <td>5</td>\n",
              "      <td>0.547723</td>\n",
              "    </tr>\n",
              "  </tbody>\n",
              "</table>\n",
              "</div>"
            ],
            "text/plain": [
              "            type     src                                           question  \\\n",
              "1249        uses  motesf              What is a surprising use for a SPOON?   \n",
              "8640  completion  motesf  Complete this sentence in a surprising way: \"W...   \n",
              "\n",
              "         prompt                                       response  \\\n",
              "1249      spoon                           put a spoon in a can   \n",
              "8640  lunchroom  I was in trouble because I was throwing food.   \n",
              "\n",
              "                           id  target   participant  response_num language  \\\n",
              "1249      motesf_spoon-9faa43  2.1998  motesfb73ce3             7      eng   \n",
              "8640  motesf_lunchroom-02e142  2.3996  motesf41f1f1             2      eng   \n",
              "\n",
              "      rater_count  rating_std  \n",
              "1249            5    0.447214  \n",
              "8640            5    0.547723  "
            ]
          },
          "execution_count": 11,
          "metadata": {},
          "output_type": "execute_result"
        }
      ],
      "source": [
        "desc = {\n",
        "    \"name\": \"motesf\",\n",
        "    \"meta\": {\n",
        "        \"inline\": \"Acar et al., 2023\",\n",
        "        \"citation\": \"Acar, S., Dumas, D., Organisciak, P., Berthiaume, K. (2023). Measuring original thinking in elementary school: Development and validation of a computational psychometric approach. Journal of Educational Psychology. http://dx.doi.org/10.13140/RG.2.2.19804.56968\",\n",
        "        \"url\": \"http://dx.doi.org/10.13140/RG.2.2.19804.56968\",\n",
        "        \"download\": {}\n",
        "    },\n",
        "    \"column_mappings\": {'ID':'participant'},\n",
        "    \"null_marker\": -999,\n",
        "    \"rater_cols\": [\"Kscore\", \"Hscore\", \"Cscore\", \"Tscore\", \"Mscore\"],\n",
        "    \"replace_values\": {\n",
        "        \"prompt\": {\n",
        "            \"lightbulb\": \"light bulb\"\n",
        "        },\n",
        "        \"question\": {\n",
        "            \"What is a surprising use for a LIGHTBULB?\": \"What is a surprising use for a LIGHT BULB?\"\n",
        "        }\n",
        "    },\n",
        "    \"range\": [1, 5], # different scale than motesp pilot\n",
        "    \"language\": \"eng\"\n",
        "}\n",
        "# data was already reshaped to long format for previous study\n",
        "df = pd.read_csv('../data/raw/motesf_0.csv')\n",
        "cleaned = prep_general(df, **desc, save_dir='../data/datasets')\n",
        "cleaned.sample(2)"
      ]
    },
    {
      "cell_type": "markdown",
      "metadata": {},
      "source": [
        "## Multilingual semantic distance\n",
        "\n",
        "From: Patterson, J. D., Merseal, H. M., Johnson, D. R., Agnoli, S., Baas, M., Baker, B. S., ... & Beaty, R. E. (2023). Multilingual semantic distance: Automatic verbal creativity assessment in many languages. Psychology of Aesthetics, Creativity, and the Arts, 17(4), 495."
      ]
    },
    {
      "cell_type": "markdown",
      "metadata": {},
      "source": [
        "\n",
        "In the paper, the *exact* provenance of subdata isn't specified, so needs further investigation to determine why additional citations are needed:\n",
        "\n",
        "> We received 30 datasets, with a combined sample size of 6,522, reflecting data from 22 labs and 12 languages: Arabic, Chinese, Dutch, English, Farsi, French German, Hebrew, Italian, Polish, Russian, and Spanish (see Figure 1). Several datasets came from published studies, whereas others have not been used for publication.\n",
        "\n",
        "For verification, here are the published ICC values (which look to be the ICC3k values):\n",
        "\n",
        "| Dataset  | Raters | ICC  |\n",
        "|----------|--------|------|\n",
        "| Arabic1  | 1      | N/A  |\n",
        "| Chinese1 | 4      | 0.49 |\n",
        "| Chinese2 | 4      | 0.64 |\n",
        "| Dutch1   | 2      | 0.81 |\n",
        "| Dutch2   | 2      | 0.94 |\n",
        "| Dutch3   | 2      | 0.87 |\n",
        "| Dutch4   | 3      | 0.85 |\n",
        "| English1 | 4      | 0.84 |\n",
        "| English2 | 4      | 0.77 |\n",
        "| English3 | 3      | 0.56 |\n",
        "| English4 | 3      | 0.72 |\n",
        "| English5 | 3      | 0.78 |\n",
        "| English6 | 3      | 0.64 |\n",
        "| Farsi1   | 3      | 0.69 |\n",
        "| Farsi2   | 3      | 0.75 |\n",
        "| French1  | 4      | 0.8  |\n",
        "| French2  | 3      | 0.64 |\n",
        "| French3  | 3      | 0.75 |\n",
        "| French4  | 3      | 0.8  |\n",
        "| German1  | 4      | 0.71 |\n",
        "| German2  | 3      | 0.78 |\n",
        "| German3  | 3      | 0.86 |\n",
        "| Hebrew1  | 45     | 0.88 |\n",
        "| Italian1 | 2      | 0.89 |\n",
        "| Italian2 | 2      | 0.88 |\n",
        "| Polish1  | 3      | 0.82 |\n",
        "| Polish2  | 2      | 0.6  |\n",
        "| Russian1 | 3      | 0.72 |\n",
        "| Russian2 | 3      | 0.79 |\n",
        "| Spanish1 | 3      | 0.74 |"
      ]
    },
    {
      "cell_type": "code",
      "execution_count": 12,
      "metadata": {},
      "outputs": [],
      "source": [
        "desc = {\n",
        "    \"name\": \"multiaut\",\n",
        "    \"test_type\": \"uses\",\n",
        "    \"meta\": {\n",
        "        \"inline\": \"Patterson et al., 2023\",\n",
        "        \"citation\": \"Patterson, J. D., Merseal, H. M., Johnson, D. R., Agnoli, S., Baas, M., Baker, B. S., ... & Beaty, R. E. (2023). Multilingual semantic distance: Automatic verbal creativity assessment in many languages. Psychology of Aesthetics, Creativity, and the Arts, 17(4), 495.\",\n",
        "        \"url\": \"https://doi.org/10.1037/aca0000618\",\n",
        "        \"download\": {\n",
        "            \"url\": \"https://files.osf.io/v1/resources/5cy9n/providers/github/processed-data/?zip=\",\n",
        "            \"extension\": \"zip\",\n",
        "            # Excluded for redundancy\n",
        "            # english6 is the same as setal08\n",
        "            # english5 is the same as bs12\n",
        "            # english4 is the same as snb17\n",
        "            # english1 is the same as betal18\n",
        "            \"archive_files\": [\n",
        "                \"arabic1.csv\", \"dutch4.csv\", \"german3.csv\", \"russian1.csv\",\n",
        "                \"chinese1.csv\", \"french2.csv\", \"hebrew1.csv\", \"russian2.csv\",\n",
        "                \"chinese2.csv\", \"english2.csv\", \"french3.csv\", \"italian1.csv\", \"spanish1.csv\",\n",
        "                \"dutch1.csv\", \"english3.csv\", \"french4.csv\", \"italian2.csv\",\n",
        "                \"dutch2.csv\", \"german1.csv\", \"polish1.csv\",\n",
        "                \"dutch3.csv\", \"german2.csv\" #\"polish2.csv\" parsed separately\n",
        "            ]\n",
        "        }\n",
        "    },\n",
        "    \"column_mappings\": {'ID': 'participant', 'order':'response_num'}\n",
        "}\n",
        "\n",
        "fnames = download_from_description(desc, '../data/raw')"
      ]
    },
    {
      "cell_type": "code",
      "execution_count": 13,
      "metadata": {},
      "outputs": [],
      "source": [
        "# There's a problem with the rater 2 column in the processed polish2.csv, so re-process from raw data\n",
        "polish2_desc = {\n",
        "    \"name\": \"multiaut_polish2\",\n",
        "    \"test_type\": \"uses\",\n",
        "    \"meta\": {\n",
        "        \"inline\": \"Patterson et al., 2023\",\n",
        "        \"citation\": \"Patterson, J. D., Merseal, H. M., Johnson, D. R., Agnoli, S., Baas, M., Baker, B. S., ... & Beaty, R. E. (2023). Multilingual semantic distance: Automatic verbal creativity assessment in many languages. Psychology of Aesthetics, Creativity, and the Arts, 17(4), 495.\",\n",
        "        \"url\": \"https://doi.org/10.1037/aca0000618\",\n",
        "        \"download\": {\n",
        "            \"url\": \"https://osf.io/download/8xr4d\",\n",
        "            \"extension\": \"xlsx\",\n",
        "        }\n",
        "    },\n",
        "    \"column_mappings\": {'item': 'prompt', 'ID': 'participant', 'order':'response_num'},\n",
        "    'replace_values': {\n",
        "        \"response_num\": { ('p' + str(x)): x for x in range(1, 21) }\n",
        "    },\n",
        "    \"language\": \"pol\",\n",
        "    \"rater_cols\": ['coder1','coder2','coder3','coder4'],\n",
        "    \"range\": [1, 7],\n",
        "}\n",
        "\n",
        "polish_fname = download_from_description(polish2_desc, '../data/raw')[0]\n",
        "df = pd.read_excel(polish_fname)"
      ]
    },
    {
      "cell_type": "code",
      "execution_count": 14,
      "metadata": {},
      "outputs": [
        {
          "name": "stdout",
          "output_type": "stream",
          "text": [
            "multiaut_polish2_0\n"
          ]
        },
        {
          "data": {
            "text/markdown": [
              "### Loading *Patterson et al., 2023*"
            ],
            "text/plain": [
              "<IPython.core.display.Markdown object>"
            ]
          },
          "metadata": {},
          "output_type": "display_data"
        },
        {
          "data": {
            "text/markdown": [
              "Patterson, J. D., Merseal, H. M., Johnson, D. R., Agnoli, S., Baas, M., Baker, B. S., ... & Beaty, R. E. (2023). Multilingual semantic distance: Automatic verbal creativity assessment in many languages. Psychology of Aesthetics, Creativity, and the Arts, 17(4), 495."
            ],
            "text/plain": [
              "<IPython.core.display.Markdown object>"
            ]
          },
          "metadata": {},
          "output_type": "display_data"
        },
        {
          "data": {
            "text/markdown": [
              "- Renaming columns {'item': 'prompt', 'ID': 'participant', 'order': 'response_num'}"
            ],
            "text/plain": [
              "<IPython.core.display.Markdown object>"
            ]
          },
          "metadata": {},
          "output_type": "display_data"
        },
        {
          "data": {
            "text/markdown": [
              "WARNING: ICC has an undefined error for this dataset"
            ],
            "text/plain": [
              "<IPython.core.display.Markdown object>"
            ]
          },
          "metadata": {},
          "output_type": "display_data"
        },
        {
          "data": {
            "text/markdown": [
              "- name: multiaut_polish2\n",
              "- no_of_prompts: 3\n",
              "- no_of_participants: 497\n",
              "- no_of_data_points: 3054\n",
              "- prompts: ['sznurek', 'puszka', 'cegła']\n",
              "- ICC2k: None\n",
              "- ICC2k_CI: None\n",
              "- ICC3k: None\n",
              "- rater_cols: ['coder1', 'coder2', 'coder3', 'coder4']\n",
              "- no_of_raters: 4\n"
            ],
            "text/plain": [
              "<IPython.core.display.Markdown object>"
            ]
          },
          "metadata": {},
          "output_type": "display_data"
        },
        {
          "name": "stderr",
          "output_type": "stream",
          "text": [
            "/Users/peter.organisciak/anaconda3/lib/python3.9/site-packages/pandas/io/sql.py:761: UserWarning: pandas only support SQLAlchemy connectable(engine/connection) ordatabase string URI or sqlite3 DBAPI2 connectionother DBAPI2 objects are not tested, please consider using SQLAlchemy\n",
            "  warnings.warn(\n"
          ]
        },
        {
          "data": {
            "text/html": [
              "<div>\n",
              "<style scoped>\n",
              "    .dataframe tbody tr th:only-of-type {\n",
              "        vertical-align: middle;\n",
              "    }\n",
              "\n",
              "    .dataframe tbody tr th {\n",
              "        vertical-align: top;\n",
              "    }\n",
              "\n",
              "    .dataframe thead th {\n",
              "        text-align: right;\n",
              "    }\n",
              "</style>\n",
              "<table border=\"1\" class=\"dataframe\">\n",
              "  <thead>\n",
              "    <tr style=\"text-align: right;\">\n",
              "      <th></th>\n",
              "      <th>type</th>\n",
              "      <th>src</th>\n",
              "      <th>question</th>\n",
              "      <th>prompt</th>\n",
              "      <th>response</th>\n",
              "      <th>id</th>\n",
              "      <th>target</th>\n",
              "      <th>participant</th>\n",
              "      <th>response_num</th>\n",
              "      <th>language</th>\n",
              "      <th>rater_count</th>\n",
              "      <th>rating_std</th>\n",
              "    </tr>\n",
              "  </thead>\n",
              "  <tbody>\n",
              "    <tr>\n",
              "      <th>1215</th>\n",
              "      <td>uses</td>\n",
              "      <td>multiaut_polish2</td>\n",
              "      <td>Jakie jest zaskakujące zastosowanie dla PUSZKI?</td>\n",
              "      <td>puszka</td>\n",
              "      <td>jako ozdoba  jako flakon</td>\n",
              "      <td>multiaut_polish2_puszka-9f07e7</td>\n",
              "      <td>2.666667</td>\n",
              "      <td>multiaut_polish277646</td>\n",
              "      <td>1</td>\n",
              "      <td>pol</td>\n",
              "      <td>2</td>\n",
              "      <td>0.707107</td>\n",
              "    </tr>\n",
              "    <tr>\n",
              "      <th>1843</th>\n",
              "      <td>uses</td>\n",
              "      <td>multiaut_polish2</td>\n",
              "      <td>Jakie jest zaskakujące zastosowanie dla PUSZKI?</td>\n",
              "      <td>puszka</td>\n",
              "      <td>jako pojemnik na przybory kuchenne</td>\n",
              "      <td>multiaut_polish2_puszka-709c72</td>\n",
              "      <td>2.000000</td>\n",
              "      <td>multiaut_polish2438680</td>\n",
              "      <td>1</td>\n",
              "      <td>pol</td>\n",
              "      <td>2</td>\n",
              "      <td>0.707107</td>\n",
              "    </tr>\n",
              "  </tbody>\n",
              "</table>\n",
              "</div>"
            ],
            "text/plain": [
              "      type               src                                         question  \\\n",
              "1215  uses  multiaut_polish2  Jakie jest zaskakujące zastosowanie dla PUSZKI?   \n",
              "1843  uses  multiaut_polish2  Jakie jest zaskakujące zastosowanie dla PUSZKI?   \n",
              "\n",
              "      prompt                            response  \\\n",
              "1215  puszka            jako ozdoba  jako flakon   \n",
              "1843  puszka  jako pojemnik na przybory kuchenne   \n",
              "\n",
              "                                  id    target             participant  \\\n",
              "1215  multiaut_polish2_puszka-9f07e7  2.666667   multiaut_polish277646   \n",
              "1843  multiaut_polish2_puszka-709c72  2.000000  multiaut_polish2438680   \n",
              "\n",
              "      response_num language  rater_count  rating_std  \n",
              "1215             1      pol            2    0.707107  \n",
              "1843             1      pol            2    0.707107  "
            ]
          },
          "metadata": {},
          "output_type": "display_data"
        },
        {
          "name": "stdout",
          "output_type": "stream",
          "text": [
            "arabic1\n"
          ]
        },
        {
          "data": {
            "text/markdown": [
              "### Loading *Patterson et al., 2023*"
            ],
            "text/plain": [
              "<IPython.core.display.Markdown object>"
            ]
          },
          "metadata": {},
          "output_type": "display_data"
        },
        {
          "data": {
            "text/markdown": [
              "Patterson, J. D., Merseal, H. M., Johnson, D. R., Agnoli, S., Baas, M., Baker, B. S., ... & Beaty, R. E. (2023). Multilingual semantic distance: Automatic verbal creativity assessment in many languages. Psychology of Aesthetics, Creativity, and the Arts, 17(4), 495."
            ],
            "text/plain": [
              "<IPython.core.display.Markdown object>"
            ]
          },
          "metadata": {},
          "output_type": "display_data"
        },
        {
          "data": {
            "text/markdown": [
              "- Renaming columns {'ID': 'participant', 'order': 'response_num'}"
            ],
            "text/plain": [
              "<IPython.core.display.Markdown object>"
            ]
          },
          "metadata": {},
          "output_type": "display_data"
        },
        {
          "data": {
            "text/markdown": [
              "- name: multiaut_arabic1\n",
              "- no_of_prompts: 1\n",
              "- no_of_participants: 160\n",
              "- no_of_data_points: 1524\n",
              "- prompts: ['علب الصفيح']\n",
              "- ICC2k: None\n",
              "- ICC2k_CI: None\n",
              "- ICC3k: None\n",
              "- rater_cols: ['rater1']\n",
              "- no_of_raters: 1\n"
            ],
            "text/plain": [
              "<IPython.core.display.Markdown object>"
            ]
          },
          "metadata": {},
          "output_type": "display_data"
        },
        {
          "name": "stderr",
          "output_type": "stream",
          "text": [
            "/Users/peter.organisciak/anaconda3/lib/python3.9/site-packages/pandas/io/sql.py:761: UserWarning: pandas only support SQLAlchemy connectable(engine/connection) ordatabase string URI or sqlite3 DBAPI2 connectionother DBAPI2 objects are not tested, please consider using SQLAlchemy\n",
            "  warnings.warn(\n"
          ]
        },
        {
          "data": {
            "text/html": [
              "<div>\n",
              "<style scoped>\n",
              "    .dataframe tbody tr th:only-of-type {\n",
              "        vertical-align: middle;\n",
              "    }\n",
              "\n",
              "    .dataframe tbody tr th {\n",
              "        vertical-align: top;\n",
              "    }\n",
              "\n",
              "    .dataframe thead th {\n",
              "        text-align: right;\n",
              "    }\n",
              "</style>\n",
              "<table border=\"1\" class=\"dataframe\">\n",
              "  <thead>\n",
              "    <tr style=\"text-align: right;\">\n",
              "      <th></th>\n",
              "      <th>type</th>\n",
              "      <th>src</th>\n",
              "      <th>question</th>\n",
              "      <th>prompt</th>\n",
              "      <th>response</th>\n",
              "      <th>id</th>\n",
              "      <th>target</th>\n",
              "      <th>participant</th>\n",
              "      <th>response_num</th>\n",
              "      <th>language</th>\n",
              "      <th>rater_count</th>\n",
              "      <th>rating_std</th>\n",
              "    </tr>\n",
              "  </thead>\n",
              "  <tbody>\n",
              "    <tr>\n",
              "      <th>504</th>\n",
              "      <td>uses</td>\n",
              "      <td>multiaut_arabic1</td>\n",
              "      <td>ما هو الاستخدام المفاجئ لـ علب الصفيح؟</td>\n",
              "      <td>علب الصفيح</td>\n",
              "      <td>منظم للأحذية</td>\n",
              "      <td>multiaut_arabic1_علب الصفيح-8abc7c</td>\n",
              "      <td>4.0</td>\n",
              "      <td>multiaut_arabic168</td>\n",
              "      <td>8</td>\n",
              "      <td>ara</td>\n",
              "      <td>1</td>\n",
              "      <td>NaN</td>\n",
              "    </tr>\n",
              "    <tr>\n",
              "      <th>1095</th>\n",
              "      <td>uses</td>\n",
              "      <td>multiaut_arabic1</td>\n",
              "      <td>ما هو الاستخدام المفاجئ لـ علب الصفيح؟</td>\n",
              "      <td>علب الصفيح</td>\n",
              "      <td>حصالة</td>\n",
              "      <td>multiaut_arabic1_علب الصفيح-b629bd</td>\n",
              "      <td>1.0</td>\n",
              "      <td>multiaut_arabic1141</td>\n",
              "      <td>1</td>\n",
              "      <td>ara</td>\n",
              "      <td>1</td>\n",
              "      <td>NaN</td>\n",
              "    </tr>\n",
              "  </tbody>\n",
              "</table>\n",
              "</div>"
            ],
            "text/plain": [
              "      type               src                                question  \\\n",
              "504   uses  multiaut_arabic1  ما هو الاستخدام المفاجئ لـ علب الصفيح؟   \n",
              "1095  uses  multiaut_arabic1  ما هو الاستخدام المفاجئ لـ علب الصفيح؟   \n",
              "\n",
              "          prompt      response                                  id  target  \\\n",
              "504   علب الصفيح  منظم للأحذية  multiaut_arabic1_علب الصفيح-8abc7c     4.0   \n",
              "1095  علب الصفيح         حصالة  multiaut_arabic1_علب الصفيح-b629bd     1.0   \n",
              "\n",
              "              participant  response_num language  rater_count  rating_std  \n",
              "504    multiaut_arabic168             8      ara            1         NaN  \n",
              "1095  multiaut_arabic1141             1      ara            1         NaN  "
            ]
          },
          "metadata": {},
          "output_type": "display_data"
        },
        {
          "name": "stdout",
          "output_type": "stream",
          "text": [
            "dutch4\n"
          ]
        },
        {
          "data": {
            "text/markdown": [
              "### Loading *Patterson et al., 2023*"
            ],
            "text/plain": [
              "<IPython.core.display.Markdown object>"
            ]
          },
          "metadata": {},
          "output_type": "display_data"
        },
        {
          "data": {
            "text/markdown": [
              "Patterson, J. D., Merseal, H. M., Johnson, D. R., Agnoli, S., Baas, M., Baker, B. S., ... & Beaty, R. E. (2023). Multilingual semantic distance: Automatic verbal creativity assessment in many languages. Psychology of Aesthetics, Creativity, and the Arts, 17(4), 495."
            ],
            "text/plain": [
              "<IPython.core.display.Markdown object>"
            ]
          },
          "metadata": {},
          "output_type": "display_data"
        },
        {
          "data": {
            "text/markdown": [
              "- Renaming columns {'ID': 'participant', 'order': 'response_num'}"
            ],
            "text/plain": [
              "<IPython.core.display.Markdown object>"
            ]
          },
          "metadata": {},
          "output_type": "display_data"
        },
        {
          "data": {
            "text/markdown": [
              "- Inferred range of original data: (0.0, 5.0)"
            ],
            "text/plain": [
              "<IPython.core.display.Markdown object>"
            ]
          },
          "metadata": {},
          "output_type": "display_data"
        },
        {
          "data": {
            "text/markdown": [
              "- name: multiaut_dutch4\n",
              "- no_of_prompts: 1\n",
              "- no_of_participants: 99\n",
              "- no_of_data_points: 2414\n",
              "- prompts: ['backstreen']\n",
              "- ICC2k: 0.84\n",
              "- ICC2k_CI: 0.82-0.86\n",
              "- ICC3k: 0.85\n",
              "- rater_cols: ['rater1', 'rater2', 'rater3']\n",
              "- no_of_raters: 3\n"
            ],
            "text/plain": [
              "<IPython.core.display.Markdown object>"
            ]
          },
          "metadata": {},
          "output_type": "display_data"
        },
        {
          "name": "stderr",
          "output_type": "stream",
          "text": [
            "/Users/peter.organisciak/anaconda3/lib/python3.9/site-packages/pandas/io/sql.py:761: UserWarning: pandas only support SQLAlchemy connectable(engine/connection) ordatabase string URI or sqlite3 DBAPI2 connectionother DBAPI2 objects are not tested, please consider using SQLAlchemy\n",
            "  warnings.warn(\n"
          ]
        },
        {
          "data": {
            "text/html": [
              "<div>\n",
              "<style scoped>\n",
              "    .dataframe tbody tr th:only-of-type {\n",
              "        vertical-align: middle;\n",
              "    }\n",
              "\n",
              "    .dataframe tbody tr th {\n",
              "        vertical-align: top;\n",
              "    }\n",
              "\n",
              "    .dataframe thead th {\n",
              "        text-align: right;\n",
              "    }\n",
              "</style>\n",
              "<table border=\"1\" class=\"dataframe\">\n",
              "  <thead>\n",
              "    <tr style=\"text-align: right;\">\n",
              "      <th></th>\n",
              "      <th>type</th>\n",
              "      <th>src</th>\n",
              "      <th>question</th>\n",
              "      <th>prompt</th>\n",
              "      <th>response</th>\n",
              "      <th>id</th>\n",
              "      <th>target</th>\n",
              "      <th>participant</th>\n",
              "      <th>response_num</th>\n",
              "      <th>language</th>\n",
              "      <th>rater_count</th>\n",
              "      <th>rating_std</th>\n",
              "    </tr>\n",
              "  </thead>\n",
              "  <tbody>\n",
              "    <tr>\n",
              "      <th>2013</th>\n",
              "      <td>uses</td>\n",
              "      <td>multiaut_dutch4</td>\n",
              "      <td>Wat is een verrassend gebruik voor een BACKSTR...</td>\n",
              "      <td>backstreen</td>\n",
              "      <td>Een put van bouwen</td>\n",
              "      <td>multiaut_dutch4_backstreen-aa75ec</td>\n",
              "      <td>2.3336</td>\n",
              "      <td>multiaut_dutch422</td>\n",
              "      <td>None</td>\n",
              "      <td>dut</td>\n",
              "      <td>3</td>\n",
              "      <td>0.57735</td>\n",
              "    </tr>\n",
              "    <tr>\n",
              "      <th>471</th>\n",
              "      <td>uses</td>\n",
              "      <td>multiaut_dutch4</td>\n",
              "      <td>Wat is een verrassend gebruik voor een BACKSTR...</td>\n",
              "      <td>backstreen</td>\n",
              "      <td>Huis bouwen</td>\n",
              "      <td>multiaut_dutch4_backstreen-343967</td>\n",
              "      <td>1.8000</td>\n",
              "      <td>multiaut_dutch475</td>\n",
              "      <td>None</td>\n",
              "      <td>dut</td>\n",
              "      <td>3</td>\n",
              "      <td>0.00000</td>\n",
              "    </tr>\n",
              "  </tbody>\n",
              "</table>\n",
              "</div>"
            ],
            "text/plain": [
              "      type              src  \\\n",
              "2013  uses  multiaut_dutch4   \n",
              "471   uses  multiaut_dutch4   \n",
              "\n",
              "                                               question      prompt  \\\n",
              "2013  Wat is een verrassend gebruik voor een BACKSTR...  backstreen   \n",
              "471   Wat is een verrassend gebruik voor een BACKSTR...  backstreen   \n",
              "\n",
              "                response                                 id  target  \\\n",
              "2013  Een put van bouwen  multiaut_dutch4_backstreen-aa75ec  2.3336   \n",
              "471          Huis bouwen  multiaut_dutch4_backstreen-343967  1.8000   \n",
              "\n",
              "            participant response_num language  rater_count  rating_std  \n",
              "2013  multiaut_dutch422         None      dut            3     0.57735  \n",
              "471   multiaut_dutch475         None      dut            3     0.00000  "
            ]
          },
          "metadata": {},
          "output_type": "display_data"
        },
        {
          "name": "stdout",
          "output_type": "stream",
          "text": [
            "german3\n"
          ]
        },
        {
          "data": {
            "text/markdown": [
              "### Loading *Patterson et al., 2023*"
            ],
            "text/plain": [
              "<IPython.core.display.Markdown object>"
            ]
          },
          "metadata": {},
          "output_type": "display_data"
        },
        {
          "data": {
            "text/markdown": [
              "Patterson, J. D., Merseal, H. M., Johnson, D. R., Agnoli, S., Baas, M., Baker, B. S., ... & Beaty, R. E. (2023). Multilingual semantic distance: Automatic verbal creativity assessment in many languages. Psychology of Aesthetics, Creativity, and the Arts, 17(4), 495."
            ],
            "text/plain": [
              "<IPython.core.display.Markdown object>"
            ]
          },
          "metadata": {},
          "output_type": "display_data"
        },
        {
          "data": {
            "text/markdown": [
              "- Renaming columns {'ID': 'participant', 'order': 'response_num'}"
            ],
            "text/plain": [
              "<IPython.core.display.Markdown object>"
            ]
          },
          "metadata": {},
          "output_type": "display_data"
        },
        {
          "data": {
            "text/markdown": [
              "- Inferred range of original data: (1, 5)"
            ],
            "text/plain": [
              "<IPython.core.display.Markdown object>"
            ]
          },
          "metadata": {},
          "output_type": "display_data"
        },
        {
          "data": {
            "text/markdown": [
              "- name: multiaut_german3\n",
              "- no_of_prompts: 16\n",
              "- no_of_participants: 51\n",
              "- no_of_data_points: 8065\n",
              "- prompts: ['Axt', 'Trompete', 'Erbse', 'Tisch', 'Flöte', 'Zange', 'Gurke', 'Bett', 'Tomate', 'Geige', 'Schaufel', 'Schrank', 'Paprika', 'Stuhl', 'Trommel', 'Säge']\n",
              "- ICC2k: 0.85\n",
              "- ICC2k_CI: 0.83-0.87\n",
              "- ICC3k: 0.86\n",
              "- rater_cols: ['rater1', 'rater2', 'rater3']\n",
              "- no_of_raters: 3\n"
            ],
            "text/plain": [
              "<IPython.core.display.Markdown object>"
            ]
          },
          "metadata": {},
          "output_type": "display_data"
        },
        {
          "name": "stderr",
          "output_type": "stream",
          "text": [
            "/Users/peter.organisciak/anaconda3/lib/python3.9/site-packages/pandas/io/sql.py:761: UserWarning: pandas only support SQLAlchemy connectable(engine/connection) ordatabase string URI or sqlite3 DBAPI2 connectionother DBAPI2 objects are not tested, please consider using SQLAlchemy\n",
            "  warnings.warn(\n"
          ]
        },
        {
          "data": {
            "text/html": [
              "<div>\n",
              "<style scoped>\n",
              "    .dataframe tbody tr th:only-of-type {\n",
              "        vertical-align: middle;\n",
              "    }\n",
              "\n",
              "    .dataframe tbody tr th {\n",
              "        vertical-align: top;\n",
              "    }\n",
              "\n",
              "    .dataframe thead th {\n",
              "        text-align: right;\n",
              "    }\n",
              "</style>\n",
              "<table border=\"1\" class=\"dataframe\">\n",
              "  <thead>\n",
              "    <tr style=\"text-align: right;\">\n",
              "      <th></th>\n",
              "      <th>type</th>\n",
              "      <th>src</th>\n",
              "      <th>question</th>\n",
              "      <th>prompt</th>\n",
              "      <th>response</th>\n",
              "      <th>id</th>\n",
              "      <th>target</th>\n",
              "      <th>participant</th>\n",
              "      <th>response_num</th>\n",
              "      <th>language</th>\n",
              "      <th>rater_count</th>\n",
              "      <th>rating_std</th>\n",
              "    </tr>\n",
              "  </thead>\n",
              "  <tbody>\n",
              "    <tr>\n",
              "      <th>3762</th>\n",
              "      <td>uses</td>\n",
              "      <td>multiaut_german3</td>\n",
              "      <td>Was ist eine überraschende Verwendung für eine...</td>\n",
              "      <td>Tisch</td>\n",
              "      <td>sich drunter verstecken</td>\n",
              "      <td>multiaut_german3_Tisch-923514</td>\n",
              "      <td>2.0</td>\n",
              "      <td>multiaut_german326</td>\n",
              "      <td>55</td>\n",
              "      <td>ger</td>\n",
              "      <td>3</td>\n",
              "      <td>0.0</td>\n",
              "    </tr>\n",
              "    <tr>\n",
              "      <th>6880</th>\n",
              "      <td>uses</td>\n",
              "      <td>multiaut_german3</td>\n",
              "      <td>Was ist eine überraschende Verwendung für eine...</td>\n",
              "      <td>Erbse</td>\n",
              "      <td>einfrieren</td>\n",
              "      <td>multiaut_german3_Erbse-84327a</td>\n",
              "      <td>1.0</td>\n",
              "      <td>multiaut_german348</td>\n",
              "      <td>99</td>\n",
              "      <td>ger</td>\n",
              "      <td>3</td>\n",
              "      <td>0.0</td>\n",
              "    </tr>\n",
              "  </tbody>\n",
              "</table>\n",
              "</div>"
            ],
            "text/plain": [
              "      type               src  \\\n",
              "3762  uses  multiaut_german3   \n",
              "6880  uses  multiaut_german3   \n",
              "\n",
              "                                               question prompt  \\\n",
              "3762  Was ist eine überraschende Verwendung für eine...  Tisch   \n",
              "6880  Was ist eine überraschende Verwendung für eine...  Erbse   \n",
              "\n",
              "                     response                             id  target  \\\n",
              "3762  sich drunter verstecken  multiaut_german3_Tisch-923514     2.0   \n",
              "6880               einfrieren  multiaut_german3_Erbse-84327a     1.0   \n",
              "\n",
              "             participant  response_num language  rater_count  rating_std  \n",
              "3762  multiaut_german326            55      ger            3         0.0  \n",
              "6880  multiaut_german348            99      ger            3         0.0  "
            ]
          },
          "metadata": {},
          "output_type": "display_data"
        },
        {
          "name": "stdout",
          "output_type": "stream",
          "text": [
            "russian1\n"
          ]
        },
        {
          "data": {
            "text/markdown": [
              "### Loading *Patterson et al., 2023*"
            ],
            "text/plain": [
              "<IPython.core.display.Markdown object>"
            ]
          },
          "metadata": {},
          "output_type": "display_data"
        },
        {
          "data": {
            "text/markdown": [
              "Patterson, J. D., Merseal, H. M., Johnson, D. R., Agnoli, S., Baas, M., Baker, B. S., ... & Beaty, R. E. (2023). Multilingual semantic distance: Automatic verbal creativity assessment in many languages. Psychology of Aesthetics, Creativity, and the Arts, 17(4), 495."
            ],
            "text/plain": [
              "<IPython.core.display.Markdown object>"
            ]
          },
          "metadata": {},
          "output_type": "display_data"
        },
        {
          "data": {
            "text/markdown": [
              "- Renaming columns {'ID': 'participant', 'order': 'response_num'}"
            ],
            "text/plain": [
              "<IPython.core.display.Markdown object>"
            ]
          },
          "metadata": {},
          "output_type": "display_data"
        },
        {
          "data": {
            "text/markdown": [
              "- Inferred range of original data: (1, 5)"
            ],
            "text/plain": [
              "<IPython.core.display.Markdown object>"
            ]
          },
          "metadata": {},
          "output_type": "display_data"
        },
        {
          "data": {
            "text/markdown": [
              "- name: multiaut_russian1\n",
              "- no_of_prompts: 2\n",
              "- no_of_participants: 111\n",
              "- no_of_data_points: 1728\n",
              "- prompts: ['газета', 'деревянная линейка']\n",
              "- ICC2k: 0.72\n",
              "- ICC2k_CI: 0.69-0.74\n",
              "- ICC3k: 0.72\n",
              "- rater_cols: ['rater1', 'rater2', 'rater3']\n",
              "- no_of_raters: 3\n"
            ],
            "text/plain": [
              "<IPython.core.display.Markdown object>"
            ]
          },
          "metadata": {},
          "output_type": "display_data"
        },
        {
          "name": "stderr",
          "output_type": "stream",
          "text": [
            "/Users/peter.organisciak/anaconda3/lib/python3.9/site-packages/pandas/io/sql.py:761: UserWarning: pandas only support SQLAlchemy connectable(engine/connection) ordatabase string URI or sqlite3 DBAPI2 connectionother DBAPI2 objects are not tested, please consider using SQLAlchemy\n",
            "  warnings.warn(\n"
          ]
        },
        {
          "data": {
            "text/html": [
              "<div>\n",
              "<style scoped>\n",
              "    .dataframe tbody tr th:only-of-type {\n",
              "        vertical-align: middle;\n",
              "    }\n",
              "\n",
              "    .dataframe tbody tr th {\n",
              "        vertical-align: top;\n",
              "    }\n",
              "\n",
              "    .dataframe thead th {\n",
              "        text-align: right;\n",
              "    }\n",
              "</style>\n",
              "<table border=\"1\" class=\"dataframe\">\n",
              "  <thead>\n",
              "    <tr style=\"text-align: right;\">\n",
              "      <th></th>\n",
              "      <th>type</th>\n",
              "      <th>src</th>\n",
              "      <th>question</th>\n",
              "      <th>prompt</th>\n",
              "      <th>response</th>\n",
              "      <th>id</th>\n",
              "      <th>target</th>\n",
              "      <th>participant</th>\n",
              "      <th>response_num</th>\n",
              "      <th>language</th>\n",
              "      <th>rater_count</th>\n",
              "      <th>rating_std</th>\n",
              "    </tr>\n",
              "  </thead>\n",
              "  <tbody>\n",
              "    <tr>\n",
              "      <th>1019</th>\n",
              "      <td>uses</td>\n",
              "      <td>multiaut_russian1</td>\n",
              "      <td>Какое удивительное применение для ДЕРЕВЯННОЙ Л...</td>\n",
              "      <td>деревянная линейка</td>\n",
              "      <td>Гриф гитары</td>\n",
              "      <td>multiaut_russian1_деревянная линейка-50202f</td>\n",
              "      <td>4.000</td>\n",
              "      <td>multiaut_russian135</td>\n",
              "      <td>None</td>\n",
              "      <td>rus</td>\n",
              "      <td>3</td>\n",
              "      <td>0.00000</td>\n",
              "    </tr>\n",
              "    <tr>\n",
              "      <th>1056</th>\n",
              "      <td>uses</td>\n",
              "      <td>multiaut_russian1</td>\n",
              "      <td>Какое удивительное применение для ДЕРЕВЯННОЙ Л...</td>\n",
              "      <td>деревянная линейка</td>\n",
              "      <td>Доставать</td>\n",
              "      <td>multiaut_russian1_деревянная линейка-30b62e</td>\n",
              "      <td>2.333</td>\n",
              "      <td>multiaut_russian1108</td>\n",
              "      <td>None</td>\n",
              "      <td>rus</td>\n",
              "      <td>3</td>\n",
              "      <td>0.57735</td>\n",
              "    </tr>\n",
              "  </tbody>\n",
              "</table>\n",
              "</div>"
            ],
            "text/plain": [
              "      type                src  \\\n",
              "1019  uses  multiaut_russian1   \n",
              "1056  uses  multiaut_russian1   \n",
              "\n",
              "                                               question              prompt  \\\n",
              "1019  Какое удивительное применение для ДЕРЕВЯННОЙ Л...  деревянная линейка   \n",
              "1056  Какое удивительное применение для ДЕРЕВЯННОЙ Л...  деревянная линейка   \n",
              "\n",
              "         response                                           id  target  \\\n",
              "1019  Гриф гитары  multiaut_russian1_деревянная линейка-50202f   4.000   \n",
              "1056    Доставать  multiaut_russian1_деревянная линейка-30b62e   2.333   \n",
              "\n",
              "               participant response_num language  rater_count  rating_std  \n",
              "1019   multiaut_russian135         None      rus            3     0.00000  \n",
              "1056  multiaut_russian1108         None      rus            3     0.57735  "
            ]
          },
          "metadata": {},
          "output_type": "display_data"
        },
        {
          "name": "stdout",
          "output_type": "stream",
          "text": [
            "chinese1\n"
          ]
        },
        {
          "data": {
            "text/markdown": [
              "### Loading *Patterson et al., 2023*"
            ],
            "text/plain": [
              "<IPython.core.display.Markdown object>"
            ]
          },
          "metadata": {},
          "output_type": "display_data"
        },
        {
          "data": {
            "text/markdown": [
              "Patterson, J. D., Merseal, H. M., Johnson, D. R., Agnoli, S., Baas, M., Baker, B. S., ... & Beaty, R. E. (2023). Multilingual semantic distance: Automatic verbal creativity assessment in many languages. Psychology of Aesthetics, Creativity, and the Arts, 17(4), 495."
            ],
            "text/plain": [
              "<IPython.core.display.Markdown object>"
            ]
          },
          "metadata": {},
          "output_type": "display_data"
        },
        {
          "data": {
            "text/markdown": [
              "- Renaming columns {'ID': 'participant', 'order': 'response_num'}"
            ],
            "text/plain": [
              "<IPython.core.display.Markdown object>"
            ]
          },
          "metadata": {},
          "output_type": "display_data"
        },
        {
          "data": {
            "text/markdown": [
              "- Inferred range of original data: (0, 5)"
            ],
            "text/plain": [
              "<IPython.core.display.Markdown object>"
            ]
          },
          "metadata": {},
          "output_type": "display_data"
        },
        {
          "data": {
            "text/markdown": [
              "- name: multiaut_chinese1\n",
              "- no_of_prompts: 122\n",
              "- no_of_participants: 466\n",
              "- no_of_data_points: 14176\n",
              "- prompts: ['积木', '漏斗', '轮胎', '盘子', '皮带', '塑料袋', '西瓜', '牙签', '锅', '蚊帐', '头发', '纸盒', '铁链', '硬币', '字典', '报纸', '靴子', '易拉罐', '玉米', '南瓜', '耳机', '喇叭', '领带', '扑克', '手套', '银行卡', '袜子', '镊子', '卫生纸', '蛋清', '小米', '耳机线', '鞋带', '发簪', '柳树', '生姜', '红酒', '白酒', '木头', '火柴', '纽扣', '图钉', '吸管', '牙膏', '船桨', '面团', '西红柿', '荷叶', '磁铁', '弹弓', '钉子', '光盘', '毛巾', '橡皮擦', '球拍', '鹅卵石', '贝壳', '椰子', '花生', '核桃', '铃铛', '酒瓶', '西瓜皮', '冰块', '马来貘', '咖啡', '擀面杖', '戒指', '气球', '芦荟', '橄榄油', '花瓣', '土豆', '曲别针', '浴缸', '茶壶', '灌木', '无花果', '韭菜', '花椒', '纸巾', '皮筋', '黄金', '音响', '画像', '狐狸', '发带', '纸杯', '棉签', '柿子', '白纸', '杯子', '窗帘', '蛋糕', '地图', '风车', '夹子', '胶水', '蜡烛', '毛笔', '墨水', '铅笔', '钳子', '扇子', '勺子', '梳子', '柳条', '水壶', '算盘', '蛋壳', '台灯', '围巾', '温度计', '相机', '香蕉', '牙刷', '钥匙', '衣架', '砖头', '笛子', '酸奶', '吹风机']\n",
              "- ICC2k: 0.48\n",
              "- ICC2k_CI: 0.44-0.51\n",
              "- ICC3k: 0.49\n",
              "- rater_cols: ['rater1', 'rater2', 'rater3', 'rater4']\n",
              "- no_of_raters: 4\n"
            ],
            "text/plain": [
              "<IPython.core.display.Markdown object>"
            ]
          },
          "metadata": {},
          "output_type": "display_data"
        },
        {
          "name": "stderr",
          "output_type": "stream",
          "text": [
            "/Users/peter.organisciak/anaconda3/lib/python3.9/site-packages/pandas/io/sql.py:761: UserWarning: pandas only support SQLAlchemy connectable(engine/connection) ordatabase string URI or sqlite3 DBAPI2 connectionother DBAPI2 objects are not tested, please consider using SQLAlchemy\n",
            "  warnings.warn(\n"
          ]
        },
        {
          "data": {
            "text/html": [
              "<div>\n",
              "<style scoped>\n",
              "    .dataframe tbody tr th:only-of-type {\n",
              "        vertical-align: middle;\n",
              "    }\n",
              "\n",
              "    .dataframe tbody tr th {\n",
              "        vertical-align: top;\n",
              "    }\n",
              "\n",
              "    .dataframe thead th {\n",
              "        text-align: right;\n",
              "    }\n",
              "</style>\n",
              "<table border=\"1\" class=\"dataframe\">\n",
              "  <thead>\n",
              "    <tr style=\"text-align: right;\">\n",
              "      <th></th>\n",
              "      <th>type</th>\n",
              "      <th>src</th>\n",
              "      <th>question</th>\n",
              "      <th>prompt</th>\n",
              "      <th>response</th>\n",
              "      <th>id</th>\n",
              "      <th>target</th>\n",
              "      <th>participant</th>\n",
              "      <th>response_num</th>\n",
              "      <th>language</th>\n",
              "      <th>rater_count</th>\n",
              "      <th>rating_std</th>\n",
              "    </tr>\n",
              "  </thead>\n",
              "  <tbody>\n",
              "    <tr>\n",
              "      <th>2029</th>\n",
              "      <td>uses</td>\n",
              "      <td>multiaut_chinese1</td>\n",
              "      <td>手套的一个令人惊讶的用途是什么？</td>\n",
              "      <td>手套</td>\n",
              "      <td>沙包</td>\n",
              "      <td>multiaut_chinese1_手套-feff54</td>\n",
              "      <td>3.1998</td>\n",
              "      <td>multiaut_chinese11068</td>\n",
              "      <td>None</td>\n",
              "      <td>chi</td>\n",
              "      <td>4</td>\n",
              "      <td>0.957427</td>\n",
              "    </tr>\n",
              "    <tr>\n",
              "      <th>12153</th>\n",
              "      <td>uses</td>\n",
              "      <td>multiaut_chinese1</td>\n",
              "      <td>杯子的一个令人惊讶的用途是什么？</td>\n",
              "      <td>杯子</td>\n",
              "      <td>做头饰</td>\n",
              "      <td>multiaut_chinese1_杯子-3b795d</td>\n",
              "      <td>2.6000</td>\n",
              "      <td>multiaut_chinese11406</td>\n",
              "      <td>None</td>\n",
              "      <td>chi</td>\n",
              "      <td>4</td>\n",
              "      <td>0.816497</td>\n",
              "    </tr>\n",
              "  </tbody>\n",
              "</table>\n",
              "</div>"
            ],
            "text/plain": [
              "       type                src          question prompt response  \\\n",
              "2029   uses  multiaut_chinese1  手套的一个令人惊讶的用途是什么？     手套       沙包   \n",
              "12153  uses  multiaut_chinese1  杯子的一个令人惊讶的用途是什么？     杯子      做头饰   \n",
              "\n",
              "                                id  target            participant  \\\n",
              "2029   multiaut_chinese1_手套-feff54  3.1998  multiaut_chinese11068   \n",
              "12153  multiaut_chinese1_杯子-3b795d  2.6000  multiaut_chinese11406   \n",
              "\n",
              "      response_num language  rater_count  rating_std  \n",
              "2029          None      chi            4    0.957427  \n",
              "12153         None      chi            4    0.816497  "
            ]
          },
          "metadata": {},
          "output_type": "display_data"
        },
        {
          "name": "stdout",
          "output_type": "stream",
          "text": [
            "french2\n"
          ]
        },
        {
          "data": {
            "text/markdown": [
              "### Loading *Patterson et al., 2023*"
            ],
            "text/plain": [
              "<IPython.core.display.Markdown object>"
            ]
          },
          "metadata": {},
          "output_type": "display_data"
        },
        {
          "data": {
            "text/markdown": [
              "Patterson, J. D., Merseal, H. M., Johnson, D. R., Agnoli, S., Baas, M., Baker, B. S., ... & Beaty, R. E. (2023). Multilingual semantic distance: Automatic verbal creativity assessment in many languages. Psychology of Aesthetics, Creativity, and the Arts, 17(4), 495."
            ],
            "text/plain": [
              "<IPython.core.display.Markdown object>"
            ]
          },
          "metadata": {},
          "output_type": "display_data"
        },
        {
          "data": {
            "text/markdown": [
              "- Renaming columns {'ID': 'participant', 'order': 'response_num'}"
            ],
            "text/plain": [
              "<IPython.core.display.Markdown object>"
            ]
          },
          "metadata": {},
          "output_type": "display_data"
        },
        {
          "data": {
            "text/markdown": [
              "- Inferred range of original data: (1.0, 5.0)"
            ],
            "text/plain": [
              "<IPython.core.display.Markdown object>"
            ]
          },
          "metadata": {},
          "output_type": "display_data"
        },
        {
          "name": "stdout",
          "output_type": "stream",
          "text": [
            "Dropping 47 unrated items\n"
          ]
        },
        {
          "data": {
            "text/markdown": [
              "- name: multiaut_french2\n",
              "- no_of_prompts: 1\n",
              "- no_of_participants: 82\n",
              "- no_of_data_points: 449\n",
              "- prompts: ['chapeau']\n",
              "- ICC2k: 0.52\n",
              "- ICC2k_CI: 0.25-0.68\n",
              "- ICC3k: 0.64\n",
              "- rater_cols: ['rater1', 'rater2', 'rater3']\n",
              "- no_of_raters: 3\n"
            ],
            "text/plain": [
              "<IPython.core.display.Markdown object>"
            ]
          },
          "metadata": {},
          "output_type": "display_data"
        },
        {
          "name": "stderr",
          "output_type": "stream",
          "text": [
            "/Users/peter.organisciak/anaconda3/lib/python3.9/site-packages/pandas/io/sql.py:761: UserWarning: pandas only support SQLAlchemy connectable(engine/connection) ordatabase string URI or sqlite3 DBAPI2 connectionother DBAPI2 objects are not tested, please consider using SQLAlchemy\n",
            "  warnings.warn(\n"
          ]
        },
        {
          "data": {
            "text/html": [
              "<div>\n",
              "<style scoped>\n",
              "    .dataframe tbody tr th:only-of-type {\n",
              "        vertical-align: middle;\n",
              "    }\n",
              "\n",
              "    .dataframe tbody tr th {\n",
              "        vertical-align: top;\n",
              "    }\n",
              "\n",
              "    .dataframe thead th {\n",
              "        text-align: right;\n",
              "    }\n",
              "</style>\n",
              "<table border=\"1\" class=\"dataframe\">\n",
              "  <thead>\n",
              "    <tr style=\"text-align: right;\">\n",
              "      <th></th>\n",
              "      <th>type</th>\n",
              "      <th>src</th>\n",
              "      <th>question</th>\n",
              "      <th>prompt</th>\n",
              "      <th>response</th>\n",
              "      <th>id</th>\n",
              "      <th>target</th>\n",
              "      <th>participant</th>\n",
              "      <th>response_num</th>\n",
              "      <th>language</th>\n",
              "      <th>rater_count</th>\n",
              "      <th>rating_std</th>\n",
              "    </tr>\n",
              "  </thead>\n",
              "  <tbody>\n",
              "    <tr>\n",
              "      <th>252</th>\n",
              "      <td>uses</td>\n",
              "      <td>multiaut_french2</td>\n",
              "      <td>Quel est un usage surprenant pour un CHAPEAU?</td>\n",
              "      <td>chapeau</td>\n",
              "      <td>Un Ã©ventail</td>\n",
              "      <td>multiaut_french2_chapeau-a566d6</td>\n",
              "      <td>3.000</td>\n",
              "      <td>multiaut_french22794</td>\n",
              "      <td>None</td>\n",
              "      <td>fre</td>\n",
              "      <td>3</td>\n",
              "      <td>2.000000</td>\n",
              "    </tr>\n",
              "    <tr>\n",
              "      <th>422</th>\n",
              "      <td>uses</td>\n",
              "      <td>multiaut_french2</td>\n",
              "      <td>Quel est un usage surprenant pour un CHAPEAU?</td>\n",
              "      <td>chapeau</td>\n",
              "      <td>Bateau</td>\n",
              "      <td>multiaut_french2_chapeau-f1113a</td>\n",
              "      <td>4.334</td>\n",
              "      <td>multiaut_french23049</td>\n",
              "      <td>None</td>\n",
              "      <td>fre</td>\n",
              "      <td>3</td>\n",
              "      <td>1.154701</td>\n",
              "    </tr>\n",
              "  </tbody>\n",
              "</table>\n",
              "</div>"
            ],
            "text/plain": [
              "     type               src                                       question  \\\n",
              "252  uses  multiaut_french2  Quel est un usage surprenant pour un CHAPEAU?   \n",
              "422  uses  multiaut_french2  Quel est un usage surprenant pour un CHAPEAU?   \n",
              "\n",
              "      prompt      response                               id  target  \\\n",
              "252  chapeau  Un Ã©ventail  multiaut_french2_chapeau-a566d6   3.000   \n",
              "422  chapeau        Bateau  multiaut_french2_chapeau-f1113a   4.334   \n",
              "\n",
              "              participant response_num language  rater_count  rating_std  \n",
              "252  multiaut_french22794         None      fre            3    2.000000  \n",
              "422  multiaut_french23049         None      fre            3    1.154701  "
            ]
          },
          "metadata": {},
          "output_type": "display_data"
        },
        {
          "name": "stdout",
          "output_type": "stream",
          "text": [
            "hebrew1\n"
          ]
        },
        {
          "data": {
            "text/markdown": [
              "### Loading *Patterson et al., 2023*"
            ],
            "text/plain": [
              "<IPython.core.display.Markdown object>"
            ]
          },
          "metadata": {},
          "output_type": "display_data"
        },
        {
          "data": {
            "text/markdown": [
              "Patterson, J. D., Merseal, H. M., Johnson, D. R., Agnoli, S., Baas, M., Baker, B. S., ... & Beaty, R. E. (2023). Multilingual semantic distance: Automatic verbal creativity assessment in many languages. Psychology of Aesthetics, Creativity, and the Arts, 17(4), 495."
            ],
            "text/plain": [
              "<IPython.core.display.Markdown object>"
            ]
          },
          "metadata": {},
          "output_type": "display_data"
        },
        {
          "data": {
            "text/markdown": [
              "- Renaming columns {'ID': 'participant', 'order': 'response_num'}"
            ],
            "text/plain": [
              "<IPython.core.display.Markdown object>"
            ]
          },
          "metadata": {},
          "output_type": "display_data"
        },
        {
          "data": {
            "text/markdown": [
              "- Inferred range of original data: (1.0, 5.0)"
            ],
            "text/plain": [
              "<IPython.core.display.Markdown object>"
            ]
          },
          "metadata": {},
          "output_type": "display_data"
        },
        {
          "data": {
            "text/markdown": [
              "WARNING: ICC has an undefined error for this dataset"
            ],
            "text/plain": [
              "<IPython.core.display.Markdown object>"
            ]
          },
          "metadata": {},
          "output_type": "display_data"
        },
        {
          "data": {
            "text/markdown": [
              "- name: multiaut_hebrew1\n",
              "- no_of_prompts: 10\n",
              "- no_of_participants: 51\n",
              "- no_of_data_points: 2027\n",
              "- prompts: ['סכין', 'נעל', 'עיפרון', 'עיתון', 'מברג', 'קולב', 'צמיג', 'מטאטא', 'כיסא', 'כרית']\n",
              "- ICC2k: None\n",
              "- ICC2k_CI: None\n",
              "- ICC3k: None\n",
              "- rater_cols: ['rater1', 'rater2', 'rater3', 'rater4', 'rater5', 'rater6', 'rater7', 'rater8', 'rater9', 'rater10', 'rater11', 'rater12', 'rater13', 'rater14', 'rater15', 'rater16', 'rater17', 'rater18', 'rater19', 'rater20', 'rater21', 'rater22', 'rater23', 'rater24', 'rater25', 'rater26', 'rater27', 'rater28', 'rater29', 'rater30', 'rater31', 'rater32', 'rater33', 'rater34', 'rater35', 'rater36', 'rater37', 'rater38', 'rater39', 'rater40', 'rater41', 'rater42', 'rater43', 'rater44', 'rater45']\n",
              "- no_of_raters: 45\n"
            ],
            "text/plain": [
              "<IPython.core.display.Markdown object>"
            ]
          },
          "metadata": {},
          "output_type": "display_data"
        },
        {
          "name": "stderr",
          "output_type": "stream",
          "text": [
            "/Users/peter.organisciak/anaconda3/lib/python3.9/site-packages/pandas/io/sql.py:761: UserWarning: pandas only support SQLAlchemy connectable(engine/connection) ordatabase string URI or sqlite3 DBAPI2 connectionother DBAPI2 objects are not tested, please consider using SQLAlchemy\n",
            "  warnings.warn(\n"
          ]
        },
        {
          "data": {
            "text/html": [
              "<div>\n",
              "<style scoped>\n",
              "    .dataframe tbody tr th:only-of-type {\n",
              "        vertical-align: middle;\n",
              "    }\n",
              "\n",
              "    .dataframe tbody tr th {\n",
              "        vertical-align: top;\n",
              "    }\n",
              "\n",
              "    .dataframe thead th {\n",
              "        text-align: right;\n",
              "    }\n",
              "</style>\n",
              "<table border=\"1\" class=\"dataframe\">\n",
              "  <thead>\n",
              "    <tr style=\"text-align: right;\">\n",
              "      <th></th>\n",
              "      <th>type</th>\n",
              "      <th>src</th>\n",
              "      <th>question</th>\n",
              "      <th>prompt</th>\n",
              "      <th>response</th>\n",
              "      <th>id</th>\n",
              "      <th>target</th>\n",
              "      <th>participant</th>\n",
              "      <th>response_num</th>\n",
              "      <th>language</th>\n",
              "      <th>rater_count</th>\n",
              "      <th>rating_std</th>\n",
              "    </tr>\n",
              "  </thead>\n",
              "  <tbody>\n",
              "    <tr>\n",
              "      <th>47</th>\n",
              "      <td>uses</td>\n",
              "      <td>multiaut_hebrew1</td>\n",
              "      <td>מהו שימוש מפתיע לסכין?</td>\n",
              "      <td>סכין</td>\n",
              "      <td>מחורר דפים</td>\n",
              "      <td>multiaut_hebrew1_סכין-568b04</td>\n",
              "      <td>3.124875</td>\n",
              "      <td>multiaut_hebrew11904</td>\n",
              "      <td>1</td>\n",
              "      <td>heb</td>\n",
              "      <td>8</td>\n",
              "      <td>0.991031</td>\n",
              "    </tr>\n",
              "    <tr>\n",
              "      <th>749</th>\n",
              "      <td>uses</td>\n",
              "      <td>multiaut_hebrew1</td>\n",
              "      <td>מהו שימוש מפתיע לעיתון?</td>\n",
              "      <td>עיתון</td>\n",
              "      <td>להכין מודעה</td>\n",
              "      <td>multiaut_hebrew1_עיתון-53cd65</td>\n",
              "      <td>1.249750</td>\n",
              "      <td>multiaut_hebrew1392</td>\n",
              "      <td>2</td>\n",
              "      <td>heb</td>\n",
              "      <td>8</td>\n",
              "      <td>0.707107</td>\n",
              "    </tr>\n",
              "  </tbody>\n",
              "</table>\n",
              "</div>"
            ],
            "text/plain": [
              "     type               src                 question prompt     response  \\\n",
              "47   uses  multiaut_hebrew1   מהו שימוש מפתיע לסכין?   סכין   מחורר דפים   \n",
              "749  uses  multiaut_hebrew1  מהו שימוש מפתיע לעיתון?  עיתון  להכין מודעה   \n",
              "\n",
              "                                id    target           participant  \\\n",
              "47    multiaut_hebrew1_סכין-568b04  3.124875  multiaut_hebrew11904   \n",
              "749  multiaut_hebrew1_עיתון-53cd65  1.249750   multiaut_hebrew1392   \n",
              "\n",
              "     response_num language  rater_count  rating_std  \n",
              "47              1      heb            8    0.991031  \n",
              "749             2      heb            8    0.707107  "
            ]
          },
          "metadata": {},
          "output_type": "display_data"
        },
        {
          "name": "stdout",
          "output_type": "stream",
          "text": [
            "russian2\n"
          ]
        },
        {
          "data": {
            "text/markdown": [
              "### Loading *Patterson et al., 2023*"
            ],
            "text/plain": [
              "<IPython.core.display.Markdown object>"
            ]
          },
          "metadata": {},
          "output_type": "display_data"
        },
        {
          "data": {
            "text/markdown": [
              "Patterson, J. D., Merseal, H. M., Johnson, D. R., Agnoli, S., Baas, M., Baker, B. S., ... & Beaty, R. E. (2023). Multilingual semantic distance: Automatic verbal creativity assessment in many languages. Psychology of Aesthetics, Creativity, and the Arts, 17(4), 495."
            ],
            "text/plain": [
              "<IPython.core.display.Markdown object>"
            ]
          },
          "metadata": {},
          "output_type": "display_data"
        },
        {
          "data": {
            "text/markdown": [
              "- Renaming columns {'ID': 'participant', 'order': 'response_num'}"
            ],
            "text/plain": [
              "<IPython.core.display.Markdown object>"
            ]
          },
          "metadata": {},
          "output_type": "display_data"
        },
        {
          "data": {
            "text/markdown": [
              "- Inferred range of original data: (1, 5)"
            ],
            "text/plain": [
              "<IPython.core.display.Markdown object>"
            ]
          },
          "metadata": {},
          "output_type": "display_data"
        },
        {
          "data": {
            "text/markdown": [
              "- name: multiaut_russian2\n",
              "- no_of_prompts: 1\n",
              "- no_of_participants: 45\n",
              "- no_of_data_points: 370\n",
              "- prompts: ['картонная коробка']\n",
              "- ICC2k: 0.78\n",
              "- ICC2k_CI: 0.74-0.82\n",
              "- ICC3k: 0.79\n",
              "- rater_cols: ['rater1', 'rater2', 'rater3']\n",
              "- no_of_raters: 3\n"
            ],
            "text/plain": [
              "<IPython.core.display.Markdown object>"
            ]
          },
          "metadata": {},
          "output_type": "display_data"
        },
        {
          "name": "stderr",
          "output_type": "stream",
          "text": [
            "/Users/peter.organisciak/anaconda3/lib/python3.9/site-packages/pandas/io/sql.py:761: UserWarning: pandas only support SQLAlchemy connectable(engine/connection) ordatabase string URI or sqlite3 DBAPI2 connectionother DBAPI2 objects are not tested, please consider using SQLAlchemy\n",
            "  warnings.warn(\n"
          ]
        },
        {
          "data": {
            "text/html": [
              "<div>\n",
              "<style scoped>\n",
              "    .dataframe tbody tr th:only-of-type {\n",
              "        vertical-align: middle;\n",
              "    }\n",
              "\n",
              "    .dataframe tbody tr th {\n",
              "        vertical-align: top;\n",
              "    }\n",
              "\n",
              "    .dataframe thead th {\n",
              "        text-align: right;\n",
              "    }\n",
              "</style>\n",
              "<table border=\"1\" class=\"dataframe\">\n",
              "  <thead>\n",
              "    <tr style=\"text-align: right;\">\n",
              "      <th></th>\n",
              "      <th>type</th>\n",
              "      <th>src</th>\n",
              "      <th>question</th>\n",
              "      <th>prompt</th>\n",
              "      <th>response</th>\n",
              "      <th>id</th>\n",
              "      <th>target</th>\n",
              "      <th>participant</th>\n",
              "      <th>response_num</th>\n",
              "      <th>language</th>\n",
              "      <th>rater_count</th>\n",
              "      <th>rating_std</th>\n",
              "    </tr>\n",
              "  </thead>\n",
              "  <tbody>\n",
              "    <tr>\n",
              "      <th>102</th>\n",
              "      <td>uses</td>\n",
              "      <td>multiaut_russian2</td>\n",
              "      <td>Какое удивительное применение для КАРТОННОЙ КО...</td>\n",
              "      <td>картонная коробка</td>\n",
              "      <td>Из них можно сделать макеты города, а также ка...</td>\n",
              "      <td>multiaut_russian2_картонная коробка-5273d7</td>\n",
              "      <td>2.333</td>\n",
              "      <td>multiaut_russian212</td>\n",
              "      <td>None</td>\n",
              "      <td>rus</td>\n",
              "      <td>3</td>\n",
              "      <td>0.57735</td>\n",
              "    </tr>\n",
              "    <tr>\n",
              "      <th>93</th>\n",
              "      <td>uses</td>\n",
              "      <td>multiaut_russian2</td>\n",
              "      <td>Какое удивительное применение для КАРТОННОЙ КО...</td>\n",
              "      <td>картонная коробка</td>\n",
              "      <td>Из разрезанной большой коробки можно сделать к...</td>\n",
              "      <td>multiaut_russian2_картонная коробка-ec400f</td>\n",
              "      <td>3.000</td>\n",
              "      <td>multiaut_russian211</td>\n",
              "      <td>None</td>\n",
              "      <td>rus</td>\n",
              "      <td>3</td>\n",
              "      <td>0.00000</td>\n",
              "    </tr>\n",
              "  </tbody>\n",
              "</table>\n",
              "</div>"
            ],
            "text/plain": [
              "     type                src  \\\n",
              "102  uses  multiaut_russian2   \n",
              "93   uses  multiaut_russian2   \n",
              "\n",
              "                                              question             prompt  \\\n",
              "102  Какое удивительное применение для КАРТОННОЙ КО...  картонная коробка   \n",
              "93   Какое удивительное применение для КАРТОННОЙ КО...  картонная коробка   \n",
              "\n",
              "                                              response  \\\n",
              "102  Из них можно сделать макеты города, а также ка...   \n",
              "93   Из разрезанной большой коробки можно сделать к...   \n",
              "\n",
              "                                             id  target          participant  \\\n",
              "102  multiaut_russian2_картонная коробка-5273d7   2.333  multiaut_russian212   \n",
              "93   multiaut_russian2_картонная коробка-ec400f   3.000  multiaut_russian211   \n",
              "\n",
              "    response_num language  rater_count  rating_std  \n",
              "102         None      rus            3     0.57735  \n",
              "93          None      rus            3     0.00000  "
            ]
          },
          "metadata": {},
          "output_type": "display_data"
        },
        {
          "name": "stdout",
          "output_type": "stream",
          "text": [
            "chinese2\n"
          ]
        },
        {
          "data": {
            "text/markdown": [
              "### Loading *Patterson et al., 2023*"
            ],
            "text/plain": [
              "<IPython.core.display.Markdown object>"
            ]
          },
          "metadata": {},
          "output_type": "display_data"
        },
        {
          "data": {
            "text/markdown": [
              "Patterson, J. D., Merseal, H. M., Johnson, D. R., Agnoli, S., Baas, M., Baker, B. S., ... & Beaty, R. E. (2023). Multilingual semantic distance: Automatic verbal creativity assessment in many languages. Psychology of Aesthetics, Creativity, and the Arts, 17(4), 495."
            ],
            "text/plain": [
              "<IPython.core.display.Markdown object>"
            ]
          },
          "metadata": {},
          "output_type": "display_data"
        },
        {
          "data": {
            "text/markdown": [
              "- Renaming columns {'ID': 'participant', 'order': 'response_num'}"
            ],
            "text/plain": [
              "<IPython.core.display.Markdown object>"
            ]
          },
          "metadata": {},
          "output_type": "display_data"
        },
        {
          "data": {
            "text/markdown": [
              "WARNING: 3 out-of-range values clipped from rater1"
            ],
            "text/plain": [
              "<IPython.core.display.Markdown object>"
            ]
          },
          "metadata": {},
          "output_type": "display_data"
        },
        {
          "data": {
            "text/markdown": [
              "- name: multiaut_chinese2\n",
              "- no_of_prompts: 2\n",
              "- no_of_participants: 217\n",
              "- no_of_data_points: 1302\n",
              "- prompts: ['筷子', '易拉罐']\n",
              "- ICC2k: 0.73\n",
              "- ICC2k_CI: 0.64-0.79\n",
              "- ICC3k: 0.77\n",
              "- rater_cols: ['rater1', 'rater2', 'rater3', 'rater4']\n",
              "- no_of_raters: 4\n"
            ],
            "text/plain": [
              "<IPython.core.display.Markdown object>"
            ]
          },
          "metadata": {},
          "output_type": "display_data"
        },
        {
          "name": "stderr",
          "output_type": "stream",
          "text": [
            "/Users/peter.organisciak/anaconda3/lib/python3.9/site-packages/pandas/io/sql.py:761: UserWarning: pandas only support SQLAlchemy connectable(engine/connection) ordatabase string URI or sqlite3 DBAPI2 connectionother DBAPI2 objects are not tested, please consider using SQLAlchemy\n",
            "  warnings.warn(\n"
          ]
        },
        {
          "data": {
            "text/html": [
              "<div>\n",
              "<style scoped>\n",
              "    .dataframe tbody tr th:only-of-type {\n",
              "        vertical-align: middle;\n",
              "    }\n",
              "\n",
              "    .dataframe tbody tr th {\n",
              "        vertical-align: top;\n",
              "    }\n",
              "\n",
              "    .dataframe thead th {\n",
              "        text-align: right;\n",
              "    }\n",
              "</style>\n",
              "<table border=\"1\" class=\"dataframe\">\n",
              "  <thead>\n",
              "    <tr style=\"text-align: right;\">\n",
              "      <th></th>\n",
              "      <th>type</th>\n",
              "      <th>src</th>\n",
              "      <th>question</th>\n",
              "      <th>prompt</th>\n",
              "      <th>response</th>\n",
              "      <th>id</th>\n",
              "      <th>target</th>\n",
              "      <th>participant</th>\n",
              "      <th>response_num</th>\n",
              "      <th>language</th>\n",
              "      <th>rater_count</th>\n",
              "      <th>rating_std</th>\n",
              "    </tr>\n",
              "  </thead>\n",
              "  <tbody>\n",
              "    <tr>\n",
              "      <th>283</th>\n",
              "      <td>uses</td>\n",
              "      <td>multiaut_chinese2</td>\n",
              "      <td>筷子有什么令人惊讶的用途？</td>\n",
              "      <td>筷子</td>\n",
              "      <td>拧绳子的工具</td>\n",
              "      <td>multiaut_chinese2_筷子-ad6fa8</td>\n",
              "      <td>2.9995</td>\n",
              "      <td>multiaut_chinese2148</td>\n",
              "      <td>None</td>\n",
              "      <td>chi</td>\n",
              "      <td>4</td>\n",
              "      <td>1.414214</td>\n",
              "    </tr>\n",
              "    <tr>\n",
              "      <th>60</th>\n",
              "      <td>uses</td>\n",
              "      <td>multiaut_chinese2</td>\n",
              "      <td>筷子有什么令人惊讶的用途？</td>\n",
              "      <td>筷子</td>\n",
              "      <td>发簪</td>\n",
              "      <td>multiaut_chinese2_筷子-067672</td>\n",
              "      <td>2.0000</td>\n",
              "      <td>multiaut_chinese2111</td>\n",
              "      <td>None</td>\n",
              "      <td>chi</td>\n",
              "      <td>4</td>\n",
              "      <td>0.816497</td>\n",
              "    </tr>\n",
              "  </tbody>\n",
              "</table>\n",
              "</div>"
            ],
            "text/plain": [
              "     type                src       question prompt response  \\\n",
              "283  uses  multiaut_chinese2  筷子有什么令人惊讶的用途？     筷子   拧绳子的工具   \n",
              "60   uses  multiaut_chinese2  筷子有什么令人惊讶的用途？     筷子       发簪   \n",
              "\n",
              "                              id  target           participant response_num  \\\n",
              "283  multiaut_chinese2_筷子-ad6fa8  2.9995  multiaut_chinese2148         None   \n",
              "60   multiaut_chinese2_筷子-067672  2.0000  multiaut_chinese2111         None   \n",
              "\n",
              "    language  rater_count  rating_std  \n",
              "283      chi            4    1.414214  \n",
              "60       chi            4    0.816497  "
            ]
          },
          "metadata": {},
          "output_type": "display_data"
        },
        {
          "name": "stdout",
          "output_type": "stream",
          "text": [
            "english2\n",
            "NOTE: english2 had an encoding error. Opening and re-saving it seems to fix it.\n"
          ]
        },
        {
          "data": {
            "text/markdown": [
              "### Loading *Patterson et al., 2023*"
            ],
            "text/plain": [
              "<IPython.core.display.Markdown object>"
            ]
          },
          "metadata": {},
          "output_type": "display_data"
        },
        {
          "data": {
            "text/markdown": [
              "Patterson, J. D., Merseal, H. M., Johnson, D. R., Agnoli, S., Baas, M., Baker, B. S., ... & Beaty, R. E. (2023). Multilingual semantic distance: Automatic verbal creativity assessment in many languages. Psychology of Aesthetics, Creativity, and the Arts, 17(4), 495."
            ],
            "text/plain": [
              "<IPython.core.display.Markdown object>"
            ]
          },
          "metadata": {},
          "output_type": "display_data"
        },
        {
          "data": {
            "text/markdown": [
              "- Renaming columns {'ID': 'participant', 'order': 'response_num'}"
            ],
            "text/plain": [
              "<IPython.core.display.Markdown object>"
            ]
          },
          "metadata": {},
          "output_type": "display_data"
        },
        {
          "data": {
            "text/markdown": [
              "- Inferred range of original data: (1.0, 5.0)"
            ],
            "text/plain": [
              "<IPython.core.display.Markdown object>"
            ]
          },
          "metadata": {},
          "output_type": "display_data"
        },
        {
          "data": {
            "text/markdown": [
              "- name: multiaut_english2\n",
              "- no_of_prompts: 2\n",
              "- no_of_participants: 182\n",
              "- no_of_data_points: 3723\n",
              "- prompts: ['rope', 'box']\n",
              "- ICC2k: 0.71\n",
              "- ICC2k_CI: 0.59-0.78\n",
              "- ICC3k: 0.77\n",
              "- rater_cols: ['rater1', 'rater2', 'rater3', 'rater4']\n",
              "- no_of_raters: 4\n"
            ],
            "text/plain": [
              "<IPython.core.display.Markdown object>"
            ]
          },
          "metadata": {},
          "output_type": "display_data"
        },
        {
          "name": "stderr",
          "output_type": "stream",
          "text": [
            "/Users/peter.organisciak/anaconda3/lib/python3.9/site-packages/pandas/io/sql.py:761: UserWarning: pandas only support SQLAlchemy connectable(engine/connection) ordatabase string URI or sqlite3 DBAPI2 connectionother DBAPI2 objects are not tested, please consider using SQLAlchemy\n",
            "  warnings.warn(\n"
          ]
        },
        {
          "data": {
            "text/html": [
              "<div>\n",
              "<style scoped>\n",
              "    .dataframe tbody tr th:only-of-type {\n",
              "        vertical-align: middle;\n",
              "    }\n",
              "\n",
              "    .dataframe tbody tr th {\n",
              "        vertical-align: top;\n",
              "    }\n",
              "\n",
              "    .dataframe thead th {\n",
              "        text-align: right;\n",
              "    }\n",
              "</style>\n",
              "<table border=\"1\" class=\"dataframe\">\n",
              "  <thead>\n",
              "    <tr style=\"text-align: right;\">\n",
              "      <th></th>\n",
              "      <th>type</th>\n",
              "      <th>src</th>\n",
              "      <th>question</th>\n",
              "      <th>prompt</th>\n",
              "      <th>response</th>\n",
              "      <th>id</th>\n",
              "      <th>target</th>\n",
              "      <th>participant</th>\n",
              "      <th>response_num</th>\n",
              "      <th>language</th>\n",
              "      <th>rater_count</th>\n",
              "      <th>rating_std</th>\n",
              "    </tr>\n",
              "  </thead>\n",
              "  <tbody>\n",
              "    <tr>\n",
              "      <th>1331</th>\n",
              "      <td>uses</td>\n",
              "      <td>multiaut_english2</td>\n",
              "      <td>What is a surprising use for a ROPE?</td>\n",
              "      <td>rope</td>\n",
              "      <td>lasso</td>\n",
              "      <td>multiaut_english2_rope-3e5508</td>\n",
              "      <td>2.00000</td>\n",
              "      <td>multiaut_english263</td>\n",
              "      <td>None</td>\n",
              "      <td>eng</td>\n",
              "      <td>4</td>\n",
              "      <td>0.816497</td>\n",
              "    </tr>\n",
              "    <tr>\n",
              "      <th>2177</th>\n",
              "      <td>uses</td>\n",
              "      <td>multiaut_english2</td>\n",
              "      <td>What is a surprising use for a ROPE?</td>\n",
              "      <td>rope</td>\n",
              "      <td>climb a mountain or tree</td>\n",
              "      <td>multiaut_english2_rope-52f338</td>\n",
              "      <td>1.75025</td>\n",
              "      <td>multiaut_english2106</td>\n",
              "      <td>None</td>\n",
              "      <td>eng</td>\n",
              "      <td>4</td>\n",
              "      <td>0.500000</td>\n",
              "    </tr>\n",
              "  </tbody>\n",
              "</table>\n",
              "</div>"
            ],
            "text/plain": [
              "      type                src                              question prompt  \\\n",
              "1331  uses  multiaut_english2  What is a surprising use for a ROPE?   rope   \n",
              "2177  uses  multiaut_english2  What is a surprising use for a ROPE?   rope   \n",
              "\n",
              "                      response                             id   target  \\\n",
              "1331                     lasso  multiaut_english2_rope-3e5508  2.00000   \n",
              "2177  climb a mountain or tree  multiaut_english2_rope-52f338  1.75025   \n",
              "\n",
              "               participant response_num language  rater_count  rating_std  \n",
              "1331   multiaut_english263         None      eng            4    0.816497  \n",
              "2177  multiaut_english2106         None      eng            4    0.500000  "
            ]
          },
          "metadata": {},
          "output_type": "display_data"
        },
        {
          "name": "stdout",
          "output_type": "stream",
          "text": [
            "french3\n"
          ]
        },
        {
          "data": {
            "text/markdown": [
              "### Loading *Patterson et al., 2023*"
            ],
            "text/plain": [
              "<IPython.core.display.Markdown object>"
            ]
          },
          "metadata": {},
          "output_type": "display_data"
        },
        {
          "data": {
            "text/markdown": [
              "Patterson, J. D., Merseal, H. M., Johnson, D. R., Agnoli, S., Baas, M., Baker, B. S., ... & Beaty, R. E. (2023). Multilingual semantic distance: Automatic verbal creativity assessment in many languages. Psychology of Aesthetics, Creativity, and the Arts, 17(4), 495."
            ],
            "text/plain": [
              "<IPython.core.display.Markdown object>"
            ]
          },
          "metadata": {},
          "output_type": "display_data"
        },
        {
          "data": {
            "text/markdown": [
              "- Renaming columns {'ID': 'participant', 'order': 'response_num'}"
            ],
            "text/plain": [
              "<IPython.core.display.Markdown object>"
            ]
          },
          "metadata": {},
          "output_type": "display_data"
        },
        {
          "data": {
            "text/markdown": [
              "WARNING: 11 out-of-range values clipped from rater3"
            ],
            "text/plain": [
              "<IPython.core.display.Markdown object>"
            ]
          },
          "metadata": {},
          "output_type": "display_data"
        },
        {
          "name": "stdout",
          "output_type": "stream",
          "text": [
            "Dropping 10 unrated items\n"
          ]
        },
        {
          "data": {
            "text/markdown": [
              "- name: multiaut_french3\n",
              "- no_of_prompts: 2\n",
              "- no_of_participants: 277\n",
              "- no_of_data_points: 2181\n",
              "- prompts: ['ceinture', 'brouette']\n",
              "- ICC2k: 0.73\n",
              "- ICC2k_CI: 0.68-0.77\n",
              "- ICC3k: 0.75\n",
              "- rater_cols: ['rater1', 'rater2', 'rater3']\n",
              "- no_of_raters: 3\n"
            ],
            "text/plain": [
              "<IPython.core.display.Markdown object>"
            ]
          },
          "metadata": {},
          "output_type": "display_data"
        },
        {
          "name": "stderr",
          "output_type": "stream",
          "text": [
            "/Users/peter.organisciak/anaconda3/lib/python3.9/site-packages/pandas/io/sql.py:761: UserWarning: pandas only support SQLAlchemy connectable(engine/connection) ordatabase string URI or sqlite3 DBAPI2 connectionother DBAPI2 objects are not tested, please consider using SQLAlchemy\n",
            "  warnings.warn(\n"
          ]
        },
        {
          "data": {
            "text/html": [
              "<div>\n",
              "<style scoped>\n",
              "    .dataframe tbody tr th:only-of-type {\n",
              "        vertical-align: middle;\n",
              "    }\n",
              "\n",
              "    .dataframe tbody tr th {\n",
              "        vertical-align: top;\n",
              "    }\n",
              "\n",
              "    .dataframe thead th {\n",
              "        text-align: right;\n",
              "    }\n",
              "</style>\n",
              "<table border=\"1\" class=\"dataframe\">\n",
              "  <thead>\n",
              "    <tr style=\"text-align: right;\">\n",
              "      <th></th>\n",
              "      <th>type</th>\n",
              "      <th>src</th>\n",
              "      <th>question</th>\n",
              "      <th>prompt</th>\n",
              "      <th>response</th>\n",
              "      <th>id</th>\n",
              "      <th>target</th>\n",
              "      <th>participant</th>\n",
              "      <th>response_num</th>\n",
              "      <th>language</th>\n",
              "      <th>rater_count</th>\n",
              "      <th>rating_std</th>\n",
              "    </tr>\n",
              "  </thead>\n",
              "  <tbody>\n",
              "    <tr>\n",
              "      <th>1355</th>\n",
              "      <td>uses</td>\n",
              "      <td>multiaut_french3</td>\n",
              "      <td>Quel est un usage surprenant pour une CEINTURE?</td>\n",
              "      <td>ceinture</td>\n",
              "      <td>Faire Brancard</td>\n",
              "      <td>multiaut_french3_ceinture-150c95</td>\n",
              "      <td>3.667</td>\n",
              "      <td>multiaut_french3174</td>\n",
              "      <td>None</td>\n",
              "      <td>fre</td>\n",
              "      <td>3</td>\n",
              "      <td>0.577350</td>\n",
              "    </tr>\n",
              "    <tr>\n",
              "      <th>22</th>\n",
              "      <td>uses</td>\n",
              "      <td>multiaut_french3</td>\n",
              "      <td>Quel est un usage surprenant pour une CEINTURE?</td>\n",
              "      <td>ceinture</td>\n",
              "      <td>En bracelet autour du poignet</td>\n",
              "      <td>multiaut_french3_ceinture-360c7d</td>\n",
              "      <td>1.666</td>\n",
              "      <td>multiaut_french34</td>\n",
              "      <td>None</td>\n",
              "      <td>fre</td>\n",
              "      <td>3</td>\n",
              "      <td>1.154701</td>\n",
              "    </tr>\n",
              "  </tbody>\n",
              "</table>\n",
              "</div>"
            ],
            "text/plain": [
              "      type               src                                         question  \\\n",
              "1355  uses  multiaut_french3  Quel est un usage surprenant pour une CEINTURE?   \n",
              "22    uses  multiaut_french3  Quel est un usage surprenant pour une CEINTURE?   \n",
              "\n",
              "        prompt                       response  \\\n",
              "1355  ceinture                 Faire Brancard   \n",
              "22    ceinture  En bracelet autour du poignet   \n",
              "\n",
              "                                    id  target          participant  \\\n",
              "1355  multiaut_french3_ceinture-150c95   3.667  multiaut_french3174   \n",
              "22    multiaut_french3_ceinture-360c7d   1.666    multiaut_french34   \n",
              "\n",
              "     response_num language  rater_count  rating_std  \n",
              "1355         None      fre            3    0.577350  \n",
              "22           None      fre            3    1.154701  "
            ]
          },
          "metadata": {},
          "output_type": "display_data"
        },
        {
          "name": "stdout",
          "output_type": "stream",
          "text": [
            "italian1\n"
          ]
        },
        {
          "data": {
            "text/markdown": [
              "### Loading *Patterson et al., 2023*"
            ],
            "text/plain": [
              "<IPython.core.display.Markdown object>"
            ]
          },
          "metadata": {},
          "output_type": "display_data"
        },
        {
          "data": {
            "text/markdown": [
              "Patterson, J. D., Merseal, H. M., Johnson, D. R., Agnoli, S., Baas, M., Baker, B. S., ... & Beaty, R. E. (2023). Multilingual semantic distance: Automatic verbal creativity assessment in many languages. Psychology of Aesthetics, Creativity, and the Arts, 17(4), 495."
            ],
            "text/plain": [
              "<IPython.core.display.Markdown object>"
            ]
          },
          "metadata": {},
          "output_type": "display_data"
        },
        {
          "data": {
            "text/markdown": [
              "- Renaming columns {'ID': 'participant', 'order': 'response_num'}"
            ],
            "text/plain": [
              "<IPython.core.display.Markdown object>"
            ]
          },
          "metadata": {},
          "output_type": "display_data"
        },
        {
          "data": {
            "text/markdown": [
              "- Inferred range of original data: (1, 5)"
            ],
            "text/plain": [
              "<IPython.core.display.Markdown object>"
            ]
          },
          "metadata": {},
          "output_type": "display_data"
        },
        {
          "data": {
            "text/markdown": [
              "- name: multiaut_italian1\n",
              "- no_of_prompts: 6\n",
              "- no_of_participants: 151\n",
              "- no_of_data_points: 4269\n",
              "- prompts: ['Attaccapanni', 'Barile', 'Bottiglia di plastica', 'Lampadina', 'Libro', 'Sedia']\n",
              "- ICC2k: 0.89\n",
              "- ICC2k_CI: 0.89-0.9\n",
              "- ICC3k: 0.89\n",
              "- rater_cols: ['rater1', 'rater2']\n",
              "- no_of_raters: 2\n"
            ],
            "text/plain": [
              "<IPython.core.display.Markdown object>"
            ]
          },
          "metadata": {},
          "output_type": "display_data"
        },
        {
          "name": "stderr",
          "output_type": "stream",
          "text": [
            "/Users/peter.organisciak/anaconda3/lib/python3.9/site-packages/pandas/io/sql.py:761: UserWarning: pandas only support SQLAlchemy connectable(engine/connection) ordatabase string URI or sqlite3 DBAPI2 connectionother DBAPI2 objects are not tested, please consider using SQLAlchemy\n",
            "  warnings.warn(\n"
          ]
        },
        {
          "data": {
            "text/html": [
              "<div>\n",
              "<style scoped>\n",
              "    .dataframe tbody tr th:only-of-type {\n",
              "        vertical-align: middle;\n",
              "    }\n",
              "\n",
              "    .dataframe tbody tr th {\n",
              "        vertical-align: top;\n",
              "    }\n",
              "\n",
              "    .dataframe thead th {\n",
              "        text-align: right;\n",
              "    }\n",
              "</style>\n",
              "<table border=\"1\" class=\"dataframe\">\n",
              "  <thead>\n",
              "    <tr style=\"text-align: right;\">\n",
              "      <th></th>\n",
              "      <th>type</th>\n",
              "      <th>src</th>\n",
              "      <th>question</th>\n",
              "      <th>prompt</th>\n",
              "      <th>response</th>\n",
              "      <th>id</th>\n",
              "      <th>target</th>\n",
              "      <th>participant</th>\n",
              "      <th>response_num</th>\n",
              "      <th>language</th>\n",
              "      <th>rater_count</th>\n",
              "      <th>rating_std</th>\n",
              "    </tr>\n",
              "  </thead>\n",
              "  <tbody>\n",
              "    <tr>\n",
              "      <th>299</th>\n",
              "      <td>uses</td>\n",
              "      <td>multiaut_italian1</td>\n",
              "      <td>Qual è un uso sorprendente per un BARILE?</td>\n",
              "      <td>Barile</td>\n",
              "      <td>portafiori</td>\n",
              "      <td>multiaut_italian1_Barile-9f68ae</td>\n",
              "      <td>2.0</td>\n",
              "      <td>multiaut_italian112</td>\n",
              "      <td>None</td>\n",
              "      <td>ita</td>\n",
              "      <td>2</td>\n",
              "      <td>0.0</td>\n",
              "    </tr>\n",
              "    <tr>\n",
              "      <th>3551</th>\n",
              "      <td>uses</td>\n",
              "      <td>multiaut_italian1</td>\n",
              "      <td>Qual è un uso sorprendente per una BOTTIGLIA D...</td>\n",
              "      <td>Bottiglia di plastica</td>\n",
              "      <td>posacenere</td>\n",
              "      <td>multiaut_italian1_Bottiglia di plastica-bddfee</td>\n",
              "      <td>2.0</td>\n",
              "      <td>multiaut_italian11046</td>\n",
              "      <td>None</td>\n",
              "      <td>ita</td>\n",
              "      <td>2</td>\n",
              "      <td>0.0</td>\n",
              "    </tr>\n",
              "  </tbody>\n",
              "</table>\n",
              "</div>"
            ],
            "text/plain": [
              "      type                src  \\\n",
              "299   uses  multiaut_italian1   \n",
              "3551  uses  multiaut_italian1   \n",
              "\n",
              "                                               question  \\\n",
              "299           Qual è un uso sorprendente per un BARILE?   \n",
              "3551  Qual è un uso sorprendente per una BOTTIGLIA D...   \n",
              "\n",
              "                     prompt    response  \\\n",
              "299                  Barile  portafiori   \n",
              "3551  Bottiglia di plastica  posacenere   \n",
              "\n",
              "                                                  id  target  \\\n",
              "299                  multiaut_italian1_Barile-9f68ae     2.0   \n",
              "3551  multiaut_italian1_Bottiglia di plastica-bddfee     2.0   \n",
              "\n",
              "                participant response_num language  rater_count  rating_std  \n",
              "299     multiaut_italian112         None      ita            2         0.0  \n",
              "3551  multiaut_italian11046         None      ita            2         0.0  "
            ]
          },
          "metadata": {},
          "output_type": "display_data"
        },
        {
          "name": "stdout",
          "output_type": "stream",
          "text": [
            "spanish1\n"
          ]
        },
        {
          "data": {
            "text/markdown": [
              "### Loading *Patterson et al., 2023*"
            ],
            "text/plain": [
              "<IPython.core.display.Markdown object>"
            ]
          },
          "metadata": {},
          "output_type": "display_data"
        },
        {
          "data": {
            "text/markdown": [
              "Patterson, J. D., Merseal, H. M., Johnson, D. R., Agnoli, S., Baas, M., Baker, B. S., ... & Beaty, R. E. (2023). Multilingual semantic distance: Automatic verbal creativity assessment in many languages. Psychology of Aesthetics, Creativity, and the Arts, 17(4), 495."
            ],
            "text/plain": [
              "<IPython.core.display.Markdown object>"
            ]
          },
          "metadata": {},
          "output_type": "display_data"
        },
        {
          "data": {
            "text/markdown": [
              "- Renaming columns {'ID': 'participant', 'order': 'response_num'}"
            ],
            "text/plain": [
              "<IPython.core.display.Markdown object>"
            ]
          },
          "metadata": {},
          "output_type": "display_data"
        },
        {
          "data": {
            "text/markdown": [
              "- Inferred range of original data: (1.0, 5.0)"
            ],
            "text/plain": [
              "<IPython.core.display.Markdown object>"
            ]
          },
          "metadata": {},
          "output_type": "display_data"
        },
        {
          "data": {
            "text/markdown": [
              "- name: multiaut_spanish1\n",
              "- no_of_prompts: 1\n",
              "- no_of_participants: 491\n",
              "- no_of_data_points: 2735\n",
              "- prompts: ['ladrillo']\n",
              "- ICC2k: 0.57\n",
              "- ICC2k_CI: 0.18-0.75\n",
              "- ICC3k: 0.75\n",
              "- rater_cols: ['rater1', 'rater2', 'rater3']\n",
              "- no_of_raters: 3\n"
            ],
            "text/plain": [
              "<IPython.core.display.Markdown object>"
            ]
          },
          "metadata": {},
          "output_type": "display_data"
        },
        {
          "name": "stderr",
          "output_type": "stream",
          "text": [
            "/Users/peter.organisciak/anaconda3/lib/python3.9/site-packages/pandas/io/sql.py:761: UserWarning: pandas only support SQLAlchemy connectable(engine/connection) ordatabase string URI or sqlite3 DBAPI2 connectionother DBAPI2 objects are not tested, please consider using SQLAlchemy\n",
            "  warnings.warn(\n"
          ]
        },
        {
          "data": {
            "text/html": [
              "<div>\n",
              "<style scoped>\n",
              "    .dataframe tbody tr th:only-of-type {\n",
              "        vertical-align: middle;\n",
              "    }\n",
              "\n",
              "    .dataframe tbody tr th {\n",
              "        vertical-align: top;\n",
              "    }\n",
              "\n",
              "    .dataframe thead th {\n",
              "        text-align: right;\n",
              "    }\n",
              "</style>\n",
              "<table border=\"1\" class=\"dataframe\">\n",
              "  <thead>\n",
              "    <tr style=\"text-align: right;\">\n",
              "      <th></th>\n",
              "      <th>type</th>\n",
              "      <th>src</th>\n",
              "      <th>question</th>\n",
              "      <th>prompt</th>\n",
              "      <th>response</th>\n",
              "      <th>id</th>\n",
              "      <th>target</th>\n",
              "      <th>participant</th>\n",
              "      <th>response_num</th>\n",
              "      <th>language</th>\n",
              "      <th>rater_count</th>\n",
              "      <th>rating_std</th>\n",
              "    </tr>\n",
              "  </thead>\n",
              "  <tbody>\n",
              "    <tr>\n",
              "      <th>1590</th>\n",
              "      <td>uses</td>\n",
              "      <td>multiaut_spanish1</td>\n",
              "      <td>¿Cuál es un uso sorprendente para un LADRILLO?</td>\n",
              "      <td>ladrillo</td>\n",
              "      <td>mesas</td>\n",
              "      <td>multiaut_spanish1_ladrillo-75c5d1</td>\n",
              "      <td>2.000</td>\n",
              "      <td>multiaut_spanish1239</td>\n",
              "      <td>4</td>\n",
              "      <td>spa</td>\n",
              "      <td>3</td>\n",
              "      <td>0.000000</td>\n",
              "    </tr>\n",
              "    <tr>\n",
              "      <th>519</th>\n",
              "      <td>uses</td>\n",
              "      <td>multiaut_spanish1</td>\n",
              "      <td>¿Cuál es un uso sorprendente para un LADRILLO?</td>\n",
              "      <td>ladrillo</td>\n",
              "      <td>decoraciÃ³n</td>\n",
              "      <td>multiaut_spanish1_ladrillo-3b1d46</td>\n",
              "      <td>2.666</td>\n",
              "      <td>multiaut_spanish179</td>\n",
              "      <td>3</td>\n",
              "      <td>spa</td>\n",
              "      <td>3</td>\n",
              "      <td>1.154701</td>\n",
              "    </tr>\n",
              "  </tbody>\n",
              "</table>\n",
              "</div>"
            ],
            "text/plain": [
              "      type                src                                        question  \\\n",
              "1590  uses  multiaut_spanish1  ¿Cuál es un uso sorprendente para un LADRILLO?   \n",
              "519   uses  multiaut_spanish1  ¿Cuál es un uso sorprendente para un LADRILLO?   \n",
              "\n",
              "        prompt     response                                 id  target  \\\n",
              "1590  ladrillo        mesas  multiaut_spanish1_ladrillo-75c5d1   2.000   \n",
              "519   ladrillo  decoraciÃ³n  multiaut_spanish1_ladrillo-3b1d46   2.666   \n",
              "\n",
              "               participant  response_num language  rater_count  rating_std  \n",
              "1590  multiaut_spanish1239             4      spa            3    0.000000  \n",
              "519    multiaut_spanish179             3      spa            3    1.154701  "
            ]
          },
          "metadata": {},
          "output_type": "display_data"
        },
        {
          "name": "stdout",
          "output_type": "stream",
          "text": [
            "dutch1\n"
          ]
        },
        {
          "data": {
            "text/markdown": [
              "### Loading *Patterson et al., 2023*"
            ],
            "text/plain": [
              "<IPython.core.display.Markdown object>"
            ]
          },
          "metadata": {},
          "output_type": "display_data"
        },
        {
          "data": {
            "text/markdown": [
              "Patterson, J. D., Merseal, H. M., Johnson, D. R., Agnoli, S., Baas, M., Baker, B. S., ... & Beaty, R. E. (2023). Multilingual semantic distance: Automatic verbal creativity assessment in many languages. Psychology of Aesthetics, Creativity, and the Arts, 17(4), 495."
            ],
            "text/plain": [
              "<IPython.core.display.Markdown object>"
            ]
          },
          "metadata": {},
          "output_type": "display_data"
        },
        {
          "data": {
            "text/markdown": [
              "- Renaming columns {'ID': 'participant', 'order': 'response_num'}"
            ],
            "text/plain": [
              "<IPython.core.display.Markdown object>"
            ]
          },
          "metadata": {},
          "output_type": "display_data"
        },
        {
          "data": {
            "text/markdown": [
              "- Inferred range of original data: (0.0, 5.0)"
            ],
            "text/plain": [
              "<IPython.core.display.Markdown object>"
            ]
          },
          "metadata": {},
          "output_type": "display_data"
        },
        {
          "data": {
            "text/markdown": [
              "- name: multiaut_dutch1\n",
              "- no_of_prompts: 4\n",
              "- no_of_participants: 633\n",
              "- no_of_data_points: 10549\n",
              "- prompts: ['backstreen', 'vork', 'paperclip', 'handoek']\n",
              "- ICC2k: 0.81\n",
              "- ICC2k_CI: 0.81-0.82\n",
              "- ICC3k: 0.81\n",
              "- rater_cols: ['rater1', 'rater2']\n",
              "- no_of_raters: 2\n"
            ],
            "text/plain": [
              "<IPython.core.display.Markdown object>"
            ]
          },
          "metadata": {},
          "output_type": "display_data"
        },
        {
          "name": "stderr",
          "output_type": "stream",
          "text": [
            "/Users/peter.organisciak/anaconda3/lib/python3.9/site-packages/pandas/io/sql.py:761: UserWarning: pandas only support SQLAlchemy connectable(engine/connection) ordatabase string URI or sqlite3 DBAPI2 connectionother DBAPI2 objects are not tested, please consider using SQLAlchemy\n",
            "  warnings.warn(\n"
          ]
        },
        {
          "data": {
            "text/html": [
              "<div>\n",
              "<style scoped>\n",
              "    .dataframe tbody tr th:only-of-type {\n",
              "        vertical-align: middle;\n",
              "    }\n",
              "\n",
              "    .dataframe tbody tr th {\n",
              "        vertical-align: top;\n",
              "    }\n",
              "\n",
              "    .dataframe thead th {\n",
              "        text-align: right;\n",
              "    }\n",
              "</style>\n",
              "<table border=\"1\" class=\"dataframe\">\n",
              "  <thead>\n",
              "    <tr style=\"text-align: right;\">\n",
              "      <th></th>\n",
              "      <th>type</th>\n",
              "      <th>src</th>\n",
              "      <th>question</th>\n",
              "      <th>prompt</th>\n",
              "      <th>response</th>\n",
              "      <th>id</th>\n",
              "      <th>target</th>\n",
              "      <th>participant</th>\n",
              "      <th>response_num</th>\n",
              "      <th>language</th>\n",
              "      <th>rater_count</th>\n",
              "      <th>rating_std</th>\n",
              "    </tr>\n",
              "  </thead>\n",
              "  <tbody>\n",
              "    <tr>\n",
              "      <th>6992</th>\n",
              "      <td>uses</td>\n",
              "      <td>multiaut_dutch1</td>\n",
              "      <td>Wat is een verrassend gebruik voor een VORK?</td>\n",
              "      <td>vork</td>\n",
              "      <td>sla opscheppen</td>\n",
              "      <td>multiaut_dutch1_vork-8511f9</td>\n",
              "      <td>1.8</td>\n",
              "      <td>multiaut_dutch1123</td>\n",
              "      <td>None</td>\n",
              "      <td>dut</td>\n",
              "      <td>2</td>\n",
              "      <td>0.0</td>\n",
              "    </tr>\n",
              "    <tr>\n",
              "      <th>8866</th>\n",
              "      <td>uses</td>\n",
              "      <td>multiaut_dutch1</td>\n",
              "      <td>Wat is een verrassend gebruik voor een paperclip?</td>\n",
              "      <td>paperclip</td>\n",
              "      <td>paier bij elkaar houden</td>\n",
              "      <td>multiaut_dutch1_paperclip-c67e7d</td>\n",
              "      <td>1.8</td>\n",
              "      <td>multiaut_dutch1778</td>\n",
              "      <td>None</td>\n",
              "      <td>dut</td>\n",
              "      <td>2</td>\n",
              "      <td>0.0</td>\n",
              "    </tr>\n",
              "  </tbody>\n",
              "</table>\n",
              "</div>"
            ],
            "text/plain": [
              "      type              src  \\\n",
              "6992  uses  multiaut_dutch1   \n",
              "8866  uses  multiaut_dutch1   \n",
              "\n",
              "                                               question     prompt  \\\n",
              "6992       Wat is een verrassend gebruik voor een VORK?       vork   \n",
              "8866  Wat is een verrassend gebruik voor een paperclip?  paperclip   \n",
              "\n",
              "                     response                                id  target  \\\n",
              "6992           sla opscheppen       multiaut_dutch1_vork-8511f9     1.8   \n",
              "8866  paier bij elkaar houden  multiaut_dutch1_paperclip-c67e7d     1.8   \n",
              "\n",
              "             participant response_num language  rater_count  rating_std  \n",
              "6992  multiaut_dutch1123         None      dut            2         0.0  \n",
              "8866  multiaut_dutch1778         None      dut            2         0.0  "
            ]
          },
          "metadata": {},
          "output_type": "display_data"
        },
        {
          "name": "stdout",
          "output_type": "stream",
          "text": [
            "english3\n"
          ]
        },
        {
          "data": {
            "text/markdown": [
              "### Loading *Patterson et al., 2023*"
            ],
            "text/plain": [
              "<IPython.core.display.Markdown object>"
            ]
          },
          "metadata": {},
          "output_type": "display_data"
        },
        {
          "data": {
            "text/markdown": [
              "Patterson, J. D., Merseal, H. M., Johnson, D. R., Agnoli, S., Baas, M., Baker, B. S., ... & Beaty, R. E. (2023). Multilingual semantic distance: Automatic verbal creativity assessment in many languages. Psychology of Aesthetics, Creativity, and the Arts, 17(4), 495."
            ],
            "text/plain": [
              "<IPython.core.display.Markdown object>"
            ]
          },
          "metadata": {},
          "output_type": "display_data"
        },
        {
          "data": {
            "text/markdown": [
              "- Renaming columns {'ID': 'participant', 'order': 'response_num'}"
            ],
            "text/plain": [
              "<IPython.core.display.Markdown object>"
            ]
          },
          "metadata": {},
          "output_type": "display_data"
        },
        {
          "data": {
            "text/markdown": [
              "WARNING: 13 out-of-range values clipped from rater3"
            ],
            "text/plain": [
              "<IPython.core.display.Markdown object>"
            ]
          },
          "metadata": {},
          "output_type": "display_data"
        },
        {
          "name": "stdout",
          "output_type": "stream",
          "text": [
            "Dropping 11 unrated items\n"
          ]
        },
        {
          "data": {
            "text/markdown": [
              "- name: multiaut_english3\n",
              "- no_of_prompts: 2\n",
              "- no_of_participants: 209\n",
              "- no_of_data_points: 3225\n",
              "- prompts: ['box', 'rope']\n",
              "- ICC2k: 0.42\n",
              "- ICC2k_CI: 0.16-0.58\n",
              "- ICC3k: 0.56\n",
              "- rater_cols: ['rater1', 'rater2', 'rater3']\n",
              "- no_of_raters: 3\n"
            ],
            "text/plain": [
              "<IPython.core.display.Markdown object>"
            ]
          },
          "metadata": {},
          "output_type": "display_data"
        },
        {
          "name": "stderr",
          "output_type": "stream",
          "text": [
            "/Users/peter.organisciak/anaconda3/lib/python3.9/site-packages/pandas/io/sql.py:761: UserWarning: pandas only support SQLAlchemy connectable(engine/connection) ordatabase string URI or sqlite3 DBAPI2 connectionother DBAPI2 objects are not tested, please consider using SQLAlchemy\n",
            "  warnings.warn(\n"
          ]
        },
        {
          "data": {
            "text/html": [
              "<div>\n",
              "<style scoped>\n",
              "    .dataframe tbody tr th:only-of-type {\n",
              "        vertical-align: middle;\n",
              "    }\n",
              "\n",
              "    .dataframe tbody tr th {\n",
              "        vertical-align: top;\n",
              "    }\n",
              "\n",
              "    .dataframe thead th {\n",
              "        text-align: right;\n",
              "    }\n",
              "</style>\n",
              "<table border=\"1\" class=\"dataframe\">\n",
              "  <thead>\n",
              "    <tr style=\"text-align: right;\">\n",
              "      <th></th>\n",
              "      <th>type</th>\n",
              "      <th>src</th>\n",
              "      <th>question</th>\n",
              "      <th>prompt</th>\n",
              "      <th>response</th>\n",
              "      <th>id</th>\n",
              "      <th>target</th>\n",
              "      <th>participant</th>\n",
              "      <th>response_num</th>\n",
              "      <th>language</th>\n",
              "      <th>rater_count</th>\n",
              "      <th>rating_std</th>\n",
              "    </tr>\n",
              "  </thead>\n",
              "  <tbody>\n",
              "    <tr>\n",
              "      <th>85</th>\n",
              "      <td>uses</td>\n",
              "      <td>multiaut_english3</td>\n",
              "      <td>What is a surprising use for a ROPE?</td>\n",
              "      <td>rope</td>\n",
              "      <td>climb a building</td>\n",
              "      <td>multiaut_english3_rope-2bdc71</td>\n",
              "      <td>1.666</td>\n",
              "      <td>multiaut_english381817</td>\n",
              "      <td>None</td>\n",
              "      <td>eng</td>\n",
              "      <td>3</td>\n",
              "      <td>1.154701</td>\n",
              "    </tr>\n",
              "    <tr>\n",
              "      <th>1250</th>\n",
              "      <td>uses</td>\n",
              "      <td>multiaut_english3</td>\n",
              "      <td>What is a surprising use for a ROPE?</td>\n",
              "      <td>rope</td>\n",
              "      <td>as a hair-tie</td>\n",
              "      <td>multiaut_english3_rope-1c4944</td>\n",
              "      <td>1.333</td>\n",
              "      <td>multiaut_english382889</td>\n",
              "      <td>None</td>\n",
              "      <td>eng</td>\n",
              "      <td>3</td>\n",
              "      <td>0.577350</td>\n",
              "    </tr>\n",
              "  </tbody>\n",
              "</table>\n",
              "</div>"
            ],
            "text/plain": [
              "      type                src                              question prompt  \\\n",
              "85    uses  multiaut_english3  What is a surprising use for a ROPE?   rope   \n",
              "1250  uses  multiaut_english3  What is a surprising use for a ROPE?   rope   \n",
              "\n",
              "              response                             id  target  \\\n",
              "85    climb a building  multiaut_english3_rope-2bdc71   1.666   \n",
              "1250     as a hair-tie  multiaut_english3_rope-1c4944   1.333   \n",
              "\n",
              "                 participant response_num language  rater_count  rating_std  \n",
              "85    multiaut_english381817         None      eng            3    1.154701  \n",
              "1250  multiaut_english382889         None      eng            3    0.577350  "
            ]
          },
          "metadata": {},
          "output_type": "display_data"
        },
        {
          "name": "stdout",
          "output_type": "stream",
          "text": [
            "french4\n"
          ]
        },
        {
          "data": {
            "text/markdown": [
              "### Loading *Patterson et al., 2023*"
            ],
            "text/plain": [
              "<IPython.core.display.Markdown object>"
            ]
          },
          "metadata": {},
          "output_type": "display_data"
        },
        {
          "data": {
            "text/markdown": [
              "Patterson, J. D., Merseal, H. M., Johnson, D. R., Agnoli, S., Baas, M., Baker, B. S., ... & Beaty, R. E. (2023). Multilingual semantic distance: Automatic verbal creativity assessment in many languages. Psychology of Aesthetics, Creativity, and the Arts, 17(4), 495."
            ],
            "text/plain": [
              "<IPython.core.display.Markdown object>"
            ]
          },
          "metadata": {},
          "output_type": "display_data"
        },
        {
          "data": {
            "text/markdown": [
              "- Renaming columns {'ID': 'participant', 'order': 'response_num'}"
            ],
            "text/plain": [
              "<IPython.core.display.Markdown object>"
            ]
          },
          "metadata": {},
          "output_type": "display_data"
        },
        {
          "data": {
            "text/markdown": [
              "- Inferred range of original data: (1.0, 5.0)"
            ],
            "text/plain": [
              "<IPython.core.display.Markdown object>"
            ]
          },
          "metadata": {},
          "output_type": "display_data"
        },
        {
          "data": {
            "text/markdown": [
              "- name: multiaut_french4\n",
              "- no_of_prompts: 2\n",
              "- no_of_participants: 238\n",
              "- no_of_data_points: 2332\n",
              "- prompts: ['brouette', 'ceinture']\n",
              "- ICC2k: 0.79\n",
              "- ICC2k_CI: 0.78-0.81\n",
              "- ICC3k: 0.8\n",
              "- rater_cols: ['rater1', 'rater2', 'rater3']\n",
              "- no_of_raters: 3\n"
            ],
            "text/plain": [
              "<IPython.core.display.Markdown object>"
            ]
          },
          "metadata": {},
          "output_type": "display_data"
        },
        {
          "name": "stderr",
          "output_type": "stream",
          "text": [
            "/Users/peter.organisciak/anaconda3/lib/python3.9/site-packages/pandas/io/sql.py:761: UserWarning: pandas only support SQLAlchemy connectable(engine/connection) ordatabase string URI or sqlite3 DBAPI2 connectionother DBAPI2 objects are not tested, please consider using SQLAlchemy\n",
            "  warnings.warn(\n"
          ]
        },
        {
          "data": {
            "text/html": [
              "<div>\n",
              "<style scoped>\n",
              "    .dataframe tbody tr th:only-of-type {\n",
              "        vertical-align: middle;\n",
              "    }\n",
              "\n",
              "    .dataframe tbody tr th {\n",
              "        vertical-align: top;\n",
              "    }\n",
              "\n",
              "    .dataframe thead th {\n",
              "        text-align: right;\n",
              "    }\n",
              "</style>\n",
              "<table border=\"1\" class=\"dataframe\">\n",
              "  <thead>\n",
              "    <tr style=\"text-align: right;\">\n",
              "      <th></th>\n",
              "      <th>type</th>\n",
              "      <th>src</th>\n",
              "      <th>question</th>\n",
              "      <th>prompt</th>\n",
              "      <th>response</th>\n",
              "      <th>id</th>\n",
              "      <th>target</th>\n",
              "      <th>participant</th>\n",
              "      <th>response_num</th>\n",
              "      <th>language</th>\n",
              "      <th>rater_count</th>\n",
              "      <th>rating_std</th>\n",
              "    </tr>\n",
              "  </thead>\n",
              "  <tbody>\n",
              "    <tr>\n",
              "      <th>1680</th>\n",
              "      <td>uses</td>\n",
              "      <td>multiaut_french4</td>\n",
              "      <td>Quel est un usage surprenant pour une BROUETTE?</td>\n",
              "      <td>brouette</td>\n",
              "      <td>Fauteuil</td>\n",
              "      <td>multiaut_french4_brouette-b5dd4e</td>\n",
              "      <td>1.333</td>\n",
              "      <td>multiaut_french4170</td>\n",
              "      <td>None</td>\n",
              "      <td>fre</td>\n",
              "      <td>3</td>\n",
              "      <td>0.577350</td>\n",
              "    </tr>\n",
              "    <tr>\n",
              "      <th>884</th>\n",
              "      <td>uses</td>\n",
              "      <td>multiaut_french4</td>\n",
              "      <td>Quel est un usage surprenant pour une BROUETTE?</td>\n",
              "      <td>brouette</td>\n",
              "      <td>Utiliser comme un parapluie</td>\n",
              "      <td>multiaut_french4_brouette-044ae4</td>\n",
              "      <td>3.666</td>\n",
              "      <td>multiaut_french492</td>\n",
              "      <td>None</td>\n",
              "      <td>fre</td>\n",
              "      <td>3</td>\n",
              "      <td>1.154701</td>\n",
              "    </tr>\n",
              "  </tbody>\n",
              "</table>\n",
              "</div>"
            ],
            "text/plain": [
              "      type               src                                         question  \\\n",
              "1680  uses  multiaut_french4  Quel est un usage surprenant pour une BROUETTE?   \n",
              "884   uses  multiaut_french4  Quel est un usage surprenant pour une BROUETTE?   \n",
              "\n",
              "        prompt                     response                                id  \\\n",
              "1680  brouette                     Fauteuil  multiaut_french4_brouette-b5dd4e   \n",
              "884   brouette  Utiliser comme un parapluie  multiaut_french4_brouette-044ae4   \n",
              "\n",
              "      target          participant response_num language  rater_count  \\\n",
              "1680   1.333  multiaut_french4170         None      fre            3   \n",
              "884    3.666   multiaut_french492         None      fre            3   \n",
              "\n",
              "      rating_std  \n",
              "1680    0.577350  \n",
              "884     1.154701  "
            ]
          },
          "metadata": {},
          "output_type": "display_data"
        },
        {
          "name": "stdout",
          "output_type": "stream",
          "text": [
            "italian2\n"
          ]
        },
        {
          "data": {
            "text/markdown": [
              "### Loading *Patterson et al., 2023*"
            ],
            "text/plain": [
              "<IPython.core.display.Markdown object>"
            ]
          },
          "metadata": {},
          "output_type": "display_data"
        },
        {
          "data": {
            "text/markdown": [
              "Patterson, J. D., Merseal, H. M., Johnson, D. R., Agnoli, S., Baas, M., Baker, B. S., ... & Beaty, R. E. (2023). Multilingual semantic distance: Automatic verbal creativity assessment in many languages. Psychology of Aesthetics, Creativity, and the Arts, 17(4), 495."
            ],
            "text/plain": [
              "<IPython.core.display.Markdown object>"
            ]
          },
          "metadata": {},
          "output_type": "display_data"
        },
        {
          "data": {
            "text/markdown": [
              "- Renaming columns {'ID': 'participant', 'order': 'response_num'}"
            ],
            "text/plain": [
              "<IPython.core.display.Markdown object>"
            ]
          },
          "metadata": {},
          "output_type": "display_data"
        },
        {
          "data": {
            "text/markdown": [
              "WARNING: 7 out-of-range values clipped from rater2"
            ],
            "text/plain": [
              "<IPython.core.display.Markdown object>"
            ]
          },
          "metadata": {},
          "output_type": "display_data"
        },
        {
          "name": "stdout",
          "output_type": "stream",
          "text": [
            "Dropping 3 unrated items\n"
          ]
        },
        {
          "data": {
            "text/markdown": [
              "- name: multiaut_italian2\n",
              "- no_of_prompts: 21\n",
              "- no_of_participants: 80\n",
              "- no_of_data_points: 6895\n",
              "- prompts: ['guanto', 'lampadina', 'libro', 'martello', 'mattone', 'cappello', 'cestino', 'coltello', 'cucchiaio', 'graffetta', 'accendino', 'accetta', 'appendino', 'aspirapolvere', 'banana', 'barattolo', 'bicicletta', 'borsa', 'botte', 'bottiglietta', 'capello']\n",
              "- ICC2k: 0.88\n",
              "- ICC2k_CI: 0.87-0.89\n",
              "- ICC3k: 0.88\n",
              "- rater_cols: ['rater1', 'rater2']\n",
              "- no_of_raters: 2\n"
            ],
            "text/plain": [
              "<IPython.core.display.Markdown object>"
            ]
          },
          "metadata": {},
          "output_type": "display_data"
        },
        {
          "name": "stderr",
          "output_type": "stream",
          "text": [
            "/Users/peter.organisciak/anaconda3/lib/python3.9/site-packages/pandas/io/sql.py:761: UserWarning: pandas only support SQLAlchemy connectable(engine/connection) ordatabase string URI or sqlite3 DBAPI2 connectionother DBAPI2 objects are not tested, please consider using SQLAlchemy\n",
            "  warnings.warn(\n"
          ]
        },
        {
          "data": {
            "text/html": [
              "<div>\n",
              "<style scoped>\n",
              "    .dataframe tbody tr th:only-of-type {\n",
              "        vertical-align: middle;\n",
              "    }\n",
              "\n",
              "    .dataframe tbody tr th {\n",
              "        vertical-align: top;\n",
              "    }\n",
              "\n",
              "    .dataframe thead th {\n",
              "        text-align: right;\n",
              "    }\n",
              "</style>\n",
              "<table border=\"1\" class=\"dataframe\">\n",
              "  <thead>\n",
              "    <tr style=\"text-align: right;\">\n",
              "      <th></th>\n",
              "      <th>type</th>\n",
              "      <th>src</th>\n",
              "      <th>question</th>\n",
              "      <th>prompt</th>\n",
              "      <th>response</th>\n",
              "      <th>id</th>\n",
              "      <th>target</th>\n",
              "      <th>participant</th>\n",
              "      <th>response_num</th>\n",
              "      <th>language</th>\n",
              "      <th>rater_count</th>\n",
              "      <th>rating_std</th>\n",
              "    </tr>\n",
              "  </thead>\n",
              "  <tbody>\n",
              "    <tr>\n",
              "      <th>5579</th>\n",
              "      <td>uses</td>\n",
              "      <td>multiaut_italian2</td>\n",
              "      <td>Qual è un uso sorprendente per un APPENDINO?</td>\n",
              "      <td>appendino</td>\n",
              "      <td>arma letale</td>\n",
              "      <td>multiaut_italian2_appendino-c9db17</td>\n",
              "      <td>3.0</td>\n",
              "      <td>multiaut_italian2125</td>\n",
              "      <td>None</td>\n",
              "      <td>ita</td>\n",
              "      <td>2</td>\n",
              "      <td>0.0</td>\n",
              "    </tr>\n",
              "    <tr>\n",
              "      <th>2419</th>\n",
              "      <td>uses</td>\n",
              "      <td>multiaut_italian2</td>\n",
              "      <td>Qual è un uso sorprendente per una BOTTE?</td>\n",
              "      <td>botte</td>\n",
              "      <td>tavolo da giardino</td>\n",
              "      <td>multiaut_italian2_botte-5dbd9c</td>\n",
              "      <td>2.0</td>\n",
              "      <td>multiaut_italian231</td>\n",
              "      <td>None</td>\n",
              "      <td>ita</td>\n",
              "      <td>2</td>\n",
              "      <td>0.0</td>\n",
              "    </tr>\n",
              "  </tbody>\n",
              "</table>\n",
              "</div>"
            ],
            "text/plain": [
              "      type                src                                      question  \\\n",
              "5579  uses  multiaut_italian2  Qual è un uso sorprendente per un APPENDINO?   \n",
              "2419  uses  multiaut_italian2     Qual è un uso sorprendente per una BOTTE?   \n",
              "\n",
              "         prompt            response                                  id  \\\n",
              "5579  appendino         arma letale  multiaut_italian2_appendino-c9db17   \n",
              "2419      botte  tavolo da giardino      multiaut_italian2_botte-5dbd9c   \n",
              "\n",
              "      target           participant response_num language  rater_count  \\\n",
              "5579     3.0  multiaut_italian2125         None      ita            2   \n",
              "2419     2.0   multiaut_italian231         None      ita            2   \n",
              "\n",
              "      rating_std  \n",
              "5579         0.0  \n",
              "2419         0.0  "
            ]
          },
          "metadata": {},
          "output_type": "display_data"
        },
        {
          "name": "stdout",
          "output_type": "stream",
          "text": [
            "dutch2\n"
          ]
        },
        {
          "data": {
            "text/markdown": [
              "### Loading *Patterson et al., 2023*"
            ],
            "text/plain": [
              "<IPython.core.display.Markdown object>"
            ]
          },
          "metadata": {},
          "output_type": "display_data"
        },
        {
          "data": {
            "text/markdown": [
              "Patterson, J. D., Merseal, H. M., Johnson, D. R., Agnoli, S., Baas, M., Baker, B. S., ... & Beaty, R. E. (2023). Multilingual semantic distance: Automatic verbal creativity assessment in many languages. Psychology of Aesthetics, Creativity, and the Arts, 17(4), 495."
            ],
            "text/plain": [
              "<IPython.core.display.Markdown object>"
            ]
          },
          "metadata": {},
          "output_type": "display_data"
        },
        {
          "data": {
            "text/markdown": [
              "- Renaming columns {'ID': 'participant', 'order': 'response_num'}"
            ],
            "text/plain": [
              "<IPython.core.display.Markdown object>"
            ]
          },
          "metadata": {},
          "output_type": "display_data"
        },
        {
          "data": {
            "text/markdown": [
              "- Inferred range of original data: (0.0, 5.0)"
            ],
            "text/plain": [
              "<IPython.core.display.Markdown object>"
            ]
          },
          "metadata": {},
          "output_type": "display_data"
        },
        {
          "data": {
            "text/markdown": [
              "- name: multiaut_dutch2\n",
              "- no_of_prompts: 2\n",
              "- no_of_participants: 111\n",
              "- no_of_data_points: 1640\n",
              "- prompts: ['backstreen', 'paperclip']\n",
              "- ICC2k: 0.94\n",
              "- ICC2k_CI: 0.93-0.95\n",
              "- ICC3k: 0.94\n",
              "- rater_cols: ['rater1', 'rater2']\n",
              "- no_of_raters: 2\n"
            ],
            "text/plain": [
              "<IPython.core.display.Markdown object>"
            ]
          },
          "metadata": {},
          "output_type": "display_data"
        },
        {
          "name": "stderr",
          "output_type": "stream",
          "text": [
            "/Users/peter.organisciak/anaconda3/lib/python3.9/site-packages/pandas/io/sql.py:761: UserWarning: pandas only support SQLAlchemy connectable(engine/connection) ordatabase string URI or sqlite3 DBAPI2 connectionother DBAPI2 objects are not tested, please consider using SQLAlchemy\n",
            "  warnings.warn(\n"
          ]
        },
        {
          "data": {
            "text/html": [
              "<div>\n",
              "<style scoped>\n",
              "    .dataframe tbody tr th:only-of-type {\n",
              "        vertical-align: middle;\n",
              "    }\n",
              "\n",
              "    .dataframe tbody tr th {\n",
              "        vertical-align: top;\n",
              "    }\n",
              "\n",
              "    .dataframe thead th {\n",
              "        text-align: right;\n",
              "    }\n",
              "</style>\n",
              "<table border=\"1\" class=\"dataframe\">\n",
              "  <thead>\n",
              "    <tr style=\"text-align: right;\">\n",
              "      <th></th>\n",
              "      <th>type</th>\n",
              "      <th>src</th>\n",
              "      <th>question</th>\n",
              "      <th>prompt</th>\n",
              "      <th>response</th>\n",
              "      <th>id</th>\n",
              "      <th>target</th>\n",
              "      <th>participant</th>\n",
              "      <th>response_num</th>\n",
              "      <th>language</th>\n",
              "      <th>rater_count</th>\n",
              "      <th>rating_std</th>\n",
              "    </tr>\n",
              "  </thead>\n",
              "  <tbody>\n",
              "    <tr>\n",
              "      <th>1019</th>\n",
              "      <td>uses</td>\n",
              "      <td>multiaut_dutch2</td>\n",
              "      <td>Wat is een verrassend gebruik voor een paperclip?</td>\n",
              "      <td>paperclip</td>\n",
              "      <td>Haarschuifje</td>\n",
              "      <td>multiaut_dutch2_paperclip-f62c96</td>\n",
              "      <td>3.4</td>\n",
              "      <td>multiaut_dutch21144</td>\n",
              "      <td>None</td>\n",
              "      <td>dut</td>\n",
              "      <td>2</td>\n",
              "      <td>0.0</td>\n",
              "    </tr>\n",
              "    <tr>\n",
              "      <th>861</th>\n",
              "      <td>uses</td>\n",
              "      <td>multiaut_dutch2</td>\n",
              "      <td>Wat is een verrassend gebruik voor een paperclip?</td>\n",
              "      <td>paperclip</td>\n",
              "      <td>als architecturele inspiratie gebruiken</td>\n",
              "      <td>multiaut_dutch2_paperclip-649503</td>\n",
              "      <td>4.2</td>\n",
              "      <td>multiaut_dutch21209</td>\n",
              "      <td>None</td>\n",
              "      <td>dut</td>\n",
              "      <td>2</td>\n",
              "      <td>0.0</td>\n",
              "    </tr>\n",
              "  </tbody>\n",
              "</table>\n",
              "</div>"
            ],
            "text/plain": [
              "      type              src  \\\n",
              "1019  uses  multiaut_dutch2   \n",
              "861   uses  multiaut_dutch2   \n",
              "\n",
              "                                               question     prompt  \\\n",
              "1019  Wat is een verrassend gebruik voor een paperclip?  paperclip   \n",
              "861   Wat is een verrassend gebruik voor een paperclip?  paperclip   \n",
              "\n",
              "                                     response  \\\n",
              "1019                             Haarschuifje   \n",
              "861   als architecturele inspiratie gebruiken   \n",
              "\n",
              "                                    id  target          participant  \\\n",
              "1019  multiaut_dutch2_paperclip-f62c96     3.4  multiaut_dutch21144   \n",
              "861   multiaut_dutch2_paperclip-649503     4.2  multiaut_dutch21209   \n",
              "\n",
              "     response_num language  rater_count  rating_std  \n",
              "1019         None      dut            2         0.0  \n",
              "861          None      dut            2         0.0  "
            ]
          },
          "metadata": {},
          "output_type": "display_data"
        },
        {
          "name": "stdout",
          "output_type": "stream",
          "text": [
            "german1\n"
          ]
        },
        {
          "data": {
            "text/markdown": [
              "### Loading *Patterson et al., 2023*"
            ],
            "text/plain": [
              "<IPython.core.display.Markdown object>"
            ]
          },
          "metadata": {},
          "output_type": "display_data"
        },
        {
          "data": {
            "text/markdown": [
              "Patterson, J. D., Merseal, H. M., Johnson, D. R., Agnoli, S., Baas, M., Baker, B. S., ... & Beaty, R. E. (2023). Multilingual semantic distance: Automatic verbal creativity assessment in many languages. Psychology of Aesthetics, Creativity, and the Arts, 17(4), 495."
            ],
            "text/plain": [
              "<IPython.core.display.Markdown object>"
            ]
          },
          "metadata": {},
          "output_type": "display_data"
        },
        {
          "data": {
            "text/markdown": [
              "- Renaming columns {'ID': 'participant', 'order': 'response_num'}"
            ],
            "text/plain": [
              "<IPython.core.display.Markdown object>"
            ]
          },
          "metadata": {},
          "output_type": "display_data"
        },
        {
          "data": {
            "text/markdown": [
              "- Inferred range of original data: (0.0, 3.0)"
            ],
            "text/plain": [
              "<IPython.core.display.Markdown object>"
            ]
          },
          "metadata": {},
          "output_type": "display_data"
        },
        {
          "data": {
            "text/markdown": [
              "- name: multiaut_german1\n",
              "- no_of_prompts: 3\n",
              "- no_of_participants: 298\n",
              "- no_of_data_points: 8116\n",
              "- prompts: ['konservendose', 'messer', 'haarfoehn']\n",
              "- ICC2k: 0.7\n",
              "- ICC2k_CI: 0.68-0.72\n",
              "- ICC3k: 0.71\n",
              "- rater_cols: ['rater1', 'rater2', 'rater3', 'rater4']\n",
              "- no_of_raters: 4\n"
            ],
            "text/plain": [
              "<IPython.core.display.Markdown object>"
            ]
          },
          "metadata": {},
          "output_type": "display_data"
        },
        {
          "name": "stderr",
          "output_type": "stream",
          "text": [
            "/Users/peter.organisciak/anaconda3/lib/python3.9/site-packages/pandas/io/sql.py:761: UserWarning: pandas only support SQLAlchemy connectable(engine/connection) ordatabase string URI or sqlite3 DBAPI2 connectionother DBAPI2 objects are not tested, please consider using SQLAlchemy\n",
            "  warnings.warn(\n"
          ]
        },
        {
          "data": {
            "text/html": [
              "<div>\n",
              "<style scoped>\n",
              "    .dataframe tbody tr th:only-of-type {\n",
              "        vertical-align: middle;\n",
              "    }\n",
              "\n",
              "    .dataframe tbody tr th {\n",
              "        vertical-align: top;\n",
              "    }\n",
              "\n",
              "    .dataframe thead th {\n",
              "        text-align: right;\n",
              "    }\n",
              "</style>\n",
              "<table border=\"1\" class=\"dataframe\">\n",
              "  <thead>\n",
              "    <tr style=\"text-align: right;\">\n",
              "      <th></th>\n",
              "      <th>type</th>\n",
              "      <th>src</th>\n",
              "      <th>question</th>\n",
              "      <th>prompt</th>\n",
              "      <th>response</th>\n",
              "      <th>id</th>\n",
              "      <th>target</th>\n",
              "      <th>participant</th>\n",
              "      <th>response_num</th>\n",
              "      <th>language</th>\n",
              "      <th>rater_count</th>\n",
              "      <th>rating_std</th>\n",
              "    </tr>\n",
              "  </thead>\n",
              "  <tbody>\n",
              "    <tr>\n",
              "      <th>2131</th>\n",
              "      <td>uses</td>\n",
              "      <td>multiaut_german1</td>\n",
              "      <td>Was ist eine überraschende Verwendung für ein ...</td>\n",
              "      <td>messer</td>\n",
              "      <td>fisch entschuppen</td>\n",
              "      <td>multiaut_german1_messer-7e4431</td>\n",
              "      <td>1.666667</td>\n",
              "      <td>multiaut_german186</td>\n",
              "      <td>None</td>\n",
              "      <td>ger</td>\n",
              "      <td>4</td>\n",
              "      <td>0.57735</td>\n",
              "    </tr>\n",
              "    <tr>\n",
              "      <th>5314</th>\n",
              "      <td>uses</td>\n",
              "      <td>multiaut_german1</td>\n",
              "      <td>Was ist eine überraschende Verwendung für ein ...</td>\n",
              "      <td>messer</td>\n",
              "      <td>Ein herz in Baum schnitzen</td>\n",
              "      <td>multiaut_german1_messer-dd27e0</td>\n",
              "      <td>2.333333</td>\n",
              "      <td>multiaut_german1197</td>\n",
              "      <td>None</td>\n",
              "      <td>ger</td>\n",
              "      <td>4</td>\n",
              "      <td>0.00000</td>\n",
              "    </tr>\n",
              "  </tbody>\n",
              "</table>\n",
              "</div>"
            ],
            "text/plain": [
              "      type               src  \\\n",
              "2131  uses  multiaut_german1   \n",
              "5314  uses  multiaut_german1   \n",
              "\n",
              "                                               question  prompt  \\\n",
              "2131  Was ist eine überraschende Verwendung für ein ...  messer   \n",
              "5314  Was ist eine überraschende Verwendung für ein ...  messer   \n",
              "\n",
              "                        response                              id    target  \\\n",
              "2131           fisch entschuppen  multiaut_german1_messer-7e4431  1.666667   \n",
              "5314  Ein herz in Baum schnitzen  multiaut_german1_messer-dd27e0  2.333333   \n",
              "\n",
              "              participant response_num language  rater_count  rating_std  \n",
              "2131   multiaut_german186         None      ger            4     0.57735  \n",
              "5314  multiaut_german1197         None      ger            4     0.00000  "
            ]
          },
          "metadata": {},
          "output_type": "display_data"
        },
        {
          "name": "stdout",
          "output_type": "stream",
          "text": [
            "polish1\n"
          ]
        },
        {
          "data": {
            "text/markdown": [
              "### Loading *Patterson et al., 2023*"
            ],
            "text/plain": [
              "<IPython.core.display.Markdown object>"
            ]
          },
          "metadata": {},
          "output_type": "display_data"
        },
        {
          "data": {
            "text/markdown": [
              "Patterson, J. D., Merseal, H. M., Johnson, D. R., Agnoli, S., Baas, M., Baker, B. S., ... & Beaty, R. E. (2023). Multilingual semantic distance: Automatic verbal creativity assessment in many languages. Psychology of Aesthetics, Creativity, and the Arts, 17(4), 495."
            ],
            "text/plain": [
              "<IPython.core.display.Markdown object>"
            ]
          },
          "metadata": {},
          "output_type": "display_data"
        },
        {
          "data": {
            "text/markdown": [
              "- Renaming columns {'ID': 'participant', 'order': 'response_num'}"
            ],
            "text/plain": [
              "<IPython.core.display.Markdown object>"
            ]
          },
          "metadata": {},
          "output_type": "display_data"
        },
        {
          "data": {
            "text/markdown": [
              "- Inferred range of original data: (1, 7)"
            ],
            "text/plain": [
              "<IPython.core.display.Markdown object>"
            ]
          },
          "metadata": {},
          "output_type": "display_data"
        },
        {
          "data": {
            "text/markdown": [
              "- name: multiaut_polish1\n",
              "- no_of_prompts: 2\n",
              "- no_of_participants: 791\n",
              "- no_of_data_points: 7415\n",
              "- prompts: ['puszka', 'cegła']\n",
              "- ICC2k: 0.82\n",
              "- ICC2k_CI: 0.81-0.83\n",
              "- ICC3k: 0.82\n",
              "- rater_cols: ['rater1', 'rater2', 'rater3']\n",
              "- no_of_raters: 3\n"
            ],
            "text/plain": [
              "<IPython.core.display.Markdown object>"
            ]
          },
          "metadata": {},
          "output_type": "display_data"
        },
        {
          "name": "stderr",
          "output_type": "stream",
          "text": [
            "/Users/peter.organisciak/anaconda3/lib/python3.9/site-packages/pandas/io/sql.py:761: UserWarning: pandas only support SQLAlchemy connectable(engine/connection) ordatabase string URI or sqlite3 DBAPI2 connectionother DBAPI2 objects are not tested, please consider using SQLAlchemy\n",
            "  warnings.warn(\n"
          ]
        },
        {
          "data": {
            "text/html": [
              "<div>\n",
              "<style scoped>\n",
              "    .dataframe tbody tr th:only-of-type {\n",
              "        vertical-align: middle;\n",
              "    }\n",
              "\n",
              "    .dataframe tbody tr th {\n",
              "        vertical-align: top;\n",
              "    }\n",
              "\n",
              "    .dataframe thead th {\n",
              "        text-align: right;\n",
              "    }\n",
              "</style>\n",
              "<table border=\"1\" class=\"dataframe\">\n",
              "  <thead>\n",
              "    <tr style=\"text-align: right;\">\n",
              "      <th></th>\n",
              "      <th>type</th>\n",
              "      <th>src</th>\n",
              "      <th>question</th>\n",
              "      <th>prompt</th>\n",
              "      <th>response</th>\n",
              "      <th>id</th>\n",
              "      <th>target</th>\n",
              "      <th>participant</th>\n",
              "      <th>response_num</th>\n",
              "      <th>language</th>\n",
              "      <th>rater_count</th>\n",
              "      <th>rating_std</th>\n",
              "    </tr>\n",
              "  </thead>\n",
              "  <tbody>\n",
              "    <tr>\n",
              "      <th>1054</th>\n",
              "      <td>uses</td>\n",
              "      <td>multiaut_polish1</td>\n",
              "      <td>Jakie jest zaskakujące zastosowanie dla PUSZKI?</td>\n",
              "      <td>puszka</td>\n",
              "      <td>jako pojemnik</td>\n",
              "      <td>multiaut_polish1_puszka-e01cc6</td>\n",
              "      <td>1.000000</td>\n",
              "      <td>multiaut_polish1103610</td>\n",
              "      <td>p2</td>\n",
              "      <td>pol</td>\n",
              "      <td>3</td>\n",
              "      <td>0.00000</td>\n",
              "    </tr>\n",
              "    <tr>\n",
              "      <th>4639</th>\n",
              "      <td>uses</td>\n",
              "      <td>multiaut_polish1</td>\n",
              "      <td>Jakie jest zaskakujące zastosowanie dla CEGŁY?</td>\n",
              "      <td>cegła</td>\n",
              "      <td>nowa dyscyplina sportu</td>\n",
              "      <td>multiaut_polish1_cegła-48e9d5</td>\n",
              "      <td>2.555333</td>\n",
              "      <td>multiaut_polish180793</td>\n",
              "      <td>p2</td>\n",
              "      <td>pol</td>\n",
              "      <td>3</td>\n",
              "      <td>0.57735</td>\n",
              "    </tr>\n",
              "  </tbody>\n",
              "</table>\n",
              "</div>"
            ],
            "text/plain": [
              "      type               src                                         question  \\\n",
              "1054  uses  multiaut_polish1  Jakie jest zaskakujące zastosowanie dla PUSZKI?   \n",
              "4639  uses  multiaut_polish1   Jakie jest zaskakujące zastosowanie dla CEGŁY?   \n",
              "\n",
              "      prompt                response                              id  \\\n",
              "1054  puszka           jako pojemnik  multiaut_polish1_puszka-e01cc6   \n",
              "4639   cegła  nowa dyscyplina sportu   multiaut_polish1_cegła-48e9d5   \n",
              "\n",
              "        target             participant response_num language  rater_count  \\\n",
              "1054  1.000000  multiaut_polish1103610           p2      pol            3   \n",
              "4639  2.555333   multiaut_polish180793           p2      pol            3   \n",
              "\n",
              "      rating_std  \n",
              "1054     0.00000  \n",
              "4639     0.57735  "
            ]
          },
          "metadata": {},
          "output_type": "display_data"
        },
        {
          "name": "stdout",
          "output_type": "stream",
          "text": [
            "dutch3\n"
          ]
        },
        {
          "data": {
            "text/markdown": [
              "### Loading *Patterson et al., 2023*"
            ],
            "text/plain": [
              "<IPython.core.display.Markdown object>"
            ]
          },
          "metadata": {},
          "output_type": "display_data"
        },
        {
          "data": {
            "text/markdown": [
              "Patterson, J. D., Merseal, H. M., Johnson, D. R., Agnoli, S., Baas, M., Baker, B. S., ... & Beaty, R. E. (2023). Multilingual semantic distance: Automatic verbal creativity assessment in many languages. Psychology of Aesthetics, Creativity, and the Arts, 17(4), 495."
            ],
            "text/plain": [
              "<IPython.core.display.Markdown object>"
            ]
          },
          "metadata": {},
          "output_type": "display_data"
        },
        {
          "data": {
            "text/markdown": [
              "- Renaming columns {'ID': 'participant', 'order': 'response_num'}"
            ],
            "text/plain": [
              "<IPython.core.display.Markdown object>"
            ]
          },
          "metadata": {},
          "output_type": "display_data"
        },
        {
          "data": {
            "text/markdown": [
              "- Inferred range of original data: (0, 5)"
            ],
            "text/plain": [
              "<IPython.core.display.Markdown object>"
            ]
          },
          "metadata": {},
          "output_type": "display_data"
        },
        {
          "data": {
            "text/markdown": [
              "- name: multiaut_dutch3\n",
              "- no_of_prompts: 1\n",
              "- no_of_participants: 111\n",
              "- no_of_data_points: 1004\n",
              "- prompts: ['backstreen']\n",
              "- ICC2k: 0.86\n",
              "- ICC2k_CI: 0.79-0.89\n",
              "- ICC3k: 0.87\n",
              "- rater_cols: ['rater1', 'rater2']\n",
              "- no_of_raters: 2\n"
            ],
            "text/plain": [
              "<IPython.core.display.Markdown object>"
            ]
          },
          "metadata": {},
          "output_type": "display_data"
        },
        {
          "name": "stderr",
          "output_type": "stream",
          "text": [
            "/Users/peter.organisciak/anaconda3/lib/python3.9/site-packages/pandas/io/sql.py:761: UserWarning: pandas only support SQLAlchemy connectable(engine/connection) ordatabase string URI or sqlite3 DBAPI2 connectionother DBAPI2 objects are not tested, please consider using SQLAlchemy\n",
            "  warnings.warn(\n"
          ]
        },
        {
          "data": {
            "text/html": [
              "<div>\n",
              "<style scoped>\n",
              "    .dataframe tbody tr th:only-of-type {\n",
              "        vertical-align: middle;\n",
              "    }\n",
              "\n",
              "    .dataframe tbody tr th {\n",
              "        vertical-align: top;\n",
              "    }\n",
              "\n",
              "    .dataframe thead th {\n",
              "        text-align: right;\n",
              "    }\n",
              "</style>\n",
              "<table border=\"1\" class=\"dataframe\">\n",
              "  <thead>\n",
              "    <tr style=\"text-align: right;\">\n",
              "      <th></th>\n",
              "      <th>type</th>\n",
              "      <th>src</th>\n",
              "      <th>question</th>\n",
              "      <th>prompt</th>\n",
              "      <th>response</th>\n",
              "      <th>id</th>\n",
              "      <th>target</th>\n",
              "      <th>participant</th>\n",
              "      <th>response_num</th>\n",
              "      <th>language</th>\n",
              "      <th>rater_count</th>\n",
              "      <th>rating_std</th>\n",
              "    </tr>\n",
              "  </thead>\n",
              "  <tbody>\n",
              "    <tr>\n",
              "      <th>623</th>\n",
              "      <td>uses</td>\n",
              "      <td>multiaut_dutch3</td>\n",
              "      <td>Wat is een verrassend gebruik voor een BACKSTR...</td>\n",
              "      <td>backstreen</td>\n",
              "      <td>gebruiken als stempel</td>\n",
              "      <td>multiaut_dutch3_backstreen-544604</td>\n",
              "      <td>4.2</td>\n",
              "      <td>multiaut_dutch31454</td>\n",
              "      <td>None</td>\n",
              "      <td>dut</td>\n",
              "      <td>2</td>\n",
              "      <td>0.000000</td>\n",
              "    </tr>\n",
              "    <tr>\n",
              "      <th>33</th>\n",
              "      <td>uses</td>\n",
              "      <td>multiaut_dutch3</td>\n",
              "      <td>Wat is een verrassend gebruik voor een BACKSTR...</td>\n",
              "      <td>backstreen</td>\n",
              "      <td>plein</td>\n",
              "      <td>multiaut_dutch3_backstreen-0de49d</td>\n",
              "      <td>1.4</td>\n",
              "      <td>multiaut_dutch31281</td>\n",
              "      <td>None</td>\n",
              "      <td>dut</td>\n",
              "      <td>2</td>\n",
              "      <td>0.707107</td>\n",
              "    </tr>\n",
              "  </tbody>\n",
              "</table>\n",
              "</div>"
            ],
            "text/plain": [
              "     type              src                                           question  \\\n",
              "623  uses  multiaut_dutch3  Wat is een verrassend gebruik voor een BACKSTR...   \n",
              "33   uses  multiaut_dutch3  Wat is een verrassend gebruik voor een BACKSTR...   \n",
              "\n",
              "         prompt               response                                 id  \\\n",
              "623  backstreen  gebruiken als stempel  multiaut_dutch3_backstreen-544604   \n",
              "33   backstreen                  plein  multiaut_dutch3_backstreen-0de49d   \n",
              "\n",
              "     target          participant response_num language  rater_count  \\\n",
              "623     4.2  multiaut_dutch31454         None      dut            2   \n",
              "33      1.4  multiaut_dutch31281         None      dut            2   \n",
              "\n",
              "     rating_std  \n",
              "623    0.000000  \n",
              "33     0.707107  "
            ]
          },
          "metadata": {},
          "output_type": "display_data"
        },
        {
          "name": "stdout",
          "output_type": "stream",
          "text": [
            "german2\n"
          ]
        },
        {
          "data": {
            "text/markdown": [
              "### Loading *Patterson et al., 2023*"
            ],
            "text/plain": [
              "<IPython.core.display.Markdown object>"
            ]
          },
          "metadata": {},
          "output_type": "display_data"
        },
        {
          "data": {
            "text/markdown": [
              "Patterson, J. D., Merseal, H. M., Johnson, D. R., Agnoli, S., Baas, M., Baker, B. S., ... & Beaty, R. E. (2023). Multilingual semantic distance: Automatic verbal creativity assessment in many languages. Psychology of Aesthetics, Creativity, and the Arts, 17(4), 495."
            ],
            "text/plain": [
              "<IPython.core.display.Markdown object>"
            ]
          },
          "metadata": {},
          "output_type": "display_data"
        },
        {
          "data": {
            "text/markdown": [
              "- Renaming columns {'ID': 'participant', 'order': 'response_num'}"
            ],
            "text/plain": [
              "<IPython.core.display.Markdown object>"
            ]
          },
          "metadata": {},
          "output_type": "display_data"
        },
        {
          "data": {
            "text/markdown": [
              "- Inferred range of original data: (1, 5)"
            ],
            "text/plain": [
              "<IPython.core.display.Markdown object>"
            ]
          },
          "metadata": {},
          "output_type": "display_data"
        },
        {
          "data": {
            "text/markdown": [
              "- name: multiaut_german2\n",
              "- no_of_prompts: 3\n",
              "- no_of_participants: 154\n",
              "- no_of_data_points: 3530\n",
              "- prompts: ['Büroklammer', 'Mülltüte', 'Seil']\n",
              "- ICC2k: 0.71\n",
              "- ICC2k_CI: 0.54-0.8\n",
              "- ICC3k: 0.77\n",
              "- rater_cols: ['rater1', 'rater2', 'rater3']\n",
              "- no_of_raters: 3\n"
            ],
            "text/plain": [
              "<IPython.core.display.Markdown object>"
            ]
          },
          "metadata": {},
          "output_type": "display_data"
        },
        {
          "name": "stderr",
          "output_type": "stream",
          "text": [
            "/Users/peter.organisciak/anaconda3/lib/python3.9/site-packages/pandas/io/sql.py:761: UserWarning: pandas only support SQLAlchemy connectable(engine/connection) ordatabase string URI or sqlite3 DBAPI2 connectionother DBAPI2 objects are not tested, please consider using SQLAlchemy\n",
            "  warnings.warn(\n"
          ]
        },
        {
          "data": {
            "text/html": [
              "<div>\n",
              "<style scoped>\n",
              "    .dataframe tbody tr th:only-of-type {\n",
              "        vertical-align: middle;\n",
              "    }\n",
              "\n",
              "    .dataframe tbody tr th {\n",
              "        vertical-align: top;\n",
              "    }\n",
              "\n",
              "    .dataframe thead th {\n",
              "        text-align: right;\n",
              "    }\n",
              "</style>\n",
              "<table border=\"1\" class=\"dataframe\">\n",
              "  <thead>\n",
              "    <tr style=\"text-align: right;\">\n",
              "      <th></th>\n",
              "      <th>type</th>\n",
              "      <th>src</th>\n",
              "      <th>question</th>\n",
              "      <th>prompt</th>\n",
              "      <th>response</th>\n",
              "      <th>id</th>\n",
              "      <th>target</th>\n",
              "      <th>participant</th>\n",
              "      <th>response_num</th>\n",
              "      <th>language</th>\n",
              "      <th>rater_count</th>\n",
              "      <th>rating_std</th>\n",
              "    </tr>\n",
              "  </thead>\n",
              "  <tbody>\n",
              "    <tr>\n",
              "      <th>1399</th>\n",
              "      <td>uses</td>\n",
              "      <td>multiaut_german2</td>\n",
              "      <td>Was ist eine überraschende Verwendung für eine...</td>\n",
              "      <td>Büroklammer</td>\n",
              "      <td>um einen sehr kleinen Knopf zu drücken</td>\n",
              "      <td>multiaut_german2_Büroklammer-096dfd</td>\n",
              "      <td>2.667</td>\n",
              "      <td>multiaut_german21649MAAP161</td>\n",
              "      <td>None</td>\n",
              "      <td>ger</td>\n",
              "      <td>3</td>\n",
              "      <td>0.57735</td>\n",
              "    </tr>\n",
              "    <tr>\n",
              "      <th>1350</th>\n",
              "      <td>uses</td>\n",
              "      <td>multiaut_german2</td>\n",
              "      <td>Was ist eine überraschende Verwendung für eine...</td>\n",
              "      <td>Büroklammer</td>\n",
              "      <td>Ohrring</td>\n",
              "      <td>multiaut_german2_Büroklammer-93af12</td>\n",
              "      <td>1.667</td>\n",
              "      <td>multiaut_german21645RGJU170</td>\n",
              "      <td>None</td>\n",
              "      <td>ger</td>\n",
              "      <td>3</td>\n",
              "      <td>0.57735</td>\n",
              "    </tr>\n",
              "  </tbody>\n",
              "</table>\n",
              "</div>"
            ],
            "text/plain": [
              "      type               src  \\\n",
              "1399  uses  multiaut_german2   \n",
              "1350  uses  multiaut_german2   \n",
              "\n",
              "                                               question       prompt  \\\n",
              "1399  Was ist eine überraschende Verwendung für eine...  Büroklammer   \n",
              "1350  Was ist eine überraschende Verwendung für eine...  Büroklammer   \n",
              "\n",
              "                                    response  \\\n",
              "1399  um einen sehr kleinen Knopf zu drücken   \n",
              "1350                                 Ohrring   \n",
              "\n",
              "                                       id  target  \\\n",
              "1399  multiaut_german2_Büroklammer-096dfd   2.667   \n",
              "1350  multiaut_german2_Büroklammer-93af12   1.667   \n",
              "\n",
              "                      participant response_num language  rater_count  \\\n",
              "1399  multiaut_german21649MAAP161         None      ger            3   \n",
              "1350  multiaut_german21645RGJU170         None      ger            3   \n",
              "\n",
              "      rating_std  \n",
              "1399     0.57735  \n",
              "1350     0.57735  "
            ]
          },
          "metadata": {},
          "output_type": "display_data"
        }
      ],
      "source": [
        "# additional info specific to subset datasets\n",
        "dutch_replace_vals = {\n",
        "    \"prompt\": {\n",
        "        \"brick\": \"backstreen\",\n",
        "        \"fork\": \"vork\",\n",
        "            \"towel\": \"handoek\"\n",
        "    }\n",
        "}\n",
        "subsets = {\n",
        "    'arabic1': {\n",
        "        'range': [1, 5],\n",
        "        'replace_values': {\n",
        "            \"prompt\": {\n",
        "                'Tin cans': 'علب الصفيح'\n",
        "            }\n",
        "        }\n",
        "    },\n",
        "    'chinese2': { 'range': [1, 5] },\n",
        "    'italian2': { 'range': [1, 5] },\n",
        "    \"french3\": { \"range\": [1, 5] },\n",
        "    \"english3\": { \"range\": [1, 5] },\n",
        "    \"dutch1\": {\n",
        "        \"replace_values\": dutch_replace_vals\n",
        "    },\n",
        "    \"dutch2\": {\n",
        "        \"replace_values\": dutch_replace_vals\n",
        "    },\n",
        "    \"dutch3\": {\n",
        "        \"replace_values\": dutch_replace_vals\n",
        "    },\n",
        "    \"dutch4\": {\n",
        "        \"replace_values\": dutch_replace_vals\n",
        "    },\n",
        "}\n",
        "\n",
        "language_to_iso = {\n",
        "    'arabic': 'ara', 'chinese': 'chi', 'dutch': 'dut', 'english': 'eng',\n",
        "    'farsi': 'per', 'french': 'fre', 'german': 'ger', 'hebrew': 'heb',\n",
        "    'italian': 'ita', 'polish': 'pol', 'russian': 'rus', 'spanish': 'spa'\n",
        "}\n",
        "for fname in [polish_fname] + fnames:\n",
        "    # language is automatically detected from filename\n",
        "    subset_desc = desc.copy()\n",
        "    print(fname.stem)\n",
        "    if fname.stem == 'multiaut_polish2_0':\n",
        "        subset_desc.update(polish2_desc)\n",
        "    else:\n",
        "        subset_desc['language'] = language_to_iso[fname.stem[:-1]]\n",
        "        subset_desc['name'] = desc['name'] + '_' + fname.stem\n",
        "        if subsets.get(fname.stem):\n",
        "            subset_desc.update(subsets[fname.stem])\n",
        "\n",
        "    if fname.stem == 'english2':\n",
        "        print(\"NOTE: english2 had an encoding error. Opening and re-saving it seems to fix it.\")\n",
        "    if fname.suffix == '.csv':\n",
        "        df = pd.read_csv(fname, encoding='utf-8')\n",
        "    elif fname.suffix == '.xlsx':\n",
        "        df = pd.read_excel(fname)\n",
        "    cleaned = prep_general(df, **subset_desc, save_dir='../data/datasets')\n",
        "    display(cleaned.sample(2))"
      ]
    },
    {
      "cell_type": "markdown",
      "metadata": {},
      "source": [
        "## TransDis\n",
        "\n",
        "A Chinese-language AUT dataset."
      ]
    },
    {
      "cell_type": "code",
      "execution_count": 15,
      "metadata": {},
      "outputs": [
        {
          "data": {
            "text/markdown": [
              "### Loading *Yang et al., 2023*"
            ],
            "text/plain": [
              "<IPython.core.display.Markdown object>"
            ]
          },
          "metadata": {},
          "output_type": "display_data"
        },
        {
          "data": {
            "text/markdown": [
              "Yang, T., Zhang, Q., Sun, Z., & Hou, Y. (2023). Automatic Assessment of Divergent Thinking in Chinese Language with TransDis: A Transformer-Based Language Model Approach. arXiv preprint arXiv:2306.14790."
            ],
            "text/plain": [
              "<IPython.core.display.Markdown object>"
            ]
          },
          "metadata": {},
          "output_type": "display_data"
        },
        {
          "data": {
            "text/markdown": [
              "- Renaming columns {'Item': 'prompt', 'Response': 'response', 'ParticipantID': 'participant'}"
            ],
            "text/plain": [
              "<IPython.core.display.Markdown object>"
            ]
          },
          "metadata": {},
          "output_type": "display_data"
        },
        {
          "name": "stdout",
          "output_type": "stream",
          "text": [
            "Replacing NA with NaN in response column\n",
            "Dropping 4 unrated items\n"
          ]
        },
        {
          "data": {
            "text/markdown": [
              "- name: transdis\n",
              "- no_of_prompts: 4\n",
              "- no_of_participants: 350\n",
              "- no_of_data_points: 8007\n",
              "- prompts: ['床单', '筷子', '拖鞋', '牙刷']\n",
              "- ICC2k: 0.67\n",
              "- ICC2k_CI: 0.6-0.73\n",
              "- ICC3k: 0.7\n",
              "- rater_cols: ['Originality_Rater1', 'Originality_Rater2']\n",
              "- no_of_raters: 2\n"
            ],
            "text/plain": [
              "<IPython.core.display.Markdown object>"
            ]
          },
          "metadata": {},
          "output_type": "display_data"
        },
        {
          "name": "stderr",
          "output_type": "stream",
          "text": [
            "/Users/peter.organisciak/anaconda3/lib/python3.9/site-packages/pandas/io/sql.py:761: UserWarning: pandas only support SQLAlchemy connectable(engine/connection) ordatabase string URI or sqlite3 DBAPI2 connectionother DBAPI2 objects are not tested, please consider using SQLAlchemy\n",
            "  warnings.warn(\n"
          ]
        },
        {
          "data": {
            "text/html": [
              "<div>\n",
              "<style scoped>\n",
              "    .dataframe tbody tr th:only-of-type {\n",
              "        vertical-align: middle;\n",
              "    }\n",
              "\n",
              "    .dataframe tbody tr th {\n",
              "        vertical-align: top;\n",
              "    }\n",
              "\n",
              "    .dataframe thead th {\n",
              "        text-align: right;\n",
              "    }\n",
              "</style>\n",
              "<table border=\"1\" class=\"dataframe\">\n",
              "  <thead>\n",
              "    <tr style=\"text-align: right;\">\n",
              "      <th></th>\n",
              "      <th>type</th>\n",
              "      <th>src</th>\n",
              "      <th>question</th>\n",
              "      <th>prompt</th>\n",
              "      <th>response</th>\n",
              "      <th>id</th>\n",
              "      <th>target</th>\n",
              "      <th>participant</th>\n",
              "      <th>response_num</th>\n",
              "      <th>language</th>\n",
              "      <th>rater_count</th>\n",
              "      <th>rating_std</th>\n",
              "    </tr>\n",
              "  </thead>\n",
              "  <tbody>\n",
              "    <tr>\n",
              "      <th>3853</th>\n",
              "      <td>uses</td>\n",
              "      <td>transdis</td>\n",
              "      <td>拖鞋的一个令人惊讶的用途是什么？</td>\n",
              "      <td>拖鞋</td>\n",
              "      <td>花盆</td>\n",
              "      <td>transdis_拖鞋-09554f</td>\n",
              "      <td>3.0</td>\n",
              "      <td>transdis99</td>\n",
              "      <td>10</td>\n",
              "      <td>chi</td>\n",
              "      <td>2</td>\n",
              "      <td>0.0</td>\n",
              "    </tr>\n",
              "    <tr>\n",
              "      <th>3130</th>\n",
              "      <td>uses</td>\n",
              "      <td>transdis</td>\n",
              "      <td>筷子有什么令人惊讶的用途？</td>\n",
              "      <td>筷子</td>\n",
              "      <td>做秤杆</td>\n",
              "      <td>transdis_筷子-f95270</td>\n",
              "      <td>3.0</td>\n",
              "      <td>transdis280</td>\n",
              "      <td>8</td>\n",
              "      <td>chi</td>\n",
              "      <td>2</td>\n",
              "      <td>0.0</td>\n",
              "    </tr>\n",
              "  </tbody>\n",
              "</table>\n",
              "</div>"
            ],
            "text/plain": [
              "      type       src          question prompt response                  id  \\\n",
              "3853  uses  transdis  拖鞋的一个令人惊讶的用途是什么？     拖鞋       花盆  transdis_拖鞋-09554f   \n",
              "3130  uses  transdis     筷子有什么令人惊讶的用途？     筷子      做秤杆  transdis_筷子-f95270   \n",
              "\n",
              "      target  participant  response_num language  rater_count  rating_std  \n",
              "3853     3.0   transdis99            10      chi            2         0.0  \n",
              "3130     3.0  transdis280             8      chi            2         0.0  "
            ]
          },
          "execution_count": 15,
          "metadata": {},
          "output_type": "execute_result"
        }
      ],
      "source": [
        "desc = {\n",
        "    \"name\": \"transdis\",\n",
        "    \"test_type\": \"uses\",\n",
        "    \"meta\": {\n",
        "        \"inline\": \"Yang et al., 2023\",\n",
        "        \"citation\": \"Yang, T., Zhang, Q., Sun, Z., & Hou, Y. (2023). Automatic Assessment of Divergent Thinking in Chinese Language with TransDis: A Transformer-Based Language Model Approach. arXiv preprint arXiv:2306.14790.\",\n",
        "        \"url\": \"https://arxiv.org/abs/2306.14790\",\n",
        "        \"download\": [{\n",
        "            \"url\": \"https://osf.io/download/3fk8y\", \n",
        "            \"extension\": \"xlsx\"\n",
        "            }, {\n",
        "            \"url\": \"https://osf.io/download/mcwtu\", \n",
        "            \"extension\": \"xlsx\"\n",
        "            }],\n",
        "    },\n",
        "    \"null_marker\": \"NA\",\n",
        "    \"column_mappings\": {'Item': 'prompt', 'Response': 'response',\n",
        "                        'ParticipantID': 'participant'},\n",
        "    \"range\": [0, 4],\n",
        "    \"rater_cols\": ['Originality_Rater1', 'Originality_Rater2'],\n",
        "    \"language\":\"chi\"\n",
        "}\n",
        "\n",
        "fnames = download_from_description(desc, '../data/raw')\n",
        "df = pd.concat([pd.read_excel(fname) for fname in fnames])\n",
        "# number each participant's responses in order (based on responseID)\n",
        "df['response_num'] = df.groupby('ParticipantID').cumcount() + 1\n",
        "cleaned = prep_general(df, **desc, save_dir='../data/datasets')\n",
        "cleaned.sample(2)\n"
      ]
    },
    {
      "cell_type": "markdown",
      "metadata": {},
      "source": [
        "## DiStefano, Beaty, Patterson, 2023 (Metaphors)\n",
        "\n",
        "Based on the paper, semantic distance with BERT DSI correlated with human ratings  $r=.42$ on the held out dataset; GPT-2 at $r=.70$, and RoBERTa at $r=.72$."
      ]
    },
    {
      "cell_type": "code",
      "execution_count": 16,
      "metadata": {},
      "outputs": [
        {
          "data": {
            "text/markdown": [
              "### Loading *DiStefano, Beaty, Patterson, 2023*"
            ],
            "text/plain": [
              "<IPython.core.display.Markdown object>"
            ]
          },
          "metadata": {},
          "output_type": "display_data"
        },
        {
          "data": {
            "text/markdown": [
              "DiStefano, P. V., Patterson, J. D., & Beaty, R. (2023). Automatic Scoring of Metaphor Creativity with Large Language Models. https://doi.org/10.31234/osf.io/6jtxb"
            ],
            "text/plain": [
              "<IPython.core.display.Markdown object>"
            ]
          },
          "metadata": {},
          "output_type": "display_data"
        },
        {
          "data": {
            "text/markdown": [
              "- Renaming columns {'item': 'prompt', 'Story': 'response', 'ID': 'participant'}"
            ],
            "text/plain": [
              "<IPython.core.display.Markdown object>"
            ]
          },
          "metadata": {},
          "output_type": "display_data"
        },
        {
          "data": {
            "text/markdown": [
              "- Inferring questions {'boring class': 'Think of the most boring high-school or college class you’ve ever had. What was it like to sit through?', 'gross food': 'Think about the most disgusting thing you ever ate or drank. What was it like to eat or drink it?', 'bad movie': 'Think about the worst movie or TV show you have ever seen. What was it like to watch it?', 'messy room': 'Think of the messiest room that you’ve ever had to live in. What was it like to live there?'}"
            ],
            "text/plain": [
              "<IPython.core.display.Markdown object>"
            ]
          },
          "metadata": {},
          "output_type": "display_data"
        },
        {
          "data": {
            "text/markdown": [
              "- Inferred range of original data: (-1.675025493, 4.115607135)"
            ],
            "text/plain": [
              "<IPython.core.display.Markdown object>"
            ]
          },
          "metadata": {},
          "output_type": "display_data"
        },
        {
          "data": {
            "text/markdown": [
              "- name: dbc23\n",
              "- no_of_prompts: 4\n",
              "- no_of_participants: 1546\n",
              "- no_of_data_points: 4589\n",
              "- prompts: ['boring class', 'gross food', 'bad movie', 'messy room']\n",
              "- ICC2k: None\n",
              "- ICC2k_CI: None\n",
              "- ICC3k: None\n",
              "- rater_cols: ['rating']\n",
              "- no_of_raters: 1\n"
            ],
            "text/plain": [
              "<IPython.core.display.Markdown object>"
            ]
          },
          "metadata": {},
          "output_type": "display_data"
        },
        {
          "name": "stderr",
          "output_type": "stream",
          "text": [
            "/Users/peter.organisciak/anaconda3/lib/python3.9/site-packages/pandas/io/sql.py:761: UserWarning: pandas only support SQLAlchemy connectable(engine/connection) ordatabase string URI or sqlite3 DBAPI2 connectionother DBAPI2 objects are not tested, please consider using SQLAlchemy\n",
            "  warnings.warn(\n"
          ]
        },
        {
          "data": {
            "text/html": [
              "<div>\n",
              "<style scoped>\n",
              "    .dataframe tbody tr th:only-of-type {\n",
              "        vertical-align: middle;\n",
              "    }\n",
              "\n",
              "    .dataframe tbody tr th {\n",
              "        vertical-align: top;\n",
              "    }\n",
              "\n",
              "    .dataframe thead th {\n",
              "        text-align: right;\n",
              "    }\n",
              "</style>\n",
              "<table border=\"1\" class=\"dataframe\">\n",
              "  <thead>\n",
              "    <tr style=\"text-align: right;\">\n",
              "      <th></th>\n",
              "      <th>type</th>\n",
              "      <th>src</th>\n",
              "      <th>question</th>\n",
              "      <th>prompt</th>\n",
              "      <th>response</th>\n",
              "      <th>id</th>\n",
              "      <th>target</th>\n",
              "      <th>participant</th>\n",
              "      <th>response_num</th>\n",
              "      <th>language</th>\n",
              "      <th>rater_count</th>\n",
              "      <th>rating_std</th>\n",
              "    </tr>\n",
              "  </thead>\n",
              "  <tbody>\n",
              "    <tr>\n",
              "      <th>1803</th>\n",
              "      <td>metaphors</td>\n",
              "      <td>dbc23</td>\n",
              "      <td>Think about the worst movie or TV show you hav...</td>\n",
              "      <td>bad movie</td>\n",
              "      <td>watching that movie was like watching poorly ...</td>\n",
              "      <td>dbc23_bad movie-642cc5</td>\n",
              "      <td>3.705507</td>\n",
              "      <td>dbc237066</td>\n",
              "      <td>None</td>\n",
              "      <td>eng</td>\n",
              "      <td>1</td>\n",
              "      <td>NaN</td>\n",
              "    </tr>\n",
              "    <tr>\n",
              "      <th>1191</th>\n",
              "      <td>metaphors</td>\n",
              "      <td>dbc23</td>\n",
              "      <td>Think of the most boring high-school or colleg...</td>\n",
              "      <td>boring class</td>\n",
              "      <td>That class was like taking a shit  boring but ...</td>\n",
              "      <td>dbc23_boring class-fb200a</td>\n",
              "      <td>3.056157</td>\n",
              "      <td>dbc235059</td>\n",
              "      <td>None</td>\n",
              "      <td>eng</td>\n",
              "      <td>1</td>\n",
              "      <td>NaN</td>\n",
              "    </tr>\n",
              "  </tbody>\n",
              "</table>\n",
              "</div>"
            ],
            "text/plain": [
              "           type    src                                           question  \\\n",
              "1803  metaphors  dbc23  Think about the worst movie or TV show you hav...   \n",
              "1191  metaphors  dbc23  Think of the most boring high-school or colleg...   \n",
              "\n",
              "            prompt                                           response  \\\n",
              "1803     bad movie   watching that movie was like watching poorly ...   \n",
              "1191  boring class  That class was like taking a shit  boring but ...   \n",
              "\n",
              "                             id    target participant response_num language  \\\n",
              "1803     dbc23_bad movie-642cc5  3.705507   dbc237066         None      eng   \n",
              "1191  dbc23_boring class-fb200a  3.056157   dbc235059         None      eng   \n",
              "\n",
              "      rater_count  rating_std  \n",
              "1803            1         NaN  \n",
              "1191            1         NaN  "
            ]
          },
          "execution_count": 16,
          "metadata": {},
          "output_type": "execute_result"
        }
      ],
      "source": [
        "desc = {\n",
        "    \"name\": \"dbc23\",\n",
        "    \"test_type\": \"metaphors\",\n",
        "    \"meta\": {\n",
        "        \"inline\": \"DiStefano, Beaty, Patterson, 2023\",\n",
        "        \"citation\": \"DiStefano, P. V., Patterson, J. D., & Beaty, R. (2023). Automatic Scoring of Metaphor Creativity with Large Language Models. https://doi.org/10.31234/osf.io/6jtxb\",\n",
        "        \"url\": \"https://arxiv.org/abs/2306.14790\",\n",
        "        \"download\": [{\n",
        "            \"url\": \"https://osf.io/download/mr5a3\", \n",
        "            \"extension\": \"csv\"\n",
        "            }],\n",
        "    },\n",
        "    \"column_mappings\": {'item': 'prompt', 'Story': 'response',\n",
        "                        'ID': 'participant'},\n",
        "    # the released dataset is already merged among the raters\n",
        "    \"rater_cols\": ['rating'],\n",
        "    \"language\":\"eng\",\n",
        "    \"question_mappings\": {\n",
        "        'boring class': 'Think of the most boring high-school or college class you’ve ever had. What was it like to sit through?',\n",
        "        'gross food': 'Think about the most disgusting thing you ever ate or drank. What was it like to eat or drink it?',\n",
        "        'bad movie': 'Think about the worst movie or TV show you have ever seen. What was it like to watch it?',\n",
        "        'messy room': 'Think of the messiest room that you’ve ever had to live in. What was it like to live there?'\n",
        "        }\n",
        "}\n",
        "\n",
        "fname = download_from_description(desc, '../data/raw')[0]\n",
        "df = pd.read_csv(fname)\n",
        "cleaned = prep_general(df, **desc, save_dir='../data/datasets')\n",
        "cleaned.sample(2)"
      ]
    },
    {
      "cell_type": "markdown",
      "metadata": {},
      "source": [
        "## Haas 2018\n",
        "\n",
        "This data uses online Mechanical Turk judges to re-judge Silvia et al. 2008. While the quality is likely to be lower, the position taken with Ocsai is that more raters is better, augmenting the btter trained raters."
      ]
    },
    {
      "cell_type": "code",
      "execution_count": 17,
      "metadata": {},
      "outputs": [
        {
          "data": {
            "text/markdown": [
              "### Loading *Hass, Rivera, Silvia 2018*"
            ],
            "text/plain": [
              "<IPython.core.display.Markdown object>"
            ]
          },
          "metadata": {},
          "output_type": "display_data"
        },
        {
          "data": {
            "text/markdown": [
              "Hass, R. W., Rivera, M., & Silvia, P. J. (2018). On the Dependability and Feasibility of Layperson Ratings of Divergent Thinking. Frontiers in Psychology, 9. https://www.frontiersin.org/articles/10.3389/fpsyg.2018.01343"
            ],
            "text/plain": [
              "<IPython.core.display.Markdown object>"
            ]
          },
          "metadata": {},
          "output_type": "display_data"
        },
        {
          "data": {
            "text/markdown": [
              "- Renaming columns {'subject': 'participant', 'task': 'prompt', 'order': 'response_num'}"
            ],
            "text/plain": [
              "<IPython.core.display.Markdown object>"
            ]
          },
          "metadata": {},
          "output_type": "display_data"
        },
        {
          "data": {
            "text/markdown": [
              "- Inferring questions {'brick': 'What is a surprising use for a BRICK?', 'round': 'What is a surprising thing that is ROUND?', 'no sleep': 'What would be a surprising consequence if PEOPLE NEEDED NO SLEEP?', 'knife': 'What is a surprising use for a KNIFE?', 'noise': 'What is a surprising thing that makes a NOISE?', 'shrank': 'What would be a surprising consequence if EVERYONE SHRANK TO 12 INCHES TALL?'}"
            ],
            "text/plain": [
              "<IPython.core.display.Markdown object>"
            ]
          },
          "metadata": {},
          "output_type": "display_data"
        },
        {
          "data": {
            "text/markdown": [
              "- Inferring types {'brick': 'uses', 'round': 'uses', 'no sleep': 'consequences', 'knife': 'uses', 'noise': 'instances', 'shrank': 'consequences'}"
            ],
            "text/plain": [
              "<IPython.core.display.Markdown object>"
            ]
          },
          "metadata": {},
          "output_type": "display_data"
        },
        {
          "name": "stdout",
          "output_type": "stream",
          "text": [
            "Replacing   with NaN in response column\n",
            "Dropping 37 unrated items\n"
          ]
        },
        {
          "data": {
            "text/markdown": [
              "- name: h18\n",
              "- no_of_prompts: 6\n",
              "- no_of_participants: 242\n",
              "- no_of_data_points: 11490\n",
              "- prompts: ['shrank', 'brick', 'knife', 'noise', 'round', 'no sleep']\n",
              "- ICC2k: 0.43\n",
              "- ICC2k_CI: 0.22-0.57\n",
              "- ICC3k: 0.54\n",
              "- rater_cols: ['rater1', 'rater2', 'rater3']\n",
              "- no_of_raters: 3\n"
            ],
            "text/plain": [
              "<IPython.core.display.Markdown object>"
            ]
          },
          "metadata": {},
          "output_type": "display_data"
        },
        {
          "name": "stderr",
          "output_type": "stream",
          "text": [
            "/Users/peter.organisciak/anaconda3/lib/python3.9/site-packages/pandas/io/sql.py:761: UserWarning: pandas only support SQLAlchemy connectable(engine/connection) ordatabase string URI or sqlite3 DBAPI2 connectionother DBAPI2 objects are not tested, please consider using SQLAlchemy\n",
            "  warnings.warn(\n"
          ]
        },
        {
          "data": {
            "text/html": [
              "<div>\n",
              "<style scoped>\n",
              "    .dataframe tbody tr th:only-of-type {\n",
              "        vertical-align: middle;\n",
              "    }\n",
              "\n",
              "    .dataframe tbody tr th {\n",
              "        vertical-align: top;\n",
              "    }\n",
              "\n",
              "    .dataframe thead th {\n",
              "        text-align: right;\n",
              "    }\n",
              "</style>\n",
              "<table border=\"1\" class=\"dataframe\">\n",
              "  <thead>\n",
              "    <tr style=\"text-align: right;\">\n",
              "      <th></th>\n",
              "      <th>type</th>\n",
              "      <th>src</th>\n",
              "      <th>question</th>\n",
              "      <th>prompt</th>\n",
              "      <th>response</th>\n",
              "      <th>id</th>\n",
              "      <th>target</th>\n",
              "      <th>participant</th>\n",
              "      <th>response_num</th>\n",
              "      <th>language</th>\n",
              "      <th>rater_count</th>\n",
              "      <th>rating_std</th>\n",
              "    </tr>\n",
              "  </thead>\n",
              "  <tbody>\n",
              "    <tr>\n",
              "      <th>2856</th>\n",
              "      <td>consequences</td>\n",
              "      <td>h18</td>\n",
              "      <td>What would be a surprising consequence if PEOP...</td>\n",
              "      <td>no sleep</td>\n",
              "      <td>the world will be chaos</td>\n",
              "      <td>h18_no sleep-17cbd0</td>\n",
              "      <td>1.000</td>\n",
              "      <td>h1864</td>\n",
              "      <td>1</td>\n",
              "      <td>eng</td>\n",
              "      <td>3</td>\n",
              "      <td>0.000000</td>\n",
              "    </tr>\n",
              "    <tr>\n",
              "      <th>10121</th>\n",
              "      <td>uses</td>\n",
              "      <td>h18</td>\n",
              "      <td>What is a surprising use for a BRICK?</td>\n",
              "      <td>brick</td>\n",
              "      <td>to juggle with</td>\n",
              "      <td>h18_brick-d5917d</td>\n",
              "      <td>2.334</td>\n",
              "      <td>h18213</td>\n",
              "      <td>8</td>\n",
              "      <td>eng</td>\n",
              "      <td>3</td>\n",
              "      <td>1.154701</td>\n",
              "    </tr>\n",
              "  </tbody>\n",
              "</table>\n",
              "</div>"
            ],
            "text/plain": [
              "               type  src                                           question  \\\n",
              "2856   consequences  h18  What would be a surprising consequence if PEOP...   \n",
              "10121          uses  h18              What is a surprising use for a BRICK?   \n",
              "\n",
              "         prompt                 response                   id  target  \\\n",
              "2856   no sleep  the world will be chaos  h18_no sleep-17cbd0   1.000   \n",
              "10121     brick           to juggle with     h18_brick-d5917d   2.334   \n",
              "\n",
              "      participant  response_num language  rater_count  rating_std  \n",
              "2856        h1864             1      eng            3    0.000000  \n",
              "10121      h18213             8      eng            3    1.154701  "
            ]
          },
          "execution_count": 17,
          "metadata": {},
          "output_type": "execute_result"
        }
      ],
      "source": [
        "desc = {\n",
        "    \"name\": \"h18\",\n",
        "    \"meta\": {\n",
        "        \"inline\": \"Hass, Rivera, Silvia 2018\",\n",
        "        \"citation\": \"Hass, R. W., Rivera, M., & Silvia, P. J. (2018). On the Dependability and Feasibility of Layperson Ratings of Divergent Thinking. Frontiers in Psychology, 9. https://www.frontiersin.org/articles/10.3389/fpsyg.2018.01343\",\n",
        "        \"url\": \"https://doi.org/10.3389/fpsyg.2018.01343\",\n",
        "        \"download\": [{\n",
        "            \"url\": \"https://osf.io/download/p2b9c\", \n",
        "            \"extension\": \"csv\"\n",
        "            }],\n",
        "    },\n",
        "    \"null_marker\": \" \",\n",
        "    \"column_mappings\": {'subject': 'participant', 'task':'prompt',\n",
        "                        'order':'response_num'},\n",
        "    \"range\": [1, 5],\n",
        "    \"rater_cols\": ['rater1', 'rater2', 'rater3'],\n",
        "    \"replace_values\": {\n",
        "        \"prompt\": {\n",
        "            'Brick': \"brick\",\n",
        "            'Round Things': \"round\",\n",
        "            'Sleep': \"no sleep\",\n",
        "            'Knife': \"knife\",\n",
        "            'Make Noises': \"noise\",\n",
        "            '12 Inches': \"shrank\"\n",
        "        },\n",
        "    },\n",
        "    \"question_mappings\": {\n",
        "        \"brick\": \"What is a surprising use for a BRICK?\",\n",
        "        \"round\": \"What is a surprising thing that is ROUND?\", \n",
        "        \"no sleep\": \"What would be a surprising consequence if PEOPLE NEEDED NO SLEEP?\", \n",
        "        \"knife\": \"What is a surprising use for a KNIFE?\",\n",
        "        \"noise\": \"What is a surprising thing that makes a NOISE?\",\n",
        "        \"shrank\": \"What would be a surprising consequence if EVERYONE SHRANK TO 12 INCHES TALL?\"\n",
        "    },\n",
        "    \"type_mappings\": {\n",
        "        \"brick\": \"uses\",\n",
        "        \"round\": \"uses\",\n",
        "        \"no sleep\": \"consequences\",\n",
        "        \"knife\": \"uses\",\n",
        "        \"noise\": \"instances\",\n",
        "        \"shrank\": \"consequences\"\n",
        "    },\n",
        "    \"language\":\"eng\"\n",
        "}\n",
        "\n",
        "fname = download_from_description(desc, '../data/raw')[0]\n",
        "df = pd.read_csv(fname)\n",
        "cleaned = prep_general(df, **desc, save_dir='../data/datasets')\n",
        "cleaned.sample(2)"
      ]
    },
    {
      "cell_type": "markdown",
      "metadata": {},
      "source": [
        "# Summary of Stats\n",
        "\n",
        "(Also check for redundancy)"
      ]
    },
    {
      "cell_type": "code",
      "execution_count": 18,
      "metadata": {},
      "outputs": [
        {
          "name": "stderr",
          "output_type": "stream",
          "text": [
            "/Users/peter.organisciak/anaconda3/lib/python3.9/site-packages/pandas/io/sql.py:761: UserWarning: pandas only support SQLAlchemy connectable(engine/connection) ordatabase string URI or sqlite3 DBAPI2 connectionother DBAPI2 objects are not tested, please consider using SQLAlchemy\n",
            "  warnings.warn(\n"
          ]
        },
        {
          "data": {
            "text/html": [
              "<div>\n",
              "<style scoped>\n",
              "    .dataframe tbody tr th:only-of-type {\n",
              "        vertical-align: middle;\n",
              "    }\n",
              "\n",
              "    .dataframe tbody tr th {\n",
              "        vertical-align: top;\n",
              "    }\n",
              "\n",
              "    .dataframe thead th {\n",
              "        text-align: right;\n",
              "    }\n",
              "</style>\n",
              "<table border=\"1\" class=\"dataframe\">\n",
              "  <thead>\n",
              "    <tr style=\"text-align: right;\">\n",
              "      <th></th>\n",
              "      <th>name</th>\n",
              "      <th>no_of_prompts</th>\n",
              "      <th>no_of_participants</th>\n",
              "      <th>no_of_data_points</th>\n",
              "      <th>prompts</th>\n",
              "      <th>ICC2k</th>\n",
              "      <th>ICC2k_CI</th>\n",
              "      <th>ICC3k</th>\n",
              "      <th>rater_cols</th>\n",
              "      <th>no_of_raters</th>\n",
              "    </tr>\n",
              "  </thead>\n",
              "  <tbody>\n",
              "    <tr>\n",
              "      <th>22</th>\n",
              "      <td>multiaut_russian2</td>\n",
              "      <td>1</td>\n",
              "      <td>45</td>\n",
              "      <td>370</td>\n",
              "      <td>[картонная коробка]</td>\n",
              "      <td>0.78</td>\n",
              "      <td>0.74-0.82</td>\n",
              "      <td>0.79</td>\n",
              "      <td>[rater1, rater2, rater3]</td>\n",
              "      <td>3</td>\n",
              "    </tr>\n",
              "    <tr>\n",
              "      <th>20</th>\n",
              "      <td>multiaut_french2</td>\n",
              "      <td>1</td>\n",
              "      <td>82</td>\n",
              "      <td>449</td>\n",
              "      <td>[chapeau]</td>\n",
              "      <td>0.52</td>\n",
              "      <td>0.25-0.68</td>\n",
              "      <td>0.64</td>\n",
              "      <td>[rater1, rater2, rater3]</td>\n",
              "      <td>3</td>\n",
              "    </tr>\n",
              "    <tr>\n",
              "      <th>12</th>\n",
              "      <td>motesp</td>\n",
              "      <td>29</td>\n",
              "      <td>35</td>\n",
              "      <td>963</td>\n",
              "      <td>[backpack, ball, bottle, hat, light bulb, penc...</td>\n",
              "      <td>0.73</td>\n",
              "      <td>0.66-0.78</td>\n",
              "      <td>0.75</td>\n",
              "      <td>[D, K, T]</td>\n",
              "      <td>3</td>\n",
              "    </tr>\n",
              "    <tr>\n",
              "      <th>35</th>\n",
              "      <td>multiaut_dutch3</td>\n",
              "      <td>1</td>\n",
              "      <td>111</td>\n",
              "      <td>1004</td>\n",
              "      <td>[backstreen]</td>\n",
              "      <td>0.86</td>\n",
              "      <td>0.79-0.89</td>\n",
              "      <td>0.87</td>\n",
              "      <td>[rater1, rater2]</td>\n",
              "      <td>2</td>\n",
              "    </tr>\n",
              "    <tr>\n",
              "      <th>6</th>\n",
              "      <td>hass17</td>\n",
              "      <td>2</td>\n",
              "      <td>57</td>\n",
              "      <td>1093</td>\n",
              "      <td>[bottle, brick]</td>\n",
              "      <td>0.79</td>\n",
              "      <td>0.75-0.82</td>\n",
              "      <td>0.80</td>\n",
              "      <td>[r1, r2, r3]</td>\n",
              "      <td>3</td>\n",
              "    </tr>\n",
              "    <tr>\n",
              "      <th>23</th>\n",
              "      <td>multiaut_chinese2</td>\n",
              "      <td>2</td>\n",
              "      <td>217</td>\n",
              "      <td>1302</td>\n",
              "      <td>[筷子, 易拉罐]</td>\n",
              "      <td>0.73</td>\n",
              "      <td>0.64-0.79</td>\n",
              "      <td>0.77</td>\n",
              "      <td>[rater1, rater2, rater3, rater4]</td>\n",
              "      <td>4</td>\n",
              "    </tr>\n",
              "    <tr>\n",
              "      <th>15</th>\n",
              "      <td>multiaut_arabic1</td>\n",
              "      <td>1</td>\n",
              "      <td>160</td>\n",
              "      <td>1524</td>\n",
              "      <td>[علب الصفيح]</td>\n",
              "      <td>NaN</td>\n",
              "      <td>None</td>\n",
              "      <td>NaN</td>\n",
              "      <td>[rater1]</td>\n",
              "      <td>1</td>\n",
              "    </tr>\n",
              "    <tr>\n",
              "      <th>32</th>\n",
              "      <td>multiaut_dutch2</td>\n",
              "      <td>2</td>\n",
              "      <td>111</td>\n",
              "      <td>1640</td>\n",
              "      <td>[backstreen, paperclip]</td>\n",
              "      <td>0.94</td>\n",
              "      <td>0.93-0.95</td>\n",
              "      <td>0.94</td>\n",
              "      <td>[rater1, rater2]</td>\n",
              "      <td>2</td>\n",
              "    </tr>\n",
              "    <tr>\n",
              "      <th>18</th>\n",
              "      <td>multiaut_russian1</td>\n",
              "      <td>2</td>\n",
              "      <td>111</td>\n",
              "      <td>1728</td>\n",
              "      <td>[газета, деревянная линейка]</td>\n",
              "      <td>0.72</td>\n",
              "      <td>0.69-0.74</td>\n",
              "      <td>0.72</td>\n",
              "      <td>[rater1, rater2, rater3]</td>\n",
              "      <td>3</td>\n",
              "    </tr>\n",
              "    <tr>\n",
              "      <th>11</th>\n",
              "      <td>bs12</td>\n",
              "      <td>1</td>\n",
              "      <td>133</td>\n",
              "      <td>1807</td>\n",
              "      <td>[brick]</td>\n",
              "      <td>0.72</td>\n",
              "      <td>0.56-0.8</td>\n",
              "      <td>0.78</td>\n",
              "      <td>[br_rater1, br_rater2, br_rater3]</td>\n",
              "      <td>3</td>\n",
              "    </tr>\n",
              "    <tr>\n",
              "      <th>2</th>\n",
              "      <td>multiaut_english5</td>\n",
              "      <td>1</td>\n",
              "      <td>133</td>\n",
              "      <td>1807</td>\n",
              "      <td>[brick]</td>\n",
              "      <td>0.74</td>\n",
              "      <td>0.65-0.79</td>\n",
              "      <td>0.79</td>\n",
              "      <td>[rater1, rater2, rater3, br_rater1, br_rater2,...</td>\n",
              "      <td>6</td>\n",
              "    </tr>\n",
              "    <tr>\n",
              "      <th>21</th>\n",
              "      <td>multiaut_hebrew1</td>\n",
              "      <td>10</td>\n",
              "      <td>51</td>\n",
              "      <td>2027</td>\n",
              "      <td>[סכין, נעל, עיפרון, עיתון, מברג, קולב, צמיג, מ...</td>\n",
              "      <td>NaN</td>\n",
              "      <td>None</td>\n",
              "      <td>NaN</td>\n",
              "      <td>[rater1, rater2, rater3, rater4, rater5, rater...</td>\n",
              "      <td>45</td>\n",
              "    </tr>\n",
              "    <tr>\n",
              "      <th>25</th>\n",
              "      <td>multiaut_french3</td>\n",
              "      <td>2</td>\n",
              "      <td>277</td>\n",
              "      <td>2181</td>\n",
              "      <td>[ceinture, brouette]</td>\n",
              "      <td>0.73</td>\n",
              "      <td>0.68-0.77</td>\n",
              "      <td>0.75</td>\n",
              "      <td>[rater1, rater2, rater3]</td>\n",
              "      <td>3</td>\n",
              "    </tr>\n",
              "    <tr>\n",
              "      <th>30</th>\n",
              "      <td>multiaut_french4</td>\n",
              "      <td>2</td>\n",
              "      <td>238</td>\n",
              "      <td>2332</td>\n",
              "      <td>[brouette, ceinture]</td>\n",
              "      <td>0.79</td>\n",
              "      <td>0.78-0.81</td>\n",
              "      <td>0.80</td>\n",
              "      <td>[rater1, rater2, rater3]</td>\n",
              "      <td>3</td>\n",
              "    </tr>\n",
              "    <tr>\n",
              "      <th>1</th>\n",
              "      <td>multiaut_english4</td>\n",
              "      <td>2</td>\n",
              "      <td>142</td>\n",
              "      <td>2361</td>\n",
              "      <td>[box, rope]</td>\n",
              "      <td>0.67</td>\n",
              "      <td>0.55-0.75</td>\n",
              "      <td>0.72</td>\n",
              "      <td>[rater1, rater2, rater3]</td>\n",
              "      <td>3</td>\n",
              "    </tr>\n",
              "    <tr>\n",
              "      <th>10</th>\n",
              "      <td>snb17</td>\n",
              "      <td>2</td>\n",
              "      <td>142</td>\n",
              "      <td>2372</td>\n",
              "      <td>[box, rope]</td>\n",
              "      <td>0.67</td>\n",
              "      <td>0.55-0.75</td>\n",
              "      <td>0.72</td>\n",
              "      <td>[rater1, rater2, rater3]</td>\n",
              "      <td>3</td>\n",
              "    </tr>\n",
              "    <tr>\n",
              "      <th>16</th>\n",
              "      <td>multiaut_dutch4</td>\n",
              "      <td>1</td>\n",
              "      <td>99</td>\n",
              "      <td>2414</td>\n",
              "      <td>[backstreen]</td>\n",
              "      <td>0.84</td>\n",
              "      <td>0.82-0.86</td>\n",
              "      <td>0.85</td>\n",
              "      <td>[rater1, rater2, rater3]</td>\n",
              "      <td>3</td>\n",
              "    </tr>\n",
              "    <tr>\n",
              "      <th>27</th>\n",
              "      <td>multiaut_spanish1</td>\n",
              "      <td>1</td>\n",
              "      <td>491</td>\n",
              "      <td>2735</td>\n",
              "      <td>[ladrillo]</td>\n",
              "      <td>0.57</td>\n",
              "      <td>0.18-0.75</td>\n",
              "      <td>0.75</td>\n",
              "      <td>[rater1, rater2, rater3]</td>\n",
              "      <td>3</td>\n",
              "    </tr>\n",
              "    <tr>\n",
              "      <th>0</th>\n",
              "      <td>multiaut_english1</td>\n",
              "      <td>2</td>\n",
              "      <td>171</td>\n",
              "      <td>2918</td>\n",
              "      <td>[box, rope]</td>\n",
              "      <td>0.82</td>\n",
              "      <td>0.77-0.85</td>\n",
              "      <td>0.84</td>\n",
              "      <td>[rater1, rater2, rater3, rater4]</td>\n",
              "      <td>4</td>\n",
              "    </tr>\n",
              "    <tr>\n",
              "      <th>9</th>\n",
              "      <td>betal18</td>\n",
              "      <td>2</td>\n",
              "      <td>171</td>\n",
              "      <td>2918</td>\n",
              "      <td>[box, rope]</td>\n",
              "      <td>0.82</td>\n",
              "      <td>0.77-0.85</td>\n",
              "      <td>0.84</td>\n",
              "      <td>[rater1, rater2, rater3, rater4]</td>\n",
              "      <td>4</td>\n",
              "    </tr>\n",
              "    <tr>\n",
              "      <th>14</th>\n",
              "      <td>multiaut_polish2</td>\n",
              "      <td>3</td>\n",
              "      <td>497</td>\n",
              "      <td>3054</td>\n",
              "      <td>[sznurek, puszka, cegła]</td>\n",
              "      <td>NaN</td>\n",
              "      <td>None</td>\n",
              "      <td>NaN</td>\n",
              "      <td>[coder1, coder2, coder3, coder4]</td>\n",
              "      <td>4</td>\n",
              "    </tr>\n",
              "    <tr>\n",
              "      <th>29</th>\n",
              "      <td>multiaut_english3</td>\n",
              "      <td>2</td>\n",
              "      <td>209</td>\n",
              "      <td>3225</td>\n",
              "      <td>[box, rope]</td>\n",
              "      <td>0.42</td>\n",
              "      <td>0.16-0.58</td>\n",
              "      <td>0.56</td>\n",
              "      <td>[rater1, rater2, rater3]</td>\n",
              "      <td>3</td>\n",
              "    </tr>\n",
              "    <tr>\n",
              "      <th>3</th>\n",
              "      <td>multiaut_english6</td>\n",
              "      <td>2</td>\n",
              "      <td>241</td>\n",
              "      <td>3425</td>\n",
              "      <td>[brick, knife]</td>\n",
              "      <td>0.48</td>\n",
              "      <td>0.15-0.65</td>\n",
              "      <td>0.64</td>\n",
              "      <td>[rater1, rater2, rater3]</td>\n",
              "      <td>3</td>\n",
              "    </tr>\n",
              "    <tr>\n",
              "      <th>36</th>\n",
              "      <td>multiaut_german2</td>\n",
              "      <td>3</td>\n",
              "      <td>154</td>\n",
              "      <td>3530</td>\n",
              "      <td>[Büroklammer, Mülltüte, Seil]</td>\n",
              "      <td>0.71</td>\n",
              "      <td>0.54-0.8</td>\n",
              "      <td>0.77</td>\n",
              "      <td>[rater1, rater2, rater3]</td>\n",
              "      <td>3</td>\n",
              "    </tr>\n",
              "    <tr>\n",
              "      <th>24</th>\n",
              "      <td>multiaut_english2</td>\n",
              "      <td>2</td>\n",
              "      <td>182</td>\n",
              "      <td>3723</td>\n",
              "      <td>[rope, box]</td>\n",
              "      <td>0.71</td>\n",
              "      <td>0.59-0.78</td>\n",
              "      <td>0.77</td>\n",
              "      <td>[rater1, rater2, rater3, rater4]</td>\n",
              "      <td>4</td>\n",
              "    </tr>\n",
              "    <tr>\n",
              "      <th>8</th>\n",
              "      <td>hmsl</td>\n",
              "      <td>2</td>\n",
              "      <td>638</td>\n",
              "      <td>3843</td>\n",
              "      <td>[paperclip, brick]</td>\n",
              "      <td>0.67</td>\n",
              "      <td>0.53-0.75</td>\n",
              "      <td>0.74</td>\n",
              "      <td>[J1_Rating, J2_Rating, J3_Rating, J4_Rating]</td>\n",
              "      <td>4</td>\n",
              "    </tr>\n",
              "    <tr>\n",
              "      <th>5</th>\n",
              "      <td>snbmo09</td>\n",
              "      <td>3</td>\n",
              "      <td>202</td>\n",
              "      <td>4099</td>\n",
              "      <td>[brick, knife, box]</td>\n",
              "      <td>0.69</td>\n",
              "      <td>0.57-0.77</td>\n",
              "      <td>0.76</td>\n",
              "      <td>[rater_1, rater_2, rater_3, rater_4]</td>\n",
              "      <td>4</td>\n",
              "    </tr>\n",
              "    <tr>\n",
              "      <th>26</th>\n",
              "      <td>multiaut_italian1</td>\n",
              "      <td>6</td>\n",
              "      <td>151</td>\n",
              "      <td>4269</td>\n",
              "      <td>[Attaccapanni, Barile, Bottiglia di plastica, ...</td>\n",
              "      <td>0.89</td>\n",
              "      <td>0.89-0.9</td>\n",
              "      <td>0.89</td>\n",
              "      <td>[rater1, rater2]</td>\n",
              "      <td>2</td>\n",
              "    </tr>\n",
              "    <tr>\n",
              "      <th>38</th>\n",
              "      <td>dbc23</td>\n",
              "      <td>4</td>\n",
              "      <td>1546</td>\n",
              "      <td>4589</td>\n",
              "      <td>[boring class, gross food, bad movie, messy room]</td>\n",
              "      <td>NaN</td>\n",
              "      <td>None</td>\n",
              "      <td>NaN</td>\n",
              "      <td>[rating]</td>\n",
              "      <td>1</td>\n",
              "    </tr>\n",
              "    <tr>\n",
              "      <th>4</th>\n",
              "      <td>dod20</td>\n",
              "      <td>10</td>\n",
              "      <td>92</td>\n",
              "      <td>5490</td>\n",
              "      <td>[book, bottle, brick, fork, pants, rope, shoe,...</td>\n",
              "      <td>0.85</td>\n",
              "      <td>0.79-0.88</td>\n",
              "      <td>0.87</td>\n",
              "      <td>[rater1, rater2, rater3, rater4]</td>\n",
              "      <td>4</td>\n",
              "    </tr>\n",
              "    <tr>\n",
              "      <th>31</th>\n",
              "      <td>multiaut_italian2</td>\n",
              "      <td>21</td>\n",
              "      <td>80</td>\n",
              "      <td>6895</td>\n",
              "      <td>[guanto, lampadina, libro, martello, mattone, ...</td>\n",
              "      <td>0.88</td>\n",
              "      <td>0.87-0.89</td>\n",
              "      <td>0.88</td>\n",
              "      <td>[rater1, rater2]</td>\n",
              "      <td>2</td>\n",
              "    </tr>\n",
              "    <tr>\n",
              "      <th>34</th>\n",
              "      <td>multiaut_polish1</td>\n",
              "      <td>2</td>\n",
              "      <td>791</td>\n",
              "      <td>7415</td>\n",
              "      <td>[puszka, cegła]</td>\n",
              "      <td>0.82</td>\n",
              "      <td>0.81-0.83</td>\n",
              "      <td>0.82</td>\n",
              "      <td>[rater1, rater2, rater3]</td>\n",
              "      <td>3</td>\n",
              "    </tr>\n",
              "    <tr>\n",
              "      <th>37</th>\n",
              "      <td>transdis</td>\n",
              "      <td>4</td>\n",
              "      <td>350</td>\n",
              "      <td>8007</td>\n",
              "      <td>[床单, 筷子, 拖鞋, 牙刷]</td>\n",
              "      <td>0.67</td>\n",
              "      <td>0.6-0.73</td>\n",
              "      <td>0.70</td>\n",
              "      <td>[Originality_Rater1, Originality_Rater2]</td>\n",
              "      <td>2</td>\n",
              "    </tr>\n",
              "    <tr>\n",
              "      <th>17</th>\n",
              "      <td>multiaut_german3</td>\n",
              "      <td>16</td>\n",
              "      <td>51</td>\n",
              "      <td>8065</td>\n",
              "      <td>[Axt, Trompete, Erbse, Tisch, Flöte, Zange, Gu...</td>\n",
              "      <td>0.85</td>\n",
              "      <td>0.83-0.87</td>\n",
              "      <td>0.86</td>\n",
              "      <td>[rater1, rater2, rater3]</td>\n",
              "      <td>3</td>\n",
              "    </tr>\n",
              "    <tr>\n",
              "      <th>33</th>\n",
              "      <td>multiaut_german1</td>\n",
              "      <td>3</td>\n",
              "      <td>298</td>\n",
              "      <td>8116</td>\n",
              "      <td>[konservendose, messer, haarfoehn]</td>\n",
              "      <td>0.70</td>\n",
              "      <td>0.68-0.72</td>\n",
              "      <td>0.71</td>\n",
              "      <td>[rater1, rater2, rater3, rater4]</td>\n",
              "      <td>4</td>\n",
              "    </tr>\n",
              "    <tr>\n",
              "      <th>13</th>\n",
              "      <td>motesf</td>\n",
              "      <td>24</td>\n",
              "      <td>386</td>\n",
              "      <td>8563</td>\n",
              "      <td>[ball, sock, pencil, spoon, light bulb, hat, b...</td>\n",
              "      <td>0.79</td>\n",
              "      <td>0.69-0.85</td>\n",
              "      <td>0.84</td>\n",
              "      <td>[Kscore, Hscore, Cscore, Tscore, Mscore]</td>\n",
              "      <td>5</td>\n",
              "    </tr>\n",
              "    <tr>\n",
              "      <th>28</th>\n",
              "      <td>multiaut_dutch1</td>\n",
              "      <td>4</td>\n",
              "      <td>633</td>\n",
              "      <td>10549</td>\n",
              "      <td>[backstreen, vork, paperclip, handoek]</td>\n",
              "      <td>0.81</td>\n",
              "      <td>0.81-0.82</td>\n",
              "      <td>0.81</td>\n",
              "      <td>[rater1, rater2]</td>\n",
              "      <td>2</td>\n",
              "    </tr>\n",
              "    <tr>\n",
              "      <th>39</th>\n",
              "      <td>h18</td>\n",
              "      <td>6</td>\n",
              "      <td>242</td>\n",
              "      <td>11490</td>\n",
              "      <td>[shrank, brick, knife, noise, round, no sleep]</td>\n",
              "      <td>0.43</td>\n",
              "      <td>0.22-0.57</td>\n",
              "      <td>0.54</td>\n",
              "      <td>[rater1, rater2, rater3]</td>\n",
              "      <td>3</td>\n",
              "    </tr>\n",
              "    <tr>\n",
              "      <th>7</th>\n",
              "      <td>setal08</td>\n",
              "      <td>6</td>\n",
              "      <td>242</td>\n",
              "      <td>11490</td>\n",
              "      <td>[brick, round, no sleep, knife, noise, shrank]</td>\n",
              "      <td>0.43</td>\n",
              "      <td>0.22-0.57</td>\n",
              "      <td>0.54</td>\n",
              "      <td>[rater1, rater2, rater3]</td>\n",
              "      <td>3</td>\n",
              "    </tr>\n",
              "    <tr>\n",
              "      <th>19</th>\n",
              "      <td>multiaut_chinese1</td>\n",
              "      <td>122</td>\n",
              "      <td>466</td>\n",
              "      <td>14176</td>\n",
              "      <td>[积木, 漏斗, 轮胎, 盘子, 皮带, 塑料袋, 西瓜, 牙签, 锅, 蚊帐, 头发, 纸...</td>\n",
              "      <td>0.48</td>\n",
              "      <td>0.44-0.51</td>\n",
              "      <td>0.49</td>\n",
              "      <td>[rater1, rater2, rater3, rater4]</td>\n",
              "      <td>4</td>\n",
              "    </tr>\n",
              "  </tbody>\n",
              "</table>\n",
              "</div>"
            ],
            "text/plain": [
              "                 name  no_of_prompts  no_of_participants  no_of_data_points  \\\n",
              "22  multiaut_russian2              1                  45                370   \n",
              "20   multiaut_french2              1                  82                449   \n",
              "12             motesp             29                  35                963   \n",
              "35    multiaut_dutch3              1                 111               1004   \n",
              "6              hass17              2                  57               1093   \n",
              "23  multiaut_chinese2              2                 217               1302   \n",
              "15   multiaut_arabic1              1                 160               1524   \n",
              "32    multiaut_dutch2              2                 111               1640   \n",
              "18  multiaut_russian1              2                 111               1728   \n",
              "11               bs12              1                 133               1807   \n",
              "2   multiaut_english5              1                 133               1807   \n",
              "21   multiaut_hebrew1             10                  51               2027   \n",
              "25   multiaut_french3              2                 277               2181   \n",
              "30   multiaut_french4              2                 238               2332   \n",
              "1   multiaut_english4              2                 142               2361   \n",
              "10              snb17              2                 142               2372   \n",
              "16    multiaut_dutch4              1                  99               2414   \n",
              "27  multiaut_spanish1              1                 491               2735   \n",
              "0   multiaut_english1              2                 171               2918   \n",
              "9             betal18              2                 171               2918   \n",
              "14   multiaut_polish2              3                 497               3054   \n",
              "29  multiaut_english3              2                 209               3225   \n",
              "3   multiaut_english6              2                 241               3425   \n",
              "36   multiaut_german2              3                 154               3530   \n",
              "24  multiaut_english2              2                 182               3723   \n",
              "8                hmsl              2                 638               3843   \n",
              "5             snbmo09              3                 202               4099   \n",
              "26  multiaut_italian1              6                 151               4269   \n",
              "38              dbc23              4                1546               4589   \n",
              "4               dod20             10                  92               5490   \n",
              "31  multiaut_italian2             21                  80               6895   \n",
              "34   multiaut_polish1              2                 791               7415   \n",
              "37           transdis              4                 350               8007   \n",
              "17   multiaut_german3             16                  51               8065   \n",
              "33   multiaut_german1              3                 298               8116   \n",
              "13             motesf             24                 386               8563   \n",
              "28    multiaut_dutch1              4                 633              10549   \n",
              "39                h18              6                 242              11490   \n",
              "7             setal08              6                 242              11490   \n",
              "19  multiaut_chinese1            122                 466              14176   \n",
              "\n",
              "                                              prompts  ICC2k   ICC2k_CI  \\\n",
              "22                                [картонная коробка]   0.78  0.74-0.82   \n",
              "20                                          [chapeau]   0.52  0.25-0.68   \n",
              "12  [backpack, ball, bottle, hat, light bulb, penc...   0.73  0.66-0.78   \n",
              "35                                       [backstreen]   0.86  0.79-0.89   \n",
              "6                                     [bottle, brick]   0.79  0.75-0.82   \n",
              "23                                          [筷子, 易拉罐]   0.73  0.64-0.79   \n",
              "15                                       [علب الصفيح]    NaN       None   \n",
              "32                            [backstreen, paperclip]   0.94  0.93-0.95   \n",
              "18                       [газета, деревянная линейка]   0.72  0.69-0.74   \n",
              "11                                            [brick]   0.72   0.56-0.8   \n",
              "2                                             [brick]   0.74  0.65-0.79   \n",
              "21  [סכין, נעל, עיפרון, עיתון, מברג, קולב, צמיג, מ...    NaN       None   \n",
              "25                               [ceinture, brouette]   0.73  0.68-0.77   \n",
              "30                               [brouette, ceinture]   0.79  0.78-0.81   \n",
              "1                                         [box, rope]   0.67  0.55-0.75   \n",
              "10                                        [box, rope]   0.67  0.55-0.75   \n",
              "16                                       [backstreen]   0.84  0.82-0.86   \n",
              "27                                         [ladrillo]   0.57  0.18-0.75   \n",
              "0                                         [box, rope]   0.82  0.77-0.85   \n",
              "9                                         [box, rope]   0.82  0.77-0.85   \n",
              "14                           [sznurek, puszka, cegła]    NaN       None   \n",
              "29                                        [box, rope]   0.42  0.16-0.58   \n",
              "3                                      [brick, knife]   0.48  0.15-0.65   \n",
              "36                      [Büroklammer, Mülltüte, Seil]   0.71   0.54-0.8   \n",
              "24                                        [rope, box]   0.71  0.59-0.78   \n",
              "8                                  [paperclip, brick]   0.67  0.53-0.75   \n",
              "5                                 [brick, knife, box]   0.69  0.57-0.77   \n",
              "26  [Attaccapanni, Barile, Bottiglia di plastica, ...   0.89   0.89-0.9   \n",
              "38  [boring class, gross food, bad movie, messy room]    NaN       None   \n",
              "4   [book, bottle, brick, fork, pants, rope, shoe,...   0.85  0.79-0.88   \n",
              "31  [guanto, lampadina, libro, martello, mattone, ...   0.88  0.87-0.89   \n",
              "34                                    [puszka, cegła]   0.82  0.81-0.83   \n",
              "37                                   [床单, 筷子, 拖鞋, 牙刷]   0.67   0.6-0.73   \n",
              "17  [Axt, Trompete, Erbse, Tisch, Flöte, Zange, Gu...   0.85  0.83-0.87   \n",
              "33                 [konservendose, messer, haarfoehn]   0.70  0.68-0.72   \n",
              "13  [ball, sock, pencil, spoon, light bulb, hat, b...   0.79  0.69-0.85   \n",
              "28             [backstreen, vork, paperclip, handoek]   0.81  0.81-0.82   \n",
              "39     [shrank, brick, knife, noise, round, no sleep]   0.43  0.22-0.57   \n",
              "7      [brick, round, no sleep, knife, noise, shrank]   0.43  0.22-0.57   \n",
              "19  [积木, 漏斗, 轮胎, 盘子, 皮带, 塑料袋, 西瓜, 牙签, 锅, 蚊帐, 头发, 纸...   0.48  0.44-0.51   \n",
              "\n",
              "    ICC3k                                         rater_cols  no_of_raters  \n",
              "22   0.79                           [rater1, rater2, rater3]             3  \n",
              "20   0.64                           [rater1, rater2, rater3]             3  \n",
              "12   0.75                                          [D, K, T]             3  \n",
              "35   0.87                                   [rater1, rater2]             2  \n",
              "6    0.80                                       [r1, r2, r3]             3  \n",
              "23   0.77                   [rater1, rater2, rater3, rater4]             4  \n",
              "15    NaN                                           [rater1]             1  \n",
              "32   0.94                                   [rater1, rater2]             2  \n",
              "18   0.72                           [rater1, rater2, rater3]             3  \n",
              "11   0.78                  [br_rater1, br_rater2, br_rater3]             3  \n",
              "2    0.79  [rater1, rater2, rater3, br_rater1, br_rater2,...             6  \n",
              "21    NaN  [rater1, rater2, rater3, rater4, rater5, rater...            45  \n",
              "25   0.75                           [rater1, rater2, rater3]             3  \n",
              "30   0.80                           [rater1, rater2, rater3]             3  \n",
              "1    0.72                           [rater1, rater2, rater3]             3  \n",
              "10   0.72                           [rater1, rater2, rater3]             3  \n",
              "16   0.85                           [rater1, rater2, rater3]             3  \n",
              "27   0.75                           [rater1, rater2, rater3]             3  \n",
              "0    0.84                   [rater1, rater2, rater3, rater4]             4  \n",
              "9    0.84                   [rater1, rater2, rater3, rater4]             4  \n",
              "14    NaN                   [coder1, coder2, coder3, coder4]             4  \n",
              "29   0.56                           [rater1, rater2, rater3]             3  \n",
              "3    0.64                           [rater1, rater2, rater3]             3  \n",
              "36   0.77                           [rater1, rater2, rater3]             3  \n",
              "24   0.77                   [rater1, rater2, rater3, rater4]             4  \n",
              "8    0.74       [J1_Rating, J2_Rating, J3_Rating, J4_Rating]             4  \n",
              "5    0.76               [rater_1, rater_2, rater_3, rater_4]             4  \n",
              "26   0.89                                   [rater1, rater2]             2  \n",
              "38    NaN                                           [rating]             1  \n",
              "4    0.87                   [rater1, rater2, rater3, rater4]             4  \n",
              "31   0.88                                   [rater1, rater2]             2  \n",
              "34   0.82                           [rater1, rater2, rater3]             3  \n",
              "37   0.70           [Originality_Rater1, Originality_Rater2]             2  \n",
              "17   0.86                           [rater1, rater2, rater3]             3  \n",
              "33   0.71                   [rater1, rater2, rater3, rater4]             4  \n",
              "13   0.84           [Kscore, Hscore, Cscore, Tscore, Mscore]             5  \n",
              "28   0.81                                   [rater1, rater2]             2  \n",
              "39   0.54                           [rater1, rater2, rater3]             3  \n",
              "7    0.54                           [rater1, rater2, rater3]             3  \n",
              "19   0.49                   [rater1, rater2, rater3, rater4]             4  "
            ]
          },
          "execution_count": 18,
          "metadata": {},
          "output_type": "execute_result"
        }
      ],
      "source": [
        "import duckdb\n",
        "conn = duckdb.connect(\"../data/datasets/stats_db.duckdb\")\n",
        "stats = pd.read_sql('select * from stats', conn)\n",
        "# sort to check for redundancy\n",
        "stats.sort_values('no_of_data_points')"
      ]
    },
    {
      "cell_type": "code",
      "execution_count": 19,
      "metadata": {},
      "outputs": [
        {
          "data": {
            "text/html": [
              "<div>\n",
              "<style scoped>\n",
              "    .dataframe tbody tr th:only-of-type {\n",
              "        vertical-align: middle;\n",
              "    }\n",
              "\n",
              "    .dataframe tbody tr th {\n",
              "        vertical-align: top;\n",
              "    }\n",
              "\n",
              "    .dataframe thead th {\n",
              "        text-align: right;\n",
              "    }\n",
              "</style>\n",
              "<table border=\"1\" class=\"dataframe\">\n",
              "  <thead>\n",
              "    <tr style=\"text-align: right;\">\n",
              "      <th></th>\n",
              "      <th>type</th>\n",
              "      <th>src</th>\n",
              "      <th>question</th>\n",
              "      <th>prompt</th>\n",
              "      <th>response</th>\n",
              "      <th>id</th>\n",
              "      <th>target</th>\n",
              "      <th>participant</th>\n",
              "      <th>response_num</th>\n",
              "      <th>language</th>\n",
              "      <th>rater_count</th>\n",
              "      <th>rating_std</th>\n",
              "    </tr>\n",
              "  </thead>\n",
              "  <tbody>\n",
              "    <tr>\n",
              "      <th>1815</th>\n",
              "      <td>uses</td>\n",
              "      <td>multiaut_polish2</td>\n",
              "      <td>Jakie jest zaskakujące zastosowanie dla PUSZKI?</td>\n",
              "      <td>puszka</td>\n",
              "      <td>do zbudowania tłoka</td>\n",
              "      <td>multiaut_polish2_puszka-7374fb</td>\n",
              "      <td>5.000000</td>\n",
              "      <td>multiaut_polish2423427</td>\n",
              "      <td>1</td>\n",
              "      <td>pol</td>\n",
              "      <td>2</td>\n",
              "      <td>0.000000</td>\n",
              "    </tr>\n",
              "    <tr>\n",
              "      <th>1295</th>\n",
              "      <td>uses</td>\n",
              "      <td>multiaut_polish2</td>\n",
              "      <td>Jakie jest zaskakujące zastosowanie dla PUSZKI?</td>\n",
              "      <td>puszka</td>\n",
              "      <td>jako masażer do stóp</td>\n",
              "      <td>multiaut_polish2_puszka-30158a</td>\n",
              "      <td>5.000000</td>\n",
              "      <td>multiaut_polish291370</td>\n",
              "      <td>6</td>\n",
              "      <td>pol</td>\n",
              "      <td>2</td>\n",
              "      <td>0.000000</td>\n",
              "    </tr>\n",
              "    <tr>\n",
              "      <th>1908</th>\n",
              "      <td>uses</td>\n",
              "      <td>multiaut_polish2</td>\n",
              "      <td>Jakie jest zaskakujące zastosowanie dla PUSZKI?</td>\n",
              "      <td>puszka</td>\n",
              "      <td>można z kilku puszek zrobi pas kuloodporny</td>\n",
              "      <td>multiaut_polish2_puszka-006bb5</td>\n",
              "      <td>5.000000</td>\n",
              "      <td>multiaut_polish2450763</td>\n",
              "      <td>4</td>\n",
              "      <td>pol</td>\n",
              "      <td>2</td>\n",
              "      <td>0.000000</td>\n",
              "    </tr>\n",
              "    <tr>\n",
              "      <th>1084</th>\n",
              "      <td>uses</td>\n",
              "      <td>multiaut_polish2</td>\n",
              "      <td>Jakie jest zaskakujące zastosowanie dla PUSZKI?</td>\n",
              "      <td>puszka</td>\n",
              "      <td>Odpowiesnio przygotowana pozwala na konstrukcj...</td>\n",
              "      <td>multiaut_polish2_puszka-bc3c91</td>\n",
              "      <td>4.666667</td>\n",
              "      <td>multiaut_polish230277</td>\n",
              "      <td>3</td>\n",
              "      <td>pol</td>\n",
              "      <td>2</td>\n",
              "      <td>0.707107</td>\n",
              "    </tr>\n",
              "    <tr>\n",
              "      <th>1642</th>\n",
              "      <td>uses</td>\n",
              "      <td>multiaut_polish2</td>\n",
              "      <td>Jakie jest zaskakujące zastosowanie dla PUSZKI?</td>\n",
              "      <td>puszka</td>\n",
              "      <td>jak się włoży głośniczek do środka to wzmacnia...</td>\n",
              "      <td>multiaut_polish2_puszka-b71196</td>\n",
              "      <td>4.666667</td>\n",
              "      <td>multiaut_polish2372153</td>\n",
              "      <td>5</td>\n",
              "      <td>pol</td>\n",
              "      <td>2</td>\n",
              "      <td>0.707107</td>\n",
              "    </tr>\n",
              "    <tr>\n",
              "      <th>...</th>\n",
              "      <td>...</td>\n",
              "      <td>...</td>\n",
              "      <td>...</td>\n",
              "      <td>...</td>\n",
              "      <td>...</td>\n",
              "      <td>...</td>\n",
              "      <td>...</td>\n",
              "      <td>...</td>\n",
              "      <td>...</td>\n",
              "      <td>...</td>\n",
              "      <td>...</td>\n",
              "      <td>...</td>\n",
              "    </tr>\n",
              "    <tr>\n",
              "      <th>1358</th>\n",
              "      <td>uses</td>\n",
              "      <td>multiaut_polish2</td>\n",
              "      <td>Jakie jest zaskakujące zastosowanie dla PUSZKI?</td>\n",
              "      <td>puszka</td>\n",
              "      <td>Jako popielniczkę</td>\n",
              "      <td>multiaut_polish2_puszka-c0cba8</td>\n",
              "      <td>1.000000</td>\n",
              "      <td>multiaut_polish2105584</td>\n",
              "      <td>1</td>\n",
              "      <td>pol</td>\n",
              "      <td>2</td>\n",
              "      <td>0.000000</td>\n",
              "    </tr>\n",
              "    <tr>\n",
              "      <th>1353</th>\n",
              "      <td>uses</td>\n",
              "      <td>multiaut_polish2</td>\n",
              "      <td>Jakie jest zaskakujące zastosowanie dla PUSZKI?</td>\n",
              "      <td>puszka</td>\n",
              "      <td>popielniczka</td>\n",
              "      <td>multiaut_polish2_puszka-80b0eb</td>\n",
              "      <td>1.000000</td>\n",
              "      <td>multiaut_polish2104698</td>\n",
              "      <td>1</td>\n",
              "      <td>pol</td>\n",
              "      <td>2</td>\n",
              "      <td>0.000000</td>\n",
              "    </tr>\n",
              "    <tr>\n",
              "      <th>1351</th>\n",
              "      <td>uses</td>\n",
              "      <td>multiaut_polish2</td>\n",
              "      <td>Jakie jest zaskakujące zastosowanie dla PUSZKI?</td>\n",
              "      <td>puszka</td>\n",
              "      <td>popielniczkę</td>\n",
              "      <td>multiaut_polish2_puszka-16da0d</td>\n",
              "      <td>1.000000</td>\n",
              "      <td>multiaut_polish2104259</td>\n",
              "      <td>3</td>\n",
              "      <td>pol</td>\n",
              "      <td>2</td>\n",
              "      <td>0.000000</td>\n",
              "    </tr>\n",
              "    <tr>\n",
              "      <th>2718</th>\n",
              "      <td>uses</td>\n",
              "      <td>multiaut_polish2</td>\n",
              "      <td>Jakie jest zaskakujące zastosowanie dla CEGŁY?</td>\n",
              "      <td>cegła</td>\n",
              "      <td>do budowy</td>\n",
              "      <td>multiaut_polish2_cegła-4d8edd</td>\n",
              "      <td>1.000000</td>\n",
              "      <td>multiaut_polish2386928</td>\n",
              "      <td>1</td>\n",
              "      <td>pol</td>\n",
              "      <td>3</td>\n",
              "      <td>0.000000</td>\n",
              "    </tr>\n",
              "    <tr>\n",
              "      <th>1158</th>\n",
              "      <td>uses</td>\n",
              "      <td>multiaut_polish2</td>\n",
              "      <td>Jakie jest zaskakujące zastosowanie dla PUSZKI?</td>\n",
              "      <td>puszka</td>\n",
              "      <td>pojemnik</td>\n",
              "      <td>multiaut_polish2_puszka-10e708</td>\n",
              "      <td>1.000000</td>\n",
              "      <td>multiaut_polish260928</td>\n",
              "      <td>2</td>\n",
              "      <td>pol</td>\n",
              "      <td>2</td>\n",
              "      <td>0.000000</td>\n",
              "    </tr>\n",
              "  </tbody>\n",
              "</table>\n",
              "<p>3054 rows × 12 columns</p>\n",
              "</div>"
            ],
            "text/plain": [
              "      type               src                                         question  \\\n",
              "1815  uses  multiaut_polish2  Jakie jest zaskakujące zastosowanie dla PUSZKI?   \n",
              "1295  uses  multiaut_polish2  Jakie jest zaskakujące zastosowanie dla PUSZKI?   \n",
              "1908  uses  multiaut_polish2  Jakie jest zaskakujące zastosowanie dla PUSZKI?   \n",
              "1084  uses  multiaut_polish2  Jakie jest zaskakujące zastosowanie dla PUSZKI?   \n",
              "1642  uses  multiaut_polish2  Jakie jest zaskakujące zastosowanie dla PUSZKI?   \n",
              "...    ...               ...                                              ...   \n",
              "1358  uses  multiaut_polish2  Jakie jest zaskakujące zastosowanie dla PUSZKI?   \n",
              "1353  uses  multiaut_polish2  Jakie jest zaskakujące zastosowanie dla PUSZKI?   \n",
              "1351  uses  multiaut_polish2  Jakie jest zaskakujące zastosowanie dla PUSZKI?   \n",
              "2718  uses  multiaut_polish2   Jakie jest zaskakujące zastosowanie dla CEGŁY?   \n",
              "1158  uses  multiaut_polish2  Jakie jest zaskakujące zastosowanie dla PUSZKI?   \n",
              "\n",
              "      prompt                                           response  \\\n",
              "1815  puszka                                do zbudowania tłoka   \n",
              "1295  puszka                               jako masażer do stóp   \n",
              "1908  puszka         można z kilku puszek zrobi pas kuloodporny   \n",
              "1084  puszka  Odpowiesnio przygotowana pozwala na konstrukcj...   \n",
              "1642  puszka  jak się włoży głośniczek do środka to wzmacnia...   \n",
              "...      ...                                                ...   \n",
              "1358  puszka                                  Jako popielniczkę   \n",
              "1353  puszka                                       popielniczka   \n",
              "1351  puszka                                       popielniczkę   \n",
              "2718   cegła                                          do budowy   \n",
              "1158  puszka                                           pojemnik   \n",
              "\n",
              "                                  id    target             participant  \\\n",
              "1815  multiaut_polish2_puszka-7374fb  5.000000  multiaut_polish2423427   \n",
              "1295  multiaut_polish2_puszka-30158a  5.000000   multiaut_polish291370   \n",
              "1908  multiaut_polish2_puszka-006bb5  5.000000  multiaut_polish2450763   \n",
              "1084  multiaut_polish2_puszka-bc3c91  4.666667   multiaut_polish230277   \n",
              "1642  multiaut_polish2_puszka-b71196  4.666667  multiaut_polish2372153   \n",
              "...                              ...       ...                     ...   \n",
              "1358  multiaut_polish2_puszka-c0cba8  1.000000  multiaut_polish2105584   \n",
              "1353  multiaut_polish2_puszka-80b0eb  1.000000  multiaut_polish2104698   \n",
              "1351  multiaut_polish2_puszka-16da0d  1.000000  multiaut_polish2104259   \n",
              "2718   multiaut_polish2_cegła-4d8edd  1.000000  multiaut_polish2386928   \n",
              "1158  multiaut_polish2_puszka-10e708  1.000000   multiaut_polish260928   \n",
              "\n",
              "      response_num language  rater_count  rating_std  \n",
              "1815             1      pol            2    0.000000  \n",
              "1295             6      pol            2    0.000000  \n",
              "1908             4      pol            2    0.000000  \n",
              "1084             3      pol            2    0.707107  \n",
              "1642             5      pol            2    0.707107  \n",
              "...            ...      ...          ...         ...  \n",
              "1358             1      pol            2    0.000000  \n",
              "1353             1      pol            2    0.000000  \n",
              "1351             3      pol            2    0.000000  \n",
              "2718             1      pol            3    0.000000  \n",
              "1158             2      pol            2    0.000000  \n",
              "\n",
              "[3054 rows x 12 columns]"
            ]
          },
          "execution_count": 19,
          "metadata": {},
          "output_type": "execute_result"
        }
      ],
      "source": [
        "pd.read_csv('../data/datasets/multiaut_polish2.csv').sort_values('target', ascending=False)"
      ]
    },
    {
      "cell_type": "code",
      "execution_count": 20,
      "metadata": {},
      "outputs": [
        {
          "name": "stdout",
          "output_type": "stream",
          "text": [
            "Total number of rows 162872\n"
          ]
        },
        {
          "data": {
            "text/plain": [
              "uses            140193\n",
              "instances         8572\n",
              "consequences      6561\n",
              "metaphors         4589\n",
              "completion        2957\n",
              "Name: type, dtype: int64"
            ]
          },
          "metadata": {},
          "output_type": "display_data"
        }
      ],
      "source": [
        "from pathlib import Path\n",
        "all = pd.concat([pd.read_csv(x) for x in Path('../data/datasets/').glob('*csv')])\n",
        "print(\"Total number of rows\", len(all))\n",
        "display(all['type'].value_counts())"
      ]
    },
    {
      "cell_type": "code",
      "execution_count": 22,
      "metadata": {},
      "outputs": [
        {
          "data": {
            "text/plain": [
              "src                type        \n",
              "multiaut_chinese1  uses            14176\n",
              "multiaut_dutch1    uses            10549\n",
              "multiaut_german1   uses             8116\n",
              "multiaut_german3   uses             8065\n",
              "transdis           uses             8007\n",
              "multiaut_polish1   uses             7415\n",
              "multiaut_italian2  uses             6895\n",
              "setal08            uses             5582\n",
              "h18                uses             5582\n",
              "dod20              uses             5490\n",
              "dbc23              metaphors        4589\n",
              "multiaut_italian1  uses             4269\n",
              "snbmo09            uses             4099\n",
              "hmsl               uses             3843\n",
              "multiaut_english2  uses             3723\n",
              "multiaut_german2   uses             3530\n",
              "multiaut_english6  uses             3425\n",
              "multiaut_english3  uses             3225\n",
              "h18                consequences     3198\n",
              "setal08            consequences     3198\n",
              "multiaut_polish2   uses             3054\n",
              "betal18            uses             2918\n",
              "motesf             uses             2913\n",
              "                   instances        2889\n",
              "                   completion       2761\n",
              "multiaut_spanish1  uses             2735\n",
              "h18                instances        2710\n",
              "setal08            instances        2710\n",
              "multiaut_dutch4    uses             2414\n",
              "snb17              uses             2372\n",
              "multiaut_french4   uses             2332\n",
              "multiaut_french3   uses             2181\n",
              "multiaut_hebrew1   uses             2027\n",
              "bs12               uses             1807\n",
              "multiaut_russian1  uses             1728\n",
              "multiaut_dutch2    uses             1640\n",
              "multiaut_arabic1   uses             1524\n",
              "multiaut_chinese2  uses             1302\n",
              "hass17             uses             1093\n",
              "multiaut_dutch3    uses             1004\n",
              "multiaut_french2   uses              449\n",
              "multiaut_russian2  uses              370\n",
              "motesp             uses              339\n",
              "                   instances         263\n",
              "                   completion        196\n",
              "                   consequences      165\n",
              "dtype: int64"
            ]
          },
          "execution_count": 22,
          "metadata": {},
          "output_type": "execute_result"
        }
      ],
      "source": [
        "all.groupby(['src', 'type']).size().sort_values(ascending=False)"
      ]
    }
  ],
  "metadata": {
    "colab": {
      "authorship_tag": "ABX9TyP/4DeAWbHGaXxKUYl0C2Du",
      "collapsed_sections": [
        "zltQcwkXeRvk",
        "vJqyd2UHDCMZ",
        "UH3yOwIon4Ky",
        "VgNoUTqg_dQb",
        "laa40OuiNV2X",
        "8H-WPj9MeGrS",
        "9mbZjzsjIuW8"
      ],
      "include_colab_link": true,
      "mount_file_id": "1bZ0PDifSqhWhAUwuLK4BCt0Mke50ww-Q",
      "provenance": []
    },
    "kernelspec": {
      "display_name": "Python 3",
      "name": "python3"
    },
    "language_info": {
      "codemirror_mode": {
        "name": "ipython",
        "version": 3
      },
      "file_extension": ".py",
      "mimetype": "text/x-python",
      "name": "python",
      "nbconvert_exporter": "python",
      "pygments_lexer": "ipython3",
      "version": "3.9.18"
    }
  },
  "nbformat": 4,
  "nbformat_minor": 0
}
