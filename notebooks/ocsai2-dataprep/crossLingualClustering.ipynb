{
 "cells": [
  {
   "cell_type": "code",
   "execution_count": 1,
   "metadata": {},
   "outputs": [],
   "source": [
    "%load_ext autoreload\n",
    "%autoreload 2"
   ]
  },
  {
   "cell_type": "code",
   "execution_count": 2,
   "metadata": {},
   "outputs": [],
   "source": [
    "import pandas as pd\n",
    "import numpy as np\n",
    "from pathlib import Path\n",
    "from tqdm.auto import tqdm"
   ]
  },
  {
   "cell_type": "markdown",
   "metadata": {},
   "source": [
    "The input dataset is a long-format dataframe, with headings including type (type of test, like ‘uses’ for alternate uses task), src (a dataset id), question (a long version of the prompt that the participant responded to), prompt (a short version of the prompt), response (the participant’s input), id, and language (3-character ISO). For example:"
   ]
  },
  {
   "cell_type": "code",
   "execution_count": 3,
   "metadata": {},
   "outputs": [
    {
     "name": "stderr",
     "output_type": "stream",
     "text": [
      "/tmp/ipykernel_8924/609667624.py:3: DtypeWarning: Columns (8) have mixed types. Specify dtype option on import or set low_memory=False.\n",
      "  data = pd.read_csv(root_dir / 'ocsai-all.csv')\n"
     ]
    },
    {
     "data": {
      "text/html": [
       "<div>\n",
       "<style scoped>\n",
       "    .dataframe tbody tr th:only-of-type {\n",
       "        vertical-align: middle;\n",
       "    }\n",
       "\n",
       "    .dataframe tbody tr th {\n",
       "        vertical-align: top;\n",
       "    }\n",
       "\n",
       "    .dataframe thead th {\n",
       "        text-align: right;\n",
       "    }\n",
       "</style>\n",
       "<table border=\"1\" class=\"dataframe\">\n",
       "  <thead>\n",
       "    <tr style=\"text-align: right;\">\n",
       "      <th></th>\n",
       "      <th>type</th>\n",
       "      <th>src</th>\n",
       "      <th>question</th>\n",
       "      <th>prompt</th>\n",
       "      <th>response</th>\n",
       "      <th>id</th>\n",
       "      <th>target</th>\n",
       "      <th>participant</th>\n",
       "      <th>response_num</th>\n",
       "      <th>language</th>\n",
       "      <th>rater_count</th>\n",
       "      <th>rating_std</th>\n",
       "      <th>dupe_control</th>\n",
       "      <th>participant_list</th>\n",
       "      <th>default_split</th>\n",
       "      <th>prompt_split</th>\n",
       "      <th>lang_split</th>\n",
       "      <th>type_split</th>\n",
       "    </tr>\n",
       "  </thead>\n",
       "  <tbody>\n",
       "    <tr>\n",
       "      <th>17024</th>\n",
       "      <td>uses</td>\n",
       "      <td>multiaut_chinese1</td>\n",
       "      <td>领带的一个令人惊讶的用途是什么？</td>\n",
       "      <td>领带</td>\n",
       "      <td>束紧带</td>\n",
       "      <td>multiaut_chinese1_领带-eba2e8</td>\n",
       "      <td>2.6</td>\n",
       "      <td>multiaut_chinese11071</td>\n",
       "      <td>NaN</td>\n",
       "      <td>chi</td>\n",
       "      <td>4</td>\n",
       "      <td>0.000000</td>\n",
       "      <td>束紧带</td>\n",
       "      <td>['multiaut_chinese11071']</td>\n",
       "      <td>train</td>\n",
       "      <td>train</td>\n",
       "      <td>val</td>\n",
       "      <td>train</td>\n",
       "    </tr>\n",
       "    <tr>\n",
       "      <th>80346</th>\n",
       "      <td>uses</td>\n",
       "      <td>multiaut_german3</td>\n",
       "      <td>Was ist eine überraschende Verwendung für eine...</td>\n",
       "      <td>Schrank</td>\n",
       "      <td>mit versteckter hintertür als eingang zu einem...</td>\n",
       "      <td>multiaut_german3_Schrank-279d68</td>\n",
       "      <td>3.3</td>\n",
       "      <td>multiaut_german331</td>\n",
       "      <td>49</td>\n",
       "      <td>ger</td>\n",
       "      <td>3</td>\n",
       "      <td>0.577350</td>\n",
       "      <td>als einem eingang geheimort hintertur mit vers...</td>\n",
       "      <td>['multiaut_german331']</td>\n",
       "      <td>test</td>\n",
       "      <td>test</td>\n",
       "      <td>test</td>\n",
       "      <td>train</td>\n",
       "    </tr>\n",
       "    <tr>\n",
       "      <th>29472</th>\n",
       "      <td>consequences</td>\n",
       "      <td>h18/setal08</td>\n",
       "      <td>What would be a surprising consequence if PEOP...</td>\n",
       "      <td>no sleep</td>\n",
       "      <td>another meal time introduced other than lunch ...</td>\n",
       "      <td>4bb0376bfd01474e6374e4597e46a92c</td>\n",
       "      <td>2.7</td>\n",
       "      <td>COMBINED_4bb0376bfd01474e6374e4597e46a92c</td>\n",
       "      <td>NaN</td>\n",
       "      <td>eng</td>\n",
       "      <td>6</td>\n",
       "      <td>1.527525</td>\n",
       "      <td>another dinner etc introduced lunch meal other...</td>\n",
       "      <td>['setal08176', 'h18176']</td>\n",
       "      <td>train</td>\n",
       "      <td>val</td>\n",
       "      <td>NaN</td>\n",
       "      <td>test</td>\n",
       "    </tr>\n",
       "    <tr>\n",
       "      <th>32198</th>\n",
       "      <td>instances</td>\n",
       "      <td>motesf</td>\n",
       "      <td>What is a surprising example of something SMELLY?</td>\n",
       "      <td>smelly</td>\n",
       "      <td>Dogs in mud.</td>\n",
       "      <td>motesf_smelly-52279b</td>\n",
       "      <td>3.0</td>\n",
       "      <td>motesf6f4922</td>\n",
       "      <td>5.0</td>\n",
       "      <td>eng</td>\n",
       "      <td>5</td>\n",
       "      <td>0.000000</td>\n",
       "      <td>dogs in mud</td>\n",
       "      <td>['motesf6f4922']</td>\n",
       "      <td>train</td>\n",
       "      <td>train</td>\n",
       "      <td>NaN</td>\n",
       "      <td>test</td>\n",
       "    </tr>\n",
       "    <tr>\n",
       "      <th>21643</th>\n",
       "      <td>uses</td>\n",
       "      <td>multiaut_dutch1</td>\n",
       "      <td>Wat is een verrassend gebruik voor een VORK?</td>\n",
       "      <td>vork</td>\n",
       "      <td>veters uit de knoop halen</td>\n",
       "      <td>multiaut_dutch1_vork-3c34bc</td>\n",
       "      <td>3.8</td>\n",
       "      <td>multiaut_dutch1718</td>\n",
       "      <td>NaN</td>\n",
       "      <td>dut</td>\n",
       "      <td>2</td>\n",
       "      <td>0.707107</td>\n",
       "      <td>de halen knoop uit veters</td>\n",
       "      <td>['multiaut_dutch1718']</td>\n",
       "      <td>train</td>\n",
       "      <td>train</td>\n",
       "      <td>val</td>\n",
       "      <td>train</td>\n",
       "    </tr>\n",
       "  </tbody>\n",
       "</table>\n",
       "</div>"
      ],
      "text/plain": [
       "               type                src  \\\n",
       "17024          uses  multiaut_chinese1   \n",
       "80346          uses   multiaut_german3   \n",
       "29472  consequences        h18/setal08   \n",
       "32198     instances             motesf   \n",
       "21643          uses    multiaut_dutch1   \n",
       "\n",
       "                                                question    prompt  \\\n",
       "17024                                   领带的一个令人惊讶的用途是什么？        领带   \n",
       "80346  Was ist eine überraschende Verwendung für eine...   Schrank   \n",
       "29472  What would be a surprising consequence if PEOP...  no sleep   \n",
       "32198  What is a surprising example of something SMELLY?    smelly   \n",
       "21643       Wat is een verrassend gebruik voor een VORK?      vork   \n",
       "\n",
       "                                                response  \\\n",
       "17024                                                束紧带   \n",
       "80346  mit versteckter hintertür als eingang zu einem...   \n",
       "29472  another meal time introduced other than lunch ...   \n",
       "32198                                       Dogs in mud.   \n",
       "21643                          veters uit de knoop halen   \n",
       "\n",
       "                                     id  target  \\\n",
       "17024       multiaut_chinese1_领带-eba2e8     2.6   \n",
       "80346   multiaut_german3_Schrank-279d68     3.3   \n",
       "29472  4bb0376bfd01474e6374e4597e46a92c     2.7   \n",
       "32198              motesf_smelly-52279b     3.0   \n",
       "21643       multiaut_dutch1_vork-3c34bc     3.8   \n",
       "\n",
       "                                     participant response_num language  \\\n",
       "17024                      multiaut_chinese11071          NaN      chi   \n",
       "80346                         multiaut_german331           49      ger   \n",
       "29472  COMBINED_4bb0376bfd01474e6374e4597e46a92c          NaN      eng   \n",
       "32198                               motesf6f4922          5.0      eng   \n",
       "21643                         multiaut_dutch1718          NaN      dut   \n",
       "\n",
       "       rater_count  rating_std  \\\n",
       "17024            4    0.000000   \n",
       "80346            3    0.577350   \n",
       "29472            6    1.527525   \n",
       "32198            5    0.000000   \n",
       "21643            2    0.707107   \n",
       "\n",
       "                                            dupe_control  \\\n",
       "17024                                                束紧带   \n",
       "80346  als einem eingang geheimort hintertur mit vers...   \n",
       "29472  another dinner etc introduced lunch meal other...   \n",
       "32198                                        dogs in mud   \n",
       "21643                          de halen knoop uit veters   \n",
       "\n",
       "                participant_list default_split prompt_split lang_split  \\\n",
       "17024  ['multiaut_chinese11071']         train        train        val   \n",
       "80346     ['multiaut_german331']          test         test       test   \n",
       "29472   ['setal08176', 'h18176']         train          val        NaN   \n",
       "32198           ['motesf6f4922']         train        train        NaN   \n",
       "21643     ['multiaut_dutch1718']         train        train        val   \n",
       "\n",
       "      type_split  \n",
       "17024      train  \n",
       "80346      train  \n",
       "29472       test  \n",
       "32198       test  \n",
       "21643      train  "
      ]
     },
     "execution_count": 3,
     "metadata": {},
     "output_type": "execute_result"
    }
   ],
   "source": [
    "root_dir = '/mnt/chromeos/GoogleDrive/MyDrive/Projects/ocsai-py/data/'\n",
    "root_dir = Path(root_dir)\n",
    "data = pd.read_csv(root_dir / 'ocsai-all.csv')\n",
    "data.sample(5)"
   ]
  },
  {
   "cell_type": "code",
   "execution_count": 4,
   "metadata": {},
   "outputs": [
    {
     "data": {
      "text/plain": [
       "['eng', 'chi', 'ger', 'ita', 'pol', 'dut', 'fre', 'rus', 'ara', 'heb', 'spa']"
      ]
     },
     "execution_count": 4,
     "metadata": {},
     "output_type": "execute_result"
    }
   ],
   "source": [
    "# Top Languages\n",
    "data.language.value_counts().index.to_list()"
   ]
  },
  {
   "cell_type": "markdown",
   "metadata": {},
   "source": [
    "Step 1 is to translate all unique prompt/question pairs to the selected translation languages, and save that key for lookup later. One way of doing so is to prepare a JSON in the following format, where the values are null for all cases except the original phrase. e.g.\n",
    "\n",
    "```\n",
    "[\n",
    "{’lang’: ‘eng’, ‘question’: null, ‘prompt’: null }\n",
    "{’lang’: ‘ara’, ‘question’: null, ‘prompt’: null }\n",
    "{’lang’: ‘pol’, ‘question’: ‘QUESTION TEXT TO TRANSLATE’, ‘prompt’: ‘PROMPT TEXT TO TRANSLATE’ }\n",
    "]\n",
    "```\n",
    "\n",
    "Then a language model is asked to fill in all the *other* values.\n",
    "\n",
    "That data is loaded as a DataFrame. This step is done so that the questions are consistent, by not being translated over and over again."
   ]
  },
  {
   "cell_type": "code",
   "execution_count": 5,
   "metadata": {},
   "outputs": [],
   "source": [
    "import json"
   ]
  },
  {
   "cell_type": "code",
   "execution_count": 7,
   "metadata": {},
   "outputs": [
    {
     "data": {
      "text/plain": [
       "[{'language': 'spa',\n",
       "  'question': '¿Cuál es un uso sorprendente para un LADRILLO?',\n",
       "  'prompt': 'ladrillo'},\n",
       " {'language': 'eng', 'question': None, 'prompt': None},\n",
       " {'language': 'pol', 'question': None, 'prompt': None}]"
      ]
     },
     "execution_count": 7,
     "metadata": {},
     "output_type": "execute_result"
    }
   ],
   "source": [
    "languages = ['eng', 'chi', 'ger', 'ita', 'pol', 'dut', 'fre', 'rus', 'ara', 'heb', 'spa']\n",
    "\n",
    "unique_pairs = data[['language', 'question', 'prompt']].drop_duplicates().reset_index(drop=True)\n",
    "\n",
    "for index, row in unique_pairs.iterrows():\n",
    "    # if select 1 random l\n",
    "    other_langs = [l for l in languages if l != row['language']]\n",
    "    selected_langs = [row['language']]\n",
    "    if row['language'] == 'eng':\n",
    "        selected_langs += list(np.random.choice(other_langs, 2))\n",
    "    else:\n",
    "        selected_langs += ['eng', np.random.choice(other_langs[1:])]\n",
    "\n",
    "    translation_template = []\n",
    "    for lang in selected_langs:\n",
    "        if lang == row['language']:\n",
    "            item = row.to_dict()\n",
    "        else:\n",
    "            item = {'language': lang,\n",
    "                    'question': None,\n",
    "                    'prompt': None\n",
    "                    }\n",
    "        translation_template.append(item)\n",
    "        \n",
    "    #print(json.translation_template)\n",
    "    #translations[languages.index(original_lang)]['question'] = row['question']\n",
    "    #translations[languages.index(original_lang)]['prompt'] = row['prompt']\n",
    "translation_template"
   ]
  },
  {
   "cell_type": "code",
   "execution_count": 8,
   "metadata": {},
   "outputs": [],
   "source": [
    "import textwrap\n",
    "from ocsai.prompt.utils import strip_backticks\n",
    "from ocsai.utils import generic_llm\n",
    "import anthropic\n",
    "client = anthropic.Anthropic()"
   ]
  },
  {
   "cell_type": "code",
   "execution_count": 14,
   "metadata": {},
   "outputs": [
    {
     "data": {
      "text/plain": [
       "[{'language': 'spa',\n",
       "  'question': '¿Cuál es un uso sorprendente para un LADRILLO?',\n",
       "  'prompt': 'ladrillo'},\n",
       " {'language': 'eng',\n",
       "  'question': 'What is a surprising use for a BRICK?',\n",
       "  'prompt': 'brick'},\n",
       " {'language': 'pol',\n",
       "  'question': 'Jakie jest zaskakujące zastosowanie CEGŁY?',\n",
       "  'prompt': 'cegła'}]"
      ]
     },
     "execution_count": 14,
     "metadata": {},
     "output_type": "execute_result"
    }
   ],
   "source": [
    "def translate_question(questions_dict,\n",
    "                       model:str='claude-3-sonnet-20240229',\n",
    "                       temperature:float=0.0,\n",
    "                       max_tokens:int=4000,\n",
    "                       ):\n",
    "    qstr = json.dumps(questions_dict, indent=2, ensure_ascii=False)\n",
    "    prompt = textwrap.dedent(f\"\"\"\n",
    "    The following JSON of translated creativity test questions is missing \n",
    "    information. Translate the fields with `null` into the specified language,\n",
    "    translating from the first item. Respond with the full JSON object, wrapped in triple backticks.\n",
    "\n",
    "    Input data:\n",
    "    ```\n",
    "    {qstr}\n",
    "    ```\n",
    "\n",
    "    \"\"\").strip()\n",
    "    \n",
    "    content = generic_llm(\n",
    "        prompt,\n",
    "        sysmsg=\"You translate the missing fields in a JSON object into various languages.\",\n",
    "        model=model,\n",
    "        client=client,\n",
    "        temperature=temperature,\n",
    "        max_tokens=max_tokens\n",
    "    )\n",
    "    return content\n",
    "\n",
    "\n",
    "#response = translate_question(translation_template)\n",
    "#translated = json.loads(strip_backticks(response))\n",
    "translated\n"
   ]
  },
  {
   "cell_type": "code",
   "execution_count": 9,
   "metadata": {},
   "outputs": [
    {
     "ename": "ValueError",
     "evalue": "'ما هو الاستخدام المفاجئ لـ علب الصفيح؟' is not in list",
     "output_type": "error",
     "traceback": [
      "\u001b[0;31m---------------------------------------------------------------------------\u001b[0m",
      "\u001b[0;31mValueError\u001b[0m                                Traceback (most recent call last)",
      "Cell \u001b[0;32mIn[9], line 10\u001b[0m\n\u001b[1;32m      8\u001b[0m translations \u001b[38;5;241m=\u001b[39m [{\u001b[38;5;124m'\u001b[39m\u001b[38;5;124mlang\u001b[39m\u001b[38;5;124m'\u001b[39m: lang, \u001b[38;5;124m'\u001b[39m\u001b[38;5;124mquestion\u001b[39m\u001b[38;5;124m'\u001b[39m: \u001b[38;5;28;01mNone\u001b[39;00m, \u001b[38;5;124m'\u001b[39m\u001b[38;5;124mprompt\u001b[39m\u001b[38;5;124m'\u001b[39m: \u001b[38;5;28;01mNone\u001b[39;00m} \u001b[38;5;28;01mfor\u001b[39;00m lang \u001b[38;5;129;01min\u001b[39;00m languages]\n\u001b[1;32m      9\u001b[0m original_lang \u001b[38;5;241m=\u001b[39m row[\u001b[38;5;124m'\u001b[39m\u001b[38;5;124mquestion\u001b[39m\u001b[38;5;124m'\u001b[39m]\n\u001b[0;32m---> 10\u001b[0m translations[\u001b[43mlanguages\u001b[49m\u001b[38;5;241;43m.\u001b[39;49m\u001b[43mindex\u001b[49m\u001b[43m(\u001b[49m\u001b[43moriginal_lang\u001b[49m\u001b[43m)\u001b[49m][\u001b[38;5;124m'\u001b[39m\u001b[38;5;124mquestion\u001b[39m\u001b[38;5;124m'\u001b[39m] \u001b[38;5;241m=\u001b[39m row[\u001b[38;5;124m'\u001b[39m\u001b[38;5;124mquestion\u001b[39m\u001b[38;5;124m'\u001b[39m]\n\u001b[1;32m     11\u001b[0m translations[languages\u001b[38;5;241m.\u001b[39mindex(original_lang)][\u001b[38;5;124m'\u001b[39m\u001b[38;5;124mprompt\u001b[39m\u001b[38;5;124m'\u001b[39m] \u001b[38;5;241m=\u001b[39m row[\u001b[38;5;124m'\u001b[39m\u001b[38;5;124mprompt\u001b[39m\u001b[38;5;124m'\u001b[39m]\n\u001b[1;32m     12\u001b[0m translation_template\u001b[38;5;241m.\u001b[39mappend(translations)\n",
      "\u001b[0;31mValueError\u001b[0m: 'ما هو الاستخدام المفاجئ لـ علب الصفيح؟' is not in list"
     ]
    }
   ],
   "source": [
    "translation_template = []\n",
    "for index, row in unique_pairs.iterrows():\n",
    "    translations = [{'lang': lang, 'question': None, 'prompt': None} for lang in languages]\n",
    "    original_lang = row['question']\n",
    "    translations[languages.index(original_lang)]['question'] = row['question']\n",
    "    translations[languages.index(original_lang)]['prompt'] = row['prompt']\n",
    "    translation_template.append(translations)\n",
    "\n",
    "# Convert to DataFrame for further processing\n",
    "translation_df = pd.DataFrame(translation_template)\n",
    "\n",
    "import json\n",
    "# Save to JSON file\n",
    "#with open('translation_template.json', 'w') as file:\n",
    "#    json.dump(translation_template, file, ensure_ascii=False, indent=4)\n",
    "\n",
    "# Display the prepared DataFrame\n",
    "#import ace_tools as tools; tools.display_dataframe_to_user(name=\"Unique Prompt/Question Pairs for Translation\", dataframe=unique_pairs)"
   ]
  },
  {
   "cell_type": "code",
   "execution_count": null,
   "metadata": {},
   "outputs": [],
   "source": [
    "other_langs = [l for l in languages if l != row['language']]\n",
    "    selected_langs = [row['language']]\n",
    "    if row['language'] == 'eng':\n",
    "        selected_langs += list(np.random.choice(other_langs, 2))\n",
    "    else:\n",
    "        selected_langs += ['eng', np.random.choice(other_langs[1:])]"
   ]
  }
 ],
 "metadata": {
  "kernelspec": {
   "display_name": "base",
   "language": "python",
   "name": "python3"
  },
  "language_info": {
   "codemirror_mode": {
    "name": "ipython",
    "version": 3
   },
   "file_extension": ".py",
   "mimetype": "text/x-python",
   "name": "python",
   "nbconvert_exporter": "python",
   "pygments_lexer": "ipython3",
   "version": "3.11.8"
  }
 },
 "nbformat": 4,
 "nbformat_minor": 2
}
